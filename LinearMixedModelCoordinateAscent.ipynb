{
 "cells": [
  {
   "cell_type": "code",
   "execution_count": 95,
   "metadata": {
    "collapsed": true
   },
   "outputs": [],
   "source": [
    "from VariationalBayes import ScalarParam, ModelParamsDict, VectorParam, PosDefMatrixParam\n",
    "from VariationalBayes.NormalParams import MVNParam, UVNParam, UVNParamVector\n",
    "from VariationalBayes.GammaParams import GammaParam\n",
    "from VariationalBayes.ExponentialFamilies import \\\n",
    "    UnivariateNormalEntropy, MultivariateNormalEntropy, GammaEntropy, MVNPrior, UVNPrior, GammaPrior\n",
    "\n",
    "from autograd import grad, hessian, jacobian, hessian_vector_product\n",
    "import autograd.numpy as np\n",
    "import autograd.numpy.random as npr\n",
    "import autograd.scipy as asp\n",
    "import scipy as sp\n",
    "\n",
    "import copy\n",
    "from scipy import optimize\n",
    "\n",
    "import time"
   ]
  },
  {
   "cell_type": "code",
   "execution_count": 2,
   "metadata": {},
   "outputs": [
    {
     "name": "stdout",
     "output_type": "stream",
     "text": [
      "[-0.06650469 -0.5659361  -2.25933117 ..., -0.25761944 -0.54721549\n",
      "  0.82744356]\n",
      "250000\n"
     ]
    }
   ],
   "source": [
    "# Load data saved by stan_results_to_json.R and run_stan.R in LRVBLogitGLMM.\n",
    "import os\n",
    "import json\n",
    "\n",
    "simulate_data = False\n",
    "prior_par = ModelParamsDict('Prior Parameters')\n",
    "\n",
    "# Simulate data\n",
    "N = 500     # observations per group\n",
    "K = 5      # dimension of regressors\n",
    "NG = 500      # number of groups\n",
    "\n",
    "# Generate data\n",
    "NObs = NG * N\n",
    "true_beta = np.array(range(5))\n",
    "true_beta = true_beta - np.mean(true_beta)\n",
    "true_y_info = 1.0\n",
    "\n",
    "true_mu = 0.0\n",
    "true_mu_info = 40.0\n",
    "true_u = np.random.normal(true_mu, 1 / np.sqrt(true_mu_info), NG)\n",
    "\n",
    "x_mat = np.random.random(K * NObs).reshape(NObs, K) - 0.5\n",
    "y_g_vec = np.array([ g for g in range(NG) for n in range(N) ])\n",
    "true_mean = np.matmul(x_mat, true_beta) + true_u[y_g_vec]\n",
    "print true_mean\n",
    "y_vec = np.random.normal(true_mean, 1 / np.sqrt(true_y_info), NG * N)\n",
    "\n",
    "prior_par.push_param(VectorParam('beta_mean', K, val=np.full(K, 0.0)))\n",
    "prior_par.push_param(PosDefMatrixParam('beta_info', K, val=0.01 * np.eye(K)))\n",
    "\n",
    "prior_par.push_param(ScalarParam('mu_mean', val=0.))\n",
    "prior_par.push_param(ScalarParam('mu_info', val=0.5))\n",
    "\n",
    "prior_par.push_param(ScalarParam('mu_info_shape', val=0.5))\n",
    "prior_par.push_param(ScalarParam('mu_info_rate', val=0.5))\n",
    "\n",
    "prior_par.push_param(ScalarParam('y_info_shape', val=0.0))\n",
    "prior_par.push_param(ScalarParam('y_info_rate', val=10.0))\n",
    "\n",
    "print N * NG"
   ]
  },
  {
   "cell_type": "code",
   "execution_count": 91,
   "metadata": {},
   "outputs": [],
   "source": [
    "# Build an object to contain a variational approximation to a K-dimensional multivariate normal.\n",
    "\n",
    "# ADVI-style, we will represent each parameter as a univariate normal.\n",
    "# Note: you need to include the Jacobian of the transform because the log prior is not a density\n",
    "# with respect to the transformed space.\n",
    "lmm_par = ModelParamsDict('LMM Parameters')\n",
    "\n",
    "lmm_par.push_param(MVNParam('beta', K))\n",
    "lmm_par.push_param(UVNParam('mu'))\n",
    "lmm_par.push_param(GammaParam('mu_info'))\n",
    "lmm_par.push_param(GammaParam('y_info'))\n",
    "lmm_par.push_param(UVNParamVector('u', NG))\n",
    "\n",
    "lmm_par['beta'].mean.set(np.full(K, -0.2))\n",
    "lmm_par['beta'].info.set(np.eye(K))\n",
    "\n",
    "lmm_par['mu'].mean.set(0.2)\n",
    "lmm_par['mu'].info.set(1.5)\n",
    "\n",
    "lmm_par['mu_info'].shape.set(2.3)\n",
    "lmm_par['mu_info'].rate.set(4.1)\n",
    "\n",
    "lmm_par['y_info'].shape.set(2.4)\n",
    "lmm_par['y_info'].rate.set(3.1)\n",
    "\n",
    "lmm_par['u'].mean.set(np.full(NG, -0.1))\n",
    "lmm_par['u'].info.set(np.full(NG, 0.8))\n",
    "\n",
    "free_par_vec = lmm_par.get_free()"
   ]
  },
  {
   "cell_type": "code",
   "execution_count": 93,
   "metadata": {},
   "outputs": [],
   "source": [
    "# Define moment parameters\n",
    "moment_par = ModelParamsDict('Moment Parameters')\n",
    "moment_par.push_param(VectorParam('e_beta', K))\n",
    "moment_par.push_param(PosDefMatrixParam('e_beta_outer', K))\n",
    "moment_par.push_param(ScalarParam('e_mu'))\n",
    "moment_par.push_param(ScalarParam('e_mu2'))\n",
    "moment_par.push_param(ScalarParam('e_mu_info'))\n",
    "moment_par.push_param(ScalarParam('e_log_mu_info'))\n",
    "moment_par.push_param(ScalarParam('e_y_info'))\n",
    "moment_par.push_param(ScalarParam('e_log_y_info'))\n",
    "moment_par.push_param(VectorParam('e_u', NG))\n",
    "moment_par.push_param(VectorParam('e_u2', NG))\n",
    "\n",
    "def set_moments(lmm_par, moment_par):\n",
    "    moment_par['e_beta'].set(lmm_par['beta'].e())\n",
    "    moment_par['e_beta_outer'].set(lmm_par['beta'].e_outer())\n",
    "    moment_par['e_mu'].set(lmm_par['mu'].e())\n",
    "    moment_par['e_mu2'].set(lmm_par['mu'].e_outer())\n",
    "    moment_par['e_u'].set(lmm_par['u'].e())\n",
    "    moment_par['e_u2'].set(lmm_par['u'].e_outer())\n",
    "    moment_par['e_mu_info'].set(lmm_par['mu_info'].e())\n",
    "    moment_par['e_log_mu_info'].set(lmm_par['mu_info'].e_log())\n",
    "    moment_par['e_y_info'].set(lmm_par['y_info'].e())\n",
    "    moment_par['e_log_y_info'].set(lmm_par['y_info'].e_log())\n",
    "    \n",
    "set_moments(lmm_par, moment_par)\n",
    "init_moment_par = copy.deepcopy(moment_par)\n",
    "\n",
    "# Moment indices.\n",
    "moment_indices = copy.deepcopy(moment_par)\n",
    "moment_indices.set_vector(1 + np.array(range(moment_indices.vector_size())))"
   ]
  },
  {
   "cell_type": "code",
   "execution_count": 21,
   "metadata": {},
   "outputs": [
    {
     "data": {
      "text/plain": [
       "-7.3371154669520351"
      ]
     },
     "execution_count": 21,
     "metadata": {},
     "output_type": "execute_result"
    }
   ],
   "source": [
    "def ExpectedLogPriorMoments(e_beta, e_beta_outer,\n",
    "                            e_mu, e_mu2,\n",
    "                            e_mu_info, e_log_mu_info,\n",
    "                            e_y_info, e_log_y_info,\n",
    "                            prior_par):\n",
    "    cov_beta = e_beta_outer - np.matmul(e_beta, e_beta.transpose())\n",
    "    var_mu = e_mu2 - e_mu**2\n",
    "\n",
    "    return \\\n",
    "        MVNPrior(prior_mean=prior_par['beta_mean'].get(),\n",
    "                 prior_info=prior_par['beta_info'].get(),\n",
    "                 e_obs=e_beta,\n",
    "                 cov_obs=cov_beta) + \\\n",
    "        UVNPrior(prior_mean=prior_par['mu_mean'].get(),\n",
    "                 prior_info=prior_par['mu_info'].get(),\n",
    "                 e_obs=e_mu,\n",
    "                 var_obs=var_mu) + \\\n",
    "        GammaPrior(prior_shape=prior_par['mu_info_shape'].get(),\n",
    "                   prior_rate=prior_par['mu_info_rate'].get(),\n",
    "                   e_obs=e_mu_info,\n",
    "                   e_log_obs=e_log_mu_info) + \\\n",
    "        GammaPrior(prior_shape=prior_par['y_info_shape'].get(),\n",
    "                   prior_rate=prior_par['y_info_rate'].get(),\n",
    "                   e_obs=e_y_info,\n",
    "                   e_log_obs=e_log_y_info)\n",
    "\n",
    "def ExpectedLogPrior(moment_par, prior_par):\n",
    "    e_beta = moment_par['e_beta'].get()\n",
    "    e_beta_outer = moment_par['e_beta_outer'].get()\n",
    "\n",
    "    e_mu = moment_par['e_mu'].get()\n",
    "    e_mu2 = moment_par['e_mu2'].get()\n",
    "    \n",
    "    e_mu_info = moment_par['e_mu_info'].get()\n",
    "    e_log_mu_info = moment_par['e_log_mu_info'].get()\n",
    "\n",
    "    e_y_info = moment_par['e_y_info'].get()\n",
    "    e_log_y_info = moment_par['e_log_y_info'].get()\n",
    "\n",
    "    return ExpectedLogPriorMoments(e_beta, e_beta_outer,\n",
    "                                   e_mu, e_mu2,\n",
    "                                   e_mu_info, e_log_mu_info,\n",
    "                                   e_y_info, e_log_y_info,\n",
    "                                   prior_par)\n",
    "\n",
    "ExpectedLogPrior(moment_par, prior_par)\n"
   ]
  },
  {
   "cell_type": "code",
   "execution_count": 22,
   "metadata": {},
   "outputs": [
    {
     "data": {
      "text/plain": [
       "-484.15953756421561"
      ]
     },
     "execution_count": 22,
     "metadata": {},
     "output_type": "execute_result"
    }
   ],
   "source": [
    "def ExpectedRandomEffectLogLikelihoodMoments(e_mu, e_mu2,\n",
    "                                             e_u, e_u2,\n",
    "                                             e_mu_info, e_log_mu_info):\n",
    "    return -0.5 * e_mu_info * np.sum(e_u2 - 2 * e_u * e_mu + e_mu2) + \\\n",
    "           0.5 * len(e_u) * e_log_mu_info\n",
    "\n",
    "\n",
    "def ExpectedRandomEffectLogLikelihood(moment_par):\n",
    "    e_mu = moment_par['e_mu'].get()\n",
    "    e_mu2 = moment_par['e_mu2'].get()\n",
    "\n",
    "    e_u = moment_par['e_u'].get()\n",
    "    e_u2 = moment_par['e_u2'].get()\n",
    "\n",
    "    e_mu_info = moment_par['e_mu_info'].get()\n",
    "    e_log_mu_info = moment_par['e_log_mu_info'].get()\n",
    "    \n",
    "    return ExpectedRandomEffectLogLikelihoodMoments(\n",
    "        e_mu, e_mu2, e_u, e_u2, e_mu_info, e_log_mu_info)\n",
    "\n",
    "ExpectedRandomEffectLogLikelihood(moment_par)"
   ]
  },
  {
   "cell_type": "code",
   "execution_count": 23,
   "metadata": {
    "collapsed": true
   },
   "outputs": [],
   "source": [
    "class DataCache(object):\n",
    "    def __init__(self, x_mat, y_vec, y_g_vec):\n",
    "        self.x_mat = x_mat\n",
    "        self.y_vec = y_vec\n",
    "        self.y_g_vec = y_g_vec\n",
    "        self.y_t_y = np.dot(np.transpose(y_vec), y_vec)\n",
    "        self.y_t_x = np.dot(np.transpose(y_vec), x_mat)\n",
    "        self.x_t_x = np.dot(np.transpose(x_mat), x_mat)\n",
    "        \n",
    "        num_g = np.max(y_g_vec)\n",
    "        k = x_mat.shape[1]\n",
    "        num_g = np.max(y_g_vec) + 1\n",
    "        self.num_g = num_g\n",
    "        self.n_g = np.full(num_g, 0.0)\n",
    "        self.y_sum_g = np.full(num_g, 0.0)\n",
    "        self.x_sum_g = np.full((num_g, k), 0.0)\n",
    "        for g in range(num_g):\n",
    "            g_rows = np.array(y_g_vec) == g\n",
    "            self.n_g[g] = np.sum(g_rows)\n",
    "            self.y_sum_g[g] = np.sum(y_vec[g_rows])\n",
    "            self.x_sum_g[g, :] = np.sum(x_mat[g_rows, :], 0)\n",
    "    \n",
    "data_cache = DataCache(x_mat, y_vec, y_g_vec)"
   ]
  },
  {
   "cell_type": "code",
   "execution_count": 25,
   "metadata": {},
   "outputs": [
    {
     "name": "stdout",
     "output_type": "stream",
     "text": [
      "-403062.254205\n"
     ]
    }
   ],
   "source": [
    "def ExpectedDataLogLikelihoodMoments(e_beta, e_beta_outer,\n",
    "                                     e_u, e_u2,\n",
    "                                     e_y_info, e_log_y_info,\n",
    "                                     data_cache):\n",
    "    ll_global_term = \\\n",
    "        data_cache.y_t_y + \\\n",
    "        -2 * np.matmul(data_cache.y_t_x, e_beta) + \\\n",
    "        np.trace(np.matmul(data_cache.x_t_x, e_beta_outer)) \n",
    "\n",
    "    ll_group_term = np.sum(\n",
    "        e_u2 * data_cache.n_g[g] + \\\n",
    "        -2 * e_u * data_cache.y_sum_g + \\\n",
    "        2 * e_u * np.matmul(data_cache.x_sum_g, e_beta))\n",
    "\n",
    "    return -0.5 * e_y_info * (ll_global_term + ll_group_term) + 0.5 * len(y_vec) * e_log_y_info\n",
    "\n",
    "\n",
    "def ExpectedDataLogLikelihood(data_cache, moment_par):\n",
    "    e_beta = moment_par['e_beta'].get()\n",
    "    e_beta_outer = moment_par['e_beta_outer'].get()\n",
    "    \n",
    "    e_u = moment_par['e_u'].get()\n",
    "    e_u2 = moment_par['e_u2'].get()\n",
    "    \n",
    "    e_y_info = moment_par['e_y_info'].get()\n",
    "    e_log_y_info = moment_par['e_log_y_info'].get()\n",
    "\n",
    "    return ExpectedDataLogLikelihoodMoments(\n",
    "        e_beta, e_beta_outer, e_u, e_u2, e_y_info, e_log_y_info, data_cache)\n"
   ]
  },
  {
   "cell_type": "code",
   "execution_count": 31,
   "metadata": {},
   "outputs": [
    {
     "data": {
      "text/plain": [
       "-403553.75085852057"
      ]
     },
     "execution_count": 31,
     "metadata": {},
     "output_type": "execute_result"
    }
   ],
   "source": [
    "def ELBODataTermMoments(e_beta, e_beta_outer,\n",
    "                        e_mu, e_mu2,\n",
    "                        e_mu_info, e_log_mu_info,\n",
    "                        e_y_info, e_log_y_info,\n",
    "                        e_u, e_u2,\n",
    "                        data_cache, prior_par):\n",
    "    \n",
    "    ll_data = ExpectedDataLogLikelihoodMoments(\n",
    "        e_beta, e_beta_outer, e_u, e_u2, e_y_info, e_log_y_info, data_cache)\n",
    "    if np.isnan(ll_data):\n",
    "        print 'bad data log likelihood'\n",
    "        return -np.inf\n",
    "\n",
    "    ll_rf = ExpectedRandomEffectLogLikelihoodMoments(\n",
    "        e_mu, e_mu2, e_u, e_u2, e_mu_info, e_log_mu_info)\n",
    "    if np.isnan(ll_rf):\n",
    "        print 'bad random effect log likelihood'\n",
    "        return -np.inf\n",
    "\n",
    "    e_log_prior = ExpectedLogPriorMoments(\n",
    "        e_beta, e_beta_outer, e_mu, e_mu2,\n",
    "        e_mu_info, e_log_mu_info, e_y_info, e_log_y_info, prior_par)\n",
    "    if np.isnan(e_log_prior):\n",
    "        print 'bad prior'\n",
    "        return -np.inf\n",
    "\n",
    "    return ll_data + ll_rf + e_log_prior\n",
    "\n",
    "def ELBODataTerm(data_cache, moment_par, prior_par):\n",
    "    e_beta = moment_par['e_beta'].get()\n",
    "    e_beta_outer = moment_par['e_beta_outer'].get()\n",
    "\n",
    "    e_u = moment_par['e_u'].get()\n",
    "    e_u2 = moment_par['e_u2'].get()\n",
    "\n",
    "    e_mu = moment_par['e_mu'].get()\n",
    "    e_mu2 = moment_par['e_mu2'].get()\n",
    "    \n",
    "    e_mu_info = moment_par['e_mu_info'].get()\n",
    "    e_log_mu_info = moment_par['e_log_mu_info'].get()\n",
    "\n",
    "    e_y_info = moment_par['e_y_info'].get()\n",
    "    e_log_y_info = moment_par['e_log_y_info'].get()\n",
    "    \n",
    "    return ELBODataTermMoments(\n",
    "        e_beta, e_beta_outer, e_mu, e_mu2,\n",
    "        e_mu_info, e_log_mu_info, e_y_info, e_log_y_info, e_u, e_u2,\n",
    "        data_cache, prior_par)\n",
    "\n",
    "\n",
    "ELBODataTerm(data_cache, moment_par, prior_par)"
   ]
  },
  {
   "cell_type": "code",
   "execution_count": 86,
   "metadata": {},
   "outputs": [],
   "source": [
    "class CoordinateAscentUpdater(object):\n",
    "    def __init__(self, moment_par, data_cache, prior_par):\n",
    "        self.moment_par = copy.deepcopy(moment_par)\n",
    "        self.__data_cache = copy.deepcopy(data_cache)\n",
    "        self.__prior_par = copy.deepcopy(prior_par)\n",
    "        \n",
    "        # Coefficient functions\n",
    "        self.get_e_beta_coeff = grad(self.beta_e_log_data, 0)\n",
    "        self.get_e_beta_outer_coeff = grad(self.beta_e_log_data, 1)\n",
    "        self.get_e_mu_coeff = grad(self.mu_e_log_data, 0)\n",
    "        self.get_e_mu2_coeff = grad(self.mu_e_log_data, 1)\n",
    "        self.get_e_u_coeff = grad(self.u_e_log_data, 0)\n",
    "        self.get_e_u2_coeff = grad(self.u_e_log_data, 1)\n",
    "        self.get_e_mu_info_coeff = grad(self.mu_info_e_log_data, 0)\n",
    "        self.get_e_log_mu_info_coeff = grad(self.mu_info_e_log_data, 1)\n",
    "        self.get_e_y_info_coeff = grad(self.y_info_e_log_data, 0)\n",
    "        self.get_e_log_y_info_coeff = grad(self.y_info_e_log_data, 1)\n",
    "\n",
    "    # beta updates\n",
    "    def beta_e_log_data(self, e_beta, e_beta_outer):\n",
    "        self.moment_par['e_beta'].set(e_beta)\n",
    "        self.moment_par['e_beta_outer'].set(e_beta_outer)\n",
    "        return ELBODataTerm(self.__data_cache, self.moment_par, self.__prior_par)\n",
    "    \n",
    "    def update_beta(self):\n",
    "        e_beta = self.moment_par['e_beta'].get()\n",
    "        e_beta_outer = self.moment_par['e_beta_outer'].get()\n",
    "        e_beta_coeff = self.get_e_beta_coeff(e_beta, e_beta_outer)\n",
    "        e_beta_outer_coeff = self.get_e_beta_outer_coeff(e_beta, e_beta_outer)\n",
    "        new_cov_beta = -0.5 * np.linalg.inv(e_beta_outer_coeff)\n",
    "        new_e_beta = np.matmul(new_cov_beta, e_beta_coeff)\n",
    "        self.moment_par['e_beta'].set(new_e_beta)\n",
    "        self.moment_par['e_beta_outer'].set(new_cov_beta + np.outer(new_e_beta, new_e_beta))\n",
    "\n",
    "    # mu updates\n",
    "    def mu_e_log_data(self, e_mu, e_mu2):\n",
    "        self.moment_par['e_mu'].set(e_mu)\n",
    "        self.moment_par['e_mu2'].set(e_mu2)\n",
    "        return ELBODataTerm(self.__data_cache, self.moment_par, self.__prior_par)\n",
    "    \n",
    "    def update_mu(self):\n",
    "        e_mu = self.moment_par['e_mu'].get()\n",
    "        e_mu2 = self.moment_par['e_mu2'].get()\n",
    "        e_mu_coeff = self.get_e_mu_coeff(e_mu, e_mu2)\n",
    "        e_mu2_coeff = self.get_e_mu2_coeff(e_mu, e_mu2)\n",
    "        new_var_mu = -0.5 / e_mu2_coeff\n",
    "        new_e_mu = new_var_mu * e_mu_coeff\n",
    "        self.moment_par['e_mu'].set(new_e_mu)\n",
    "        self.moment_par['e_mu2'].set(new_var_mu + new_e_mu**2)\n",
    "\n",
    "    # u\n",
    "    def u_e_log_data(self, e_u, e_u2):\n",
    "        self.moment_par['e_u'].set(e_u)\n",
    "        self.moment_par['e_u2'].set(e_u2)\n",
    "        return ELBODataTerm(self.__data_cache, self.moment_par, self.__prior_par)\n",
    "    \n",
    "    def update_u(self):\n",
    "        e_u = self.moment_par['e_u'].get()\n",
    "        e_u2 = self.moment_par['e_u2'].get()\n",
    "        e_u_coeff = self.get_e_u_coeff(e_u, e_u2)\n",
    "        e_u2_coeff = self.get_e_u2_coeff(e_u, e_u2)\n",
    "        new_var_u = -0.5 / e_u2_coeff\n",
    "        new_e_u = new_var_u * e_u_coeff\n",
    "        self.moment_par['e_u'].set(new_e_u)\n",
    "        self.moment_par['e_u2'].set(new_var_u + new_e_u**2)\n",
    "\n",
    "    # mu_info\n",
    "    def mu_info_e_log_data(self, e_mu_info, e_log_mu_info):\n",
    "        self.moment_par['e_mu_info'].set(e_mu_info)\n",
    "        self.moment_par['e_log_mu_info'].set(e_log_mu_info)\n",
    "        return ELBODataTerm(self.__data_cache, self.moment_par, self.__prior_par)\n",
    "    \n",
    "    def update_mu_info(self):\n",
    "        e_mu_info = self.moment_par['e_mu_info'].get()\n",
    "        e_log_mu_info = self.moment_par['e_log_mu_info'].get()\n",
    "        new_rate = -1 * self.get_e_mu_info_coeff(e_mu_info, e_log_mu_info)\n",
    "        new_shape = self.get_e_log_mu_info_coeff(e_mu_info, e_log_mu_info) + 1\n",
    "        self.moment_par['e_mu_info'].set(new_shape / new_rate)\n",
    "        self.moment_par['e_log_mu_info'].set(asp.special.digamma(new_shape) - np.log(new_rate))\n",
    "\n",
    "    # y_info\n",
    "    def y_info_e_log_data(self, e_y_info, e_log_y_info):\n",
    "        self.moment_par['e_y_info'].set(e_y_info)\n",
    "        self.moment_par['e_log_y_info'].set(e_log_y_info)\n",
    "        return ELBODataTerm(self.__data_cache, self.moment_par, self.__prior_par)\n",
    "    \n",
    "    def update_y_info(self):\n",
    "        e_y_info = self.moment_par['e_y_info'].get()\n",
    "        e_log_y_info = self.moment_par['e_log_y_info'].get()\n",
    "        new_rate = -1 * self.get_e_y_info_coeff(e_y_info, e_log_y_info)\n",
    "        new_shape = self.get_e_log_y_info_coeff(e_y_info, e_log_y_info) + 1\n",
    "        self.moment_par['e_y_info'].set(new_shape / new_rate)\n",
    "        self.moment_par['e_log_y_info'].set(asp.special.digamma(new_shape) - np.log(new_rate))\n",
    "    \n",
    "    # Update and return the sum of absolute differences.\n",
    "    def update(self):\n",
    "        initial_moment_vec = self.moment_par.get_vector()\n",
    "        self.update_beta()\n",
    "        self.update_mu()\n",
    "        self.update_mu_info()\n",
    "        self.update_y_info()\n",
    "        self.update_u()\n",
    "        return np.sum(np.abs(initial_moment_vec - self.moment_par.get_vector()))\n",
    "\n",
    "# Make sure it's doing something, or not, depending on whether you use\n",
    "# the initial point or optimum.\n",
    "\n",
    "# moment_par_test = copy.deepcopy(moment_par_opt)\n",
    "# moment_par_test = copy.deepcopy(moment_par)\n",
    "\n",
    "# ca_updater = CoordinateAscentUpdater(moment_par_test, data_cache, prior_par)\n",
    "# print ca_updater.moment_par['e_beta']\n",
    "# print ca_updater.moment_par['e_beta_outer']\n",
    "# ca_updater.update_beta()\n",
    "# print ca_updater.moment_par['e_beta']\n",
    "# print ca_updater.moment_par['e_beta_outer']\n",
    "\n",
    "# ca_updater = CoordinateAscentUpdater(moment_par_test, data_cache, prior_par)\n",
    "# print ca_updater.moment_par['e_mu']\n",
    "# print ca_updater.moment_par['e_mu2']\n",
    "# ca_updater.update_mu()\n",
    "# print ca_updater.moment_par['e_mu']\n",
    "# print ca_updater.moment_par['e_mu2']\n",
    "\n",
    "# ca_updater = CoordinateAscentUpdater(moment_par_test, data_cache, prior_par)\n",
    "# print ca_updater.moment_par['e_u']\n",
    "# print ca_updater.moment_par['e_u2']\n",
    "# ca_updater.update_u()\n",
    "# print ca_updater.moment_par['e_u']\n",
    "# print ca_updater.moment_par['e_u2']\n",
    "\n",
    "# ca_updater = CoordinateAscentUpdater(moment_par_test, data_cache, prior_par)\n",
    "# print ca_updater.moment_par['e_mu_info']\n",
    "# print ca_updater.moment_par['e_log_mu_info']\n",
    "# ca_updater.update_mu_info()\n",
    "# print ca_updater.moment_par['e_mu_info']\n",
    "# print ca_updater.moment_par['e_log_mu_info']\n",
    "\n",
    "# ca_updater = CoordinateAscentUpdater(moment_par_test, data_cache, prior_par)\n",
    "# print ca_updater.moment_par['e_y_info']\n",
    "# print ca_updater.moment_par['e_log_y_info']\n",
    "# ca_updater.update_y_info()\n",
    "# print ca_updater.moment_par['e_y_info']\n",
    "# print ca_updater.moment_par['e_log_y_info']\n"
   ]
  },
  {
   "cell_type": "code",
   "execution_count": 100,
   "metadata": {},
   "outputs": [
    {
     "name": "stdout",
     "output_type": "stream",
     "text": [
      "717.212200793\n",
      "42.6895636327\n",
      "12.1437280035\n",
      "1.73200575847\n",
      "0.249295082565\n",
      "0.0359261884491\n",
      "0.00517826624038\n",
      "0.000746394916518\n",
      "0.000107585726012\n",
      "1.550746953e-05\n",
      "2.23525614898e-06\n",
      "3.22191225534e-07\n",
      "4.64408407628e-08\n",
      "6.69400280083e-09\n",
      "9.64889999734e-10\n",
      "1.39082609186e-10\n",
      "2.00500555693e-11\n",
      "2.87924836696e-12\n",
      "4.04765142844e-13\n",
      "6.66675848099e-14\n",
      "7.11700799206e-15\n",
      "1.52465930506e-18\n",
      "Coordinate ascent time (in minutes):\n",
      "0.00265779892604\n"
     ]
    }
   ],
   "source": [
    "ca_updater = CoordinateAscentUpdater(init_moment_par, data_cache, prior_par)\n",
    "\n",
    "ca_time = time.time()\n",
    "tol = 1e-16\n",
    "delta = float('inf')\n",
    "while delta > tol:\n",
    "    delta = ca_updater.update()\n",
    "    print delta\n",
    "ca_time = time.time() - ca_time\n",
    "\n",
    "ca_moment_par_opt = copy.deepcopy(ca_updater.moment_par)\n",
    "\n",
    "print 'Coordinate ascent time (in minutes):'\n",
    "print ca_time / 60."
   ]
  },
  {
   "cell_type": "code",
   "execution_count": 101,
   "metadata": {},
   "outputs": [
    {
     "name": "stdout",
     "output_type": "stream",
     "text": [
      "-403553.750859\n",
      "774.400599286\n",
      "-402779.350259\n"
     ]
    }
   ],
   "source": [
    "def ELBOEntropyTerm(lmm_par):\n",
    "    return MultivariateNormalEntropy(lmm_par['beta'].info.get()) + \\\n",
    "           UnivariateNormalEntropy(lmm_par['mu'].info.get()) + \\\n",
    "           UnivariateNormalEntropy(lmm_par['u'].info.get()) + \\\n",
    "           GammaEntropy(shape=lmm_par['y_info'].shape.get(),\n",
    "                        rate=lmm_par['y_info'].rate.get()) + \\\n",
    "           GammaEntropy(shape=lmm_par['mu_info'].shape.get(),\n",
    "                        rate=lmm_par['mu_info'].rate.get())\n",
    "\n",
    "def ELBO(data_cache, lmm_par, moment_par, prior_par):\n",
    "    return ELBODataTerm(data_cache, moment_par, prior_par) + ELBOEntropyTerm(lmm_par)\n",
    "\n",
    "print ELBODataTerm(data_cache, moment_par, prior_par)\n",
    "print ELBOEntropyTerm(lmm_par)\n",
    "print ELBO(data_cache, lmm_par, moment_par, prior_par)"
   ]
  },
  {
   "cell_type": "code",
   "execution_count": 102,
   "metadata": {},
   "outputs": [
    {
     "name": "stdout",
     "output_type": "stream",
     "text": [
      "402779.350259\n"
     ]
    }
   ],
   "source": [
    "class KLWrapper(object):\n",
    "    def __init__(self, lmm_par, moment_par, prior_par, x_mat, y_vec, y_g_vec, num_draws):\n",
    "        self.__lmm_par_ad = copy.deepcopy(lmm_par)\n",
    "        self.__prior_par_ad = copy.deepcopy(prior_par)\n",
    "        self.__moment_par_ad = copy.deepcopy(moment_par)\n",
    "        self.__data_cache = DataCache(x_mat, y_vec, y_g_vec)\n",
    "\n",
    "    def KL(self, free_par_vec, verbose=False):\n",
    "        self.__lmm_par_ad.set_free(free_par_vec)\n",
    "        set_moments(self.__lmm_par_ad, self.__moment_par_ad)\n",
    "\n",
    "        #print self.__lmm_par_ad\n",
    "        kl = -ELBO(self.__data_cache,\n",
    "                   self.__lmm_par_ad,\n",
    "                   self.__moment_par_ad,\n",
    "                   self.__prior_par_ad)[0]\n",
    "        if verbose: print kl\n",
    "\n",
    "        return kl\n",
    "\n",
    "\n",
    "kl_wrapper = KLWrapper(lmm_par, moment_par, prior_par, x_mat, y_vec, y_g_vec, 20)\n",
    "KLGrad = grad(kl_wrapper.KL)\n",
    "KLHess = hessian(kl_wrapper.KL)\n",
    "KLHessVecProd = hessian_vector_product(kl_wrapper.KL)  \n",
    "print kl_wrapper.KL(free_par_vec)"
   ]
  },
  {
   "cell_type": "code",
   "execution_count": 103,
   "metadata": {},
   "outputs": [
    {
     "name": "stdout",
     "output_type": "stream",
     "text": [
      "Function time:\n",
      "0.00208261013031\n",
      "Grad time:\n",
      "0.00784878730774\n",
      "Hessian vector product time:\n",
      "0.0181005954742\n"
     ]
    }
   ],
   "source": [
    "import timeit\n",
    "\n",
    "time_num = 10\n",
    "\n",
    "print 'Function time:'\n",
    "print timeit.timeit(lambda: kl_wrapper.KL(free_par_vec), number=time_num) / time_num\n",
    "\n",
    "print 'Grad time:'\n",
    "print timeit.timeit(lambda: KLGrad(free_par_vec), number=time_num) / time_num\n",
    "\n",
    "print 'Hessian vector product time:'\n",
    "print timeit.timeit(lambda: KLHessVecProd(free_par_vec, free_par_vec + 1), number=time_num) / time_num\n"
   ]
  },
  {
   "cell_type": "code",
   "execution_count": 104,
   "metadata": {},
   "outputs": [
    {
     "name": "stdout",
     "output_type": "stream",
     "text": [
      "Running Newton Trust Region\n",
      "402779.350259\n",
      "330428.936056\n",
      "291224.024644\n",
      "255298.272592\n",
      "249658.322357\n",
      "234176.338399\n",
      "233306.684531\n",
      "218339.521469\n",
      "201294.900809\n",
      "196175.706922\n",
      "196033.733999\n",
      "166458.791248\n",
      "165948.584444\n",
      "164736.869035\n",
      "138976.399057\n",
      "137530.251629\n",
      "136563.229415\n",
      "130539.176566\n",
      "128862.855518\n",
      "128805.349348\n",
      "128652.620267\n",
      "126299.306512\n",
      "126291.615775\n",
      "125577.188139\n",
      "125576.440075\n",
      "125412.999267\n",
      "125412.954788\n",
      "125393.891806\n",
      "125393.890919\n",
      "125393.876002\n",
      "125393.36652\n",
      "125393.366519\n",
      "125393.358022\n",
      "125393.357988\n",
      "125393.357967\n",
      "125393.357967\n",
      "Optimization terminated successfully.\n",
      "         Current function value: 125393.357967\n",
      "         Iterations: 35\n",
      "         Function evaluations: 36\n",
      "         Gradient evaluations: 36\n",
      "         Hessian evaluations: 0\n",
      "Done.\n",
      "0.0706928650538\n"
     ]
    }
   ],
   "source": [
    "\n",
    "# Optimize.\n",
    "vb_time = time.time()\n",
    "\n",
    "trust_path = OptimizationPath()\n",
    "print 'Running Newton Trust Region'\n",
    "# trust_init = copy.deepcopy(vb_opt_bfgs.x)\n",
    "trust_init = copy.deepcopy(init_par_vec)\n",
    "vb_opt = optimize.minimize(\n",
    "    lambda par: kl_wrapper.KL(par, verbose=True),\n",
    "    trust_init, method='trust-ncg', jac=KLGrad, hessp=KLHessVecProd,\n",
    "    tol=1e-6, callback=trust_path.save, options={'maxiter': 100, 'disp': True, 'gtol': 1e-6 })\n",
    "\n",
    "vb_time = time.time() - vb_time\n",
    "\n",
    "lmm_par_opt = copy.deepcopy(lmm_par)\n",
    "lmm_par_opt.set_free(vb_opt.x)\n",
    "\n",
    "print 'Done.'\n",
    "\n",
    "print vb_time / 60"
   ]
  },
  {
   "cell_type": "code",
   "execution_count": 110,
   "metadata": {},
   "outputs": [
    {
     "name": "stdout",
     "output_type": "stream",
     "text": [
      "total moment difference: 0.000000\n",
      "trust region seconds: 4.241572\n",
      "coordinate ascent seconds: 0.159468\n"
     ]
    }
   ],
   "source": [
    "moment_par_opt = copy.deepcopy(moment_par)\n",
    "set_moments(lmm_par_opt, moment_par_opt)\n",
    "\n",
    "# Make sure the coordinate ascent and trust region are close\n",
    "moment_diff = np.sum(np.abs(ca_moment_par_opt.get_vector() - moment_par_opt.get_vector()))\n",
    "\n",
    "print 'total moment difference: %f' % moment_diff\n",
    "print 'trust region seconds: %f' % vb_time\n",
    "print 'coordinate ascent seconds: %f' % ca_time"
   ]
  },
  {
   "cell_type": "code",
   "execution_count": 37,
   "metadata": {},
   "outputs": [
    {
     "name": "stdout",
     "output_type": "stream",
     "text": [
      "--------------- beta:\n",
      "\n",
      "[-2. -1.  0.  1.  2.]\n",
      "[ -1.99886732e+00  -9.90232285e-01   9.93532176e-04   1.01240804e+00\n",
      "   1.99763486e+00]\n",
      "--------------- mu:\n",
      "\n",
      "0.00288823260177\n",
      "0.0\n",
      "--------------- mu info:\n",
      "\n",
      "44.4702613946\n",
      "40.0\n",
      "--------------- y info:\n",
      "\n",
      "0.998398407207\n",
      "1.0\n"
     ]
    },
    {
     "data": {
      "image/png": "[encoded data removed]",
      "text/plain": [
       "<matplotlib.figure.Figure at 0x7f114d1dd150>"
      ]
     },
     "metadata": {},
     "output_type": "display_data"
    },
    {
     "name": "stdout",
     "output_type": "stream",
     "text": [
      "<ggplot: (8732017810725)>\n"
     ]
    },
    {
     "data": {
      "image/png": "[encoded data removed]",
      "text/plain": [
       "<matplotlib.figure.Figure at 0x7f114d400f50>"
      ]
     },
     "metadata": {},
     "output_type": "display_data"
    },
    {
     "name": "stdout",
     "output_type": "stream",
     "text": [
      "<ggplot: (8732025332853)>\n"
     ]
    }
   ],
   "source": [
    "# print(glmm_par_opt)\n",
    "print '--------------- beta:\\n'\n",
    "print true_beta\n",
    "print lmm_par_opt['beta'].e()\n",
    "\n",
    "print '--------------- mu:\\n'\n",
    "print lmm_par_opt['mu'].e()[0]\n",
    "print true_mu\n",
    "\n",
    "print '--------------- mu info:\\n'\n",
    "print lmm_par_opt['mu_info'].e()[0]\n",
    "print true_mu_info\n",
    "\n",
    "print '--------------- y info:\\n'\n",
    "print lmm_par_opt['y_info'].e()[0]\n",
    "print true_y_info\n",
    "\n",
    "\n",
    "# Check the random effect estimates.  This requires simulated data.\n",
    "from ggplot import *\n",
    "import pandas as pd\n",
    "%matplotlib inline\n",
    "\n",
    "e_u = lmm_par_opt['u'].e()\n",
    "\n",
    "plot_df = pd.DataFrame({ 'opt': lmm_par_opt['u'].e(), 'true': true_u })\n",
    "print ggplot(plot_df, aes(x='true', y='opt')) + geom_point() + geom_abline(slope=1, intercept=0)\n",
    "\n",
    "plot_df = pd.DataFrame({ 'opt': lmm_par_opt['beta'].e(), 'true': true_beta })\n",
    "print ggplot(plot_df, aes(x='true', y='opt')) + geom_point() + geom_abline(slope=1, intercept=0)\n"
   ]
  },
  {
   "cell_type": "code",
   "execution_count": 34,
   "metadata": {
    "collapsed": true
   },
   "outputs": [],
   "source": [
    "class MomentWrapper(object):\n",
    "    def __init__(self, lmm_par, moment_par):\n",
    "        self.__lmm_par_ad = copy.deepcopy(lmm_par)\n",
    "        self.__moment_par = copy.deepcopy(moment_par)\n",
    "\n",
    "    # Return a posterior moment of interest as a function of unconstrained parameters.\n",
    "    def GetMoments(self, free_par_vec):\n",
    "        self.__lmm_par_ad.set_free(free_par_vec)\n",
    "        set_moments(self.__lmm_par_ad, self.__moment_par)\n",
    "        return self.__moment_par.get_vector()\n",
    "    \n",
    "    def GetMomentParameters(self, free_par_vec):\n",
    "        self.__glmm_par_ad.set_free(free_par_vec)\n",
    "        set_moments(self.__glmm_par_ad, self.__moment_par)\n",
    "        return self.__moment_par\n",
    "    \n",
    "moment_wrapper = MomentWrapper(lmm_par, moment_par)\n",
    "MomentJacobian = jacobian(moment_wrapper.GetMoments)\n"
   ]
  },
  {
   "cell_type": "code",
   "execution_count": 16,
   "metadata": {},
   "outputs": [
    {
     "name": "stdout",
     "output_type": "stream",
     "text": [
      "Calculating KL Hessian.\n",
      "\n",
      "Done.\n",
      "\n",
      "hess_time: 8.511205\n"
     ]
    }
   ],
   "source": [
    "# Slow, but probably faster than using CG if you want the covariance of many parameters.\n",
    "hess_time = time.time()\n",
    "print 'Calculating KL Hessian.\\n'\n",
    "kl_hess = KLHess(vb_opt.x)\n",
    "hess_time =  time.time() - hess_time\n",
    "elbo_hess = -kl_hess\n",
    "print 'Done.\\n'\n",
    "\n",
    "print 'hess_time: %f' % hess_time"
   ]
  },
  {
   "cell_type": "code",
   "execution_count": 17,
   "metadata": {},
   "outputs": [
    {
     "name": "stdout",
     "output_type": "stream",
     "text": [
      "255366.213333\n",
      "0.278362701379\n"
     ]
    }
   ],
   "source": [
    "hess_norm = np.sqrt(np.sum(kl_hess**2))\n",
    "diag_norm = np.sqrt(np.sum(np.diag(kl_hess)**2))\n",
    "\n",
    "# How diagonal is the Hessian?\n",
    "print hess_norm \n",
    "print (hess_norm - diag_norm) / hess_norm"
   ]
  },
  {
   "cell_type": "code",
   "execution_count": 18,
   "metadata": {
    "collapsed": true
   },
   "outputs": [],
   "source": [
    "moment_jac = MomentJacobian(vb_opt.x)\n",
    "lrvb_cov = np.matmul(moment_jac, np.linalg.solve(kl_hess, moment_jac.T))\n",
    "\n",
    "prior_indices = copy.deepcopy(prior_par)\n",
    "prior_indices.set_vector(1 + np.array(range(prior_indices.vector_size())))\n",
    "\n",
    "vp_indices = copy.deepcopy(lmm_par_opt)\n",
    "vp_indices.set_vector(1 + np.array(range(vp_indices.vector_size())))"
   ]
  }
 ],
 "metadata": {
  "kernelspec": {
   "display_name": "Python 2",
   "language": "python",
   "name": "python2"
  },
  "language_info": {
   "codemirror_mode": {
    "name": "ipython",
    "version": 2
   },
   "file_extension": ".py",
   "mimetype": "text/x-python",
   "name": "python",
   "nbconvert_exporter": "python",
   "pygments_lexer": "ipython2",
   "version": "2.7.12"
  }
 },
 "nbformat": 4,
 "nbformat_minor": 1
}
