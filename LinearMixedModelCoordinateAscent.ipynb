{
 "cells": [
  {
   "cell_type": "code",
   "execution_count": 63,
   "metadata": {
    "collapsed": true
   },
   "outputs": [],
   "source": [
    "from VariationalBayes import ScalarParam, ModelParamsDict, VectorParam, PosDefMatrixParam\n",
    "from VariationalBayes.NormalParams import MVNParam, UVNParam, UVNParamVector\n",
    "from VariationalBayes.GammaParams import GammaParam\n",
    "from VariationalBayes.ExponentialFamilies import \\\n",
    "    UnivariateNormalEntropy, MultivariateNormalEntropy, GammaEntropy, MVNPrior, UVNPrior, GammaPrior\n",
    "\n",
    "from autograd import grad, hessian, jacobian, hessian_vector_product\n",
    "import autograd.numpy as np\n",
    "import autograd.numpy.random as npr\n",
    "import autograd.scipy as asp\n",
    "import scipy as sp\n",
    "\n",
    "import copy\n",
    "from scipy import optimize"
   ]
  },
  {
   "cell_type": "code",
   "execution_count": 24,
   "metadata": {},
   "outputs": [
    {
     "name": "stdout",
     "output_type": "stream",
     "text": [
      "[-0.91584645 -0.24369998  0.06055591 ...,  1.15281629 -0.35266865\n",
      " -0.68851525]\n",
      "40000\n"
     ]
    }
   ],
   "source": [
    "# Load data saved by stan_results_to_json.R and run_stan.R in LRVBLogitGLMM.\n",
    "import os\n",
    "import json\n",
    "\n",
    "simulate_data = False\n",
    "prior_par = ModelParamsDict('Prior Parameters')\n",
    "\n",
    "# Simulate data\n",
    "N = 500     # observations per group\n",
    "K = 5      # dimension of regressors\n",
    "NG = 500      # number of groups\n",
    "\n",
    "# Generate data\n",
    "NObs = NG * N\n",
    "true_beta = np.array(range(5))\n",
    "true_beta = true_beta - np.mean(true_beta)\n",
    "true_y_info = 1.0\n",
    "\n",
    "true_mu = 0.0\n",
    "true_mu_info = 40.0\n",
    "true_u = np.random.normal(true_mu, 1 / np.sqrt(true_mu_info), NG)\n",
    "\n",
    "x_mat = np.random.random(K * NObs).reshape(NObs, K) - 0.5\n",
    "y_g_vec = np.array([ g for g in range(NG) for n in range(N) ])\n",
    "true_mean = np.matmul(x_mat, true_beta) + true_u[y_g_vec]\n",
    "print true_mean\n",
    "y_vec = np.random.normal(true_mean, 1 / np.sqrt(true_y_info), NG * N)\n",
    "\n",
    "prior_par.push_param(VectorParam('beta_mean', K, val=np.full(K, 0.0)))\n",
    "prior_par.push_param(PosDefMatrixParam('beta_info', K, val=0.01 * np.eye(K)))\n",
    "\n",
    "prior_par.push_param(ScalarParam('mu_mean', val=0.))\n",
    "prior_par.push_param(ScalarParam('mu_info', val=0.5))\n",
    "\n",
    "prior_par.push_param(ScalarParam('mu_info_shape', val=0.5))\n",
    "prior_par.push_param(ScalarParam('mu_info_rate', val=0.5))\n",
    "\n",
    "prior_par.push_param(ScalarParam('y_info_shape', val=0.0))\n",
    "prior_par.push_param(ScalarParam('y_info_rate', val=10.0))\n",
    "\n",
    "print N * NG"
   ]
  },
  {
   "cell_type": "code",
   "execution_count": 69,
   "metadata": {},
   "outputs": [],
   "source": [
    "# Build an object to contain a variational approximation to a K-dimensional multivariate normal.\n",
    "\n",
    "# ADVI-style, we will represent each parameter as a univariate normal.\n",
    "# Note: you need to include the Jacobian of the transform because the log prior is not a density\n",
    "# with respect to the transformed space.\n",
    "lmm_par = ModelParamsDict('LMM Parameters')\n",
    "\n",
    "lmm_par.push_param(MVNParam('beta', K))\n",
    "lmm_par.push_param(UVNParam('mu'))\n",
    "lmm_par.push_param(GammaParam('mu_info'))\n",
    "lmm_par.push_param(GammaParam('y_info'))\n",
    "lmm_par.push_param(UVNParamVector('u', NG))\n",
    "\n",
    "lmm_par['beta'].mean.set(np.full(K, -0.2))\n",
    "lmm_par['beta'].info.set(np.eye(K))\n",
    "\n",
    "lmm_par['mu'].mean.set(0.2)\n",
    "lmm_par['mu'].info.set(1.5)\n",
    "\n",
    "lmm_par['mu_info'].shape.set(2.3)\n",
    "lmm_par['mu_info'].rate.set(4.1)\n",
    "\n",
    "lmm_par['y_info'].shape.set(2.4)\n",
    "lmm_par['y_info'].rate.set(3.1)\n",
    "\n",
    "lmm_par['u'].mean.set(np.full(NG, -0.1))\n",
    "lmm_par['u'].info.set(np.full(NG, 0.8))\n",
    "\n",
    "free_par_vec = lmm_par.get_free()"
   ]
  },
  {
   "cell_type": "code",
   "execution_count": 91,
   "metadata": {},
   "outputs": [],
   "source": [
    "# Define moment parameters\n",
    "moment_par = ModelParamsDict('Moment Parameters')\n",
    "moment_par.push_param(VectorParam('e_beta', K))\n",
    "moment_par.push_param(PosDefMatrixParam('e_beta_outer', K))\n",
    "moment_par.push_param(ScalarParam('e_mu'))\n",
    "moment_par.push_param(ScalarParam('e_mu2'))\n",
    "moment_par.push_param(ScalarParam('e_mu_info'))\n",
    "moment_par.push_param(ScalarParam('e_log_mu_info'))\n",
    "moment_par.push_param(ScalarParam('e_y_info'))\n",
    "moment_par.push_param(ScalarParam('e_log_y_info'))\n",
    "moment_par.push_param(VectorParam('e_u', NG))\n",
    "moment_par.push_param(VectorParam('e_u2', NG))\n",
    "\n",
    "def set_moments(lmm_par, moment_par):\n",
    "    moment_par['e_beta'].set(lmm_par['beta'].e())\n",
    "    moment_par['e_beta_outer'].set(lmm_par['beta'].e_outer())\n",
    "    moment_par['e_mu'].set(lmm_par['mu'].e())\n",
    "    moment_par['e_mu2'].set(lmm_par['mu'].e_outer())\n",
    "    moment_par['e_u'].set(lmm_par['u'].e())\n",
    "    moment_par['e_u2'].set(lmm_par['u'].e_outer())\n",
    "    moment_par['e_mu_info'].set(lmm_par['mu_info'].e())\n",
    "    moment_par['e_log_mu_info'].set(lmm_par['mu_info'].e_log())\n",
    "    moment_par['e_y_info'].set(lmm_par['y_info'].e())\n",
    "    moment_par['e_log_y_info'].set(lmm_par['y_info'].e_log())\n",
    "    \n",
    "set_moments(lmm_par, moment_par)\n",
    "\n",
    "# Moment indices.\n",
    "moment_indices = copy.deepcopy(moment_par)\n",
    "moment_indices.set_vector(1 + np.array(range(moment_indices.vector_size())))"
   ]
  },
  {
   "cell_type": "code",
   "execution_count": 42,
   "metadata": {},
   "outputs": [
    {
     "data": {
      "text/plain": [
       "-5.5584512806374473"
      ]
     },
     "execution_count": 42,
     "metadata": {},
     "output_type": "execute_result"
    }
   ],
   "source": [
    "def ExpectedLogPrior(moment_par, prior_par):\n",
    "    e_beta = moment_par['e_beta'].get()\n",
    "    cov_beta = moment_par['e_beta_outer'].get() - np.matmul(e_beta, e_beta.transpose())\n",
    "    \n",
    "    e_mu = moment_par['e_mu'].get()\n",
    "    var_mu = moment_par['e_mu2'].get() - e_mu**2\n",
    "        \n",
    "    return \\\n",
    "        MVNPrior(prior_mean=prior_par['beta_mean'].get(),\n",
    "                 prior_info=prior_par['beta_info'].get(),\n",
    "                 e_obs=e_beta,\n",
    "                 cov_obs=cov_beta) + \\\n",
    "        UVNPrior(prior_mean=prior_par['mu_mean'].get(),\n",
    "                 prior_info=prior_par['mu_info'].get(),\n",
    "                 e_obs=e_mu,\n",
    "                 var_obs=var_mu) + \\\n",
    "        GammaPrior(prior_shape=prior_par['mu_info_shape'].get(),\n",
    "                   prior_rate=prior_par['mu_info_rate'].get(),\n",
    "                   e_obs=moment_par['e_mu_info'].get(),\n",
    "                   e_log_obs=moment_par['e_mu_info'].get()) + \\\n",
    "        GammaPrior(prior_shape=prior_par['y_info_shape'].get(),\n",
    "                   prior_rate=prior_par['y_info_rate'].get(),\n",
    "                   e_obs=moment_par['e_y_info'].get(),\n",
    "                   e_log_obs=moment_par['e_log_y_info'].get())\n",
    "\n",
    "ExpectedLogPrior(moment_par, prior_par)"
   ]
  },
  {
   "cell_type": "code",
   "execution_count": 54,
   "metadata": {},
   "outputs": [
    {
     "data": {
      "text/plain": [
       "-193.66381502568623"
      ]
     },
     "execution_count": 54,
     "metadata": {},
     "output_type": "execute_result"
    }
   ],
   "source": [
    "def ExpectedRandomEffectLogLikelihood(moment_par):\n",
    "    e_u = moment_par['e_u'].get()\n",
    "    e_u2 = moment_par['e_u2'].get()\n",
    "\n",
    "    e_mu = moment_par['e_mu'].get()\n",
    "    e_mu2 = moment_par['e_mu2'].get()\n",
    "\n",
    "    e_log_mu_info = moment_par['e_log_mu_info'].get()\n",
    "    e_mu_info = moment_par['e_mu_info'].get()\n",
    "    return -0.5 * e_mu_info * np.sum(e_u2 - 2 * e_u * e_mu + e_mu2) + 0.5 * len(e_u) * e_log_mu_info\n",
    "\n",
    "ExpectedRandomEffectLogLikelihood(moment_par)"
   ]
  },
  {
   "cell_type": "code",
   "execution_count": 89,
   "metadata": {
    "collapsed": true
   },
   "outputs": [],
   "source": [
    "class DataCache(object):\n",
    "    def __init__(self, x_mat, y_vec, y_g_vec):\n",
    "        self.x_mat = x_mat\n",
    "        self.y_vec = y_vec\n",
    "        self.y_g_vec = y_g_vec\n",
    "        self.y_t_y = np.dot(np.transpose(y_vec), y_vec)\n",
    "        self.y_t_x = np.dot(np.transpose(y_vec), x_mat)\n",
    "        self.x_t_x = np.dot(np.transpose(x_mat), x_mat)\n",
    "        \n",
    "        num_g = np.max(y_g_vec)\n",
    "        k = x_mat.shape[1]\n",
    "        num_g = np.max(y_g_vec) + 1\n",
    "        self.num_g = num_g\n",
    "        self.n_g = np.full(num_g, 0.0)\n",
    "        self.y_sum_g = np.full(num_g, 0.0)\n",
    "        self.x_sum_g = np.full((num_g, k), 0.0)\n",
    "        for g in range(num_g):\n",
    "            g_rows = np.array(y_g_vec) == g\n",
    "            self.n_g[g] = np.sum(g_rows)\n",
    "            self.y_sum_g[g] = np.sum(y_vec[g_rows])\n",
    "            self.x_sum_g[g, :] = np.sum(x_mat[g_rows, :], 0)\n",
    "    \n",
    "data_cache = DataCache(x_mat, y_vec, y_g_vec)"
   ]
  },
  {
   "cell_type": "code",
   "execution_count": 90,
   "metadata": {},
   "outputs": [
    {
     "name": "stdout",
     "output_type": "stream",
     "text": [
      "-56013.8055224\n"
     ]
    }
   ],
   "source": [
    "def ExpectedDataLogLikelihood(data_cache, moment_par):\n",
    "    e_beta = moment_par['e_beta'].get()\n",
    "    e_beta_outer = moment_par['e_beta_outer'].get()\n",
    "    \n",
    "    ll_global_term = \\\n",
    "        data_cache.y_t_y + \\\n",
    "        -2 * np.matmul(data_cache.y_t_x, e_beta) + \\\n",
    "        np.trace(np.matmul(data_cache.x_t_x, e_beta_outer)) \n",
    "\n",
    "    e_u = moment_par['e_u'].get()\n",
    "    e_u2 = moment_par['e_u2'].get()\n",
    "    \n",
    "    ll_group_term = np.sum(\n",
    "        e_u2 * data_cache.n_g[g] + \\\n",
    "        -2 * e_u * data_cache.y_sum_g + \\\n",
    "        2 * e_u * np.matmul(data_cache.x_sum_g, e_beta))\n",
    "\n",
    "    e_y_info = moment_par['e_y_info'].get()\n",
    "    e_log_y_info = moment_par['e_log_y_info'].get()\n",
    "    return -0.5 * e_y_info * (ll_global_term + ll_group_term) + 0.5 * len(y_vec) * e_log_y_info\n",
    "\n",
    "# These should be equal.\n",
    "print ExpectedDataLogLikelihood(data_cache, moment_par)"
   ]
  },
  {
   "cell_type": "code",
   "execution_count": 75,
   "metadata": {},
   "outputs": [
    {
     "name": "stdout",
     "output_type": "stream",
     "text": [
      "-56213.0277887\n",
      "315.247506628\n",
      "-55897.7802821\n"
     ]
    }
   ],
   "source": [
    "def ELBODataTerm(data_cache, moment_par, prior_par):\n",
    "    ll_data = ExpectedDataLogLikelihood(data_cache, moment_par)\n",
    "    if np.isnan(ll_data):\n",
    "        print 'bad data log likelihood'\n",
    "        return -np.inf\n",
    "\n",
    "    ll_rf = ExpectedRandomEffectLogLikelihood(moment_par)\n",
    "    if np.isnan(ll_rf):\n",
    "        print 'bad random effect log likelihood'\n",
    "        return -np.inf\n",
    "\n",
    "    e_log_prior = ExpectedLogPrior(moment_par, prior_par)\n",
    "    if np.isnan(e_log_prior):\n",
    "        print 'bad prior'\n",
    "        return -np.inf\n",
    "\n",
    "    return ll_data + ll_rf + e_log_prior\n",
    "\n",
    "def ELBOEntropyTerm(lmm_par):\n",
    "    return MultivariateNormalEntropy(lmm_par['beta'].info.get()) + \\\n",
    "           UnivariateNormalEntropy(lmm_par['mu'].info.get()) + \\\n",
    "           UnivariateNormalEntropy(lmm_par['u'].info.get()) + \\\n",
    "           GammaEntropy(shape=lmm_par['y_info'].shape.get(),\n",
    "                        rate=lmm_par['y_info'].rate.get()) + \\\n",
    "           GammaEntropy(shape=lmm_par['mu_info'].shape.get(),\n",
    "                        rate=lmm_par['mu_info'].rate.get())\n",
    "\n",
    "def ELBO(data_cache, lmm_par, moment_par, prior_par):\n",
    "    return ELBODataTerm(data_cache, moment_par, prior_par) + ELBOEntropyTerm(lmm_par)\n",
    "\n",
    "print ELBODataTerm(data_cache, moment_par, prior_par)\n",
    "print ELBOEntropyTerm(lmm_par)\n",
    "print ELBO(data_cache, lmm_par, moment_par, prior_par)"
   ]
  },
  {
   "cell_type": "code",
   "execution_count": 92,
   "metadata": {},
   "outputs": [
    {
     "name": "stdout",
     "output_type": "stream",
     "text": [
      "64376.7188619\n"
     ]
    }
   ],
   "source": [
    "\n",
    "class KLWrapper(object):\n",
    "    def __init__(self, lmm_par, moment_par, prior_par, x_mat, y_vec, y_g_vec, num_draws):\n",
    "        self.__lmm_par_ad = copy.deepcopy(lmm_par)\n",
    "        self.__prior_par_ad = copy.deepcopy(prior_par)\n",
    "        self.__moment_par_ad = copy.deepcopy(moment_par)\n",
    "        self.__data_cache = DataCache(x_mat, y_vec, y_g_vec)\n",
    "\n",
    "    def KL(self, free_par_vec, verbose=False):\n",
    "        self.__lmm_par_ad.set_free(free_par_vec)\n",
    "        set_moments(self.__lmm_par_ad, self.__moment_par_ad)\n",
    "\n",
    "        #print self.__lmm_par_ad\n",
    "        kl = -ELBO(self.__data_cache,\n",
    "                   self.__lmm_par_ad,\n",
    "                   self.__moment_par_ad,\n",
    "                   self.__prior_par_ad)[0]\n",
    "        if verbose: print kl\n",
    "\n",
    "        return kl\n",
    "\n",
    "\n",
    "kl_wrapper = KLWrapper(lmm_par, moment_par, prior_par, x_mat, y_vec, y_g_vec, 20)\n",
    "KLGrad = grad(kl_wrapper.KL)\n",
    "KLHess = hessian(kl_wrapper.KL)\n",
    "KLHessVecProd = hessian_vector_product(kl_wrapper.KL)  \n",
    "print kl_wrapper.KL(free_par_vec)\n",
    "\n"
   ]
  },
  {
   "cell_type": "code",
   "execution_count": 93,
   "metadata": {
    "collapsed": true
   },
   "outputs": [],
   "source": [
    "class MomentWrapper(object):\n",
    "    def __init__(self, lmm_par, moment_par):\n",
    "        self.__lmm_par_ad = copy.deepcopy(lmm_par)\n",
    "        self.__moment_par = copy.deepcopy(moment_par)\n",
    "\n",
    "    # Return a posterior moment of interest as a function of unconstrained parameters.\n",
    "    def GetMoments(self, free_par_vec):\n",
    "        self.__lmm_par_ad.set_free(free_par_vec)\n",
    "        set_moments(self.__lmm_par_ad, self.__moment_par)\n",
    "        return self.__moment_par.get_vector()\n",
    "    \n",
    "    def GetMomentParameters(self, free_par_vec):\n",
    "        self.__glmm_par_ad.set_free(free_par_vec)\n",
    "        set_moments(self.__glmm_par_ad, self.__moment_par)\n",
    "        return self.__moment_par\n",
    "    \n",
    "moment_wrapper = MomentWrapper(lmm_par, moment_par)\n",
    "MomentJacobian = jacobian(moment_wrapper.GetMoments)\n"
   ]
  },
  {
   "cell_type": "code",
   "execution_count": 94,
   "metadata": {},
   "outputs": [
    {
     "name": "stdout",
     "output_type": "stream",
     "text": [
      "Function time:\n",
      "0.000853300094604\n",
      "Grad time:\n",
      "0.00725028514862\n",
      "Hessian vector product time:\n",
      "0.0171108007431\n"
     ]
    }
   ],
   "source": [
    "import timeit\n",
    "\n",
    "time_num = 10\n",
    "\n",
    "print 'Function time:'\n",
    "print timeit.timeit(lambda: kl_wrapper.KL(free_par_vec), number=time_num) / time_num\n",
    "\n",
    "print 'Grad time:'\n",
    "print timeit.timeit(lambda: KLGrad(free_par_vec), number=time_num) / time_num\n",
    "\n",
    "print 'Hessian vector product time:'\n",
    "print timeit.timeit(lambda: KLHessVecProd(free_par_vec, free_par_vec + 1), number=time_num) / time_num\n"
   ]
  },
  {
   "cell_type": "code",
   "execution_count": 95,
   "metadata": {},
   "outputs": [
    {
     "name": "stdout",
     "output_type": "stream",
     "text": [
      "Running Newton Trust Region\n",
      "64376.7188619\n",
      "52791.7134334\n",
      "46493.8114489\n",
      "40696.7934028\n",
      "39713.114519\n",
      "36861.8230784\n",
      "36647.7759913\n",
      "33528.8796389\n",
      "32876.9950303\n",
      "28367.2448958\n",
      "28296.311436\n",
      "23240.3067964\n",
      "23021.1654357\n",
      "22911.9727105\n",
      "41452.8108709\n",
      "23355.7054008\n",
      "22652.0454364\n",
      "26990.9008524\n",
      "22453.147257\n",
      "22401.1827732\n",
      "22163.0105863\n",
      "29344.6038734\n",
      "21999.1543407\n",
      "21708.42161\n",
      "21223.4096406\n",
      "20773.0878048\n",
      "20693.3270821\n",
      "20592.2705524\n",
      "20090.608995\n",
      "20088.2525685\n",
      "19957.6976912\n",
      "19957.5071103\n",
      "19935.8302489\n",
      "19935.8251315\n",
      "19935.7925011\n",
      "19934.6044343\n",
      "19934.6044084\n",
      "19934.5685904\n",
      "19934.5508354\n",
      "19934.5500588\n",
      "19934.5500062\n",
      "19934.5499282\n",
      "19934.5499282\n",
      "19934.5499282\n",
      "Warning: A bad approximation caused failure to predict improvement.\n",
      "         Current function value: 19934.549928\n",
      "         Iterations: 42\n",
      "         Function evaluations: 44\n",
      "         Gradient evaluations: 39\n",
      "         Hessian evaluations: 0\n",
      "Done.\n",
      "0.0926011006037\n"
     ]
    }
   ],
   "source": [
    "import time\n",
    "\n",
    "class OptimizationPath(object):\n",
    "    def __init__(self):\n",
    "        self.x_history = []\n",
    "        pass\n",
    "    \n",
    "    def save(self, x):\n",
    "        self.x_history.append(x)\n",
    "\n",
    "bfgs_path = OptimizationPath()\n",
    "init_par_vec = copy.deepcopy(free_par_vec)\n",
    "\n",
    "# Optimize.\n",
    "vb_time = time.time()\n",
    "\n",
    "# print 'Running BFGS'\n",
    "# vb_opt_bfgs = optimize.minimize(\n",
    "#     lambda par: kl_wrapper.KL(par, verbose=True), init_par_vec,\n",
    "#     method='bfgs', jac=KLGrad, tol=1e-2, callback=bfgs_path.save,\n",
    "#     options={'maxiter': 100, 'gtol': 1e-2, 'disp': True})\n",
    "\n",
    "trust_path = OptimizationPath()\n",
    "print 'Running Newton Trust Region'\n",
    "# trust_init = copy.deepcopy(vb_opt_bfgs.x)\n",
    "trust_init = copy.deepcopy(init_par_vec)\n",
    "vb_opt = optimize.minimize(\n",
    "    lambda par: kl_wrapper.KL(par, verbose=True),\n",
    "    trust_init, method='trust-ncg', jac=KLGrad, hessp=KLHessVecProd,\n",
    "    tol=1e-6, callback=trust_path.save, options={'maxiter': 100, 'disp': True, 'gtol': 1e-6 })\n",
    "\n",
    "vb_time = time.time() - vb_time\n",
    "\n",
    "lmm_par_opt = copy.deepcopy(lmm_par)\n",
    "lmm_par_opt.set_free(vb_opt.x)\n",
    "\n",
    "print 'Done.'\n",
    "\n",
    "print vb_time / 60"
   ]
  },
  {
   "cell_type": "code",
   "execution_count": 96,
   "metadata": {},
   "outputs": [
    {
     "name": "stdout",
     "output_type": "stream",
     "text": [
      "LMM Parameters:\n",
      "\tbeta:\n",
      "beta_mean:\n",
      "[-2.01884278 -0.98893181 -0.0041212   1.01700877  2.00936384]\n",
      "beta_info:\n",
      "[[  3.32735694e+03  -1.55010850e+01   2.02698477e+01   3.95733686e+00\n",
      "    7.53384293e+00]\n",
      " [ -1.55010850e+01   3.36729849e+03   8.44998625e+00   2.80682474e+01\n",
      "    6.06906123e+00]\n",
      " [  2.02698477e+01   8.44998625e+00   3.34534140e+03  -9.94247334e+00\n",
      "    1.03642279e+01]\n",
      " [  3.95733686e+00   2.80682474e+01  -9.94247334e+00   3.37691147e+03\n",
      "   -2.94826921e+00]\n",
      " [  7.53384293e+00   6.06906123e+00   1.03642279e+01  -2.94826921e+00\n",
      "    3.33787575e+03]]\n",
      "\tmu:\n",
      "mu_mean: [-0.03191303]\n",
      "mu_info: [ 4847.46749895]\n",
      "\tmu_info:\n",
      "mu_info_shape: [ 101.0000916]\n",
      "mu_info_rate: [ 4.16755814]\n",
      "\ty_info:\n",
      "y_info_shape: [ 20000.01615865]\n",
      "y_info_rate: [ 19876.59042258]\n",
      "\tu:\n",
      "u_mean:\n",
      "[-0.04514391  0.05244783  0.00348803 -0.2848581   0.08890108  0.18934215\n",
      "  0.09635754  0.06682224  0.0875402  -0.15864001 -0.08546926  0.27606575\n",
      " -0.28449848  0.0529306  -0.03746386 -0.11713012  0.06209201 -0.23507536\n",
      " -0.02433379  0.10760654  0.00692575  0.18244971 -0.20957232 -0.10418875\n",
      "  0.23656617  0.07371527  0.21161001 -0.02489794 -0.25916503  0.03760729\n",
      " -0.29442087  0.14137108 -0.26012709  0.0889984   0.04817719  0.13119457\n",
      " -0.10392395 -0.16494688  0.17830231 -0.15982333  0.06517587  0.00561743\n",
      " -0.13630219  0.14112183 -0.10979937 -0.33457402 -0.12987224 -0.1216013\n",
      " -0.07177944  0.03661826  0.03310705  0.23992235 -0.02042981  0.23768973\n",
      "  0.13822417 -0.03547761  0.24468149  0.07772608 -0.30047793  0.13435591\n",
      "  0.07049276 -0.19026404  0.0362698   0.04984945 -0.22830748 -0.08468102\n",
      "  0.19089522 -0.22387731 -0.16093242 -0.06879506 -0.26977098 -0.145159\n",
      " -0.09222547 -0.22049652  0.05692207 -0.3128276  -0.14222767  0.08021492\n",
      "  0.04287703 -0.07171237 -0.24602516 -0.09207749  0.09789486 -0.5054975\n",
      "  0.08829996 -0.23386299  0.17337949 -0.15474721 -0.10266618 -0.35135381\n",
      "  0.10614171 -0.36527689  0.13395328 -0.04679879  0.16192932  0.00698359\n",
      " -0.13459908 -0.15888365 -0.2594043   0.15279202 -0.1030523  -0.20551223\n",
      " -0.0362254  -0.16350849 -0.04379745 -0.02072324  0.04554408  0.01076519\n",
      " -0.00166642  0.16636353 -0.04926416 -0.16086919 -0.26913018 -0.03865192\n",
      " -0.22424946 -0.09374212 -0.24905594 -0.15654215 -0.00275205  0.1684141\n",
      "  0.03389502 -0.0283365  -0.03050522 -0.12554482  0.05719848  0.01141412\n",
      "  0.12056247 -0.20740647  0.15330903  0.22715279 -0.21839169  0.27067132\n",
      "  0.18604035 -0.09539056  0.05690372 -0.08169238 -0.2659467  -0.36292586\n",
      " -0.2658696  -0.06176512 -0.09655407 -0.03641061  0.11982834  0.02867844\n",
      "  0.26979152 -0.18075368  0.10364515 -0.31437321  0.07243039 -0.01574971\n",
      "  0.06591584 -0.22433015  0.02758261  0.32132207 -0.00068488 -0.29574908\n",
      " -0.00309238  0.11007168 -0.25949041  0.18187533  0.20980604  0.02620066\n",
      " -0.36450426  0.23474982  0.12003874  0.02513191 -0.0962616   0.04748172\n",
      " -0.10952531 -0.14148074 -0.14200239 -0.07704177 -0.08414253 -0.26412846\n",
      " -0.24710211  0.37930122  0.1121482  -0.16740404  0.06902279  0.37261647\n",
      "  0.11237987  0.05004038 -0.01314452  0.0044055  -0.00506685  0.13537067\n",
      " -0.10071498 -0.11069446  0.11740509 -0.16205621 -0.29718931  0.10333576\n",
      " -0.22002155  0.04701774 -0.03629565 -0.05899557 -0.15902437  0.15707865\n",
      "  0.05001535  0.03313055]\n",
      "u_info:\n",
      "[ 225.47676494  225.47676494  225.47676494  225.47676494  225.47676494\n",
      "  225.47676494  225.47676494  225.47676494  225.47676494  225.47676494\n",
      "  225.47676494  225.47676494  225.47676494  225.47676494  225.47676494\n",
      "  225.47676494  225.47676494  225.47676494  225.47676494  225.47676494\n",
      "  225.47676494  225.47676494  225.47676494  225.47676494  225.47676494\n",
      "  225.47676494  225.47676494  225.47676494  225.47676494  225.47676494\n",
      "  225.47676494  225.47676494  225.47676494  225.47676494  225.47676494\n",
      "  225.47676494  225.47676494  225.47676494  225.47676494  225.47676494\n",
      "  225.47676494  225.47676494  225.47676494  225.47676494  225.47676494\n",
      "  225.47676494  225.47676494  225.47676494  225.47676494  225.47676494\n",
      "  225.47676494  225.47676494  225.47676494  225.47676494  225.47676494\n",
      "  225.47676494  225.47676494  225.47676494  225.47676494  225.47676494\n",
      "  225.47676494  225.47676494  225.47676494  225.47676494  225.47676494\n",
      "  225.47676494  225.47676494  225.47676494  225.47676494  225.47676494\n",
      "  225.47676494  225.47676494  225.47676494  225.47676494  225.47676494\n",
      "  225.47676494  225.47676494  225.47676494  225.47676494  225.47676494\n",
      "  225.47676494  225.47676494  225.47676494  225.47676494  225.47676494\n",
      "  225.47676494  225.47676494  225.47676494  225.47676494  225.47676494\n",
      "  225.47676494  225.47676494  225.47676494  225.47676494  225.47676494\n",
      "  225.47676494  225.47676494  225.47676494  225.47676494  225.47676494\n",
      "  225.47676494  225.47676494  225.47676494  225.47676494  225.47676494\n",
      "  225.47676494  225.47676494  225.47676494  225.47676494  225.47676494\n",
      "  225.47676494  225.47676494  225.47676494  225.47676494  225.47676494\n",
      "  225.47676494  225.47676494  225.47676494  225.47676494  225.47676494\n",
      "  225.47676494  225.47676494  225.47676494  225.47676494  225.47676494\n",
      "  225.47676494  225.47676494  225.47676494  225.47676494  225.47676494\n",
      "  225.47676494  225.47676494  225.47676494  225.47676494  225.47676494\n",
      "  225.47676494  225.47676494  225.47676494  225.47676494  225.47676494\n",
      "  225.47676494  225.47676494  225.47676494  225.47676494  225.47676494\n",
      "  225.47676494  225.47676494  225.47676494  225.47676494  225.47676494\n",
      "  225.47676494  225.47676494  225.47676494  225.47676494  225.47676494\n",
      "  225.47676494  225.47676494  225.47676494  225.47676494  225.47676494\n",
      "  225.47676494  225.47676494  225.47676494  225.47676494  225.47676494\n",
      "  225.47676494  225.47676494  225.47676494  225.47676494  225.47676494\n",
      "  225.47676494  225.47676494  225.47676494  225.47676494  225.47676494\n",
      "  225.47676494  225.47676494  225.47676494  225.47676494  225.47676494\n",
      "  225.47676494  225.47676494  225.47676494  225.47676494  225.47676494\n",
      "  225.47676494  225.47676494  225.47676494  225.47676494  225.47676494\n",
      "  225.47676494  225.47676494  225.47676494  225.47676494  225.47676494\n",
      "  225.47676494  225.47676494  225.47676494  225.47676494  225.47676494]\n"
     ]
    }
   ],
   "source": [
    "print lmm_par_opt\n"
   ]
  },
  {
   "cell_type": "code",
   "execution_count": 97,
   "metadata": {},
   "outputs": [
    {
     "name": "stdout",
     "output_type": "stream",
     "text": [
      "--------------- beta:\n",
      "\n",
      "[-2. -1.  0.  1.  2.]\n",
      "[-2.01884278 -0.98893181 -0.0041212   1.01700877  2.00936384]\n",
      "--------------- mu:\n",
      "\n",
      "-0.0319130345764\n",
      "0.0\n",
      "--------------- mu info:\n",
      "\n",
      "24.2348368725\n",
      "40.0\n",
      "--------------- y info:\n",
      "\n",
      "1.00620960303\n",
      "1.0\n"
     ]
    },
    {
     "data": {
      "image/png": "[encoded data removed]",
      "text/plain": [
       "<matplotlib.figure.Figure at 0x7f51f7bfdf10>"
      ]
     },
     "metadata": {},
     "output_type": "display_data"
    },
    {
     "name": "stdout",
     "output_type": "stream",
     "text": [
      "<ggplot: (8749384130521)>\n"
     ]
    },
    {
     "data": {
      "image/png": "[encoded data removed]",
      "text/plain": [
       "<matplotlib.figure.Figure at 0x7f51f7aa4250>"
      ]
     },
     "metadata": {},
     "output_type": "display_data"
    },
    {
     "name": "stdout",
     "output_type": "stream",
     "text": [
      "<ggplot: (8749376577149)>\n"
     ]
    }
   ],
   "source": [
    "# print(glmm_par_opt)\n",
    "print '--------------- beta:\\n'\n",
    "print true_beta\n",
    "print lmm_par_opt['beta'].e()\n",
    "\n",
    "print '--------------- mu:\\n'\n",
    "print lmm_par_opt['mu'].e()[0]\n",
    "print true_mu\n",
    "\n",
    "print '--------------- mu info:\\n'\n",
    "print lmm_par_opt['mu_info'].e()[0]\n",
    "print true_mu_info\n",
    "\n",
    "print '--------------- y info:\\n'\n",
    "print lmm_par_opt['y_info'].e()[0]\n",
    "print true_y_info\n",
    "\n",
    "\n",
    "# Check the random effect estimates.  This requires simulated data.\n",
    "from ggplot import *\n",
    "import pandas as pd\n",
    "%matplotlib inline\n",
    "\n",
    "e_u = lmm_par_opt['u'].e()\n",
    "\n",
    "plot_df = pd.DataFrame({ 'opt': lmm_par_opt['u'].e(), 'true': true_u })\n",
    "print ggplot(plot_df, aes(x='true', y='opt')) + geom_point() + geom_abline(slope=1, intercept=0)\n",
    "\n",
    "plot_df = pd.DataFrame({ 'opt': lmm_par_opt['beta'].e(), 'true': true_beta })\n",
    "print ggplot(plot_df, aes(x='true', y='opt')) + geom_point() + geom_abline(slope=1, intercept=0)\n"
   ]
  },
  {
   "cell_type": "code",
   "execution_count": 95,
   "metadata": {},
   "outputs": [
    {
     "name": "stdout",
     "output_type": "stream",
     "text": [
      "Calculating KL Hessian.\n",
      "\n",
      "Done.\n",
      "\n",
      "496273336.875\n",
      "hess_time: 54.143301\n"
     ]
    }
   ],
   "source": [
    "# Slow, but probably faster than using CG if you want the covariance of many parameters.\n",
    "hess_time = time.time()\n",
    "print 'Calculating KL Hessian.\\n'\n",
    "kl_hess = KLHess(vb_opt.x)\n",
    "hess_time =  time.time() - hess_time\n",
    "elbo_hess = -kl_hess\n",
    "print 'Done.\\n'\n",
    "\n",
    "print 'hess_time: %f' % hess_time"
   ]
  },
  {
   "cell_type": "code",
   "execution_count": 105,
   "metadata": {},
   "outputs": [
    {
     "name": "stdout",
     "output_type": "stream",
     "text": [
      "22277.1932001\n",
      "0.000350886396672\n"
     ]
    }
   ],
   "source": [
    "hess_norm = np.sqrt(np.sum(kl_hess**2))\n",
    "diag_norm = np.sqrt(np.sum(np.diag(kl_hess)**2))\n",
    "\n",
    "# How diagonal is the Hessian?\n",
    "print hess_norm \n",
    "print (hess_norm - diag_norm) / hess_norm"
   ]
  },
  {
   "cell_type": "code",
   "execution_count": 94,
   "metadata": {
    "collapsed": true
   },
   "outputs": [],
   "source": [
    "moment_jac = MomentJacobian(vb_opt.x)\n",
    "lrvb_cov = np.matmul(moment_jac, np.linalg.solve(kl_hess, moment_jac.T))\n",
    "\n",
    "prior_indices = copy.deepcopy(prior_par)\n",
    "prior_indices.set_vector(1 + np.array(range(prior_indices.vector_size())))\n",
    "\n",
    "vp_indices = copy.deepcopy(lmm_par_opt)\n",
    "vp_indices.set_vector(1 + np.array(range(vp_indices.vector_size())))"
   ]
  }
 ],
 "metadata": {
  "kernelspec": {
   "display_name": "Python 2",
   "language": "python",
   "name": "python2"
  },
  "language_info": {
   "codemirror_mode": {
    "name": "ipython",
    "version": 2
   },
   "file_extension": ".py",
   "mimetype": "text/x-python",
   "name": "python",
   "nbconvert_exporter": "python",
   "pygments_lexer": "ipython2",
   "version": "2.7.12"
  }
 },
 "nbformat": 4,
 "nbformat_minor": 1
}
