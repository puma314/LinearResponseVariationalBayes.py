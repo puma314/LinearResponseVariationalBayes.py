{
 "cells": [
  {
   "cell_type": "code",
   "execution_count": 10,
   "metadata": {
    "collapsed": true
   },
   "outputs": [],
   "source": [
    "import autograd.numpy as np\n",
    "from autograd.core import primitive\n",
    "from autograd import grad, jacobian, hessian\n",
    "from autograd.numpy.numpy_grads import unbroadcast\n",
    "import scipy.stats"
   ]
  },
  {
   "cell_type": "code",
   "execution_count": 52,
   "metadata": {
    "collapsed": false
   },
   "outputs": [
    {
     "name": "stdout",
     "output_type": "stream",
     "text": [
      "[1, 2]\n",
      "[3, 4, 5]\n",
      "[[ 0.1]\n",
      " [ 0.2]\n",
      " [ 0.5]]\n",
      "[[ 1.01  0.02  0.05]\n",
      " [ 0.02  1.04  0.1 ]\n",
      " [ 0.05  0.1   1.25]]\n",
      "[ 0.1   0.2   0.5   1.01  0.02  0.05  0.02  1.04  0.1   0.05  0.1   1.25]\n"
     ]
    }
   ],
   "source": [
    "foo = [1, 2, 3, 4, 5]\n",
    "print foo[0:2]\n",
    "print foo[2:5]\n",
    "\n",
    "x = np.matrix([1., 3., 4.]).T\n",
    "x_info = np.outer(0.1 * x, x) + np.eye(3)\n",
    "mu = np.matrix([0.1, 0.2, 0.5]).T\n",
    "mu_cov = np.matrix(np.outer(mu, mu) + np.eye(3))\n",
    "print mu\n",
    "print mu_cov\n",
    "print np.concatenate((mu.A1, mu_cov.A1))"
   ]
  },
  {
   "cell_type": "code",
   "execution_count": 72,
   "metadata": {
    "collapsed": false
   },
   "outputs": [
    {
     "data": {
      "text/plain": [
       "array([  2.,   6.,  10.])"
      ]
     },
     "execution_count": 72,
     "metadata": {},
     "output_type": "execute_result"
    }
   ],
   "source": [
    "x = np.array([1., 3., 5.])\n",
    "\n",
    "def Mag(x):\n",
    "    return np.dot(x.T, x)\n",
    "\n",
    "MagGrad = grad(Mag)\n",
    "MagGrad(x)"
   ]
  },
  {
   "cell_type": "code",
   "execution_count": 91,
   "metadata": {
    "collapsed": false
   },
   "outputs": [
    {
     "name": "stdout",
     "output_type": "stream",
     "text": [
      "5.891\n",
      "5.891\n",
      "[  3.23   9.79  12.82]\n",
      "[[ 1.1  0.3  0.4]\n",
      " [ 0.3  1.9  1.2]\n",
      " [ 0.4  1.2  2.6]]\n",
      "[  3.23   9.79  12.82]\n",
      "[[-0.55 -0.15 -0.2 ]\n",
      " [-0.15 -0.95 -0.6 ]\n",
      " [-0.2  -0.6  -1.3 ]]\n"
     ]
    }
   ],
   "source": [
    "def LogLikelihood(x_row, x_info, e_mu, e_mu_cov):\n",
    "    # TODO: if you're not using autodiff you can just do the matrix multiply once.\n",
    "    retval =  0.5 * (np.dot(e_mu.T, np.matmul(x_info, x_row)) + \\\n",
    "                     np.dot(x_row.T, np.matmul(x_info, e_mu)) - \\\n",
    "                     np.dot(e_mu.T, np.matmul(x_info, e_mu)) - \\\n",
    "                     np.trace(np.matmul(x_info, e_mu_cov)))\n",
    "    return retval\n",
    "\n",
    "@primitive\n",
    "def LogLikelihoodAD(x_row, x_info, e_mu, e_mu_cov):\n",
    "    return LogLikelihood(x_row, x_info, e_mu, e_mu_cov)\n",
    "\n",
    "def LogLikelihoodGrad_e_mu(x_row, x_info, e_mu):\n",
    "    return np.matmul(x_info, x_row - e_mu)\n",
    "\n",
    "def LogLikelihoodGrad_e_mu_cov(x_info):\n",
    "    return -0.5 * x_info\n",
    "\n",
    "def LogLikelihoodAD_e_mu_vjp(g, ans, vs, gvs, x_row, x_info, e_mu, e_mu_cov):\n",
    "    return g * LogLikelihoodGrad_e_mu(x_row, x_info, e_mu)\n",
    "\n",
    "def LogLikelihoodAD_e_mu_cov_vjp(g, ans, vs, gvs, x_row, x_info, e_mu, e_mu_cov):\n",
    "    return g * LogLikelihoodGrad_e_mu_cov(x_info)\n",
    "\n",
    "def ParamUnwrapper(vec, k):\n",
    "    e_mu = vec[0:k]\n",
    "    mu_cov = vec[k:(k + k ** 2)].reshape(k, k)\n",
    "    return e_mu, mu_cov\n",
    "    \n",
    "def ParamWrapper(e_mu, mu_cov, k):\n",
    "    return np.concatenate((e_mu.A1, mu_cov.A1))\n",
    "\n",
    "def LogLikelihoodWrapper(vec, x_row, x_info):\n",
    "    e_mu, mu_cov = ParamUnwrapper(vec, x_row.size)\n",
    "    return LogLikelihood(x_row, x_info, e_mu, mu_cov)\n",
    "\n",
    "\n",
    "LogLikelihoodAD.defvjp(LogLikelihoodAD_e_mu_vjp, argnum=2)\n",
    "LogLikelihoodAD.defvjp(LogLikelihoodAD_e_mu_cov_vjp, argnum=3)\n",
    "\n",
    "print LogLikelihood(x, x_info, mu, mu_cov)\n",
    "print LogLikelihoodAD(x, x_info, mu, mu_cov)\n",
    "\n",
    "LogLikelihoodWrapperGrad = grad(LogLikelihoodWrapper, argnum=0)\n",
    "    \n",
    "if False:\n",
    "    mu_test, mu_cov_test = ParamUnwrapper(vec, 3)\n",
    "    print vec\n",
    "    print mu_test\n",
    "    print mu_cov_test\n",
    "\n",
    "# Got to use functors I guess?\n",
    "# vec = ParamWrapper(mu, mu_cov, 3)\n",
    "# print LogLikelihoodWrapper(vec, x_row, x_info)\n",
    "# LogLikelihoodWrapperGrad(vec, x, x_info)\n",
    "\n",
    "\n",
    "x = np.array([1., 3., 4.])\n",
    "x_info = np.outer(0.1 * x, x) + np.eye(3)\n",
    "mu = np.array([0.1, 0.2, 0.5])\n",
    "mu_cov = np.array(np.outer(mu, mu) + np.eye(3))\n",
    "\n",
    "LogLikelihoodADGrad = grad(LogLikelihoodAD, argnum=2)\n",
    "print LogLikelihoodADGrad(x, x_info, mu, mu_cov)\n",
    "LogLikelihoodADGrad = grad(LogLikelihoodAD, argnum=3)\n",
    "print LogLikelihoodADGrad(x, x_info, mu, mu_cov)\n",
    "\n",
    "LogLikelihoodGrad = grad(LogLikelihood, argnum=2)\n",
    "print LogLikelihoodGrad(x, x_info, mu, mu_cov)\n",
    "LogLikelihoodGrad = grad(LogLikelihood, argnum=3)\n",
    "print LogLikelihoodGrad(x, x_info, mu, mu_cov)\n",
    "\n"
   ]
  },
  {
   "cell_type": "code",
   "execution_count": 83,
   "metadata": {
    "collapsed": false
   },
   "outputs": [
    {
     "name": "stdout",
     "output_type": "stream",
     "text": [
      "9.72\n",
      "6.629\n"
     ]
    }
   ],
   "source": [
    "\n",
    "x = np.array([1., 3., 4.])\n",
    "x_info = np.outer(0.1 * x, x) + np.eye(3)\n",
    "mu = np.array([0.1, 0.2, 0.5]).T\n",
    "mu_cov = np.array(np.outer(mu, mu) + np.eye(3))\n",
    "\n",
    "print np.dot(x.T, np.matmul(x_info, mu))\n",
    "print np.trace(np.matmul(x_info, mu_cov))\n"
   ]
  },
  {
   "cell_type": "code",
   "execution_count": 74,
   "metadata": {
    "collapsed": false
   },
   "outputs": [
    {
     "name": "stdout",
     "output_type": "stream",
     "text": [
      "[ 42.]\n"
     ]
    },
    {
     "data": {
      "text/plain": [
       "array([ 18.,  12.,   6.])"
      ]
     },
     "execution_count": 74,
     "metadata": {},
     "output_type": "execute_result"
    }
   ],
   "source": [
    "\n",
    "# It can handle matrices, but not matrix return types.\n",
    "def MyFun(x):\n",
    "    x_mat = np.matrix(x).T\n",
    "    return 3 * np.dot(x_mat.T, x_mat)[0,0]\n",
    "\n",
    "x = np.array([3., 2., 1.])\n",
    "x_mat = np.matrix(x).T\n",
    "print 3 * np.ravel(np.dot(x_mat.T, x_mat))\n",
    "MyFunGrad = grad(MyFun)\n",
    "MyFunGrad(x)"
   ]
  }
 ],
 "metadata": {
  "kernelspec": {
   "display_name": "Python [Root]",
   "language": "python",
   "name": "Python [Root]"
  },
  "language_info": {
   "codemirror_mode": {
    "name": "ipython",
    "version": 2
   },
   "file_extension": ".py",
   "mimetype": "text/x-python",
   "name": "python",
   "nbconvert_exporter": "python",
   "pygments_lexer": "ipython2",
   "version": "2.7.12"
  }
 },
 "nbformat": 4,
 "nbformat_minor": 0
}
