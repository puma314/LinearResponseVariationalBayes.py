{
 "cells": [
  {
   "cell_type": "code",
   "execution_count": 10,
   "metadata": {
    "collapsed": true
   },
   "outputs": [],
   "source": [
    "import autograd.numpy as np\n",
    "from autograd.core import primitive\n",
    "from autograd import grad, jacobian, hessian\n",
    "from autograd.numpy.numpy_grads import unbroadcast\n",
    "import scipy.stats"
   ]
  },
  {
   "cell_type": "code",
   "execution_count": 52,
   "metadata": {
    "collapsed": false
   },
   "outputs": [
    {
     "name": "stdout",
     "output_type": "stream",
     "text": [
      "[1, 2]\n",
      "[3, 4, 5]\n",
      "[[ 0.1]\n",
      " [ 0.2]\n",
      " [ 0.5]]\n",
      "[[ 1.01  0.02  0.05]\n",
      " [ 0.02  1.04  0.1 ]\n",
      " [ 0.05  0.1   1.25]]\n",
      "[ 0.1   0.2   0.5   1.01  0.02  0.05  0.02  1.04  0.1   0.05  0.1   1.25]\n"
     ]
    }
   ],
   "source": [
    "foo = [1, 2, 3, 4, 5]\n",
    "print foo[0:2]\n",
    "print foo[2:5]\n",
    "\n",
    "\n",
    "\n",
    "x = np.matrix([1., 3., 4.]).T\n",
    "x_info = np.outer(0.1 * x, x) + np.eye(3)\n",
    "mu = np.matrix([0.1, 0.2, 0.5]).T\n",
    "mu_cov = np.matrix(np.outer(mu, mu) + np.eye(3))\n",
    "print mu\n",
    "print mu_cov\n",
    "print np.concatenate((mu.A1, mu_cov.A1))"
   ]
  },
  {
   "cell_type": "code",
   "execution_count": 62,
   "metadata": {
    "collapsed": false
   },
   "outputs": [
    {
     "name": "stdout",
     "output_type": "stream",
     "text": [
      "[[ 0.1]]\n",
      "[[ 0.1]]\n",
      "0.1\n"
     ]
    },
    {
     "data": {
      "text/plain": [
       "array([ 1.,  0.,  0.,  0.,  0.,  0.,  0.,  0.,  0.,  0.,  0.,  0.])"
      ]
     },
     "execution_count": 62,
     "metadata": {},
     "output_type": "execute_result"
    }
   ],
   "source": [
    "def LogLikelihood(x_row, x_info, e_mu, e_mu_cov):\n",
    "    # TODO: if you're not using autodiff you can just do the matrix multiply once.\n",
    "#     return 0.5 * (np.dot(e_mu.T, np.matmul(x_info, x_row)) + \\\n",
    "#                   np.dot(x_row.T, np.matmul(x_info, e_mu)) - \\\n",
    "#                   np.dot(e_mu.T, np.matmul(x_info, e_mu)) - \\\n",
    "#                   np.trace(np.matmul(x_info, e_mu_cov)))\n",
    "    return e_mu[0] * x_row[0]\n",
    "\n",
    "@primitive\n",
    "def LogLikelihoodAD(x_row, x_info, e_mu, e_mu_cov):\n",
    "    return LogLikelihood(x_row, x_info, e_mu, e_mu_cov)\n",
    "\n",
    "def LogLikelihoodGrad_e_mu(x_row, x_info, e_mu):\n",
    "    return np.matmul(x_info, x_row - e_mu)\n",
    "\n",
    "def LogLikelihoodGrad_e_mu_cov(x_info):\n",
    "    return x_info\n",
    "\n",
    "def LogLikelihoodAD_e_mu_vjp(g, ans, vs, gvs, x_row, x_info, e_mu, e_mu_cov):\n",
    "    return g * LogLikelihoodGrad_e_mu(x_row, x_info, e_mu)\n",
    "\n",
    "def LogLikelihoodAD_e_mu_cov_vjp(g, ans, vs, gvs, x_row, x_info, e_mu, e_mu_cov):\n",
    "    return g * LogLikelihoodGrad_e_mu_cov(x_info)\n",
    "\n",
    "def ParamUnwrapper(vec, k):\n",
    "    e_mu = vec[0:k]\n",
    "    mu_cov = vec[k:(k + k ** 2)].reshape(k, k)\n",
    "    return e_mu, mu_cov\n",
    "    \n",
    "def ParamWrapper(e_mu, mu_cov, k):\n",
    "    return np.concatenate((e_mu.A1, mu_cov.A1))\n",
    "\n",
    "def LogLikelihoodWrapper(vec, x_row, x_info):\n",
    "    e_mu, mu_cov = ParamUnwrapper(vec, x_row.size)\n",
    "    return LogLikelihood(x_row, x_info, e_mu, mu_cov)\n",
    "\n",
    "\n",
    "LogLikelihoodAD.defvjp(LogLikelihoodAD_e_mu_vjp, argnum=2)\n",
    "LogLikelihoodAD.defvjp(LogLikelihoodAD_e_mu_cov_vjp, argnum=3)\n",
    "\n",
    "print LogLikelihood(x, x_info, mu, mu_cov)\n",
    "print LogLikelihoodAD(x, x_info, mu, mu_cov)\n",
    "\n",
    "LogLikelihoodGrad = grad(LogLikelihoodWrapper, argnum=0)\n",
    "# LogLikelihoodGrad = grad(LogLikelihoodAD, argnum=2)\n",
    "    \n",
    "vec = ParamWrapper(mu, mu_cov, 3)\n",
    "if False:\n",
    "    mu_test, mu_cov_test = ParamUnwrapper(vec, 3)\n",
    "    print vec\n",
    "    print mu_test\n",
    "    print mu_cov_test\n",
    "\n",
    "print LogLikelihoodWrapper(vec, x_row, x_info)\n",
    "LogLikelihoodGrad(vec, x, x_info)\n"
   ]
  },
  {
   "cell_type": "code",
   "execution_count": 26,
   "metadata": {
    "collapsed": false
   },
   "outputs": [
    {
     "name": "stdout",
     "output_type": "stream",
     "text": [
      "[ 42.]\n"
     ]
    },
    {
     "data": {
      "text/plain": [
       "array([ 18.,  12.,   6.])"
      ]
     },
     "execution_count": 26,
     "metadata": {},
     "output_type": "execute_result"
    }
   ],
   "source": [
    "\n",
    "def MyFun(x):\n",
    "    x_mat = np.matrix(x).T\n",
    "    return 3 * np.dot(x_mat.T, x_mat)[0,0]\n",
    "\n",
    "x = np.array([3., 2., 1.])\n",
    "x_mat = np.matrix(x).T\n",
    "print 3 * np.ravel(np.dot(x_mat.T, x_mat))\n",
    "MyFunGrad = grad(MyFun)\n",
    "MyFunGrad(x)"
   ]
  }
 ],
 "metadata": {
  "kernelspec": {
   "display_name": "Python [Root]",
   "language": "python",
   "name": "Python [Root]"
  },
  "language_info": {
   "codemirror_mode": {
    "name": "ipython",
    "version": 2
   },
   "file_extension": ".py",
   "mimetype": "text/x-python",
   "name": "python",
   "nbconvert_exporter": "python",
   "pygments_lexer": "ipython2",
   "version": "2.7.12"
  }
 },
 "nbformat": 4,
 "nbformat_minor": 0
}
