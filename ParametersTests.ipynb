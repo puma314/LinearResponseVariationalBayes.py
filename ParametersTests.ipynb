{
 "cells": [
  {
   "cell_type": "code",
   "execution_count": 1,
   "metadata": {
    "collapsed": true
   },
   "outputs": [],
   "source": [
    "from VariationalBayes import ScalarParam, ModelParamsDict, VectorParam\n",
    "from VariationalBayes.NormalParams import MVNParam, UVNParam\n",
    "from VariationalBayes.GammaParams import GammaParam\n",
    "\n",
    "from autograd import grad, hessian, jacobian, hessian_vector_product\n",
    "import autograd.numpy as np\n",
    "\n",
    "import VariationalBayes as vb\n",
    "\n",
    "\n",
    "def ApproxEq(v1, v2, tol=1e-8):\n",
    "    return np.max(np.abs(v1 - v2)) < tol"
   ]
  },
  {
   "cell_type": "code",
   "execution_count": 2,
   "metadata": {
    "collapsed": false
   },
   "outputs": [],
   "source": [
    "vec = np.array([0.5, 2.5])\n",
    "for lb in [ -float(\"inf\"), 0.2]:\n",
    "    for ub in [ float(\"inf\"), 2.7]:\n",
    "        vec_free = vb.Parameters.unconstrain_vector(vec, lb=lb, ub=ub)\n",
    "        vec_test = vb.Parameters.constrain(vec_free, lb=lb, ub=ub)\n",
    "        assert ApproxEq(vec, vec_test)"
   ]
  },
  {
   "cell_type": "code",
   "execution_count": 3,
   "metadata": {
    "collapsed": false
   },
   "outputs": [],
   "source": [
    "mat = np.full(4, 0.2).reshape(2, 2) + np.eye(2)\n",
    "vec = vb.Parameters.vectorize_matrix(mat)\n",
    "assert ApproxEq(mat, vb.Parameters.unvectorize_matrix(vec))"
   ]
  },
  {
   "cell_type": "code",
   "execution_count": 5,
   "metadata": {
    "collapsed": false
   },
   "outputs": [
    {
     "ename": "AttributeError",
     "evalue": "'numpy.ndarray' object has no attribute 'append'",
     "output_type": "error",
     "traceback": [
      "\u001b[1;31m---------------------------------------------------------------------------\u001b[0m",
      "\u001b[1;31mAttributeError\u001b[0m                            Traceback (most recent call last)",
      "\u001b[1;32m<ipython-input-5-cf25ac6bf7e8>\u001b[0m in \u001b[0;36m<module>\u001b[1;34m()\u001b[0m\n\u001b[0;32m     16\u001b[0m     \u001b[1;32mreturn\u001b[0m \u001b[0mnp\u001b[0m\u001b[1;33m.\u001b[0m\u001b[0marray\u001b[0m\u001b[1;33m(\u001b[0m\u001b[0mnums\u001b[0m\u001b[1;33m)\u001b[0m\u001b[1;33m.\u001b[0m\u001b[0mreshape\u001b[0m\u001b[1;33m(\u001b[0m\u001b[0mmat_size\u001b[0m\u001b[1;33m,\u001b[0m \u001b[0mmat_size\u001b[0m\u001b[1;33m)\u001b[0m\u001b[1;33m\u001b[0m\u001b[0m\n\u001b[0;32m     17\u001b[0m \u001b[1;33m\u001b[0m\u001b[0m\n\u001b[1;32m---> 18\u001b[1;33m \u001b[1;32massert\u001b[0m \u001b[0mApproxEq\u001b[0m\u001b[1;33m(\u001b[0m\u001b[0mmat\u001b[0m\u001b[1;33m,\u001b[0m \u001b[0munvectorize_matrix\u001b[0m\u001b[1;33m(\u001b[0m\u001b[0mvec\u001b[0m\u001b[1;33m)\u001b[0m\u001b[1;33m)\u001b[0m\u001b[1;33m\u001b[0m\u001b[0m\n\u001b[0m\u001b[0;32m     19\u001b[0m \u001b[1;33m\u001b[0m\u001b[0m\n\u001b[0;32m     20\u001b[0m \u001b[0mUnvecGrad\u001b[0m \u001b[1;33m=\u001b[0m \u001b[0mjacobian\u001b[0m\u001b[1;33m(\u001b[0m\u001b[0munvectorize_matrix\u001b[0m\u001b[1;33m)\u001b[0m\u001b[1;33m\u001b[0m\u001b[0m\n",
      "\u001b[1;32m<ipython-input-5-cf25ac6bf7e8>\u001b[0m in \u001b[0;36munvectorize_matrix\u001b[1;34m(vec)\u001b[0m\n\u001b[0;32m     13\u001b[0m     \u001b[1;32mfor\u001b[0m \u001b[0mk1\u001b[0m \u001b[1;32min\u001b[0m \u001b[0mrange\u001b[0m\u001b[1;33m(\u001b[0m\u001b[0mmat_size\u001b[0m\u001b[1;33m)\u001b[0m\u001b[1;33m:\u001b[0m\u001b[1;33m\u001b[0m\u001b[0m\n\u001b[0;32m     14\u001b[0m         \u001b[1;32mfor\u001b[0m \u001b[0mk2\u001b[0m \u001b[1;32min\u001b[0m \u001b[0mrange\u001b[0m\u001b[1;33m(\u001b[0m\u001b[0mmat_size\u001b[0m\u001b[1;33m)\u001b[0m\u001b[1;33m:\u001b[0m\u001b[1;33m\u001b[0m\u001b[0m\n\u001b[1;32m---> 15\u001b[1;33m             \u001b[0mnums\u001b[0m\u001b[1;33m.\u001b[0m\u001b[0mappend\u001b[0m\u001b[1;33m(\u001b[0m\u001b[0mvec\u001b[0m\u001b[1;33m[\u001b[0m\u001b[0mSymIndex\u001b[0m\u001b[1;33m(\u001b[0m\u001b[0mk1\u001b[0m\u001b[1;33m,\u001b[0m \u001b[0mk2\u001b[0m\u001b[1;33m)\u001b[0m\u001b[1;33m]\u001b[0m\u001b[1;33m)\u001b[0m\u001b[1;33m\u001b[0m\u001b[0m\n\u001b[0m\u001b[0;32m     16\u001b[0m     \u001b[1;32mreturn\u001b[0m \u001b[0mnp\u001b[0m\u001b[1;33m.\u001b[0m\u001b[0marray\u001b[0m\u001b[1;33m(\u001b[0m\u001b[0mnums\u001b[0m\u001b[1;33m)\u001b[0m\u001b[1;33m.\u001b[0m\u001b[0mreshape\u001b[0m\u001b[1;33m(\u001b[0m\u001b[0mmat_size\u001b[0m\u001b[1;33m,\u001b[0m \u001b[0mmat_size\u001b[0m\u001b[1;33m)\u001b[0m\u001b[1;33m\u001b[0m\u001b[0m\n\u001b[0;32m     17\u001b[0m \u001b[1;33m\u001b[0m\u001b[0m\n",
      "\u001b[1;31mAttributeError\u001b[0m: 'numpy.ndarray' object has no attribute 'append'"
     ]
    }
   ],
   "source": [
    "import math\n",
    "\n",
    "mat = np.full(4, 0.2).reshape(2, 2) + np.eye(2)\n",
    "vec = vb.Parameters.vectorize_matrix(mat)\n",
    "\n",
    "VecGrad = jacobian(vb.Parameters.vectorize_matrix)\n",
    "VecGrad(mat)\n",
    "\n",
    "def unvectorize_matrix(vec):\n",
    "    mat_size = int(0.5 * (math.sqrt(1 + 8 * vec.size) - 1))\n",
    "    if mat_size * (mat_size + 1) / 2 != vec.size: \\\n",
    "        raise ValueError('Vector is an impossible size')\n",
    "    nums = np.array([])\n",
    "    for k1 in range(mat_size):\n",
    "        for k2 in range(mat_size):\n",
    "            nums.append(vec[SymIndex(k1, k2)])\n",
    "    return np.array(nums).reshape(mat_size, mat_size)\n",
    "\n",
    "assert ApproxEq(mat, unvectorize_matrix(vec))\n",
    "\n",
    "UnvecGrad = jacobian(unvectorize_matrix)\n",
    "print VecGrad(vec)\n",
    "\n"
   ]
  },
  {
   "cell_type": "code",
   "execution_count": 14,
   "metadata": {
    "collapsed": false
   },
   "outputs": [
    {
     "data": {
      "text/plain": [
       "array([[[ 1.,  0.,  0.,  0.],\n",
       "        [ 0.,  1.,  0.,  0.]],\n",
       "\n",
       "       [[ 0.,  0.,  1.,  0.],\n",
       "        [ 0.,  0.,  0.,  1.]]])"
      ]
     },
     "execution_count": 14,
     "metadata": {},
     "output_type": "execute_result"
    }
   ],
   "source": [
    "# works\n",
    "def MyFun(vec):\n",
    "    return np.concatenate((vec[0:2], vec[2:4])).reshape(2,2)\n",
    "\n",
    "vec = np.array([1., 2., 3., 4.])\n",
    "MyFun(vec)\n",
    "\n",
    "MyFunJacobian = jacobian(MyFun)\n",
    "MyFunJacobian(vec)"
   ]
  },
  {
   "cell_type": "code",
   "execution_count": 28,
   "metadata": {
    "collapsed": false
   },
   "outputs": [],
   "source": [
    "# Does not work\n",
    "def MyFun(vec):\n",
    "    foo = vec[0:2]\n",
    "    foo = np.append(foo, vec[2:4])\n",
    "    return foo\n",
    "\n",
    "vec = np.array([1., 2., 3., 4.])\n",
    "MyFun(vec)\n",
    "\n",
    "MyFunJacobian = jacobian(MyFun)\n",
    "# MyFunJacobian(vec)"
   ]
  }
 ],
 "metadata": {
  "kernelspec": {
   "display_name": "Python [Root]",
   "language": "python",
   "name": "Python [Root]"
  },
  "language_info": {
   "codemirror_mode": {
    "name": "ipython",
    "version": 2
   },
   "file_extension": ".py",
   "mimetype": "text/x-python",
   "name": "python",
   "nbconvert_exporter": "python",
   "pygments_lexer": "ipython2",
   "version": "2.7.12"
  }
 },
 "nbformat": 4,
 "nbformat_minor": 0
}
