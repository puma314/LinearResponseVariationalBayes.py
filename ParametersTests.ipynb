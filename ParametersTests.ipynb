{
 "cells": [
  {
   "cell_type": "code",
   "execution_count": 2,
   "metadata": {
    "collapsed": false
   },
   "outputs": [],
   "source": [
    "from VariationalBayes import ScalarParam, ModelParamsDict, VectorParam\n",
    "from VariationalBayes.NormalParams import MVNParam, UVNParam\n",
    "from VariationalBayes.GammaParams import GammaParam\n",
    "\n",
    "from autograd import grad, hessian, jacobian, hessian_vector_product\n",
    "import autograd.numpy as np\n",
    "\n",
    "import VariationalBayes as vb\n",
    "\n",
    "\n",
    "def ApproxEq(v1, v2, tol=1e-8):\n",
    "    return np.max(np.abs(v1 - v2)) < tol"
   ]
  },
  {
   "cell_type": "code",
   "execution_count": 3,
   "metadata": {
    "collapsed": false
   },
   "outputs": [],
   "source": [
    "vec = np.array([0.5, 2.5])\n",
    "for lb in [ -float(\"inf\"), 0.2]:\n",
    "    for ub in [ float(\"inf\"), 2.7]:\n",
    "        vec_free = vb.Parameters.unconstrain_vector(vec, lb=lb, ub=ub)\n",
    "        vec_test = vb.Parameters.constrain(vec_free, lb=lb, ub=ub)\n",
    "        assert ApproxEq(vec, vec_test)"
   ]
  },
  {
   "cell_type": "code",
   "execution_count": 4,
   "metadata": {
    "collapsed": false
   },
   "outputs": [],
   "source": [
    "mat = np.full(4, 0.2).reshape(2, 2) + np.eye(2)\n",
    "vec = vb.Parameters.VectorizeSymMatrix(mat)\n",
    "assert ApproxEq(mat, vb.Parameters.UnvectorizeSymMatrix(vec))\n"
   ]
  },
  {
   "cell_type": "code",
   "execution_count": 11,
   "metadata": {
    "collapsed": false
   },
   "outputs": [
    {
     "name": "stdout",
     "output_type": "stream",
     "text": [
      "[[[ 1.  0.  0.]\n",
      "  [ 0.  1.  0.]]\n",
      "\n",
      " [[ 0.  1.  0.]\n",
      "  [ 0.  0.  1.]]]\n",
      "[[[ 1.  0.]\n",
      "  [ 0.  0.]]\n",
      "\n",
      " [[ 0.  1.]\n",
      "  [ 0.  0.]]\n",
      "\n",
      " [[ 0.  0.]\n",
      "  [ 0.  1.]]]\n"
     ]
    }
   ],
   "source": [
    "mat = np.full(4, 0.2).reshape(2, 2) + np.eye(2)\n",
    "vec = vb.Parameters.VectorizeSymMatrix(mat)\n",
    "\n",
    "UnvecJac = jacobian(vb.Parameters.UnvectorizeSymMatrix)\n",
    "print UnvecJac(vec)\n",
    "\n",
    "VecJac = jacobian(vb.Parameters.VectorizeSymMatrix)\n",
    "print VecJac(mat)\n"
   ]
  },
  {
   "cell_type": "code",
   "execution_count": 5,
   "metadata": {
    "collapsed": false
   },
   "outputs": [
    {
     "data": {
      "text/plain": [
       "array([[[ 1.,  0.,  0.,  0.],\n",
       "        [ 0.,  1.,  0.,  0.]],\n",
       "\n",
       "       [[ 0.,  0.,  1.,  0.],\n",
       "        [ 0.,  0.,  0.,  1.]]])"
      ]
     },
     "execution_count": 5,
     "metadata": {},
     "output_type": "execute_result"
    }
   ],
   "source": [
    "# works\n",
    "def MyFun(vec):\n",
    "    return np.concatenate((vec[0:2], vec[2:4])).reshape(2,2)\n",
    "\n",
    "vec = np.array([1., 2., 3., 4.])\n",
    "MyFun(vec)\n",
    "\n",
    "MyFunJacobian = jacobian(MyFun)\n",
    "MyFunJacobian(vec)"
   ]
  },
  {
   "cell_type": "code",
   "execution_count": 7,
   "metadata": {
    "collapsed": false
   },
   "outputs": [
    {
     "ename": "NotImplementedError",
     "evalue": "Gradient of append not yet implemented.",
     "output_type": "error",
     "traceback": [
      "\u001b[1;31m---------------------------------------------------------------------------\u001b[0m",
      "\u001b[1;31mNotImplementedError\u001b[0m                       Traceback (most recent call last)",
      "\u001b[1;32m<ipython-input-7-90f648b3d5b1>\u001b[0m in \u001b[0;36m<module>\u001b[1;34m()\u001b[0m\n\u001b[0;32m      9\u001b[0m \u001b[1;33m\u001b[0m\u001b[0m\n\u001b[0;32m     10\u001b[0m \u001b[0mMyFunJacobian\u001b[0m \u001b[1;33m=\u001b[0m \u001b[0mjacobian\u001b[0m\u001b[1;33m(\u001b[0m\u001b[0mMyFun\u001b[0m\u001b[1;33m)\u001b[0m\u001b[1;33m\u001b[0m\u001b[0m\n\u001b[1;32m---> 11\u001b[1;33m \u001b[0mMyFunJacobian\u001b[0m\u001b[1;33m(\u001b[0m\u001b[0mvec\u001b[0m\u001b[1;33m)\u001b[0m\u001b[1;33m\u001b[0m\u001b[0m\n\u001b[0m",
      "\u001b[1;32m/home/rgiordan/Documents/git_repos/autograd/autograd/convenience_wrappers.pyc\u001b[0m in \u001b[0;36mjacfun\u001b[1;34m(*args, **kwargs)\u001b[0m\n\u001b[0;32m     55\u001b[0m         \u001b[0mvjp\u001b[0m\u001b[1;33m,\u001b[0m \u001b[0mans\u001b[0m \u001b[1;33m=\u001b[0m \u001b[0mmake_vjp\u001b[0m\u001b[1;33m(\u001b[0m\u001b[0mfun\u001b[0m\u001b[1;33m,\u001b[0m \u001b[0margnum\u001b[0m\u001b[1;33m)\u001b[0m\u001b[1;33m(\u001b[0m\u001b[1;33m*\u001b[0m\u001b[0margs\u001b[0m\u001b[1;33m,\u001b[0m \u001b[1;33m**\u001b[0m\u001b[0mkwargs\u001b[0m\u001b[1;33m)\u001b[0m\u001b[1;33m\u001b[0m\u001b[0m\n\u001b[0;32m     56\u001b[0m         \u001b[0moutshape\u001b[0m \u001b[1;33m=\u001b[0m \u001b[0mgetshape\u001b[0m\u001b[1;33m(\u001b[0m\u001b[0mans\u001b[0m\u001b[1;33m)\u001b[0m\u001b[1;33m\u001b[0m\u001b[0m\n\u001b[1;32m---> 57\u001b[1;33m         \u001b[0mgrads\u001b[0m \u001b[1;33m=\u001b[0m \u001b[0mmap\u001b[0m\u001b[1;33m(\u001b[0m\u001b[0mvjp\u001b[0m\u001b[1;33m,\u001b[0m \u001b[0munit_vectors\u001b[0m\u001b[1;33m(\u001b[0m\u001b[0moutshape\u001b[0m\u001b[1;33m)\u001b[0m\u001b[1;33m)\u001b[0m\u001b[1;33m\u001b[0m\u001b[0m\n\u001b[0m\u001b[0;32m     58\u001b[0m         \u001b[0mjacobian_shape\u001b[0m \u001b[1;33m=\u001b[0m \u001b[0moutshape\u001b[0m \u001b[1;33m+\u001b[0m \u001b[0mgetshape\u001b[0m\u001b[1;33m(\u001b[0m\u001b[0margs\u001b[0m\u001b[1;33m[\u001b[0m\u001b[0margnum\u001b[0m\u001b[1;33m]\u001b[0m\u001b[1;33m)\u001b[0m\u001b[1;33m\u001b[0m\u001b[0m\n\u001b[0;32m     59\u001b[0m         \u001b[1;32mreturn\u001b[0m \u001b[0mnp\u001b[0m\u001b[1;33m.\u001b[0m\u001b[0mreshape\u001b[0m\u001b[1;33m(\u001b[0m\u001b[0mconcatenate\u001b[0m\u001b[1;33m(\u001b[0m\u001b[0mgrads\u001b[0m\u001b[1;33m)\u001b[0m\u001b[1;33m,\u001b[0m \u001b[0mjacobian_shape\u001b[0m\u001b[1;33m)\u001b[0m\u001b[1;33m\u001b[0m\u001b[0m\n",
      "\u001b[1;32m/home/rgiordan/Documents/git_repos/autograd/autograd/core.pyc\u001b[0m in \u001b[0;36m<lambda>\u001b[1;34m(g)\u001b[0m\n\u001b[0;32m     16\u001b[0m             \u001b[0mwarnings\u001b[0m\u001b[1;33m.\u001b[0m\u001b[0mwarn\u001b[0m\u001b[1;33m(\u001b[0m\u001b[1;34m\"Output seems independent of input.\"\u001b[0m\u001b[1;33m)\u001b[0m\u001b[1;33m\u001b[0m\u001b[0m\n\u001b[0;32m     17\u001b[0m             \u001b[1;32mreturn\u001b[0m \u001b[1;32mlambda\u001b[0m \u001b[0mg\u001b[0m \u001b[1;33m:\u001b[0m \u001b[0mstart_node\u001b[0m\u001b[1;33m.\u001b[0m\u001b[0mvspace\u001b[0m\u001b[1;33m.\u001b[0m\u001b[0mzeros\u001b[0m\u001b[1;33m(\u001b[0m\u001b[1;33m)\u001b[0m\u001b[1;33m,\u001b[0m \u001b[0mend_node\u001b[0m\u001b[1;33m\u001b[0m\u001b[0m\n\u001b[1;32m---> 18\u001b[1;33m         \u001b[1;32mreturn\u001b[0m \u001b[1;32mlambda\u001b[0m \u001b[0mg\u001b[0m \u001b[1;33m:\u001b[0m \u001b[0mbackward_pass\u001b[0m\u001b[1;33m(\u001b[0m\u001b[0mg\u001b[0m\u001b[1;33m,\u001b[0m \u001b[0mend_node\u001b[0m\u001b[1;33m,\u001b[0m \u001b[0mstart_node\u001b[0m\u001b[1;33m)\u001b[0m\u001b[1;33m,\u001b[0m \u001b[0mend_node\u001b[0m\u001b[1;33m\u001b[0m\u001b[0m\n\u001b[0m\u001b[0;32m     19\u001b[0m     \u001b[1;32mreturn\u001b[0m \u001b[0mvjp\u001b[0m\u001b[1;33m\u001b[0m\u001b[0m\n\u001b[0;32m     20\u001b[0m \u001b[1;33m\u001b[0m\u001b[0m\n",
      "\u001b[1;32m/home/rgiordan/Documents/git_repos/autograd/autograd/core.pyc\u001b[0m in \u001b[0;36mbackward_pass\u001b[1;34m(g, end_node, start_node)\u001b[0m\n\u001b[0;32m     39\u001b[0m         \u001b[1;32mfor\u001b[0m \u001b[0margnum\u001b[0m\u001b[1;33m,\u001b[0m \u001b[0mparent\u001b[0m \u001b[1;32min\u001b[0m \u001b[0mparents\u001b[0m\u001b[1;33m:\u001b[0m\u001b[1;33m\u001b[0m\u001b[0m\n\u001b[0;32m     40\u001b[0m             outgrad = function.vjp(argnum, cur_outgrad, node,\n\u001b[1;32m---> 41\u001b[1;33m                                    parent.vspace, node.vspace, args, kwargs)\n\u001b[0m\u001b[0;32m     42\u001b[0m             \u001b[0moutgrads\u001b[0m\u001b[1;33m[\u001b[0m\u001b[0mparent\u001b[0m\u001b[1;33m]\u001b[0m\u001b[1;33m.\u001b[0m\u001b[0mappend\u001b[0m\u001b[1;33m(\u001b[0m\u001b[0moutgrad\u001b[0m\u001b[1;33m)\u001b[0m\u001b[1;33m\u001b[0m\u001b[0m\n\u001b[0;32m     43\u001b[0m             \u001b[0massert_vspace_match\u001b[0m\u001b[1;33m(\u001b[0m\u001b[0moutgrad\u001b[0m\u001b[1;33m,\u001b[0m \u001b[0mparent\u001b[0m\u001b[1;33m.\u001b[0m\u001b[0mvspace\u001b[0m\u001b[1;33m,\u001b[0m \u001b[0mfunction\u001b[0m\u001b[1;33m)\u001b[0m\u001b[1;33m\u001b[0m\u001b[0m\n",
      "\u001b[1;32m/home/rgiordan/Documents/git_repos/autograd/autograd/core.pyc\u001b[0m in \u001b[0;36mvjp\u001b[1;34m(self, argnum, outgrad, ans, vs, gvs, args, kwargs)\u001b[0m\n\u001b[0;32m     82\u001b[0m             \u001b[1;32melse\u001b[0m\u001b[1;33m:\u001b[0m\u001b[1;33m\u001b[0m\u001b[0m\n\u001b[0;32m     83\u001b[0m                 \u001b[0merrstr\u001b[0m \u001b[1;33m=\u001b[0m \u001b[1;34m\"Gradient of {0} w.r.t. arg number {1} not yet implemented.\"\u001b[0m\u001b[1;33m\u001b[0m\u001b[0m\n\u001b[1;32m---> 84\u001b[1;33m             \u001b[1;32mraise\u001b[0m \u001b[0mNotImplementedError\u001b[0m\u001b[1;33m(\u001b[0m\u001b[0merrstr\u001b[0m\u001b[1;33m.\u001b[0m\u001b[0mformat\u001b[0m\u001b[1;33m(\u001b[0m\u001b[0mself\u001b[0m\u001b[1;33m.\u001b[0m\u001b[0mfun\u001b[0m\u001b[1;33m.\u001b[0m\u001b[0m__name__\u001b[0m\u001b[1;33m,\u001b[0m \u001b[0margnum\u001b[0m\u001b[1;33m)\u001b[0m\u001b[1;33m)\u001b[0m\u001b[1;33m\u001b[0m\u001b[0m\n\u001b[0m\u001b[0;32m     85\u001b[0m \u001b[1;33m\u001b[0m\u001b[0m\n\u001b[0;32m     86\u001b[0m     \u001b[1;32mdef\u001b[0m \u001b[0mdefvjp\u001b[0m\u001b[1;33m(\u001b[0m\u001b[0mself\u001b[0m\u001b[1;33m,\u001b[0m \u001b[0mvjpmaker\u001b[0m\u001b[1;33m,\u001b[0m \u001b[0margnum\u001b[0m\u001b[1;33m=\u001b[0m\u001b[1;36m0\u001b[0m\u001b[1;33m)\u001b[0m\u001b[1;33m:\u001b[0m\u001b[1;33m\u001b[0m\u001b[0m\n",
      "\u001b[1;31mNotImplementedError\u001b[0m: Gradient of append not yet implemented."
     ]
    }
   ],
   "source": [
    "# Does not work\n",
    "def MyFun(vec):\n",
    "    foo = vec[0:2]\n",
    "    foo = np.append(foo, vec[2:4])\n",
    "    return foo\n",
    "\n",
    "vec = np.array([1., 2., 3., 4.])\n",
    "MyFun(vec)\n",
    "\n",
    "MyFunJacobian = jacobian(MyFun)\n",
    "# MyFunJacobian(vec)"
   ]
  },
  {
   "cell_type": "code",
   "execution_count": null,
   "metadata": {
    "collapsed": false
   },
   "outputs": [],
   "source": [
    "# Do it my damn self\n",
    "\n",
    "from autograd.core import primitive\n",
    "\n",
    "# Uses 0-indexing. (row, col) = (k1, k2)\n",
    "def SymIndex(k1, k2):\n",
    "    def LDInd(k1, k2):\n",
    "        return k2 + k1 * (k1 + 1) / 2\n",
    "\n",
    "    if k2 <= k1:\n",
    "        return LDInd(k1, k2)\n",
    "    else:\n",
    "        return LDInd(k2, k1)\n",
    "    \n",
    "@primitive\n",
    "def UnvectorizeMatrix(vec):\n",
    "    mat_size = int(0.5 * (math.sqrt(1 + 8 * vec.size) - 1))\n",
    "    if mat_size * (mat_size + 1) / 2 != vec.size: \\\n",
    "        raise ValueError('Vector is an impossible size')\n",
    "    mat = np.empty((mat_size, mat_size))\n",
    "    for k1 in range(mat_size):\n",
    "        for k2 in range(mat_size):\n",
    "            mat[k1, k2] = vec[SymIndex(k1, k2)]\n",
    "    return mat\n",
    "\n",
    "\n",
    "def UnvectorizeMatrix_vjp(g, ans, vs, gvs, vec):\n",
    "    assert g.shape[0] == g.shape[1]\n",
    "    mat_size = g.shape[0]\n",
    "    vjp = np.zeros(mat_size * (mat_size + 1) / 2)\n",
    "    for k1 in range(mat_size):\n",
    "        for k2 in range(mat_size):\n",
    "            vjp[SymIndex(k1, k2)] += g[k1, k2]\n",
    "    return vjp\n",
    "\n",
    "\n",
    "# print UnvectorizeMatrix(vec)\n",
    "UnvectorizeMatrix.defvjp(UnvectorizeMatrix_vjp)\n",
    "\n",
    "UnvectorizeMatrixGrad = jacobian(UnvectorizeMatrix)\n",
    "print UnvectorizeMatrixGrad(vec)\n",
    "\n"
   ]
  }
 ],
 "metadata": {
  "kernelspec": {
   "display_name": "Python [Root]",
   "language": "python",
   "name": "Python [Root]"
  },
  "language_info": {
   "codemirror_mode": {
    "name": "ipython",
    "version": 2
   },
   "file_extension": ".py",
   "mimetype": "text/x-python",
   "name": "python",
   "nbconvert_exporter": "python",
   "pygments_lexer": "ipython2",
   "version": "2.7.12"
  }
 },
 "nbformat": 4,
 "nbformat_minor": 0
}
