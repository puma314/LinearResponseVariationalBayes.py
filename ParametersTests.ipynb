{
 "cells": [
  {
   "cell_type": "code",
   "execution_count": 1,
   "metadata": {
    "collapsed": false
   },
   "outputs": [],
   "source": [
    "from VariationalBayes import ScalarParam, ModelParamsDict, VectorParam\n",
    "from VariationalBayes.NormalParams import MVNParam, UVNParam\n",
    "from VariationalBayes.GammaParams import GammaParam\n",
    "\n",
    "from autograd import grad, hessian, jacobian, hessian_vector_product\n",
    "import autograd.numpy as np\n",
    "\n",
    "import VariationalBayes as vb\n",
    "\n",
    "\n",
    "def ApproxEq(v1, v2, tol=1e-8):\n",
    "    return np.max(np.abs(v1 - v2)) < tol"
   ]
  },
  {
   "cell_type": "code",
   "execution_count": 2,
   "metadata": {
    "collapsed": false
   },
   "outputs": [],
   "source": [
    "vec = np.array([0.5, 2.5])\n",
    "for lb in [ -float(\"inf\"), 0.2]:\n",
    "    for ub in [ float(\"inf\"), 2.7]:\n",
    "        vec_free = vb.Parameters.unconstrain_vector(vec, lb=lb, ub=ub)\n",
    "        vec_test = vb.Parameters.constrain(vec_free, lb=lb, ub=ub)\n",
    "        assert ApproxEq(vec, vec_test)"
   ]
  },
  {
   "cell_type": "code",
   "execution_count": 3,
   "metadata": {
    "collapsed": false
   },
   "outputs": [],
   "source": [
    "mat = np.linalg.cholesky(np.full(4, 0.2).reshape(2, 2) + np.eye(2))\n",
    "vec = vb.Parameters.VectorizeLDMatrix(mat)\n",
    "assert ApproxEq(mat, vb.Parameters.UnvectorizeLDMatrix(vec))\n"
   ]
  },
  {
   "cell_type": "code",
   "execution_count": 4,
   "metadata": {
    "collapsed": false
   },
   "outputs": [
    {
     "name": "stdout",
     "output_type": "stream",
     "text": [
      "[[[ 1.  0.  0.]\n",
      "  [ 0.  0.  0.]]\n",
      "\n",
      " [[ 0.  1.  0.]\n",
      "  [ 0.  0.  1.]]]\n",
      "[[[ 1.  0.]\n",
      "  [ 0.  0.]]\n",
      "\n",
      " [[ 0.  0.]\n",
      "  [ 1.  0.]]\n",
      "\n",
      " [[ 0.  0.]\n",
      "  [ 0.  1.]]]\n"
     ]
    }
   ],
   "source": [
    "mat = np.full(4, 0.2).reshape(2, 2) + np.eye(2)\n",
    "vec = vb.Parameters.VectorizeLDMatrix(mat)\n",
    "\n",
    "UnvecJac = jacobian(vb.Parameters.UnvectorizeLDMatrix)\n",
    "print UnvecJac(vec)\n",
    "\n",
    "VecJac = jacobian(vb.Parameters.VectorizeLDMatrix)\n",
    "print VecJac(mat)\n"
   ]
  },
  {
   "cell_type": "code",
   "execution_count": 5,
   "metadata": {
    "collapsed": false
   },
   "outputs": [],
   "source": [
    "mat = np.full(4, 0.2).reshape(2, 2) + np.eye(2)\n",
    "vec = vb.Parameters.pack_posdef_matrix(mat)\n",
    "assert ApproxEq(vb.Parameters.unpack_posdef_matrix(vec), mat)\n"
   ]
  },
  {
   "cell_type": "code",
   "execution_count": 6,
   "metadata": {
    "collapsed": false
   },
   "outputs": [],
   "source": [
    "pd_par = vb.PosDefMatrixParam('test', 2)\n",
    "mat = np.full(4, 0.2).reshape(2, 2) + np.eye(2)\n",
    "\n",
    "pd_par.set(mat)\n",
    "vec = pd_par.get_free()\n",
    "pd_par.set(np.eye(2))\n",
    "pd_par.set_free(vec)\n",
    "\n",
    "assert ApproxEq(pd_par.get(), mat)\n"
   ]
  },
  {
   "cell_type": "code",
   "execution_count": 7,
   "metadata": {
    "collapsed": false
   },
   "outputs": [
    {
     "name": "stdout",
     "output_type": "stream",
     "text": [
      "[ 8.  2.]\n",
      "[[ 1.  0.]\n",
      " [ 0.  1.]]\n"
     ]
    },
    {
     "data": {
      "text/plain": [
       "array([ 8.        ,  2.        ,  0.89442719,  0.        ,  0.89442719])"
      ]
     },
     "execution_count": 7,
     "metadata": {},
     "output_type": "execute_result"
    }
   ],
   "source": [
    "# Test parameters\n",
    "mat = np.full(4, 0.2).reshape(2, 2) + np.eye(2)\n",
    "\n",
    "mvn_par = MVNParam('test', 2)\n",
    "mvn_par.mean.set(np.array([1., 2.]))\n",
    "mvn_par.cov.set(mat)\n",
    "\n",
    "def TestMeanFun(new_mean):\n",
    "    mvn_par.mean.set(new_mean)\n",
    "    mean = mvn_par.e()\n",
    "    return np.dot(mean.T, mean)\n",
    "\n",
    "new_mean = np.array([4., 1.])\n",
    "TestMeanFun(new_mean)\n",
    "TestMeanFunGrad = grad(TestMeanFun)\n",
    "print TestMeanFunGrad(new_mean)\n",
    "\n",
    "def TestCovFun(new_cov):\n",
    "    mvn_par.cov.set(new_cov)\n",
    "    e_outer = mvn_par.e_outer()\n",
    "    return np.trace(e_outer)\n",
    "\n",
    "new_cov = np.eye(2) * 0.2\n",
    "TestCovFun(new_cov)\n",
    "TestCovFunGrad = grad(TestCovFun)\n",
    "print TestCovFunGrad(new_cov)\n",
    "\n",
    "mvn_free = mvn_par.get_free()\n",
    "\n",
    "def TestCovFun(mvn_cov):\n",
    "    return np.trace(mvn_cov)\n",
    "\n",
    "Grad = grad(TestCovFun)\n",
    "Grad(mvn_par.cov.get())\n",
    "\n",
    "import copy\n",
    "mvn_par_local = copy.deepcopy(mvn_par)\n",
    "def TestMeanFunFree(mvn_free, mvn_par_local):\n",
    "    mvn_par_local.set_free(mvn_free)\n",
    "    e_outer = mvn_par_local.e_outer()\n",
    "    return np.trace(e_outer)\n",
    "\n",
    "# TestMeanFunFree(mvn_free, mvn_par_local)\n",
    "TestMeanFunFreeGrad = grad(TestMeanFunFree)\n",
    "TestMeanFunFreeGrad(mvn_free, mvn_par_local)\n"
   ]
  },
  {
   "cell_type": "code",
   "execution_count": 16,
   "metadata": {
    "collapsed": false
   },
   "outputs": [
    {
     "data": {
      "text/plain": [
       "array([ 2.        ,  4.        ,  2.19089023,  0.36514837,  2.1602469 ])"
      ]
     },
     "execution_count": 16,
     "metadata": {},
     "output_type": "execute_result"
    }
   ],
   "source": [
    "par_dict = ModelParamsDict()\n",
    "par_dict.push_param(MVNParam('mvn', 2))\n",
    "mvn_mean = np.array([1., 2.])\n",
    "par_dict['mvn'].mean.set(mvn_mean)\n",
    "par_dict['mvn'].cov.set(mat)\n",
    "\n",
    "par_free = par_dict.get_free()\n",
    "par_dict['mvn'].mean.set(np.zeros(2))\n",
    "par_dict['mvn'].cov.set(np.eye(2))\n",
    "par_dict.set_free(par_free)\n",
    "assert ApproxEq(par_dict['mvn'].mean.get(), mvn_mean)\n",
    "assert ApproxEq(par_dict['mvn'].cov.get(), mat)\n",
    "\n",
    "par_dict_copy = copy.deepcopy(par_dict)\n",
    "def TestSetFun(par_free):\n",
    "    par_dict_copy.set_free(par_free)\n",
    "    return np.trace(par_dict_copy['mvn'].e_outer())\n",
    "\n",
    "TestSetFunGrad = grad(TestSetFun)\n",
    "TestSetFunGrad(par_free)"
   ]
  },
  {
   "cell_type": "code",
   "execution_count": null,
   "metadata": {
    "collapsed": true
   },
   "outputs": [],
   "source": [
    "\n",
    "def DiGamma(x):\n",
    "    return scipy.special.digamma(x)"
   ]
  }
 ],
 "metadata": {
  "kernelspec": {
   "display_name": "Python [Root]",
   "language": "python",
   "name": "Python [Root]"
  },
  "language_info": {
   "codemirror_mode": {
    "name": "ipython",
    "version": 2
   },
   "file_extension": ".py",
   "mimetype": "text/x-python",
   "name": "python",
   "nbconvert_exporter": "python",
   "pygments_lexer": "ipython2",
   "version": "2.7.12"
  }
 },
 "nbformat": 4,
 "nbformat_minor": 0
}
