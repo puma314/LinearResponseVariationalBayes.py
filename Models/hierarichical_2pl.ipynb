{
 "cells": [
  {
   "cell_type": "code",
   "execution_count": 1,
   "metadata": {},
   "outputs": [],
   "source": [
    "import VariationalBayes as vb\n",
    "from VariationalBayes.SparseObjectives import SparseObjective, Objective\n",
    "import VariationalBayes.ExponentialFamilies as ef\n",
    "import VariationalBayes.Modeling as modeling\n",
    "\n",
    "import math\n",
    "\n",
    "import autograd\n",
    "import autograd.numpy as np\n",
    "import numpy as onp\n",
    "\n",
    "import matplotlib.pyplot as plt\n",
    "%matplotlib inline\n",
    "\n",
    "import time\n",
    "\n",
    "from copy import deepcopy\n",
    "import scipy as sp\n",
    "from scipy import optimize\n",
    "from scipy import stats"
   ]
  },
  {
   "cell_type": "code",
   "execution_count": 2,
   "metadata": {
    "collapsed": true
   },
   "outputs": [],
   "source": [
    "# This is a variational implementation of the hierarchical_2pl model from the Stan examples.\n",
    "np.random.seed(42)\n",
    "\n",
    "num_i = 10\n",
    "num_j = 50\n",
    "\n",
    "true_params = vb.ModelParamsDict('true')\n",
    "true_params.push_param(vb.VectorParam('alpha', size=num_i, lb=0))\n",
    "true_params.push_param(vb.VectorParam('beta', size=num_i))\n",
    "true_params.push_param(vb.VectorParam('theta', size=num_j))\n",
    "true_params.push_param(vb.VectorParam('mu', size=2))\n",
    "true_params.push_param(vb.PosDefMatrixParam('sigma', size=2))\n",
    "\n",
    "prior_params = vb.ModelParamsDict('prior')\n",
    "prior_params.push_param(vb.VectorParam('mu_mean', size=2, val=np.array([0., 0.])))\n",
    "prior_params.push_param(vb.PosDefMatrixParam('mu_cov', size=2, val=np.array([[1., 0.], [0., 25.]])))\n",
    "prior_params.push_param(vb.VectorParam('tau_param', size=2, val=np.array([0.1, 0.1])))\n",
    "prior_params.push_param(vb.ScalarParam('lkj_param', val=4.))\n"
   ]
  },
  {
   "cell_type": "code",
   "execution_count": 3,
   "metadata": {},
   "outputs": [
    {
     "name": "stdout",
     "output_type": "stream",
     "text": [
      "(10, 50)\n"
     ]
    }
   ],
   "source": [
    "# Set true parameters and generate data.\n",
    "\n",
    "# y is defined as a num_i * num_j matrix.  Here, alpha and beta are num_i vectors and\n",
    "# theta is the num_j vector.  Practically we expect num_j >> num_i.\n",
    "# Combine vectors in the appropriate way to match the shape of y.\n",
    "def get_logit_p_term(alpha, beta, theta):\n",
    "    return (np.expand_dims(theta, 0) - np.expand_dims(beta, 1)) * np.expand_dims(alpha, 1)\n",
    "\n",
    "true_params['alpha'].set(np.exp(np.random.random(num_i)))\n",
    "true_params['beta'].set(np.random.random(num_i) - 0.5)\n",
    "true_params['theta'].set(np.random.random(num_j) - 0.5)\n",
    "true_params['mu'].set(np.random.random(2))\n",
    "true_params['sigma'].set(np.eye(2))\n",
    "\n",
    "logit_p = get_logit_p_term(alpha=true_params['alpha'].get(),\n",
    "                           beta=true_params['beta'].get(),\n",
    "                           theta=true_params['theta'].get())\n",
    "y_prob = sp.special.expit(logit_p)\n",
    "y = sp.stats.bernoulli.rvs(y_prob)\n",
    "print(y.shape)\n"
   ]
  },
  {
   "cell_type": "code",
   "execution_count": 5,
   "metadata": {},
   "outputs": [
    {
     "ename": "AttributeError",
     "evalue": "module 'VariationalBayes.Parameters' has no attribute 'PosDefMatrixParam'",
     "output_type": "error",
     "traceback": [
      "\u001b[0;31m---------------------------------------------------------------------------\u001b[0m",
      "\u001b[0;31mAttributeError\u001b[0m                            Traceback (most recent call last)",
      "\u001b[0;32m<ipython-input-5-171eca63c506>\u001b[0m in \u001b[0;36m<module>\u001b[0;34m()\u001b[0m\n\u001b[1;32m      4\u001b[0m \u001b[0mvb_params\u001b[0m\u001b[0;34m.\u001b[0m\u001b[0mpush_param\u001b[0m\u001b[0;34m(\u001b[0m\u001b[0mvb\u001b[0m\u001b[0;34m.\u001b[0m\u001b[0mUVNParamVector\u001b[0m\u001b[0;34m(\u001b[0m\u001b[0;34m'theta'\u001b[0m\u001b[0;34m,\u001b[0m \u001b[0mlength\u001b[0m\u001b[0;34m=\u001b[0m\u001b[0mnum_j\u001b[0m\u001b[0;34m)\u001b[0m\u001b[0;34m)\u001b[0m\u001b[0;34m\u001b[0m\u001b[0m\n\u001b[1;32m      5\u001b[0m \u001b[0mvb_params\u001b[0m\u001b[0;34m.\u001b[0m\u001b[0mpush_param\u001b[0m\u001b[0;34m(\u001b[0m\u001b[0mvb\u001b[0m\u001b[0;34m.\u001b[0m\u001b[0mMVNParam\u001b[0m\u001b[0;34m(\u001b[0m\u001b[0;34m'mu'\u001b[0m\u001b[0;34m,\u001b[0m \u001b[0mdim\u001b[0m\u001b[0;34m=\u001b[0m\u001b[0;36m2\u001b[0m\u001b[0;34m)\u001b[0m\u001b[0;34m)\u001b[0m\u001b[0;34m\u001b[0m\u001b[0m\n\u001b[0;32m----> 6\u001b[0;31m \u001b[0mvb_params\u001b[0m\u001b[0;34m.\u001b[0m\u001b[0mpush_param\u001b[0m\u001b[0;34m(\u001b[0m\u001b[0mvb\u001b[0m\u001b[0;34m.\u001b[0m\u001b[0mWishartParam\u001b[0m\u001b[0;34m(\u001b[0m\u001b[0;34m'sigma'\u001b[0m\u001b[0;34m,\u001b[0m \u001b[0msize\u001b[0m\u001b[0;34m=\u001b[0m\u001b[0;36m2\u001b[0m\u001b[0;34m)\u001b[0m\u001b[0;34m)\u001b[0m\u001b[0;34m\u001b[0m\u001b[0m\n\u001b[0m",
      "\u001b[0;32m/home/rgiordan/Documents/git_repos/LinearResponseVariationalBayes.py/VariationalBayes/WishartParams.py\u001b[0m in \u001b[0;36m__init__\u001b[0;34m(self, name, size, diag_lb, min_df)\u001b[0m\n\u001b[1;32m     21\u001b[0m         \u001b[0mself\u001b[0m\u001b[0;34m.\u001b[0m\u001b[0mparams\u001b[0m\u001b[0;34m.\u001b[0m\u001b[0mpush_param\u001b[0m\u001b[0;34m(\u001b[0m\u001b[0mpar\u001b[0m\u001b[0;34m.\u001b[0m\u001b[0mScalarParam\u001b[0m\u001b[0;34m(\u001b[0m\u001b[0;34m'df'\u001b[0m\u001b[0;34m,\u001b[0m \u001b[0mlb\u001b[0m\u001b[0;34m=\u001b[0m\u001b[0mmin_df\u001b[0m\u001b[0;34m)\u001b[0m\u001b[0;34m)\u001b[0m\u001b[0;34m\u001b[0m\u001b[0m\n\u001b[1;32m     22\u001b[0m         self.params.push_param(\n\u001b[0;32m---> 23\u001b[0;31m             par.PosDefMatrixParam(name + '_mat', diag_lb=min_rate))\n\u001b[0m\u001b[1;32m     24\u001b[0m \u001b[0;34m\u001b[0m\u001b[0m\n\u001b[1;32m     25\u001b[0m     \u001b[0;32mdef\u001b[0m \u001b[0m__str__\u001b[0m\u001b[0;34m(\u001b[0m\u001b[0mself\u001b[0m\u001b[0;34m)\u001b[0m\u001b[0;34m:\u001b[0m\u001b[0;34m\u001b[0m\u001b[0m\n",
      "\u001b[0;31mAttributeError\u001b[0m: module 'VariationalBayes.Parameters' has no attribute 'PosDefMatrixParam'"
     ]
    }
   ],
   "source": [
    "vb_params = vb.ModelParamsDict('params')\n",
    "vb_params.push_param(vb.UVNParamVector('log_alpha', length=num_i))\n",
    "vb_params.push_param(vb.UVNParamVector('beta', length=num_i))\n",
    "vb_params.push_param(vb.UVNParamVector('theta', length=num_j))\n",
    "vb_params.push_param(vb.MVNParam('mu', dim=2))\n",
    "vb_params.push_param(vb.WishartParam('sigma', size=2))\n"
   ]
  },
  {
   "cell_type": "code",
   "execution_count": null,
   "metadata": {
    "collapsed": true
   },
   "outputs": [],
   "source": [
    "class Objective(object):\n",
    "    def __init__(y, vb_params, prior_params, num_draws):\n",
    "        self.y = deepcopy(y)\n",
    "        self.vb_params = deepcopy(vb_params)\n",
    "        self.prior_params = deepcopy(prior_params)\n",
    "        self.std_draws = modeling.get_standard_draws(num_draws)\n",
    "\n",
    "    def e_log_data_likelihood():\n",
    "        # P(y = 1) = expit(z)\n",
    "        log_alpha = self.vb_params['log_alpha']\n",
    "        beta = self.vb_params['beta']\n",
    "        theta = self.vb_params['theta']\n",
    "\n",
    "        e_z = get_logit_p_term(alpha=log_alpha.e_exp(), beta=beta.e(), theta=theta.e())\n",
    "        var_z = get_logit_p_term(alpha=log_alpha.e2_exp(), beta=-1 * beta.var(), theta=theta.var())"
   ]
  }
 ],
 "metadata": {
  "kernelspec": {
   "display_name": "Python 3",
   "language": "python",
   "name": "python3"
  },
  "language_info": {
   "codemirror_mode": {
    "name": "ipython",
    "version": 3
   },
   "file_extension": ".py",
   "mimetype": "text/x-python",
   "name": "python",
   "nbconvert_exporter": "python",
   "pygments_lexer": "ipython3",
   "version": "3.5.2"
  }
 },
 "nbformat": 4,
 "nbformat_minor": 2
}
