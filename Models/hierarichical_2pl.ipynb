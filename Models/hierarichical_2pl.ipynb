{
 "cells": [
  {
   "cell_type": "code",
   "execution_count": 1,
   "metadata": {
    "collapsed": true
   },
   "outputs": [],
   "source": [
    "import VariationalBayes as vb\n",
    "from VariationalBayes.SparseObjectives import Objective\n",
    "import VariationalBayes.ExponentialFamilies as ef\n",
    "import VariationalBayes.Modeling as modeling\n",
    "\n",
    "import math\n",
    "\n",
    "import autograd\n",
    "import autograd.numpy as np\n",
    "import numpy as onp\n",
    "\n",
    "import matplotlib.pyplot as plt\n",
    "%matplotlib inline\n",
    "\n",
    "import time\n",
    "\n",
    "from copy import deepcopy\n",
    "import scipy as sp\n",
    "from scipy import optimize\n",
    "from scipy import stats"
   ]
  },
  {
   "cell_type": "code",
   "execution_count": 2,
   "metadata": {
    "collapsed": true
   },
   "outputs": [],
   "source": [
    "# This is a variational implementation of the hierarchical_2pl model from the Stan examples.\n",
    "np.random.seed(42)\n",
    "\n",
    "num_i = 10\n",
    "num_j = 200\n",
    "\n",
    "# mu[0] <-> log_alpha\n",
    "# mu[1] <-> beta\n",
    "\n",
    "true_params = vb.ModelParamsDict('true')\n",
    "true_params.push_param(vb.VectorParam('alpha', size=num_i, lb=0))\n",
    "true_params.push_param(vb.VectorParam('beta', size=num_i))\n",
    "true_params.push_param(vb.VectorParam('theta', size=num_j))\n",
    "true_params.push_param(vb.VectorParam('mu', size=2))\n",
    "true_params.push_param(vb.PosDefMatrixParam('sigma', size=2))\n",
    "\n",
    "prior_params = vb.ModelParamsDict('prior')\n",
    "prior_params.push_param(vb.VectorParam('mu_mean', size=2, val=np.array([0., 0.])))\n",
    "mu_prior_cov = np.array([[1., 0.], [0., 25.]])\n",
    "prior_params.push_param(vb.PosDefMatrixParam('mu_info', size=2, val=np.linalg.inv(mu_prior_cov)))\n",
    "prior_params.push_param(vb.ScalarParam('theta_mean', val=0.0))\n",
    "prior_params.push_param(vb.ScalarParam('theta_var', val=1.0))\n",
    "prior_params.push_param(vb.VectorParam('tau_param', size=2, val=np.array([0.1, 0.1])))\n",
    "prior_params.push_param(vb.ScalarParam('lkj_param', val=4.))\n"
   ]
  },
  {
   "cell_type": "code",
   "execution_count": 3,
   "metadata": {},
   "outputs": [
    {
     "name": "stdout",
     "output_type": "stream",
     "text": [
      "(10, 200)\n"
     ]
    }
   ],
   "source": [
    "# Set true parameters and generate data.\n",
    "\n",
    "# y is defined as a num_i * num_j matrix.  Here, alpha and beta are num_i vectors and\n",
    "# theta is the num_j vector.  Practically we expect num_j >> num_i.\n",
    "# Combine vectors in the appropriate way to match the shape of y.\n",
    "def get_logit_p_term(alpha, beta, theta):\n",
    "    return (np.expand_dims(theta, 0) - np.expand_dims(beta, 1)) * np.expand_dims(alpha, 1)\n",
    "\n",
    "true_params['alpha'].set(np.exp(np.random.random(num_i)))\n",
    "true_params['beta'].set(np.random.random(num_i) - 0.5)\n",
    "true_params['theta'].set(np.random.random(num_j) - 0.5)\n",
    "true_params['mu'].set(np.random.random(2))\n",
    "true_params['sigma'].set(np.eye(2))\n",
    "\n",
    "logit_p = get_logit_p_term(alpha=true_params['alpha'].get(),\n",
    "                           beta=true_params['beta'].get(),\n",
    "                           theta=true_params['theta'].get())\n",
    "y_prob = sp.special.expit(logit_p)\n",
    "y = sp.stats.bernoulli.rvs(y_prob)\n",
    "print(y.shape)\n"
   ]
  },
  {
   "cell_type": "code",
   "execution_count": 4,
   "metadata": {
    "collapsed": true
   },
   "outputs": [],
   "source": [
    "vb_params = vb.ModelParamsDict('params')\n",
    "vb_params.push_param(vb.UVNParamVector('log_alpha', length=num_i))\n",
    "vb_params.push_param(vb.UVNParamVector('beta', length=num_i))\n",
    "vb_params.push_param(vb.UVNParamVector('theta', length=num_j))\n",
    "vb_params.push_param(vb.MVNParam('mu', dim=2))\n",
    "vb_params.push_param(vb.WishartParam('sigma_inv', size=2))\n",
    "\n",
    "vb_init_par = vb_params.get_free()\n"
   ]
  },
  {
   "cell_type": "code",
   "execution_count": 5,
   "metadata": {
    "collapsed": true
   },
   "outputs": [],
   "source": [
    "class Model(object):\n",
    "    def __init__(self, y, vb_params, prior_params, num_draws):\n",
    "        self.y = deepcopy(y)\n",
    "        self.vb_params = deepcopy(vb_params)\n",
    "        self.prior_params = deepcopy(prior_params)\n",
    "        self.std_draws = modeling.get_standard_draws(num_draws)\n",
    "        \n",
    "        self.num_i = self.vb_params['log_alpha'].mean.size()\n",
    "        self.num_j = self.vb_params['theta'].mean.size()\n",
    "\n",
    "    def get_e_log_data_likelihood(self):\n",
    "        # P(y = 1) = expit(z)\n",
    "        log_alpha = self.vb_params['log_alpha']\n",
    "        beta = self.vb_params['beta']\n",
    "        theta = self.vb_params['theta']\n",
    "\n",
    "        e_z = get_logit_p_term(alpha=log_alpha.e_exp(), beta=beta.e(), theta=theta.e())\n",
    "\n",
    "        # var_z = E[alpha^2] * (Var(beta) + Var(theta)) +\n",
    "        #         Var(alpha) * (E[beta^2] - 2 E[beta] E[theta] + E[theta^2])\n",
    "\n",
    "        var_alpha = np.expand_dims(log_alpha.var_exp(), 1)\n",
    "        e2_alpha = np.expand_dims(log_alpha.e2_exp(), 1)\n",
    "\n",
    "        var_beta = np.expand_dims(beta.var(), 1)\n",
    "        e2_beta = np.expand_dims(beta.e_outer(), 1)\n",
    "        e_beta = np.expand_dims(beta.e(), 1)\n",
    "\n",
    "        var_theta = np.expand_dims(theta.var(), 0)\n",
    "        e2_theta = np.expand_dims(theta.e_outer(), 0)\n",
    "        e_theta = np.expand_dims(theta.e(), 0)\n",
    "\n",
    "        var_z = e2_alpha * (var_beta + var_theta) + \\\n",
    "                var_alpha *(e2_beta - 2 * e_beta * e_theta + e2_theta)\n",
    "        \n",
    "        y_logit_term = modeling.get_e_logistic_term(self.y, e_z, np.sqrt(var_z), self.std_draws)\n",
    "\n",
    "        return y_logit_term\n",
    "    \n",
    "    def get_e_log_hierarchy_likelihood(self):\n",
    "        log_alpha = self.vb_params['log_alpha']\n",
    "        beta = self.vb_params['beta']\n",
    "        mu = self.vb_params['mu']\n",
    "        sigma_inv = self.vb_params['sigma_inv']\n",
    "\n",
    "        # Refer to the combined (log_alpha, beta) vector as 'ab'.\n",
    "        e_ab = np.array([ log_alpha.e(), beta.e() ])\n",
    "        e_outer_ab = np.array([[ log_alpha.e_outer(),      beta.e() * log_alpha.e() ],\n",
    "                               [ beta.e() * log_alpha.e(), beta.e_outer() ] ])\n",
    "\n",
    "        e_sigma_inv = sigma_inv.e()\n",
    "        \n",
    "        # TODO: are the two einsums for the cross term actually necessary?\n",
    "        return -0.5 * (np.einsum('ij,ji', e_sigma_inv, mu.e_outer()) * self.num_i - \\\n",
    "                       np.einsum('i,ij,jn->', mu.e(), e_sigma_inv, e_ab) - \\\n",
    "                       np.einsum('in,ij,j->', e_ab, e_sigma_inv, mu.e()) + \\\n",
    "                       np.einsum('ij,jin->', e_sigma_inv, e_outer_ab)) + \\\n",
    "               0.5 * sigma_inv.e_log_det() * self.num_i\n",
    "        \n",
    "    def get_e_log_prior(self):\n",
    "        mu = self.vb_params['mu']\n",
    "        theta = self.vb_params['theta']\n",
    "        sigma_inv = self.vb_params['sigma_inv']\n",
    "        \n",
    "        prior_params = self.prior_params\n",
    "        \n",
    "        e_log_prior = 0.\n",
    "        \n",
    "        # Mu\n",
    "        e_log_prior += ef.mvn_prior(\n",
    "            prior_params['mu_mean'].get(), prior_params['mu_info'].get(),\n",
    "            mu.e(), mu.cov())\n",
    "\n",
    "        # Theta\n",
    "        e_log_prior += np.sum(ef.uvn_prior(\n",
    "            prior_params['theta_mean'].get(), prior_params['theta_var'].get(),\n",
    "            theta.e(), theta.var()))\n",
    "        \n",
    "        # Sigma\n",
    "        e_log_prior += np.sum(ef.exponential_prior(\n",
    "            prior_params['tau_param'].get(), np.diag(sigma_inv.e_inv())))\n",
    "        e_log_prior += sigma_inv.e_log_lkj_inv_prior(prior_params['lkj_param'].get())\n",
    "        \n",
    "        return e_log_prior\n",
    "    \n",
    "    def get_e_log_likelihood(self):\n",
    "        return \\\n",
    "            self.get_e_log_data_likelihood() + \\\n",
    "            self.get_e_log_hierarchy_likelihood() + \\\n",
    "            self.get_e_log_prior()\n",
    "\n",
    "    def get_entropy(self):\n",
    "        return \\\n",
    "            self.vb_params['log_alpha'].entropy() + \\\n",
    "            self.vb_params['beta'].entropy() + \\\n",
    "            self.vb_params['theta'].entropy() + \\\n",
    "            self.vb_params['mu'].entropy() + \\\n",
    "            self.vb_params['sigma_inv'].entropy()\n",
    "\n",
    "    def get_kl(self):\n",
    "        return -1 * (self.get_e_log_likelihood() + self.get_entropy())\n",
    "\n",
    "    def get_negative_e_log_likelihood(self):\n",
    "        # For debugging\n",
    "        self.vb_params['log_alpha'].info.set(np.full(self.num_i, 100.))\n",
    "        self.vb_params['beta'].info.set(np.full(self.num_i, 100.))\n",
    "        self.vb_params['theta'].info.set(np.full(self.num_j, 100.))\n",
    "        self.vb_params['mu'].info.set(np.eye(2) * 100.)\n",
    "        self.vb_params['sigma_inv'].params['v'].set(np.eye(2) * 0.1)\n",
    "        self.vb_params['sigma_inv'].params['df'].set(5.0)\n",
    "        #print(self.vb_params)\n",
    "        return -1 * self.get_e_log_likelihood()\n",
    "\n"
   ]
  },
  {
   "cell_type": "code",
   "execution_count": 6,
   "metadata": {},
   "outputs": [
    {
     "data": {
      "text/plain": [
       "array([ 3356.3713254])"
      ]
     },
     "execution_count": 6,
     "metadata": {},
     "output_type": "execute_result"
    }
   ],
   "source": [
    "model = Model(y, vb_params, prior_params, 10)\n",
    "objective = Objective(model.vb_params, model.get_kl)\n",
    "# objective = Objective(model.vb_params, model.get_negative_e_log_likelihood) # Debugging\n",
    "objective.logger.print_every = 10\n",
    "objective.fun_free(vb_init_par)"
   ]
  },
  {
   "cell_type": "code",
   "execution_count": 7,
   "metadata": {},
   "outputs": [
    {
     "name": "stdout",
     "output_type": "stream",
     "text": [
      "Running BFGS\n",
      "Iter  0  value:  [ 3356.3713254]\n"
     ]
    },
    {
     "name": "stderr",
     "output_type": "stream",
     "text": [
      "/home/rgiordan/Documents/git_repos/autograd/autograd/core.py:83: RuntimeWarning: overflow encountered in exp\n",
      "  result_value = self.fun(*argvals, **kwargs)\n",
      "/home/rgiordan/Documents/git_repos/autograd/autograd/core.py:83: RuntimeWarning: invalid value encountered in multiply\n",
      "  result_value = self.fun(*argvals, **kwargs)\n",
      "/home/rgiordan/Documents/git_repos/autograd/autograd/core.py:83: RuntimeWarning: overflow encountered in exp\n",
      "  result_value = self.fun(*argvals, **kwargs)\n"
     ]
    },
    {
     "name": "stdout",
     "output_type": "stream",
     "text": [
      "Iter  10  value:  [ 2097.68747915]\n",
      "Iter  20  value:  [ 1883.60066536]\n",
      "Iter  30  value:  [ 1594.35313211]\n",
      "Iter  40  value:  [ 1236.39944513]\n",
      "Iter  50  value:  [ 1172.30379393]\n",
      "Iter  60  value:  [ 1152.58946407]\n",
      "Iter  70  value:  [ 1141.97888546]\n",
      "Iter  80  value:  [ 1137.28117094]\n",
      "Iter  90  value:  [ 1134.80809894]\n",
      "Iter  100  value:  [ 1133.689131]\n",
      "Iter  110  value:  [ 1133.15718364]\n",
      "Iter  120  value:  [ 1132.74371341]\n",
      "Iter  130  value:  [ 1132.53327524]\n",
      "Iter  140  value:  [ 1132.4144536]\n",
      "Iter  150  value:  [ 1132.31522251]\n",
      "Iter  160  value:  [ 1132.22960368]\n",
      "Iter  170  value:  [ 1132.16908289]\n",
      "Iter  180  value:  [ 1132.13237606]\n",
      "Iter  190  value:  [ 1132.09662641]\n",
      "Iter  200  value:  [ 1132.05431135]\n",
      "Iter  210  value:  [ 1132.01670975]\n",
      "Iter  220  value:  [ 1131.97425189]\n",
      "Iter  230  value:  [ 1131.92595363]\n",
      "Iter  240  value:  [ 1131.88670296]\n",
      "Iter  250  value:  [ 1131.85461912]\n",
      "Iter  260  value:  [ 1131.82259233]\n",
      "Iter  270  value:  [ 1131.78814867]\n",
      "Iter  280  value:  [ 1131.75411238]\n",
      "Iter  290  value:  [ 1131.70489226]\n",
      "Iter  300  value:  [ 1131.66439879]\n",
      "Iter  310  value:  [ 1131.63602929]\n",
      "Iter  320  value:  [ 1131.57584606]\n",
      "Iter  330  value:  [ 1131.50492392]\n",
      "Iter  340  value:  [ 1131.46356677]\n",
      "Iter  350  value:  [ 1132.11926891]\n",
      "Iter  360  value:  [ 1131.12048056]\n",
      "Iter  370  value:  [ 1131.0364532]\n",
      "Iter  380  value:  [ 1131.00800336]\n",
      "Iter  390  value:  [ 1130.99661645]\n",
      "Iter  400  value:  [ 1130.99240214]\n",
      "Iter  410  value:  [ 1130.98933201]\n",
      "Iter  420  value:  [ 1130.98894503]\n",
      "Iter  430  value:  [ 1130.98889669]\n",
      "Iter  440  value:  [ 1130.988847]\n",
      "Iter  450  value:  [ 1130.98884389]\n",
      "Iter  460  value:  [ 1130.98884065]\n",
      "Iter  470  value:  [ 1130.98884051]\n",
      "Iter  480  value:  [ 1130.9888405]\n",
      "Iter  490  value:  [ 1130.9888405]\n",
      "Iter  500  value:  [ 1130.9888405]\n",
      "Iter  510  value:  [ 1130.9888405]\n",
      "Iter  520  value:  [ 1130.9888405]\n",
      "Iter  530  value:  [ 1130.9888405]\n",
      "Iter  540  value:  [ 1130.9888405]\n",
      "Iter  550  value:  [ 1130.9888405]\n",
      "Running Newton Trust Region\n",
      "Iter  560  value:  [ 1130.9888405]\n",
      "Done.\n"
     ]
    }
   ],
   "source": [
    "print('Running BFGS')\n",
    "vb_opt_bfgs = optimize.minimize(\n",
    "    lambda par: objective.fun_free(par, verbose=True), vb_init_par,\n",
    "    method='bfgs', jac=objective.fun_free_grad, tol=1e-6)\n",
    "\n",
    "\n",
    "print('Running Newton Trust Region')\n",
    "vb_opt = optimize.minimize(\n",
    "    lambda par: objective.fun_free(par, verbose=True), vb_opt_bfgs.x,\n",
    "    method='trust-ncg', jac=objective.fun_free_grad, hessp=objective.fun_free_hvp, tol=1e-6)\n",
    "print('Done.')\n",
    "\n",
    "vb_opt_par = deepcopy(vb_opt.x)"
   ]
  },
  {
   "cell_type": "code",
   "execution_count": 8,
   "metadata": {},
   "outputs": [
    {
     "name": "stdout",
     "output_type": "stream",
     "text": [
      "params:\n",
      "\tlog_alpha:\n",
      "log_alpha_mean:\n",
      "[-0.7131718   4.96401356 -0.62827503 -1.45554932 -2.34451627 -1.3483055\n",
      " -2.09274497 -0.53739096 -1.41257362 -2.04057735]\n",
      "log_alpha_info:\n",
      "[  19.00091535  365.75805899   25.70854169    7.57038287    2.75881192\n",
      "    8.48380434    3.47699542   17.78484381    6.67038614    3.5420405 ]\n",
      "\tbeta:\n",
      "beta_mean:\n",
      "[-1.02894966  0.57953025  1.25362463 -1.19713022 -0.53105835 -1.14914531\n",
      " -0.89167928  0.01289225 -0.79213492 -0.79004734]\n",
      "beta_info:\n",
      "[   9.90086687  360.5799305    10.53634359    4.4334451     2.81201221\n",
      "    4.87517752    3.08644383   13.76251029    4.80599873    3.18514736]\n",
      "\ttheta:\n",
      "theta_mean:\n",
      "[-0.46823989 -0.2776195  -0.41217145 -0.31583391 -0.55551727  1.30489819\n",
      " -0.61705752 -0.42669648 -0.45773856 -0.47110095 -0.37839422 -0.30736106\n",
      " -0.31248269  1.49846935 -0.1253803   1.27200596 -0.43347297 -0.35861755\n",
      " -0.44824011  1.09284073 -0.81926398 -0.39112758 -0.37405442  1.09926706\n",
      "  1.11486256  1.09972171 -0.30798991 -0.48788321  1.24053564 -0.37909315\n",
      " -0.43183008  1.27813299 -0.12597647 -0.18124223 -0.65531569 -0.03843597\n",
      " -0.66075475 -0.56358318 -0.67574261 -0.45596152 -0.27339648 -0.42843452\n",
      "  1.03743933 -0.34747765 -0.61195787  1.09926706 -0.46823989  1.07482479\n",
      " -0.59330972 -0.61421175 -0.61421174  1.13613071 -0.31583391  1.40854636\n",
      " -0.38871844 -0.27510124  1.40854636 -0.60158937 -0.45596152 -0.23846395\n",
      " -0.00939844 -0.29043751 -0.36854651 -0.49168465 -0.30338482 -0.47793162\n",
      "  1.34234857  1.14196861 -0.06477762 -0.46358322 -0.56583958 -0.20173283\n",
      " -0.20173283 -0.28158192 -0.26632823 -0.42391533  1.20714171  1.11385927\n",
      " -0.4392002  -0.56905477 -0.85107202  1.27025122 -0.66381886 -0.45311785\n",
      "  1.23998583 -0.32915034  1.11312721  1.18922349 -0.55870771 -0.46358322\n",
      "  1.17895043 -0.72366205 -0.12013449 -0.21382424 -0.09669621  1.15750219\n",
      "  1.14446291 -0.46283634  1.21284628 -0.345174    1.15609882  1.24661016\n",
      " -0.43875876 -0.60158937 -0.42597012 -0.12864172 -0.38813425  1.49846935\n",
      " -0.84086814  1.13725424  1.11846697 -0.57396861 -0.42145957  1.37039936\n",
      "  1.31818141 -0.55856382 -0.29555782 -0.16814944  1.17993033 -0.00939844\n",
      " -0.47205546 -0.61840502 -0.52318377 -0.50441647 -0.6583388  -0.57901476\n",
      " -0.32499689  1.11575571 -0.42843453 -0.65029443  1.30058365 -0.50836387\n",
      " -0.36320185 -0.15758234  1.13954478 -0.73546544  1.22050792 -0.19746416\n",
      " -0.56585914 -0.29555783 -0.43039474 -0.12916747 -0.39742219 -0.27339646\n",
      " -0.55471931 -0.35094     1.05224949 -0.37750705 -0.37839422  1.17706641\n",
      " -0.51833984 -0.39112758  1.46207441  1.09432629 -0.50061108  1.07914609\n",
      " -0.30401121 -0.3158339  -0.15914618  1.08584764 -0.83421273 -1.05799218\n",
      "  1.4535674  -0.55551727 -0.50836387 -0.34201495 -0.24363626 -0.59738821\n",
      " -0.47855767 -0.30338482 -0.66436554 -0.13013986  1.37608019 -0.29893206\n",
      " -0.2149059  -0.46823989 -0.2149059  -0.24156291 -0.37909315 -0.45985859\n",
      " -0.26883835 -0.73546544 -0.46570058 -0.65833879 -0.32499688 -0.31830616\n",
      " -0.93135129  1.20714171 -0.5909708  -0.29893206 -0.42903785 -0.06477765\n",
      "  1.3459407   1.12844758 -0.07088721 -0.26946812 -0.57556306  1.08619213\n",
      " -0.33721929 -0.1201345 ]\n",
      "theta_info:\n",
      "[ 1.73629071  2.59702767  1.93746527  2.37848624  1.48304272  3.64032058\n",
      "  1.34029053  1.88199304  1.77141032  1.72691242  2.07666277  2.42446332\n",
      "  2.39651139  2.25670685  3.85853282  4.00016359  1.85695161  2.16542672\n",
      "  1.80414635  7.37140934  1.19122125  2.02243172  2.09565735  7.18571722\n",
      "  6.76328106  7.17284698  2.42100464  1.67348165  4.39709071  2.07362841\n",
      "  1.86297493  3.92918256  3.85191261  3.30539944  1.26593073  5.04404704\n",
      "  1.25644748  1.46275941  1.23224531  1.77746369  2.62303557  1.8755206\n",
      "  9.32139972  2.21800907  1.35107694  7.18571717  1.73629073  7.93222105\n",
      "  1.39212928  1.34628615  1.34628615  6.24483092  2.37848621  2.77749383\n",
      "  2.03252399  2.61248925  2.77749382  1.37359258  1.7774637   2.85418178\n",
      "  5.5646069   2.52043911  2.12015079  1.66174373  2.44650761  1.70484303\n",
      "  3.28697295  6.11296158  4.63268258  1.75172759  1.45717201  3.13216515\n",
      "  3.13216514  2.57297884  2.6674589   1.89242242  4.88682814  6.78931949\n",
      "  1.83618929  1.4492753   1.19071397  4.0208481   1.25125383  1.78721816\n",
      "  4.4045448   2.30886308  6.80841366  5.1842018   1.47496154  1.75172759\n",
      "  5.36714074  1.19331826  3.91753186  3.03629806  4.19849552  5.78180248\n",
      "  6.05789262  1.75422359  4.79752662  2.22912612  5.81059839  4.31598408\n",
      "  1.83777668  1.37359259  1.88470828  3.82252465  2.03498291  2.25670685\n",
      "  1.19087841  6.21912168  6.67096411  1.43735326  1.90170626  3.05513378\n",
      "  3.50870401  1.47532435  2.49080053  3.4237794   5.34927535  5.56460706\n",
      "  1.72380135  1.33747262  1.56937649  1.62337635  1.26061956  1.42529352\n",
      "  2.33024195  6.7402273   1.87552059  1.27496061  3.68467618  1.61176995\n",
      "  2.14434021  3.52405347  6.16719915  1.19261181  4.6814013   3.16710462\n",
      "  1.45712373  2.49080048  1.86826217  3.81676739  1.99642384  2.6230357\n",
      "  1.48507586  2.20145889  8.73035933  2.08052426  2.07666279  5.40174295\n",
      "  1.58303066  2.02243172  2.44800298  7.32784728  1.63469347  7.79199789\n",
      "  2.44301476  2.37848624  3.50893655  7.58179555  1.1909848   1.18704515\n",
      "  2.49627221  1.48304272  1.61176995  2.24451019  2.81805417  1.38293665\n",
      "  1.70284269  2.44650761  1.25033928  3.80615378  3.01119579  2.4715575\n",
      "  3.02793896  1.73629072  3.02793896  2.83245256  2.07362842  1.76423084\n",
      "  2.65155325  1.19261181  1.74468187  1.26061954  2.33024198  2.36532073\n",
      "  1.18936509  4.88682813  1.39745489  2.47155751  1.87328189  4.63268202\n",
      "  3.25582811  6.4250026   4.54449374  2.64758524  1.43352271  7.57122136\n",
      "  2.26817595  3.91753181]\n",
      "\tmu:\n",
      "mu_mean:\n",
      "[-0.62418065 -0.43196859]\n",
      "mu_info:\n",
      "[[  6.0485641   -3.08293239]\n",
      " [ -3.08293239  20.50543711]]\n",
      "\tsigma_inv:\n",
      "params:\n",
      "\tdf: [ 3.78085604]\n",
      "\tv:\n",
      "[[ 0.13352967 -0.0815406 ]\n",
      " [-0.0815406   0.54129113]]\n"
     ]
    }
   ],
   "source": [
    "model.vb_params.set_free(vb_opt_bfgs.x)\n",
    "print(model.vb_params)"
   ]
  },
  {
   "cell_type": "code",
   "execution_count": 9,
   "metadata": {},
   "outputs": [
    {
     "name": "stdout",
     "output_type": "stream",
     "text": [
      "[-0.62418065 -0.43196859]\n",
      "[-0.41913883 -0.56509069]\n"
     ]
    },
    {
     "data": {
      "text/plain": [
       "[<matplotlib.lines.Line2D at 0x7f8e121516a0>]"
      ]
     },
     "execution_count": 9,
     "metadata": {},
     "output_type": "execute_result"
    },
    {
     "data": {
      "image/png": "[encoded data removed]",
      "text/plain": [
       "<matplotlib.figure.Figure at 0x7f8e144b15c0>"
      ]
     },
     "metadata": {},
     "output_type": "display_data"
    },
    {
     "data": {
      "image/png": "[encoded data removed]",
      "text/plain": [
       "<matplotlib.figure.Figure at 0x7f8e144b1908>"
      ]
     },
     "metadata": {},
     "output_type": "display_data"
    },
    {
     "data": {
      "image/png": "[encoded data removed]",
      "text/plain": [
       "<matplotlib.figure.Figure at 0x7f8e121584e0>"
      ]
     },
     "metadata": {},
     "output_type": "display_data"
    }
   ],
   "source": [
    "model.vb_params.set_free(vb_opt_par)\n",
    "# print(model.vb_params)\n",
    "\n",
    "print(model.vb_params['mu'].e())\n",
    "print(np.log(true_params['mu'].get()))\n",
    "\n",
    "# print(model.vb_params['log_alpha'])\n",
    "# print(np.log(true_params['alpha'].get()))\n",
    "\n",
    "# print(model.vb_params['beta'])\n",
    "# print(true_params['beta'])\n",
    "\n",
    "plt.figure()\n",
    "plt.plot(true_params['theta'].get(), model.vb_params['theta'].e(), 'k.')\n",
    "\n",
    "plt.figure()\n",
    "plt.plot(true_params['beta'].get(), model.vb_params['beta'].e(), 'k.')\n",
    "\n",
    "plt.figure()\n",
    "plt.plot(true_params['alpha'].get(), model.vb_params['log_alpha'].e_exp(), 'k.')"
   ]
  },
  {
   "cell_type": "code",
   "execution_count": 10,
   "metadata": {},
   "outputs": [
    {
     "name": "stdout",
     "output_type": "stream",
     "text": [
      "[ 198.0179488]\n",
      "1.91069475802\n",
      "[ 210.29663937]\n",
      "14.189385332\n"
     ]
    }
   ],
   "source": [
    "model.vb_params.set_free(vb_opt.x)\n",
    "\n",
    "#model.vb_params['log_alpha'].info.set(np.full(num_i, 10.0))\n",
    "print(model.get_entropy())\n",
    "print(model.vb_params['log_alpha'].entropy())\n",
    "\n",
    "model.vb_params['log_alpha'].info.set(np.full(num_i, 1.0))\n",
    "print(model.get_entropy())\n",
    "print(model.vb_params['log_alpha'].entropy())\n",
    "\n",
    "#print(vb_params)"
   ]
  }
 ],
 "metadata": {
  "kernelspec": {
   "display_name": "Python 3",
   "language": "python",
   "name": "python3"
  },
  "language_info": {
   "codemirror_mode": {
    "name": "ipython",
    "version": 3
   },
   "file_extension": ".py",
   "mimetype": "text/x-python",
   "name": "python",
   "nbconvert_exporter": "python",
   "pygments_lexer": "ipython3",
   "version": "3.5.2"
  }
 },
 "nbformat": 4,
 "nbformat_minor": 2
}
