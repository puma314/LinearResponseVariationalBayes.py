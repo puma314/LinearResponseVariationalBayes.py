{
 "cells": [
  {
   "cell_type": "code",
   "execution_count": 24,
   "metadata": {
    "collapsed": true
   },
   "outputs": [],
   "source": [
    "import VariationalBayes as vb\n",
    "from VariationalBayes.SparseObjectives import SparseObjective, Objective\n",
    "from VariationalBayes.Models.NormalMixture import normal_mixture as mix\n",
    "\n",
    "import math\n",
    "\n",
    "import autograd\n",
    "import autograd.numpy as np\n",
    "import numpy as onp\n",
    "\n",
    "import matplotlib.pyplot as plt\n",
    "%matplotlib inline\n",
    "\n",
    "import time\n",
    "\n",
    "from copy import deepcopy\n",
    "import scipy as sp\n",
    "from scipy import optimize\n",
    "from scipy import stats"
   ]
  },
  {
   "cell_type": "code",
   "execution_count": 10,
   "metadata": {
    "collapsed": true
   },
   "outputs": [],
   "source": [
    "# This is a variational implementation of the hierarchical_2pl model from the Stan examples.\n",
    "np.random.seed(42)\n",
    "\n",
    "num_i = 10\n",
    "num_j = 15\n",
    "\n",
    "true_params = vb.ModelParamsDict('true')\n",
    "true_params.push_param(vb.VectorParam('alpha', size=num_i, lb=0))\n",
    "true_params.push_param(vb.VectorParam('beta', size=num_i))\n",
    "true_params.push_param(vb.VectorParam('theta', size=num_j))\n",
    "true_params.push_param(vb.VectorParam('mu', size=2))\n",
    "true_params.push_param(vb.PosDefMatrixParam('sigma', size=2))\n",
    "\n",
    "true_params['alpha'].set(np.exp(np.random.random(num_i)))\n",
    "true_params['beta'].set(np.random.random(num_i) - 0.5)\n",
    "true_params['theta'].set(np.random.random(num_j) - 0.5)\n",
    "true_params['mu'].set(np.random.random(2))\n",
    "true_params['sigma'].set(np.eye(2))\n",
    "\n",
    "prior_params = vb.ModelParamsDict('prior')\n",
    "prior_params.push_param(vb.VectorParam('mu_mean', size=2, val=np.array([0., 0.])))\n",
    "prior_params.push_param(vb.PosDefMatrixParam('mu_cov', size=2, val=np.array([[1., 0.], [0., 25.]])))\n",
    "prior_params.push_param(vb.VectorParam('tau_param', size=2, val=np.array([0.1, 0.1])))\n",
    "prior_params.push_param(vb.ScalarParam('lkj_param', val=4.))\n",
    "\n"
   ]
  },
  {
   "cell_type": "code",
   "execution_count": 36,
   "metadata": {},
   "outputs": [],
   "source": [
    "logit_p = true_params['alpha'].get() * \\\n",
    "    onp.subtract.outer(true_params['theta'].get(), np.transpose(true_params['beta'].get()))\n",
    "y_prob = sp.special.expit(logit_p)\n",
    "y = sp.stats.bernoulli.rvs(y_prob)\n"
   ]
  },
  {
   "cell_type": "code",
   "execution_count": 60,
   "metadata": {},
   "outputs": [
    {
     "name": "stdout",
     "output_type": "stream",
     "text": [
      "(3, 3, 3, 2)\n",
      "(3, 3, 3)\n",
      "[ 1.  1.  1.]\n"
     ]
    }
   ],
   "source": [
    "import numpy as onp\n",
    "\n",
    "foo = np.array([1., 2.])\n",
    "bar = np.random.random((3, 3, 3))\n",
    "baz = foo * np.expand_dims(bar, axis=bar.ndim)\n",
    "print(baz.shape)\n",
    "print(np.mean(baz, axis=bar.ndim).shape)\n",
    "\n",
    "print(np.mean(np.full((3, 3), 1.0), axis=1))"
   ]
  }
 ],
 "metadata": {
  "kernelspec": {
   "display_name": "Python 3",
   "language": "python",
   "name": "python3"
  },
  "language_info": {
   "codemirror_mode": {
    "name": "ipython",
    "version": 3
   },
   "file_extension": ".py",
   "mimetype": "text/x-python",
   "name": "python",
   "nbconvert_exporter": "python",
   "pygments_lexer": "ipython3",
   "version": "3.5.2"
  }
 },
 "nbformat": 4,
 "nbformat_minor": 2
}
