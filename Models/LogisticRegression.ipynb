{
 "cells": [
  {
   "cell_type": "code",
   "execution_count": 1,
   "metadata": {},
   "outputs": [],
   "source": [
    "from VariationalBayes import VectorParam, ScalarParam, PosDefMatrixParam, ModelParamsDict\n",
    "import math\n",
    "\n",
    "from autograd import grad, hessian, jacobian, hessian_vector_product\n",
    "from autograd.core import primitive\n",
    "from autograd.numpy.numpy_grads import unbroadcast\n",
    "\n",
    "import autograd.numpy as np\n",
    "import autograd.numpy.random as npr\n",
    "\n",
    "import copy\n",
    "import scipy\n",
    "from scipy import optimize\n",
    "from scipy import stats"
   ]
  },
  {
   "cell_type": "code",
   "execution_count": 2,
   "metadata": {
    "collapsed": true
   },
   "outputs": [],
   "source": [
    "def Log1mInvLogit(u):\n",
    "    # log(1 - p) = log(1 / (1 + exp(u))) = -log(1 + exp(u))\n",
    "    return -np.log1p(np.exp(u))\n",
    "\n",
    "def Logistic(u):\n",
    "    return np.exp(u) / (1 + np.exp(u))"
   ]
  },
  {
   "cell_type": "code",
   "execution_count": 3,
   "metadata": {},
   "outputs": [],
   "source": [
    "N = 20000\n",
    "K = 100\n",
    "\n",
    "# Build an object to contain a variational approximation to a K-dimensional multivariate normal.\n",
    "mvn_par = ModelParamsDict()\n",
    "\n",
    "mvn_par.push_param(VectorParam('e_mu', K))\n",
    "mvn_par.push_param(VectorParam('var_mu', K, lb=0))\n",
    "\n",
    "mvn_par['e_mu'].set(np.full(K, 0.1))\n",
    "mvn_par['var_mu'].set(np.full(K, 2.))\n",
    "\n",
    "# Generate data\n",
    "true_mu = np.random.rand(K) - 0.5\n",
    "x_mat = np.full([N, K], float('nan'))\n",
    "y_vec = np.full([N], float('nan'))\n",
    "x_mat = np.random.random(K * N).reshape(N, K) - 0.5\n",
    "# true_rho = Logistic(np.dot(x_mat[n, :], true_mu))\n",
    "true_rho = Logistic(np.matmul(x_mat, true_mu))\n",
    "y_vec = np.random.random(N) < true_rho\n"
   ]
  },
  {
   "cell_type": "code",
   "execution_count": 4,
   "metadata": {},
   "outputs": [],
   "source": [
    "def LogLikelihoodVectorized(x_mat, y_vec, e_mu, mu_var, std_draws):\n",
    "    rho_sd = np.sqrt(np.einsum('ik,ik,k->i', x_mat, x_mat, mu_var))\n",
    "    rho_mean = np.einsum('ij,j->i', x_mat, e_mu)\n",
    "    z = np.einsum('i,j->ij', rho_sd, std_draws) + np.expand_dims(rho_mean, 1)\n",
    "\n",
    "    # The sum is over observations and draws, so dividing by the draws size\n",
    "    # gives the sum of sample expectations over the draws.\n",
    "    # log(1 - p) = log(1 / (1 + exp(u))) = -log(1 + exp(u))\n",
    "    logit_term = -np.sum(np.log1p(np.exp(z))) / std_draws.size\n",
    "    y_term = np.sum(y_vec * rho_mean)\n",
    "    return y_term + logit_term\n",
    "\n",
    "\n",
    "def UnivariateNormalExpectedEntropy(var_mu):\n",
    "    return 0.5 * np.sum(np.log(var_mu))\n",
    "\n",
    "\n",
    "def Elbo(y_vec, x_mat, mvn_par_elbo, num_draws=10):\n",
    "    var_mu = mvn_par_elbo['var_mu'].get()\n",
    "    e_mu = mvn_par_elbo['e_mu'].get()\n",
    "\n",
    "    num_draws = 10\n",
    "    draw_spacing = 1 / float(num_draws + 1)\n",
    "    target_quantiles = np.linspace(draw_spacing, 1 - draw_spacing, num_draws)\n",
    "    std_draws = scipy.stats.norm.ppf(target_quantiles)\n",
    "\n",
    "    assert y_vec.size == x_mat.shape[0]\n",
    "    assert e_mu.size == x_mat.shape[1]\n",
    "\n",
    "    ll = LogLikelihoodVectorized(x_mat, y_vec, e_mu, var_mu, std_draws)\n",
    "    entropy = 0.5 * np.sum(np.log(var_mu))\n",
    "    #entropy = UnivariateNormalExpectedEntropy(var_mu)\n",
    "\n",
    "    return ll + entropy\n",
    "\n",
    "\n",
    "class KLWrapper():\n",
    "    def __init__(self, mvn_par, x_mat, y_vec, num_draws):\n",
    "        self.__mvn_par_ad = copy.deepcopy(mvn_par)\n",
    "        self.x_mat = x_mat\n",
    "        self.y_vec = y_vec\n",
    "        self.num_draws = num_draws\n",
    "        \n",
    "    def Eval(self, free_par_vec, verbose=False):\n",
    "        self.__mvn_par_ad.set_free(free_par_vec)\n",
    "        kl = -Elbo(self.y_vec, self.x_mat, self.__mvn_par_ad, num_draws=self.num_draws)\n",
    "        if verbose: print kl\n",
    "        return kl\n",
    "    \n",
    "    # Return a posterior moment of interest as a function of\n",
    "    # unconstrained parameters.  In this case it is a bit silly,\n",
    "    # but in full generality posterior moments may be a complicated\n",
    "    # function of moment parameters.\n",
    "    def GetMu(self, free_par_vec):\n",
    "        self.__mvn_par_ad.set_free(free_par_vec)\n",
    "        return self.__mvn_par_ad['e_mu'].get()\n",
    "\n"
   ]
  },
  {
   "cell_type": "code",
   "execution_count": 5,
   "metadata": {},
   "outputs": [
    {
     "name": "stdout",
     "output_type": "stream",
     "text": [
      "104385.170203\n"
     ]
    }
   ],
   "source": [
    "kl_wrapper = KLWrapper(mvn_par, x_mat, y_vec, 10)\n",
    "KLGrad = grad(kl_wrapper.Eval)\n",
    "KLHess = hessian(kl_wrapper.Eval)\n",
    "MomentJacobian = jacobian(kl_wrapper.GetMu)\n",
    "KLHessVecProd = hessian_vector_product(kl_wrapper.Eval)  \n",
    "\n",
    "# Check that the AD functions are working:\n",
    "mvn_par['e_mu'].set(true_mu)\n",
    "mvn_par['var_mu'].set(np.abs(true_mu) * 0.1)\n",
    "free_par_vec = mvn_par.get_free()\n",
    "print kl_wrapper.Eval(free_par_vec)\n",
    "if K < 10:\n",
    "    print 'Grad:'\n",
    "    print KLGrad(free_par_vec)\n",
    "    print 'Hess:'\n",
    "    print KLHess(free_par_vec)\n",
    "    print 'Jac:'\n",
    "    print MomentJacobian(free_par_vec)\n",
    "    print 'Hess vector product:'\n",
    "    print KLHessVecProd(free_par_vec, free_par_vec + 1)\n"
   ]
  },
  {
   "cell_type": "code",
   "execution_count": 6,
   "metadata": {},
   "outputs": [
    {
     "name": "stdout",
     "output_type": "stream",
     "text": [
      "(200, 2)\n",
      "(200,)\n"
     ]
    }
   ],
   "source": [
    "par_mat = np.vstack((free_par_vec + 1, free_par_vec + 2)).T\n",
    "\n",
    "# This is probably actually not necessary, since scipy.sparse.linalg.cg\n",
    "# can't handle matrices on the RHS\n",
    "def KLHessVecProdMat(par, mat):\n",
    "    if len(mat.shape) == 1:\n",
    "        return KLHessVecProd(par, mat)\n",
    "    elif len(mat.shape) == 2:\n",
    "        return np.array([ KLHessVecProd(par, mat_col) for mat_col in mat.T ]).T\n",
    "    else:\n",
    "        assert False\n",
    "\n",
    "foo = KLHessVecProdMat(free_par_vec, par_mat)\n",
    "print foo.shape\n",
    "\n",
    "foo = KLHessVecProdMat(free_par_vec, free_par_vec)\n",
    "print foo.shape"
   ]
  },
  {
   "cell_type": "code",
   "execution_count": 7,
   "metadata": {},
   "outputs": [
    {
     "name": "stdout",
     "output_type": "stream",
     "text": [
      "Function time:\n",
      "0.016627407074\n",
      "Grad time:\n",
      "0.0268755197525\n",
      "Hessian vector product time:\n",
      "0.0401525020599\n"
     ]
    }
   ],
   "source": [
    "import timeit\n",
    "\n",
    "time_num = 10\n",
    "\n",
    "print 'Function time:'\n",
    "print timeit.timeit(lambda: kl_wrapper.Eval(free_par_vec), number=time_num) / time_num\n",
    "\n",
    "print 'Grad time:'\n",
    "print timeit.timeit(lambda: KLGrad(free_par_vec), number=time_num) / time_num\n",
    "\n",
    "print 'Hessian vector product time:'\n",
    "print timeit.timeit(lambda: KLHessVecProd(free_par_vec, free_par_vec + 1), number=time_num) / time_num\n",
    "\n",
    "# so slow\n",
    "# print 'Hessian time:'\n",
    "# print timeit.timeit(lambda: KLHess(free_par_vec), number=time_num) / time_num\n"
   ]
  },
  {
   "cell_type": "code",
   "execution_count": 8,
   "metadata": {
    "scrolled": false
   },
   "outputs": [],
   "source": [
    "import cProfile\n",
    "\n",
    "profile = False\n",
    "if profile:\n",
    "    cProfile.run('kl_wrapper.Eval(free_par_vec)', '/tmp/cprofilestats_func.prof')\n",
    "    cProfile.run('KLHess(free_par_vec)', '/tmp/cprofilestats_hess.prof')\n",
    "    cProfile.run('KLGrad(free_par_vec)', '/tmp/cprofilestats_grad.prof')\n",
    "\n",
    "# A better way to visualize this https://jiffyclub.github.io/snakeviz/\n",
    "# snakeviz /tmp/cprofilestats_hess.prof"
   ]
  },
  {
   "cell_type": "code",
   "execution_count": 9,
   "metadata": {},
   "outputs": [],
   "source": [
    "# Set initial values.\n",
    "xtx = np.matmul(x_mat.T, x_mat)\n",
    "mu_reg = np.linalg.solve(xtx, np.matmul(x_mat.T, y_vec))\n",
    "\n",
    "mvn_par['e_mu'].set(mu_reg)\n",
    "mvn_par['var_mu'].set(np.full(K, 1.))\n",
    "init_par_vec = mvn_par.get_free()"
   ]
  },
  {
   "cell_type": "code",
   "execution_count": 10,
   "metadata": {},
   "outputs": [
    {
     "name": "stdout",
     "output_type": "stream",
     "text": [
      "Running Newton Trust Region\n",
      "23606.2288254\n",
      "22363.1884249\n",
      "20366.7621196\n",
      "18030.5720289\n",
      "15294.8425791\n",
      "13450.2529454\n",
      "12912.4050103\n",
      "12751.1900916\n",
      "12713.0174406\n",
      "12708.1509269\n",
      "12708.1458313\n",
      "12707.9985976\n",
      "12707.9984019\n",
      "12707.9984019\n",
      "Done.\n"
     ]
    }
   ],
   "source": [
    "# Optimize.\n",
    "# print 'Running BFGS'\n",
    "# vb_opt_bfgs = optimize.minimize(\n",
    "#     lambda par: kl_wrapper.Eval(par, verbose=True), init_par_vec,\n",
    "#     method='bfgs', jac=KLGrad, tol=1e-2)\n",
    "\n",
    "print 'Running Newton Trust Region'\n",
    "vb_opt = optimize.minimize(\n",
    "    lambda par: kl_wrapper.Eval(par, verbose=True),\n",
    "    init_par_vec, method='trust-ncg', jac=KLGrad, hessp=KLHessVecProd)\n",
    "mvn_par_opt = copy.deepcopy(mvn_par)\n",
    "mvn_par_opt.set_free(vb_opt.x)\n",
    "print 'Done.'"
   ]
  },
  {
   "cell_type": "code",
   "execution_count": 11,
   "metadata": {},
   "outputs": [
    {
     "data": {
      "image/png": "[encoded data removed]",
      "text/plain": [
       "<matplotlib.figure.Figure at 0x7fba3e16c250>"
      ]
     },
     "metadata": {},
     "output_type": "display_data"
    },
    {
     "data": {
      "text/plain": [
       "<ggplot: (8777272710409)>"
      ]
     },
     "execution_count": 11,
     "metadata": {},
     "output_type": "execute_result"
    }
   ],
   "source": [
    "# The mean parameters match, as expected.\n",
    "from ggplot import *\n",
    "import pandas as pd\n",
    "%matplotlib inline\n",
    "\n",
    "plot_df = pd.DataFrame({ 'opt': mvn_par_opt['e_mu'].get(), 'true': true_mu })\n",
    "ggplot(plot_df, aes(x='opt', y='true')) + geom_point() + geom_abline(slope=1, intercept=0)"
   ]
  },
  {
   "cell_type": "code",
   "execution_count": 12,
   "metadata": {},
   "outputs": [
    {
     "name": "stdout",
     "output_type": "stream",
     "text": [
      "....................................................................................................all done dude\n"
     ]
    }
   ],
   "source": [
    "# LRVB with conjugate gradient\n",
    "from scipy.sparse.linalg import LinearOperator\n",
    "import sys\n",
    "\n",
    "# The we will actually compute Hess^1 * moment_jac.T, leading to perhaps confusing\n",
    "# naming of \"columns\".  \n",
    "moment_jac = MomentJacobian(vb_opt.x)\n",
    "ObjHessVecProdLO = LinearOperator((vb_opt.x.size, vb_opt.x.size), lambda par: KLHessVecProd(vb_opt.x, par))\n",
    "# print moment_jac.T.shape\n",
    "# print ObjHessVecProdLO.shape\n",
    "# cg_res, info = scipy.sparse.linalg.cg(ObjHessVecProdLO, moment_jac.T)\n",
    "\n",
    "lrvb_term = np.full(moment_jac.T.shape, float('nan'))\n",
    "for col in range(moment_jac.shape[0]):\n",
    "    sys.stdout.write('.')\n",
    "    sys.stdout.flush()\n",
    "    cg_res, info = scipy.sparse.linalg.cg(ObjHessVecProdLO, moment_jac[col, :])\n",
    "    assert info == 0\n",
    "    lrvb_term[:, col] = cg_res\n",
    "\n",
    "print 'all done dude'"
   ]
  },
  {
   "cell_type": "code",
   "execution_count": 13,
   "metadata": {
    "collapsed": true
   },
   "outputs": [],
   "source": [
    "# Slow, but faster than CG depending on the dimension:\n",
    "kl_hess = KLHess(vb_opt.x)"
   ]
  },
  {
   "cell_type": "code",
   "execution_count": 14,
   "metadata": {},
   "outputs": [
    {
     "name": "stdout",
     "output_type": "stream",
     "text": [
      "[ 0.002832    0.00282262  0.00282669  0.00281802  0.00286361  0.00281033\n",
      "  0.00277872  0.00284038  0.00282029  0.00283363  0.00282261  0.00278768\n",
      "  0.00279667  0.00277839  0.00281509  0.00285268  0.00280664  0.00279462\n",
      "  0.00281947  0.0028174   0.00283635  0.00283276  0.00281545  0.00282577\n",
      "  0.00278867  0.00285329  0.00280539  0.00282984  0.00281916  0.00280564\n",
      "  0.00283308  0.00284322  0.00281446  0.00280454  0.00280096  0.00282703\n",
      "  0.00281519  0.00282412  0.00284639  0.00281155  0.00280727  0.00282772\n",
      "  0.00282816  0.00284799  0.00283936  0.00281008  0.00282914  0.00283034\n",
      "  0.00280715  0.00281675  0.00282438  0.0027897   0.00284272  0.00281637\n",
      "  0.00285031  0.00283948  0.00280994  0.00279633  0.00282145  0.00283916\n",
      "  0.00281009  0.00278778  0.00284357  0.00279236  0.00282581  0.00284486\n",
      "  0.00281581  0.00280717  0.00281234  0.00280055  0.00279773  0.00285638\n",
      "  0.00282153  0.00280973  0.00281597  0.00283564  0.00283678  0.00283097\n",
      "  0.0027967   0.00284193  0.00281175  0.00283584  0.00281411  0.0028164\n",
      "  0.00282831  0.00282789  0.00282123  0.00284025  0.0028024   0.00277129\n",
      "  0.00281771  0.00284205  0.00278425  0.00281651  0.00281307  0.00280231\n",
      "  0.00284722  0.00282352  0.0028246   0.00282081]\n",
      "[ 0.002832    0.00282262  0.00282669  0.00281802  0.00286361  0.00281033\n",
      "  0.00277872  0.00284038  0.00282029  0.00283363  0.00282261  0.00278768\n",
      "  0.00279667  0.00277839  0.00281509  0.00285268  0.00280664  0.00279462\n",
      "  0.00281947  0.0028174   0.00283635  0.00283276  0.00281545  0.00282577\n",
      "  0.00278867  0.00285329  0.00280539  0.00282984  0.00281916  0.00280564\n",
      "  0.00283308  0.00284322  0.00281446  0.00280454  0.00280096  0.00282703\n",
      "  0.00281519  0.00282412  0.00284639  0.00281155  0.00280727  0.00282772\n",
      "  0.00282816  0.00284799  0.00283936  0.00281008  0.00282914  0.00283034\n",
      "  0.00280715  0.00281675  0.00282438  0.0027897   0.00284272  0.00281637\n",
      "  0.00285031  0.00283948  0.00280994  0.00279633  0.00282145  0.00283916\n",
      "  0.00281009  0.00278778  0.00284357  0.00279236  0.00282581  0.00284486\n",
      "  0.00281581  0.00280717  0.00281234  0.00280055  0.00279773  0.00285638\n",
      "  0.00282153  0.00280973  0.00281597  0.00283564  0.00283678  0.00283097\n",
      "  0.0027967   0.00284193  0.00281175  0.00283584  0.00281411  0.0028164\n",
      "  0.00282831  0.00282789  0.00282123  0.00284025  0.0028024   0.00277129\n",
      "  0.00281771  0.00284205  0.00278425  0.00281651  0.00281307  0.00280231\n",
      "  0.00284722  0.00282352  0.0028246   0.00282081]\n",
      "var_mu: [ 0.00451747  0.00450239  0.00451777  0.00449481  0.00457138  0.00449192\n",
      "  0.00444506  0.00453569  0.00450447  0.0045193   0.00450723  0.00445833\n",
      "  0.00446659  0.00444217  0.00449724  0.00455906  0.0044857   0.00446664\n",
      "  0.00449854  0.00450156  0.00453525  0.00452503  0.00449661  0.0045155\n",
      "  0.00446001  0.0045605   0.00448341  0.00451724  0.00450028  0.00448396\n",
      "  0.00452012  0.00453501  0.00449435  0.00447248  0.00448128  0.0045127\n",
      "  0.00449234  0.00451337  0.00455229  0.004491    0.00449181  0.00451386\n",
      "  0.00451839  0.00454473  0.00453574  0.00448699  0.00452643  0.0045207\n",
      "  0.00448741  0.00450149  0.00450298  0.00446148  0.00453454  0.00449204\n",
      "  0.00454746  0.00452525  0.00449673  0.00447447  0.00451661  0.00452577\n",
      "  0.0044915   0.0044566   0.00454374  0.00444593  0.0045148   0.00453693\n",
      "  0.00449904  0.00447903  0.00449809  0.00447156  0.00446431  0.00456634\n",
      "  0.004511    0.00449176  0.00449817  0.00453502  0.00451896  0.00453046\n",
      "  0.0044745   0.00454712  0.00449841  0.00452026  0.00449494  0.00449565\n",
      "  0.00451571  0.00451943  0.00450838  0.00452386  0.00448064  0.0044282\n",
      "  0.00449177  0.00454062  0.00444862  0.00449839  0.00449842  0.00447741\n",
      "  0.0045485   0.00451149  0.00450525  0.00451078]\n"
     ]
    }
   ],
   "source": [
    "mu_cov_hess = np.matmul(moment_jac, np.linalg.solve(kl_hess, moment_jac.T))\n",
    "mu_cov = np.matmul(moment_jac, lrvb_term)\n",
    "print np.diag(mu_cov)\n",
    "print np.diag(mu_cov_hess)\n",
    "print mvn_par_opt['var_mu']"
   ]
  }
 ],
 "metadata": {
  "kernelspec": {
   "display_name": "Python 3",
   "language": "python",
   "name": "python3"
  },
  "language_info": {
   "codemirror_mode": {
    "name": "ipython",
    "version": 3
   },
   "file_extension": ".py",
   "mimetype": "text/x-python",
   "name": "python",
   "nbconvert_exporter": "python",
   "pygments_lexer": "ipython3",
   "version": "3.5.2"
  }
 },
 "nbformat": 4,
 "nbformat_minor": 1
}
