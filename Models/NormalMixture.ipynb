{
 "cells": [
  {
   "cell_type": "code",
   "execution_count": 1,
   "metadata": {},
   "outputs": [],
   "source": [
    "import VariationalBayes as vb\n",
    "from VariationalBayes.SparseObjectives import SparseObjective, Objective\n",
    "from VariationalBayes.Models.NormalMixture import normal_mixture as mix\n",
    "\n",
    "import math\n",
    "\n",
    "import autograd\n",
    "import autograd.numpy as np\n",
    "\n",
    "import matplotlib.pyplot as plt\n",
    "%matplotlib inline\n",
    "\n",
    "import time\n",
    "\n",
    "#import copy\n",
    "from copy import deepcopy\n",
    "import scipy as sp\n",
    "from scipy import optimize\n",
    "from scipy import stats"
   ]
  },
  {
   "cell_type": "code",
   "execution_count": 2,
   "metadata": {},
   "outputs": [],
   "source": [
    "# Number of data points:\n",
    "num_obs = 1000\n",
    "\n",
    "# Dimension of observations:\n",
    "d_num = 2\n",
    "\n",
    "# Number of clusters:\n",
    "k_num = 2\n",
    "\n",
    "mu_scale = 3\n",
    "noise_scale = 0.5\n",
    "\n",
    "true_pi = np.linspace(0.2, 0.8, k_num)\n",
    "true_pi = true_pi / np.sum(true_pi)\n",
    "\n",
    "mu_prior_mean = np.full(d_num, 0.)\n",
    "mu_prior_cov = np.diag(np.full(d_num, mu_scale ** 2))\n",
    "mu_prior_info = np.linalg.inv(mu_prior_cov)\n",
    "#true_mu = np.random.multivariate_normal(mu_prior_mean, mu_prior_cov, k_num)\n",
    "true_mu = np.array([ np.linspace(-2., 2., k_num), np.linspace(-2., 2., k_num)]).T\n",
    "\n",
    "true_sigma = np.array([ np.diag(np.full(d_num, noise_scale ** 2)) + np.full((d_num, d_num), 0.1) \\\n",
    "                        for k in range(k_num) ])\n",
    "true_info = np.array([ np.linalg.inv(true_sigma[k, :, :]) for k in range(k_num) ])\n",
    "\n",
    "x, true_z, true_z_ind = mix.generate_data(num_obs, true_mu, true_sigma, true_pi)\n"
   ]
  },
  {
   "cell_type": "code",
   "execution_count": 3,
   "metadata": {},
   "outputs": [
    {
     "data": {
      "image/png": "[encoded data removed]",
      "text/plain": [
       "<matplotlib.figure.Figure at 0x7fc6352cf470>"
      ]
     },
     "metadata": {},
     "output_type": "display_data"
    }
   ],
   "source": [
    "# Never a bad idea to visualize the dataz\n",
    "plt.plot(x[:,0], x[:,1], 'k.')\n",
    "for k in range(k_num):\n",
    "    plt.plot(true_mu[k, 0], true_mu[k, 1], 'ro')"
   ]
  },
  {
   "cell_type": "code",
   "execution_count": 15,
   "metadata": {},
   "outputs": [
    {
     "name": "stdout",
     "output_type": "stream",
     "text": [
      "global:\n",
      "\tinfo:\n",
      "[[[ 1.  0.]\n",
      "  [ 0.  1.]]\n",
      "\n",
      " [[ 1.  0.]\n",
      "  [ 0.  1.]]]\n",
      "\tmu:\n",
      "[[ 0.71867953  0.99647742]\n",
      " [ 0.74865594  0.49913398]]\n",
      "\tpi: [[ 0.5  0.5]]\n"
     ]
    }
   ],
   "source": [
    "global_params = vb.ModelParamsDict('global')\n",
    "global_params.push_param(\n",
    "    vb.PosDefMatrixParamVector(name='info', length=k_num, matrix_size=d_num))\n",
    "global_params.push_param(\n",
    "    vb.ArrayParam(name='mu', shape=(k_num, d_num)))\n",
    "global_params.push_param(\n",
    "    vb.SimplexParam(name='pi', shape=(1, k_num)))\n",
    "\n",
    "local_params = vb.ModelParamsDict('local')\n",
    "local_params.push_param(\n",
    "    vb.SimplexParam(name='e_z', shape=(num_obs, k_num),\n",
    "                    val=np.full(true_z.shape, 1. / k_num)))\n",
    "\n",
    "params = vb.ModelParamsDict('mixture model')\n",
    "params.push_param(global_params)\n",
    "params.push_param(local_params)\n",
    "\n",
    "true_init = False\n",
    "if true_init:\n",
    "    params['global']['info'].set(true_info)\n",
    "    params['global']['mu'].set(true_mu)\n",
    "    params['global']['pi'].set(true_pi)\n",
    "else:\n",
    "    params['global']['mu'].set(np.random.random(params['global']['mu'].shape()))\n",
    "    \n",
    "init_par_vec = params.get_free()\n",
    "global_init_par_vec = params['global'].get_free()\n",
    "\n",
    "print(params['global'])"
   ]
  },
  {
   "cell_type": "code",
   "execution_count": 5,
   "metadata": {
    "collapsed": true
   },
   "outputs": [],
   "source": [
    "prior_params = vb.ModelParamsDict()\n",
    "prior_params.push_param(vb.VectorParam(name='mu_prior_mean', size=d_num, val=mu_prior_mean))\n",
    "prior_params.push_param(vb.PosDefMatrixParam(name='mu_prior_info', size=d_num, val=mu_prior_info))\n",
    "prior_params.push_param(vb.ScalarParam(name='alpha', val=2.0))\n",
    "prior_params.push_param(vb.ScalarParam(name='dof', val=d_num + 2.0))"
   ]
  },
  {
   "cell_type": "code",
   "execution_count": 6,
   "metadata": {},
   "outputs": [],
   "source": [
    "# weights = np.full((num_obs, 1), 1.0)\n",
    "# e_z = params['local']['e_z'].get()\n",
    "# get_multinoulli_entropy_hessian = autograd.hessian(mix.multinoulli_entropy)\n",
    "# e_z0 = e_z[0, :]\n",
    "\n",
    "# print(np.max(np.abs(\n",
    "#     get_multinoulli_entropy_hessian(e_z0) - mix.get_sparse_multinoulli_entropy_hessian(e_z0).toarray())))"
   ]
  },
  {
   "cell_type": "code",
   "execution_count": 7,
   "metadata": {},
   "outputs": [
    {
     "data": {
      "text/plain": [
       "4178.1843909229756"
      ]
     },
     "execution_count": 7,
     "metadata": {},
     "output_type": "execute_result"
    }
   ],
   "source": [
    "model = mix.Model(x, params, prior_params)\n",
    "model.optimize_z()\n",
    "\n",
    "kl_obj = SparseObjective(\n",
    "    model.params, model.kl,\n",
    "    fun_vector_local_hessian=model.kl_vector_local_hessian_sparse)\n",
    "\n",
    "kl_obj_dense = Objective(model.params, model.kl)\n",
    "\n",
    "kl_obj_global = Objective(model.params['global'], model.kl_optimal_z)\n",
    "\n",
    "\n",
    "kl_obj_global.fun_free(model.params['global'].get_free())"
   ]
  },
  {
   "cell_type": "code",
   "execution_count": 8,
   "metadata": {},
   "outputs": [],
   "source": [
    "# # Sanity check\n",
    "# nat_param_ad = model.get_z_nat_params(model.params['local']['e_z'].get())\n",
    "# nat_param = model.loglik_obs_by_k()\n",
    "# np.max(np.abs(nat_param - nat_param_ad))"
   ]
  },
  {
   "cell_type": "code",
   "execution_count": 9,
   "metadata": {},
   "outputs": [],
   "source": [
    "# free_par = params.get_free()\n",
    "# vec_par = params.get_vector()\n",
    "\n",
    "# kl_obj.fun_free(free_par)\n",
    "# grad = kl_obj.fun_free_grad_sparse(free_par)\n",
    "\n",
    "# hvp_time = time.time()\n",
    "# hvp = kl_obj.fun_free_hvp(free_par, grad)\n",
    "# hvp_time = time.time() - hvp_time\n",
    "\n",
    "# global_free_par = params['global'].get_free()\n",
    "# local_free_par = params['local'].get_free()\n",
    "# grad = kl_obj.fun_free_global_grad(global_free_par, local_free_par)\n",
    "# hess = kl_obj.fun_free_global_hessian(global_free_par, local_free_par)\n",
    "\n",
    "# # You can ignore the autograd warning.\n",
    "# sparse_hess_time = time.time()\n",
    "# sparse_hessian = kl_obj.fun_free_hessian_sparse(free_par)\n",
    "# sparse_hess_time = time.time() - sparse_hess_time\n",
    "\n",
    "# print('Sparse Hessian time: \\t\\t', sparse_hess_time)\n",
    "# print('Hessian vector product time:\\t', hvp_time)\n",
    "\n",
    "# if True:\n",
    "#     dense_hess_time = time.time()\n",
    "#     dense_hessian = kl_obj_dense.fun_free_hessian(free_par)\n",
    "#     dense_hess_time = time.time() - dense_hess_time\n",
    "\n",
    "#     print('Dense Hessian time: \\t\\t', dense_hess_time)\n",
    "#     print('Difference: ', np.max(np.abs(dense_hessian - sparse_hessian)))\n",
    "\n"
   ]
  },
  {
   "cell_type": "code",
   "execution_count": 10,
   "metadata": {},
   "outputs": [],
   "source": [
    "# # Check the weight Jacobians.\n",
    "# get_loglik_obs_free_local_jac = \\\n",
    "#     autograd.jacobian(model.loglik_obs_free_global_local, argnum=1)\n",
    "\n",
    "# free_par_global = model.params['global'].get_free()\n",
    "# free_par_local = model.params['local'].get_free()\n",
    "\n",
    "\n",
    "# loglik_obs_free_local_jac = \\\n",
    "#     get_loglik_obs_free_local_jac(free_par_global, free_par_local)\n",
    "\n",
    "# loglik_vector_local_weight_hessian_sparse = \\\n",
    "#     model.loglik_vector_local_weight_hessian_sparse()\n",
    "\n",
    "# likelihood_by_obs_free_local_jac_sparse = \\\n",
    "#     model.loglik_free_local_weight_hessian_sparse()\n",
    "\n",
    "# print(np.max(np.abs(loglik_obs_free_local_jac - likelihood_by_obs_free_local_jac_sparse)))\n"
   ]
  },
  {
   "cell_type": "code",
   "execution_count": 11,
   "metadata": {},
   "outputs": [
    {
     "name": "stdout",
     "output_type": "stream",
     "text": [
      " kl: 1177.8980314867174\t\tkl_diff = -2325.1942422433603\t\tdiff = 2.0027894074368997\n",
      " kl: 1170.1515606060366\t\tkl_diff = -7.746470880680818\t\tdiff = 0.09089662525162612\n",
      " kl: 1142.3234700108856\t\tkl_diff = -27.828090595151025\t\tdiff = 0.1751031303266114\n",
      " kl: 1033.5624434906651\t\tkl_diff = -108.76102652022041\t\tdiff = 0.30141903274188\n",
      " kl: 725.8070175918903\t\tkl_diff = -307.7554258987749\t\tdiff = 0.5271988899648821\n",
      " kl: 617.3456124928738\t\tkl_diff = -108.46140509901647\t\tdiff = 0.6166405782783216\n",
      " kl: 589.6512679645161\t\tkl_diff = -27.694344528357647\t\tdiff = 0.4469698821498257\n",
      " kl: 561.9840863533504\t\tkl_diff = -27.667181611165688\t\tdiff = 0.3594527101547125\n",
      " kl: 514.9255510873935\t\tkl_diff = -47.05853526595695\t\tdiff = 0.3363670316861447\n",
      " kl: 437.94689317835685\t\tkl_diff = -76.97865790903666\t\tdiff = 0.3419716522177749\n",
      " kl: 417.7545786004279\t\tkl_diff = -20.192314577928926\t\tdiff = 0.5350807170365424\n",
      " kl: 417.7538776616419\t\tkl_diff = -0.0007009387859966409\t\tdiff = 0.004111748772515522\n",
      " kl: 417.7538776182392\t\tkl_diff = -4.34027356277511e-08\t\tdiff = 3.813818537157232e-05\n",
      " kl: 417.7538776166831\t\tkl_diff = -1.5560885913146194e-09\t\tdiff = 9.90894538221987e-06\n",
      " kl: 417.7538776166831\t\tkl_diff = 0.0\t\tdiff = 0.0\n",
      "Done.\n"
     ]
    }
   ],
   "source": [
    "# # Perform EM.\n",
    "\n",
    "# model.params.set_free(init_par_vec)\n",
    "# model.optimize_z()\n",
    "# global_param_vec = model.params['global'].get_vector()\n",
    "# kl = model.kl()\n",
    "\n",
    "# for step in range(20):\n",
    "#     global_free_par = model.params['global'].get_free()\n",
    "#     local_free_par = model.params['local'].get_free()\n",
    "    \n",
    "#     # Different choices for the M step:\n",
    "#     global_vb_opt = optimize.minimize(\n",
    "#        lambda par: kl_obj.fun_free_split(par, local_free_par),\n",
    "#        x0=global_free_par,\n",
    "#        jac=lambda par: kl_obj.fun_free_global_grad(par, local_free_par),\n",
    "#        hess=lambda par: kl_obj.fun_free_global_hessian(par, local_free_par),\n",
    "#        method='trust-ncg', options={'maxiter': 50, 'gtol': 1e-2})\n",
    "#     model.params['global'].set_free(global_vb_opt.x)\n",
    "\n",
    "#     # E-step:\n",
    "#     model.optimize_z()\n",
    "\n",
    "#     new_global_param_vec = model.params['global'].get_vector()\n",
    "#     diff = np.max(np.abs(new_global_param_vec - global_param_vec))\n",
    "#     global_param_vec = deepcopy(new_global_param_vec)\n",
    "    \n",
    "#     new_kl = model.kl()\n",
    "#     kl_diff = new_kl - kl\n",
    "#     kl = new_kl\n",
    "#     print(' kl: {}\\t\\tkl_diff = {}\\t\\tdiff = {}'.format(kl, kl_diff, diff))\n",
    "#     if diff < 1e-6:\n",
    "#         break\n",
    "\n",
    "# em_free_par = model.params.get_free()\n",
    "# print('Done.')\n"
   ]
  },
  {
   "cell_type": "code",
   "execution_count": 16,
   "metadata": {},
   "outputs": [
    {
     "name": "stdout",
     "output_type": "stream",
     "text": [
      "done\n",
      "415.453906312\n"
     ]
    }
   ],
   "source": [
    "# # Newton is faster than CG if you go to high-quality optimum.\n",
    "# vb_opt = optimize.minimize(\n",
    "#     kl_obj.fun_free,\n",
    "#     x0=em_free_par,\n",
    "#     jac=kl_obj.fun_free_grad_sparse,\n",
    "#     hess=kl_obj.fun_free_hessian_sparse,\n",
    "#     method='trust-ncg', options={'maxiter': 50, 'gtol': 1e-8})\n",
    "\n",
    "# print('done')\n",
    "# print(kl_obj.fun_free(vb_opt.x))\n",
    "\n",
    "em_global_free_par = model.params['global'].get_free()\n",
    "\n",
    "vb_opt = optimize.minimize(\n",
    "    kl_obj_global.fun_free,\n",
    "    x0=global_init_par_vec,\n",
    "    jac=kl_obj_global.fun_free_grad,\n",
    "    hess=kl_obj_global.fun_free_hessian,\n",
    "    method='trust-ncg', options={'maxiter': 50, 'gtol': 1e-8})\n",
    "\n",
    "print('done')\n",
    "print(kl_obj_global.fun_free(vb_opt.x))"
   ]
  },
  {
   "cell_type": "code",
   "execution_count": 18,
   "metadata": {},
   "outputs": [
    {
     "data": {
      "image/png": "[encoded data removed]",
      "text/plain": [
       "<matplotlib.figure.Figure at 0x7fc6330dc208>"
      ]
     },
     "metadata": {},
     "output_type": "display_data"
    }
   ],
   "source": [
    "# Check that the solution looks sensible.\n",
    "model.params['global'].set_free(vb_opt.x)\n",
    "model.optimize_z()\n",
    "\n",
    "mu_fit = model.params['global']['mu'].get()\n",
    "plt.plot(x[:,0], x[:,1], 'k.')\n",
    "for k in range(k_num):\n",
    "    plt.plot(mu_fit[k, 0], mu_fit[k, 1], 'ro')"
   ]
  },
  {
   "cell_type": "code",
   "execution_count": 54,
   "metadata": {},
   "outputs": [
    {
     "name": "stdout",
     "output_type": "stream",
     "text": [
      "(11, 4)\n"
     ]
    }
   ],
   "source": [
    "# from scipy.sparse import csc_matrix\n",
    "# from scipy.sparse import csr_matrix\n",
    "\n",
    "# moment_jac = model.get_moment_jacobian(vb_opt.x)\n",
    "\n",
    "# kl_free_hessian_sparse = kl_obj.fun_free_hessian_sparse(vb_opt.x)\n",
    "# sensitivity_operator = \\\n",
    "#     sp.sparse.linalg.spsolve(csc_matrix(kl_free_hessian_sparse),\n",
    "#                              csr_matrix(moment_jac).T)\n",
    "\n",
    "moment_jac = model.get_moment_jacobian(vb_opt.x)\n",
    "kl_hessian = kl_obj_global.fun_free_hessian(vb_opt.x)\n",
    "sensitivity_operator = np.linalg.solve(kl_hessian, moment_jac.T)\n",
    "print(sensitivity_operator.shape)"
   ]
  },
  {
   "cell_type": "code",
   "execution_count": 50,
   "metadata": {},
   "outputs": [
    {
     "name": "stdout",
     "output_type": "stream",
     "text": [
      "(2000, 12)\n"
     ]
    }
   ],
   "source": [
    "model.params['global'].set_free(vb_opt.x)\n",
    "global_vec = model.params['global'].get_vector()\n",
    "local_vec = model.params['local'].get_vector()\n",
    "\n",
    "def global_to_z(global_vec, model):\n",
    "    model.params['global'].set_vector(global_vec)\n",
    "    model.optimize_z()\n",
    "    return model.params['local']['e_z'].get_vector()\n",
    "\n",
    "eval_global_to_z_jac = autograd.jacobian(global_to_z)\n",
    "global_to_z_jac = eval_global_to_z_jac(global_vec, model)\n",
    "# weight_jac = model.loglik_free_weight_hessian_sparse()\n",
    "# data_sens = (weight_jac.T * sensitivity_operator).toarray()\n",
    "# print(data_sens.shape)"
   ]
  },
  {
   "cell_type": "code",
   "execution_count": 51,
   "metadata": {},
   "outputs": [],
   "source": [
    "def loglik_obs_vector_global_local(vec_params_global, vec_params_local, model):\n",
    "    model.params['global'].set_vector(vec_params_global)\n",
    "    model.params['local'].set_vector(vec_params_local)\n",
    "    return model.loglik_obs()\n",
    "\n",
    "eval_loglik_obs_vector_global_local_hessian = autograd.jacobian(loglik_obs_vector_global_local, argnum=0)\n",
    "loglik_vector_global_weight_hessian = eval_loglik_obs_vector_global_local_hessian(global_vec, local_vec, model)\n",
    "loglik_vector_local_weight_hessian = model.loglik_vector_local_weight_hessian_sparse()\n",
    "\n"
   ]
  },
  {
   "cell_type": "code",
   "execution_count": 52,
   "metadata": {},
   "outputs": [
    {
     "name": "stdout",
     "output_type": "stream",
     "text": [
      "<class 'numpy.ndarray'>\n",
      "<class 'scipy.sparse.csr.csr_matrix'>\n",
      "(12, 1000)\n",
      "(2000, 1000)\n"
     ]
    }
   ],
   "source": [
    "print(type(loglik_vector_global_weight_hessian))\n",
    "print(type(loglik_vector_local_weight_hessian))\n",
    "print(loglik_vector_global_weight_hessian.T.shape)\n",
    "print(loglik_vector_local_weight_hessian.shape)\n",
    "loglik_vector_weight_hessian = np.vstack(\n",
    "    [loglik_vector_global_weight_hessian.T, loglik_vector_local_weight_hessian.toarray()])\n",
    "\n",
    "global_to_global_z_jac = np.vstack([np.eye(len(global_vec)), global_to_z_jac])\n",
    "\n",
    "loglik_vector_weight_hessian_global_only = np.matmul(global_to_global_z_jac.T, loglik_vector_weight_hessian)"
   ]
  },
  {
   "cell_type": "code",
   "execution_count": 55,
   "metadata": {},
   "outputs": [
    {
     "name": "stdout",
     "output_type": "stream",
     "text": [
      "(12, 1000)\n"
     ]
    },
    {
     "data": {
      "text/plain": [
       "<12x11 sparse matrix of type '<class 'numpy.float64'>'\n",
       "\twith 24 stored elements in COOrdinate format>"
      ]
     },
     "execution_count": 55,
     "metadata": {},
     "output_type": "execute_result"
    }
   ],
   "source": [
    "print(loglik_vector_weight_hessian_global_only.shape)\n",
    "loglik_vector_weight_free_global_only = model.params['global'].free_to_vector_jac(global_free_par)"
   ]
  },
  {
   "cell_type": "code",
   "execution_count": 61,
   "metadata": {},
   "outputs": [
    {
     "name": "stdout",
     "output_type": "stream",
     "text": [
      "(1000, 4)\n"
     ]
    }
   ],
   "source": [
    "def loglik_obs_set_z(global_free_par, model):\n",
    "    model.params['global'].set_free(global_free_par)\n",
    "    model.optimize_z()\n",
    "    return model.loglik_obs()\n",
    "\n",
    "eval_loglik_obs_set_z_jac = autograd.jacobian(loglik_obs_set_z)\n",
    "weight_jac = eval_loglik_obs_set_z_jac(vb_opt.x, model)\n",
    "data_sens = np.matmul(weight_jac, sensitivity_operator)\n",
    "print(data_sens.shape)"
   ]
  },
  {
   "cell_type": "code",
   "execution_count": 63,
   "metadata": {},
   "outputs": [],
   "source": [
    "rm_row = 1\n",
    "keep_rows = np.setdiff1d(np.arange(model.x.shape[0]), rm_row)\n",
    "model.params['global'].set_free(vb_opt.x)\n",
    "model.optimize_z()\n",
    "\n",
    "e_z_rm = vb.SimplexParam(name='e_z', shape=(num_obs - 1, k_num))\n",
    "e_z_rm.set(model.params['local']['e_z'].get()[keep_rows, :])\n",
    "rm_local = vb.ModelParamsDict('local')\n",
    "rm_local.push_param(e_z_rm)\n",
    "\n",
    "rm_params = vb.ModelParamsDict('mixture model deleted row')\n",
    "rm_params.push_param(deepcopy(model.params['global']))\n",
    "rm_params.push_param(rm_local)\n",
    "\n",
    "rm_model = mix.Model(x[keep_rows, :], rm_params, prior_params)"
   ]
  },
  {
   "cell_type": "code",
   "execution_count": 69,
   "metadata": {},
   "outputs": [
    {
     "name": "stdout",
     "output_type": "stream",
     "text": [
      "Done\n"
     ]
    },
    {
     "ename": "ValueError",
     "evalue": "Wrong size.",
     "output_type": "error",
     "traceback": [
      "\u001b[0;31m---------------------------------------------------------------------------\u001b[0m",
      "\u001b[0;31mValueError\u001b[0m                                Traceback (most recent call last)",
      "\u001b[0;32m<ipython-input-69-a7dad7c0218e>\u001b[0m in \u001b[0;36m<module>\u001b[0;34m()\u001b[0m\n\u001b[1;32m     21\u001b[0m \u001b[0;34m\u001b[0m\u001b[0m\n\u001b[1;32m     22\u001b[0m \u001b[0mprint\u001b[0m\u001b[0;34m(\u001b[0m\u001b[0;34m'Done'\u001b[0m\u001b[0;34m)\u001b[0m\u001b[0;34m\u001b[0m\u001b[0m\n\u001b[0;32m---> 23\u001b[0;31m \u001b[0mrm_model\u001b[0m\u001b[0;34m.\u001b[0m\u001b[0mparams\u001b[0m\u001b[0;34m.\u001b[0m\u001b[0mset_free\u001b[0m\u001b[0;34m(\u001b[0m\u001b[0mrm_vb_opt\u001b[0m\u001b[0;34m.\u001b[0m\u001b[0mx\u001b[0m\u001b[0;34m)\u001b[0m\u001b[0;34m\u001b[0m\u001b[0m\n\u001b[0m",
      "\u001b[0;32m/home/rgiordan/Documents/git_repos/LinearResponseVariationalBayes.py/VariationalBayes/ParameterDictionary.py\u001b[0m in \u001b[0;36mset_free\u001b[0;34m(self, vec)\u001b[0m\n\u001b[1;32m     49\u001b[0m \u001b[0;34m\u001b[0m\u001b[0m\n\u001b[1;32m     50\u001b[0m     \u001b[0;32mdef\u001b[0m \u001b[0mset_free\u001b[0m\u001b[0;34m(\u001b[0m\u001b[0mself\u001b[0m\u001b[0;34m,\u001b[0m \u001b[0mvec\u001b[0m\u001b[0;34m)\u001b[0m\u001b[0;34m:\u001b[0m\u001b[0;34m\u001b[0m\u001b[0m\n\u001b[0;32m---> 51\u001b[0;31m         \u001b[0;32mif\u001b[0m \u001b[0mvec\u001b[0m\u001b[0;34m.\u001b[0m\u001b[0msize\u001b[0m \u001b[0;34m!=\u001b[0m \u001b[0mself\u001b[0m\u001b[0;34m.\u001b[0m\u001b[0m__free_size\u001b[0m\u001b[0;34m:\u001b[0m \u001b[0;32mraise\u001b[0m \u001b[0mValueError\u001b[0m\u001b[0;34m(\u001b[0m\u001b[0;34m\"Wrong size.\"\u001b[0m\u001b[0;34m)\u001b[0m\u001b[0;34m\u001b[0m\u001b[0m\n\u001b[0m\u001b[1;32m     52\u001b[0m         \u001b[0moffset\u001b[0m \u001b[0;34m=\u001b[0m \u001b[0;36m0\u001b[0m\u001b[0;34m\u001b[0m\u001b[0m\n\u001b[1;32m     53\u001b[0m         \u001b[0;32mfor\u001b[0m \u001b[0mparam\u001b[0m \u001b[0;32min\u001b[0m \u001b[0mself\u001b[0m\u001b[0;34m.\u001b[0m\u001b[0mparam_dict\u001b[0m\u001b[0;34m.\u001b[0m\u001b[0mvalues\u001b[0m\u001b[0;34m(\u001b[0m\u001b[0;34m)\u001b[0m\u001b[0;34m:\u001b[0m\u001b[0;34m\u001b[0m\u001b[0m\n",
      "\u001b[0;31mValueError\u001b[0m: Wrong size."
     ]
    }
   ],
   "source": [
    "# rm_model.kl_free(init_par)\n",
    "# rm_model.kl_free_hessian_sparse(init_par)\n",
    "# rm_kl_obj = SparseObjective(\n",
    "#     rm_model.params, rm_model.kl,\n",
    "#     fun_vector_local_hessian=rm_model.kl_vector_local_hessian_sparse)\n",
    "\n",
    "rm_kl_obj = Objective(rm_model.params['global'], rm_model.kl_optimal_z)\n",
    "\n",
    "init_par = model.params['global'].get_free()\n",
    "\n",
    "#print(rm_model.kl_vector_local_hessian_sparse(global_vec, local_vec))\n",
    "#print(rm_kl_obj.fun_vector_local_hessian(global_vec, local_vec))\n",
    "\n",
    "#print(rm_kl_obj.fun_free_hessian_sparse(init_par))\n",
    "rm_vb_opt = optimize.minimize(\n",
    "    rm_kl_obj.fun_free,\n",
    "    x0=init_par,\n",
    "    jac=rm_kl_obj.fun_free_grad,\n",
    "    hess=rm_kl_obj.fun_free_hessian,\n",
    "    method='trust-ncg', options={'maxiter': 50, 'gtol': 1e-8})\n",
    "\n",
    "print('Done')\n",
    "rm_model.params['global'].set_free(rm_vb_opt.x)\n"
   ]
  },
  {
   "cell_type": "code",
   "execution_count": null,
   "metadata": {},
   "outputs": [],
   "source": [
    "\n",
    "print('Actual sensitivity:\\t', \n",
    "      rm_model.get_interesting_moments(rm_vb_opt.x) - model.get_interesting_moments(vb_opt.x))\n",
    "print('Predicted sensitivity:\\t', -1 * data_sens[rm_row, :])\n"
   ]
  }
 ],
 "metadata": {
  "kernelspec": {
   "display_name": "Python 3",
   "language": "python",
   "name": "python3"
  },
  "language_info": {
   "codemirror_mode": {
    "name": "ipython",
    "version": 3
   },
   "file_extension": ".py",
   "mimetype": "text/x-python",
   "name": "python",
   "nbconvert_exporter": "python",
   "pygments_lexer": "ipython3",
   "version": "3.5.2"
  }
 },
 "nbformat": 4,
 "nbformat_minor": 2
}
