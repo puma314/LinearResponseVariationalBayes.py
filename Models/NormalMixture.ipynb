{
 "cells": [
  {
   "cell_type": "code",
   "execution_count": 1,
   "metadata": {},
   "outputs": [],
   "source": [
    "import VariationalBayes as vb\n",
    "from VariationalBayes.SparseObjectives import SparseObjective, Objective\n",
    "from VariationalBayes.Models.NormalMixture import normal_mixture as mix\n",
    "\n",
    "import math\n",
    "\n",
    "import autograd\n",
    "import autograd.numpy as np\n",
    "\n",
    "import matplotlib.pyplot as plt\n",
    "%matplotlib inline\n",
    "\n",
    "import time\n",
    "\n",
    "#import copy\n",
    "from copy import deepcopy\n",
    "import scipy as sp\n",
    "from scipy import optimize\n",
    "from scipy import stats"
   ]
  },
  {
   "cell_type": "code",
   "execution_count": 2,
   "metadata": {},
   "outputs": [],
   "source": [
    "# Number of data points:\n",
    "num_obs = 1000\n",
    "\n",
    "# Dimension of observations:\n",
    "d_num = 2\n",
    "\n",
    "# Number of clusters:\n",
    "k_num = 2\n",
    "\n",
    "mu_scale = 3\n",
    "noise_scale = 0.5\n",
    "\n",
    "true_pi = np.linspace(0.2, 0.8, k_num)\n",
    "true_pi = true_pi / np.sum(true_pi)\n",
    "\n",
    "mu_prior_mean = np.full(d_num, 0.)\n",
    "mu_prior_cov = np.diag(np.full(d_num, mu_scale ** 2))\n",
    "mu_prior_info = np.linalg.inv(mu_prior_cov)\n",
    "#true_mu = np.random.multivariate_normal(mu_prior_mean, mu_prior_cov, k_num)\n",
    "true_mu = np.array([ np.linspace(-2., 2., k_num), np.linspace(-2., 2., k_num)]).T\n",
    "\n",
    "true_sigma = np.array([ np.diag(np.full(d_num, noise_scale ** 2)) + np.full((d_num, d_num), 0.1) \\\n",
    "                        for k in range(k_num) ])\n",
    "true_info = np.array([ np.linalg.inv(true_sigma[k, :, :]) for k in range(k_num) ])\n",
    "\n",
    "x, true_z, true_z_ind = mix.generate_data(num_obs, true_mu, true_sigma, true_pi)\n"
   ]
  },
  {
   "cell_type": "code",
   "execution_count": 3,
   "metadata": {},
   "outputs": [
    {
     "data": {
      "image/png": "[encoded data removed]",
      "text/plain": [
       "<matplotlib.figure.Figure at 0x7f5ca9b0b208>"
      ]
     },
     "metadata": {},
     "output_type": "display_data"
    }
   ],
   "source": [
    "# Never a bad idea to visualize the dataz\n",
    "plt.plot(x[:,0], x[:,1], 'k.')\n",
    "for k in range(k_num):\n",
    "    plt.plot(true_mu[k, 0], true_mu[k, 1], 'ro')"
   ]
  },
  {
   "cell_type": "code",
   "execution_count": 4,
   "metadata": {},
   "outputs": [
    {
     "name": "stdout",
     "output_type": "stream",
     "text": [
      "global:\n",
      "\tinfo:\n",
      "[[[ 1.  0.]\n",
      "  [ 0.  1.]]\n",
      "\n",
      " [[ 1.  0.]\n",
      "  [ 0.  1.]]]\n",
      "\tmu:\n",
      "[[ 0.18369258  0.91764494]\n",
      " [ 0.41631932  0.75610328]]\n",
      "\tpi: [[ 0.5  0.5]]\n"
     ]
    }
   ],
   "source": [
    "global_params = vb.ModelParamsDict('global')\n",
    "global_params.push_param(\n",
    "    vb.PosDefMatrixParamVector(name='info', length=k_num, matrix_size=d_num))\n",
    "global_params.push_param(\n",
    "    vb.ArrayParam(name='mu', shape=(k_num, d_num)))\n",
    "global_params.push_param(\n",
    "    vb.SimplexParam(name='pi', shape=(1, k_num)))\n",
    "\n",
    "local_params = vb.ModelParamsDict('local')\n",
    "local_params.push_param(\n",
    "    vb.SimplexParam(name='e_z', shape=(num_obs, k_num),\n",
    "                    val=np.full(true_z.shape, 1. / k_num)))\n",
    "\n",
    "params = vb.ModelParamsDict('mixture model')\n",
    "params.push_param(global_params)\n",
    "params.push_param(local_params)\n",
    "\n",
    "true_init = False\n",
    "if true_init:\n",
    "    params['global']['info'].set(true_info)\n",
    "    params['global']['mu'].set(true_mu)\n",
    "    params['global']['pi'].set(true_pi)\n",
    "else:\n",
    "    params['global']['mu'].set(np.random.random(params['global']['mu'].shape()))\n",
    "    \n",
    "init_par_vec = params.get_free()\n",
    "global_init_par_vec = params['global'].get_free()\n",
    "\n",
    "print(params['global'])"
   ]
  },
  {
   "cell_type": "code",
   "execution_count": 5,
   "metadata": {
    "collapsed": true
   },
   "outputs": [],
   "source": [
    "prior_params = vb.ModelParamsDict()\n",
    "prior_params.push_param(vb.VectorParam(name='mu_prior_mean', size=d_num, val=mu_prior_mean))\n",
    "prior_params.push_param(vb.PosDefMatrixParam(name='mu_prior_info', size=d_num, val=mu_prior_info))\n",
    "prior_params.push_param(vb.ScalarParam(name='alpha', val=2.0))\n",
    "prior_params.push_param(vb.ScalarParam(name='dof', val=d_num + 2.0))"
   ]
  },
  {
   "cell_type": "code",
   "execution_count": 6,
   "metadata": {},
   "outputs": [],
   "source": [
    "model = mix.Model(x, params, prior_params)\n",
    "kl_obj = Objective(model.params['global'], model.kl)"
   ]
  },
  {
   "cell_type": "code",
   "execution_count": 7,
   "metadata": {},
   "outputs": [],
   "source": [
    "# # Perform EM.\n",
    "\n",
    "# model.params.set_free(init_par_vec)\n",
    "# model.optimize_z()\n",
    "# global_param_vec = model.params['global'].get_vector()\n",
    "# kl = model.kl()\n",
    "\n",
    "# for step in range(20):\n",
    "#     global_free_par = model.params['global'].get_free()\n",
    "#     local_free_par = model.params['local'].get_free()\n",
    "    \n",
    "#     # Different choices for the M step:\n",
    "#     global_vb_opt = optimize.minimize(\n",
    "#        lambda par: kl_obj.fun_free_split(par, local_free_par),\n",
    "#        x0=global_free_par,\n",
    "#        jac=lambda par: kl_obj.fun_free_global_grad(par, local_free_par),\n",
    "#        hess=lambda par: kl_obj.fun_free_global_hessian(par, local_free_par),\n",
    "#        method='trust-ncg', options={'maxiter': 50, 'gtol': 1e-2})\n",
    "#     model.params['global'].set_free(global_vb_opt.x)\n",
    "\n",
    "#     # E-step:\n",
    "#     model.optimize_z()\n",
    "\n",
    "#     new_global_param_vec = model.params['global'].get_vector()\n",
    "#     diff = np.max(np.abs(new_global_param_vec - global_param_vec))\n",
    "#     global_param_vec = deepcopy(new_global_param_vec)\n",
    "    \n",
    "#     new_kl = model.kl()\n",
    "#     kl_diff = new_kl - kl\n",
    "#     kl = new_kl\n",
    "#     print(' kl: {}\\t\\tkl_diff = {}\\t\\tdiff = {}'.format(kl, kl_diff, diff))\n",
    "#     if diff < 1e-6:\n",
    "#         break\n",
    "\n",
    "# em_free_par = model.params.get_free()\n",
    "# print('Done.')\n"
   ]
  },
  {
   "cell_type": "code",
   "execution_count": 21,
   "metadata": {},
   "outputs": [
    {
     "name": "stdout",
     "output_type": "stream",
     "text": [
      "done\n",
      "440.265934085\n"
     ]
    }
   ],
   "source": [
    "def minimize_kl(kl_obj, init_x):\n",
    "    vb_opt = optimize.minimize(\n",
    "        kl_obj.fun_free,\n",
    "        x0=init_x,\n",
    "        jac=kl_obj.fun_free_grad,\n",
    "        hess=kl_obj.fun_free_hessian,\n",
    "        method='trust-ncg', options={'maxiter': 50, 'gtol': 1e-8})\n",
    "\n",
    "    print('done')\n",
    "    return vb_opt\n",
    "\n",
    "vb_opt = minimize_kl(kl_obj, global_init_par_vec)\n",
    "print(kl_obj.fun_free(vb_opt.x))"
   ]
  },
  {
   "cell_type": "code",
   "execution_count": 16,
   "metadata": {},
   "outputs": [
    {
     "data": {
      "image/png": "[encoded data removed]",
      "text/plain": [
       "<matplotlib.figure.Figure at 0x7f5ca79d7470>"
      ]
     },
     "metadata": {},
     "output_type": "display_data"
    }
   ],
   "source": [
    "# Check that the solution looks sensible.\n",
    "model.params['global'].set_free(vb_opt.x)\n",
    "model.optimize_z()\n",
    "\n",
    "mu_fit = model.params['global']['mu'].get()\n",
    "plt.plot(x[:,0], x[:,1], 'k.')\n",
    "for k in range(k_num):\n",
    "    plt.plot(mu_fit[k, 0], mu_fit[k, 1], 'ro')"
   ]
  },
  {
   "cell_type": "code",
   "execution_count": 10,
   "metadata": {},
   "outputs": [],
   "source": [
    "moment_jac = model.get_moment_jacobian(vb_opt.x)\n",
    "kl_hessian = kl_obj.fun_free_hessian(vb_opt.x)\n",
    "sensitivity_operator = np.linalg.solve(kl_hessian, moment_jac.T)"
   ]
  },
  {
   "cell_type": "code",
   "execution_count": 11,
   "metadata": {},
   "outputs": [
    {
     "name": "stdout",
     "output_type": "stream",
     "text": [
      "(1000, 4)\n"
     ]
    }
   ],
   "source": [
    "def loglik_obs_set_z(global_free_par, model):\n",
    "    model.params['global'].set_free(global_free_par)\n",
    "    model.optimize_z()\n",
    "    return model.loglik_obs()\n",
    "\n",
    "eval_loglik_obs_set_z_jac = autograd.jacobian(loglik_obs_set_z)\n",
    "weight_jac = eval_loglik_obs_set_z_jac(vb_opt.x, model)\n",
    "data_sens = np.matmul(weight_jac, sensitivity_operator)\n",
    "print(data_sens.shape)"
   ]
  },
  {
   "cell_type": "code",
   "execution_count": 32,
   "metadata": {
    "collapsed": true
   },
   "outputs": [],
   "source": [
    "# Check sensitivity upon refitting with a new model with non-unity weights.\n",
    "model_perturbed = deepcopy(model)\n",
    "kl_obj_perturbed = Objective(model_perturbed.params['global'], model_perturbed.kl)"
   ]
  },
  {
   "cell_type": "code",
   "execution_count": 38,
   "metadata": {},
   "outputs": [],
   "source": [
    "# Jackknife weights.\n",
    "rm_row = 5\n",
    "perturbed_weights = np.full((num_obs, 1), 1.0)\n",
    "perturbed_weights[rm_row] = 0.0"
   ]
  },
  {
   "cell_type": "code",
   "execution_count": 61,
   "metadata": {},
   "outputs": [
    {
     "name": "stdout",
     "output_type": "stream",
     "text": [
      "(1000, 1)\n"
     ]
    }
   ],
   "source": [
    "# Bootstrap weights.\n",
    "perturbed_weights = \\\n",
    "    np.random.multinomial(num_obs, [1/float(num_obs)] * num_obs, size=1).T\n",
    "print(perturbed_weights.shape)"
   ]
  },
  {
   "cell_type": "code",
   "execution_count": 62,
   "metadata": {},
   "outputs": [
    {
     "name": "stdout",
     "output_type": "stream",
     "text": [
      "done\n",
      "Actual sensitivity:\t [-0.01971352 -0.0280381  -0.03191383  0.04611709]\n",
      "Predicted sensitivity:\t [[-0.01948746 -0.02773445 -0.03275913  0.04787253]]\n"
     ]
    }
   ],
   "source": [
    "model_perturbed.weights = perturbed_weights\n",
    "vb_opt_reweight = minimize_kl(kl_obj_perturbed, vb_opt.x)\n",
    "model_perturbed.params['global'].set_free(vb_opt_reweight.x)\n",
    "\n",
    "print('Actual sensitivity:\\t', \n",
    "      model_perturbed.get_interesting_moments(vb_opt_reweight.x) - \\\n",
    "      model.get_interesting_moments(vb_opt.x))\n",
    "print('Predicted sensitivity:\\t', np.matmul(perturbed_weights.T - 1.0, data_sens))"
   ]
  }
 ],
 "metadata": {
  "kernelspec": {
   "display_name": "Python 3",
   "language": "python",
   "name": "python3"
  },
  "language_info": {
   "codemirror_mode": {
    "name": "ipython",
    "version": 3
   },
   "file_extension": ".py",
   "mimetype": "text/x-python",
   "name": "python",
   "nbconvert_exporter": "python",
   "pygments_lexer": "ipython3",
   "version": "3.5.2"
  }
 },
 "nbformat": 4,
 "nbformat_minor": 2
}
