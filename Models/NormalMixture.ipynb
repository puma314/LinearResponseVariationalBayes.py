{
 "cells": [
  {
   "cell_type": "code",
   "execution_count": 1,
   "metadata": {},
   "outputs": [],
   "source": [
    "import VariationalBayes as vb\n",
    "from VariationalBayes.SparseObjectives import SparseObjective, Objective\n",
    "from VariationalBayes.Models.NormalMixture import normal_mixture as mix\n",
    "\n",
    "import math\n",
    "\n",
    "import autograd\n",
    "import autograd.numpy as np\n",
    "\n",
    "import matplotlib.pyplot as plt\n",
    "%matplotlib inline\n",
    "\n",
    "import time\n",
    "\n",
    "from copy import deepcopy\n",
    "import scipy as sp\n",
    "from scipy import optimize\n",
    "from scipy import stats"
   ]
  },
  {
   "cell_type": "code",
   "execution_count": 2,
   "metadata": {},
   "outputs": [
    {
     "data": {
      "image/png": "[encoded data removed]",
      "text/plain": [
       "<matplotlib.figure.Figure at 0x7f1b9deddef0>"
      ]
     },
     "metadata": {},
     "output_type": "display_data"
    }
   ],
   "source": [
    "# Number of data points:\n",
    "num_obs = 10000\n",
    "\n",
    "# Dimension of observations:\n",
    "d_num = 10\n",
    "\n",
    "# Number of clusters:\n",
    "k_num = 2\n",
    "\n",
    "mu_scale = 3\n",
    "noise_scale = 0.5\n",
    "\n",
    "true_pi = np.linspace(0.2, 0.8, k_num)\n",
    "true_pi = true_pi / np.sum(true_pi)\n",
    "\n",
    "mu_prior_mean = np.full(d_num, 0.)\n",
    "mu_prior_cov = np.diag(np.full(d_num, mu_scale ** 2))\n",
    "mu_prior_info = np.linalg.inv(mu_prior_cov)\n",
    "mu_spacing = np.linspace(-0.9, 0.9, k_num)\n",
    "true_mu = np.array(np.tile(np.expand_dims(mu_spacing, axis=1), (k_num, d_num)))\n",
    "true_sigma = np.array([ np.diag(np.full(d_num, noise_scale ** 2)) + np.full((d_num, d_num), 0.1) \\\n",
    "                        for k in range(k_num) ])\n",
    "true_info = np.array([ np.linalg.inv(true_sigma[k, :, :]) for k in range(k_num) ])\n",
    "\n",
    "x, true_z, true_z_ind = mix.generate_data(num_obs, true_mu, true_sigma, true_pi)\n",
    "\n",
    "# visualize the dataz\n",
    "plt.plot(x[:,0], x[:,1], 'k.')\n",
    "for k in range(k_num):\n",
    "    plt.plot(true_mu[k, 0], true_mu[k, 1], 'ro')"
   ]
  },
  {
   "cell_type": "code",
   "execution_count": 3,
   "metadata": {},
   "outputs": [
    {
     "name": "stdout",
     "output_type": "stream",
     "text": [
      "global:\n",
      "\tinfo:\n",
      "[[[ 1.  0.  0.  0.  0.  0.  0.  0.  0.  0.]\n",
      "  [ 0.  1.  0.  0.  0.  0.  0.  0.  0.  0.]\n",
      "  [ 0.  0.  1.  0.  0.  0.  0.  0.  0.  0.]\n",
      "  [ 0.  0.  0.  1.  0.  0.  0.  0.  0.  0.]\n",
      "  [ 0.  0.  0.  0.  1.  0.  0.  0.  0.  0.]\n",
      "  [ 0.  0.  0.  0.  0.  1.  0.  0.  0.  0.]\n",
      "  [ 0.  0.  0.  0.  0.  0.  1.  0.  0.  0.]\n",
      "  [ 0.  0.  0.  0.  0.  0.  0.  1.  0.  0.]\n",
      "  [ 0.  0.  0.  0.  0.  0.  0.  0.  1.  0.]\n",
      "  [ 0.  0.  0.  0.  0.  0.  0.  0.  0.  1.]]\n",
      "\n",
      " [[ 1.  0.  0.  0.  0.  0.  0.  0.  0.  0.]\n",
      "  [ 0.  1.  0.  0.  0.  0.  0.  0.  0.  0.]\n",
      "  [ 0.  0.  1.  0.  0.  0.  0.  0.  0.  0.]\n",
      "  [ 0.  0.  0.  1.  0.  0.  0.  0.  0.  0.]\n",
      "  [ 0.  0.  0.  0.  1.  0.  0.  0.  0.  0.]\n",
      "  [ 0.  0.  0.  0.  0.  1.  0.  0.  0.  0.]\n",
      "  [ 0.  0.  0.  0.  0.  0.  1.  0.  0.  0.]\n",
      "  [ 0.  0.  0.  0.  0.  0.  0.  1.  0.  0.]\n",
      "  [ 0.  0.  0.  0.  0.  0.  0.  0.  1.  0.]\n",
      "  [ 0.  0.  0.  0.  0.  0.  0.  0.  0.  1.]]]\n",
      "\tmu:\n",
      "[[ 0.16491728  0.11846755  0.26781523  0.8832582   0.91265188  0.37543066\n",
      "   0.51543053  0.30198896  0.5281598   0.59415362]\n",
      " [ 0.57818284  0.20525249  0.44448889  0.49209016  0.46142721  0.62401204\n",
      "   0.68745737  0.41233137  0.97931441  0.74800047]]\n",
      "\tpi: [[ 0.5  0.5]]\n"
     ]
    }
   ],
   "source": [
    "global_params = vb.ModelParamsDict('global')\n",
    "global_params.push_param(\n",
    "    vb.PosDefMatrixParamVector(name='info', length=k_num, matrix_size=d_num))\n",
    "global_params.push_param(\n",
    "    vb.ArrayParam(name='mu', shape=(k_num, d_num)))\n",
    "global_params.push_param(\n",
    "    vb.SimplexParam(name='pi', shape=(1, k_num)))\n",
    "\n",
    "local_params = vb.ModelParamsDict('local')\n",
    "local_params.push_param(\n",
    "    vb.SimplexParam(name='e_z', shape=(num_obs, k_num),\n",
    "                    val=np.full(true_z.shape, 1. / k_num)))\n",
    "\n",
    "params = vb.ModelParamsDict('mixture model')\n",
    "params.push_param(global_params)\n",
    "params.push_param(local_params)\n",
    "\n",
    "true_init = False\n",
    "if true_init:\n",
    "    params['global']['info'].set(true_info)\n",
    "    params['global']['mu'].set(true_mu)\n",
    "    params['global']['pi'].set(true_pi)\n",
    "else:\n",
    "    params['global']['mu'].set(np.random.random(params['global']['mu'].shape()))\n",
    "    \n",
    "init_par_vec = params.get_free()\n",
    "global_init_par_vec = params['global'].get_free()\n",
    "\n",
    "print(params['global'])"
   ]
  },
  {
   "cell_type": "code",
   "execution_count": 4,
   "metadata": {
    "collapsed": true
   },
   "outputs": [],
   "source": [
    "prior_params = vb.ModelParamsDict()\n",
    "prior_params.push_param(vb.VectorParam(name='mu_prior_mean', size=d_num, val=mu_prior_mean))\n",
    "prior_params.push_param(vb.PosDefMatrixParam(name='mu_prior_info', size=d_num, val=mu_prior_info))\n",
    "prior_params.push_param(vb.ScalarParam(name='alpha', val=2.0))\n",
    "prior_params.push_param(vb.ScalarParam(name='dof', val=d_num + 2.0))"
   ]
  },
  {
   "cell_type": "code",
   "execution_count": 5,
   "metadata": {},
   "outputs": [],
   "source": [
    "model = mix.Model(x, params, prior_params)\n",
    "kl_obj = Objective(model.params['global'], model.kl)"
   ]
  },
  {
   "cell_type": "code",
   "execution_count": 9,
   "metadata": {},
   "outputs": [
    {
     "name": "stdout",
     "output_type": "stream",
     "text": [
      "Value:  52085.680807\n",
      "Value:  29385.788317\n",
      "Value:  14542.6344636\n",
      "Value:  3644.41215663\n",
      "Value:  937.855929373\n",
      "Value:  -1984.96407608\n",
      "Value:  -2889.38289495\n",
      "Value:  -3378.83332335\n",
      "Value:  -4124.96766628\n",
      "Value:  -5038.14303941\n",
      "Value:  -4725.62679453\n",
      "Value:  -5410.36472739\n",
      "Value:  -5890.92193178\n",
      "Value:  -6176.18593535\n",
      "Value:  -6221.03102328\n",
      "Value:  -6243.59853317\n",
      "Value:  -6244.50912291\n",
      "Value:  -6244.62138478\n",
      "Value:  -6244.64355847\n",
      "Value:  -6244.64926149\n",
      "Value:  -6244.64966156\n",
      "Value:  -6244.64979347\n",
      "Value:  -6244.64979801\n",
      "Value:  -6244.64979913\n",
      "Value:  -6244.64979936\n",
      "Value:  -6244.64979936\n",
      "Value:  -6244.64979936\n",
      "Value:  -6244.64979936\n",
      "done\n",
      "-6244.64979936\n"
     ]
    }
   ],
   "source": [
    "def minimize_kl(kl_obj, init_x, full_hessian=True, gtol=1e-8):\n",
    "    if full_hessian:\n",
    "        vb_opt = optimize.minimize(\n",
    "            lambda par: kl_obj.fun_free(par, verbose=True),\n",
    "            x0=init_x,\n",
    "            jac=kl_obj.fun_free_grad,\n",
    "            hess=kl_obj.fun_free_hessian,\n",
    "            method='trust-ncg', options={'maxiter': 50, 'gtol': gtol})\n",
    "    else:\n",
    "        vb_opt = optimize.minimize(\n",
    "            lambda par: kl_obj.fun_free(par, verbose=True),\n",
    "            x0=init_x,\n",
    "            jac=kl_obj.fun_free_grad,\n",
    "            hessp=kl_obj.fun_free_hvp,\n",
    "            method='trust-ncg', options={'maxiter': 50, 'gtol': gtol})\n",
    "\n",
    "    print('done')\n",
    "    return vb_opt\n",
    "\n",
    "vb_opt = minimize_kl(kl_obj, global_init_par_vec, full_hessian=False)\n",
    "print(kl_obj.fun_free(vb_opt.x))"
   ]
  },
  {
   "cell_type": "code",
   "execution_count": 10,
   "metadata": {},
   "outputs": [
    {
     "data": {
      "image/png": "[encoded data removed]",
      "text/plain": [
       "<matplotlib.figure.Figure at 0x7f1b65df1208>"
      ]
     },
     "metadata": {},
     "output_type": "display_data"
    }
   ],
   "source": [
    "# Check that the solution looks sensible.\n",
    "model.params['global'].set_free(vb_opt.x)\n",
    "model.optimize_z()\n",
    "\n",
    "mu_fit = model.params['global']['mu'].get()\n",
    "plt.plot(x[:,0], x[:,1], 'k.')\n",
    "for k in range(k_num):\n",
    "    plt.plot(mu_fit[k, 0], mu_fit[k, 1], 'ro')"
   ]
  },
  {
   "cell_type": "code",
   "execution_count": 11,
   "metadata": {},
   "outputs": [
    {
     "name": "stdout",
     "output_type": "stream",
     "text": [
      "Hessian done.\n"
     ]
    }
   ],
   "source": [
    "moment_jac = model.get_moment_jacobian(vb_opt.x)\n",
    "kl_hessian = kl_obj.fun_free_hessian(vb_opt.x)\n",
    "sensitivity_operator = np.linalg.solve(kl_hessian, moment_jac.T)\n",
    "print('Hessian done.')"
   ]
  },
  {
   "cell_type": "code",
   "execution_count": 12,
   "metadata": {},
   "outputs": [],
   "source": [
    "# def loglik_obs_set_z(global_free_par, model):\n",
    "#     model.params['global'].set_free(global_free_par)\n",
    "#     model.optimize_z()\n",
    "#     return model.loglik_obs()\n",
    "\n",
    "# eval_loglik_obs_set_z_jac = autograd.jacobian(loglik_obs_set_z)\n",
    "# weight_jac = eval_loglik_obs_set_z_jac(vb_opt.x, model)\n",
    "# data_sens = np.matmul(weight_jac, sensitivity_operator)\n",
    "# print(data_sens.shape)"
   ]
  },
  {
   "cell_type": "code",
   "execution_count": 23,
   "metadata": {},
   "outputs": [],
   "source": [
    "# Somewhat surprisingly, this is much faster than differentiating the vector directly!\n",
    "\n",
    "def loglik_obs_set_z_weights(global_free_par, weights, model):\n",
    "    model.params['global'].set_free(global_free_par)\n",
    "    model.optimize_z()\n",
    "    model.weights = weights\n",
    "    return model.loglik()\n",
    "\n",
    "eval_global_grad = autograd.jacobian(loglik_obs_set_z_weights, argnum=0)\n",
    "eval_weight_jac = autograd.jacobian(eval_global_grad, argnum=1)\n",
    "weight_jac = eval_weight_jac(vb_opt.x, model.weights, model)\n",
    "data_sens = np.matmul(weight_jac.T, sensitivity_operator)\n",
    "x_data_sens = np.linalg.solve(kl_hessian, np.squeeze(weight_jac)).T\n",
    "# print(data_sens.shape)"
   ]
  },
  {
   "cell_type": "code",
   "execution_count": 24,
   "metadata": {
    "collapsed": true
   },
   "outputs": [],
   "source": [
    "# Check sensitivity upon refitting with a new model with non-unity weights.\n",
    "model_perturbed = deepcopy(model)\n",
    "kl_obj_perturbed = Objective(model_perturbed.params['global'], model_perturbed.kl)"
   ]
  },
  {
   "cell_type": "code",
   "execution_count": null,
   "metadata": {},
   "outputs": [
    {
     "name": "stdout",
     "output_type": "stream",
     "text": [
      "Value:  -6229.53205597\n",
      "Value:  -6229.68732509\n",
      "Value:  -6229.72835483\n",
      "Value:  -6229.73502144\n",
      "Value:  -6229.73671875\n",
      "Value:  -6229.73675093\n"
     ]
    }
   ],
   "source": [
    "# Bootstrap weights\n",
    "perturbed_weights = \\\n",
    "    np.random.multinomial(num_obs, [1/float(num_obs)] * num_obs, size=1).T\n",
    "\n",
    "refit_time = time.time()\n",
    "model_perturbed.weights = perturbed_weights\n",
    "perturbed_x_guess = \\\n",
    "    vb_opt.x + np.squeeze(np.matmul(perturbed_weights.T - 1.0, x_data_sens))\n",
    "vb_opt_reweight = minimize_kl(kl_obj_perturbed, perturbed_x_guess, full_hessian=True)\n",
    "model_perturbed.params['global'].set_free(vb_opt_reweight.x)\n",
    "refit_time = time.time() - refit_time"
   ]
  },
  {
   "cell_type": "code",
   "execution_count": 32,
   "metadata": {},
   "outputs": [
    {
     "name": "stdout",
     "output_type": "stream",
     "text": [
      "Actual sensitivity:\t [-0.00723992  0.00668091  0.00437419  0.00410716  0.00048048 -0.00868561\n",
      "  0.00978697  0.01574339 -0.00802635  0.02473903  0.00202413  0.00240111\n",
      " -0.00833893 -0.00427501 -0.00357468  0.0005411  -0.00502383  0.00317605\n",
      "  0.00012455 -0.00065734]\n",
      "Predicted sensitivity:\t [-0.00642726  0.00714878  0.00515313  0.00444068  0.0012409  -0.00797095\n",
      "  0.01084706  0.01635734 -0.00686788  0.02559061  0.00226554  0.0027699\n",
      " -0.00802986 -0.00386722 -0.00327924  0.00081012 -0.00477752  0.00352961\n",
      "  0.00028769 -0.00033307]\n",
      "Refit time:\t 71.7113606929779\n",
      "Linear time:\t 0.0011982917785644531\n"
     ]
    },
    {
     "data": {
      "text/plain": [
       "[<matplotlib.lines.Line2D at 0x7f1b607142b0>]"
      ]
     },
     "execution_count": 32,
     "metadata": {},
     "output_type": "execute_result"
    },
    {
     "data": {
      "image/png": "[encoded data removed]",
      "text/plain": [
       "<matplotlib.figure.Figure at 0x7f1b607f7898>"
      ]
     },
     "metadata": {},
     "output_type": "display_data"
    }
   ],
   "source": [
    "actual_sens = model_perturbed.get_interesting_moments(vb_opt_reweight.x) - \\\n",
    "      model.get_interesting_moments(vb_opt.x)\n",
    "lin_time = time.time()\n",
    "pred_sens = np.squeeze(np.matmul(perturbed_weights.T - 1.0, data_sens))\n",
    "lin_time = time.time() - lin_time\n",
    "    \n",
    "print('Actual sensitivity:\\t', actual_sens)\n",
    "print('Predicted sensitivity:\\t', pred_sens)\n",
    "\n",
    "# Of course, re-optimizing takes almost all the time.\n",
    "print('Refit time:\\t', refit_time)\n",
    "print('Linear time:\\t', lin_time)\n",
    "\n",
    "plt.plot(actual_sens, pred_sens, 'k.')\n",
    "plt.plot(np.max(actual_sens), np.max(actual_sens), 'r+')\n",
    "plt.plot(np.min(actual_sens), np.min(actual_sens), 'r+')"
   ]
  }
 ],
 "metadata": {
  "kernelspec": {
   "display_name": "Python 3",
   "language": "python",
   "name": "python3"
  },
  "language_info": {
   "codemirror_mode": {
    "name": "ipython",
    "version": 3
   },
   "file_extension": ".py",
   "mimetype": "text/x-python",
   "name": "python",
   "nbconvert_exporter": "python",
   "pygments_lexer": "ipython3",
   "version": "3.5.2"
  }
 },
 "nbformat": 4,
 "nbformat_minor": 2
}
