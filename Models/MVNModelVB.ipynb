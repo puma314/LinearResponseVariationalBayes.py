{
 "cells": [
  {
   "cell_type": "code",
   "execution_count": 1,
   "metadata": {},
   "outputs": [],
   "source": [
    "from VariationalBayes import VectorParam, ScalarParam, PosDefMatrixParam, ModelParamsDict\n",
    "from autograd import grad, hessian, jacobian\n",
    "import math\n",
    "import autograd.numpy as np\n",
    "import autograd.numpy.random as npr\n",
    "import copy\n",
    "from scipy import optimize"
   ]
  },
  {
   "cell_type": "code",
   "execution_count": 2,
   "metadata": {},
   "outputs": [
    {
     "name": "stdout",
     "output_type": "stream",
     "text": [
      "['var_mu_0' 'var_mu_1' 'var_mu_2' 'e_mu_0' 'e_mu_1' 'e_mu_2']\n",
      "[ 2.   2.   2.   0.1  0.1  0.1]\n",
      "[ 0.69314718  0.69314718  0.69314718  0.1         0.1         0.1       ]\n",
      "ModelParamsList:\n",
      "\tvar_mu: [ 2.  2.  2.]\n",
      "\te_mu: [ 0.1  0.1  0.1]\n"
     ]
    }
   ],
   "source": [
    "# Build an object to contain a variational approximation to a K-dimensional multivariate normal.\n",
    "\n",
    "K = 3\n",
    "mvn_par = ModelParamsDict()\n",
    "\n",
    "mvn_par.push_param(VectorParam('e_mu', K))\n",
    "mvn_par.push_param(VectorParam('var_mu', K, lb=0))\n",
    "\n",
    "mvn_par['e_mu'].set(np.full(K, 0.1))\n",
    "mvn_par['var_mu'].set(np.full(K, 2.))\n",
    "\n",
    "print mvn_par.names()\n",
    "print mvn_par.get()\n",
    "print mvn_par.get_free()\n",
    "\n",
    "print mvn_par"
   ]
  },
  {
   "cell_type": "code",
   "execution_count": 3,
   "metadata": {},
   "outputs": [
    {
     "name": "stdout",
     "output_type": "stream",
     "text": [
      "[[ 1.   0.9  0.9]\n",
      " [ 0.9  1.   0.9]\n",
      " [ 0.9  0.9  1. ]]\n"
     ]
    }
   ],
   "source": [
    "# Generate data\n",
    "\n",
    "N = 10000\n",
    "true_mu = np.random.rand(K).T\n",
    "x_cov = np.full([K, K], 0.9)\n",
    "for k in range(K):\n",
    "    x_cov[k, k] = 1\n",
    "print x_cov\n",
    "x_draws = [ np.random.multivariate_normal(true_mu, x_cov) for n in range(N) ]"
   ]
  },
  {
   "cell_type": "code",
   "execution_count": 4,
   "metadata": {},
   "outputs": [
    {
     "name": "stdout",
     "output_type": "stream",
     "text": [
      "ModelParamsList:\n",
      "\tvar_mu: [ 2.  2.  2.]\n",
      "\te_mu: [ 0.1  0.1  0.1]\n",
      "ModelParamsList:\n",
      "\te_mu: [ 0.1  0.1  0.1]\n",
      "\tvar_mu: [ 2.  2.  2.]\n",
      "e_mu: [ 1.  2.  3.]\n",
      "e_mu: [ 0.1  0.1  0.1]\n"
     ]
    }
   ],
   "source": [
    "# Define the variational objective\n",
    "\n",
    "def LogLikelihood(x_row, x_info, e_mu, e_mu_outer):\n",
    "    return 0.5 * (np.dot(e_mu, np.matmul(x_info, x_row)) + np.dot(x_row, np.matmul(x_info, e_mu)) - \\\n",
    "                  np.trace(np.matmul(x_info, e_mu_outer)))\n",
    "\n",
    "\n",
    "def UnivariateNormalExpectedEntropy(var_mu):\n",
    "    return 0.5 * np.log(var_mu)\n",
    "\n",
    "\n",
    "def Elbo(x_draws, mvn_par_elbo):\n",
    "    x_info = np.linalg.inv(x_cov)\n",
    "    var_mu = mvn_par_elbo['var_mu'].get()\n",
    "    e_mu = mvn_par_elbo['e_mu'].get()\n",
    "    e_mu_outer = np.outer(e_mu, e_mu) + np.diag(var_mu)\n",
    "\n",
    "    ll = sum([ LogLikelihood(x, x_info, e_mu, e_mu_outer) for x in x_draws ])\n",
    "    entropy = sum([ UnivariateNormalExpectedEntropy(var_mu_k) for var_mu_k in var_mu])\n",
    "\n",
    "    return ll + entropy\n",
    "\n",
    "\n",
    "class KLWrapper():\n",
    "    def __init__(self, mvn_par):\n",
    "        self.__mvn_par_ad = copy.deepcopy(mvn_par)\n",
    "\n",
    "    def Eval(self, free_par_vec, verbose=False):\n",
    "        self.__mvn_par_ad.set_free(free_par_vec)\n",
    "        kl = -Elbo(x_draws, self.__mvn_par_ad)\n",
    "        if verbose: print kl\n",
    "        return kl\n",
    "    \n",
    "    # Return a posterior moment of interest as a function of\n",
    "    # unconstrained parameters.  In this case it is a bit silly,\n",
    "    # but in full generality posterior moments may be a complicated\n",
    "    # function of moment parameters.\n",
    "    def GetMu(self, free_par_vec):\n",
    "        self.__mvn_par_ad.set_free(free_par_vec)\n",
    "        return self.__mvn_par_ad['e_mu'].get()\n",
    "\n",
    "    \n",
    "kl_wrapper = KLWrapper(mvn_par)\n",
    "KLGrad = grad(kl_wrapper.Eval)\n",
    "KLHess = hessian(kl_wrapper.Eval)\n",
    "MomentJacobian = jacobian(kl_wrapper.GetMu)\n",
    "\n",
    "print mvn_par\n",
    "mvn_par_ad = copy.deepcopy(mvn_par)\n",
    "print mvn_par_ad\n",
    "        \n",
    "mvn_par['e_mu'].set(np.array([1., 2., 3.]))\n",
    "print mvn_par['e_mu']\n",
    "print mvn_par_ad['e_mu']\n"
   ]
  },
  {
   "cell_type": "code",
   "execution_count": 5,
   "metadata": {},
   "outputs": [
    {
     "name": "stdout",
     "output_type": "stream",
     "text": [
      "1023406.9792\n",
      "[ -2.00140561e+03   3.87198559e+03   4.12807556e+02   9.22269192e+04\n",
      "   2.50699618e+05   6.81473074e+05]\n",
      "[[  67857.14285715  -32142.85714286  -32142.85714286       0.               0.\n",
      "        0.        ]\n",
      " [ -32142.85714286   67857.14285715  -32142.85714286       0.               0.\n",
      "        0.        ]\n",
      " [ -32142.85714286  -32142.85714286   67857.14285715       0.               0.\n",
      "        0.        ]\n",
      " [      0.               0.               0.           92227.41917988\n",
      "        0.               0.        ]\n",
      " [      0.               0.               0.               0.\n",
      "   250700.11764233       0.        ]\n",
      " [      0.               0.               0.               0.               0.\n",
      "   681473.5741797 ]]\n",
      "[[ 1.  0.  0.  0.  0.  0.]\n",
      " [ 0.  1.  0.  0.  0.  0.]\n",
      " [ 0.  0.  1.  0.  0.  0.]]\n"
     ]
    }
   ],
   "source": [
    "# Check that the AD functions are working:\n",
    "free_par_vec = mvn_par.get_free()\n",
    "print kl_wrapper.Eval(free_par_vec)\n",
    "print KLGrad(free_par_vec)\n",
    "print KLHess(free_par_vec)\n",
    "print MomentJacobian(free_par_vec)"
   ]
  },
  {
   "cell_type": "code",
   "execution_count": 6,
   "metadata": {},
   "outputs": [
    {
     "name": "stdout",
     "output_type": "stream",
     "text": [
      "Function time:\n",
      "0.17255191803\n",
      "Grad time:\n",
      "5.34585118294\n",
      "Hessian time:\n",
      "6.13434889317\n"
     ]
    }
   ],
   "source": [
    "import timeit\n",
    "\n",
    "time_num = 10\n",
    "\n",
    "print 'Function time:'\n",
    "print timeit.timeit(lambda: kl_wrapper.Eval(free_par_vec), number=time_num) / time_num\n",
    "\n",
    "print 'Grad time:'\n",
    "print timeit.timeit(lambda: KLGrad(free_par_vec), number=time_num) / time_num\n",
    "\n",
    "print 'Hessian time:'\n",
    "print timeit.timeit(lambda: KLHess(free_par_vec), number=time_num) / time_num\n"
   ]
  },
  {
   "cell_type": "code",
   "execution_count": 7,
   "metadata": {},
   "outputs": [],
   "source": [
    "# Set initial values.\n",
    "\n",
    "# Is there not a better way than reduce?\n",
    "true_means = reduce(lambda x, y: x + y, x_draws) / N\n",
    "\n",
    "mvn_par['e_mu'].set(np.full(K, 1.0))\n",
    "init_par_vec = mvn_par.get_free()"
   ]
  },
  {
   "cell_type": "code",
   "execution_count": 8,
   "metadata": {},
   "outputs": [
    {
     "name": "stdout",
     "output_type": "stream",
     "text": [
      "Running BFGS\n",
      "275689.625739\n",
      "153386.621514\n",
      "415634176.1\n",
      "153349.929352\n",
      "153281.710253\n",
      "153143.968989\n",
      "152594.228418\n",
      "150414.736963\n",
      "142000.707062\n",
      "112756.137307\n",
      "54340.7791392\n",
      "866602.368715\n",
      "53915.412423\n",
      "53062.7848817\n",
      "49781.2357247\n",
      "38513.4748334\n",
      "9419017520.41\n",
      "843746.828613\n",
      "47579.0239513\n",
      "38452.4767053\n",
      "38335.536573\n",
      "38100.0367445\n",
      "37172.2748607\n",
      "33679.4514287\n",
      "25428.8802914\n",
      "13024.3502321\n",
      "5651.9401319\n",
      "2206.69194123\n",
      "439.161579888\n",
      "-435.27496727\n",
      "-873.671846611\n",
      "-1092.02470755\n",
      "-1200.74823871\n",
      "-1254.58568656\n",
      "-1281.00208292\n",
      "-1293.71992942\n",
      "-1299.61711819\n",
      "-1302.15500827\n",
      "-1303.09812763\n",
      "-1303.36199063\n",
      "-1303.4053778\n",
      "-1303.4081454\n",
      "-1303.40818083\n",
      "-1303.40818095\n",
      "-1303.40818114\n",
      "-1303.40818149\n",
      "-1303.40818215\n",
      "-1303.40818338\n",
      "-1303.40818567\n",
      "-1303.40818985\n",
      "-1303.40819732\n",
      "-1303.40821022\n",
      "-1303.40823181\n",
      "-1303.40826751\n",
      "-1303.40832757\n",
      "-1303.4084302\n",
      "-1303.40860266\n",
      "-1303.40886689\n",
      "-1303.40910407\n",
      "-1303.40920194\n",
      "-1303.40923153\n",
      "-1303.40923306\n",
      "-1303.40923309\n",
      "-1303.40923309\n",
      "-1303.40923309\n",
      "-1303.40923309\n",
      "-1303.40923309\n",
      "-1303.40923309\n",
      "-1303.40923309\n",
      "-1303.40923309\n",
      "-1303.40923309\n",
      "-1303.40923309\n",
      "-1303.4092331\n",
      "-1303.4092331\n",
      "-1303.40923311\n",
      "-1303.40923312\n",
      "-1303.40923313\n",
      "-1303.40923315\n",
      "-1303.40923316\n",
      "-1303.40923316\n",
      "-1303.40923316\n",
      "-1303.40923316\n",
      "-1303.40923316\n",
      "-1303.40923316\n",
      "-1303.40923316\n",
      "-1303.40923316\n",
      "-1303.40923316\n",
      "-1303.40923316\n",
      "-1303.40923316\n",
      "-1303.40923316\n",
      "-1303.40923316\n",
      "-1303.40923316\n",
      "-1303.40923316\n",
      "-1303.40923316\n",
      "-1303.40923316\n",
      "-1303.40923316\n",
      "-1303.40923316\n",
      "-1303.40923316\n",
      "-1303.40923316\n",
      "-1303.40923316\n",
      "-1303.40923316\n",
      "-1303.40923316\n",
      "-1303.40923316\n",
      "-1303.40923316\n",
      "-1303.40923316\n",
      "-1303.40923316\n",
      "-1303.40923316\n",
      "-1303.40923316\n",
      "-1303.40923316\n",
      "-1303.40923316\n",
      "-1303.40923316\n",
      "-1303.40923316\n",
      "-1303.40923316\n",
      "-1303.40923316\n",
      "-1303.40923316\n",
      "-1303.40923316\n",
      "-1303.40923316\n",
      "-1303.40923316\n",
      "-1303.40923316\n",
      "-1303.40923316\n",
      "-1303.40923316\n",
      "-1303.40923316\n",
      "-1303.40923316\n",
      "-1303.40923316\n",
      "-1303.40923316\n",
      "-1303.40923316\n",
      "-1303.40923316\n",
      "-1303.40923316\n",
      "-1303.40923316\n",
      "-1303.40923316\n",
      "-1303.40923316\n",
      "-1303.40923316\n",
      "-1303.40923316\n",
      "-1303.40923316\n",
      "Running Newton Trust Region\n",
      "-1303.40923316\n",
      "-1303.40923316\n",
      "Done.\n"
     ]
    }
   ],
   "source": [
    "# Optimize.\n",
    "\n",
    "print 'Running BFGS'\n",
    "vb_opt_bfgs = optimize.minimize(\n",
    "    lambda par: kl_wrapper.Eval(par, verbose=True), init_par_vec,\n",
    "    method='bfgs', jac=KLGrad, tol=1e-6)\n",
    "print 'Running Newton Trust Region'\n",
    "vb_opt = optimize.minimize(\n",
    "    lambda par: kl_wrapper.Eval(par, verbose=True),\n",
    "    vb_opt_bfgs.x, method='trust-ncg', jac=KLGrad, hess=KLHess)\n",
    "mvn_par_opt = copy.deepcopy(mvn_par)\n",
    "mvn_par_opt.set_free(vb_opt.x)\n",
    "print 'Done.'"
   ]
  },
  {
   "cell_type": "code",
   "execution_count": 9,
   "metadata": {},
   "outputs": [
    {
     "name": "stdout",
     "output_type": "stream",
     "text": [
      "e_mu: [ 0.50765636  0.44892245  0.48351423]\n",
      "[ 0.50765636  0.44892245  0.48351423]\n"
     ]
    }
   ],
   "source": [
    "# The mean parameters match, as expected.\n",
    "print mvn_par_opt['e_mu']\n",
    "print true_means"
   ]
  },
  {
   "cell_type": "code",
   "execution_count": 10,
   "metadata": {},
   "outputs": [
    {
     "name": "stdout",
     "output_type": "stream",
     "text": [
      "[  1.00000000e-04   1.00000000e-04   1.00000000e-04]\n",
      "var_mu: [  1.47368314e-05   1.47368392e-05   1.47368698e-05]\n"
     ]
    }
   ],
   "source": [
    "# LRVB\n",
    "moment_jac = MomentJacobian(vb_opt.x)\n",
    "opt_hess = KLHess(vb_opt.x)\n",
    "mu_cov = np.matmul(moment_jac, np.linalg.solve(opt_hess, moment_jac.T))\n",
    "\n",
    "# The VB variance is underestimated.\n",
    "print np.diag(mu_cov)\n",
    "print mvn_par_opt['var_mu']"
   ]
  }
 ],
 "metadata": {
  "kernelspec": {
   "display_name": "Python 3",
   "language": "python",
   "name": "python3"
  },
  "language_info": {
   "codemirror_mode": {
    "name": "ipython",
    "version": 3
   },
   "file_extension": ".py",
   "mimetype": "text/x-python",
   "name": "python",
   "nbconvert_exporter": "python",
   "pygments_lexer": "ipython3",
   "version": "3.5.2"
  }
 },
 "nbformat": 4,
 "nbformat_minor": 1
}
