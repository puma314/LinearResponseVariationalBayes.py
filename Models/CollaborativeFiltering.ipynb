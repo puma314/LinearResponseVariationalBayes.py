{
 "cells": [
  {
   "cell_type": "code",
   "execution_count": 23,
   "metadata": {
    "collapsed": true
   },
   "outputs": [],
   "source": [
    "import VariationalBayes as vb\n",
    "import VariationalBayes.ExponentialFamilies as ef\n",
    "import VariationalBayes.Modeling as modeling\n",
    "\n",
    "import autograd\n",
    "import autograd.numpy as np\n",
    "import autograd.numpy.random as npr\n",
    "import autograd.scipy as sp\n",
    "import scipy as osp\n",
    "import numpy as onp\n",
    "\n",
    "import copy\n",
    "import matplotlib.pyplot as plt\n",
    "%matplotlib inline\n"
   ]
  },
  {
   "cell_type": "code",
   "execution_count": 7,
   "metadata": {},
   "outputs": [],
   "source": [
    "dim1 = 5\n",
    "dim2 = 10\n",
    "k = 3\n",
    "\n",
    "vb_params = vb.ModelParamsDict('vb params')\n",
    "vb_params.push_param(vb.VectorParam(name='beta', size=k))\n",
    "vb_params.push_param(vb.UVNMomentParamArray(name='theta1', shape=(dim1, )))\n",
    "vb_params.push_param(vb.UVNMomentParamArray(name='theta2', shape=(dim2, )))\n"
   ]
  },
  {
   "cell_type": "code",
   "execution_count": 59,
   "metadata": {},
   "outputs": [
    {
     "data": {
      "text/plain": [
       "(array([  99.,  120.,  157.,  145.,   94.,  110.,   41.,   55.,   46.,   15.]),\n",
       " array([ 0.09963754,  0.16740508,  0.23517262,  0.30294015,  0.37070769,\n",
       "         0.43847523,  0.50624277,  0.5740103 ,  0.64177784,  0.70954538,\n",
       "         0.77731292]),\n",
       " <a list of 10 Patch objects>)"
      ]
     },
     "execution_count": 59,
     "metadata": {},
     "output_type": "execute_result"
    },
    {
     "data": {
      "image/png": "[encoded data removed]",
      "text/plain": [
       "<matplotlib.figure.Figure at 0x7f7b678b2198>"
      ]
     },
     "metadata": {},
     "output_type": "display_data"
    },
    {
     "data": {
      "image/png": "[encoded data removed]",
      "text/plain": [
       "<matplotlib.figure.Figure at 0x7f7b679300f0>"
      ]
     },
     "metadata": {},
     "output_type": "display_data"
    },
    {
     "data": {
      "image/png": "[encoded data removed]",
      "text/plain": [
       "<matplotlib.figure.Figure at 0x7f7b67392860>"
      ]
     },
     "metadata": {},
     "output_type": "display_data"
    },
    {
     "data": {
      "image/png": "[encoded data removed]",
      "text/plain": [
       "<matplotlib.figure.Figure at 0x7f7b672fca90>"
      ]
     },
     "metadata": {},
     "output_type": "display_data"
    }
   ],
   "source": [
    "# Generate true data.\n",
    "true_params = vb.ModelParamsDict('true params')\n",
    "true_params.push_param(vb.VectorParam('beta', size=k))\n",
    "true_params.push_param(vb.VectorParam(name='theta_mean', size=2))\n",
    "true_params.push_param(vb.VectorParam(name='theta_sd', size=2))\n",
    "\n",
    "true_params.push_param(vb.VectorParam(name='theta1', size=dim1))\n",
    "true_params.push_param(vb.VectorParam(name='theta2', size=dim2))\n",
    "\n",
    "theta_mean = np.array([-0.5, 0.5])\n",
    "theta_sd = np.array([0.8, 0.6])\n",
    "true_params['theta1'].set(np.random.normal(loc=theta_mean[0], scale=theta_sd[0], size=dim1))\n",
    "true_params['theta2'].set(np.random.normal(loc=theta_mean[1], scale=theta_sd[1], size=dim2))\n",
    "\n",
    "true_params['theta_mean'].set(theta_mean)\n",
    "true_params['theta_sd'].set(theta_sd)\n",
    "\n",
    "beta = np.random.random(k) - 0.5\n",
    "true_params['beta'].set(beta)\n",
    "\n",
    "# Number of observations per combination.\n",
    "\n",
    "n_obs_per_combo = 30\n",
    "\n",
    "id1_tile = np.tile(np.expand_dims(np.arange(dim1, dtype='int'), 1), (1, dim2))\n",
    "id2_tile = np.tile(np.arange(dim2, dtype='int'), (dim1, 1))\n",
    "\n",
    "yg1 = np.repeat(id1_tile.flatten(), n_obs_per_combo)\n",
    "yg2 = np.repeat(id2_tile.flatten(), n_obs_per_combo)\n",
    "n_obs = len(yg1)\n",
    "\n",
    "data = dict()\n",
    "data['x'] = 0.2 * (np.random.random((n_obs, k)) - 0.5)\n",
    "data['yg1'] = yg1\n",
    "data['yg2'] = yg2\n",
    "\n",
    "def calculate_logit_means(data, params):\n",
    "    return np.matmul(data['x'], params['beta'].get()) + \\\n",
    "           params['theta1'].get()[data['yg1']] + \\\n",
    "           params['theta2'].get()[data['yg2']]\n",
    "\n",
    "def calculate_means(data, params):\n",
    "    e_mean = np.exp(calculate_logit_means(data, params)) \n",
    "    return e_mean / (1 + e_mean)\n",
    "\n",
    "y_logit_means = calculate_logit_means(data, true_params)\n",
    "y_means = calculate_means(data, true_params)\n",
    "y = np.random.binomial(1, y_means)\n",
    "#plt.plot(y_means, y, 'ko')\n",
    "\n",
    "plt.figure()\n",
    "plt.hist(y_logit_means)\n",
    "plt.figure()\n",
    "plt.hist(y_means)\n",
    "plt.figure()\n",
    "plt.hist(y_means[y == 1])\n",
    "plt.figure()\n",
    "plt.hist(y_means[y == 0])"
   ]
  }
 ],
 "metadata": {
  "kernelspec": {
   "display_name": "Python 3",
   "language": "python",
   "name": "python3"
  },
  "language_info": {
   "codemirror_mode": {
    "name": "ipython",
    "version": 3
   },
   "file_extension": ".py",
   "mimetype": "text/x-python",
   "name": "python",
   "nbconvert_exporter": "python",
   "pygments_lexer": "ipython3",
   "version": "3.5.2"
  }
 },
 "nbformat": 4,
 "nbformat_minor": 2
}
