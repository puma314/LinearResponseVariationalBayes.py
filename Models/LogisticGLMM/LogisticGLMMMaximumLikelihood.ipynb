{
 "cells": [
  {
   "cell_type": "code",
   "execution_count": 1,
   "metadata": {
    "collapsed": true
   },
   "outputs": [],
   "source": [
    "import VariationalBayes as vb\n",
    "import VariationalBayes.ExponentialFamilies as ef\n",
    "\n",
    "import LogisticGLMM_lib as logit_glmm\n",
    "from VariationalBayes.SparseObjectives import Objective, unpack_csr_matrix, get_sparse_hessian\n",
    "\n",
    "import matplotlib.pyplot as plt\n",
    "%matplotlib inline\n",
    "\n",
    "#import numpy as np\n",
    "\n",
    "import autograd\n",
    "import autograd.numpy as np\n",
    "\n",
    "import copy\n",
    "from scipy import optimize\n",
    "\n",
    "import os\n",
    "import json\n",
    "\n",
    "import time\n",
    "\n",
    "import pickle\n"
   ]
  },
  {
   "cell_type": "code",
   "execution_count": 2,
   "metadata": {
    "collapsed": true
   },
   "outputs": [],
   "source": [
    "# Load data saved by stan_results_to_json.R and run_stan.R in LRVBLogitGLMM.\n",
    "\n",
    "analysis_name = 'simulated_data_small'\n",
    "#analysis_name = 'criteo_subsampled'\n",
    "\n",
    "data_dir = os.path.join(os.environ['GIT_REPO_LOC'],\n",
    "                        'LinearResponseVariationalBayes.py/Models/LogisticGLMM/data')\n",
    "\n",
    "\n",
    "pickle_output_filename = os.path.join(data_dir, '%s_python_vb_results.pkl' % analysis_name)\n",
    "\n",
    "pkl_file = open(pickle_output_filename, 'rb')\n",
    "vb_results = pickle.load(pkl_file)\n"
   ]
  },
  {
   "cell_type": "code",
   "execution_count": 46,
   "metadata": {},
   "outputs": [
    {
     "name": "stdout",
     "output_type": "stream",
     "text": [
      "dict_keys(['mu_prior_mean', 'tau_prior_beta', 'K', 'N', 'x', 'beta_prior_mean', 'mu_prior_info', 'y', 'NG', 'tau_prior_alpha', 'beta_prior_info', 'y_group'])\n"
     ]
    }
   ],
   "source": [
    "json_filename = os.path.join(data_dir, '%s_stan_dat.json' % analysis_name)\n",
    "y_g_vec, y_vec, x_mat, glmm_par, prior_par = logit_glmm.load_json_data(json_filename)\n",
    "\n",
    "K = x_mat.shape[1]\n",
    "NG = np.max(y_g_vec) + 1\n",
    "\n",
    "# Define moment parameters\n",
    "moment_wrapper = logit_glmm.MomentWrapper(glmm_par)\n",
    "glmm_par = logit_glmm.get_glmm_parameters(K=K, NG=NG)\n"
   ]
  },
  {
   "cell_type": "code",
   "execution_count": 45,
   "metadata": {},
   "outputs": [
    {
     "name": "stdout",
     "output_type": "stream",
     "text": [
      "dict_keys(['beta_mean', 'beta_sd', 'glmm_time', 'mu_mean', 'tau_mean', 'u_cond_sd', 'beta_par', 'u_map', 'mu_sd'])\n"
     ]
    }
   ],
   "source": [
    "\n",
    "# Load the glmer results\n",
    "glmer_json_filename = os.path.join(data_dir, '%s_glmer_results.json' % analysis_name)\n",
    "json_file = open(glmer_json_filename, 'r')\n",
    "glmer_dat = json.load(json_file)\n",
    "json_file.close()\n",
    "\n",
    "print(glmer_dat.keys())"
   ]
  },
  {
   "cell_type": "code",
   "execution_count": 7,
   "metadata": {
    "collapsed": true
   },
   "outputs": [],
   "source": [
    "\n",
    "def get_mle_parameters(K, NG):\n",
    "    mle_par = vb.ModelParamsDict('GLMER Parameters')\n",
    "    mle_par.push_param(vb.VectorParam('mu'))\n",
    "    mle_par.push_param(vb.VectorParam('tau'))\n",
    "    mle_par.push_param(vb.VectorParam('beta', K))\n",
    "    mle_par.push_param(vb.VectorParam('u', NG))\n",
    "\n",
    "    return mle_par\n",
    "\n",
    "def get_data_log_lik_terms(mle_par, x_mat, y_vec, y_g_vec):\n",
    "    beta = mle_par['beta'].get()\n",
    "\n",
    "    # atleast_1d is necessary for indexing by y_g_vec to work right.\n",
    "    e_u = np.atleast_1d(mle_par['u'].get())\n",
    "\n",
    "    # Log likelihood from data.\n",
    "    z = e_u[y_g_vec] + np.squeeze(np.matmul(x_mat, beta))\n",
    "\n",
    "    return y_vec * z - np.log1p(np.exp(z))\n",
    "\n",
    "def get_re_log_lik(mle_par):\n",
    "    mu = mle_par['mu'].get()\n",
    "    tau = mle_par['tau'].get()\n",
    "    u = mle_par['u'].get()\n",
    "\n",
    "    return -0.5 * tau * np.sum(\n",
    "        ((mu - u) ** 2)) +  0.5 * np.log(tau) * glmm_par['u'].size()\n",
    "\n",
    "def get_log_prior(mle_par, prior_par):\n",
    "    beta = mle_par['beta'].get()\n",
    "    mu = mle_par['mu'].get()\n",
    "    tau = mle_par['tau'].get()\n",
    "\n",
    "    K = len(beta)\n",
    "    log_p_beta = ef.mvn_prior(\n",
    "        prior_mean = prior_par['beta_prior_mean'].get(),\n",
    "        prior_info = prior_par['beta_prior_info'].get(),\n",
    "        e_obs = beta,\n",
    "        cov_obs = np.zeros((K, K)))\n",
    "\n",
    "    log_p_mu = ef.uvn_prior(\n",
    "        prior_mean = prior_par['mu_prior_mean'].get(),\n",
    "        prior_info = prior_par['mu_prior_info'].get(),\n",
    "        e_obs = mu,\n",
    "        var_obs = 0.0)\n",
    "\n",
    "    log_p_tau = ef.gamma_prior(\n",
    "        prior_shape = prior_par['tau_prior_alpha'].get(),\n",
    "        prior_rate = prior_par['tau_prior_beta'].get(),\n",
    "        e_obs = tau,\n",
    "        e_log_obs = np.log(tau))\n",
    "\n",
    "    return log_p_beta + log_p_mu + log_p_tau\n"
   ]
  },
  {
   "cell_type": "code",
   "execution_count": 30,
   "metadata": {},
   "outputs": [],
   "source": [
    "\n",
    "class LogisticGLMMMaximumLikelihood(object):\n",
    "    def __init__(self, mle_par, prior_par, x_mat, y_vec, y_g_vec):\n",
    "\n",
    "        self.mle_par = copy.deepcopy(mle_par)\n",
    "        self.prior_par = copy.deepcopy(prior_par)\n",
    "        self.x_mat = np.array(x_mat)\n",
    "        self.y_vec = np.array(y_vec)\n",
    "        self.y_g_vec = np.array(y_g_vec)\n",
    "\n",
    "        assert np.min(y_g_vec) == 0\n",
    "        assert np.max(y_g_vec) == self.mle_par['u'].size() - 1\n",
    "\n",
    "\n",
    "    def get_log_lik(self):\n",
    "        data_log_lik = np.sum(get_data_log_lik_terms(\n",
    "            mle_par = self.mle_par,\n",
    "            x_mat = self.x_mat,\n",
    "            y_vec = self.y_vec,\n",
    "            y_g_vec = self.y_g_vec))\n",
    "        re_log_lik = get_re_log_lik(self.mle_par)\n",
    "        log_prior = get_log_prior(self.mle_par, self.prior_par)\n",
    "        return np.squeeze(data_log_lik + re_log_lik + log_prior)\n",
    "    \n",
    "    def get_log_loss(self):\n",
    "        return -1 * self.get_log_lik()\n",
    "    "
   ]
  },
  {
   "cell_type": "code",
   "execution_count": 52,
   "metadata": {},
   "outputs": [
    {
     "name": "stdout",
     "output_type": "stream",
     "text": [
      "-174.46702524191048\n",
      "174.467025242\n"
     ]
    }
   ],
   "source": [
    "mle_par = get_mle_parameters(K=K, NG=NG)\n",
    "glmm_par = logit_glmm.get_glmm_parameters(K=K, NG=NG)\n",
    "glmm_par.set_free(vb_results['glmm_par_free'])\n",
    "\n",
    "set_from_glmer = True\n",
    "if set_from_glmer:\n",
    "    mle_par['beta'].set(np.array(glmer_dat['beta_mean']))\n",
    "    mle_par['mu'].set(np.array(glmer_dat['mu_mean']))\n",
    "    mle_par['tau'].set(np.array(glmer_dat['tau_mean']))\n",
    "    mle_par['u'].set(np.array(glmer_dat['u_map']))\n",
    "else:\n",
    "    # Set from VB\n",
    "    mle_par['beta'].set(glmm_par['beta'].e())\n",
    "    mle_par['mu'].set(glmm_par['mu'].e())\n",
    "    mle_par['tau'].set(glmm_par['tau'].e())\n",
    "    mle_par['u'].set(glmm_par['u'].e())\n",
    "\n",
    "model = LogisticGLMMMaximumLikelihood(mle_par, prior_par, x_mat, y_vec, y_g_vec)\n",
    "print(model.get_log_lik())\n",
    "\n",
    "objective = Objective(fun=model.get_log_loss, par=model.mle_par['u'])\n",
    "print(objective.fun_free(model.mle_par['u'].get_free()))"
   ]
  },
  {
   "cell_type": "code",
   "execution_count": 53,
   "metadata": {},
   "outputs": [
    {
     "name": "stdout",
     "output_type": "stream",
     "text": [
      "Iter  0  value:  1418.11311409\n",
      "\tx_diff:  inf\n",
      "Iter  1  value:  1355.83340249\n",
      "\tx_diff:  0.177328106601\n",
      "Iter  2  value:  1236.05208963\n",
      "\tx_diff:  0.354477044041\n",
      "Iter  3  value:  1015.64467796\n",
      "\tx_diff:  0.70724232857\n",
      "Iter  4  value:  651.245659754\n",
      "\tx_diff:  1.40030049949\n",
      "Iter  5  value:  220.164710037\n",
      "\tx_diff:  2.67844571696\n",
      "Iter  6  value:  139.077697203\n",
      "\tx_diff:  1.56086077267\n",
      "Iter  7  value:  137.790996119\n",
      "\tx_diff:  0.387151010828\n",
      "Iter  8  value:  137.739016592\n",
      "\tx_diff:  0.109280391847\n",
      "Iter  9  value:  137.735564943\n",
      "\tx_diff:  0.0311048636224\n",
      "Iter  10  value:  137.735265342\n",
      "\tx_diff:  0.0121174715304\n",
      "Iter  11  value:  137.735265223\n",
      "\tx_diff:  0.000152520140333\n",
      "Iter  12  value:  137.735265223\n",
      "\tx_diff:  1.41684987298e-06\n",
      "Optimization terminated successfully.\n",
      "         Current function value: 137.735265\n",
      "         Iterations: 12\n",
      "         Function evaluations: 13\n",
      "         Gradient evaluations: 13\n",
      "         Hessian evaluations: 0\n"
     ]
    }
   ],
   "source": [
    "\n",
    "#u_free_init = model.mle_par['u'].get_free()\n",
    "u_free_init = np.random.random(model.mle_par['u'].free_size())\n",
    "objective.logger.initialize()\n",
    "objective.logger.print_every = 1\n",
    "mle_opt = optimize.minimize(\n",
    "    lambda par: objective.fun_free(par, verbose=True),\n",
    "    x0=u_free_init,\n",
    "    method='trust-ncg',\n",
    "    jac=objective.fun_free_grad,\n",
    "    hessp=objective.fun_free_hvp,\n",
    "    tol=1e-6, options={'maxiter': 200, 'disp': True, 'gtol': 1e-6 })\n",
    "u_free_opt = mle_opt.x\n"
   ]
  },
  {
   "cell_type": "code",
   "execution_count": 54,
   "metadata": {},
   "outputs": [
    {
     "data": {
      "text/plain": [
       "[<matplotlib.lines.Line2D at 0x7f9b8a1e4a90>]"
      ]
     },
     "execution_count": 54,
     "metadata": {},
     "output_type": "execute_result"
    },
    {
     "data": {
      "image/png": "[encoded data removed]",
      "text/plain": [
       "<matplotlib.figure.Figure at 0x7f9b8a20e668>"
      ]
     },
     "metadata": {},
     "output_type": "display_data"
    }
   ],
   "source": [
    "model.mle_par['u'].set_free(z_free_opt)\n",
    "u_mle = model.mle_par['u'].get()\n",
    "\n",
    "glmm_par.set_free(vb_results['glmm_par_free'])\n",
    "u_vb = glmm_par['u'].e()\n",
    "\n",
    "plt.plot(u_vb, u_mle, 'k.')"
   ]
  }
 ],
 "metadata": {
  "kernelspec": {
   "display_name": "Python 3",
   "language": "python",
   "name": "python3"
  },
  "language_info": {
   "codemirror_mode": {
    "name": "ipython",
    "version": 3
   },
   "file_extension": ".py",
   "mimetype": "text/x-python",
   "name": "python",
   "nbconvert_exporter": "python",
   "pygments_lexer": "ipython3",
   "version": "3.5.2"
  }
 },
 "nbformat": 4,
 "nbformat_minor": 2
}
