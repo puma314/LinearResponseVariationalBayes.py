{
 "cells": [
  {
   "cell_type": "code",
   "execution_count": 1,
   "metadata": {
    "collapsed": true,
    "scrolled": true
   },
   "outputs": [],
   "source": [
    "import VariationalBayes as vb\n",
    "import VariationalBayes.ExponentialFamilies as ef\n",
    "\n",
    "import LogisticGLMM_lib as logit_glmm\n",
    "from VariationalBayes.SparseObjectives import Objective, unpack_csr_matrix, get_sparse_hessian\n",
    "\n",
    "import matplotlib.pyplot as plt\n",
    "%matplotlib inline\n",
    "\n",
    "import autograd\n",
    "import autograd.numpy as np\n",
    "\n",
    "import copy\n",
    "from scipy import optimize\n",
    "\n",
    "import os\n",
    "import json\n",
    "\n",
    "import time\n",
    "\n",
    "import pickle\n"
   ]
  },
  {
   "cell_type": "code",
   "execution_count": 2,
   "metadata": {
    "collapsed": true,
    "scrolled": true
   },
   "outputs": [],
   "source": [
    "# Load data saved by stan_results_to_json.R and run_stan.R in LRVBLogitGLMM.\n",
    "\n",
    "#analysis_name = 'simulated_data_small'\n",
    "analysis_name = 'criteo_subsampled'\n",
    "\n",
    "data_dir = os.path.join(os.environ['GIT_REPO_LOC'],\n",
    "                        'LinearResponseVariationalBayes.py/Models/LogisticGLMM/data')\n",
    "\n",
    "pickle_output_filename = os.path.join(data_dir, '%s_python_vb_results.pkl' % analysis_name)\n",
    "\n",
    "pkl_file = open(pickle_output_filename, 'rb')\n",
    "vb_results = pickle.load(pkl_file)\n"
   ]
  },
  {
   "cell_type": "code",
   "execution_count": 3,
   "metadata": {
    "scrolled": true
   },
   "outputs": [
    {
     "name": "stdout",
     "output_type": "stream",
     "text": [
      "dict_keys(['x', 'K', 'mu_prior_info', 'y_group', 'tau_prior_alpha', 'NG', 'tau_prior_beta', 'beta_prior_mean', 'beta_prior_info', 'N', 'y', 'mu_prior_mean'])\n",
      "dict_keys(['num_cg_iterations', 'run_name', 'cg_row_time', 'glmm_par_dictval', 'elbo_inv_moment_jac', 'vb_prior_sens', 'num_gh_points', 'glmm_par_vector', 'sparse_vector_hess_packed', 'glmm_par_free', 'vb_time', 'hess_time', 'elbo_hess_packed', 'moment_jac', 'log_prior_hess', 'inverse_time', 'lrvb_cov'])\n"
     ]
    }
   ],
   "source": [
    "json_filename = os.path.join(data_dir, '%s_stan_dat.json' % analysis_name)\n",
    "y_g_vec, y_vec, x_mat, glmm_par, prior_par = logit_glmm.load_json_data(json_filename)\n",
    "\n",
    "K = x_mat.shape[1]\n",
    "NG = np.max(y_g_vec) + 1\n",
    "\n",
    "# Define moment parameters\n",
    "moment_wrapper = logit_glmm.MomentWrapper(glmm_par)\n",
    "glmm_par = logit_glmm.get_glmm_parameters(K=K, NG=NG)\n",
    "glmm_par.set_free(vb_results['glmm_par_free'])\n",
    "model = logit_glmm.LogisticGLMM(\n",
    "    glmm_par, prior_par, x_mat, y_vec, y_g_vec, vb_results['num_gh_points'])\n",
    "objective = Objective(model.glmm_par, model.get_kl)\n",
    "moment_wrapper = logit_glmm.MomentWrapper(glmm_par)\n",
    "moment_vec = moment_wrapper.get_moment_vector(vb_results['glmm_par_free'])\n",
    "\n",
    "print(vb_results.keys())"
   ]
  },
  {
   "cell_type": "code",
   "execution_count": 4,
   "metadata": {
    "scrolled": true
   },
   "outputs": [],
   "source": [
    "glmm_par_opt = copy.deepcopy(glmm_par)\n",
    "def tr_optimize(trust_init, prior_par, gtol=1e-6, maxiter=500):\n",
    "    model.prior_par.set_vector(prior_par.get_vector())\n",
    "    objective.logger.initialize()\n",
    "    objective.logger.print_every = 5\n",
    "    vb_opt = optimize.minimize(\n",
    "        lambda par: objective.fun_free(par, verbose=True),\n",
    "        x0=trust_init,\n",
    "        method='trust-ncg',\n",
    "        jac=objective.fun_free_grad,\n",
    "        hessp=objective.fun_free_hvp,\n",
    "        tol=1e-6, options={'maxiter': maxiter, 'disp': True, 'gtol': gtol })\n",
    "    return vb_opt.x\n"
   ]
  },
  {
   "cell_type": "code",
   "execution_count": null,
   "metadata": {
    "scrolled": true
   },
   "outputs": [
    {
     "name": "stdout",
     "output_type": "stream",
     "text": [
      "Epsilon:  0.0\n",
      "Iter  0  value:  23825.6016424\n",
      "\tx_diff:  inf\n",
      "Warning: A bad approximation caused failure to predict improvement.\n",
      "         Current function value: 23825.601642\n",
      "         Iterations: 0\n",
      "         Function evaluations: 2\n",
      "         Gradient evaluations: 1\n",
      "         Hessian evaluations: 0\n",
      "Epsilon:  0.526315789474\n",
      "Iter  0  value:  23826.6984672\n",
      "\tx_diff:  inf\n",
      "Iter  5  value:  23826.6860697\n",
      "\tx_diff:  0.00411235578106\n",
      "Optimization terminated successfully.\n",
      "         Current function value: 23826.677599\n",
      "         Iterations: 9\n",
      "         Function evaluations: 10\n",
      "         Gradient evaluations: 10\n",
      "         Hessian evaluations: 0\n",
      "Epsilon:  1.05263157895\n",
      "Iter  0  value:  23827.7330912\n",
      "\tx_diff:  inf\n",
      "Iter  5  value:  23827.7210465\n",
      "\tx_diff:  0.00410393257494\n",
      "Optimization terminated successfully.\n",
      "         Current function value: 23827.713403\n",
      "         Iterations: 9\n",
      "         Function evaluations: 10\n",
      "         Gradient evaluations: 10\n",
      "         Hessian evaluations: 0\n",
      "Epsilon:  1.57894736842\n",
      "Iter  0  value:  23828.7298932\n",
      "\tx_diff:  inf\n",
      "Iter  5  value:  23828.7181892\n",
      "\tx_diff:  0.00409645708593\n",
      "Optimization terminated successfully.\n",
      "         Current function value: 23828.711297\n",
      "         Iterations: 9\n",
      "         Function evaluations: 10\n",
      "         Gradient evaluations: 10\n",
      "         Hessian evaluations: 0\n",
      "Epsilon:  2.10526315789\n",
      "Iter  0  value:  23829.6909391\n",
      "\tx_diff:  inf\n",
      "Iter  5  value:  23829.6804099\n",
      "\tx_diff:  0.000838045041145\n",
      "Iter  10  value:  23829.6733534\n",
      "\tx_diff:  1.24150890524e-06\n",
      "Optimization terminated successfully.\n",
      "         Current function value: 23829.673353\n",
      "         Iterations: 10\n",
      "         Function evaluations: 11\n",
      "         Gradient evaluations: 11\n",
      "         Hessian evaluations: 0\n",
      "Epsilon:  2.63157894737\n",
      "Iter  0  value:  23830.6181447\n",
      "\tx_diff:  inf\n",
      "Iter  5  value:  23830.6070932\n",
      "\tx_diff:  0.00408354799731\n",
      "Warning: A bad approximation caused failure to predict improvement.\n",
      "         Current function value: 23830.601497\n",
      "         Iterations: 8\n",
      "         Function evaluations: 10\n",
      "         Gradient evaluations: 9\n",
      "         Hessian evaluations: 0\n",
      "Epsilon:  3.15789473684\n",
      "Iter  0  value:  23831.5132891\n",
      "\tx_diff:  inf\n",
      "Iter  5  value:  23831.5033897\n",
      "\tx_diff:  5.39152829894e-05\n",
      "Iter  10  value:  23831.497512\n",
      "\tx_diff:  2.26657982583e-06\n",
      "Optimization terminated successfully.\n",
      "         Current function value: 23831.497512\n",
      "         Iterations: 10\n",
      "         Function evaluations: 11\n",
      "         Gradient evaluations: 11\n",
      "         Hessian evaluations: 0\n",
      "Epsilon:  3.68421052632\n",
      "Iter  0  value:  23832.378027\n",
      "\tx_diff:  inf\n",
      "Iter  5  value:  23832.3684242\n",
      "\tx_diff:  5.87289351126e-05\n",
      "Iter  10  value:  23832.3630603\n",
      "\tx_diff:  2.81833224358e-06\n",
      "Optimization terminated successfully.\n",
      "         Current function value: 23832.363060\n",
      "         Iterations: 10\n",
      "         Function evaluations: 11\n",
      "         Gradient evaluations: 11\n",
      "         Hessian evaluations: 0\n",
      "Epsilon:  4.21052631579\n",
      "Iter  0  value:  23833.2138994\n",
      "\tx_diff:  inf\n",
      "Iter  5  value:  23833.2045858\n",
      "\tx_diff:  6.30433429104e-05\n",
      "Iter  10  value:  23833.1996878\n",
      "\tx_diff:  6.08476565134e-07\n",
      "Warning: A bad approximation caused failure to predict improvement.\n",
      "         Current function value: 23833.199688\n",
      "         Iterations: 9\n",
      "         Function evaluations: 11\n",
      "         Gradient evaluations: 10\n",
      "         Hessian evaluations: 0\n",
      "Epsilon:  4.73684210526\n",
      "Iter  0  value:  23834.0223438\n",
      "\tx_diff:  inf\n",
      "Iter  5  value:  23834.0133115\n",
      "\tx_diff:  6.69554521706e-05\n",
      "Optimization terminated successfully.\n",
      "         Current function value: 23834.008837\n",
      "         Iterations: 9\n",
      "         Function evaluations: 10\n",
      "         Gradient evaluations: 10\n",
      "         Hessian evaluations: 0\n",
      "Epsilon:  5.26315789474\n",
      "Iter  0  value:  23834.8047023\n",
      "\tx_diff:  inf\n",
      "Iter  5  value:  23834.7959427\n",
      "\tx_diff:  7.04272333669e-05\n",
      "Iter  10  value:  23834.791853\n",
      "\tx_diff:  1.42580995677e-06\n",
      "Optimization terminated successfully.\n",
      "         Current function value: 23834.791853\n",
      "         Iterations: 10\n",
      "         Function evaluations: 11\n",
      "         Gradient evaluations: 11\n",
      "         Hessian evaluations: 0\n",
      "Epsilon:  5.78947368421\n",
      "Iter  0  value:  23835.5622298\n",
      "\tx_diff:  inf\n",
      "Iter  5  value:  23835.5537366\n",
      "\tx_diff:  7.11565878439e-05\n",
      "Iter  10  value:  23835.5499958\n",
      "\tx_diff:  1.31300758177e-06\n",
      "Optimization terminated successfully.\n",
      "         Current function value: 23835.549996\n",
      "         Iterations: 10\n",
      "         Function evaluations: 11\n",
      "         Gradient evaluations: 11\n",
      "         Hessian evaluations: 0\n",
      "Epsilon:  6.31578947368\n",
      "Iter  0  value:  23836.2961011\n",
      "\tx_diff:  inf\n",
      "Iter  5  value:  23836.2878669\n",
      "\tx_diff:  6.99167236945e-05\n"
     ]
    }
   ],
   "source": [
    "\n",
    "perturb_prior_par = 'mu_prior_info'\n",
    "epsilon_list = np.linspace(0.0, 10.0, 20)\n",
    "moment_vec_list = []\n",
    "\n",
    "glmm_opt_pert = vb_results['glmm_par_free']\n",
    "vb_refit_time = time.time()\n",
    "for epsilon in epsilon_list:\n",
    "    print('Epsilon: ', epsilon)\n",
    "    prior_par_pert = copy.deepcopy(prior_par)\n",
    "    prior_par_pert[perturb_prior_par].set(prior_par[perturb_prior_par].get() + epsilon)\n",
    "\n",
    "    glmm_opt_pert = tr_optimize(trust_init=glmm_opt_pert, prior_par=prior_par_pert)\n",
    "    moment_vec_list.append(moment_wrapper.get_moment_vector(glmm_opt_pert))\n",
    "    \n",
    "vb_refit_time = time.time() - vb_refit_time"
   ]
  },
  {
   "cell_type": "code",
   "execution_count": 9,
   "metadata": {
    "scrolled": true
   },
   "outputs": [
    {
     "name": "stdout",
     "output_type": "stream",
     "text": [
      "Refit time:  273.7270472049713\n",
      "Refit time per iteration:  30.414116356107925\n"
     ]
    },
    {
     "data": {
      "image/png": "[encoded data removed]",
      "text/plain": [
       "<matplotlib.figure.Figure at 0x7f1457575128>"
      ]
     },
     "metadata": {},
     "output_type": "display_data"
    }
   ],
   "source": [
    "prior_indices = copy.deepcopy(prior_par)\n",
    "prior_indices.set_vector(np.arange(prior_indices.vector_size()))\n",
    "mu_info_col = prior_indices[perturb_prior_par].get()[0]\n",
    "\n",
    "pred_sens_vec = vb_results['vb_prior_sens'][:, mu_info_col]\n",
    "\n",
    "moment_wrapper.moment_par.set_vector(pred_sens_vec)\n",
    "mu_pred_sens = moment_wrapper.moment_par['e_mu'].get()[0]\n",
    "\n",
    "moment_wrapper.moment_par.set_vector(moment_vec)\n",
    "\n",
    "def GetEMu(moment_vec):\n",
    "    moment_wrapper.moment_par.set_vector(moment_vec)\n",
    "    return np.squeeze(moment_wrapper.moment_par['e_mu'].get())\n",
    "    \n",
    "e_mu_list = [ GetEMu(moment_vec) for moment_vec in moment_vec_list ]\n",
    "e_mu_base = e_mu_list[0]\n",
    "\n",
    "plt.plot(epsilon_list, e_mu_list - e_mu_base, 'k.')\n",
    "plt.plot(epsilon_list, e_mu_list - e_mu_base, 'k')\n",
    "plt.plot(epsilon_list, epsilon_list * mu_pred_sens, 'r')\n",
    "\n",
    "print('Refit time: ', vb_refit_time)\n",
    "\n",
    "# Note that this includes a \"refit\" at the zero point -- let's just remove it\n",
    "# and bias the result slightly against us.\n",
    "print('Refit time per iteration: ', vb_refit_time / (len(epsilon_list) - 1))"
   ]
  },
  {
   "cell_type": "code",
   "execution_count": 10,
   "metadata": {},
   "outputs": [
    {
     "name": "stdout",
     "output_type": "stream",
     "text": [
      "/home/rgiordan/Documents/git_repos/LinearResponseVariationalBayes.py/Models/LogisticGLMM/data/criteo_subsampled_python_vb_perturbation_results.pkl\n",
      "\n",
      "\n",
      "DONE.\n"
     ]
    }
   ],
   "source": [
    "# Write the result to a JSON file for use in R.\n",
    "\n",
    "run_name = 'production'\n",
    "\n",
    "pickle_output_filename = os.path.join(data_dir, '%s_python_vb_perturbation_results.pkl' % analysis_name)\n",
    "pickle_output = open(pickle_output_filename, 'wb')\n",
    "\n",
    "# Unlike with JSON, numpy arrays can be pickled.\n",
    "pickle_result_dict = {  'run_name': run_name,\n",
    "                        'pickle_output_filename': pickle_output_filename,\n",
    "                        'vb_refit_time': vb_refit_time,\n",
    "                        'epsilon_list': epsilon_list,\n",
    "                        'moment_vec_list': moment_vec_list,\n",
    "                        'perturb_prior_par': perturb_prior_par\n",
    "                     }\n",
    "\n",
    "# Pickle dictionary using protocol 0.\n",
    "pickle.dump(pickle_result_dict, pickle_output)\n",
    "pickle_output.close()\n",
    "\n",
    "print(pickle_output_filename)\n",
    "\n",
    "\n",
    "print('\\n\\nDONE.')\n"
   ]
  }
 ],
 "metadata": {
  "kernelspec": {
   "display_name": "Python 3",
   "language": "python",
   "name": "python3"
  },
  "language_info": {
   "codemirror_mode": {
    "name": "ipython",
    "version": 3
   },
   "file_extension": ".py",
   "mimetype": "text/x-python",
   "name": "python",
   "nbconvert_exporter": "python",
   "pygments_lexer": "ipython3",
   "version": "3.5.2"
  }
 },
 "nbformat": 4,
 "nbformat_minor": 2
}
