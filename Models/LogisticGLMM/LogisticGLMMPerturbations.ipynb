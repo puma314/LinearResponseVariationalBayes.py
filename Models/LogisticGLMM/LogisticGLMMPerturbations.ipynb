{
 "cells": [
  {
   "cell_type": "code",
   "execution_count": 1,
   "metadata": {
    "collapsed": true,
    "scrolled": true
   },
   "outputs": [],
   "source": [
    "import VariationalBayes as vb\n",
    "import VariationalBayes.ExponentialFamilies as ef\n",
    "\n",
    "import LogisticGLMM_lib as logit_glmm\n",
    "from VariationalBayes.SparseObjectives import Objective, unpack_csr_matrix, get_sparse_hessian\n",
    "\n",
    "import matplotlib.pyplot as plt\n",
    "%matplotlib inline\n",
    "\n",
    "import autograd\n",
    "import autograd.numpy as np\n",
    "\n",
    "import copy\n",
    "from scipy import optimize\n",
    "\n",
    "import os\n",
    "import json\n",
    "\n",
    "import time\n",
    "\n",
    "import pickle\n"
   ]
  },
  {
   "cell_type": "code",
   "execution_count": 2,
   "metadata": {
    "collapsed": true,
    "scrolled": true
   },
   "outputs": [],
   "source": [
    "# Load data saved by stan_results_to_json.R and run_stan.R in LRVBLogitGLMM.\n",
    "\n",
    "analysis_name = 'simulated_data_small'\n",
    "#analysis_name = 'criteo_subsampled'\n",
    "\n",
    "data_dir = os.path.join(os.environ['GIT_REPO_LOC'],\n",
    "                        'LinearResponseVariationalBayes.py/Models/LogisticGLMM/data')\n",
    "\n",
    "pickle_output_filename = os.path.join(data_dir, '%s_python_vb_results.pkl' % analysis_name)\n",
    "\n",
    "pkl_file = open(pickle_output_filename, 'rb')\n",
    "vb_results = pickle.load(pkl_file)\n"
   ]
  },
  {
   "cell_type": "code",
   "execution_count": 51,
   "metadata": {
    "scrolled": true
   },
   "outputs": [
    {
     "name": "stdout",
     "output_type": "stream",
     "text": [
      "dict_keys(['tau_prior_beta', 'beta_prior_info', 'NG', 'mu_prior_info', 'mu_prior_mean', 'y_group', 'beta_prior_mean', 'x', 'N', 'K', 'y', 'tau_prior_alpha'])\n",
      "dict_keys(['run_name', 'glmm_par_free', 'num_gh_points', 'glmm_par_dictval', 'log_prior_hess', 'moment_jac', 'inverse_time', 'sparse_vector_hess_packed', 'elbo_hess_packed', 'vb_prior_sens', 'cg_row_time', 'vb_time', 'num_cg_iterations', 'lrvb_cov', 'glmm_par_vector', 'hess_time', 'elbo_inv_moment_jac'])\n"
     ]
    }
   ],
   "source": [
    "json_filename = os.path.join(data_dir, '%s_stan_dat.json' % analysis_name)\n",
    "y_g_vec, y_vec, x_mat, glmm_par, prior_par = logit_glmm.load_json_data(json_filename)\n",
    "\n",
    "K = x_mat.shape[1]\n",
    "NG = np.max(y_g_vec) + 1\n",
    "\n",
    "# Define moment parameters\n",
    "moment_wrapper = logit_glmm.MomentWrapper(glmm_par)\n",
    "glmm_par = logit_glmm.get_glmm_parameters(K=K, NG=NG)\n",
    "glmm_par.set_free(vb_results['glmm_par_free'])\n",
    "model = logit_glmm.LogisticGLMM(\n",
    "    glmm_par, prior_par, x_mat, y_vec, y_g_vec, vb_results['num_gh_points'])\n",
    "objective = Objective(model.glmm_par, model.get_kl)\n",
    "moment_wrapper = logit_glmm.MomentWrapper(glmm_par)\n",
    "moment_vec = moment_wrapper.get_moment_vector(vb_results['glmm_par_free'])\n",
    "\n",
    "print(vb_results.keys())"
   ]
  },
  {
   "cell_type": "code",
   "execution_count": 23,
   "metadata": {
    "scrolled": true
   },
   "outputs": [],
   "source": [
    "glmm_par_opt = copy.deepcopy(glmm_par)\n",
    "def tr_optimize(trust_init, prior_par, gtol=1e-6, maxiter=500):\n",
    "    model.prior_par.set_vector(prior_par.get_vector())\n",
    "    objective.logger.initialize()\n",
    "    objective.logger.print_every = 5\n",
    "    vb_opt = optimize.minimize(\n",
    "        lambda par: objective.fun_free(par, verbose=True),\n",
    "        x0=trust_init,\n",
    "        method='trust-ncg',\n",
    "        jac=objective.fun_free_grad,\n",
    "        hessp=objective.fun_free_hvp,\n",
    "        tol=1e-6, options={'maxiter': maxiter, 'disp': True, 'gtol': gtol })\n",
    "    return vb_opt.x\n"
   ]
  },
  {
   "cell_type": "code",
   "execution_count": 56,
   "metadata": {
    "scrolled": true
   },
   "outputs": [
    {
     "name": "stdout",
     "output_type": "stream",
     "text": [
      "Epsilon:  0.0\n",
      "Iter  0  value:  69.4078730719\n",
      "\tx_diff:  inf\n",
      "Warning: A bad approximation caused failure to predict improvement.\n",
      "         Current function value: 69.407873\n",
      "         Iterations: 0\n",
      "         Function evaluations: 2\n",
      "         Gradient evaluations: 1\n",
      "         Hessian evaluations: 0\n",
      "Epsilon:  0.555555555556\n",
      "Iter  0  value:  72.9851745909\n",
      "\tx_diff:  inf\n",
      "Iter  5  value:  72.7588782322\n",
      "\tx_diff:  0.0825534212171\n",
      "Optimization terminated successfully.\n",
      "         Current function value: 72.755513\n",
      "         Iterations: 9\n",
      "         Function evaluations: 10\n",
      "         Gradient evaluations: 10\n",
      "         Hessian evaluations: 0\n",
      "Epsilon:  1.11111111111\n",
      "Iter  0  value:  75.9006055697\n",
      "\tx_diff:  inf\n",
      "Iter  5  value:  75.7390720243\n",
      "\tx_diff:  0.14739051546\n",
      "Optimization terminated successfully.\n",
      "         Current function value: 75.737569\n",
      "         Iterations: 9\n",
      "         Function evaluations: 10\n",
      "         Gradient evaluations: 10\n",
      "         Hessian evaluations: 0\n",
      "Epsilon:  1.66666666667\n",
      "Iter  0  value:  78.5712722947\n",
      "\tx_diff:  inf\n",
      "Iter  5  value:  78.4461914112\n",
      "\tx_diff:  0.0760440680398\n",
      "Optimization terminated successfully.\n",
      "         Current function value: 78.446054\n",
      "         Iterations: 8\n",
      "         Function evaluations: 9\n",
      "         Gradient evaluations: 9\n",
      "         Hessian evaluations: 0\n",
      "Epsilon:  2.22222222222\n",
      "Iter  0  value:  81.0385335387\n",
      "\tx_diff:  inf\n",
      "Iter  5  value:  80.9377231826\n",
      "\tx_diff:  0.00147348197879\n",
      "Optimization terminated successfully.\n",
      "         Current function value: 80.937723\n",
      "         Iterations: 6\n",
      "         Function evaluations: 7\n",
      "         Gradient evaluations: 7\n",
      "         Hessian evaluations: 0\n",
      "Epsilon:  2.77777777778\n",
      "Iter  0  value:  83.3348908142\n",
      "\tx_diff:  inf\n",
      "Iter  5  value:  83.2511175074\n",
      "\tx_diff:  0.00129836575513\n",
      "Optimization terminated successfully.\n",
      "         Current function value: 83.251118\n",
      "         Iterations: 6\n",
      "         Function evaluations: 7\n",
      "         Gradient evaluations: 7\n",
      "         Hessian evaluations: 0\n",
      "Epsilon:  3.33333333333\n",
      "Iter  0  value:  85.4853199082\n",
      "\tx_diff:  inf\n",
      "Iter  5  value:  85.4140881154\n",
      "\tx_diff:  0.000711932244698\n",
      "Optimization terminated successfully.\n",
      "         Current function value: 85.414088\n",
      "         Iterations: 6\n",
      "         Function evaluations: 7\n",
      "         Gradient evaluations: 7\n",
      "         Hessian evaluations: 0\n",
      "Epsilon:  3.88888888889\n",
      "Iter  0  value:  87.5092960696\n",
      "\tx_diff:  inf\n",
      "Iter  5  value:  87.4476595057\n",
      "\tx_diff:  0.00253805822273\n",
      "Optimization terminated successfully.\n",
      "         Current function value: 87.447659\n",
      "         Iterations: 6\n",
      "         Function evaluations: 7\n",
      "         Gradient evaluations: 7\n",
      "         Hessian evaluations: 0\n",
      "Epsilon:  4.44444444444\n",
      "Iter  0  value:  89.4223055923\n",
      "\tx_diff:  inf\n",
      "Iter  5  value:  89.368228826\n",
      "\tx_diff:  0.0020158003369\n",
      "Optimization terminated successfully.\n",
      "         Current function value: 89.368229\n",
      "         Iterations: 6\n",
      "         Function evaluations: 7\n",
      "         Gradient evaluations: 7\n",
      "         Hessian evaluations: 0\n",
      "Epsilon:  5.0\n",
      "Iter  0  value:  91.2368933334\n",
      "\tx_diff:  inf\n",
      "Iter  5  value:  91.1889125062\n",
      "\tx_diff:  0.00154443040747\n",
      "Optimization terminated successfully.\n",
      "         Current function value: 91.188913\n",
      "         Iterations: 6\n",
      "         Function evaluations: 7\n",
      "         Gradient evaluations: 7\n",
      "         Hessian evaluations: 0\n"
     ]
    }
   ],
   "source": [
    "\n",
    "epsilon_list = np.linspace(0.0, 5.0, 10)\n",
    "moment_vec_list = []\n",
    "\n",
    "glmm_opt_pert = vb_results['glmm_par_free']\n",
    "vb_refit_time = time.time()\n",
    "for epsilon in epsilon_list:\n",
    "    print('Epsilon: ', epsilon)\n",
    "    prior_par_pert = copy.deepcopy(prior_par)\n",
    "    prior_par_pert['mu_prior_info'].set(prior_par['mu_prior_info'].get() + epsilon)\n",
    "\n",
    "    glmm_opt_pert = tr_optimize(trust_init=glmm_opt_pert, prior_par=prior_par_pert)\n",
    "    moment_vec_list.append(moment_wrapper.get_moment_vector(glmm_opt_pert))\n",
    "    \n",
    "vb_refit_time = time.time() - vb_refit_time"
   ]
  },
  {
   "cell_type": "code",
   "execution_count": 54,
   "metadata": {
    "scrolled": true
   },
   "outputs": [
    {
     "data": {
      "text/plain": [
       "[<matplotlib.lines.Line2D at 0x7fe04b9d7e80>]"
      ]
     },
     "execution_count": 54,
     "metadata": {},
     "output_type": "execute_result"
    },
    {
     "data": {
      "image/png": "[encoded data removed]",
      "text/plain": [
       "<matplotlib.figure.Figure at 0x7fe04b9d7940>"
      ]
     },
     "metadata": {},
     "output_type": "display_data"
    }
   ],
   "source": [
    "prior_indices = copy.deepcopy(prior_par)\n",
    "prior_indices.set_vector(np.arange(prior_indices.vector_size()))\n",
    "mu_info_col = prior_indices['mu_prior_info'].get()[0]\n",
    "\n",
    "pred_sens_vec = vb_results['vb_prior_sens'][:, mu_info_col]\n",
    "\n",
    "moment_wrapper.moment_par.set_vector(pred_sens_vec)\n",
    "mu_pred_sens = moment_wrapper.moment_par['e_mu'].get()[0]\n",
    "\n",
    "moment_wrapper.moment_par.set_vector(moment_vec)\n",
    "e_mu_base = moment_wrapper.moment_par['e_mu'].get()[0]\n",
    "\n",
    "def GetEMu(moment_vec):\n",
    "    moment_wrapper.moment_par.set_vector(moment_vec)\n",
    "    return np.squeeze(moment_wrapper.moment_par['e_mu'].get())\n",
    "    \n",
    "e_mu_list = [ GetEMu(moment_vec) for moment_vec in moment_vec_list ]\n",
    "\n",
    "plt.plot(epsilon_list, e_mu_list - e_mu_base, 'k.')\n",
    "plt.plot(epsilon_list, epsilon_list * mu_pred_sens, 'r')\n",
    "\n",
    "print(vb_refit_time)"
   ]
  }
 ],
 "metadata": {
  "kernelspec": {
   "display_name": "Python 3",
   "language": "python",
   "name": "python3"
  },
  "language_info": {
   "codemirror_mode": {
    "name": "ipython",
    "version": 3
   },
   "file_extension": ".py",
   "mimetype": "text/x-python",
   "name": "python",
   "nbconvert_exporter": "python",
   "pygments_lexer": "ipython3",
   "version": "3.5.2"
  }
 },
 "nbformat": 4,
 "nbformat_minor": 2
}
