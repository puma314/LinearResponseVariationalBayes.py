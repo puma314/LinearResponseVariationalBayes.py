{
 "cells": [
  {
   "cell_type": "code",
   "execution_count": 1,
   "metadata": {},
   "outputs": [],
   "source": [
    "import VariationalBayes as vb\n",
    "import LogisticGLMM_lib as logit_glmm\n",
    "import VariationalBayes.SparseObjectives as vb_sparse\n",
    "import VariationalBayes.ExponentialFamilies as ef\n",
    "\n",
    "import matplotlib.pyplot as plt\n",
    "%matplotlib inline\n",
    "\n",
    "import autograd\n",
    "import autograd.numpy as np\n",
    "import scipy as sp\n",
    "from scipy import sparse\n",
    "\n",
    "import copy\n",
    "from scipy import optimize\n",
    "\n",
    "import os\n",
    "import json\n",
    "\n",
    "import time\n",
    "\n",
    "import pickle\n",
    "\n",
    "analysis_name = 'simulated_data_for_refit'\n",
    "\n",
    "data_dir = os.path.join(os.environ['GIT_REPO_LOC'],\n",
    "                        'LinearResponseVariationalBayes.py/Models/LogisticGLMM/data')\n"
   ]
  },
  {
   "cell_type": "code",
   "execution_count": 2,
   "metadata": {},
   "outputs": [],
   "source": [
    "# Generate data\n",
    "\n",
    "true_beta = np.array(range(5))\n",
    "true_beta = true_beta - np.mean(true_beta)\n",
    "true_mu = 0.\n",
    "true_tau = 40.0\n",
    "\n",
    "true_params = logit_glmm.TrueParameters(\n",
    "    num_obs_per_group = 2,\n",
    "    num_groups = 200,\n",
    "    true_beta = true_beta,\n",
    "    true_mu = 0.,\n",
    "    true_tau = 40.0)\n",
    "\n",
    "x_mat, y_g_vec, y_vec  = true_params.generate_data()\n",
    "prior_par = logit_glmm.get_default_prior_params(true_params.beta_dim)\n",
    "glmm_par = logit_glmm.get_glmm_parameters(K=true_params.beta_dim, NG=true_params.num_groups)\n",
    "logit_glmm.initialize_glmm_pars(glmm_par)\n",
    "init_par_vec = glmm_par.get_free()\n",
    "\n",
    "timer = logit_glmm.Timer()"
   ]
  },
  {
   "cell_type": "code",
   "execution_count": 3,
   "metadata": {},
   "outputs": [
    {
     "name": "stdout",
     "output_type": "stream",
     "text": [
      "Iter  0  value:  283.290643477\n",
      "Iter  5  value:  76.4813876751\n",
      "Iter  10  value:  70.3744886114\n",
      "Iter  15  value:  70.3719264117\n",
      "Optimization terminated successfully.\n",
      "         Current function value: 70.371926\n",
      "         Iterations: 15\n",
      "         Function evaluations: 16\n",
      "         Gradient evaluations: 16\n",
      "         Hessian evaluations: 0\n",
      "Group 0 of 199.\n",
      "Group 20 of 199.\n",
      "Group 40 of 199.\n",
      "Group 60 of 199.\n",
      "Group 80 of 199.\n",
      "Group 100 of 199.\n",
      "Group 120 of 199.\n",
      "Group 140 of 199.\n",
      "Group 160 of 199.\n",
      "Group 180 of 199.\n"
     ]
    },
    {
     "name": "stderr",
     "output_type": "stream",
     "text": [
      "/home/rgiordan/Documents/git_repos/autograd/autograd/core.py:14: UserWarning: Output seems independent of input.\n",
      "  warnings.warn(\"Output seems independent of input.\")\n"
     ]
    },
    {
     "name": "stdout",
     "output_type": "stream",
     "text": [
      "Group 0 of 199\n",
      "Group 50 of 199\n",
      "Group 100 of 199\n",
      "Group 150 of 199\n"
     ]
    }
   ],
   "source": [
    "# Get an initial fit and preconditioner.\n",
    "\n",
    "model = logit_glmm.LogisticGLMM(\n",
    "    glmm_par=glmm_par, prior_par=prior_par, x_mat=x_mat,\n",
    "    y_vec=y_vec, y_g_vec=y_g_vec, num_gh_points=5)\n",
    "\n",
    "vb_time = time.time()\n",
    "vb_opt = model.tr_optimize(init_par_vec, gtol=1e-6, maxiter=500)\n",
    "opt_x = vb_opt.x\n",
    "\n",
    "timer.tic()\n",
    "kl_hess = model.get_sparse_free_hessian(opt_x, print_every_n=20)\n",
    "weight_jac = model.get_sparse_weight_free_jacobian(opt_x, print_every_n=50)\n",
    "moment_jac = model.moment_wrapper.get_moment_jacobian(opt_x)\n",
    "timer.toc('Derivatives')\n"
   ]
  },
  {
   "cell_type": "code",
   "execution_count": 14,
   "metadata": {
    "collapsed": true
   },
   "outputs": [],
   "source": []
  },
  {
   "cell_type": "code",
   "execution_count": 4,
   "metadata": {},
   "outputs": [],
   "source": [
    "class DiagonalModel(object):\n",
    "    def __init__(self, model):\n",
    "        self.model = model\n",
    "        self.glmm_par = model.glmm_par\n",
    "        self.free_par = model.glmm_par.get_free()\n",
    "        self.get_single_par_hessian = autograd.hessian(self.get_single_par_kl)\n",
    "\n",
    "    def get_single_par_kl(self, single_free_par, ind):\n",
    "        free_par = np.concatenate(\n",
    "            [ self.free_par[:ind],\n",
    "              np.atleast_1d(single_free_par),\n",
    "              self.free_par[(ind + 1):]])\n",
    "        self.glmm_par.set_free(free_par)\n",
    "        return model.get_kl()\n",
    "    \n",
    "    def get_hessian_diag(self, free_par, print_every=100):\n",
    "        self.glmm_par.set_free(free_par)\n",
    "        self.free_par = model.glmm_par.get_free()\n",
    "        hess_diag = []\n",
    "        free_size = self.glmm_par.free_size()\n",
    "        for ind in range(free_size):\n",
    "            if ind % print_every == 0:\n",
    "                print('Ind {} of {}'.format(ind, free_size - 1))\n",
    "            hess_diag.append(self.get_single_par_hessian(self.free_par[ind], ind))\n",
    "        return hess_diag\n",
    "    \n",
    "diagonal_model = DiagonalModel(model)\n",
    "diagonal_model.get_single_par_kl(7.0, 3)\n",
    "diagonal_model.get_single_par_hessian(5.0, 1)\n",
    "#hess_diag = diagonal_model.get_hessian_diag(opt_x)\n",
    "#print(np.min(hess_diag))\n",
    "#preconditioner = sp.sparse.diags([1 / np.sqrt(hess_diag)], [0])\n",
    "\n",
    "preconditioner = sp.sparse.diags([1 / np.sqrt(kl_hess.diagonal())], [0])\n"
   ]
  },
  {
   "cell_type": "code",
   "execution_count": 5,
   "metadata": {},
   "outputs": [
    {
     "name": "stderr",
     "output_type": "stream",
     "text": [
      "/usr/local/lib/python3.5/dist-packages/scipy/sparse/linalg/dsolve/linsolve.py:102: SparseEfficiencyWarning: spsolve requires A be CSC or CSR matrix format\n",
      "  SparseEfficiencyWarning)\n"
     ]
    }
   ],
   "source": [
    "model.objective.preconditioner = preconditioner\n",
    "cond_init = sp.sparse.linalg.spsolve(preconditioner, opt_x)"
   ]
  },
  {
   "cell_type": "code",
   "execution_count": 6,
   "metadata": {},
   "outputs": [],
   "source": [
    "def simulate_and_fit(refit_model, cond_init, true_params):\n",
    "    x_mat, y_g_vec, y_vec = \\\n",
    "        true_params.generate_data()\n",
    "    refit_model.x_mat = x_mat\n",
    "    refit_model.y_vec = y_vec\n",
    "    refit_model.y_g_vec = y_g_vec\n",
    "    #print('x mat: ', x_mat[0, 0], refit_model.x_mat[0, 0])\n",
    "\n",
    "    vb_time = time.time()\n",
    "    vb_opt = refit_model.tr_optimize_cond(\n",
    "        cond_init,\n",
    "        preconditioner=preconditioner,\n",
    "        gtol=1e-6, maxiter=500, verbose=False)\n",
    "    return vb_opt\n"
   ]
  },
  {
   "cell_type": "code",
   "execution_count": 7,
   "metadata": {},
   "outputs": [],
   "source": [
    "# model.x_mat, _model.y_g_vec, model.y_vec = \\\n",
    "#     true_params.generate_data()\n",
    "# model.x_mat[0, 0]"
   ]
  },
  {
   "cell_type": "code",
   "execution_count": 8,
   "metadata": {},
   "outputs": [
    {
     "name": "stdout",
     "output_type": "stream",
     "text": [
      "Sim 0 of 199\n",
      "Sim 50 of 199\n",
      "Sim 100 of 199\n",
      "Sim 150 of 199\n",
      "Done.\n"
     ]
    }
   ],
   "source": [
    "opt_x_sims = []\n",
    "num_sims = 200\n",
    "timer.tic()\n",
    "for sim in range(num_sims):\n",
    "    if sim % 20 == 0:\n",
    "        print('Sim {} of {}'.format(sim, num_sims - 1))\n",
    "    this_vb_opt = simulate_and_fit(model, cond_init, true_params)\n",
    "    assert(this_vb_opt.success == 1)\n",
    "    #print(this_vb_opt.message)\n",
    "    this_opt_x = model.objective.uncondition_x(this_vb_opt.x)\n",
    "    #print('This opt x:', this_opt_x[0:2])\n",
    "    \n",
    "    opt_x_sims.append(copy.deepcopy(this_opt_x))\n",
    "timer.toc('Simulations')\n",
    "print('Done.')"
   ]
  },
  {
   "cell_type": "code",
   "execution_count": 9,
   "metadata": {},
   "outputs": [
    {
     "name": "stdout",
     "output_type": "stream",
     "text": [
      "{'Derivatives': 12.994312524795532, 'Simulations': 173.6901023387909}\n"
     ]
    }
   ],
   "source": [
    "print(timer.time_dict)"
   ]
  },
  {
   "cell_type": "code",
   "execution_count": 10,
   "metadata": {},
   "outputs": [
    {
     "name": "stdout",
     "output_type": "stream",
     "text": [
      "10.363019455\n",
      "12.63777282\n",
      "12.6376277341\n"
     ]
    }
   ],
   "source": [
    "opt_x_array = np.array(opt_x_sims)\n",
    "print(np.linalg.norm(opt_x_sims[3] - opt_x_sims[1]))\n",
    "print(np.linalg.norm(opt_x_sims[3] - opt_x))\n",
    "print(np.linalg.norm(opt_x_sims[4] - opt_x))\n",
    "\n",
    "#simulate_and_fit(model, cond_init, true_params)"
   ]
  },
  {
   "cell_type": "code",
   "execution_count": 11,
   "metadata": {
    "collapsed": true
   },
   "outputs": [],
   "source": [
    "def get_u_vec(free_par):\n",
    "    model.moment_wrapper.set_moments(free_par)\n",
    "    return model.moment_wrapper.moment_par['e_u'].get()\n",
    "\n",
    "u_vecs = np.array([ get_u_vec(free_par) for free_par in opt_x_sims ])\n",
    "\n",
    "def get_beta_vec(free_par):\n",
    "    model.moment_wrapper.set_moments(free_par)\n",
    "    return model.moment_wrapper.moment_par['e_beta'].get()\n",
    "\n",
    "beta_vecs = np.array([ get_beta_vec(free_par) for free_par in opt_x_sims ])"
   ]
  },
  {
   "cell_type": "code",
   "execution_count": 12,
   "metadata": {},
   "outputs": [
    {
     "name": "stdout",
     "output_type": "stream",
     "text": [
      "(200, 200)\n"
     ]
    },
    {
     "data": {
      "image/png": "[encoded data removed]",
      "text/plain": [
       "<matplotlib.figure.Figure at 0x7fc2fc8cb780>"
      ]
     },
     "metadata": {},
     "output_type": "display_data"
    },
    {
     "data": {
      "image/png": "[encoded data removed]",
      "text/plain": [
       "<matplotlib.figure.Figure at 0x7fc2fc8cbb00>"
      ]
     },
     "metadata": {},
     "output_type": "display_data"
    }
   ],
   "source": [
    "print(u_vecs.shape)\n",
    "#print(u_vecs[:, 1])\n",
    "plt.figure()\n",
    "plt.title('U distribution')\n",
    "hist_vals = plt.hist(u_vecs[:, 10], 50)\n",
    "np.sum(hist_vals[0])\n",
    "\n",
    "plt.figure()\n",
    "plt.title('Beta distribution')\n",
    "unused = plt.hist(beta_vecs[:, 0], 20)"
   ]
  },
  {
   "cell_type": "code",
   "execution_count": 15,
   "metadata": {},
   "outputs": [
    {
     "name": "stdout",
     "output_type": "stream",
     "text": [
      "/home/rgiordan/Documents/git_repos/LinearResponseVariationalBayes.py/Models/LogisticGLMM/data/simulated_data_for_refit_python_jackknife_results.pkl\n",
      "\n",
      "\n",
      "DONE.\n"
     ]
    }
   ],
   "source": [
    "# Write the result to a JSON file for use in R.\n",
    "\n",
    "run_name = 'simulation'\n",
    "\n",
    "pickle_output_filename = os.path.join(data_dir, '%s_python_jackknife_results.pkl' % analysis_name)\n",
    "pickle_output = open(pickle_output_filename, 'wb')\n",
    "\n",
    "# Unlike with JSON, numpy arrays can be pickled.\n",
    "# Note that it does not seem that you can pickle a sparse Cholesky decomposition.\n",
    "pickle_result_dict = {  'num_gh_points': model.num_gh_points,\n",
    "                        'true_params': true_params,\n",
    "                        'glmm_par_sims': opt_x_sims,\n",
    "                        'glmm_par_free': opt_x,\n",
    "                        'weight_jac': vb_sparse.pack_csr_matrix(weight_jac),\n",
    "                        'kl_hess': vb_sparse.pack_csr_matrix(kl_hess),\n",
    "                        'moment_jac': moment_jac,\n",
    "                        'x_mat': x_mat,\n",
    "                        'y_g_vec': y_g_vec,\n",
    "                        'y_vec': y_vec\n",
    "                     }\n",
    "\n",
    "# Pickle dictionary using protocol 0.\n",
    "pickle.dump(pickle_result_dict, pickle_output)\n",
    "pickle_output.close()\n",
    "\n",
    "print(pickle_output_filename)\n",
    "\n",
    "\n",
    "print('\\n\\nDONE.')\n"
   ]
  }
 ],
 "metadata": {
  "kernelspec": {
   "display_name": "Python 3",
   "language": "python",
   "name": "python3"
  },
  "language_info": {
   "codemirror_mode": {
    "name": "ipython",
    "version": 3
   },
   "file_extension": ".py",
   "mimetype": "text/x-python",
   "name": "python",
   "nbconvert_exporter": "python",
   "pygments_lexer": "ipython3",
   "version": "3.5.2"
  }
 },
 "nbformat": 4,
 "nbformat_minor": 2
}
