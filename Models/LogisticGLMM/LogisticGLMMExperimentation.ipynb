{
 "cells": [
  {
   "cell_type": "code",
   "execution_count": 1,
   "metadata": {
    "collapsed": true
   },
   "outputs": [],
   "source": [
    "import VariationalBayes as vb\n",
    "import LogisticGLMM_lib as logit_glmm\n",
    "from VariationalBayes.SparseObjectives import Objective, unpack_csr_matrix, get_sparse_hessian\n",
    "\n",
    "import matplotlib.pyplot as plt\n",
    "%matplotlib inline\n",
    "\n",
    "#import numpy as np\n",
    "\n",
    "import autograd\n",
    "import autograd.numpy as np\n",
    "\n",
    "import copy\n",
    "from scipy import optimize\n",
    "\n",
    "import os\n",
    "import json\n",
    "\n",
    "import time\n",
    "\n",
    "import pickle\n"
   ]
  },
  {
   "cell_type": "code",
   "execution_count": 2,
   "metadata": {},
   "outputs": [],
   "source": [
    "# Load data saved by stan_results_to_json.R and run_stan.R in LRVBLogitGLMM.\n",
    "\n",
    "analysis_name = 'simulated_data_small'\n",
    "#analysis_name = 'criteo_subsampled'\n",
    "\n",
    "data_dir = os.path.join(os.environ['GIT_REPO_LOC'],\n",
    "                        'LinearResponseVariationalBayes.py/Models/LogisticGLMM/data')\n",
    "\n",
    "\n",
    "pickle_output_filename = os.path.join(data_dir, '%s_python_vb_results.pkl' % analysis_name)\n",
    "\n",
    "pkl_file = open(pickle_output_filename, 'rb')\n",
    "vb_results = pickle.load(pkl_file)\n"
   ]
  },
  {
   "cell_type": "code",
   "execution_count": 3,
   "metadata": {},
   "outputs": [
    {
     "data": {
      "text/plain": [
       "<matplotlib.image.AxesImage at 0x7f50f1ca8438>"
      ]
     },
     "execution_count": 3,
     "metadata": {},
     "output_type": "execute_result"
    },
    {
     "data": {
      "image/png": "[encoded data removed]",
      "text/plain": [
       "<matplotlib.figure.Figure at 0x7f50f3f75ac8>"
      ]
     },
     "metadata": {},
     "output_type": "display_data"
    }
   ],
   "source": [
    "import scipy as sp\n",
    "from scipy.sparse import csr_matrix\n",
    "\n",
    "elbo_hess = unpack_csr_matrix(vb_results['elbo_hess_packed'])\n",
    "plt.matshow(elbo_hess.todense()[0:100, 0:100] != 0)"
   ]
  },
  {
   "cell_type": "code",
   "execution_count": 4,
   "metadata": {},
   "outputs": [
    {
     "name": "stdout",
     "output_type": "stream",
     "text": [
      "dict_keys(['mu_prior_info', 'NG', 'N', 'mu_prior_mean', 'y_group', 'tau_prior_alpha', 'tau_prior_beta', 'beta_prior_info', 'K', 'x', 'y', 'beta_prior_mean'])\n"
     ]
    }
   ],
   "source": [
    "json_filename = os.path.join(data_dir, '%s_stan_dat.json' % analysis_name)\n",
    "y_g_vec, y_vec, x_mat, glmm_par, prior_par = logit_glmm.load_json_data(json_filename)\n",
    "\n",
    "K = x_mat.shape[1]\n",
    "NG = np.max(y_g_vec) + 1\n",
    "\n",
    "# Define moment parameters\n",
    "moment_wrapper = logit_glmm.MomentWrapper(glmm_par)\n",
    "glmm_par = logit_glmm.get_glmm_parameters(K=K, NG=NG)"
   ]
  },
  {
   "cell_type": "code",
   "execution_count": 5,
   "metadata": {},
   "outputs": [
    {
     "name": "stdout",
     "output_type": "stream",
     "text": [
      "0.027511119842529297\n",
      "5.8873796463012695\n",
      "6.998855829238892\n"
     ]
    }
   ],
   "source": [
    "import time\n",
    "\n",
    "free_par_vec = vb_results['glmm_par_free']\n",
    "model = logit_glmm.LogisticGLMM(\n",
    "    glmm_par, prior_par, x_mat, y_vec, y_g_vec, num_gh_points=vb_results['num_gh_points'])\n",
    "objective = Objective(model.glmm_par, model.get_kl)\n",
    "\n",
    "id_vec = np.zeros_like(free_par_vec)\n",
    "hvp_time = time.time()\n",
    "objective.fun_free_hvp(free_par_vec, id_vec)\n",
    "hvp_time = time.time() - hvp_time\n",
    "\n",
    "print(hvp_time)\n",
    "print(hvp_time * glmm_par.free_size())\n",
    "print(vb_results['hess_time'])\n",
    "\n",
    "opt_x = vb_results['glmm_par_free']\n",
    "get_moment_jacobian = autograd.jacobian(moment_wrapper.get_moment_vector)\n",
    "moment_jac = vb_results['moment_jac']\n"
   ]
  },
  {
   "cell_type": "code",
   "execution_count": 6,
   "metadata": {},
   "outputs": [
    {
     "name": "stdout",
     "output_type": "stream",
     "text": [
      "[48 77 49 68 48 44 18 70 58 80 65 55 14  3 88 23 19 55 58 10 53 61  3 16 66\n",
      " 22 57 41 36 44 14 76 57 92 80 57 44 47 73 33 98 65 42 75 45 82 57 28 95 71]\n",
      "9\n"
     ]
    }
   ],
   "source": [
    "group_range = np.random.randint(0, NG, 50)\n",
    "print(group_range)\n",
    "\n",
    "print(np.max(range(10)))"
   ]
  },
  {
   "cell_type": "code",
   "execution_count": 7,
   "metadata": {},
   "outputs": [
    {
     "name": "stdout",
     "output_type": "stream",
     "text": [
      "KL Hessian...\n",
      "\n",
      "Calculating global hessian:\n",
      "Group 1 of 0\n",
      "Done.\n",
      "Calculating local hessian:\n",
      "Group 10 of 9\n",
      "Done.\n"
     ]
    },
    {
     "name": "stderr",
     "output_type": "stream",
     "text": [
      "/home/rgiordan/Documents/git_repos/autograd/autograd/core.py:14: UserWarning: Output seems independent of input.\n",
      "  warnings.warn(\"Output seems independent of input.\")\n"
     ]
    }
   ],
   "source": [
    "# Get the Hessians at the number of draws used for optimization\n",
    "sparse_model = logit_glmm.SparseModelObjective(\n",
    "    glmm_par, prior_par, x_mat, y_vec, y_g_vec, vb_results['num_gh_points'])\n",
    "sparse_model.glmm_par.set_free(opt_x)\n",
    "\n",
    "hess_time = time.time()\n",
    "print('KL Hessian...\\n')\n",
    "\n",
    "print('Calculating global hessian:')\n",
    "sparse_global_hess = get_sparse_hessian(\n",
    "    set_parameters_fun = sparse_model.set_global_parameters,\n",
    "    get_group_hessian = sparse_model.get_global_vector_hessian,\n",
    "    group_range = range(1),\n",
    "    full_hess_dim = sparse_model.glmm_par.vector_size(),\n",
    "    print_every = 1)\n",
    "\n",
    "group_range = [ [g] for g in np.random.randint(0, NG, 10) ]\n",
    "\n",
    "print('Calculating local hessian:')\n",
    "sparse_group_hess = get_sparse_hessian(\n",
    "    set_parameters_fun = sparse_model.set_group_parameters,\n",
    "    get_group_hessian = sparse_model.get_group_vector_hessian,\n",
    "    group_range = group_range,\n",
    "    full_hess_dim = sparse_model.glmm_par.vector_size(),\n",
    "    print_every = 10)\n",
    "\n",
    "sparse_vector_hess = sparse_group_hess + sparse_global_hess\n",
    "sample_elbo_hess = sparse_model.get_free_hessian(sparse_vector_hess)\n",
    "\n",
    "\n"
   ]
  },
  {
   "cell_type": "code",
   "execution_count": 8,
   "metadata": {},
   "outputs": [
    {
     "data": {
      "image/png": "[encoded data removed]",
      "text/plain": [
       "<matplotlib.figure.Figure at 0x7f50f1c044a8>"
      ]
     },
     "metadata": {},
     "output_type": "display_data"
    }
   ],
   "source": [
    "moment_indices = logit_glmm.MomentWrapper(glmm_par)\n",
    "moment_indices.moment_par.set_vector(np.arange(moment_indices.moment_par.vector_size()))\n",
    "\n",
    "global_moment_indices = np.hstack(\n",
    "    [ moment_indices.moment_par['e_beta'].get(),\n",
    "      moment_indices.moment_par['e_mu'].get(),\n",
    "      moment_indices.moment_par['e_tau'].get(),\n",
    "      moment_indices.moment_par['e_log_tau'].get() ])\n",
    "\n",
    "global_moment_jac = moment_jac[global_moment_indices, :]\n",
    "plt.matshow(global_moment_jac != 0)\n",
    "\n",
    "\n",
    "glmm_indices = logit_glmm.get_glmm_parameters(K=K, NG=NG)\n",
    "glmm_indices.set_vector(np.arange(glmm_indices.vector_size()))\n",
    "\n",
    "global_indices =  np.hstack(\n",
    "    [ glmm_indices['beta'].get_vector(),\n",
    "      glmm_indices['mu'].get_vector(),\n",
    "      glmm_indices['tau'].get_vector() ])\n",
    "local_indices = glmm_indices['u'].get_vector()\n",
    "\n"
   ]
  },
  {
   "cell_type": "code",
   "execution_count": 9,
   "metadata": {},
   "outputs": [],
   "source": [
    "sparse_vector_hess = unpack_csr_matrix(vb_results['sparse_vector_hess_packed'])\n",
    "\n",
    "h = sparse_vector_hess\n",
    "h_gg = h[np.ix_(global_indices, global_indices)]\n",
    "h_gl = h[np.ix_(global_indices, local_indices)]\n",
    "h_ll = h[np.ix_(local_indices, local_indices)]\n",
    "\n",
    "# TODO: think about how to do this."
   ]
  },
  {
   "cell_type": "code",
   "execution_count": 11,
   "metadata": {},
   "outputs": [
    {
     "data": {
      "text/plain": [
       "<matplotlib.colorbar.Colorbar at 0x7f50f1b889e8>"
      ]
     },
     "execution_count": 11,
     "metadata": {},
     "output_type": "execute_result"
    },
    {
     "data": {
      "image/png": "[encoded data removed]",
      "text/plain": [
       "<matplotlib.figure.Figure at 0x7f50f1c2ae48>"
      ]
     },
     "metadata": {},
     "output_type": "display_data"
    }
   ],
   "source": [
    "group = [0]\n",
    "set_parameters_fun = sparse_model.set_group_parameters\n",
    "get_group_hessian = sparse_model.get_group_vector_hessian\n",
    "\n",
    "group_vector, full_indices = set_parameters_fun(group)\n",
    "row_hess_val = np.squeeze(get_group_hessian(group_vector, group))\n",
    "plt.matshow(row_hess_val != 0); plt.colorbar()\n"
   ]
  },
  {
   "cell_type": "code",
   "execution_count": 14,
   "metadata": {},
   "outputs": [
    {
     "name": "stdout",
     "output_type": "stream",
     "text": [
      "Iter  20\n",
      "CG time:  0.27057838439941406\n",
      "Number of iterations:  23\n",
      "5.73995687717e-06\n"
     ]
    }
   ],
   "source": [
    "# Time using conjugate gradient to get a single row of the moment sensitivity.\n",
    "import scipy as sp\n",
    "from scipy.sparse.linalg import LinearOperator\n",
    "\n",
    "elbo_inv_moment_jac = vb_results['elbo_inv_moment_jac']\n",
    "\n",
    "class OptimumHVP(object):\n",
    "    def __init__(self, glmm_par, opt_x, moment_jac):\n",
    "        self.verbose = False\n",
    "        self.print_every = 10\n",
    "        self.reset_iter()\n",
    "        self.opt_x = opt_x\n",
    "        self.moment_jac = moment_jac\n",
    "        self.lo = LinearOperator(\n",
    "            (glmm_par.free_size(), glmm_par.free_size()), self.hvp)\n",
    "        \n",
    "    def reset_iter(self):\n",
    "        self.iter = 0\n",
    "    \n",
    "    def hvp(self, vec):\n",
    "        self.iter += 1\n",
    "        if self.verbose and self.iter % self.print_every == 0:\n",
    "            print('Iter ', self.iter)\n",
    "        return objective.fun_free_hvp(self.opt_x, vec)\n",
    "    \n",
    "    def get_moment_sensitivity_row(self, moment_row):\n",
    "        self.reset_iter()\n",
    "        moment_jac_vec = moment_jac[moment_row, :].flatten()\n",
    "        cg_res, info = sp.sparse.linalg.cg(self.lo, moment_jac_vec)\n",
    "        return cg_res, info\n",
    "\n",
    "moment_row = 0\n",
    "optimum_hvp = OptimumHVP(glmm_par, opt_x, moment_jac)\n",
    "optimum_hvp.verbose = True\n",
    "optimum_hvp.print_every = 20\n",
    "cg_row_time = time.time()\n",
    "cg_res, info = optimum_hvp.get_moment_sensitivity_row(0)\n",
    "cg_row_time = time.time() - cg_row_time\n",
    "\n",
    "print('CG time: ', cg_row_time)\n",
    "print('Number of iterations: ', optimum_hvp.iter)\n",
    "\n",
    "print(np.max(np.abs(cg_res - elbo_inv_moment_jac[:, moment_row].flatten())))"
   ]
  },
  {
   "cell_type": "code",
   "execution_count": null,
   "metadata": {
    "collapsed": true
   },
   "outputs": [],
   "source": [
    "moment_indices = logit_glmm.MomentWrapper(glmm_par)\n",
    "moment_indices.moment_par.set_vector(np.arange(moment_indices.moment_par.vector_size()))\n",
    "\n",
    "global_indices = np.hstack(\n",
    "    [ moment_indices.moment_par['e_beta'].get(),\n",
    "      moment_indices.moment_par['e_mu'].get(),\n",
    "      moment_indices.moment_par['e_tau'].get(),\n",
    "      moment_indices.moment_par['e_log_tau'].get() ])\n",
    "\n",
    "optimum_hvp.verbose = False\n",
    "cg_time = time.time()\n",
    "global_elbo_inv_moment_jac = np.full((len(global_indices), glmm_par.free_size()), float('nan'))\n",
    "for moment_row in global_indices:\n",
    "    print('Moment row ', moment_row, ' of ', len(global_indices))\n",
    "    cg_row_time = time.time()\n",
    "    cg_res, info = optimum_hvp.get_moment_sensitivity_row(moment_row)\n",
    "    cg_row_time = time.time() - cg_row_time\n",
    "    print('Row time: ', cg_row_time)\n",
    "    global_elbo_inv_moment_jac[moment_row, :] = cg_res\n",
    "\n",
    "cg_time = time.time() - cg_time\n",
    "\n",
    "print('Done.  Time: ', cg_time)"
   ]
  },
  {
   "cell_type": "code",
   "execution_count": null,
   "metadata": {
    "collapsed": true
   },
   "outputs": [],
   "source": [
    "print(moment_jac.shape)\n",
    "\n",
    "# Check the accuracy.\n",
    "foo = elbo_inv_moment_jac[:, global_indices].T\n",
    "print(np.max(np.abs(global_elbo_inv_moment_jac - foo)))\n",
    "\n",
    "# Get the components of column vector vec orthogonal to and along the rows of matrix x.\n",
    "def projection_components(x, vec):\n",
    "    xtx = np.matmul(x, x.T)\n",
    "    vec_along = np.matmul(x.T, np.linalg.solve(xtx, np.matmul(x, vec)))\n",
    "    return vec - vec_along, vec_along\n",
    "    \n",
    "# Except for tau, most of the multiplications we need to do are orthogonal, so\n",
    "# I don't think you can use the results from one iteration to speed up the next.\n",
    "for i in range(1, 10):\n",
    "    vec_orth, vec_along = projection_components(moment_jac[0:i, :], moment_jac[i, :])    \n",
    "    print('i: ', i, ' Orthogonal: ', np.linalg.norm(vec_orth), ' Along: ', np.linalg.norm(vec_along))\n",
    "\n",
    "# plt.plot(global_elbo_inv_moment_jac.flatten(), foo.flatten(), 'k.')\n",
    "# plt.plot(foo.flatten(), foo.flatten(), 'r+')"
   ]
  },
  {
   "cell_type": "code",
   "execution_count": null,
   "metadata": {
    "collapsed": true
   },
   "outputs": [],
   "source": [
    "# Perhaps you can use a Schur complement and this trick to get the covariance of the\n",
    "# global parameters or, indeed, any select local parameters.\n",
    "\n",
    "hess_ind = 0\n",
    "\n",
    "id_vec = np.zeros_like(opt_x)\n",
    "id_vec[hess_ind] = 1\n",
    "hess_col = objective.fun_free_hvp(opt_x, id_vec)\n",
    "print(np.max(np.abs(hess_col + elbo_hess[hess_ind, :])))"
   ]
  }
 ],
 "metadata": {
  "kernelspec": {
   "display_name": "Python 3",
   "language": "python",
   "name": "python3"
  },
  "language_info": {
   "codemirror_mode": {
    "name": "ipython",
    "version": 3
   },
   "file_extension": ".py",
   "mimetype": "text/x-python",
   "name": "python",
   "nbconvert_exporter": "python",
   "pygments_lexer": "ipython3",
   "version": "3.5.2"
  }
 },
 "nbformat": 4,
 "nbformat_minor": 2
}
