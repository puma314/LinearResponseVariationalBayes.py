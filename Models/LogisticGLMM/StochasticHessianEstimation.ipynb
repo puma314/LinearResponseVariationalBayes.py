{
 "cells": [
  {
   "cell_type": "code",
   "execution_count": 1,
   "metadata": {
    "collapsed": true
   },
   "outputs": [],
   "source": [
    "import VariationalBayes as vb\n",
    "import LogisticGLMM_lib as logit_glmm\n",
    "import VariationalBayes.SparseObjectives as vb_sparse\n",
    "import VariationalBayes.ExponentialFamilies as ef\n",
    "\n",
    "import matplotlib.pyplot as plt\n",
    "%matplotlib inline\n",
    "\n",
    "import autograd\n",
    "import numpy as np\n",
    "import scipy as sp\n",
    "from scipy import sparse\n",
    "\n",
    "import copy\n",
    "from scipy import optimize\n",
    "\n",
    "import os\n",
    "import json\n",
    "\n",
    "import time\n",
    "\n",
    "import pickle\n",
    "\n",
    "from scikits.sparse.cholmod import cholesky\n",
    "\n",
    "\n",
    "#analysis_name = 'simulated_data_small'\n",
    "analysis_name = 'criteo_subsampled'\n",
    "\n",
    "data_dir = os.path.join(os.environ['GIT_REPO_LOC'],\n",
    "                        'LinearResponseVariationalBayes.py/Models/LogisticGLMM/data')\n"
   ]
  },
  {
   "cell_type": "code",
   "execution_count": 2,
   "metadata": {
    "collapsed": true
   },
   "outputs": [],
   "source": [
    "pickle_output_filename = os.path.join(data_dir, '%s_python_vb_results.pkl' % analysis_name)\n",
    "pkl_file = open(pickle_output_filename, 'rb')\n",
    "vb_data = pickle.load(pkl_file)\n",
    "\n",
    "json_filename = os.path.join(data_dir, '%s_stan_dat.json' % analysis_name)\n",
    "\n",
    "json_file = open(json_filename, 'r')\n",
    "json_dat = json.load(json_file)\n",
    "json_file.close()\n",
    "\n",
    "stan_dat = json_dat['stan_dat']\n",
    "\n",
    "K = stan_dat['K'][0]\n",
    "NObs = stan_dat['N'][0]\n",
    "NG = stan_dat['NG'][0]\n",
    "y_g_vec = np.array(stan_dat['y_group'])\n",
    "y_vec = np.array(stan_dat['y'])\n",
    "x_mat = np.array(stan_dat['x'])\n",
    "\n",
    "glmm_par = logit_glmm.get_glmm_parameters(K=K, NG=NG)\n",
    "\n",
    "# Define a class to contain prior parameters.\n",
    "prior_par = logit_glmm.get_default_prior_params(K)\n",
    "prior_par['beta_prior_mean'].set(np.array(stan_dat['beta_prior_mean']))\n",
    "\n",
    "prior_par['beta_prior_info'].set(np.array(stan_dat['beta_prior_info']))\n",
    "\n",
    "prior_par['mu_prior_mean'].set(stan_dat['mu_prior_mean'][0])\n",
    "prior_par['mu_prior_info'].set(stan_dat['mu_prior_info'][0])\n",
    "\n",
    "prior_par['tau_prior_alpha'].set(stan_dat['tau_prior_alpha'][0])\n",
    "prior_par['tau_prior_beta'].set(stan_dat['tau_prior_beta'][0])\n",
    "\n",
    "model = logit_glmm.LogisticGLMM(\n",
    "    glmm_par, prior_par, x_mat, y_vec, y_g_vec, num_gh_points=vb_data['num_gh_points'])\n",
    "\n",
    "model.glmm_par.set_free(vb_data['glmm_par_free'])\n",
    "kl_hess = vb_sparse.unpack_csr_matrix(vb_data['kl_hess_packed'])"
   ]
  },
  {
   "cell_type": "code",
   "execution_count": 5,
   "metadata": {},
   "outputs": [
    {
     "name": "stdout",
     "output_type": "stream",
     "text": [
      "Group 0 of 4999.\n",
      "Group 500 of 4999.\n",
      "Group 1000 of 4999.\n",
      "Group 1500 of 4999.\n",
      "Group 2000 of 4999.\n",
      "Group 2500 of 4999.\n",
      "Group 3000 of 4999.\n",
      "Group 3500 of 4999.\n",
      "Group 4000 of 4999.\n",
      "Group 4500 of 4999.\n"
     ]
    }
   ],
   "source": [
    "sp_kl_hess = \\\n",
    "    model.group_model.get_sparse_kl_vec_hessian(print_every_n=500) + \\\n",
    "    model.global_model.get_sparse_kl_vec_hessian()\n",
    "#kl_hess = np.asarray(sp_kl_hess.todense())"
   ]
  },
  {
   "cell_type": "code",
   "execution_count": 8,
   "metadata": {},
   "outputs": [],
   "source": [
    "#kl_hess_inv = np.linalg.inv(kl_hess)\n",
    "#sp_kl_hess_inv = sp.sparse.linalg.inv(sp_kl_hess)"
   ]
  },
  {
   "cell_type": "code",
   "execution_count": 9,
   "metadata": {},
   "outputs": [],
   "source": [
    "model.global_model.set_global_parameters()\n",
    "global_indices = model.global_model.global_indices.get_vector()\n",
    "\n",
    "def get_re_indices(g):\n",
    "    vec, ind = model.group_model.set_re_parameters([g])\n",
    "    return ind\n",
    "\n",
    "get_re_indices([2])\n",
    "\n",
    "all_re_indices = np.setdiff1d(np.arange(0, model.glmm_par.vector_size()), global_indices)\n",
    "\n",
    "global_ix = np.ix_(global_indices, global_indices)\n",
    "re_ix = np.ix_(all_re_indices, all_re_indices)\n",
    "cross_ix = np.ix_(global_indices, all_re_indices)\n",
    "\n",
    "# plt.matshow(kl_hess[np.ix_(all_re_indices, all_re_indices)]); plt.colorbar()\n",
    "# plt.matshow(kl_hess[np.ix_(global_indices, all_re_indices)]); plt.colorbar()\n",
    "# plt.matshow(kl_hess[np.ix_(global_indices, global_indices)]); plt.colorbar()"
   ]
  },
  {
   "cell_type": "code",
   "execution_count": 14,
   "metadata": {},
   "outputs": [
    {
     "name": "stderr",
     "output_type": "stream",
     "text": [
      "/usr/local/lib/python3.5/dist-packages/scipy/sparse/linalg/dsolve/linsolve.py:253: SparseEfficiencyWarning: splu requires CSC matrix format\n",
      "  warn('splu requires CSC matrix format', SparseEfficiencyWarning)\n"
     ]
    }
   ],
   "source": [
    "sp_kl_hess[global_ix]\n",
    "sp_kl_hess_inv_term = sp.sparse.linalg.spsolve(sp_kl_hess[re_ix], sp_kl_hess[cross_ix].T)"
   ]
  },
  {
   "cell_type": "code",
   "execution_count": 29,
   "metadata": {},
   "outputs": [
    {
     "name": "stderr",
     "output_type": "stream",
     "text": [
      "/usr/local/lib/python3.5/dist-packages/scipy/sparse/linalg/dsolve/linsolve.py:253: SparseEfficiencyWarning: splu requires CSC matrix format\n",
      "  warn('splu requires CSC matrix format', SparseEfficiencyWarning)\n",
      "/usr/local/lib/python3.5/dist-packages/scipy/sparse/linalg/dsolve/linsolve.py:171: SparseEfficiencyWarning: spsolve is more efficient when sparse b is in the CSC matrix format\n",
      "  'is in the CSC matrix format', SparseEfficiencyWarning)\n"
     ]
    }
   ],
   "source": [
    "global_schur_inv = sp_kl_hess[global_ix] - sp_kl_hess[cross_ix] * sp_kl_hess_inv_term\n",
    "global_schur = sp.sparse.linalg.inv(global_schur_inv)\n",
    "global_schur = np.asarray(global_schur.todense())\n",
    "#print(np.linalg.norm(global_schur - kl_hess_inv[global_ix]))"
   ]
  },
  {
   "cell_type": "code",
   "execution_count": 21,
   "metadata": {},
   "outputs": [
    {
     "name": "stdout",
     "output_type": "stream",
     "text": [
      "1 of 5000\n"
     ]
    },
    {
     "name": "stderr",
     "output_type": "stream",
     "text": [
      "/usr/local/lib/python3.5/dist-packages/scipy/sparse/linalg/dsolve/linsolve.py:253: SparseEfficiencyWarning: splu requires CSC matrix format\n",
      "  warn('splu requires CSC matrix format', SparseEfficiencyWarning)\n"
     ]
    },
    {
     "name": "stdout",
     "output_type": "stream",
     "text": [
      "501 of 5000\n",
      "1001 of 5000\n",
      "1501 of 5000\n",
      "2001 of 5000\n",
      "2501 of 5000\n",
      "3001 of 5000\n",
      "3501 of 5000\n",
      "4001 of 5000\n",
      "4501 of 5000\n",
      "Done\n"
     ]
    }
   ],
   "source": [
    "def get_schur_term(g):\n",
    "    g_re_ind = get_re_indices([g])\n",
    "    g_cross_ix = np.ix_(global_indices, g_re_ind)\n",
    "    g_re_ix = np.ix_(g_re_ind, g_re_ind)\n",
    "    sparse_result = sp_kl_hess[g_cross_ix] * \\\n",
    "                    sp.sparse.linalg.spsolve(sp_kl_hess[g_re_ix], sp_kl_hess[g_cross_ix].T)\n",
    "    return np.asarray(sparse_result.todense())\n",
    "    \n",
    "schur_terms = []\n",
    "for g in range(NG):\n",
    "    if g % 500 == 0:\n",
    "        print('{} of {}'.format(g + 1, NG))\n",
    "    schur_terms.append(get_schur_term(g))\n",
    "print('Done')\n"
   ]
  },
  {
   "cell_type": "code",
   "execution_count": 38,
   "metadata": {},
   "outputs": [
    {
     "name": "stdout",
     "output_type": "stream",
     "text": [
      "0.00103098899126\n"
     ]
    },
    {
     "data": {
      "text/plain": [
       "[<matplotlib.lines.Line2D at 0x7f7463cdeda0>]"
      ]
     },
     "execution_count": 38,
     "metadata": {},
     "output_type": "execute_result"
    },
    {
     "data": {
      "image/png": "[encoded data removed]",
      "text/plain": [
       "<matplotlib.figure.Figure at 0x7f7463d99240>"
      ]
     },
     "metadata": {},
     "output_type": "display_data"
    }
   ],
   "source": [
    "schur_terms = np.array(schur_terms)\n",
    "kl_hess_global = np.asarray(sp_kl_hess[global_ix].todense())\n",
    "global_schur_inv_terms = kl_hess_global - np.sum(schur_terms, axis=0)\n",
    "global_schur_terms = np.linalg.inv(global_schur_inv_terms)\n",
    "print(np.max(np.abs((global_schur_terms - global_schur))))\n",
    "plt.plot(global_schur_terms.flatten(), global_schur.flatten(), 'r+', markersize=10)\n",
    "plt.plot(global_schur_terms.flatten(), global_schur_terms.flatten(), 'k')"
   ]
  },
  {
   "cell_type": "code",
   "execution_count": 41,
   "metadata": {},
   "outputs": [
    {
     "name": "stdout",
     "output_type": "stream",
     "text": [
      "500 of 5000\n",
      "1000 of 5000\n",
      "1500 of 5000\n",
      "2000 of 5000\n",
      "2500 of 5000\n",
      "3000 of 5000\n",
      "3500 of 5000\n",
      "4000 of 5000\n",
      "4500 of 5000\n",
      "5000 of 5000\n"
     ]
    }
   ],
   "source": [
    "diff_list = []\n",
    "for num_g in range(1, NG + 1):\n",
    "    if num_g % 500 == 0:\n",
    "        print('{} of {}'.format(num_g, NG))\n",
    "    global_schur_inv = kl_hess_global - (NG / num_g) * np.sum(schur_terms[np.arange(0, num_g),:,:], axis=0)\n",
    "    global_schur = np.linalg.inv(global_schur_inv)\n",
    "    diff = global_schur - global_schur_terms\n",
    "    diff_list.append(diff)"
   ]
  },
  {
   "cell_type": "code",
   "execution_count": 42,
   "metadata": {},
   "outputs": [
    {
     "data": {
      "text/plain": [
       "<matplotlib.colorbar.Colorbar at 0x7f7460ebae48>"
      ]
     },
     "execution_count": 42,
     "metadata": {},
     "output_type": "execute_result"
    },
    {
     "data": {
      "image/png": "[encoded data removed]",
      "text/plain": [
       "<matplotlib.figure.Figure at 0x7f7460ea7c88>"
      ]
     },
     "metadata": {},
     "output_type": "display_data"
    }
   ],
   "source": [
    "plt.matshow(np.std(schur_terms, axis=0)); plt.colorbar()"
   ]
  },
  {
   "cell_type": "code",
   "execution_count": null,
   "metadata": {
    "scrolled": false
   },
   "outputs": [],
   "source": [
    "for ind in range(len(global_indices)):\n",
    "    plt.figure()\n",
    "    plt.plot([np.abs(diff[ind, ind]) for diff in diff_list], '.')"
   ]
  }
 ],
 "metadata": {
  "kernelspec": {
   "display_name": "Python 3",
   "language": "python",
   "name": "python3"
  },
  "language_info": {
   "codemirror_mode": {
    "name": "ipython",
    "version": 3
   },
   "file_extension": ".py",
   "mimetype": "text/x-python",
   "name": "python",
   "nbconvert_exporter": "python",
   "pygments_lexer": "ipython3",
   "version": "3.5.2"
  }
 },
 "nbformat": 4,
 "nbformat_minor": 2
}
