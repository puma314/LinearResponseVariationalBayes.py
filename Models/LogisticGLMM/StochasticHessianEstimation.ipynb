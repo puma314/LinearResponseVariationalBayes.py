{
 "cells": [
  {
   "cell_type": "code",
   "execution_count": 1,
   "metadata": {
    "collapsed": true
   },
   "outputs": [],
   "source": [
    "import VariationalBayes as vb\n",
    "import LogisticGLMM_lib as logit_glmm\n",
    "import VariationalBayes.SparseObjectives as vb_sparse\n",
    "import VariationalBayes.ExponentialFamilies as ef\n",
    "\n",
    "import matplotlib.pyplot as plt\n",
    "%matplotlib inline\n",
    "\n",
    "import autograd\n",
    "import numpy as np\n",
    "import scipy as sp\n",
    "from scipy import sparse\n",
    "\n",
    "import copy\n",
    "from scipy import optimize\n",
    "\n",
    "import os\n",
    "import json\n",
    "\n",
    "import time\n",
    "\n",
    "import pickle\n",
    "\n",
    "from scikits.sparse.cholmod import cholesky\n",
    "\n",
    "\n",
    "analysis_name = 'simulated_data_small'\n",
    "#analysis_name = 'criteo_subsampled'\n",
    "\n",
    "data_dir = os.path.join(os.environ['GIT_REPO_LOC'],\n",
    "                        'LinearResponseVariationalBayes.py/Models/LogisticGLMM/data')\n"
   ]
  },
  {
   "cell_type": "code",
   "execution_count": 6,
   "metadata": {
    "collapsed": true
   },
   "outputs": [],
   "source": [
    "pickle_output_filename = os.path.join(data_dir, '%s_python_vb_results.pkl' % analysis_name)\n",
    "pkl_file = open(pickle_output_filename, 'rb')\n",
    "vb_data = pickle.load(pkl_file)\n",
    "\n",
    "json_filename = os.path.join(data_dir, '%s_stan_dat.json' % analysis_name)\n",
    "\n",
    "json_file = open(json_filename, 'r')\n",
    "json_dat = json.load(json_file)\n",
    "json_file.close()\n",
    "\n",
    "stan_dat = json_dat['stan_dat']\n",
    "\n",
    "K = stan_dat['K'][0]\n",
    "NObs = stan_dat['N'][0]\n",
    "NG = stan_dat['NG'][0]\n",
    "y_g_vec = np.array(stan_dat['y_group'])\n",
    "y_vec = np.array(stan_dat['y'])\n",
    "x_mat = np.array(stan_dat['x'])\n",
    "\n",
    "glmm_par = logit_glmm.get_glmm_parameters(K=K, NG=NG)\n",
    "\n",
    "# Define a class to contain prior parameters.\n",
    "prior_par = logit_glmm.get_default_prior_params(K)\n",
    "prior_par['beta_prior_mean'].set(np.array(stan_dat['beta_prior_mean']))\n",
    "\n",
    "prior_par['beta_prior_info'].set(np.array(stan_dat['beta_prior_info']))\n",
    "\n",
    "prior_par['mu_prior_mean'].set(stan_dat['mu_prior_mean'][0])\n",
    "prior_par['mu_prior_info'].set(stan_dat['mu_prior_info'][0])\n",
    "\n",
    "prior_par['tau_prior_alpha'].set(stan_dat['tau_prior_alpha'][0])\n",
    "prior_par['tau_prior_beta'].set(stan_dat['tau_prior_beta'][0])\n",
    "\n",
    "model = logit_glmm.LogisticGLMM(\n",
    "    glmm_par, prior_par, x_mat, y_vec, y_g_vec, num_gh_points=vb_data['num_gh_points'])\n",
    "\n",
    "model.glmm_par.set_free(vb_data['glmm_par_free'])\n",
    "kl_hess = vb_sparse.unpack_csr_matrix(vb_data['kl_hess_packed'])"
   ]
  },
  {
   "cell_type": "code",
   "execution_count": 42,
   "metadata": {},
   "outputs": [
    {
     "name": "stdout",
     "output_type": "stream",
     "text": [
      "Group 0 of 99.\n",
      "Group 20 of 99.\n",
      "Group 40 of 99.\n",
      "Group 60 of 99.\n",
      "Group 80 of 99.\n"
     ]
    }
   ],
   "source": [
    "sp_kl_hess = \\\n",
    "    model.group_model.get_sparse_kl_vec_hessian(print_every_n=20) + \\\n",
    "    model.global_model.get_sparse_kl_vec_hessian()\n",
    "kl_hess = np.asarray(sp_kl_hess.todense())"
   ]
  },
  {
   "cell_type": "code",
   "execution_count": 44,
   "metadata": {
    "collapsed": true
   },
   "outputs": [],
   "source": [
    "kl_hess_inv = np.linalg.inv(kl_hess)"
   ]
  },
  {
   "cell_type": "code",
   "execution_count": 40,
   "metadata": {},
   "outputs": [],
   "source": [
    "model.global_model.set_global_parameters()\n",
    "global_indices = model.global_model.global_indices.get_vector()\n",
    "\n",
    "def get_re_indices(g):\n",
    "    vec, ind = model.group_model.set_re_parameters([g])\n",
    "    return ind\n",
    "\n",
    "get_re_indices([2])\n",
    "\n",
    "all_re_indices = np.setdiff1d(np.arange(0, model.glmm_par.vector_size()), global_indices)\n",
    "\n",
    "global_ix = np.ix_(global_indices, global_indices)\n",
    "re_ix = np.ix_(all_re_indices, all_re_indices)\n",
    "cross_ix = np.ix_(global_indices, all_re_indices)\n",
    "\n",
    "# plt.matshow(kl_hess[np.ix_(all_re_indices, all_re_indices)]); plt.colorbar()\n",
    "# plt.matshow(kl_hess[np.ix_(global_indices, all_re_indices)]); plt.colorbar()\n",
    "# plt.matshow(kl_hess[np.ix_(global_indices, global_indices)]); plt.colorbar()"
   ]
  },
  {
   "cell_type": "code",
   "execution_count": 50,
   "metadata": {},
   "outputs": [
    {
     "name": "stdout",
     "output_type": "stream",
     "text": [
      "3.70962809744e-10\n"
     ]
    }
   ],
   "source": [
    "global_schur_inv = kl_hess[global_ix] - \\\n",
    "    np.matmul(kl_hess[cross_ix],\n",
    "              np.linalg.solve(kl_hess[re_ix], kl_hess[cross_ix].T))\n",
    "global_schur = np.linalg.inv(global_schur_inv)\n",
    "print(np.linalg.norm(global_schur - kl_hess_inv[global_ix]))"
   ]
  },
  {
   "cell_type": "code",
   "execution_count": 57,
   "metadata": {},
   "outputs": [
    {
     "name": "stdout",
     "output_type": "stream",
     "text": [
      "8.21374294628e-10\n"
     ]
    }
   ],
   "source": [
    "def get_schur_term(g):\n",
    "    g_re_ind = get_re_indices([g])\n",
    "    g_cross_ix = np.ix_(global_indices, g_re_ind)\n",
    "    g_re_ix = np.ix_(g_re_ind, g_re_ind)\n",
    "    return np.matmul(kl_hess[g_cross_ix],\n",
    "                     np.linalg.solve(kl_hess[g_re_ix], kl_hess[g_cross_ix].T))\n",
    "\n",
    "schur_terms = np.sum(np.array([ get_schur_term(g) for g in range(NG) ]), axis=0)\n",
    "global_schur_inv = kl_hess[global_ix] - schur_terms\n",
    "global_schur = np.linalg.inv(global_schur_inv)\n",
    "print(np.linalg.norm(global_schur - kl_hess_inv[global_ix]))"
   ]
  }
 ],
 "metadata": {
  "kernelspec": {
   "display_name": "Python 3",
   "language": "python",
   "name": "python3"
  },
  "language_info": {
   "codemirror_mode": {
    "name": "ipython",
    "version": 3
   },
   "file_extension": ".py",
   "mimetype": "text/x-python",
   "name": "python",
   "nbconvert_exporter": "python",
   "pygments_lexer": "ipython3",
   "version": "3.5.2"
  }
 },
 "nbformat": 4,
 "nbformat_minor": 2
}
