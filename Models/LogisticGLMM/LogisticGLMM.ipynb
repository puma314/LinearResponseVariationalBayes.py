{
 "cells": [
  {
   "cell_type": "code",
   "execution_count": 1,
   "metadata": {},
   "outputs": [],
   "source": [
    "import VariationalBayes as vb\n",
    "import LogisticGLMM_lib as logit_glmm\n",
    "from VariationalBayes.SparseObjectives import \\\n",
    "    Objective, SparseObjective, pack_csr_matrix\n",
    "\n",
    "import matplotlib.pyplot as plt\n",
    "%matplotlib inline\n",
    "\n",
    "import numpy as np\n",
    "\n",
    "import autograd\n",
    "\n",
    "import copy\n",
    "from scipy import optimize\n",
    "\n",
    "import os\n",
    "import json\n",
    "\n",
    "import time\n",
    "\n",
    "import pickle\n"
   ]
  },
  {
   "cell_type": "code",
   "execution_count": 2,
   "metadata": {},
   "outputs": [
    {
     "name": "stdout",
     "output_type": "stream",
     "text": [
      "dict_keys(['beta_prior_mean', 'mu_prior_mean', 'mu_prior_info', 'tau_prior_alpha', 'tau_prior_beta', 'NG', 'N', 'x', 'K', 'y', 'y_group', 'beta_prior_info'])\n",
      "0.324\n"
     ]
    }
   ],
   "source": [
    "# Load data saved by stan_results_to_json.R and run_stan.R in LRVBLogitGLMM.\n",
    "\n",
    "simulate_data = False\n",
    "\n",
    "if not simulate_data:\n",
    "    analysis_name = 'simulated_data_small'\n",
    "    #analysis_name = 'simulated_data_large'\n",
    "    #analysis_name = 'criteo_subsampled'\n",
    "\n",
    "    data_dir = os.path.join(os.environ['GIT_REPO_LOC'],\n",
    "                            'LinearResponseVariationalBayes.py/Models/LogisticGLMM/data')\n",
    "    json_filename = os.path.join(data_dir, '%s_stan_dat.json' % analysis_name)\n",
    "    y_g_vec, y_vec, x_mat, glmm_par, prior_par = logit_glmm.load_json_data(json_filename)\n",
    "    \n",
    "    K = x_mat.shape[1]\n",
    "    NG = np.max(y_g_vec) + 1\n",
    "\n",
    "else:\n",
    "    # Generate data\n",
    "    N = 200     # observations per group\n",
    "    K = 5      # dimension of regressors\n",
    "    NG = 200      # number of groups\n",
    "\n",
    "    true_beta = np.array(range(5))\n",
    "    true_beta = true_beta - np.mean(true_beta)\n",
    "    true_mu = 0.\n",
    "    true_tau = 40.0\n",
    "\n",
    "    x_mat, y_g_vec, y_vec, true_rho, true_u = \\\n",
    "        logit_glmm.simulate_data(N, NG, true_beta, true_mu, true_tau)\n",
    "    prior_par = logit_glmm.get_default_prior_params(K)\n",
    "    glmm_par = logit_glmm.get_glmm_parameters(K=K, NG=NG)\n",
    "\n",
    "\n",
    "print(np.mean(y_vec))"
   ]
  },
  {
   "cell_type": "code",
   "execution_count": 3,
   "metadata": {
    "collapsed": true
   },
   "outputs": [],
   "source": [
    "# Initialize.\n",
    "\n",
    "if False:\n",
    "    # Slightly smarter inits would probably improve fit time, but as of now it doesn't\n",
    "    # seem worth explaining in the paper.\n",
    "    import pandas as pd\n",
    "    #print(glmm_par)\n",
    "\n",
    "    x_t_x = np.matmul(x_mat.transpose(), x_mat)\n",
    "    x_t_y = np.matmul(x_mat.transpose(), y_vec)\n",
    "    beta_init = np.linalg.solve(x_t_x, x_t_y)\n",
    "    #print(beta_init)\n",
    "    #plt.plot(sp.special.expit(np.matmul(x_mat, beta_init)), y_vec, 'k.')\n",
    "\n",
    "    df = pd.DataFrame({ 'y_g': y_g_vec, 'y': y_vec}).groupby('y_g')\n",
    "    #print(df.sum())\n",
    "    u_init = np.array(df.sum()) / np.array(df.count()['y'])\n",
    "    #plt.figure()\n",
    "    print(np.min(y_g_vec))\n",
    "    #plt.plot(u_init[y_g_vec], y_vec, 'k.')\n",
    "\n",
    "glmm_par['mu'].mean.set(0.0)\n",
    "glmm_par['mu'].info.set(1.0)\n",
    "\n",
    "glmm_par['tau'].shape.set(2.0)\n",
    "glmm_par['tau'].rate.set(2.0)\n",
    "\n",
    "glmm_par['beta'].mean.set(np.full(K, 0.0))\n",
    "#glmm_par['beta'].info.set(np.eye(K))\n",
    "glmm_par['beta'].info.set(np.ones(K))\n",
    "\n",
    "glmm_par['u'].mean.set(np.full(NG, 0.0))\n",
    "glmm_par['u'].info.set(np.full(NG, 1.0))\n",
    "\n",
    "free_par_vec = glmm_par.get_free()\n",
    "init_par_vec = copy.deepcopy(free_par_vec)\n"
   ]
  },
  {
   "cell_type": "code",
   "execution_count": 4,
   "metadata": {
    "collapsed": true
   },
   "outputs": [],
   "source": [
    "# Define moment parameters\n",
    "moment_wrapper = logit_glmm.MomentWrapper(glmm_par)\n",
    "get_moment_jacobian = autograd.jacobian(moment_wrapper.get_moment_vector)\n",
    "moment_jac = get_moment_jacobian(init_par_vec)\n"
   ]
  },
  {
   "cell_type": "code",
   "execution_count": 5,
   "metadata": {},
   "outputs": [
    {
     "name": "stdout",
     "output_type": "stream",
     "text": [
      "num_draws =  3\n",
      "\tFunction time: 0.0010694685974158348\n",
      "\tGrad time: 0.006684936699457467\n",
      "\tHessian vector product time: 0.012259979697410018\n",
      "\tPrior hess time:  0.07172441482543945\n"
     ]
    }
   ],
   "source": [
    "model = logit_glmm.LogisticGLMM(glmm_par, prior_par, x_mat, y_vec, y_g_vec, num_gh_points=4)\n",
    "model.get_e_log_prior()\n",
    "model.get_log_lik()\n",
    "model.get_entropy()\n",
    "\n",
    "objective = Objective(model.glmm_par, model.get_kl)\n",
    "objective.fun_free(free_par_vec)\n",
    "\n",
    "# # PriorHess evaluates the second order derivative d2 EPrior / dpar dprior_par\n",
    "def get_e_log_prior(prior_vec, free_par):\n",
    "    model.glmm_par.set_free(free_par)\n",
    "    model.prior_par.set_vector(prior_vec)\n",
    "    return model.get_e_log_prior()\n",
    "\n",
    "get_prior_model_grad = autograd.grad(get_e_log_prior, argnum=0)\n",
    "get_prior_hess = autograd.jacobian(get_prior_model_grad, argnum=1)\n",
    "\n",
    "import timeit\n",
    "\n",
    "time_num = 10\n",
    "\n",
    "num_draws = 3\n",
    "model.set_gh_points(num_draws)\n",
    "print('num_draws = ', num_draws)\n",
    "print('\\tFunction time:',\n",
    "      timeit.timeit(lambda: objective.fun_free(free_par_vec), number=time_num) / time_num)\n",
    "\n",
    "print('\\tGrad time:', \n",
    "      timeit.timeit(lambda: objective.fun_free_grad(free_par_vec), number=time_num) / time_num)\n",
    "\n",
    "print('\\tHessian vector product time:',\n",
    "      timeit.timeit(lambda: objective.fun_free_hvp(free_par_vec, free_par_vec + 1), number=time_num) / time_num)\n",
    "\n",
    "prior_vec = model.prior_par.get_vector()\n",
    "prior_hess_time = time.time()\n",
    "get_prior_hess(prior_vec, init_par_vec)\n",
    "prior_hess_time = time.time() - prior_hess_time\n",
    "print('\\tPrior hess time: ', prior_hess_time)\n"
   ]
  },
  {
   "cell_type": "code",
   "execution_count": 6,
   "metadata": {
    "collapsed": true
   },
   "outputs": [],
   "source": [
    "glmm_par_opt = copy.deepcopy(glmm_par)\n",
    "def tr_optimize(trust_init, num_gh_points, gtol=1e-6, maxiter=500):\n",
    "    model.set_gh_points(num_gh_points)\n",
    "    objective.logger.initialize()\n",
    "    objective.logger.print_every = 5\n",
    "    vb_opt = optimize.minimize(\n",
    "        lambda par: objective.fun_free(par, verbose=True),\n",
    "        x0=trust_init,\n",
    "        method='trust-ncg',\n",
    "        jac=objective.fun_free_grad,\n",
    "        hessp=objective.fun_free_hvp,\n",
    "        tol=1e-6, options={'maxiter': maxiter, 'disp': True, 'gtol': gtol })\n",
    "    return vb_opt.x\n",
    "\n",
    "def get_moment_vec(vb_opt_x):\n",
    "    glmm_par_opt.set_free(vb_opt_x)\n",
    "    set_moments(glmm_par_opt, moment_par)\n",
    "    return moment_par.get_vector()\n"
   ]
  },
  {
   "cell_type": "code",
   "execution_count": 7,
   "metadata": {
    "scrolled": false
   },
   "outputs": [
    {
     "name": "stdout",
     "output_type": "stream",
     "text": [
      "Running Newton Trust Region.\n",
      "Iter  0  value:  1034.44059918\n",
      "\tx_diff:  inf\n",
      "Iter  5  value:  235.257298461\n",
      "\tx_diff:  1.33334382258\n",
      "Iter  10  value:  72.6398068113\n",
      "\tx_diff:  1.49037294097\n",
      "Iter  15  value:  69.409569197\n",
      "\tx_diff:  0.068452021885\n",
      "Optimization terminated successfully.\n",
      "         Current function value: 69.407873\n",
      "         Iterations: 19\n",
      "         Function evaluations: 20\n",
      "         Gradient evaluations: 20\n",
      "         Hessian evaluations: 0\n",
      "VB time:  2.3033652305603027\n",
      "Done.\n"
     ]
    }
   ],
   "source": [
    "# Optimize.\n",
    "\n",
    "print('Running Newton Trust Region.')\n",
    "num_gh_points = 4\n",
    "vb_time = time.time()\n",
    "opt_x = tr_optimize(init_par_vec, num_gh_points, gtol=1e-6, maxiter=500)\n",
    "vb_time = time.time() - vb_time\n",
    "\n",
    "print('VB time: ', vb_time)\n",
    "print('Done.')"
   ]
  },
  {
   "cell_type": "code",
   "execution_count": 8,
   "metadata": {
    "collapsed": true
   },
   "outputs": [],
   "source": [
    "\n",
    "glmm_par.set_free(opt_x)\n",
    "if simulate_data:\n",
    "    print('Fit beta: ', glmm_par['beta'].e())\n",
    "    print('True beta: ', true_beta)\n",
    "    \n",
    "    print('Fit mu: ', glmm_par['mu'].e())\n",
    "    print('True mu: ', true_mu)\n",
    "    \n",
    "    print('Fit tau: ', glmm_par['tau'].e())\n",
    "    print('True tau: ', true_tau)\n",
    "    \n",
    "    plt.plot(true_u, true_u, 'r.')\n",
    "    plt.plot(true_u, glmm_par['u'].e(), 'k.')\n",
    "    "
   ]
  },
  {
   "cell_type": "code",
   "execution_count": 9,
   "metadata": {},
   "outputs": [
    {
     "name": "stdout",
     "output_type": "stream",
     "text": [
      "VB time:  2.3033652305603027\n",
      "[ 0.72808542  1.89807706  3.30921453  4.19010817  5.24256281]\n",
      "GLMM Parameters:\n",
      "\tmu:\n",
      "mu_mean: [-3.58726387]\n",
      "mu_info: [ 101.79778182]\n",
      "\ttau:\n",
      "tau_shape: [ 53.]\n",
      "tau_rate: [ 52.06911778]\n",
      "\tbeta:\n",
      "beta_mean:\n",
      "[ 0.72808542  1.89807706  3.30921453  4.19010817  5.24256281]\n",
      "beta_info:\n",
      "[ 19.89797848  19.93550981  14.07405886  15.78453625  13.43869674]\n",
      "\tu:\n",
      "u_mean:\n",
      "[-3.07304073 -3.57646071 -3.7791838  -4.44366275 -3.51762941 -3.88706906\n",
      " -3.69985985 -3.76609831 -2.73986117 -3.47784522 -2.78587645 -3.27133411\n",
      " -3.71936898 -3.7974952  -3.59128081 -3.06523949 -3.30457884 -4.17338945\n",
      " -3.80209026 -3.03252421 -2.59012987 -3.66009584 -3.65781285 -4.55794505\n",
      " -3.2410674  -4.2917967  -3.65010274 -3.59102336 -3.26594785 -2.95183154\n",
      " -3.55973812 -3.22134048 -3.51683058 -3.91246447 -3.18961261 -5.26932803\n",
      " -3.75643143 -3.80160914 -3.99667242 -3.37721689 -3.71338164 -3.50024497\n",
      " -2.90663555 -4.46218528 -4.199366   -4.08786128 -3.04806831 -3.73155779\n",
      " -3.18446567 -3.52520178 -3.37920465 -4.01946363 -3.26436553 -3.72584532\n",
      " -3.47426887 -2.71701019 -3.19521972 -4.04141459 -4.71976237 -3.18234407\n",
      " -3.45067466 -3.57153148 -3.59599246 -3.32264705 -3.5547523  -2.33582933\n",
      " -3.88580276 -3.84494179 -2.44914761 -3.67911093 -3.8016754  -4.03630476\n",
      " -3.46745454 -5.00337592 -3.94097531 -2.92528236 -3.86035062 -3.11281452\n",
      " -3.77732789 -4.1651663  -3.19074528 -4.28795542 -3.92687392 -3.21531754\n",
      " -3.69542462 -3.18509589 -3.58712985 -2.54078609 -3.90993205 -4.35996602\n",
      " -3.58585055 -4.09306922 -3.014514   -3.16985326 -3.82135058 -3.66975743\n",
      " -3.63426784 -3.8180538  -3.54079917 -3.09297566]\n",
      "u_info:\n",
      "[ 1.35636426  1.20190044  1.89714688  1.29279505  1.60679036  1.27851292\n",
      "  1.12989534  1.17834698  1.35790429  1.34329245  1.41313127  1.32283962\n",
      "  1.41826746  1.56945631  1.04229569  1.6581401   1.28595606  1.23729945\n",
      "  1.26631431  1.26711526  1.65063123  1.12349218  1.90262541  1.26166383\n",
      "  1.50579454  1.34062478  1.6147107   1.31890982  1.25231812  1.5265059\n",
      "  1.55870337  1.40552752  1.54646972  1.25514495  1.33566284  1.66948807\n",
      "  1.19601725  1.20885232  1.22714855  1.33822562  1.17165868  1.30857204\n",
      "  1.51209655  1.43204516  1.57527955  1.3917417   1.9652969   1.68140473\n",
      "  1.44914982  1.16977776  1.46247426  1.57465103  1.85379618  1.45754811\n",
      "  1.50394796  1.67476965  1.4135988   1.73986976  1.31300292  1.35813061\n",
      "  1.58803658  1.23583302  1.02840845  1.60579395  1.47154301  1.38853098\n",
      "  1.36445499  1.51222244  1.81901891  1.21681478  1.71087338  1.69737626\n",
      "  1.45338107  1.52209307  1.49522474  1.54743091  1.6168951   1.80122212\n",
      "  1.19671579  1.37766115  1.29925444  1.26720242  1.46675835  1.35541513\n",
      "  1.48545497  1.3151878   1.41546446  1.53031341  1.24894817  1.22408512\n",
      "  1.52614739  1.32935735  1.50173166  1.26894511  1.41172514  1.54684913\n",
      "  1.52474936  1.62858239  1.60411893  1.5853451 ]\n"
     ]
    },
    {
     "data": {
      "text/plain": [
       "<matplotlib.text.Text at 0x7f87022edf98>"
      ]
     },
     "execution_count": 9,
     "metadata": {},
     "output_type": "execute_result"
    },
    {
     "data": {
      "image/png": "[encoded data removed]",
      "text/plain": [
       "<matplotlib.figure.Figure at 0x7f870440cd30>"
      ]
     },
     "metadata": {},
     "output_type": "display_data"
    },
    {
     "data": {
      "image/png": "[encoded data removed]",
      "text/plain": [
       "<matplotlib.figure.Figure at 0x7f8747dd58d0>"
      ]
     },
     "metadata": {},
     "output_type": "display_data"
    }
   ],
   "source": [
    "print('VB time: ', vb_time)\n",
    "\n",
    "import scipy as sp\n",
    "\n",
    "glmm_par_opt = copy.deepcopy(glmm_par)\n",
    "glmm_par_opt.set_free(opt_x)\n",
    "#glmm_par_opt.set_free(init_par_vec)\n",
    "print(glmm_par_opt['beta'].e())\n",
    "print(glmm_par_opt)\n",
    "\n",
    "#plt.plot(glmm_par_opt['u'].e(), glmm_par_opt['u'].var(), 'k.')\n",
    "\n",
    "e_beta = glmm_par_opt['beta'].e()\n",
    "e_u = glmm_par_opt['u'].e()[model.y_g_vec]\n",
    "\n",
    "z_mean = e_u + np.matmul(model.x_mat, e_beta)\n",
    "#plt.plot(sp.special.expit(z_mean), model.y_vec, 'k.')\n",
    "\n",
    "plt.figure()\n",
    "plt.hist(z_mean[model.y_vec == 1], 50, normed=1, facecolor='green', alpha=0.75)\n",
    "plt.title('y == 1')\n",
    "\n",
    "plt.figure()\n",
    "plt.hist(z_mean[model.y_vec == 0], 50, normed=1, facecolor='green', alpha=0.75)\n",
    "plt.title('y == 0')\n",
    "\n",
    "\n"
   ]
  },
  {
   "cell_type": "code",
   "execution_count": 10,
   "metadata": {
    "collapsed": true
   },
   "outputs": [],
   "source": [
    "# # In case you want to save without calculating the Hessian, instantiate them here\n",
    "if False:\n",
    "    hess_time = 0.\n",
    "    log_prior_hess = np.array([0.])\n",
    "    elbo_hess = np.array([0.])\n",
    "    moment_jac = np.array([0.])\n",
    "    lrvb_cov = np.array([0.])"
   ]
  },
  {
   "cell_type": "code",
   "execution_count": 11,
   "metadata": {
    "scrolled": false
   },
   "outputs": [
    {
     "name": "stdout",
     "output_type": "stream",
     "text": [
      "KL Hessian...\n",
      "\n",
      "Calculating global hessian:\n",
      "Group 1 of 0\n",
      "Done.\n",
      "Calculating local hessian:\n",
      "Group 20 of 99\n",
      "Group 40 of 99\n",
      "Group 60 of 99\n",
      "Group 80 of 99\n",
      "Group 100 of 99\n",
      "Done.\n",
      "Log prior Hessian...\n",
      "\n",
      "hess_time: 9.096168\n"
     ]
    },
    {
     "name": "stderr",
     "output_type": "stream",
     "text": [
      "/home/rgiordan/Documents/git_repos/autograd/autograd/core.py:14: UserWarning: Output seems independent of input.\n",
      "  warnings.warn(\"Output seems independent of input.\")\n"
     ]
    }
   ],
   "source": [
    "# Get the Hessians at the number of draws used for optimization\n",
    "sparse_model = logit_glmm.SparseModelObjective(\n",
    "    glmm_par, prior_par, x_mat, y_vec, y_g_vec, num_gh_points, num_groups=1)\n",
    "sparse_model.glmm_par.set_free(opt_x)\n",
    "\n",
    "hess_time = time.time()\n",
    "print('KL Hessian...\\n')\n",
    "#kl_hess = objective.fun_free_hessian(opt_x)\n",
    "sparse_vector_hess = \\\n",
    "    sparse_model.get_sparse_vector_hessian(print_every_n=20)\n",
    "elbo_hess = sparse_model.get_free_hessian(sparse_vector_hess)\n",
    "\n",
    "print('Log prior Hessian...\\n')\n",
    "log_prior_hess = get_prior_hess(prior_par.get_vector(), opt_x)\n",
    "\n",
    "moment_jac = get_moment_jacobian(opt_x)\n",
    "\n",
    "hess_time =  time.time() - hess_time\n",
    "\n",
    "print('hess_time: %f' % hess_time)"
   ]
  },
  {
   "cell_type": "code",
   "execution_count": 12,
   "metadata": {},
   "outputs": [
    {
     "data": {
      "text/plain": [
       "(array([  -3.58726387,  101.79778182,   53.        ,   52.06911778,\n",
       "           0.72808542,    1.89807706,    3.30921453,    4.19010817,\n",
       "           5.24256281,   19.89797848,   19.93550981,   14.07405886,\n",
       "          15.78453625,   13.43869674,   -3.80209026,    1.26631431]),\n",
       " array([  0,   1,   2,   3,   4,   5,   6,   7,   8,   9,  10,  11,  12,\n",
       "         13,  32, 132]))"
      ]
     },
     "execution_count": 12,
     "metadata": {},
     "output_type": "execute_result"
    }
   ],
   "source": [
    "sparse_model.set_group_parameters([18])"
   ]
  },
  {
   "cell_type": "code",
   "execution_count": 13,
   "metadata": {},
   "outputs": [
    {
     "name": "stdout",
     "output_type": "stream",
     "text": [
      "Solving systems...\n",
      "\n",
      "Done\n",
      "\n",
      "Inverse time: 0.025464773178100586\n"
     ]
    }
   ],
   "source": [
    "print('Solving systems...\\n')\n",
    "inverse_time = time.time()\n",
    "#lrvb_cov = -1 * np.matmul(moment_jac, np.linalg.solve(elbo_hess, moment_jac.T))\n",
    "elbo_inv_moment_jac = -1 * sp.sparse.linalg.spsolve(elbo_hess, moment_jac.T)\n",
    "lrvb_cov = np.matmul(moment_jac, elbo_inv_moment_jac)\n",
    "vb_prior_sens = np.matmul(log_prior_hess, elbo_inv_moment_jac).T\n",
    "inverse_time = time.time() - inverse_time\n",
    "print('Done\\n')\n",
    "\n",
    "print('Inverse time:', inverse_time)"
   ]
  },
  {
   "cell_type": "code",
   "execution_count": 41,
   "metadata": {},
   "outputs": [],
   "source": [
    "# Sanity check\n",
    "#full_elbo_hess = objective.fun_free_hessian(opt_x)\n",
    "sparse_model.glmm_par.set_free(opt_x)\n",
    "full_vec_elbo_hess = objective.fun_vector_hessian(sparse_model.glmm_par.get_vector())"
   ]
  },
  {
   "cell_type": "code",
   "execution_count": 42,
   "metadata": {},
   "outputs": [
    {
     "name": "stdout",
     "output_type": "stream",
     "text": [
      "[ 1299.43004945]\n",
      "69.4078730719\n",
      "[ 1230.02217637]\n"
     ]
    }
   ],
   "source": [
    "# Test the sparse objectives.\n",
    "sparse_model.glmm_par.set_free(opt_x)\n",
    "\n",
    "sparse_model.set_global_parameters()\n",
    "sparse_kl = -1 * sparse_model.get_global_elbo()\n",
    "for g in range(NG):\n",
    "    sparse_model.set_group_parameters([g])\n",
    "    group_elbo = sparse_model.get_group_elbo([g])\n",
    "    sparse_kl -= group_elbo\n",
    "    \n",
    "print(sparse_kl)\n",
    "print(objective.fun_free(opt_x))\n",
    "print(sparse_kl - objective.fun_free(opt_x))"
   ]
  },
  {
   "cell_type": "code",
   "execution_count": 43,
   "metadata": {},
   "outputs": [
    {
     "name": "stdout",
     "output_type": "stream",
     "text": [
      "0.0\n",
      "0\n",
      "0\n"
     ]
    }
   ],
   "source": [
    "# Test get_data_for_groups\n",
    "g = 2\n",
    "group_rows, y_g_select = sparse_model.get_data_for_groups([g])\n",
    "print(np.max(np.abs(x_mat[group_rows, :] - x_mat[y_g_vec == g, :])))\n",
    "print(np.max(np.abs(y_vec[group_rows] - y_vec[y_g_vec == g])))\n",
    "print(len(y_g_select) - sum(group_rows))"
   ]
  },
  {
   "cell_type": "code",
   "execution_count": 49,
   "metadata": {},
   "outputs": [
    {
     "name": "stdout",
     "output_type": "stream",
     "text": [
      "178.669730774\n"
     ]
    },
    {
     "data": {
      "text/plain": [
       "<matplotlib.colorbar.Colorbar at 0x7f8701288898>"
      ]
     },
     "execution_count": 49,
     "metadata": {},
     "output_type": "execute_result"
    },
    {
     "data": {
      "image/png": "[encoded data removed]",
      "text/plain": [
       "<matplotlib.figure.Figure at 0x7f8701a9fb00>"
      ]
     },
     "metadata": {},
     "output_type": "display_data"
    },
    {
     "data": {
      "image/png": "[encoded data removed]",
      "text/plain": [
       "<matplotlib.figure.Figure at 0x7f8701555d68>"
      ]
     },
     "metadata": {},
     "output_type": "display_data"
    },
    {
     "data": {
      "image/png": "[encoded data removed]",
      "text/plain": [
       "<matplotlib.figure.Figure at 0x7f87014cecc0>"
      ]
     },
     "metadata": {},
     "output_type": "display_data"
    },
    {
     "data": {
      "image/png": "[encoded data removed]",
      "text/plain": [
       "<matplotlib.figure.Figure at 0x7f87013f4b70>"
      ]
     },
     "metadata": {},
     "output_type": "display_data"
    },
    {
     "data": {
      "image/png": "[encoded data removed]",
      "text/plain": [
       "<matplotlib.figure.Figure at 0x7f8701385cc0>"
      ]
     },
     "metadata": {},
     "output_type": "display_data"
    },
    {
     "data": {
      "image/png": "[encoded data removed]",
      "text/plain": [
       "<matplotlib.figure.Figure at 0x7f870132ec88>"
      ]
     },
     "metadata": {},
     "output_type": "display_data"
    }
   ],
   "source": [
    "# print(np.max(np.abs(full_elbo_hess - elbo_hess)))\n",
    "# plt.plot(full_elbo_hess.flatten(), np.squeeze(elbo_hess.todense().flatten()).T, 'k.')\n",
    "\n",
    "print(np.max(np.abs(full_vec_elbo_hess + sparse_vector_hess)))\n",
    "#plt.plot(full_vec_elbo_hess.flatten(), np.squeeze(sparse_vector_hess.todense().flatten()).T, 'k.')\n",
    "\n",
    "# plt.matshow(sparse_vector_hess.todense()); plt.colorbar()\n",
    "# plt.matshow(full_vec_elbo_hess); plt.colorbar()\n",
    "plt.matshow((full_vec_elbo_hess + sparse_vector_hess.todense())[0:30, 0:30]); plt.colorbar()\n",
    "plt.matshow((full_vec_elbo_hess + sparse_vector_hess.todense())[50:70, 50:70]); plt.colorbar()\n",
    "\n",
    "plt.matshow(-1 * sparse_vector_hess.todense()[0:30, 0:30]); plt.colorbar()\n",
    "plt.matshow(full_vec_elbo_hess[0:30, 0:30]); plt.colorbar()\n",
    "\n",
    "plt.matshow(-1 * sparse_vector_hess.todense()[50:70, 50:70]); plt.colorbar()\n",
    "plt.matshow(full_vec_elbo_hess[50:70, 50:70]); plt.colorbar()"
   ]
  },
  {
   "cell_type": "code",
   "execution_count": 16,
   "metadata": {},
   "outputs": [
    {
     "name": "stdout",
     "output_type": "stream",
     "text": [
      "/home/rgiordan/Documents/git_repos/LinearResponseVariationalBayes.py/Models/LogisticGLMM/data/simulated_data_small_python_vb_results.pkl\n",
      "\n",
      "\n",
      "DONE.\n"
     ]
    }
   ],
   "source": [
    "if not simulate_data:\n",
    "    # Write the result to a JSON file for use in R.\n",
    "    \n",
    "    run_name = 'production'\n",
    "    \n",
    "    pickle_output_filename = os.path.join(data_dir, '%s_python_vb_results.pkl' % analysis_name)\n",
    "    pickle_output = open(pickle_output_filename, 'wb')\n",
    "\n",
    "    # Unlike with JSON, numpy arrays can be pickled.\n",
    "    pickle_result_dict = {  'glmm_par_dictval': glmm_par_opt.dictval(),\n",
    "                            'glmm_par_vector': glmm_par_opt.get_vector(),\n",
    "                            'glmm_par_free': glmm_par_opt.get_free(),\n",
    "                            'run_name': run_name,\n",
    "                            'vb_time': vb_time,\n",
    "                            'hess_time': hess_time,\n",
    "                            'inverse_time': inverse_time,\n",
    "                            'num_gh_points': num_gh_points, \n",
    "                            'lrvb_cov': np.squeeze(lrvb_cov),\n",
    "                            'moment_jac': np.squeeze(moment_jac),\n",
    "                            'elbo_hess_packed': pack_csr_matrix(elbo_hess),\n",
    "                            'vb_prior_sens': np.squeeze(vb_prior_sens),\n",
    "                            'log_prior_hess': np.squeeze(log_prior_hess) }\n",
    "\n",
    "    # Pickle dictionary using protocol 0.\n",
    "    pickle.dump(pickle_result_dict, pickle_output)\n",
    "    pickle_output.close()\n",
    "    \n",
    "    print(pickle_output_filename)\n",
    "\n",
    "\n",
    "print('\\n\\nDONE.')\n",
    "    "
   ]
  }
 ],
 "metadata": {
  "kernelspec": {
   "display_name": "Python 3",
   "language": "python",
   "name": "python3"
  },
  "language_info": {
   "codemirror_mode": {
    "name": "ipython",
    "version": 3
   },
   "file_extension": ".py",
   "mimetype": "text/x-python",
   "name": "python",
   "nbconvert_exporter": "python",
   "pygments_lexer": "ipython3",
   "version": "3.5.2"
  }
 },
 "nbformat": 4,
 "nbformat_minor": 1
}
