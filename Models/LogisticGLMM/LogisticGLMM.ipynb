{
 "cells": [
  {
   "cell_type": "code",
   "execution_count": 1,
   "metadata": {
    "collapsed": true
   },
   "outputs": [],
   "source": [
    "import VariationalBayes as vb\n",
    "import LogisticGLMM_lib as logit_glmm\n",
    "from VariationalBayes.SparseObjectives import Objective, SparseObjective\n",
    "\n",
    "import matplotlib.pyplot as plt\n",
    "%matplotlib inline\n",
    "\n",
    "import numpy as np\n",
    "\n",
    "import autograd\n",
    "\n",
    "import copy\n",
    "from scipy import optimize\n",
    "\n",
    "import os\n",
    "import json\n",
    "\n",
    "import time\n",
    "\n",
    "import pickle\n"
   ]
  },
  {
   "cell_type": "code",
   "execution_count": 2,
   "metadata": {},
   "outputs": [
    {
     "name": "stdout",
     "output_type": "stream",
     "text": [
      "dict_keys(['mu_prior_var_c', 'mu_prior_epsilon', 'mu_prior_t', 'tau_prior_beta', 'y_group', 'x', 'y', 'K', 'tau_prior_alpha', 'beta_prior_var', 'mu_prior_mean', 'NG', 'beta_prior_mean', 'mu_prior_mean_c', 'mu_prior_var', 'N'])\n",
      "0.324\n"
     ]
    }
   ],
   "source": [
    "# Load data saved by stan_results_to_json.R and run_stan.R in LRVBLogitGLMM.\n",
    "\n",
    "simulate_data = False\n",
    "\n",
    "if not simulate_data:\n",
    "    analysis_name = 'simulated_data_small'\n",
    "    #analysis_name = 'simulated_data_large'\n",
    "    #analysis_name = 'criteo_subsampled'\n",
    "\n",
    "    data_dir = os.path.join(os.environ['GIT_REPO_LOC'],\n",
    "                            'LinearResponseVariationalBayes.py/Models/LogisticGLMM/data')\n",
    "    json_filename = os.path.join(data_dir, '%s_stan_dat.json' % analysis_name)\n",
    "\n",
    "    json_file = open(json_filename, 'r')\n",
    "    json_dat = json.load(json_file)\n",
    "    json_file.close()\n",
    "\n",
    "    stan_dat = json_dat['stan_dat']\n",
    "    vp_base = json_dat['vp_base']\n",
    "\n",
    "    print(stan_dat.keys())\n",
    "    K = stan_dat['K'][0]\n",
    "    NObs = stan_dat['N'][0]\n",
    "    NG = stan_dat['NG'][0]\n",
    "    #N = NObs / NG\n",
    "    y_g_vec = np.array(stan_dat['y_group'])\n",
    "    y_vec = np.array(stan_dat['y'])\n",
    "    x_mat = np.array(stan_dat['x'])\n",
    "    \n",
    "    # TODO: don't rely on vp_base, set it here.\n",
    "    glmm_par = logit_glmm.get_glmm_parameters(\n",
    "        K=K, NG=NG, \n",
    "        mu_info_min=vp_base['mu_info_min'][0],\n",
    "        tau_alpha_min=vp_base['tau_alpha_min'][0],\n",
    "        tau_beta_min=vp_base['tau_beta_min'][0],\n",
    "        beta_diag_min=vp_base['beta_diag_min'][0],\n",
    "        u_info_min=vp_base['u_info_min'][0])\n",
    "\n",
    "    # Define a class to contain prior parameters.\n",
    "    prior_par = logit_glmm.get_default_prior_params(K)\n",
    "    prior_par['beta_prior_mean'].set(np.array(stan_dat['beta_prior_mean']))\n",
    "\n",
    "    beta_prior_info = np.linalg.inv(np.array(stan_dat['beta_prior_var']))\n",
    "    prior_par['beta_prior_info'].set(beta_prior_info)\n",
    "\n",
    "    prior_par['mu_prior_mean'].set(stan_dat['mu_prior_mean'][0])\n",
    "    prior_par['mu_prior_info'].set(1 / stan_dat['mu_prior_var'][0])\n",
    "    \n",
    "    prior_par['tau_prior_alpha'].set(stan_dat['tau_prior_alpha'][0])\n",
    "    prior_par['tau_prior_beta'].set(stan_dat['tau_prior_beta'][0])\n",
    "    \n",
    "    # An index set to make sure jacobians match the order expected by R.\n",
    "    prior_par_indices = copy.deepcopy(prior_par)\n",
    "    prior_par_indices.set_name('Prior Indices')\n",
    "    prior_par_indices.set_vector(np.array(range(prior_par_indices.vector_size())))\n",
    "else:\n",
    "    # Simulate data instead of loading it if you like\n",
    "    N = 200     # observations per group\n",
    "    K = 5      # dimension of regressors\n",
    "    NG = 200      # number of groups\n",
    "\n",
    "    # Generate data\n",
    "\n",
    "    true_beta = np.array(range(5))\n",
    "    true_beta = true_beta - np.mean(true_beta)\n",
    "    true_mu = 0.\n",
    "    true_tau = 40.0\n",
    "\n",
    "    x_mat, y_g_vec, y_vec, true_rho, true_u = \\\n",
    "        logit_glmm.simulate_data(N, NG, true_beta, true_mu, true_tau)\n",
    "\n",
    "    prior_par = logit_glmm.get_default_prior_params(K)\n",
    "\n",
    "    glmm_par = logit_glmm.get_glmm_parameters(\n",
    "        K=K, NG=NG, \n",
    "        mu_info_min=0.001, tau_alpha_min=0.001,\n",
    "        tau_beta_min=0.001, beta_diag_min=0.001,\n",
    "        u_info_min=0.001)\n",
    "\n",
    "\n",
    "print(np.mean(y_vec))"
   ]
  },
  {
   "cell_type": "code",
   "execution_count": 3,
   "metadata": {
    "collapsed": true
   },
   "outputs": [],
   "source": [
    "\n",
    "\n",
    "glmm_init = False\n",
    "if glmm_init and not simulate_data:\n",
    "    # Initialize with GLMM.\n",
    "    # If you use this, don't forget to add the computation time to your final VB time!\n",
    "    glmm_time = 0.\n",
    "\n",
    "    glmm_fit = json_dat['glmm_fit']\n",
    "    glmm_par['mu'].mean.set(glmm_fit['mu_mean'][0])\n",
    "    glmm_par['mu'].info.set(1.0)\n",
    "\n",
    "    tau_mean = 1.0 / glmm_fit['mu_sd'][0] ** 2\n",
    "    tau_var = 1.0\n",
    "    glmm_par['tau'].shape.set((tau_mean ** 2) / tau_var)\n",
    "    glmm_par['tau'].rate.set(tau_var / tau_mean)\n",
    "\n",
    "    glmm_par['beta'].mean.set(np.array(glmm_fit['beta_mean']))\n",
    "    glmm_par['beta'].info.set(np.eye(K))\n",
    "\n",
    "    glmm_par['u'].mean.set(np.array(glmm_fit['u_map']))\n",
    "    glmm_par['u'].info.set(np.full(NG, 1.0))\n",
    "\n",
    "    free_par_vec = glmm_par.get_free()\n",
    "else:\n",
    "    glmm_time = 0.\n",
    "    glmm_par['mu'].mean.set(0.0)\n",
    "    glmm_par['mu'].info.set(1.0)\n",
    "\n",
    "    glmm_par['tau'].shape.set(2.0)\n",
    "    glmm_par['tau'].rate.set(2.0)\n",
    "\n",
    "    glmm_par['beta'].mean.set(np.full(K, 0.0))\n",
    "    glmm_par['beta'].info.set(np.eye(K))\n",
    "\n",
    "    glmm_par['u'].mean.set(np.full(NG, 0.0))\n",
    "    glmm_par['u'].info.set(np.full(NG, 1.0))\n",
    "\n",
    "free_par_vec = glmm_par.get_free()\n",
    "init_par_vec = copy.deepcopy(free_par_vec)\n"
   ]
  },
  {
   "cell_type": "code",
   "execution_count": 25,
   "metadata": {},
   "outputs": [
    {
     "name": "stdout",
     "output_type": "stream",
     "text": [
      "num_draws =  3\n",
      "\tFunction time: 0.001237309600401204\n",
      "\tGrad time: 0.006700699100474594\n",
      "\tHessian vector product time: 0.0151023004000308\n",
      "\tPrior hess time:  0.06992936134338379\n"
     ]
    }
   ],
   "source": [
    "# Define moment parameters\n",
    "\n",
    "moment_wrapper = logit_glmm.MomentWrapper(glmm_par)\n",
    "get_moment_jacobian = autograd.jacobian(moment_wrapper.get_moment_vector)\n",
    "\n",
    "model = logit_glmm.LogisticGLMM(glmm_par, prior_par, x_mat, y_vec, y_g_vec, num_gh_points=10)\n",
    "model.get_e_log_prior()\n",
    "model.get_log_lik()\n",
    "model.get_entropy()\n",
    "\n",
    "objective = Objective(model.glmm_par, model.get_kl)\n",
    "objective.fun_free(free_par_vec)\n",
    "\n",
    "# # PriorHess evaluates the second order derivative d2 EPrior / dpar dprior_par\n",
    "def get_e_log_prior(prior_vec, free_par):\n",
    "    model.glmm_par.set_free(free_par)\n",
    "    model.prior_par.set_vector(prior_vec)\n",
    "    return model.get_e_log_prior()\n",
    "\n",
    "get_prior_model_grad = autograd.grad(get_e_log_prior, argnum=0)\n",
    "get_prior_hess = autograd.jacobian(get_prior_model_grad, argnum=1)\n",
    "\n",
    "import timeit\n",
    "\n",
    "time_num = 10\n",
    "\n",
    "num_draws = 3\n",
    "model.set_gh_points(num_draws)\n",
    "print('num_draws = ', num_draws)\n",
    "print('\\tFunction time:',\n",
    "      timeit.timeit(lambda: objective.fun_free(free_par_vec), number=time_num) / time_num)\n",
    "\n",
    "print('\\tGrad time:', \n",
    "      timeit.timeit(lambda: objective.fun_free_grad(free_par_vec), number=time_num) / time_num)\n",
    "\n",
    "print('\\tHessian vector product time:',\n",
    "      timeit.timeit(lambda: objective.fun_free_hvp(free_par_vec, free_par_vec + 1), number=time_num) / time_num)\n",
    "\n",
    "prior_vec = model.prior_par.get_vector()\n",
    "prior_hess_time = time.time()\n",
    "get_prior_hess(prior_vec, init_par_vec)\n",
    "prior_hess_time = time.time() - prior_hess_time\n",
    "print('\\tPrior hess time: ', prior_hess_time)\n"
   ]
  },
  {
   "cell_type": "code",
   "execution_count": 5,
   "metadata": {
    "collapsed": true
   },
   "outputs": [],
   "source": [
    "glmm_par_opt = copy.deepcopy(glmm_par)\n",
    "def tr_optimize(trust_init, num_gh_points, gtol=1e-6, maxiter=500):\n",
    "    model.set_gh_points(num_gh_points)\n",
    "    objective.logger.initialize()\n",
    "    objective.logger.print_every = 5\n",
    "    vb_opt = optimize.minimize(\n",
    "        lambda par: objective.fun_free(par, verbose=True),\n",
    "        x0=trust_init,\n",
    "        method='trust-ncg',\n",
    "        jac=objective.fun_free_grad,\n",
    "        hessp=objective.fun_free_hvp,\n",
    "        tol=1e-6, options={'maxiter': maxiter, 'disp': True, 'gtol': gtol })\n",
    "    return vb_opt.x\n",
    "\n",
    "def get_moment_vec(vb_opt_x):\n",
    "    glmm_par_opt.set_free(vb_opt_x)\n",
    "    set_moments(glmm_par_opt, moment_par)\n",
    "    return moment_par.get_vector()\n"
   ]
  },
  {
   "cell_type": "code",
   "execution_count": 6,
   "metadata": {},
   "outputs": [
    {
     "name": "stdout",
     "output_type": "stream",
     "text": [
      "0\n"
     ]
    }
   ],
   "source": [
    "import pandas as pd\n",
    "#print(glmm_par)\n",
    "\n",
    "x_t_x = np.matmul(x_mat.transpose(), x_mat)\n",
    "x_t_y = np.matmul(x_mat.transpose(), y_vec)\n",
    "beta_init = np.linalg.solve(x_t_x, x_t_y)\n",
    "#print(beta_init)\n",
    "#plt.plot(sp.special.expit(np.matmul(x_mat, beta_init)), y_vec, 'k.')\n",
    "\n",
    "df = pd.DataFrame({ 'y_g': y_g_vec, 'y': y_vec}).groupby('y_g')\n",
    "#print(df.sum())\n",
    "u_init = np.array(df.sum()) / np.array(df.count()['y'])\n",
    "#plt.figure()\n",
    "print(np.min(y_g_vec))\n",
    "#plt.plot(u_init[y_g_vec], y_vec, 'k.')\n"
   ]
  },
  {
   "cell_type": "code",
   "execution_count": 7,
   "metadata": {
    "scrolled": false
   },
   "outputs": [
    {
     "name": "stdout",
     "output_type": "stream",
     "text": [
      "Running Newton Trust Region with few draws.\n",
      "Iter  0  value:  [ 1034.21559918]\n",
      "\tx_diff:  inf\n",
      "Iter  5  value:  [ 230.72578534]\n",
      "\tx_diff:  1.7943124529\n",
      "Iter  10  value:  [ 71.45829508]\n",
      "\tx_diff:  0.480945879431\n",
      "Iter  15  value:  [ 66.48333587]\n",
      "\tx_diff:  0.250398688\n",
      "Iter  20  value:  [ 66.47504252]\n",
      "\tx_diff:  3.71947088312e-06\n",
      "Optimization terminated successfully.\n",
      "         Current function value: 66.475043\n",
      "         Iterations: 20\n",
      "         Function evaluations: 21\n",
      "         Gradient evaluations: 21\n",
      "         Hessian evaluations: 0\n",
      "VB time:  4.193744659423828\n",
      "Done.\n"
     ]
    }
   ],
   "source": [
    "# Optimize.\n",
    "\n",
    "print('Running Newton Trust Region with few draws.')\n",
    "num_gh_points = 4\n",
    "vb_time = time.time()\n",
    "opt_x = tr_optimize(init_par_vec, num_gh_points, gtol=1e-6, maxiter=200)\n",
    "vb_time_opt_1 = time.time() - vb_time\n",
    "#print('vb_time_opt_1: ', vb_time_opt_1)\n",
    "vb_time = time.time() - vb_time\n",
    "\n",
    "# print('Running Newton Trust Region with more draws')\n",
    "# num_gh_points = 20\n",
    "# # vb_time = time.time()\n",
    "# opt_x = tr_optimize(opt_x, num_gh_points, gtol=1e-6, maxiter=100)\n",
    "# vb_time = time.time() - vb_time\n",
    "\n",
    "print('VB time: ', vb_time)\n",
    "print('Done.')"
   ]
  },
  {
   "cell_type": "code",
   "execution_count": 8,
   "metadata": {
    "collapsed": true
   },
   "outputs": [],
   "source": [
    "\n",
    "glmm_par.set_free(opt_x)\n",
    "if simulate_data:\n",
    "    print('Fit beta: ', glmm_par['beta'].e())\n",
    "    print('True beta: ', true_beta)\n",
    "    \n",
    "    print('Fit mu: ', glmm_par['mu'].e())\n",
    "    print('True mu: ', true_mu)\n",
    "    \n",
    "    print('Fit tau: ', glmm_par['tau'].e())\n",
    "    print('True tau: ', true_tau)\n",
    "    \n",
    "    plt.plot(true_u, true_u, 'r.')\n",
    "    plt.plot(true_u, glmm_par['u'].e(), 'k.')\n",
    "    "
   ]
  },
  {
   "cell_type": "code",
   "execution_count": 9,
   "metadata": {},
   "outputs": [
    {
     "name": "stdout",
     "output_type": "stream",
     "text": [
      "4.19372034072876\n",
      "2.4318695068359375e-05\n"
     ]
    }
   ],
   "source": [
    "print(vb_time_opt_1)\n",
    "print(vb_time - vb_time_opt_1)\n"
   ]
  },
  {
   "cell_type": "code",
   "execution_count": 10,
   "metadata": {},
   "outputs": [
    {
     "name": "stdout",
     "output_type": "stream",
     "text": [
      "VB time:  4.193744659423828\n",
      "[ 0.75057332  1.97883706  3.47870431  4.40648953  5.51727613]\n",
      "GLMM Parameters:\n",
      "\tmu:\n",
      "mu_mean: [-3.76040345]\n",
      "mu_info: [ 90.88414399]\n",
      "\ttau:\n",
      "tau_shape: [ 53.00000001]\n",
      "tau_rate: [ 58.32242008]\n",
      "\tbeta:\n",
      "beta_mean:\n",
      "[ 0.75057332  1.97883706  3.47870431  4.40648953  5.51727613]\n",
      "beta_info:\n",
      "[[ 18.91233359   1.45969765   1.67317171   1.09378781   1.37572464]\n",
      " [  1.45969765  18.97411872  -0.59499145   1.52430818  -1.09454369]\n",
      " [  1.67317171  -0.59499145  13.3652071   -0.5136844   -2.48218174]\n",
      " [  1.09378781   1.52430818  -0.5136844   15.00974593  -3.36010378]\n",
      " [  1.37572464  -1.09454369  -2.48218174  -3.36010378  12.75644721]]\n",
      "\tu:\n",
      "u_mean:\n",
      "[-3.18980068 -3.74860003 -3.97913849 -4.70410933 -3.69093714 -4.09411354\n",
      " -3.87183779 -3.94172707 -2.82666986 -3.6359192  -2.88333634 -3.4187051\n",
      " -3.9128449  -4.00891724 -3.76399226 -3.17962139 -3.44450381 -4.41156221\n",
      " -3.99633008 -3.1490323  -2.68846162 -3.83548647 -3.84089282 -4.82842504\n",
      " -3.35567167 -4.53142791 -3.8309061  -3.7678797  -3.42111923 -3.06340288\n",
      " -3.7316747  -3.36630898 -3.67263039 -4.11260265 -3.34343928 -5.59397782\n",
      " -3.94356696 -3.98061895 -4.21236724 -3.53283314 -3.8964821  -3.66683704\n",
      " -3.02188865 -4.71694566 -4.43426119 -4.31895211 -3.17712514 -3.89826213\n",
      " -3.31981323 -3.69163842 -3.53551665 -4.22378668 -3.41676437 -3.90806126\n",
      " -3.63758269 -2.80811591 -3.32267592 -4.26318091 -5.01158467 -3.31900161\n",
      " -3.59169999 -3.74566279 -3.76806195 -3.4847301  -3.70869318 -2.37969154\n",
      " -4.09349132 -4.02934312 -2.52645212 -3.85575591 -3.99597185 -4.25401503\n",
      " -3.62082539 -5.32335614 -4.15012732 -3.05629243 -4.05322567 -3.23934763\n",
      " -3.95939311 -4.38257177 -3.33998827 -4.54926634 -4.11769391 -3.33506701\n",
      " -3.88903766 -3.33172684 -3.75137076 -2.60497026 -4.10033576 -4.62312133\n",
      " -3.76571374 -4.31130797 -3.14323504 -3.30339389 -4.03158934 -3.84628523\n",
      " -3.79568796 -4.01539713 -3.69267978 -3.22127987]\n",
      "u_info:\n",
      "[ 1.23243044  1.07244111  1.77036691  1.16619927  1.4780313   1.15417276\n",
      "  1.00734729  1.05404807  1.23238417  1.21558186  1.28338595  1.19546185\n",
      "  1.29452855  1.44205461  0.92864261  1.52525029  1.16645362  1.12378313\n",
      "  1.14489784  1.15018466  1.5089232   1.0027716   1.75482197  1.12949551\n",
      "  1.38068275  1.21515938  1.48686551  1.19671343  1.12861974  1.39990768\n",
      "  1.42513702  1.27730632  1.4238875   1.13402408  1.20690317  1.52299206\n",
      "  1.07549164  1.08415716  1.113505    1.20788114  1.05198925  1.17846644\n",
      "  1.37860383  1.29542599  1.44614248  1.26359879  1.83449946  1.5539303\n",
      "  1.32040094  1.04652453  1.32339215  1.4443765   1.71815256  1.3294709\n",
      "  1.37673353  1.55333508  1.292996    1.60677369  1.1813001   1.2317081\n",
      "  1.46005691  1.11256562  0.91691335  1.46057219  1.34302281  1.26927187\n",
      "  1.24738797  1.37652368  1.69279293  1.08969593  1.58053813  1.56042107\n",
      "  1.32802884  1.39090902  1.36595719  1.4063643   1.49525206  1.66856501\n",
      "  1.07254263  1.24762384  1.17419667  1.14607474  1.3304073   1.23083185\n",
      "  1.35463687  1.1895196   1.28579077  1.40711397  1.12433199  1.1039023\n",
      "  1.38942806  1.20577655  1.36572278  1.15069036  1.28769815  1.42077026\n",
      "  1.38764672  1.48674427  1.4721746   1.45734264]\n"
     ]
    },
    {
     "data": {
      "text/plain": [
       "<matplotlib.text.Text at 0x7f6c48c68358>"
      ]
     },
     "execution_count": 10,
     "metadata": {},
     "output_type": "execute_result"
    },
    {
     "data": {
      "image/png": "[encoded data removed]",
      "text/plain": [
       "<matplotlib.figure.Figure at 0x7f6c1cb2b160>"
      ]
     },
     "metadata": {},
     "output_type": "display_data"
    },
    {
     "data": {
      "image/png": "[encoded data removed]",
      "text/plain": [
       "<matplotlib.figure.Figure at 0x7f6c48d3f5c0>"
      ]
     },
     "metadata": {},
     "output_type": "display_data"
    }
   ],
   "source": [
    "print('VB time: ', vb_time)\n",
    "\n",
    "import scipy as sp\n",
    "\n",
    "glmm_par_opt = copy.deepcopy(glmm_par)\n",
    "glmm_par_opt.set_free(opt_x)\n",
    "#glmm_par_opt.set_free(init_par_vec)\n",
    "print(glmm_par_opt['beta'].e())\n",
    "print(glmm_par_opt)\n",
    "\n",
    "#plt.plot(glmm_par_opt['u'].e(), glmm_par_opt['u'].var(), 'k.')\n",
    "\n",
    "e_beta = glmm_par_opt['beta'].e()\n",
    "e_u = glmm_par_opt['u'].e()[model.y_g_vec]\n",
    "\n",
    "z_mean = e_u + np.matmul(model.x_mat, e_beta)\n",
    "#plt.plot(sp.special.expit(z_mean), model.y_vec, 'k.')\n",
    "\n",
    "\n",
    "plt.figure()\n",
    "plt.hist(z_mean[model.y_vec == 1], 50, normed=1, facecolor='green', alpha=0.75)\n",
    "plt.title('y == 1')\n",
    "\n",
    "plt.figure()\n",
    "plt.hist(z_mean[model.y_vec == 0], 50, normed=1, facecolor='green', alpha=0.75)\n",
    "plt.title('y == 0')\n",
    "\n",
    "\n"
   ]
  },
  {
   "cell_type": "code",
   "execution_count": 11,
   "metadata": {},
   "outputs": [
    {
     "name": "stdout",
     "output_type": "stream",
     "text": [
      "KL Hessian...\n",
      "\n",
      "Log prior Hessian...\n",
      "\n",
      "hess_time: 1.861995\n"
     ]
    }
   ],
   "source": [
    "# Get the Hessians at the number of draws used for optimization.\n",
    "\n",
    "hess_time = time.time()\n",
    "print('KL Hessian...\\n')\n",
    "kl_hess = objective.fun_free_hessian(opt_x)\n",
    "\n",
    "print('Log prior Hessian...\\n')\n",
    "log_prior_hess = get_prior_hess(prior_par.get_vector(), opt_x)\n",
    "\n",
    "hess_time =  time.time() - hess_time\n",
    "elbo_hess = -kl_hess\n",
    "\n",
    "print('hess_time: %f' % hess_time)"
   ]
  },
  {
   "cell_type": "code",
   "execution_count": 12,
   "metadata": {
    "collapsed": true
   },
   "outputs": [],
   "source": [
    "moment_jac = get_moment_jacobian(opt_x)\n",
    "lrvb_cov = np.matmul(moment_jac, np.linalg.solve(kl_hess, moment_jac.T))\n",
    "\n",
    "prior_indices = copy.deepcopy(prior_par)\n",
    "prior_indices.set_vector(1 + np.array(range(prior_indices.vector_size())))\n",
    "\n",
    "vp_indices = copy.deepcopy(glmm_par_opt)\n",
    "vp_indices.set_vector(1 + np.array(range(vp_indices.vector_size())))"
   ]
  },
  {
   "cell_type": "code",
   "execution_count": 26,
   "metadata": {},
   "outputs": [
    {
     "name": "stdout",
     "output_type": "stream",
     "text": [
      "/home/rgiordan/Documents/git_repos/LinearResponseVariationalBayes.py/Models/LogisticGLMM/data/simulated_data_small_python_vb_results.json\n"
     ]
    },
    {
     "ename": "AttributeError",
     "evalue": "Can't pickle local object 'jacobian.<locals>.jacfun'",
     "output_type": "error",
     "traceback": [
      "\u001b[0;31m---------------------------------------------------------------------------\u001b[0m",
      "\u001b[0;31mAttributeError\u001b[0m                            Traceback (most recent call last)",
      "\u001b[0;32m<ipython-input-26-8a15f3368dd1>\u001b[0m in \u001b[0;36m<module>\u001b[0;34m()\u001b[0m\n\u001b[1;32m     32\u001b[0m \u001b[0;34m\u001b[0m\u001b[0m\n\u001b[1;32m     33\u001b[0m     \u001b[0;31m# Pickle dictionary using protocol 0.\u001b[0m\u001b[0;34m\u001b[0m\u001b[0;34m\u001b[0m\u001b[0m\n\u001b[0;32m---> 34\u001b[0;31m     \u001b[0mpickle\u001b[0m\u001b[0;34m.\u001b[0m\u001b[0mdump\u001b[0m\u001b[0;34m(\u001b[0m\u001b[0mpickle_result_dict\u001b[0m\u001b[0;34m,\u001b[0m \u001b[0mpickle_output\u001b[0m\u001b[0;34m)\u001b[0m\u001b[0;34m\u001b[0m\u001b[0m\n\u001b[0m\u001b[1;32m     35\u001b[0m     \u001b[0mpickle_output\u001b[0m\u001b[0;34m.\u001b[0m\u001b[0mclose\u001b[0m\u001b[0;34m(\u001b[0m\u001b[0;34m)\u001b[0m\u001b[0;34m\u001b[0m\u001b[0m\n\u001b[1;32m     36\u001b[0m \u001b[0;34m\u001b[0m\u001b[0m\n",
      "\u001b[0;31mAttributeError\u001b[0m: Can't pickle local object 'jacobian.<locals>.jacfun'"
     ]
    }
   ],
   "source": [
    "if not simulate_data:\n",
    "    # Write the result to a JSON file for use in R.\n",
    "    \n",
    "    run_name = 'production'\n",
    "    result_dict = { 'glmm_par_opt': glmm_par_opt.dictval(), 'run_name': run_name,\n",
    "                    'vb_time': vb_time, 'hess_time': hess_time, 'num_gh_points': num_gh_points, \n",
    "                    'lrvb_cov': lrvb_cov.tolist(), 'moment_jac': moment_jac.tolist(),\n",
    "                    'elbo_hess': elbo_hess.tolist(), 'log_prior_hess': log_prior_hess.tolist() }\n",
    "\n",
    "    result_json = json.dumps(result_dict)\n",
    "    json_output_filename = os.path.join(data_dir, '%s_python_vb_results.json' % analysis_name)\n",
    "    json_file = open(json_output_filename, 'w')\n",
    "    json_file.write(result_json)\n",
    "    json_file.close()\n",
    "    print(json_output_filename)\n",
    "\n",
    "    \n",
    "    \n",
    "    pickle_output_filename = os.path.join(data_dir, '%s_python_vb_results.pkl' % analysis_name)\n",
    "    pickle_output = open(pickle_output_filename, 'wb')\n",
    "\n",
    "    # TODO: save everything needed to reconstruct glmm_par, since the parameters cannot be pickled\n",
    "    # due to having function pointers.\n",
    "    # Unlike with JSON, numpy arrays can be pickled.\n",
    "    pickle_result_dict = {  'glmm_par_dictval': glmm_par_opt.dictval(),\n",
    "                            'vb_opt_par': vb_results.,\n",
    "                            'run_name': run_name,\n",
    "                            'vb_time': vb_time,\n",
    "                            'hess_time': hess_time,\n",
    "                            'num_gh_points': num_gh_points, \n",
    "                            'lrvb_cov': np.squeeze(lrvb_cov),\n",
    "                            'moment_jac': np.squeeze(moment_jac),\n",
    "                            'elbo_hess': np.squeeze(elbo_hess),\n",
    "                            'log_prior_hess': np.squeeze(log_prior_hess) }\n",
    "\n",
    "    # Pickle dictionary using protocol 0.\n",
    "    pickle.dump(pickle_result_dict, pickle_output)\n",
    "    pickle_output.close()\n",
    "    \n",
    "    print(pickle_output_filename)\n",
    "\n",
    "\n",
    "    "
   ]
  },
  {
   "cell_type": "code",
   "execution_count": 30,
   "metadata": {},
   "outputs": [
    {
     "name": "stdout",
     "output_type": "stream",
     "text": [
      "GLMM Parameters:\n",
      "\tmu:\n",
      "mu_mean: [-3.76040345]\n",
      "mu_info: [ 90.88414399]\n",
      "\ttau:\n",
      "tau_shape: [ 53.00000001]\n",
      "tau_rate: [ 58.32242008]\n",
      "\tbeta:\n",
      "beta_mean:\n",
      "[ 0.75057332  1.97883706  3.47870431  4.40648953  5.51727613]\n",
      "beta_info:\n",
      "[[ 18.91233359   1.45969765   1.67317171   1.09378781   1.37572464]\n",
      " [  1.45969765  18.97411872  -0.59499145   1.52430818  -1.09454369]\n",
      " [  1.67317171  -0.59499145  13.3652071   -0.5136844   -2.48218174]\n",
      " [  1.09378781   1.52430818  -0.5136844   15.00974593  -3.36010378]\n",
      " [  1.37572464  -1.09454369  -2.48218174  -3.36010378  12.75644721]]\n",
      "\tu:\n",
      "u_mean:\n",
      "[-3.18980068 -3.74860003 -3.97913849 -4.70410933 -3.69093714 -4.09411354\n",
      " -3.87183779 -3.94172707 -2.82666986 -3.6359192  -2.88333634 -3.4187051\n",
      " -3.9128449  -4.00891724 -3.76399226 -3.17962139 -3.44450381 -4.41156221\n",
      " -3.99633008 -3.1490323  -2.68846162 -3.83548647 -3.84089282 -4.82842504\n",
      " -3.35567167 -4.53142791 -3.8309061  -3.7678797  -3.42111923 -3.06340288\n",
      " -3.7316747  -3.36630898 -3.67263039 -4.11260265 -3.34343928 -5.59397782\n",
      " -3.94356696 -3.98061895 -4.21236724 -3.53283314 -3.8964821  -3.66683704\n",
      " -3.02188865 -4.71694566 -4.43426119 -4.31895211 -3.17712514 -3.89826213\n",
      " -3.31981323 -3.69163842 -3.53551665 -4.22378668 -3.41676437 -3.90806126\n",
      " -3.63758269 -2.80811591 -3.32267592 -4.26318091 -5.01158467 -3.31900161\n",
      " -3.59169999 -3.74566279 -3.76806195 -3.4847301  -3.70869318 -2.37969154\n",
      " -4.09349132 -4.02934312 -2.52645212 -3.85575591 -3.99597185 -4.25401503\n",
      " -3.62082539 -5.32335614 -4.15012732 -3.05629243 -4.05322567 -3.23934763\n",
      " -3.95939311 -4.38257177 -3.33998827 -4.54926634 -4.11769391 -3.33506701\n",
      " -3.88903766 -3.33172684 -3.75137076 -2.60497026 -4.10033576 -4.62312133\n",
      " -3.76571374 -4.31130797 -3.14323504 -3.30339389 -4.03158934 -3.84628523\n",
      " -3.79568796 -4.01539713 -3.69267978 -3.22127987]\n",
      "u_info:\n",
      "[ 1.23243044  1.07244111  1.77036691  1.16619927  1.4780313   1.15417276\n",
      "  1.00734729  1.05404807  1.23238417  1.21558186  1.28338595  1.19546185\n",
      "  1.29452855  1.44205461  0.92864261  1.52525029  1.16645362  1.12378313\n",
      "  1.14489784  1.15018466  1.5089232   1.0027716   1.75482197  1.12949551\n",
      "  1.38068275  1.21515938  1.48686551  1.19671343  1.12861974  1.39990768\n",
      "  1.42513702  1.27730632  1.4238875   1.13402408  1.20690317  1.52299206\n",
      "  1.07549164  1.08415716  1.113505    1.20788114  1.05198925  1.17846644\n",
      "  1.37860383  1.29542599  1.44614248  1.26359879  1.83449946  1.5539303\n",
      "  1.32040094  1.04652453  1.32339215  1.4443765   1.71815256  1.3294709\n",
      "  1.37673353  1.55333508  1.292996    1.60677369  1.1813001   1.2317081\n",
      "  1.46005691  1.11256562  0.91691335  1.46057219  1.34302281  1.26927187\n",
      "  1.24738797  1.37652368  1.69279293  1.08969593  1.58053813  1.56042107\n",
      "  1.32802884  1.39090902  1.36595719  1.4063643   1.49525206  1.66856501\n",
      "  1.07254263  1.24762384  1.17419667  1.14607474  1.3304073   1.23083185\n",
      "  1.35463687  1.1895196   1.28579077  1.40711397  1.12433199  1.1039023\n",
      "  1.38942806  1.20577655  1.36572278  1.15069036  1.28769815  1.42077026\n",
      "  1.38764672  1.48674427  1.4721746   1.45734264]\n"
     ]
    }
   ],
   "source": [
    "# pkl_file = open(pickle_output_filename, 'rb')\n",
    "# vb_results = pickle.load(pkl_file)\n",
    "# pkl_file.close()\n",
    "\n",
    "\n",
    "\n",
    "print(glmm_par_opt.)\n"
   ]
  }
 ],
 "metadata": {
  "kernelspec": {
   "display_name": "Python 3",
   "language": "python",
   "name": "python3"
  },
  "language_info": {
   "codemirror_mode": {
    "name": "ipython",
    "version": 3
   },
   "file_extension": ".py",
   "mimetype": "text/x-python",
   "name": "python",
   "nbconvert_exporter": "python",
   "pygments_lexer": "ipython3",
   "version": "3.5.2"
  }
 },
 "nbformat": 4,
 "nbformat_minor": 1
}
