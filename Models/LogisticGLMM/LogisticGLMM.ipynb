{
 "cells": [
  {
   "cell_type": "code",
   "execution_count": 1,
   "metadata": {
    "collapsed": true
   },
   "outputs": [],
   "source": [
    "import VariationalBayes as vb\n",
    "import LogisticGLMM_lib as logit_glmm\n",
    "from VariationalBayes.SparseObjectives import \\\n",
    "    Objective, pack_csr_matrix\n",
    "\n",
    "import matplotlib.pyplot as plt\n",
    "%matplotlib inline\n",
    "\n",
    "import numpy as np\n",
    "\n",
    "import autograd\n",
    "\n",
    "import copy\n",
    "from scipy import optimize\n",
    "\n",
    "import os\n",
    "import json\n",
    "\n",
    "import time\n",
    "\n",
    "import pickle\n"
   ]
  },
  {
   "cell_type": "code",
   "execution_count": 2,
   "metadata": {},
   "outputs": [
    {
     "name": "stdout",
     "output_type": "stream",
     "text": [
      "dict_keys(['tau_prior_alpha', 'tau_prior_beta', 'y_group', 'beta_prior_info', 'N', 'y', 'NG', 'mu_prior_info', 'beta_prior_mean', 'mu_prior_mean', 'K', 'x'])\n",
      "0.213409806931\n"
     ]
    }
   ],
   "source": [
    "# Load data saved by stan_results_to_json.R and run_stan.R in LRVBLogitGLMM.\n",
    "\n",
    "simulate_data = False\n",
    "\n",
    "if not simulate_data:\n",
    "    #analysis_name = 'simulated_data_small'\n",
    "    analysis_name = 'criteo_subsampled'\n",
    "\n",
    "    data_dir = os.path.join(os.environ['GIT_REPO_LOC'],\n",
    "                            'LinearResponseVariationalBayes.py/Models/LogisticGLMM/data')\n",
    "    json_filename = os.path.join(data_dir, '%s_stan_dat.json' % analysis_name)\n",
    "    y_g_vec, y_vec, x_mat, glmm_par, prior_par = logit_glmm.load_json_data(json_filename)\n",
    "    \n",
    "    K = x_mat.shape[1]\n",
    "    NG = np.max(y_g_vec) + 1\n",
    "\n",
    "else:\n",
    "    # Generate data\n",
    "    N = 200     # observations per group\n",
    "    K = 5      # dimension of regressors\n",
    "    NG = 200      # number of groups\n",
    "\n",
    "    true_beta = np.array(range(5))\n",
    "    true_beta = true_beta - np.mean(true_beta)\n",
    "    true_mu = 0.\n",
    "    true_tau = 40.0\n",
    "\n",
    "    x_mat, y_g_vec, y_vec, true_rho, true_u = \\\n",
    "        logit_glmm.simulate_data(N, NG, true_beta, true_mu, true_tau)\n",
    "    prior_par = logit_glmm.get_default_prior_params(K)\n",
    "    glmm_par = logit_glmm.get_glmm_parameters(K=K, NG=NG)\n",
    "\n",
    "\n",
    "print(np.mean(y_vec))"
   ]
  },
  {
   "cell_type": "code",
   "execution_count": 3,
   "metadata": {
    "collapsed": true
   },
   "outputs": [],
   "source": [
    "# Initialize.\n",
    "\n",
    "if False:\n",
    "    # Slightly smarter inits would probably improve fit time, but as of now it doesn't\n",
    "    # seem worth explaining in the paper.\n",
    "    import pandas as pd\n",
    "    #print(glmm_par)\n",
    "\n",
    "    x_t_x = np.matmul(x_mat.transpose(), x_mat)\n",
    "    x_t_y = np.matmul(x_mat.transpose(), y_vec)\n",
    "    beta_init = np.linalg.solve(x_t_x, x_t_y)\n",
    "    #print(beta_init)\n",
    "    #plt.plot(sp.special.expit(np.matmul(x_mat, beta_init)), y_vec, 'k.')\n",
    "\n",
    "    df = pd.DataFrame({ 'y_g': y_g_vec, 'y': y_vec}).groupby('y_g')\n",
    "    #print(df.sum())\n",
    "    u_init = np.array(df.sum()) / np.array(df.count()['y'])\n",
    "    #plt.figure()\n",
    "    print(np.min(y_g_vec))\n",
    "    #plt.plot(u_init[y_g_vec], y_vec, 'k.')\n",
    "\n",
    "logit_glmm.initialize_glmm_pars(glmm_par)\n",
    "free_par_vec = glmm_par.get_free()\n",
    "init_par_vec = copy.deepcopy(free_par_vec)\n"
   ]
  },
  {
   "cell_type": "code",
   "execution_count": 4,
   "metadata": {},
   "outputs": [
    {
     "name": "stdout",
     "output_type": "stream",
     "text": [
      "num_draws =  3\n",
      "\tFunction time: 0.011097209999570623\n",
      "\tGrad time: 0.05566882590064779\n",
      "\tHessian vector product time: 0.10863677089801058\n",
      "\tPrior hess time:  0.07895565032958984\n"
     ]
    }
   ],
   "source": [
    "model = logit_glmm.LogisticGLMM(glmm_par, prior_par, x_mat, y_vec, y_g_vec, num_gh_points=4)\n",
    "model.get_e_log_prior()\n",
    "model.get_log_lik()\n",
    "model.get_entropy()\n",
    "\n",
    "model.objective.fun_free(free_par_vec)\n",
    "\n",
    "import timeit\n",
    "\n",
    "time_num = 10\n",
    "\n",
    "num_draws = 3\n",
    "model.set_gh_points(num_draws)\n",
    "print('num_draws = ', num_draws)\n",
    "print('\\tFunction time:',\n",
    "      timeit.timeit(lambda: model.objective.fun_free(free_par_vec), number=time_num) / time_num)\n",
    "\n",
    "print('\\tGrad time:', \n",
    "      timeit.timeit(lambda: model.objective.fun_free_grad(free_par_vec), number=time_num) / time_num)\n",
    "\n",
    "print('\\tHessian vector product time:',\n",
    "      timeit.timeit(lambda: model.objective.fun_free_hvp(\n",
    "          free_par_vec, free_par_vec + 1), number=time_num) / time_num)\n",
    "\n",
    "prior_vec = model.prior_par.get_vector()\n",
    "prior_hess_time = time.time()\n",
    "model.get_prior_hess(prior_vec, init_par_vec)\n",
    "prior_hess_time = time.time() - prior_hess_time\n",
    "print('\\tPrior hess time: ', prior_hess_time)"
   ]
  },
  {
   "cell_type": "code",
   "execution_count": 5,
   "metadata": {},
   "outputs": [
    {
     "data": {
      "text/plain": [
       "5000"
      ]
     },
     "execution_count": 5,
     "metadata": {},
     "output_type": "execute_result"
    }
   ],
   "source": [
    "NG"
   ]
  },
  {
   "cell_type": "code",
   "execution_count": 6,
   "metadata": {
    "scrolled": false
   },
   "outputs": [
    {
     "name": "stdout",
     "output_type": "stream",
     "text": [
      "Running Newton Trust Region.\n",
      "Iter  0  value:  162354.434209\n",
      "Iter  5  value:  38998.7177003\n",
      "Iter  10  value:  30431.1788754\n",
      "Iter  15  value:  26782.1514434\n",
      "Iter  20  value:  24120.4150104\n",
      "Iter  25  value:  23887.7607659\n",
      "Iter  30  value:  23879.5113972\n",
      "Iter  35  value:  23846.481109\n",
      "Iter  40  value:  23825.9452651\n",
      "Iter  45  value:  23825.6016527\n",
      "Optimization terminated successfully.\n",
      "         Current function value: 23825.601642\n",
      "         Iterations: 48\n",
      "         Function evaluations: 49\n",
      "         Gradient evaluations: 49\n",
      "         Hessian evaluations: 0\n",
      "VB time:  63.994152307510376\n",
      "Done.\n"
     ]
    }
   ],
   "source": [
    "# Optimize.\n",
    "\n",
    "print('Running Newton Trust Region.')\n",
    "num_gh_points = 4\n",
    "vb_time = time.time()\n",
    "vb_opt = model.tr_optimize(init_par_vec, num_gh_points, gtol=1e-6, maxiter=500)\n",
    "opt_x = vb_opt.x\n",
    "vb_time = time.time() - vb_time\n",
    "\n",
    "print('VB time: ', vb_time)\n",
    "print('Done.')"
   ]
  },
  {
   "cell_type": "code",
   "execution_count": 7,
   "metadata": {},
   "outputs": [
    {
     "name": "stdout",
     "output_type": "stream",
     "text": [
      "VB time:  63.994152307510376\n"
     ]
    },
    {
     "data": {
      "text/plain": [
       "<matplotlib.text.Text at 0x7effc7430c18>"
      ]
     },
     "execution_count": 7,
     "metadata": {},
     "output_type": "execute_result"
    },
    {
     "data": {
      "image/png": "[encoded data removed]",
      "text/plain": [
       "<matplotlib.figure.Figure at 0x7effc74f8470>"
      ]
     },
     "metadata": {},
     "output_type": "display_data"
    },
    {
     "data": {
      "image/png": "[encoded data removed]",
      "text/plain": [
       "<matplotlib.figure.Figure at 0x7f000af1b8d0>"
      ]
     },
     "metadata": {},
     "output_type": "display_data"
    }
   ],
   "source": [
    "print('VB time: ', vb_time)\n",
    "\n",
    "import scipy as sp\n",
    "\n",
    "glmm_par_opt = copy.deepcopy(glmm_par)\n",
    "glmm_par_opt.set_free(opt_x)\n",
    "\n",
    "e_beta = glmm_par_opt['beta'].e()\n",
    "e_u = glmm_par_opt['u'].e()[model.y_g_vec]\n",
    "\n",
    "z_mean = e_u + np.matmul(model.x_mat, e_beta)\n",
    "\n",
    "plt.figure()\n",
    "plt.hist(z_mean[model.y_vec == 1], 50, normed=1, facecolor='green', alpha=0.75)\n",
    "plt.title('y == 1')\n",
    "\n",
    "plt.figure()\n",
    "plt.hist(z_mean[model.y_vec == 0], 50, normed=1, facecolor='green', alpha=0.75)\n",
    "plt.title('y == 0')\n",
    "\n",
    "\n"
   ]
  },
  {
   "cell_type": "code",
   "execution_count": 8,
   "metadata": {
    "collapsed": true
   },
   "outputs": [],
   "source": [
    "# # In case you want to save without calculating the Hessian, instantiate them here\n",
    "if False:\n",
    "    hess_time = 0.\n",
    "    log_prior_hess = np.array([0.])\n",
    "    kl_hess = np.array([0.])\n",
    "    moment_jac = np.array([0.])\n",
    "    lrvb_cov = np.array([0.])"
   ]
  },
  {
   "cell_type": "code",
   "execution_count": 14,
   "metadata": {
    "scrolled": false
   },
   "outputs": [
    {
     "name": "stdout",
     "output_type": "stream",
     "text": [
      "KL Hessian...\n",
      "\n",
      "Group 0 of 4999.\n",
      "Group 100 of 4999.\n",
      "Group 200 of 4999.\n",
      "Group 300 of 4999.\n",
      "Group 400 of 4999.\n",
      "Group 500 of 4999.\n",
      "Group 600 of 4999.\n",
      "Group 700 of 4999.\n",
      "Group 800 of 4999.\n",
      "Group 900 of 4999.\n",
      "Group 1000 of 4999.\n",
      "Group 1100 of 4999.\n",
      "Group 1200 of 4999.\n",
      "Group 1300 of 4999.\n",
      "Group 1400 of 4999.\n",
      "Group 1500 of 4999.\n",
      "Group 1600 of 4999.\n",
      "Group 1700 of 4999.\n",
      "Group 1800 of 4999.\n",
      "Group 1900 of 4999.\n",
      "Group 2000 of 4999.\n",
      "Group 2100 of 4999.\n",
      "Group 2200 of 4999.\n",
      "Group 2300 of 4999.\n",
      "Group 2400 of 4999.\n",
      "Group 2500 of 4999.\n",
      "Group 2600 of 4999.\n",
      "Group 2700 of 4999.\n",
      "Group 2800 of 4999.\n",
      "Group 2900 of 4999.\n",
      "Group 3000 of 4999.\n",
      "Group 3100 of 4999.\n",
      "Group 3200 of 4999.\n",
      "Group 3300 of 4999.\n",
      "Group 3400 of 4999.\n",
      "Group 3500 of 4999.\n",
      "Group 3600 of 4999.\n",
      "Group 3700 of 4999.\n",
      "Group 3800 of 4999.\n",
      "Group 3900 of 4999.\n",
      "Group 4000 of 4999.\n",
      "Group 4100 of 4999.\n",
      "Group 4200 of 4999.\n",
      "Group 4300 of 4999.\n",
      "Group 4400 of 4999.\n",
      "Group 4500 of 4999.\n",
      "Group 4600 of 4999.\n",
      "Group 4700 of 4999.\n",
      "Group 4800 of 4999.\n",
      "Group 4900 of 4999.\n"
     ]
    },
    {
     "name": "stderr",
     "output_type": "stream",
     "text": [
      "/home/rgiordan/Documents/git_repos/autograd/autograd/core.py:14: UserWarning: Output seems independent of input.\n",
      "  warnings.warn(\"Output seems independent of input.\")\n"
     ]
    },
    {
     "name": "stdout",
     "output_type": "stream",
     "text": [
      "Log prior Hessian...\n",
      "\n",
      "hess_time: 75.870354\n"
     ]
    }
   ],
   "source": [
    "# Get the Hessians at the number of draws used for optimization\n",
    "model.glmm_par.set_free(opt_x)\n",
    "\n",
    "hess_time = time.time()\n",
    "print('KL Hessian...\\n')\n",
    "kl_hess = model.get_sparse_free_hessian(opt_x, print_every_n=100)\n",
    "\n",
    "print('Log prior Hessian...\\n')\n",
    "log_prior_hess = model.get_prior_hess(prior_par.get_vector(), opt_x)\n",
    "\n",
    "moment_jac = model.moment_wrapper.get_moment_jacobian(opt_x)\n",
    "\n",
    "hess_time =  time.time() - hess_time\n",
    "\n",
    "print('hess_time: %f' % hess_time)"
   ]
  },
  {
   "cell_type": "code",
   "execution_count": 10,
   "metadata": {},
   "outputs": [
    {
     "name": "stdout",
     "output_type": "stream",
     "text": [
      "Solving systems...\n",
      "\n"
     ]
    },
    {
     "name": "stderr",
     "output_type": "stream",
     "text": [
      "/usr/local/lib/python3.5/dist-packages/ipykernel_launcher.py:4: CholmodTypeConversionWarning: converting matrix of class csr_matrix to CSC format\n",
      "  after removing the cwd from sys.path.\n"
     ]
    },
    {
     "name": "stdout",
     "output_type": "stream",
     "text": [
      "Done\n",
      "\n",
      "Inverse time: 5.103811979293823\n"
     ]
    }
   ],
   "source": [
    "print('Solving systems...\\n')\n",
    "inverse_time = time.time()\n",
    "from scikits.sparse.cholmod import cholesky\n",
    "kl_hess_chol = cholesky(kl_hess)\n",
    "kl_inv_moment_jac = kl_hess_chol.solve_A(moment_jac.T)\n",
    "lrvb_cov = np.matmul(moment_jac, kl_inv_moment_jac)\n",
    "vb_prior_sens = np.matmul(log_prior_hess, kl_inv_moment_jac).T\n",
    "\n",
    "inverse_time = time.time() - inverse_time\n",
    "print('Done\\n')\n",
    "\n",
    "print('Inverse time:', inverse_time)"
   ]
  },
  {
   "cell_type": "code",
   "execution_count": 11,
   "metadata": {
    "collapsed": true
   },
   "outputs": [],
   "source": [
    "if False:\n",
    "    old_inv_time = time.time()\n",
    "    kl_inv_moment_jac_solve = sp.sparse.linalg.spsolve(kl_hess, moment_jac.T)\n",
    "    old_inv_time = time.time() - old_inv_time\n",
    "\n",
    "    print('Difference:', np.linalg.norm(kl_inv_moment_jac_solve - kl_inv_moment_jac))\n",
    "    print('Old time: ', old_inv_time)"
   ]
  },
  {
   "cell_type": "code",
   "execution_count": 12,
   "metadata": {},
   "outputs": [
    {
     "name": "stdout",
     "output_type": "stream",
     "text": [
      "Iter  20\n",
      "Iter  40\n",
      "Iter  60\n",
      "Iter  80\n",
      "CG time:  10.199395179748535\n",
      "Number of iterations:  81\n",
      "8.58809948572e-07\n"
     ]
    }
   ],
   "source": [
    "# Time using conjugate gradient to get a single row of the moment sensitivity.\n",
    "import scipy as sp\n",
    "from scipy.sparse.linalg import LinearOperator\n",
    "\n",
    "class OptimumHVP(object):\n",
    "    def __init__(self, glmm_par, opt_x, moment_jac):\n",
    "        self.verbose = False\n",
    "        self.print_every = 10\n",
    "        self.reset_iter()\n",
    "        self.opt_x = opt_x\n",
    "        self.moment_jac = moment_jac\n",
    "        self.lo = LinearOperator(\n",
    "            (glmm_par.free_size(), glmm_par.free_size()), self.hvp)\n",
    "        \n",
    "    def reset_iter(self):\n",
    "        self.iter = 0\n",
    "    \n",
    "    def hvp(self, vec):\n",
    "        self.iter += 1\n",
    "        if self.verbose and self.iter % self.print_every == 0:\n",
    "            print('Iter ', self.iter)\n",
    "        return model.objective.fun_free_hvp(self.opt_x, vec)\n",
    "    \n",
    "    def get_moment_sensitivity_row(self, moment_row):\n",
    "        self.reset_iter()\n",
    "        moment_jac_vec = moment_jac[moment_row, :].flatten()\n",
    "        cg_res, info = sp.sparse.linalg.cg(self.lo, moment_jac_vec)\n",
    "        return cg_res, info\n",
    "\n",
    "moment_row = 0\n",
    "optimum_hvp = OptimumHVP(glmm_par, opt_x, moment_jac)\n",
    "optimum_hvp.verbose = True\n",
    "optimum_hvp.print_every = 20\n",
    "cg_row_time = time.time()\n",
    "cg_res, info = optimum_hvp.get_moment_sensitivity_row(0)\n",
    "cg_row_time = time.time() - cg_row_time\n",
    "\n",
    "print('CG time: ', cg_row_time)\n",
    "num_cg_iterations = optimum_hvp.iter\n",
    "print('Number of iterations: ', optimum_hvp.iter)\n",
    "\n",
    "print(np.max(np.abs(cg_res - kl_inv_moment_jac[:, moment_row].flatten())))"
   ]
  },
  {
   "cell_type": "code",
   "execution_count": 13,
   "metadata": {},
   "outputs": [
    {
     "name": "stdout",
     "output_type": "stream",
     "text": [
      "/home/rgiordan/Documents/git_repos/LinearResponseVariationalBayes.py/Models/LogisticGLMM/data/criteo_subsampled_python_vb_results.pkl\n",
      "\n",
      "\n",
      "DONE.\n"
     ]
    }
   ],
   "source": [
    "if not simulate_data:\n",
    "    # Write the result to a JSON file for use in R.\n",
    "    \n",
    "    run_name = 'production'\n",
    "    \n",
    "    pickle_output_filename = os.path.join(data_dir, '%s_python_vb_results.pkl' % analysis_name)\n",
    "    pickle_output = open(pickle_output_filename, 'wb')\n",
    "\n",
    "    # Unlike with JSON, numpy arrays can be pickled.\n",
    "    # Note that it does not seem that you can pickle a sparse Cholesky decomposition.\n",
    "    pickle_result_dict = {  'glmm_par_dictval': glmm_par_opt.dictval(),\n",
    "                            'glmm_par_vector': glmm_par_opt.get_vector(),\n",
    "                            'glmm_par_free': glmm_par_opt.get_free(),\n",
    "                            'run_name': run_name,\n",
    "                            'vb_time': vb_time,\n",
    "                            'hess_time': hess_time,\n",
    "                            'inverse_time': inverse_time,\n",
    "                            'cg_row_time': cg_row_time,\n",
    "                            'num_cg_iterations': num_cg_iterations,\n",
    "                            'num_gh_points': num_gh_points, \n",
    "                            'lrvb_cov': np.squeeze(lrvb_cov),\n",
    "                            'moment_jac': np.squeeze(moment_jac),\n",
    "                            'kl_inv_moment_jac': kl_inv_moment_jac,\n",
    "                            'kl_hess_packed': pack_csr_matrix(kl_hess),\n",
    "                            'vb_prior_sens': np.squeeze(vb_prior_sens),\n",
    "                            'log_prior_hess': np.squeeze(log_prior_hess) }\n",
    "\n",
    "    # Pickle dictionary using protocol 0.\n",
    "    pickle.dump(pickle_result_dict, pickle_output)\n",
    "    pickle_output.close()\n",
    "    \n",
    "    print(pickle_output_filename)\n",
    "\n",
    "\n",
    "print('\\n\\nDONE.')\n",
    "    "
   ]
  }
 ],
 "metadata": {
  "kernelspec": {
   "display_name": "Python 3",
   "language": "python",
   "name": "python3"
  },
  "language_info": {
   "codemirror_mode": {
    "name": "ipython",
    "version": 3
   },
   "file_extension": ".py",
   "mimetype": "text/x-python",
   "name": "python",
   "nbconvert_exporter": "python",
   "pygments_lexer": "ipython3",
   "version": "3.5.2"
  }
 },
 "nbformat": 4,
 "nbformat_minor": 1
}
