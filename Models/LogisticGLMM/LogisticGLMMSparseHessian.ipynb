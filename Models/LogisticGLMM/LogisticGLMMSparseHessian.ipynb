{
 "cells": [
  {
   "cell_type": "code",
   "execution_count": 1,
   "metadata": {},
   "outputs": [],
   "source": [
    "import VariationalBayes as vb\n",
    "import LogisticGLMM_lib as logit_glmm\n",
    "from VariationalBayes.SparseObjectives import Objective, SparseObjective, get_sparse_hessian\n",
    "\n",
    "import matplotlib.pyplot as plt\n",
    "%matplotlib inline\n",
    "\n",
    "#import numpy as np\n",
    "\n",
    "import autograd\n",
    "import autograd.numpy as np\n",
    "\n",
    "import copy\n",
    "from scipy import optimize\n",
    "\n",
    "import os\n",
    "import json\n",
    "\n",
    "import time\n",
    "\n",
    "import pickle\n"
   ]
  },
  {
   "cell_type": "code",
   "execution_count": 2,
   "metadata": {},
   "outputs": [
    {
     "name": "stdout",
     "output_type": "stream",
     "text": [
      "dict_keys(['beta_prior_mean', 'N', 'beta_prior_info', 'y_group', 'mu_prior_info', 'mu_prior_mean', 'NG', 'y', 'K', 'x', 'tau_prior_beta', 'tau_prior_alpha'])\n",
      "0.324\n"
     ]
    }
   ],
   "source": [
    "# Load data saved by stan_results_to_json.R and run_stan.R in LRVBLogitGLMM.\n",
    "\n",
    "analysis_name = 'simulated_data_small'\n",
    "#analysis_name = 'criteo_subsampled'\n",
    "\n",
    "data_dir = os.path.join(os.environ['GIT_REPO_LOC'],\n",
    "                        'LinearResponseVariationalBayes.py/Models/LogisticGLMM/data')\n",
    "json_filename = os.path.join(data_dir, '%s_stan_dat.json' % analysis_name)\n",
    "\n",
    "json_file = open(json_filename, 'r')\n",
    "json_dat = json.load(json_file)\n",
    "json_file.close()\n",
    "\n",
    "stan_dat = json_dat['stan_dat']\n",
    "#vp_base = json_dat['vp_base']\n",
    "\n",
    "print(stan_dat.keys())\n",
    "K = stan_dat['K'][0]\n",
    "NObs = stan_dat['N'][0]\n",
    "NG = stan_dat['NG'][0]\n",
    "#N = NObs / NG\n",
    "y_g_vec = np.array(stan_dat['y_group'])\n",
    "y_vec = np.array(stan_dat['y'])\n",
    "x_mat = np.array(stan_dat['x'])\n",
    "\n",
    "glmm_par = logit_glmm.get_glmm_parameters(K=K, NG=NG)\n",
    "\n",
    "# Define a class to contain prior parameters.\n",
    "prior_par = logit_glmm.get_default_prior_params(K)\n",
    "prior_par['beta_prior_mean'].set(np.array(stan_dat['beta_prior_mean']))\n",
    "\n",
    "prior_par['beta_prior_info'].set(np.array(stan_dat['beta_prior_info']))\n",
    "\n",
    "prior_par['mu_prior_mean'].set(stan_dat['mu_prior_mean'][0])\n",
    "prior_par['mu_prior_info'].set(stan_dat['mu_prior_info'][0])\n",
    "\n",
    "prior_par['tau_prior_alpha'].set(stan_dat['tau_prior_alpha'][0])\n",
    "prior_par['tau_prior_beta'].set(stan_dat['tau_prior_beta'][0])\n",
    "\n",
    "# An index set to make sure jacobians match the order expected by R.\n",
    "prior_par_indices = copy.deepcopy(prior_par)\n",
    "prior_par_indices.set_name('Prior Indices')\n",
    "prior_par_indices.set_vector(np.array(range(prior_par_indices.vector_size())))\n",
    "\n",
    "free_par_vec = glmm_par.get_free()\n",
    "init_par_vec = copy.deepcopy(free_par_vec)\n",
    "\n",
    "print(np.mean(y_vec))"
   ]
  },
  {
   "cell_type": "code",
   "execution_count": 3,
   "metadata": {},
   "outputs": [
    {
     "name": "stdout",
     "output_type": "stream",
     "text": [
      "num_draws =  3\n",
      "\tFunction time: 0.0006081076979171484\n",
      "\tGrad time: 0.005675288301426917\n",
      "\tHessian vector product time: 0.010804865299724043\n",
      "\tPrior hess time:  0.05826306343078613\n"
     ]
    }
   ],
   "source": [
    "# Define moment parameters\n",
    "moment_wrapper = logit_glmm.MomentWrapper(glmm_par)\n",
    "get_moment_jacobian = autograd.jacobian(moment_wrapper.get_moment_vector)\n",
    "moment_jac = get_moment_jacobian(init_par_vec)\n",
    "\n",
    "model = logit_glmm.LogisticGLMM(glmm_par, prior_par, x_mat, y_vec, y_g_vec, num_gh_points=10)\n",
    "model.get_e_log_prior()\n",
    "model.get_log_lik()\n",
    "model.get_entropy()\n",
    "\n",
    "objective = Objective(model.glmm_par, model.get_kl)\n",
    "objective.fun_free(free_par_vec)\n",
    "\n",
    "# # PriorHess evaluates the second order derivative d2 EPrior / dpar dprior_par\n",
    "def get_e_log_prior(prior_vec, free_par):\n",
    "    model.glmm_par.set_free(free_par)\n",
    "    model.prior_par.set_vector(prior_vec)\n",
    "    return model.get_e_log_prior()\n",
    "\n",
    "get_prior_model_grad = autograd.grad(get_e_log_prior, argnum=0)\n",
    "get_prior_hess = autograd.jacobian(get_prior_model_grad, argnum=1)\n",
    "\n",
    "import timeit\n",
    "\n",
    "time_num = 10\n",
    "\n",
    "num_draws = 3\n",
    "model.set_gh_points(num_draws)\n",
    "print('num_draws = ', num_draws)\n",
    "print('\\tFunction time:',\n",
    "      timeit.timeit(lambda: objective.fun_free(free_par_vec), number=time_num) / time_num)\n",
    "\n",
    "print('\\tGrad time:', \n",
    "      timeit.timeit(lambda: objective.fun_free_grad(free_par_vec), number=time_num) / time_num)\n",
    "\n",
    "print('\\tHessian vector product time:',\n",
    "      timeit.timeit(lambda: objective.fun_free_hvp(free_par_vec, free_par_vec + 1), number=time_num) / time_num)\n",
    "\n",
    "prior_vec = model.prior_par.get_vector()\n",
    "prior_hess_time = time.time()\n",
    "get_prior_hess(prior_vec, init_par_vec)\n",
    "prior_hess_time = time.time() - prior_hess_time\n",
    "print('\\tPrior hess time: ', prior_hess_time)\n"
   ]
  },
  {
   "cell_type": "code",
   "execution_count": 4,
   "metadata": {},
   "outputs": [
    {
     "data": {
      "text/plain": [
       "array([ 3.81398028])"
      ]
     },
     "execution_count": 4,
     "metadata": {},
     "output_type": "execute_result"
    }
   ],
   "source": [
    "\n",
    "glmm_par.set_free(np.random.random(glmm_par.free_size()))\n",
    "\n",
    "sparse_model = logit_glmm.SparseModelObjective(glmm_par, prior_par, x_mat, y_vec, y_g_vec, 4)\n",
    "\n",
    "sparse_model.set_group_parameters(1)\n",
    "sparse_model.get_group_elbo(1)\n",
    "\n",
    "sparse_model.set_global_parameters()\n",
    "sparse_model.get_global_elbo()\n",
    "\n"
   ]
  },
  {
   "cell_type": "code",
   "execution_count": 5,
   "metadata": {},
   "outputs": [
    {
     "name": "stdout",
     "output_type": "stream",
     "text": [
      "[-738.99319975]\n",
      "-738.993199751699\n"
     ]
    }
   ],
   "source": [
    "\n",
    "objective = Objective(sparse_model.glmm_par, sparse_model.get_elbo)\n",
    "full_elbo = objective.fun_vector(sparse_model.glmm_par.get_vector())\n",
    "\n",
    "sparse_model.set_global_parameters()\n",
    "sparse_elbo = sparse_model.get_global_elbo()\n",
    "for g in range(NG):\n",
    "    group_vec, group_inds = sparse_model.set_group_parameters(g)\n",
    "    sparse_elbo += sparse_model.get_group_elbo_from_vec(group_vec, g)\n",
    "\n",
    "print(sparse_elbo)\n",
    "print(full_elbo)"
   ]
  },
  {
   "cell_type": "code",
   "execution_count": 12,
   "metadata": {},
   "outputs": [
    {
     "name": "stdout",
     "output_type": "stream",
     "text": [
      "Gettin' that ol' Hessian:\n",
      "Full Hessian time:  1.977499008178711\n",
      "Gettin' that ol' free Hessian:\n",
      "okey dokey\n"
     ]
    }
   ],
   "source": [
    "print('Gettin\\' that ol\\' Hessian:')\n",
    "\n",
    "full_hess_time = time.time()\n",
    "full_hess = objective.fun_vector_hessian(sparse_model.glmm_par.get_vector())\n",
    "full_hess_time = time.time() - full_hess_time\n",
    "\n",
    "print('Full Hessian time: ', full_hess_time)\n",
    "\n"
   ]
  },
  {
   "cell_type": "code",
   "execution_count": 7,
   "metadata": {
    "scrolled": false
   },
   "outputs": [
    {
     "name": "stdout",
     "output_type": "stream",
     "text": [
      "Global hessian:\n",
      "Group 0 of 0\n",
      "Done.\n",
      "Local hessian:\n",
      "Group 0 of 99\n",
      "Group 10 of 99\n",
      "Group 20 of 99\n",
      "Group 30 of 99\n",
      "Group 40 of 99\n",
      "Group 50 of 99\n",
      "Group 60 of 99\n",
      "Group 70 of 99\n",
      "Group 80 of 99\n",
      "Group 90 of 99\n",
      "Done.\n"
     ]
    }
   ],
   "source": [
    "\n",
    "from scipy.sparse import csr_matrix\n",
    "\n",
    "get_group_hessian = autograd.hessian(sparse_model.get_group_elbo_from_vec)\n",
    "get_global_hessian = autograd.hessian(sparse_model.get_global_elbo_from_vec)\n",
    "\n",
    "sparse_hess_time = time.time()\n",
    "\n",
    "print('Global hessian:')\n",
    "sparse_global_hess = get_sparse_hessian(\n",
    "    set_parameters_fun=sparse_model.set_global_parameters,\n",
    "    get_group_hessian=get_global_hessian,\n",
    "    group_range=range(1),\n",
    "    full_hess_dim = sparse_model.glmm_par.vector_size(),    \n",
    "    print_every=1)\n",
    "\n",
    "print('Local hessian:')\n",
    "sparse_group_hess = get_sparse_hessian(\n",
    "    set_parameters_fun=sparse_model.set_group_parameters,\n",
    "    get_group_hessian=get_group_hessian,\n",
    "    group_range=range(NG),\n",
    "    full_hess_dim = sparse_model.glmm_par.vector_size(),\n",
    "    print_every=10)\n",
    "\n",
    "sparse_hess_time = time.time() - sparse_hess_time\n",
    "\n"
   ]
  },
  {
   "cell_type": "code",
   "execution_count": 8,
   "metadata": {},
   "outputs": [
    {
     "name": "stdout",
     "output_type": "stream",
     "text": [
      "Max difference (should be zero): 9.94759830064e-14\n",
      "Stdev (so you know it's not all zeros): 1.45007827342\n",
      "\n",
      "\n",
      "Sparse Hessian time:  8.49004054069519\n",
      "Sparse Hessian time per group:  0.0849004054069519\n",
      "Full Hessian time:  2.0263516902923584\n",
      "Sparse Hessian time:  8.49004054069519\n"
     ]
    }
   ],
   "source": [
    "sparse_hess = sparse_global_hess + sparse_group_hess\n",
    "print('Max difference (should be zero):', np.max(np.abs(full_hess - sparse_hess.todense())))\n",
    "print('Stdev (so you know it\\'s not all zeros):', np.std(full_hess[:]))\n",
    "print('\\n')\n",
    "\n",
    "print('Sparse Hessian time: ', sparse_hess_time)\n",
    "print('Sparse Hessian time per group: ', sparse_hess_time  / float(NG))\n",
    "\n",
    "print('Full Hessian time: ', full_hess_time)\n",
    "print('Sparse Hessian time: ', sparse_hess_time)\n",
    "\n"
   ]
  },
  {
   "cell_type": "code",
   "execution_count": 9,
   "metadata": {},
   "outputs": [
    {
     "data": {
      "text/plain": [
       "[<matplotlib.lines.Line2D at 0x7ffb82a784e0>]"
      ]
     },
     "execution_count": 9,
     "metadata": {},
     "output_type": "execute_result"
    },
    {
     "data": {
      "image/png": "[encoded data removed]",
      "text/plain": [
       "<matplotlib.figure.Figure at 0x7ffb82b3ebe0>"
      ]
     },
     "metadata": {},
     "output_type": "display_data"
    }
   ],
   "source": [
    "plt.plot(full_hess.flatten(), np.asarray(sparse_hess.todense()).flatten(), 'k.')"
   ]
  },
  {
   "cell_type": "code",
   "execution_count": 13,
   "metadata": {},
   "outputs": [
    {
     "name": "stdout",
     "output_type": "stream",
     "text": [
      "Gettin' that ol' free Hessian:\n",
      "okey dokey\n"
     ]
    }
   ],
   "source": [
    "print('Gettin\\' that ol\\' free Hessian:')\n",
    "full_free_hess = objective.fun_free_hessian(sparse_model.glmm_par.get_free())\n",
    "print('okey dokey')"
   ]
  },
  {
   "cell_type": "code",
   "execution_count": 11,
   "metadata": {},
   "outputs": [
    {
     "name": "stderr",
     "output_type": "stream",
     "text": [
      "/home/rgiordan/Documents/git_repos/autograd/autograd/core.py:14: UserWarning: Output seems independent of input.\n",
      "  warnings.warn(\"Output seems independent of input.\")\n"
     ]
    }
   ],
   "source": [
    "from VariationalBayes.Parameters import convert_vector_to_free_hessian\n",
    "\n",
    "vector_grad = objective.fun_vector_grad(sparse_model.glmm_par.get_vector())\n",
    "free_hess = convert_vector_to_free_hessian(\n",
    "    sparse_model.glmm_par, sparse_model.glmm_par.get_free(),\n",
    "    vector_grad,\n",
    "    sparse_hess)\n",
    "\n"
   ]
  },
  {
   "cell_type": "code",
   "execution_count": 15,
   "metadata": {},
   "outputs": [
    {
     "name": "stdout",
     "output_type": "stream",
     "text": [
      "1.20792265079e-13\n"
     ]
    },
    {
     "data": {
      "text/plain": [
       "[<matplotlib.lines.Line2D at 0x7ffb828dac88>]"
      ]
     },
     "execution_count": 15,
     "metadata": {},
     "output_type": "execute_result"
    },
    {
     "data": {
      "image/png": "[encoded data removed]",
      "text/plain": [
       "<matplotlib.figure.Figure at 0x7ffb8298cdd8>"
      ]
     },
     "metadata": {},
     "output_type": "display_data"
    }
   ],
   "source": [
    "print(np.max(np.abs(full_free_hess.flatten() - np.asarray(free_hess.todense()).flatten())))\n",
    "plt.plot(full_free_hess.flatten(), np.asarray(free_hess.todense()).flatten(), 'k.')"
   ]
  }
 ],
 "metadata": {
  "kernelspec": {
   "display_name": "Python 3",
   "language": "python",
   "name": "python3"
  },
  "language_info": {
   "codemirror_mode": {
    "name": "ipython",
    "version": 3
   },
   "file_extension": ".py",
   "mimetype": "text/x-python",
   "name": "python",
   "nbconvert_exporter": "python",
   "pygments_lexer": "ipython3",
   "version": "3.5.2"
  }
 },
 "nbformat": 4,
 "nbformat_minor": 2
}
