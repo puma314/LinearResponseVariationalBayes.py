{
 "cells": [
  {
   "cell_type": "code",
   "execution_count": 1,
   "metadata": {},
   "outputs": [],
   "source": [
    "import VariationalBayes as vb\n",
    "import LogisticGLMM_lib as logit_glmm\n",
    "from VariationalBayes.SparseObjectives import Objective, SparseObjective\n",
    "import VariationalBayes.ExponentialFamilies as ef\n",
    "\n",
    "import matplotlib.pyplot as plt\n",
    "%matplotlib inline\n",
    "\n",
    "import numpy as np\n",
    "\n",
    "import autograd\n",
    "\n",
    "import copy\n",
    "from scipy import optimize\n",
    "\n",
    "import os\n",
    "import json\n",
    "\n",
    "import time\n",
    "\n",
    "import pickle\n",
    "\n",
    "analysis_name = 'simulated_data_small'\n",
    "\n",
    "data_dir = os.path.join(os.environ['GIT_REPO_LOC'],\n",
    "                        'LinearResponseVariationalBayes.py/Models/LogisticGLMM/data')\n"
   ]
  },
  {
   "cell_type": "code",
   "execution_count": 2,
   "metadata": {},
   "outputs": [],
   "source": [
    "pickle_output_filename = os.path.join(data_dir, '%s_python_vb_results.pkl' % analysis_name)\n",
    "pkl_file = open(pickle_output_filename, 'rb')\n",
    "vb_data = pickle.load(pkl_file)\n",
    "\n",
    "json_filename = os.path.join(data_dir, '%s_stan_dat.json' % analysis_name)\n",
    "\n",
    "json_file = open(json_filename, 'r')\n",
    "json_dat = json.load(json_file)\n",
    "json_file.close()\n",
    "\n",
    "stan_dat = json_dat['stan_dat']\n",
    "\n",
    "K = stan_dat['K'][0]\n",
    "NObs = stan_dat['N'][0]\n",
    "NG = stan_dat['NG'][0]\n",
    "y_g_vec = np.array(stan_dat['y_group'])\n",
    "y_vec = np.array(stan_dat['y'])\n",
    "x_mat = np.array(stan_dat['x'])\n",
    "\n",
    "glmm_par = logit_glmm.get_glmm_parameters(K=K, NG=NG)\n",
    "\n",
    "# Define a class to contain prior parameters.\n",
    "prior_par = logit_glmm.get_default_prior_params(K)\n",
    "prior_par['beta_prior_mean'].set(np.array(stan_dat['beta_prior_mean']))\n",
    "\n",
    "prior_par['beta_prior_info'].set(np.array(stan_dat['beta_prior_info']))\n",
    "\n",
    "prior_par['mu_prior_mean'].set(stan_dat['mu_prior_mean'][0])\n",
    "prior_par['mu_prior_info'].set(stan_dat['mu_prior_info'][0])\n",
    "\n",
    "prior_par['tau_prior_alpha'].set(stan_dat['tau_prior_alpha'][0])\n",
    "prior_par['tau_prior_beta'].set(stan_dat['tau_prior_beta'][0])\n",
    "\n"
   ]
  },
  {
   "cell_type": "code",
   "execution_count": 3,
   "metadata": {},
   "outputs": [],
   "source": [
    "class LogisticGLMMLogPosterior(object):\n",
    "    def __init__(\n",
    "        self, glmm_par_draw, prior_par, x_mat, y_vec, y_g_vec):\n",
    "\n",
    "        self.glmm_par_draw = copy.deepcopy(glmm_par_draw)\n",
    "        self.prior_par = copy.deepcopy(prior_par)\n",
    "        self.x_mat = x_mat\n",
    "        self.y_vec = y_vec\n",
    "        self.y_g_vec = y_g_vec\n",
    "        self.K = x_mat.shape[1]\n",
    "\n",
    "        assert np.min(y_g_vec) == 0\n",
    "        assert np.max(y_g_vec) == self.glmm_par_draw['u'].size() - 1\n",
    "\n",
    "    def get_log_prior(self):\n",
    "        beta = self.glmm_par_draw['beta'].get()\n",
    "        mu = self.glmm_par_draw['mu'].get()\n",
    "        tau = self.glmm_par_draw['tau'].get()\n",
    "        log_tau = np.log(tau)\n",
    "        \n",
    "        cov_beta = np.zeros((self.K, self.K))\n",
    "        beta_prior_info = self.prior_par['beta_prior_info'].get()\n",
    "        beta_prior_mean = self.prior_par['beta_prior_mean'].get()\n",
    "        log_p_beta = ef.mvn_prior(\n",
    "            beta_prior_mean, beta_prior_info, beta, cov_beta)\n",
    "\n",
    "        log_p_mu = ef.uvn_prior(\n",
    "            self.prior_par['mu_prior_mean'].get(),\n",
    "            self.prior_par['mu_prior_info'].get(), mu, 0.0)\n",
    "\n",
    "        tau_prior_shape = self.prior_par['tau_prior_alpha'].get()\n",
    "        tau_prior_rate = self.prior_par['tau_prior_beta'].get()\n",
    "        log_p_tau = ef.gamma_prior(\n",
    "            tau_prior_shape, tau_prior_rate, tau, log_tau)\n",
    "\n",
    "        return log_p_beta + log_p_mu + log_p_tau\n",
    "\n",
    "    def get_log_lik(self):\n",
    "        beta = self.glmm_par_draw['beta'].get()\n",
    "        u = self.glmm_par_draw['u'].get()\n",
    "        mu = self.glmm_par_draw['mu'].get()\n",
    "        tau = self.glmm_par_draw['tau'].get()\n",
    "        log_tau = np.log(tau)\n",
    "\n",
    "        log_lik = 0.\n",
    "\n",
    "        # Log likelihood from data.\n",
    "        z = u[self.y_g_vec] + np.matmul(self.x_mat, beta)\n",
    "        log_lik += np.sum(self.y_vec * z - np.log1p(np.exp(z)))\n",
    "\n",
    "        # Log likelihood from random effect terms.\n",
    "        log_lik += -0.5 * tau * np.sum((mu - u) ** 2) + 0.5 * log_tau * len(u)\n",
    "\n",
    "        return log_lik\n",
    "\n",
    "    def get_log_posterior(self):\n",
    "        return np.squeeze(\n",
    "            self.get_log_lik() + \\\n",
    "            self.get_log_prior())\n",
    "\n",
    "\n"
   ]
  },
  {
   "cell_type": "code",
   "execution_count": 4,
   "metadata": {},
   "outputs": [
    {
     "data": {
      "text/plain": [
       "-696.14718055994535"
      ]
     },
     "execution_count": 4,
     "metadata": {},
     "output_type": "execute_result"
    }
   ],
   "source": [
    "model = logit_glmm.LogisticGLMM(\n",
    "    glmm_par, prior_par, x_mat, y_vec, y_g_vec, num_gh_points=vb_data['num_gh_points'])\n",
    "\n",
    "\n",
    "glmm_par_draw = vb.ModelParamsDict('GLMM Parameter Draw')\n",
    "glmm_par_draw.push_param(vb.ScalarParam('mu', val=0.0))\n",
    "glmm_par_draw.push_param(vb.ScalarParam('tau', val=1.0))\n",
    "glmm_par_draw.push_param(vb.VectorParam('beta', K, val=np.full(K, 0.)))\n",
    "glmm_par_draw.push_param(vb.VectorParam('u', NG))\n",
    "\n",
    "log_model = LogisticGLMMLogPosterior(glmm_par_draw, prior_par, x_mat, y_vec, y_g_vec)\n",
    "log_model.get_log_posterior()"
   ]
  },
  {
   "cell_type": "code",
   "execution_count": 5,
   "metadata": {},
   "outputs": [],
   "source": [
    "class LogisticGLMMBootstrap(object):\n",
    "    def __init__(self, model):\n",
    "        self.model = model\n",
    "        self.weights = np.full(model.x_mat.shape[0], 1.0)\n",
    "        \n",
    "    def wrap_data_log_lik_terms(self, free_par):\n",
    "        self.model.glmm_par.set_free(free_par)\n",
    "        return self.model.get_data_log_lik_terms()\n",
    "    \n",
    "glmm_bootstrap_object = LogisticGLMMBootstrap(model)\n",
    "\n",
    "get_weight_jacobian = autograd.jacobian(glmm_bootstrap_object.wrap_data_log_lik_terms)\n"
   ]
  },
  {
   "cell_type": "code",
   "execution_count": 6,
   "metadata": {},
   "outputs": [
    {
     "name": "stdout",
     "output_type": "stream",
     "text": [
      "(108, 224)\n",
      "(224, 224)\n",
      "(1000, 224)\n"
     ]
    }
   ],
   "source": [
    "glmm_par_free = vb_data['glmm_par_free']\n",
    "elbo_hess = vb_data['elbo_hess']\n",
    "\n",
    "moment_wrapper = logit_glmm.MomentWrapper(glmm_par)\n",
    "get_moment_jacobian = autograd.jacobian(moment_wrapper.get_moment_vector)\n"
   ]
  },
  {
   "cell_type": "code",
   "execution_count": 37,
   "metadata": {},
   "outputs": [],
   "source": [
    "\n",
    "objective = Objective(model.glmm_par, model.get_kl)\n",
    "glmm_par_opt = copy.deepcopy(glmm_par)\n",
    "def tr_optimize(trust_init, weights, num_gh_points=4, gtol=1e-6, maxiter=500):\n",
    "    model.use_weights = True\n",
    "    model.set_gh_points(num_gh_points)\n",
    "    model.weights = copy.deepcopy(weights)\n",
    "    objective.logger.initialize()\n",
    "    objective.logger.print_every = 1\n",
    "    vb_opt = optimize.minimize(\n",
    "        lambda par: objective.fun_free(par, verbose=True),\n",
    "        x0=trust_init,\n",
    "        method='trust-ncg',\n",
    "        jac=objective.fun_free_grad,\n",
    "        hessp=objective.fun_free_hvp,\n",
    "        tol=1e-6, options={'maxiter': maxiter, 'disp': True, 'gtol': gtol })\n",
    "    return vb_opt.x"
   ]
  },
  {
   "cell_type": "code",
   "execution_count": 38,
   "metadata": {},
   "outputs": [
    {
     "name": "stdout",
     "output_type": "stream",
     "text": [
      "1000.0\n",
      "Iter  0  value:  69.3309807058\n",
      "\tx_diff:  inf\n",
      "Iter  1  value:  69.3309807058\n",
      "\tx_diff:  4.35241612085e-07\n",
      "Optimization terminated successfully.\n",
      "         Current function value: 69.330981\n",
      "         Iterations: 1\n",
      "         Function evaluations: 2\n",
      "         Gradient evaluations: 1\n",
      "         Hessian evaluations: 0\n"
     ]
    }
   ],
   "source": [
    "base_weights = np.full(NObs, 1.0)\n",
    "print(np.sum(base_weights))\n",
    "glmm_par_opt = tr_optimize(glmm_par_free, base_weights)\n"
   ]
  },
  {
   "cell_type": "code",
   "execution_count": 40,
   "metadata": {},
   "outputs": [
    {
     "name": "stdout",
     "output_type": "stream",
     "text": [
      "(108, 1000)\n"
     ]
    }
   ],
   "source": [
    "kl_hess = objective.fun_free_hessian(glmm_par_opt)\n",
    "moment_jac = get_moment_jacobian(glmm_par_opt)\n",
    "weight_jacobian = get_weight_jacobian(glmm_par_opt)\n",
    "moment_boot_mat = -1* np.matmul(moment_jac, np.linalg.solve(elbo_hess, np.transpose(weight_jacobian)))\n",
    "print(moment_boot_mat.shape)"
   ]
  },
  {
   "cell_type": "code",
   "execution_count": 92,
   "metadata": {},
   "outputs": [
    {
     "name": "stdout",
     "output_type": "stream",
     "text": [
      "1000.0\n",
      "Iter  0  value:  67.4459374243\n",
      "\tx_diff:  inf\n",
      "Iter  1  value:  67.0174292485\n",
      "\tx_diff:  0.248185858243\n",
      "Iter  2  value:  67.0092292458\n",
      "\tx_diff:  0.0197863058498\n",
      "Iter  3  value:  66.9718763068\n",
      "\tx_diff:  0.103555179917\n",
      "Iter  4  value:  66.9672659516\n",
      "\tx_diff:  0.0599394455394\n",
      "Iter  5  value:  66.9672168416\n",
      "\tx_diff:  0.0080240425379\n",
      "Iter  6  value:  66.9672164128\n",
      "\tx_diff:  0.000415631774321\n",
      "Iter  7  value:  66.9672164127\n",
      "\tx_diff:  1.10283619333e-05\n",
      "Optimization terminated successfully.\n",
      "         Current function value: 66.967216\n",
      "         Iterations: 7\n",
      "         Function evaluations: 8\n",
      "         Gradient evaluations: 8\n",
      "         Hessian evaluations: 0\n"
     ]
    }
   ],
   "source": [
    "boot_draw = np.random.multinomial(NObs, [1. / NObs] * NObs, size=1) - 1.0\n",
    "boot_draw = 0.5 * boot_draw + base_weights\n",
    "print(np.sum(boot_draw))\n",
    "glmm_par_opt_boot = tr_optimize(glmm_par_opt, boot_draw)\n"
   ]
  },
  {
   "cell_type": "code",
   "execution_count": 93,
   "metadata": {},
   "outputs": [
    {
     "data": {
      "text/plain": [
       "[<matplotlib.lines.Line2D at 0x7fa27838e4a8>]"
      ]
     },
     "execution_count": 93,
     "metadata": {},
     "output_type": "execute_result"
    },
    {
     "data": {
      "image/png": "[encoded data removed]",
      "text/plain": [
       "<matplotlib.figure.Figure at 0x7fa277a6a390>"
      ]
     },
     "metadata": {},
     "output_type": "display_data"
    }
   ],
   "source": [
    "moment_vec = moment_wrapper.get_moment_vector(glmm_par_opt)\n",
    "moment_vec_boot = moment_wrapper.get_moment_vector(glmm_par_opt_boot)\n",
    "true_moment_diff = moment_vec_boot - moment_vec\n",
    "lr_moment_diff = np.matmul(moment_boot_mat, np.squeeze(boot_draw) - 1.0)\n",
    "\n",
    "#plt.plot(moment_vec, moment_vec_boot, 'k.')\n",
    "plt.plot(true_moment_diff, lr_moment_diff, 'r+', markersize=20)\n",
    "plt.plot(true_moment_diff, true_moment_diff, 'k.')"
   ]
  },
  {
   "cell_type": "code",
   "execution_count": 94,
   "metadata": {},
   "outputs": [
    {
     "name": "stdout",
     "output_type": "stream",
     "text": [
      "Moment Parameters:\n",
      "\te_beta:\n",
      "[0 1 2 3 4]\n",
      "\te_mu: [5]\n",
      "\te_tau: [6]\n",
      "\te_log_tau: [7]\n",
      "\te_u:\n",
      "[  8   9  10  11  12  13  14  15  16  17  18  19  20  21  22  23  24  25\n",
      "  26  27  28  29  30  31  32  33  34  35  36  37  38  39  40  41  42  43\n",
      "  44  45  46  47  48  49  50  51  52  53  54  55  56  57  58  59  60  61\n",
      "  62  63  64  65  66  67  68  69  70  71  72  73  74  75  76  77  78  79\n",
      "  80  81  82  83  84  85  86  87  88  89  90  91  92  93  94  95  96  97\n",
      "  98  99 100 101 102 103 104 105 106 107]\n",
      "[0, 1, 2, 3, 4, 5, 6, 7]\n"
     ]
    },
    {
     "data": {
      "text/plain": [
       "[<matplotlib.lines.Line2D at 0x7fa277c00400>]"
      ]
     },
     "execution_count": 94,
     "metadata": {},
     "output_type": "execute_result"
    },
    {
     "data": {
      "image/png": "[encoded data removed]",
      "text/plain": [
       "<matplotlib.figure.Figure at 0x7fa277ae1f28>"
      ]
     },
     "metadata": {},
     "output_type": "display_data"
    },
    {
     "data": {
      "image/png": "[encoded data removed]",
      "text/plain": [
       "<matplotlib.figure.Figure at 0x7fa277b82390>"
      ]
     },
     "metadata": {},
     "output_type": "display_data"
    },
    {
     "data": {
      "image/png": "[encoded data removed]",
      "text/plain": [
       "<matplotlib.figure.Figure at 0x7fa277bf15f8>"
      ]
     },
     "metadata": {},
     "output_type": "display_data"
    }
   ],
   "source": [
    "moment_indices = copy.deepcopy(moment_wrapper.moment_par)\n",
    "moment_indices.set_vector(np.arange(0, moment_indices.vector_size()))\n",
    "print(moment_indices)\n",
    "u_ind = moment_indices['e_u'].get()\n",
    "beta_ind = moment_indices['e_beta'].get()\n",
    "non_u_ind = list(set(moment_indices.get_vector()) - set(u_ind))\n",
    "print(non_u_ind)\n",
    "\n",
    "#true_moment_diff[u_ind]\n",
    "\n",
    "plt.figure()\n",
    "plt.plot(true_moment_diff[u_ind], lr_moment_diff[u_ind], 'r+', markersize=20)\n",
    "plt.plot(true_moment_diff[u_ind], true_moment_diff[u_ind], 'k.')\n",
    "\n",
    "plt.figure()\n",
    "plt.plot(true_moment_diff[non_u_ind], lr_moment_diff[non_u_ind], 'r+', markersize=20)\n",
    "plt.plot(true_moment_diff[non_u_ind], true_moment_diff[non_u_ind], 'k.')\n",
    "\n",
    "\n",
    "plt.figure()\n",
    "plt.plot(true_moment_diff[beta_ind], lr_moment_diff[beta_ind], 'r+', markersize=20)\n",
    "plt.plot(true_moment_diff[beta_ind], true_moment_diff[beta_ind], 'k.')"
   ]
  }
 ],
 "metadata": {
  "kernelspec": {
   "display_name": "Python 3",
   "language": "python",
   "name": "python3"
  },
  "language_info": {
   "codemirror_mode": {
    "name": "ipython",
    "version": 3
   },
   "file_extension": ".py",
   "mimetype": "text/x-python",
   "name": "python",
   "nbconvert_exporter": "python",
   "pygments_lexer": "ipython3",
   "version": "3.5.2"
  }
 },
 "nbformat": 4,
 "nbformat_minor": 2
}
