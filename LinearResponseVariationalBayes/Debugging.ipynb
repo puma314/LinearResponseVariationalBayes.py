{
 "cells": [
  {
   "cell_type": "code",
   "execution_count": 22,
   "metadata": {
    "collapsed": true
   },
   "outputs": [],
   "source": [
    "import test_variational_bayes as test\n",
    "import LinearResponseVariationalBayes as vb\n",
    "import unittest\n",
    "from autograd import numpy as np\n",
    "import autograd"
   ]
  },
  {
   "cell_type": "code",
   "execution_count": 49,
   "metadata": {},
   "outputs": [
    {
     "name": "stderr",
     "output_type": "stream",
     "text": [
      "/usr/local/lib/python3.5/dist-packages/autograd/tracer.py:14: UserWarning: Output seems independent of input.\n",
      "  warnings.warn(\"Output seems independent of input.\")\n"
     ]
    },
    {
     "ename": "AssertionError",
     "evalue": "",
     "output_type": "error",
     "traceback": [
      "\u001b[0;31m---------------------------------------------------------------------------\u001b[0m",
      "\u001b[0;31mAssertionError\u001b[0m                            Traceback (most recent call last)",
      "\u001b[0;32m<ipython-input-49-041921f97797>\u001b[0m in \u001b[0;36m<module>\u001b[0;34m()\u001b[0m\n\u001b[1;32m      6\u001b[0m \u001b[0;34m\u001b[0m\u001b[0m\n\u001b[1;32m      7\u001b[0m \u001b[0mtestcase\u001b[0m \u001b[0;34m=\u001b[0m \u001b[0mTestDummy\u001b[0m\u001b[0;34m(\u001b[0m\u001b[0;34m)\u001b[0m\u001b[0;34m\u001b[0m\u001b[0m\n\u001b[0;32m----> 8\u001b[0;31m \u001b[0mtest\u001b[0m\u001b[0;34m.\u001b[0m\u001b[0mcheck_sparse_transforms\u001b[0m\u001b[0;34m(\u001b[0m\u001b[0mtestcase\u001b[0m\u001b[0;34m,\u001b[0m \u001b[0mpar\u001b[0m\u001b[0;34m)\u001b[0m\u001b[0;34m\u001b[0m\u001b[0m\n\u001b[0m",
      "\u001b[0;32m/home/rgiordan/Documents/git_repos/LinearResponseVariationalBayes.py/LinearResponseVariationalBayes/test_variational_bayes.py\u001b[0m in \u001b[0;36mcheck_sparse_transforms\u001b[0;34m(testcase, param)\u001b[0m\n\u001b[1;32m     58\u001b[0m     \u001b[0;32mfor\u001b[0m \u001b[0mvec_row\u001b[0m \u001b[0;32min\u001b[0m \u001b[0mrange\u001b[0m\u001b[0;34m(\u001b[0m\u001b[0mlen\u001b[0m\u001b[0;34m(\u001b[0m\u001b[0msp_hess\u001b[0m\u001b[0;34m)\u001b[0m\u001b[0;34m)\u001b[0m\u001b[0;34m:\u001b[0m\u001b[0;34m\u001b[0m\u001b[0m\n\u001b[1;32m     59\u001b[0m         \u001b[0msp_hess_row\u001b[0m \u001b[0;34m=\u001b[0m \u001b[0msp_hess\u001b[0m\u001b[0;34m[\u001b[0m\u001b[0mvec_row\u001b[0m\u001b[0;34m]\u001b[0m\u001b[0;34m\u001b[0m\u001b[0m\n\u001b[0;32m---> 60\u001b[0;31m         \u001b[0;32massert\u001b[0m \u001b[0msp\u001b[0m\u001b[0;34m.\u001b[0m\u001b[0msparse\u001b[0m\u001b[0;34m.\u001b[0m\u001b[0missparse\u001b[0m\u001b[0;34m(\u001b[0m\u001b[0msp_hess_row\u001b[0m\u001b[0;34m)\u001b[0m\u001b[0;34m\u001b[0m\u001b[0m\n\u001b[0m\u001b[1;32m     61\u001b[0m         np_test.assert_array_almost_equal(\n\u001b[1;32m     62\u001b[0m             hess[vec_row, :, :], sp_hess_row.toarray())\n",
      "\u001b[0;31mAssertionError\u001b[0m: "
     ]
    }
   ],
   "source": [
    "par = vb.VectorParam(size=2)\n",
    "free_param = par.get_free()\n",
    "\n",
    "class TestDummy(unittest.TestCase):\n",
    "    pass\n",
    "\n",
    "testcase = TestDummy()\n",
    "test.check_sparse_transforms(testcase, par)"
   ]
  },
  {
   "cell_type": "code",
   "execution_count": 53,
   "metadata": {},
   "outputs": [
    {
     "name": "stdout",
     "output_type": "stream",
     "text": [
      ":\n",
      "[ 0.  0.]\n",
      "--------\n",
      "(2,)\n",
      "  (0, 0)\t0.0\n",
      "ndarray\n"
     ]
    },
    {
     "name": "stderr",
     "output_type": "stream",
     "text": [
      "/usr/local/lib/python3.5/dist-packages/autograd/tracer.py:14: UserWarning: Output seems independent of input.\n",
      "  warnings.warn(\"Output seems independent of input.\")\n"
     ]
    },
    {
     "ename": "AttributeError",
     "evalue": "'numpy.ndarray' object has no attribute 'toarray'",
     "output_type": "error",
     "traceback": [
      "\u001b[0;31m---------------------------------------------------------------------------\u001b[0m",
      "\u001b[0;31mAttributeError\u001b[0m                            Traceback (most recent call last)",
      "\u001b[0;32m<ipython-input-53-9fe4bc190189>\u001b[0m in \u001b[0;36m<module>\u001b[0;34m()\u001b[0m\n\u001b[1;32m     18\u001b[0m \u001b[0mprint\u001b[0m\u001b[0;34m(\u001b[0m\u001b[0msp_hess\u001b[0m\u001b[0;34m[\u001b[0m\u001b[0;36m0\u001b[0m\u001b[0;34m]\u001b[0m\u001b[0;34m)\u001b[0m\u001b[0;34m\u001b[0m\u001b[0m\n\u001b[1;32m     19\u001b[0m \u001b[0mprint\u001b[0m\u001b[0;34m(\u001b[0m\u001b[0msp_hess\u001b[0m\u001b[0;34m[\u001b[0m\u001b[0;36m0\u001b[0m\u001b[0;34m]\u001b[0m\u001b[0;34m.\u001b[0m\u001b[0m__class__\u001b[0m\u001b[0;34m.\u001b[0m\u001b[0m__name__\u001b[0m\u001b[0;34m)\u001b[0m\u001b[0;34m\u001b[0m\u001b[0m\n\u001b[0;32m---> 20\u001b[0;31m \u001b[0mprint\u001b[0m\u001b[0;34m(\u001b[0m\u001b[0msp_hess\u001b[0m\u001b[0;34m[\u001b[0m\u001b[0;36m0\u001b[0m\u001b[0;34m]\u001b[0m\u001b[0;34m.\u001b[0m\u001b[0mtoarray\u001b[0m\u001b[0;34m(\u001b[0m\u001b[0;34m)\u001b[0m\u001b[0;34m)\u001b[0m\u001b[0;34m\u001b[0m\u001b[0m\n\u001b[0m",
      "\u001b[0;31mAttributeError\u001b[0m: 'numpy.ndarray' object has no attribute 'toarray'"
     ]
    }
   ],
   "source": [
    "par = vb.VectorParam(size=2)\n",
    "free_param = par.get_free()\n",
    "print(par)\n",
    "\n",
    "free_param = np.random.random(par.free_size())\n",
    "def set_free_and_get_vector(free_param):\n",
    "    par.set_free(free_param)\n",
    "    return par.get_vector()\n",
    "\n",
    "set_free_and_get_vector_jac = autograd.jacobian(set_free_and_get_vector)\n",
    "set_free_and_get_vector_hess = autograd.hessian(set_free_and_get_vector)\n",
    "\n",
    "hess = set_free_and_get_vector_hess(free_param)\n",
    "sp_hess = par.free_to_vector_hess(free_param)\n",
    "\n",
    "print('--------')\n",
    "print(sp_hess.shape)\n",
    "print(sp_hess[0])\n",
    "print(sp_hess[0].__class__.__name__)\n",
    "print(sp_hess[0].toarray())"
   ]
  },
  {
   "cell_type": "code",
   "execution_count": 64,
   "metadata": {},
   "outputs": [
    {
     "name": "stdout",
     "output_type": "stream",
     "text": [
      "[ array(<2x2 sparse matrix of type '<class 'numpy.object_'>'\n",
      "\twith 1 stored elements in COOrdinate format>, dtype=object)\n",
      " array(<2x2 sparse matrix of type '<class 'numpy.object_'>'\n",
      "\twith 1 stored elements in COOrdinate format>, dtype=object)]\n"
     ]
    }
   ],
   "source": [
    "import scipy as sp\n",
    "from scipy.sparse import coo_matrix\n",
    "\n",
    "par.__lb = 0.0\n",
    "par.__ub = float('inf')\n",
    "\n",
    "free_val = par.get_free()\n",
    "\n",
    "def get_ind_hess(vec_ind):\n",
    "    hess = vb.Parameters.constrain_scalar_hess(free_val[vec_ind], par.__lb, par.__ub)\n",
    "    return coo_matrix(([ hess ],\n",
    "                       ([vec_ind], [vec_ind])),\n",
    "                       (par.free_size(), par.vector_size()))\n",
    "foo =  np.array([ get_ind_hess(vec_ind)\n",
    "                  for vec_ind in range(par.vector_size()) ])\n",
    "\n",
    "print(foo)\n"
   ]
  },
  {
   "cell_type": "code",
   "execution_count": 73,
   "metadata": {},
   "outputs": [
    {
     "name": "stdout",
     "output_type": "stream",
     "text": [
      "coo_matrix\n",
      "coo_matrix\n",
      "ndarray\n"
     ]
    }
   ],
   "source": [
    "foo = get_ind_hess(0)\n",
    "bar = [ get_ind_hess(vec_ind) for vec_ind in range(par.vector_size()) ]\n",
    "baz = np.array([ get_ind_hess(vec_ind) for vec_ind in range(par.vector_size()) ])\n",
    "\n",
    "print(foo.__class__.__name__)\n",
    "print(bar[0].__class__.__name__)\n",
    "print(baz[0].__class__.__name__)\n"
   ]
  },
  {
   "cell_type": "code",
   "execution_count": 86,
   "metadata": {},
   "outputs": [
    {
     "name": "stderr",
     "output_type": "stream",
     "text": [
      "/usr/local/lib/python3.5/dist-packages/ipykernel_launcher.py:6: UserWarning: user warning dude\n",
      "  \n",
      "/usr/local/lib/python3.5/dist-packages/ipykernel_launcher.py:7: DeprecationWarning: deprecated dawg\n",
      "  import sys\n"
     ]
    }
   ],
   "source": [
    "\n",
    "\n",
    "import warnings\n",
    "\n",
    "def fxn():\n",
    "    warnings.warn(\"user warning dude\", UserWarning)\n",
    "    warnings.warn(\"deprecated dawg\", DeprecationWarning)\n",
    "    warnings.warn(\"deprecated dude\", DeprecationWarning)\n",
    "\n",
    "with warnings.catch_warnings():\n",
    "    #warnings.filterwarnings(action[, message[, category[, module[, lineno[, append]]]]])¶\n",
    "    warnings.filterwarnings(\"ignore\", \".*dude$\", DeprecationWarning)\n",
    "    #warnings.simplefilter(\"ignore\")\n",
    "    fxn()\n",
    "\n",
    "with warnings.catch_warnings():\n",
    "    warnings.filterwarnings(\n",
    "        \"ignore\", \"^Output seems independent of input\\.$\", UserWarning)\n"
   ]
  },
  {
   "cell_type": "code",
   "execution_count": 87,
   "metadata": {},
   "outputs": [
    {
     "name": "stderr",
     "output_type": "stream",
     "text": [
      "/usr/local/lib/python3.5/dist-packages/ipykernel_launcher.py:6: UserWarning: user warning dude\n",
      "  \n",
      "/usr/local/lib/python3.5/dist-packages/ipykernel_launcher.py:7: DeprecationWarning: deprecated dawg\n",
      "  import sys\n",
      "/usr/local/lib/python3.5/dist-packages/ipykernel_launcher.py:8: DeprecationWarning: deprecated dude\n",
      "  \n"
     ]
    }
   ],
   "source": [
    "fxn()"
   ]
  }
 ],
 "metadata": {
  "kernelspec": {
   "display_name": "Python 3",
   "language": "python",
   "name": "python3"
  },
  "language_info": {
   "codemirror_mode": {
    "name": "ipython",
    "version": 3
   },
   "file_extension": ".py",
   "mimetype": "text/x-python",
   "name": "python",
   "nbconvert_exporter": "python",
   "pygments_lexer": "ipython3",
   "version": "3.5.2"
  }
 },
 "nbformat": 4,
 "nbformat_minor": 2
}
