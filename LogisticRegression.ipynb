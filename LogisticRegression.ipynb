{
 "cells": [
  {
   "cell_type": "code",
   "execution_count": 1,
   "metadata": {
    "collapsed": false
   },
   "outputs": [],
   "source": [
    "from VariationalBayes import VectorParam, ScalarParam, PosDefMatrixParam, ModelParamsDict\n",
    "import math\n",
    "\n",
    "from autograd import grad, hessian, jacobian, hessian_vector_product\n",
    "from autograd.core import primitive\n",
    "from autograd.numpy.numpy_grads import unbroadcast\n",
    "\n",
    "import autograd.numpy as np\n",
    "import autograd.numpy.random as npr\n",
    "\n",
    "import copy\n",
    "import scipy\n",
    "from scipy import optimize\n",
    "from scipy import stats"
   ]
  },
  {
   "cell_type": "code",
   "execution_count": 2,
   "metadata": {
    "collapsed": true
   },
   "outputs": [],
   "source": [
    "def Log1mInvLogit(u):\n",
    "    # log(1 - p) = log(1 / (1 + exp(u))) = -log(1 + exp(u))\n",
    "    return -np.log1p(np.exp(u))\n",
    "\n",
    "def Logistic(u):\n",
    "    return np.exp(u) / (1 + np.exp(u))"
   ]
  },
  {
   "cell_type": "code",
   "execution_count": 88,
   "metadata": {
    "collapsed": false
   },
   "outputs": [],
   "source": [
    "N = 20000\n",
    "K = 100\n",
    "\n",
    "# Build an object to contain a variational approximation to a K-dimensional multivariate normal.\n",
    "mvn_par = ModelParamsDict()\n",
    "\n",
    "mvn_par.push_param(VectorParam('e_mu', K))\n",
    "mvn_par.push_param(VectorParam('var_mu', K, lb=0))\n",
    "\n",
    "mvn_par['e_mu'].set(np.full(K, 0.1))\n",
    "mvn_par['var_mu'].set(np.full(K, 2.))\n",
    "\n",
    "# Generate data\n",
    "true_mu = np.random.rand(K) - 0.5\n",
    "x_mat = np.full([N, K], float('nan'))\n",
    "y_vec = np.full([N], float('nan'))\n",
    "x_mat = np.random.random(K * N).reshape(N, K) - 0.5\n",
    "# true_rho = Logistic(np.dot(x_mat[n, :], true_mu))\n",
    "true_rho = Logistic(np.matmul(x_mat, true_mu))\n",
    "y_vec = np.random.random(N) < true_rho\n"
   ]
  },
  {
   "cell_type": "code",
   "execution_count": 89,
   "metadata": {
    "collapsed": false
   },
   "outputs": [],
   "source": [
    "def LogLikelihoodVectorized(x_mat, y_vec, e_mu, mu_var, std_draws):\n",
    "    rho_sd = np.sqrt(np.einsum('ik,ik,k->i', x_mat, x_mat, mu_var))\n",
    "    rho_mean = np.einsum('ij,j->i', x_mat, e_mu)\n",
    "    z = np.einsum('i,j->ij', rho_sd, std_draws) + np.expand_dims(rho_mean, 1)\n",
    "\n",
    "    # The sum is over observations and draws, so dividing by the draws size\n",
    "    # gives the sum of sample expectations over the draws.\n",
    "    # log(1 - p) = log(1 / (1 + exp(u))) = -log(1 + exp(u))\n",
    "    logit_term = -np.sum(np.log1p(np.exp(z))) / std_draws.size\n",
    "    y_term = np.sum(y_vec * rho_mean)\n",
    "    return y_term + logit_term\n",
    "\n",
    "\n",
    "def UnivariateNormalExpectedEntropy(var_mu):\n",
    "    return 0.5 * np.sum(np.log(var_mu))\n",
    "\n",
    "\n",
    "def Elbo(y_vec, x_mat, mvn_par_elbo, num_draws=10):\n",
    "    var_mu = mvn_par_elbo['var_mu'].get()\n",
    "    e_mu = mvn_par_elbo['e_mu'].get()\n",
    "\n",
    "    num_draws = 10\n",
    "    draw_spacing = 1 / float(num_draws + 1)\n",
    "    target_quantiles = np.linspace(draw_spacing, 1 - draw_spacing, num_draws)\n",
    "    std_draws = scipy.stats.norm.ppf(target_quantiles)\n",
    "\n",
    "    assert y_vec.size == x_mat.shape[0]\n",
    "    assert e_mu.size == x_mat.shape[1]\n",
    "\n",
    "    ll = LogLikelihoodVectorized(x_mat, y_vec, e_mu, var_mu, std_draws)\n",
    "    entropy = 0.5 * np.sum(np.log(var_mu))\n",
    "    #entropy = UnivariateNormalExpectedEntropy(var_mu)\n",
    "\n",
    "    return ll + entropy\n",
    "\n",
    "\n",
    "class KLWrapper():\n",
    "    def __init__(self, mvn_par, x_mat, y_vec, num_draws):\n",
    "        self.__mvn_par_ad = copy.deepcopy(mvn_par)\n",
    "        self.x_mat = x_mat\n",
    "        self.y_vec = y_vec\n",
    "        self.num_draws = num_draws\n",
    "        \n",
    "    def Eval(self, free_par_vec, verbose=False):\n",
    "        self.__mvn_par_ad.set_free(free_par_vec)\n",
    "        kl = -Elbo(self.y_vec, self.x_mat, self.__mvn_par_ad, num_draws=self.num_draws)\n",
    "        if verbose: print kl\n",
    "        return kl\n",
    "    \n",
    "    # Return a posterior moment of interest as a function of\n",
    "    # unconstrained parameters.  In this case it is a bit silly,\n",
    "    # but in full generality posterior moments may be a complicated\n",
    "    # function of moment parameters.\n",
    "    def GetMu(self, free_par_vec):\n",
    "        self.__mvn_par_ad.set_free(free_par_vec)\n",
    "        return self.__mvn_par_ad['e_mu'].get()\n",
    "\n"
   ]
  },
  {
   "cell_type": "code",
   "execution_count": 90,
   "metadata": {
    "collapsed": false
   },
   "outputs": [
    {
     "name": "stdout",
     "output_type": "stream",
     "text": [
      "101654.999286\n"
     ]
    }
   ],
   "source": [
    "kl_wrapper = KLWrapper(mvn_par, x_mat, y_vec, 10)\n",
    "KLGrad = grad(kl_wrapper.Eval)\n",
    "KLHess = hessian(kl_wrapper.Eval)\n",
    "MomentJacobian = jacobian(kl_wrapper.GetMu)\n",
    "KLHessVecProd = hessian_vector_product(kl_wrapper.Eval)  \n",
    "\n",
    "# Check that the AD functions are working:\n",
    "mvn_par['e_mu'].set(true_mu)\n",
    "mvn_par['var_mu'].set(np.abs(true_mu) * 0.1)\n",
    "free_par_vec = mvn_par.get_free()\n",
    "print kl_wrapper.Eval(free_par_vec)\n",
    "if K < 10:\n",
    "    print 'Grad:'\n",
    "    print KLGrad(free_par_vec)\n",
    "    print 'Hess:'\n",
    "    print KLHess(free_par_vec)\n",
    "    print 'Jac:'\n",
    "    print MomentJacobian(free_par_vec)\n",
    "    print 'Hess vector product:'\n",
    "    print KLHessVecProd(free_par_vec, free_par_vec + 1)\n"
   ]
  },
  {
   "cell_type": "code",
   "execution_count": 91,
   "metadata": {
    "collapsed": false
   },
   "outputs": [
    {
     "name": "stdout",
     "output_type": "stream",
     "text": [
      "(200, 2)\n",
      "(200,)\n"
     ]
    }
   ],
   "source": [
    "par_mat = np.vstack((free_par_vec + 1, free_par_vec + 2)).T\n",
    "\n",
    "# This is probably actually not necessary, since scipy.sparse.linalg.cg\n",
    "# can't handle matrices on the RHS\n",
    "def KLHessVecProdMat(par, mat):\n",
    "    if len(mat.shape) == 1:\n",
    "        return KLHessVecProd(par, mat)\n",
    "    elif len(mat.shape) == 2:\n",
    "        return np.array([ KLHessVecProd(par, mat_col) for mat_col in mat.T ]).T\n",
    "    else:\n",
    "        assert False\n",
    "\n",
    "foo = KLHessVecProdMat(free_par_vec, par_mat)\n",
    "print foo.shape\n",
    "\n",
    "foo = KLHessVecProdMat(free_par_vec, free_par_vec)\n",
    "print foo.shape"
   ]
  },
  {
   "cell_type": "code",
   "execution_count": 92,
   "metadata": {
    "collapsed": false
   },
   "outputs": [
    {
     "name": "stdout",
     "output_type": "stream",
     "text": [
      "Function time:\n",
      "0.0134649991989\n",
      "Grad time:\n",
      "0.0183876037598\n",
      "Hessian vector product time:\n",
      "0.0381556034088\n"
     ]
    }
   ],
   "source": [
    "import timeit\n",
    "\n",
    "time_num = 10\n",
    "\n",
    "print 'Function time:'\n",
    "print timeit.timeit(lambda: kl_wrapper.Eval(free_par_vec), number=time_num) / time_num\n",
    "\n",
    "print 'Grad time:'\n",
    "print timeit.timeit(lambda: KLGrad(free_par_vec), number=time_num) / time_num\n",
    "\n",
    "print 'Hessian vector product time:'\n",
    "print timeit.timeit(lambda: KLHessVecProd(free_par_vec, free_par_vec + 1), number=time_num) / time_num\n",
    "\n",
    "# so slow\n",
    "# print 'Hessian time:'\n",
    "# print timeit.timeit(lambda: KLHess(free_par_vec), number=time_num) / time_num\n"
   ]
  },
  {
   "cell_type": "code",
   "execution_count": 93,
   "metadata": {
    "collapsed": false,
    "scrolled": false
   },
   "outputs": [],
   "source": [
    "import cProfile\n",
    "\n",
    "profile = False\n",
    "if profile:\n",
    "    cProfile.run('kl_wrapper.Eval(free_par_vec)', '/tmp/cprofilestats_func.prof')\n",
    "    cProfile.run('KLHess(free_par_vec)', '/tmp/cprofilestats_hess.prof')\n",
    "    cProfile.run('KLGrad(free_par_vec)', '/tmp/cprofilestats_grad.prof')\n",
    "\n",
    "# A better way to visualize this https://jiffyclub.github.io/snakeviz/\n",
    "# snakeviz /tmp/cprofilestats_hess.prof"
   ]
  },
  {
   "cell_type": "code",
   "execution_count": 94,
   "metadata": {
    "collapsed": false
   },
   "outputs": [],
   "source": [
    "# Set initial values.\n",
    "xtx = np.matmul(x_mat.T, x_mat)\n",
    "mu_reg = np.linalg.solve(xtx, np.matmul(x_mat.T, y_vec))\n",
    "\n",
    "mvn_par['e_mu'].set(mu_reg)\n",
    "mvn_par['var_mu'].set(np.full(K, 1.))\n",
    "init_par_vec = mvn_par.get_free()"
   ]
  },
  {
   "cell_type": "code",
   "execution_count": 95,
   "metadata": {
    "collapsed": false
   },
   "outputs": [
    {
     "name": "stdout",
     "output_type": "stream",
     "text": [
      "Running Newton Trust Region\n",
      "23602.661695\n",
      "22325.8457097\n",
      "20272.578208\n",
      "17879.6258206\n",
      "15171.4014196\n",
      "13304.7744595\n",
      "13230.6174922\n",
      "12752.5424587\n",
      "12613.2764843\n",
      "12581.5696674\n",
      "12577.942532\n",
      "12577.9399742\n",
      "12577.8536995\n",
      "12577.8536312\n",
      "12577.8536312\n",
      "Done.\n"
     ]
    }
   ],
   "source": [
    "# Optimize.\n",
    "# print 'Running BFGS'\n",
    "# vb_opt_bfgs = optimize.minimize(\n",
    "#     lambda par: kl_wrapper.Eval(par, verbose=True), init_par_vec,\n",
    "#     method='bfgs', jac=KLGrad, tol=1e-2)\n",
    "\n",
    "print 'Running Newton Trust Region'\n",
    "vb_opt = optimize.minimize(\n",
    "    lambda par: kl_wrapper.Eval(par, verbose=True),\n",
    "    init_par_vec, method='trust-ncg', jac=KLGrad, hessp=KLHessVecProd)\n",
    "mvn_par_opt = copy.deepcopy(mvn_par)\n",
    "mvn_par_opt.set_free(vb_opt.x)\n",
    "print 'Done.'"
   ]
  },
  {
   "cell_type": "code",
   "execution_count": 96,
   "metadata": {
    "collapsed": false
   },
   "outputs": [
    {
     "data": {
      "image/png": "[encoded data removed]",
      "text/plain": [
       "<matplotlib.figure.Figure at 0x7f8f38170350>"
      ]
     },
     "metadata": {},
     "output_type": "display_data"
    },
    {
     "data": {
      "text/plain": [
       "<ggplot: (8765819112369)>"
      ]
     },
     "execution_count": 96,
     "metadata": {},
     "output_type": "execute_result"
    }
   ],
   "source": [
    "# The mean parameters match, as expected.\n",
    "from ggplot import *\n",
    "import pandas as pd\n",
    "%matplotlib inline\n",
    "\n",
    "plot_df = pd.DataFrame({ 'opt': mvn_par_opt['e_mu'].get(), 'true': true_mu })\n",
    "ggplot(plot_df, aes(x='opt', y='true')) + geom_point() + geom_abline(slope=1, intercept=0)"
   ]
  },
  {
   "cell_type": "code",
   "execution_count": 97,
   "metadata": {
    "collapsed": false
   },
   "outputs": [
    {
     "name": "stdout",
     "output_type": "stream",
     "text": [
      "....................................................................................................all done dude\n"
     ]
    }
   ],
   "source": [
    "# LRVB with conjugate gradient\n",
    "from scipy.sparse.linalg import LinearOperator\n",
    "import sys\n",
    "\n",
    "# The we will actually compute Hess^1 * moment_jac.T, leading to perhaps confusing\n",
    "# naming of \"columns\".  \n",
    "moment_jac = MomentJacobian(vb_opt.x)\n",
    "ObjHessVecProdLO = LinearOperator((vb_opt.x.size, vb_opt.x.size), lambda par: KLHessVecProd(vb_opt.x, par))\n",
    "# print moment_jac.T.shape\n",
    "# print ObjHessVecProdLO.shape\n",
    "# cg_res, info = scipy.sparse.linalg.cg(ObjHessVecProdLO, moment_jac.T)\n",
    "\n",
    "lrvb_term = np.full(moment_jac.T.shape, float('nan'))\n",
    "for col in range(moment_jac.shape[0]):\n",
    "    sys.stdout.write('.')\n",
    "    sys.stdout.flush()\n",
    "    cg_res, info = scipy.sparse.linalg.cg(ObjHessVecProdLO, moment_jac[col, :])\n",
    "    assert info == 0\n",
    "    lrvb_term[:, col] = cg_res\n",
    "\n",
    "print 'all done dude'"
   ]
  },
  {
   "cell_type": "code",
   "execution_count": 98,
   "metadata": {
    "collapsed": true
   },
   "outputs": [],
   "source": [
    "# Slow:\n",
    "kl_hess = KLHess(vb_opt.x)"
   ]
  },
  {
   "cell_type": "code",
   "execution_count": 99,
   "metadata": {
    "collapsed": false
   },
   "outputs": [
    {
     "name": "stdout",
     "output_type": "stream",
     "text": [
      "[ 0.00284416  0.00286912  0.00287637  0.00287682  0.00284165  0.00286885\n",
      "  0.00285934  0.00284758  0.00282633  0.00286925  0.00288458  0.00286016\n",
      "  0.00289905  0.00287725  0.00285356  0.00283478  0.00287995  0.00287809\n",
      "  0.00286405  0.00288172  0.00286307  0.00285648  0.00283526  0.00291228\n",
      "  0.00286341  0.00288717  0.00287796  0.00286688  0.00287234  0.00286357\n",
      "  0.00286109  0.00286397  0.00285351  0.00284869  0.00283458  0.00285438\n",
      "  0.0028324   0.00286     0.00287161  0.00287528  0.00283912  0.00286269\n",
      "  0.00286292  0.00287878  0.00286473  0.00285693  0.00288422  0.002857\n",
      "  0.00286255  0.00285194  0.00286416  0.00288683  0.00284329  0.00285612\n",
      "  0.00290285  0.0028063   0.00289923  0.00288332  0.00287433  0.00282066\n",
      "  0.00283272  0.00285926  0.00286616  0.00289416  0.00283471  0.00284745\n",
      "  0.00287565  0.00284407  0.0028767   0.00285967  0.00287059  0.00285314\n",
      "  0.0028528   0.00289753  0.00287626  0.00286175  0.00285053  0.00287244\n",
      "  0.00287698  0.00288488  0.00285302  0.00286927  0.00285316  0.00287254\n",
      "  0.00289748  0.00285781  0.00282573  0.0028538   0.00289123  0.00287966\n",
      "  0.00287983  0.00283576  0.00284639  0.00283601  0.00285435  0.00286936\n",
      "  0.00288763  0.00282751  0.00284469  0.00285585]\n",
      "[ 0.00284416  0.00286912  0.00287637  0.00287682  0.00284165  0.00286885\n",
      "  0.00285934  0.00284758  0.00282633  0.00286925  0.00288458  0.00286016\n",
      "  0.00289905  0.00287725  0.00285356  0.00283478  0.00287995  0.00287809\n",
      "  0.00286405  0.00288172  0.00286307  0.00285648  0.00283526  0.00291228\n",
      "  0.00286341  0.00288717  0.00287796  0.00286688  0.00287234  0.00286357\n",
      "  0.00286109  0.00286397  0.00285351  0.00284869  0.00283458  0.00285438\n",
      "  0.0028324   0.00286     0.00287161  0.00287528  0.00283912  0.00286269\n",
      "  0.00286292  0.00287878  0.00286473  0.00285693  0.00288422  0.002857\n",
      "  0.00286255  0.00285194  0.00286416  0.00288683  0.00284329  0.00285612\n",
      "  0.00290285  0.0028063   0.00289923  0.00288332  0.00287433  0.00282066\n",
      "  0.00283272  0.00285926  0.00286616  0.00289416  0.00283471  0.00284745\n",
      "  0.00287565  0.00284407  0.0028767   0.00285967  0.00287059  0.00285314\n",
      "  0.0028528   0.00289753  0.00287626  0.00286175  0.00285053  0.00287244\n",
      "  0.00287698  0.00288488  0.00285302  0.00286927  0.00285316  0.00287254\n",
      "  0.00289748  0.00285781  0.00282573  0.0028538   0.00289123  0.00287966\n",
      "  0.00287983  0.00283576  0.00284639  0.00283601  0.00285435  0.00286936\n",
      "  0.00288763  0.00282751  0.00284469  0.00285585]\n",
      "var_mu: [ 0.00453999  0.00457659  0.00459346  0.00459611  0.00454728  0.00458311\n",
      "  0.00457151  0.00454342  0.00452248  0.00458427  0.00461248  0.00456533\n",
      "  0.00463337  0.00458393  0.00455364  0.00452647  0.00459651  0.00458332\n",
      "  0.00457014  0.00460195  0.0045708   0.00456913  0.00452387  0.00464966\n",
      "  0.00457712  0.00461582  0.00459005  0.00458747  0.00457973  0.00457748\n",
      "  0.00456344  0.00457138  0.00455617  0.00455784  0.00452952  0.00455365\n",
      "  0.0045218   0.00457309  0.00458105  0.00459382  0.00452873  0.00456736\n",
      "  0.00457207  0.00459546  0.00457474  0.00456502  0.00460722  0.00455889\n",
      "  0.00457583  0.00456162  0.00457521  0.00460698  0.00452552  0.00455772\n",
      "  0.00463432  0.00448667  0.00463557  0.00459883  0.00458501  0.0045055\n",
      "  0.00452661  0.0045581   0.00457639  0.00460781  0.00453695  0.00455269\n",
      "  0.00459011  0.00455204  0.00459471  0.00456875  0.00458698  0.00456074\n",
      "  0.00455057  0.0046315   0.00459026  0.00457166  0.00454587  0.00458545\n",
      "  0.00459004  0.0046026   0.00455955  0.00458612  0.00455265  0.00458518\n",
      "  0.00462158  0.00456754  0.00452103  0.00456105  0.00462289  0.00460077\n",
      "  0.00460766  0.00452949  0.0045482   0.00453012  0.00455244  0.00459101\n",
      "  0.00461164  0.00452083  0.0045414   0.00456725]\n"
     ]
    }
   ],
   "source": [
    "mu_cov_hess = np.matmul(moment_jac, np.linalg.solve(kl_hess, moment_jac.T))\n",
    "mu_cov = np.matmul(moment_jac, lrvb_term)\n",
    "print np.diag(mu_cov)\n",
    "print np.diag(mu_cov_hess)\n",
    "print mvn_par_opt['var_mu']"
   ]
  }
 ],
 "metadata": {
  "kernelspec": {
   "display_name": "Python [Root]",
   "language": "python",
   "name": "Python [Root]"
  },
  "language_info": {
   "codemirror_mode": {
    "name": "ipython",
    "version": 2
   },
   "file_extension": ".py",
   "mimetype": "text/x-python",
   "name": "python",
   "nbconvert_exporter": "python",
   "pygments_lexer": "ipython2",
   "version": "2.7.12"
  }
 },
 "nbformat": 4,
 "nbformat_minor": 0
}
