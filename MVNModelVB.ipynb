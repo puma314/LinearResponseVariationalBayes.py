{
 "cells": [
  {
   "cell_type": "code",
   "execution_count": 1,
   "metadata": {
    "collapsed": false
   },
   "outputs": [],
   "source": [
    "from VariationalBayes import VectorParam, ScalarParam, PosDefMatrixParam, ModelParamsDict\n",
    "from autograd import grad, hessian, jacobian\n",
    "import math\n",
    "import autograd.numpy as np\n",
    "import autograd.numpy.random as npr\n",
    "import copy\n",
    "from scipy import optimize"
   ]
  },
  {
   "cell_type": "code",
   "execution_count": 2,
   "metadata": {
    "collapsed": false
   },
   "outputs": [
    {
     "name": "stdout",
     "output_type": "stream",
     "text": [
      "['var_mu_0' 'var_mu_1' 'var_mu_2' 'e_mu_0' 'e_mu_1' 'e_mu_2']\n",
      "[ 2.   2.   2.   0.1  0.1  0.1]\n",
      "[ 0.69314718  0.69314718  0.69314718  0.1         0.1         0.1       ]\n",
      "ModelParamsList:\n",
      "\tvar_mu: [ 2.  2.  2.]\n",
      "\te_mu: [ 0.1  0.1  0.1]\n"
     ]
    }
   ],
   "source": [
    "# Build an object to contain a variational approximation to a K-dimensional multivariate normal.\n",
    "\n",
    "K = 3\n",
    "mvn_par = ModelParamsDict()\n",
    "\n",
    "mvn_par.push_param(VectorParam('e_mu', K))\n",
    "mvn_par.push_param(VectorParam('var_mu', K, lb=0))\n",
    "\n",
    "mvn_par['e_mu'].set(np.full(K, 0.1))\n",
    "mvn_par['var_mu'].set(np.full(K, 2.))\n",
    "\n",
    "print mvn_par.names()\n",
    "print mvn_par.get()\n",
    "print mvn_par.get_free()\n",
    "\n",
    "print mvn_par"
   ]
  },
  {
   "cell_type": "code",
   "execution_count": 3,
   "metadata": {
    "collapsed": false
   },
   "outputs": [],
   "source": [
    "# Generate data\n",
    "\n",
    "N = 100\n",
    "true_mu = np.random.rand(K).T\n",
    "x_cov = np.random.rand(K, K)\n",
    "x_cov = 0.5 * (x_cov * x_cov.T)\n",
    "# Make sure the diagonals are equal\n",
    "for k in range(K):\n",
    "    x_cov[k, k] = 2\n",
    "\n",
    "x_draws = [ np.random.multivariate_normal(true_mu, x_cov) for n in range(N) ]"
   ]
  },
  {
   "cell_type": "code",
   "execution_count": 4,
   "metadata": {
    "collapsed": false
   },
   "outputs": [
    {
     "name": "stdout",
     "output_type": "stream",
     "text": [
      "141.120482952\n",
      "141.120482952\n",
      "394.75871051\n",
      "394.75871051\n",
      "Autograd FloatNode with value 141.120482952 and 1 tape(s)\n",
      "[ 49.55211775  49.59509275  49.6399637  -33.85150736 -13.00537385\n",
      " -27.30625892]\n",
      "Autograd FloatNode with value 141.120482952 and 2 tape(s)\n",
      "[[ 50.05211775   0.           0.           0.           0.           0.        ]\n",
      " [  0.          50.09509275   0.           0.           0.           0.        ]\n",
      " [  0.           0.          50.1399637    0.           0.           0.        ]\n",
      " [  0.           0.           0.          50.05211775  -0.39395273\n",
      "   -1.54954351]\n",
      " [  0.           0.           0.          -0.39395273  50.09509275\n",
      "   -2.13444367]\n",
      " [  0.           0.           0.          -1.54954351  -2.13444367\n",
      "   50.1399637 ]]\n"
     ]
    }
   ],
   "source": [
    "# Define the variational objective\n",
    "\n",
    "def LogLikelihood(x_row, x_info, e_mu, e_mu_outer):\n",
    "    return 0.5 * (np.dot(e_mu, np.matmul(x_info, x_row)) + np.dot(x_row, np.matmul(x_info, e_mu)) - \\\n",
    "                  np.trace(np.matmul(x_info, e_mu_outer)))\n",
    "\n",
    "\n",
    "def UnivariateNormalExpectedEntropy(var_mu):\n",
    "    return 0.5 * np.log(var_mu)\n",
    "\n",
    "\n",
    "def Elbo(x_draws, mvn_par):\n",
    "    x_info = np.linalg.inv(x_cov)\n",
    "    var_mu = mvn_par['var_mu'].get()\n",
    "    e_mu = mvn_par['e_mu'].get()\n",
    "    e_mu_outer = np.outer(e_mu, e_mu) + np.diag(var_mu)\n",
    "\n",
    "    ll = sum([ LogLikelihood(x, x_info, e_mu, e_mu_outer) for x in x_draws ])\n",
    "    entropy = sum([ UnivariateNormalExpectedEntropy(var_mu_k) for var_mu_k in var_mu])\n",
    "\n",
    "    return ll + entropy\n",
    "\n",
    "\n",
    "def KLWrapper(free_par_vec):\n",
    "    # This seems to be necessary to avoid changing the type of mvn_par.  Better\n",
    "    # to be a good object-orienter and wrap this in a functor.\n",
    "    mvn_par_ad = copy.copy(mvn_par)\n",
    "    mvn_par_ad.set_free(free_par_vec)\n",
    "    kl = -Elbo(x_draws, mvn_par_ad)\n",
    "    print kl\n",
    "    return kl\n",
    "\n",
    "KLGrad = grad(KLWrapper)\n",
    "KLHess = hessian(KLWrapper)\n",
    "\n",
    "# Check that the AD functions are working:\n",
    "# This is currently way too slow -- is it because of the copy?\n",
    "free_par_vec = mvn_par.get_free()\n",
    "print KLWrapper(free_par_vec)\n",
    "print KLWrapper(free_par_vec + 1)\n",
    "print KLGrad(free_par_vec)\n",
    "print KLHess(free_par_vec)\n"
   ]
  },
  {
   "cell_type": "code",
   "execution_count": 5,
   "metadata": {
    "collapsed": false
   },
   "outputs": [],
   "source": [
    "# Set initial values.\n",
    "\n",
    "# Is there not a better way than reduce?\n",
    "true_means = reduce(lambda x, y: x + y, x_draws) / N\n",
    "\n",
    "mvn_par['e_mu'].set(np.full(K, 1.0))\n",
    "init_par_vec = mvn_par.get_free()"
   ]
  },
  {
   "cell_type": "code",
   "execution_count": 6,
   "metadata": {
    "collapsed": false
   },
   "outputs": [
    {
     "name": "stdout",
     "output_type": "stream",
     "text": [
      "Running BFGS\n",
      "Autograd FloatNode with value 131.936831064 and 1 tape(s)\n",
      "131.936831064\n",
      "27379.4551152\n",
      "Autograd FloatNode with value 27379.4551152 and 1 tape(s)\n",
      "167.08585566\n",
      "Autograd FloatNode with value 167.08585566 and 1 tape(s)\n",
      "3.53401275326\n",
      "Autograd FloatNode with value 3.53401275326 and 1 tape(s)\n",
      "687.200939053\n",
      "Autograd FloatNode with value 687.200939053 and 1 tape(s)\n",
      "-13.5293668034\n",
      "Autograd FloatNode with value -13.5293668034 and 1 tape(s)\n",
      "112.672297583\n",
      "Autograd FloatNode with value 112.672297583 and 1 tape(s)\n",
      "-13.6519687456\n",
      "Autograd FloatNode with value -13.6519687456 and 1 tape(s)\n",
      "-13.8963827948\n",
      "Autograd FloatNode with value -13.8963827948 and 1 tape(s)\n",
      "-14.8106419976\n",
      "Autograd FloatNode with value -14.8106419976 and 1 tape(s)\n",
      "-15.7226686396\n",
      "Autograd FloatNode with value -15.7226686396 and 1 tape(s)\n",
      "-17.3866004906\n",
      "Autograd FloatNode with value -17.3866004906 and 1 tape(s)\n",
      "-19.9889632044\n",
      "Autograd FloatNode with value -19.9889632044 and 1 tape(s)\n",
      "-21.8060997647\n",
      "Autograd FloatNode with value -21.8060997647 and 1 tape(s)\n",
      "-22.2230488184\n",
      "Autograd FloatNode with value -22.2230488184 and 1 tape(s)\n",
      "-22.3163183001\n",
      "Autograd FloatNode with value -22.3163183001 and 1 tape(s)\n",
      "-22.3266287395\n",
      "Autograd FloatNode with value -22.3266287395 and 1 tape(s)\n",
      "-22.3269438664\n",
      "Autograd FloatNode with value -22.3269438664 and 1 tape(s)\n",
      "-22.3269542502\n",
      "Autograd FloatNode with value -22.3269542502 and 1 tape(s)\n",
      "-22.32695771\n",
      "Autograd FloatNode with value -22.32695771 and 1 tape(s)\n",
      "-22.3269579507\n",
      "Autograd FloatNode with value -22.3269579507 and 1 tape(s)\n",
      "-22.3269579605\n",
      "Autograd FloatNode with value -22.3269579605 and 1 tape(s)\n",
      "-22.3269579609\n",
      "Autograd FloatNode with value -22.3269579609 and 1 tape(s)\n",
      "-22.326957961\n",
      "Autograd FloatNode with value -22.326957961 and 1 tape(s)\n",
      "-22.326957961\n",
      "Autograd FloatNode with value -22.326957961 and 1 tape(s)\n",
      "-22.326957961\n",
      "Autograd FloatNode with value -22.326957961 and 1 tape(s)\n",
      "-22.326957961\n",
      "Autograd FloatNode with value -22.326957961 and 1 tape(s)\n",
      "-22.326957961\n",
      "Autograd FloatNode with value -22.326957961 and 1 tape(s)\n",
      "-22.326957961\n",
      "Autograd FloatNode with value -22.326957961 and 1 tape(s)\n",
      "-22.326957961\n",
      "Autograd FloatNode with value -22.326957961 and 1 tape(s)\n",
      "-22.326957961\n",
      "Autograd FloatNode with value -22.326957961 and 1 tape(s)\n",
      "-22.326957961\n",
      "Autograd FloatNode with value -22.326957961 and 1 tape(s)\n",
      "-22.326957961\n",
      "Autograd FloatNode with value -22.326957961 and 1 tape(s)\n",
      "-22.326957961\n",
      "Autograd FloatNode with value -22.326957961 and 1 tape(s)\n",
      "-22.326957961\n",
      "Autograd FloatNode with value -22.326957961 and 1 tape(s)\n",
      "-22.326957961\n",
      "Autograd FloatNode with value -22.326957961 and 1 tape(s)\n",
      "-22.326957961\n",
      "Autograd FloatNode with value -22.326957961 and 1 tape(s)\n",
      "-22.326957961\n",
      "Autograd FloatNode with value -22.326957961 and 1 tape(s)\n",
      "-22.326957961\n",
      "Autograd FloatNode with value -22.326957961 and 1 tape(s)\n",
      "-22.326957961\n",
      "Autograd FloatNode with value -22.326957961 and 1 tape(s)\n",
      "-22.326957961\n",
      "Autograd FloatNode with value -22.326957961 and 1 tape(s)\n",
      "-22.326957961\n",
      "Autograd FloatNode with value -22.326957961 and 1 tape(s)\n",
      "-22.326957961\n",
      "Autograd FloatNode with value -22.326957961 and 1 tape(s)\n",
      "-22.326957961\n",
      "Autograd FloatNode with value -22.326957961 and 1 tape(s)\n",
      "-22.326957961\n",
      "Autograd FloatNode with value -22.326957961 and 1 tape(s)\n",
      "-22.326957961\n",
      "Autograd FloatNode with value -22.326957961 and 1 tape(s)\n",
      "-22.326957961\n",
      "Autograd FloatNode with value -22.326957961 and 1 tape(s)\n",
      "-22.326957961\n",
      "Autograd FloatNode with value -22.326957961 and 1 tape(s)\n",
      "-22.326957961\n",
      "Autograd FloatNode with value -22.326957961 and 1 tape(s)\n",
      "-22.326957961\n",
      "Autograd FloatNode with value -22.326957961 and 1 tape(s)\n",
      "-22.326957961\n",
      "Autograd FloatNode with value -22.326957961 and 1 tape(s)\n",
      "-22.326957961\n",
      "Autograd FloatNode with value -22.326957961 and 1 tape(s)\n",
      "-22.326957961\n",
      "Autograd FloatNode with value -22.326957961 and 1 tape(s)\n",
      "-22.326957961\n",
      "Autograd FloatNode with value -22.326957961 and 1 tape(s)\n",
      "-22.326957961\n",
      "Autograd FloatNode with value -22.326957961 and 1 tape(s)\n",
      "-22.326957961\n",
      "Autograd FloatNode with value -22.326957961 and 1 tape(s)\n",
      "-22.326957961\n",
      "Autograd FloatNode with value -22.326957961 and 1 tape(s)\n",
      "-22.326957961\n",
      "-22.326957961\n",
      "-22.326957961\n",
      "-22.326957961\n",
      "-22.326957961\n",
      "-22.326957961\n",
      "Autograd FloatNode with value -22.326957961 and 1 tape(s)\n",
      "-22.326957961\n",
      "Autograd FloatNode with value -22.326957961 and 1 tape(s)\n",
      "-22.326957961\n",
      "-22.326957961\n",
      "-22.326957961\n",
      "-22.326957961\n",
      "-22.326957961\n",
      "Running Newton Trust Region\n",
      "Autograd FloatNode with value -22.326957961 and 1 tape(s)\n",
      "Autograd FloatNode with value -22.326957961 and 2 tape(s)\n",
      "-22.326957961\n",
      "-22.326957961\n"
     ]
    }
   ],
   "source": [
    "# Optimize.\n",
    "\n",
    "print 'Running BFGS'\n",
    "vb_opt_bfgs = optimize.minimize(KLWrapper, init_par_vec, method='bfgs', jac=KLGrad, tol=1e-10)\n",
    "print 'Running Newton Trust Region'\n",
    "vb_opt = optimize.minimize(KLWrapper, vb_opt_bfgs.x, method='trust-ncg', jac=KLGrad, hess=KLHess)\n",
    "mvn_par_opt = copy.copy(mvn_par)\n",
    "mvn_par_opt.set_free(vb_opt.x)"
   ]
  },
  {
   "cell_type": "code",
   "execution_count": 7,
   "metadata": {
    "collapsed": false
   },
   "outputs": [
    {
     "name": "stdout",
     "output_type": "stream",
     "text": [
      "ModelParamsList:\n",
      "\tvar_mu: [ 0.01997917  0.01996204  0.01994417]\n",
      "\te_mu: [ 0.79651398  0.38973812  0.67846008]\n",
      "[ 0.79651398  0.38973812  0.67846008]\n"
     ]
    }
   ],
   "source": [
    "# The mean parameters match, as expected.\n",
    "print mvn_par_opt\n",
    "print true_means"
   ]
  }
 ],
 "metadata": {
  "kernelspec": {
   "display_name": "Python [Root]",
   "language": "python",
   "name": "Python [Root]"
  },
  "language_info": {
   "codemirror_mode": {
    "name": "ipython",
    "version": 2
   },
   "file_extension": ".py",
   "mimetype": "text/x-python",
   "name": "python",
   "nbconvert_exporter": "python",
   "pygments_lexer": "ipython2",
   "version": "2.7.12"
  }
 },
 "nbformat": 4,
 "nbformat_minor": 0
}
