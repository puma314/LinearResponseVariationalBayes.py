{
 "cells": [
  {
   "cell_type": "code",
   "execution_count": 1,
   "metadata": {
    "collapsed": false
   },
   "outputs": [],
   "source": [
    "from VariationalBayes import VectorParam, ScalarParam, PosDefMatrixParam, ModelParamsDict\n",
    "from autograd import grad, hessian, jacobian\n",
    "import math\n",
    "import autograd.numpy as np\n",
    "import autograd.numpy.random as npr\n",
    "import copy\n",
    "from scipy import optimize"
   ]
  },
  {
   "cell_type": "code",
   "execution_count": 2,
   "metadata": {
    "collapsed": false
   },
   "outputs": [
    {
     "name": "stdout",
     "output_type": "stream",
     "text": [
      "['var_mu_0' 'var_mu_1' 'var_mu_2' 'e_mu_0' 'e_mu_1' 'e_mu_2']\n",
      "[ 2.   2.   2.   0.1  0.1  0.1]\n",
      "[ 0.69314718  0.69314718  0.69314718  0.1         0.1         0.1       ]\n",
      "ModelParamsList:\n",
      "\tvar_mu: [ 2.  2.  2.]\n",
      "\te_mu: [ 0.1  0.1  0.1]\n"
     ]
    }
   ],
   "source": [
    "# Build an object to contain a variational approximation to a K-dimensional multivariate normal.\n",
    "\n",
    "K = 3\n",
    "mvn_par = ModelParamsDict()\n",
    "\n",
    "mvn_par.push_param(VectorParam('e_mu', K))\n",
    "mvn_par.push_param(VectorParam('var_mu', K, lb=0))\n",
    "\n",
    "mvn_par['e_mu'].set(np.full(K, 0.1))\n",
    "mvn_par['var_mu'].set(np.full(K, 2.))\n",
    "\n",
    "print mvn_par.names()\n",
    "print mvn_par.get()\n",
    "print mvn_par.get_free()\n",
    "\n",
    "print mvn_par"
   ]
  },
  {
   "cell_type": "code",
   "execution_count": 3,
   "metadata": {
    "collapsed": false
   },
   "outputs": [
    {
     "name": "stdout",
     "output_type": "stream",
     "text": [
      "[[ 1.   0.9  0.9]\n",
      " [ 0.9  1.   0.9]\n",
      " [ 0.9  0.9  1. ]]\n"
     ]
    }
   ],
   "source": [
    "# Generate data\n",
    "\n",
    "N = 100\n",
    "true_mu = np.random.rand(K).T\n",
    "x_cov = np.full([K, K], 0.9)\n",
    "for k in range(K):\n",
    "    x_cov[k, k] = 1\n",
    "print x_cov\n",
    "x_draws = [ np.random.multivariate_normal(true_mu, x_cov) for n in range(N) ]"
   ]
  },
  {
   "cell_type": "code",
   "execution_count": 4,
   "metadata": {
    "collapsed": false
   },
   "outputs": [
    {
     "name": "stdout",
     "output_type": "stream",
     "text": [
      "ModelParamsList:\n",
      "\tvar_mu: [ 2.  2.  2.]\n",
      "\te_mu: [ 0.1  0.1  0.1]\n",
      "ModelParamsList:\n",
      "\te_mu: [ 0.1  0.1  0.1]\n",
      "\tvar_mu: [ 2.  2.  2.]\n",
      "e_mu: [ 1.  2.  3.]\n",
      "e_mu: [ 0.1  0.1  0.1]\n"
     ]
    }
   ],
   "source": [
    "# Define the variational objective\n",
    "\n",
    "def LogLikelihood(x_row, x_info, e_mu, e_mu_outer):\n",
    "    return 0.5 * (np.dot(e_mu, np.matmul(x_info, x_row)) + np.dot(x_row, np.matmul(x_info, e_mu)) - \\\n",
    "                  np.trace(np.matmul(x_info, e_mu_outer)))\n",
    "\n",
    "\n",
    "def UnivariateNormalExpectedEntropy(var_mu):\n",
    "    return 0.5 * np.log(var_mu)\n",
    "\n",
    "\n",
    "def Elbo(x_draws, mvn_par_elbo):\n",
    "    x_info = np.linalg.inv(x_cov)\n",
    "    var_mu = mvn_par_elbo['var_mu'].get()\n",
    "    e_mu = mvn_par_elbo['e_mu'].get()\n",
    "    e_mu_outer = np.outer(e_mu, e_mu) + np.diag(var_mu)\n",
    "\n",
    "    ll = sum([ LogLikelihood(x, x_info, e_mu, e_mu_outer) for x in x_draws ])\n",
    "    entropy = sum([ UnivariateNormalExpectedEntropy(var_mu_k) for var_mu_k in var_mu])\n",
    "\n",
    "    return ll + entropy\n",
    "\n",
    "\n",
    "class KLWrapper():\n",
    "    def __init__(self, mvn_par):\n",
    "        self.__mvn_par_ad = copy.deepcopy(mvn_par)\n",
    "\n",
    "    def Eval(self, free_par_vec, verbose=False):\n",
    "        self.__mvn_par_ad.set_free(free_par_vec)\n",
    "        kl = -Elbo(x_draws, self.__mvn_par_ad)\n",
    "        if verbose: print kl\n",
    "        return kl\n",
    "    \n",
    "    # Return a posterior moment of interest as a function of\n",
    "    # unconstrained parameters.  In this case it is a bit silly,\n",
    "    # but in full generality posterior moments may be a complicated\n",
    "    # function of moment parameters.\n",
    "    def GetMu(self, free_par_vec):\n",
    "        self.__mvn_par_ad.set_free(free_par_vec)\n",
    "        return self.__mvn_par_ad['e_mu'].get()\n",
    "\n",
    "    \n",
    "kl_wrapper = KLWrapper(mvn_par)\n",
    "KLGrad = grad(kl_wrapper.Eval)\n",
    "KLHess = hessian(kl_wrapper.Eval)\n",
    "MomentJacobian = jacobian(kl_wrapper.GetMu)\n",
    "\n",
    "print mvn_par\n",
    "mvn_par_ad = copy.deepcopy(mvn_par)\n",
    "print mvn_par_ad\n",
    "        \n",
    "mvn_par['e_mu'].set(np.array([1., 2., 3.]))\n",
    "print mvn_par['e_mu']\n",
    "print mvn_par_ad['e_mu']\n"
   ]
  },
  {
   "cell_type": "code",
   "execution_count": 5,
   "metadata": {
    "collapsed": false
   },
   "outputs": [
    {
     "name": "stdout",
     "output_type": "stream",
     "text": [
      "10208.4504596\n",
      "[ -117.78171742   153.85739219   -45.917879     921.7741918   2506.50117642\n",
      "  6814.2357418 ]\n",
      "[[  678.57142857  -321.42857143  -321.42857143     0.             0.             0.        ]\n",
      " [ -321.42857143   678.57142857  -321.42857143     0.             0.             0.        ]\n",
      " [ -321.42857143  -321.42857143   678.57142857     0.             0.             0.        ]\n",
      " [    0.             0.             0.           922.2741918      0.             0.        ]\n",
      " [    0.             0.             0.             0.          2507.00117642\n",
      "      0.        ]\n",
      " [    0.             0.             0.             0.             0.\n",
      "   6814.7357418 ]]\n",
      "[[ 1.  0.  0.  0.  0.  0.]\n",
      " [ 0.  1.  0.  0.  0.  0.]\n",
      " [ 0.  0.  1.  0.  0.  0.]]\n"
     ]
    }
   ],
   "source": [
    "# Check that the AD functions are working:\n",
    "free_par_vec = mvn_par.get_free()\n",
    "print kl_wrapper.Eval(free_par_vec)\n",
    "print KLGrad(free_par_vec)\n",
    "print KLHess(free_par_vec)\n",
    "print MomentJacobian(free_par_vec)"
   ]
  },
  {
   "cell_type": "code",
   "execution_count": 6,
   "metadata": {
    "collapsed": false
   },
   "outputs": [
    {
     "name": "stdout",
     "output_type": "stream",
     "text": [
      "Function time:\n",
      "0.00319759845734\n",
      "Grad time:\n",
      "0.0642606973648\n",
      "Hessian time:\n",
      "0.0806329011917\n"
     ]
    }
   ],
   "source": [
    "import timeit\n",
    "\n",
    "time_num = 10\n",
    "\n",
    "# Pretty fast!\n",
    "\n",
    "print 'Function time:'\n",
    "print timeit.timeit(lambda: kl_wrapper.Eval(free_par_vec), number=time_num) / time_num\n",
    "\n",
    "print 'Grad time:'\n",
    "print timeit.timeit(lambda: KLGrad(free_par_vec), number=time_num) / time_num\n",
    "\n",
    "print 'Hessian time:'\n",
    "print timeit.timeit(lambda: KLHess(free_par_vec), number=time_num) / time_num\n"
   ]
  },
  {
   "cell_type": "code",
   "execution_count": 7,
   "metadata": {
    "collapsed": false
   },
   "outputs": [],
   "source": [
    "# Set initial values.\n",
    "\n",
    "# Is there not a better way than reduce?\n",
    "true_means = reduce(lambda x, y: x + y, x_draws) / N\n",
    "\n",
    "mvn_par['e_mu'].set(np.full(K, 1.0))\n",
    "init_par_vec = mvn_par.get_free()"
   ]
  },
  {
   "cell_type": "code",
   "execution_count": 8,
   "metadata": {
    "collapsed": false
   },
   "outputs": [
    {
     "name": "stdout",
     "output_type": "stream",
     "text": [
      "Running BFGS\n",
      "2732.76192496\n",
      "inf\n",
      "2732.73603852\n"
     ]
    },
    {
     "name": "stderr",
     "output_type": "stream",
     "text": [
      "/home/rgiordan/bin/anaconda2/lib/python2.7/site-packages/autograd/core.py:134: RuntimeWarning: divide by zero encountered in log\n",
      "  result = self.fun(*argvals, **kwargs)\n",
      "/home/rgiordan/bin/anaconda2/lib/python2.7/site-packages/autograd/core.py:134: RuntimeWarning: divide by zero encountered in divide\n",
      "  result = self.fun(*argvals, **kwargs)\n",
      "/home/rgiordan/bin/anaconda2/lib/python2.7/site-packages/autograd/core.py:134: RuntimeWarning: invalid value encountered in multiply\n",
      "  result = self.fun(*argvals, **kwargs)\n"
     ]
    },
    {
     "name": "stdout",
     "output_type": "stream",
     "text": [
      "1558.32455446\n",
      "303669.763199\n",
      "1553.74963671\n",
      "1544.56032712\n",
      "1508.83904737\n",
      "1382.23377577\n",
      "1095.86488507\n",
      "641.186715507\n",
      "268.675994152\n",
      "115.096105596\n",
      "55541.5199031\n",
      "114.867294796\n",
      "114.405755296\n",
      "112.572701931\n",
      "105.446077532\n",
      "79.9825880193\n",
      "27.2497601176\n",
      "69.2804084502\n",
      "17.5547960997\n",
      "1.43803056927\n",
      "-9.24001870708\n",
      "-25.0536097994\n",
      "-34.3067174834\n",
      "-38.7341808603\n",
      "-40.6332768776\n",
      "-41.3151337798\n",
      "-41.4932009191\n",
      "-41.5201766956\n",
      "-41.5229853189\n",
      "-41.524823725\n",
      "-41.5280095513\n",
      "-41.5332868461\n",
      "-41.5399419253\n",
      "-41.5415517145\n",
      "-41.5421710368\n",
      "-41.5422947856\n",
      "-41.5423871811\n",
      "-41.5425438616\n",
      "-41.5427929597\n",
      "-41.5430401867\n",
      "-41.5431013571\n",
      "-41.5431166283\n",
      "-41.543117084\n",
      "-41.5431170911\n",
      "-41.5431170911\n",
      "Running Newton Trust Region\n",
      "-41.5431170911\n",
      "-41.5431170911\n",
      "Done.\n"
     ]
    }
   ],
   "source": [
    "# Optimize.\n",
    "\n",
    "print 'Running BFGS'\n",
    "vb_opt_bfgs = optimize.minimize(\n",
    "    lambda par: kl_wrapper.Eval(par, verbose=True), init_par_vec,\n",
    "    method='bfgs', jac=KLGrad, tol=1e-6)\n",
    "print 'Running Newton Trust Region'\n",
    "vb_opt = optimize.minimize(\n",
    "    lambda par: kl_wrapper.Eval(par, verbose=True),\n",
    "    vb_opt_bfgs.x, method='trust-ncg', jac=KLGrad, hess=KLHess)\n",
    "mvn_par_opt = copy.deepcopy(mvn_par)\n",
    "mvn_par_opt.set_free(vb_opt.x)\n",
    "print 'Done.'"
   ]
  },
  {
   "cell_type": "code",
   "execution_count": 9,
   "metadata": {
    "collapsed": false
   },
   "outputs": [
    {
     "name": "stdout",
     "output_type": "stream",
     "text": [
      "e_mu: [ 0.89950874  0.62786963  0.8276449 ]\n",
      "[ 0.89950874  0.62786963  0.8276449 ]\n"
     ]
    }
   ],
   "source": [
    "# The mean parameters match, as expected.\n",
    "print mvn_par_opt['e_mu']\n",
    "print true_means"
   ]
  },
  {
   "cell_type": "code",
   "execution_count": 10,
   "metadata": {
    "collapsed": false
   },
   "outputs": [
    {
     "name": "stdout",
     "output_type": "stream",
     "text": [
      "[ 0.01  0.01  0.01]\n",
      "var_mu: [ 0.00147368  0.00147368  0.00147368]\n"
     ]
    }
   ],
   "source": [
    "# LRVB\n",
    "moment_jac = MomentJacobian(vb_opt.x)\n",
    "opt_hess = KLHess(vb_opt.x)\n",
    "mu_cov = np.matmul(moment_jac, np.linalg.solve(opt_hess, moment_jac.T))\n",
    "\n",
    "# The VB variance is underestimated.\n",
    "print np.diag(mu_cov)\n",
    "print mvn_par_opt['var_mu']"
   ]
  }
 ],
 "metadata": {
  "kernelspec": {
   "display_name": "Python [Root]",
   "language": "python",
   "name": "Python [Root]"
  },
  "language_info": {
   "codemirror_mode": {
    "name": "ipython",
    "version": 2
   },
   "file_extension": ".py",
   "mimetype": "text/x-python",
   "name": "python",
   "nbconvert_exporter": "python",
   "pygments_lexer": "ipython2",
   "version": "2.7.12"
  }
 },
 "nbformat": 4,
 "nbformat_minor": 0
}
