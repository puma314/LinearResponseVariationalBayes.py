{
 "cells": [
  {
   "cell_type": "code",
   "execution_count": 2,
   "metadata": {
    "collapsed": true
   },
   "outputs": [],
   "source": [
    "from VariationalBayes.Parameters import ModelParamsDict\n",
    "from VariationalBayes.MultinomialParams import SimplexParam\n",
    "from VariationalBayes.NormalParams import MVNParam\n",
    "\n",
    "import math\n",
    "\n",
    "from autograd import grad, hessian, jacobian, hessian_vector_product\n",
    "import autograd.numpy as np\n",
    "\n",
    "import copy\n",
    "import scipy\n",
    "from scipy import optimize\n",
    "from scipy import stats"
   ]
  },
  {
   "cell_type": "code",
   "execution_count": 34,
   "metadata": {},
   "outputs": [
    {
     "name": "stdout",
     "output_type": "stream",
     "text": [
      "[[-4.35176871  1.6629561 ]\n",
      " [ 3.2106205  -1.92051036]\n",
      " [-1.48497829 -3.38221504]\n",
      " [-3.20726262  0.40761483]\n",
      " [ 8.04223285 -3.1298826 ]]\n"
     ]
    }
   ],
   "source": [
    "# Number of data points:\n",
    "n = 100\n",
    "\n",
    "# Dimension of observations:\n",
    "d = 2\n",
    "\n",
    "# Number of clusters:\n",
    "k = 5\n",
    "\n",
    "true_pi = np.linspace(0.2, 0.8, k)\n",
    "true_pi = true_pi / np.sum(true_pi)\n",
    "\n",
    "true_z = np.random.multinomial(1, true_pi, 100)\n",
    "\n",
    "\n",
    "mu_prior_mean = np.full(d, 0.)\n",
    "mu_prior_cov = np.diag(np.full(d, 3 ** 2))\n",
    "\n",
    "true_mu = np.random.multivariate_normal(mu_prior_mean, mu_prior_cov, k)\n",
    "\n"
   ]
  },
  {
   "cell_type": "code",
   "execution_count": null,
   "metadata": {
    "collapsed": true
   },
   "outputs": [],
   "source": [
    "\n",
    "\n",
    "# Build an object to contain a variational approximation to a K-dimensional multivariate normal.\n",
    "mvn_par = ModelParamsDict()\n",
    "\n",
    "mvn_par.push_param(VectorParam('e_mu', K))\n",
    "mvn_par.push_param(VectorParam('var_mu', K, lb=0))\n",
    "\n",
    "mvn_par['e_mu'].set(np.full(K, 0.1))\n",
    "mvn_par['var_mu'].set(np.full(K, 2.))\n",
    "\n",
    "# Generate data\n",
    "true_mu = np.random.rand(K) - 0.5\n",
    "x_mat = np.full([N, K], float('nan'))\n",
    "y_vec = np.full([N], float('nan'))\n",
    "x_mat = np.random.random(K * N).reshape(N, K) - 0.5\n",
    "# true_rho = Logistic(np.dot(x_mat[n, :], true_mu))\n",
    "true_rho = Logistic(np.matmul(x_mat, true_mu))\n",
    "y_vec = np.random.random(N) < true_rho\n"
   ]
  }
 ],
 "metadata": {
  "kernelspec": {
   "display_name": "Python 3",
   "language": "python",
   "name": "python3"
  },
  "language_info": {
   "codemirror_mode": {
    "name": "ipython",
    "version": 3
   },
   "file_extension": ".py",
   "mimetype": "text/x-python",
   "name": "python",
   "nbconvert_exporter": "python",
   "pygments_lexer": "ipython3",
   "version": "3.5.2"
  }
 },
 "nbformat": 4,
 "nbformat_minor": 2
}
