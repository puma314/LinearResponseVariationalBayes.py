{
 "cells": [
  {
   "cell_type": "code",
   "execution_count": 13,
   "metadata": {
    "collapsed": true
   },
   "outputs": [],
   "source": [
    "import numpy as np\n",
    "import scipy as sp\n",
    "from scipy import misc"
   ]
  },
  {
   "cell_type": "code",
   "execution_count": 24,
   "metadata": {},
   "outputs": [
    {
     "name": "stdout",
     "output_type": "stream",
     "text": [
      "[[ 0.14236665  0.73182396  0.20988957]\n",
      " [ 0.08501205  0.51577223  0.17944889]\n",
      " [ 0.1237401   0.37046304  0.80069167]\n",
      " [ 0.5304305   0.88807008  0.21243625]\n",
      " [ 0.83159418  0.13150542  0.57450281]]\n",
      "-------\n",
      "[[ 0.15644299  0.23695717  0.16082443]\n",
      " [ 0.14772273  0.19091488  0.15600259]\n",
      " [ 0.15355597  0.16509458  0.29035821]\n",
      " [ 0.23061635  0.27702993  0.16123452]\n",
      " [ 0.31166197  0.13000344  0.23158026]]\n",
      "[ 1.  1.  1.]\n"
     ]
    }
   ],
   "source": [
    "x = np.random.random((5, 3))\n",
    "print(x)\n",
    "print('-------')\n",
    "log_norm = sp.misc.logsumexp(x, 0) \n",
    "x_norm = np.exp(x - log_norm) \n",
    "print(x_norm)\n",
    "print(np.sum(x_norm, 0))"
   ]
  },
  {
   "cell_type": "code",
   "execution_count": 29,
   "metadata": {},
   "outputs": [
    {
     "name": "stdout",
     "output_type": "stream",
     "text": [
      "[[ 0.87200375  0.69153555  0.35415283  0.99530844  0.00263799]\n",
      " [ 0.8074383   0.56945173  0.94675048  0.46659063  0.39240596]]\n",
      "0.39240596289865337\n"
     ]
    }
   ],
   "source": [
    "x = np.random.random((2, 5))\n",
    "print(x)\n",
    "print(x[1,...,4])"
   ]
  },
  {
   "cell_type": "code",
   "execution_count": 37,
   "metadata": {},
   "outputs": [
    {
     "name": "stdout",
     "output_type": "stream",
     "text": [
      "[[ 0.54660591  0.7232575   0.16147517  0.78189052  0.59178931]\n",
      " [ 0.39502944  0.56619018  0.53424276  0.48975404  0.8809356 ]]\n",
      "[ 1.  1.  1.  1.  1.]\n",
      "[[ 1.          0.54660591  0.7232575   0.16147517  0.78189052  0.59178931]\n",
      " [ 1.          0.39502944  0.56619018  0.53424276  0.48975404  0.8809356 ]]\n"
     ]
    }
   ],
   "source": [
    "x = np.random.random((2, 5))\n",
    "print(x)\n",
    "print(np.full(x.shape[1], 1.))\n",
    "print(np.hstack([np.full((x.shape[0], 1), 1.), x]))"
   ]
  },
  {
   "cell_type": "code",
   "execution_count": 55,
   "metadata": {},
   "outputs": [
    {
     "name": "stdout",
     "output_type": "stream",
     "text": [
      "[[ 0.          0.86592586  0.46875235  0.28814882]\n",
      " [ 0.          0.59129707  0.90353324  0.4989017 ]\n",
      " [ 0.          0.89004933  0.27438238  0.13717582]\n",
      " [ 0.          0.21109566  0.42343875  0.91555216]\n",
      " [ 0.          0.81988462  0.70945782  0.73985243]\n",
      " [ 0.          0.67186203  0.07444547  0.11986588]\n",
      " [ 0.          0.55875372  0.39344656  0.64865225]\n",
      " [ 0.          0.19075481  0.29686585  0.81533219]\n",
      " [ 0.          0.77814485  0.11542796  0.79292252]\n",
      " [ 0.          0.833995    0.44511303  0.15575377]]\n",
      "----------\n",
      "[ 1.  1.  1.  1.  1.  1.  1.  1.  1.  1.]\n"
     ]
    }
   ],
   "source": [
    "free_mat = np.random.random((10, 3))\n",
    "\n",
    "free_mat_aug = np.hstack([np.full((free_mat.shape[0], 1), 0.), free_mat])\n",
    "log_norm = np.expand_dims(sp.misc.logsumexp(free_mat_aug, 1), axis=1)\n",
    "print(free_mat_aug)\n",
    "print('----------')\n",
    "norm_mat = np.exp(free_mat_aug - log_norm)\n",
    "print(np.sum(norm_mat, 1))"
   ]
  },
  {
   "cell_type": "code",
   "execution_count": 56,
   "metadata": {},
   "outputs": [
    {
     "name": "stdout",
     "output_type": "stream",
     "text": [
      "[[ 0.86592586  0.46875235  0.28814882]\n",
      " [ 0.59129707  0.90353324  0.4989017 ]\n",
      " [ 0.89004933  0.27438238  0.13717582]\n",
      " [ 0.21109566  0.42343875  0.91555216]\n",
      " [ 0.81988462  0.70945782  0.73985243]\n",
      " [ 0.67186203  0.07444547  0.11986588]\n",
      " [ 0.55875372  0.39344656  0.64865225]\n",
      " [ 0.19075481  0.29686585  0.81533219]\n",
      " [ 0.77814485  0.11542796  0.79292252]\n",
      " [ 0.833995    0.44511303  0.15575377]]\n"
     ]
    }
   ],
   "source": [
    "free_mat_2 = np.log(norm_mat[:, 1:]) - np.expand_dims(np.log(norm_mat[:, 0]), axis=1)\n",
    "print(free_mat_2)"
   ]
  }
 ],
 "metadata": {
  "kernelspec": {
   "display_name": "Python 3",
   "language": "python",
   "name": "python3"
  },
  "language_info": {
   "codemirror_mode": {
    "name": "ipython",
    "version": 3
   },
   "file_extension": ".py",
   "mimetype": "text/x-python",
   "name": "python",
   "nbconvert_exporter": "python",
   "pygments_lexer": "ipython3",
   "version": "3.5.2"
  }
 },
 "nbformat": 4,
 "nbformat_minor": 2
}
