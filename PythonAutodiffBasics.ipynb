{
 "cells": [
  {
   "cell_type": "code",
   "execution_count": 2,
   "metadata": {
    "collapsed": false
   },
   "outputs": [],
   "source": [
    "import autograd.numpy as np\n",
    "from autograd import grad, hessian, jacobian\n",
    "import autograd.numpy.random as npr\n",
    "import copy"
   ]
  },
  {
   "cell_type": "code",
   "execution_count": 3,
   "metadata": {
    "collapsed": false
   },
   "outputs": [
    {
     "name": "stdout",
     "output_type": "stream",
     "text": [
      "Gradient of sin(pi) is -0.999899529704\n"
     ]
    }
   ],
   "source": [
    "def taylor_sine(x):  # Taylor approximation to sine function\n",
    "    ans = currterm = x\n",
    "    i = 0\n",
    "    while np.abs(currterm) > 0.001:\n",
    "        currterm = -currterm * x**2 / ((2 * i + 3) * (2 * i + 2))\n",
    "        ans = ans + currterm\n",
    "        i += 1\n",
    "    return ans\n",
    "\n",
    "grad_sine = grad(taylor_sine)\n",
    "print \"Gradient of sin(pi) is\", grad_sine(np.pi)"
   ]
  },
  {
   "cell_type": "code",
   "execution_count": 4,
   "metadata": {
    "collapsed": false
   },
   "outputs": [
    {
     "data": {
      "text/plain": [
       "array([[ 0.,  0.,  0.,  0.,  0.],\n",
       "       [ 0.,  0.,  0.,  0.,  0.],\n",
       "       [ 0.,  0.,  0.,  0.,  0.],\n",
       "       [ 0.,  0.,  0.,  0.,  0.],\n",
       "       [ 0.,  0.,  0.,  0.,  0.]])"
      ]
     },
     "execution_count": 4,
     "metadata": {},
     "output_type": "execute_result"
    }
   ],
   "source": [
    "# Check Hessian of a quadratic function.\n",
    "D = 5\n",
    "H = npr.randn(D, D)\n",
    "def fun(x):\n",
    "    return np.dot(np.dot(x, H),x)\n",
    "hess = hessian(fun)\n",
    "x = npr.randn(D)\n",
    "hess(x) - (H + H.T)"
   ]
  },
  {
   "cell_type": "code",
   "execution_count": 5,
   "metadata": {
    "collapsed": false
   },
   "outputs": [
    {
     "data": {
      "text/plain": [
       "array([ 0.,  0.,  0.])"
      ]
     },
     "execution_count": 5,
     "metadata": {},
     "output_type": "execute_result"
    }
   ],
   "source": [
    "fun = lambda x: np.array([x, x**2, x**3])\n",
    "val = npr.randn()\n",
    "fun_jac = jacobian(fun)\n",
    "fun_jac(val)  - np.array([1., 2*val, 3*val**2])"
   ]
  },
  {
   "cell_type": "code",
   "execution_count": 14,
   "metadata": {
    "collapsed": false
   },
   "outputs": [
    {
     "name": "stdout",
     "output_type": "stream",
     "text": [
      "[5 2 3]\n",
      "[ -0.71828183  -5.3890561  -18.08553692]\n"
     ]
    },
    {
     "ename": "TypeError",
     "evalue": "object of type 'bool' has no len()",
     "output_type": "error",
     "traceback": [
      "\u001b[1;31m---------------------------------------------------------------------------\u001b[0m",
      "\u001b[1;31mTypeError\u001b[0m                                 Traceback (most recent call last)",
      "\u001b[1;32m<ipython-input-14-95406c966929>\u001b[0m in \u001b[0;36m<module>\u001b[1;34m()\u001b[0m\n\u001b[0;32m      9\u001b[0m \u001b[0mall\u001b[0m\u001b[1;33m(\u001b[0m\u001b[0mvec\u001b[0m \u001b[1;33m<\u001b[0m \u001b[1;36m100\u001b[0m\u001b[1;33m)\u001b[0m\u001b[1;33m\u001b[0m\u001b[0m\n\u001b[0;32m     10\u001b[0m \u001b[0mFalse\u001b[0m \u001b[1;32mand\u001b[0m \u001b[0mall\u001b[0m\u001b[1;33m(\u001b[0m\u001b[0mFalse\u001b[0m\u001b[1;33m)\u001b[0m\u001b[1;33m\u001b[0m\u001b[0m\n\u001b[1;32m---> 11\u001b[1;33m \u001b[0mlen\u001b[0m\u001b[1;33m(\u001b[0m\u001b[0mFalse\u001b[0m\u001b[1;33m)\u001b[0m\u001b[1;33m\u001b[0m\u001b[0m\n\u001b[0m",
      "\u001b[1;31mTypeError\u001b[0m: object of type 'bool' has no len()"
     ]
    }
   ],
   "source": [
    "x = float(\"inf\")\n",
    "x == float(\"inf\")\n",
    "vec = np.array([1, 2, 3])\n",
    "vec.size\n",
    "vec_free = np.empty_like(vec)\n",
    "vec_free[0] = 5\n",
    "print vec_free\n",
    "print 2 - np.exp(vec)\n",
    "all(vec < 100)\n",
    "False and all(False)\n"
   ]
  },
  {
   "cell_type": "code",
   "execution_count": 17,
   "metadata": {
    "collapsed": false
   },
   "outputs": [
    {
     "name": "stdout",
     "output_type": "stream",
     "text": [
      "[ 1.  2.  3.]\n",
      "[ 1.  2.  3.]\n",
      "[ 1.  2.  3.]\n",
      "[ 1.  2.  3.]\n"
     ]
    }
   ],
   "source": [
    "def unconstrain_vector(vec, lb, ub):\n",
    "    if not all(vec <= ub): raise ValueError('Elements larger than the upper bound')\n",
    "    if not all(vec >= lb): raise ValueError('Elements smaller than the lower bound')\n",
    "    return unconstrain(vec, lb, ub)\n",
    "\n",
    "def unconstrain_scalar(val, lb, ub):\n",
    "    if not val <= ub: raise ValueError('Value larger than the upper bound')\n",
    "    if not val >= lb: raise ValueError('Value smaller than the lower bound')\n",
    "    return unconstrain(val, lb, ub)\n",
    "\n",
    "def unconstrain(vec, lb, ub):    \n",
    "    if ub <= lb: raise ValueError('Upper bound must be greater than lower bound')\n",
    "    if ub == float(\"inf\"):\n",
    "        if lb == -float(\"inf\"):\n",
    "            return copy.copy(vec)\n",
    "        else:\n",
    "            return np.log(vec - lb)\n",
    "    else: # the upper bound is finite\n",
    "        if lb == -float(\"inf\"):\n",
    "            return -1 * np.log(ub - vec)\n",
    "        else:\n",
    "            return np.log(vec - lb) - np.log(ub - vec)\n",
    "\n",
    "def constrain(free_vec, lb, ub):\n",
    "    if ub <= lb: raise ValueError('Upper bound must be greater than lower bound')\n",
    "    if ub == float(\"inf\"):\n",
    "        if lb == -float(\"inf\"):\n",
    "            return copy.copy(free_vec)\n",
    "        else:\n",
    "            return np.exp(free_vec) + lb\n",
    "    else: # the upper bound is finite\n",
    "        if lb == -float(\"inf\"):\n",
    "            return ub - np.exp(-1 * free_vec)\n",
    "        else:\n",
    "            exp_vec = np.exp(free_vec) \n",
    "            return (ub - lb) * exp_vec / (1 + exp_vec) + lb\n",
    "\n",
    "print constrain(unconstrain_vector(np.array([1., 2., 3.]), -1.0, 4.0), -1.0, 4.0)\n",
    "print constrain(unconstrain_vector(np.array([1., 2., 3.]), -1.0, float(\"inf\")), -1.0, float(\"inf\"))\n",
    "print constrain(unconstrain_vector(np.array([1., 2., 3.]), -1 * float(\"inf\"), 4.0), -1 * float(\"inf\"), 4.0)\n",
    "print constrain(unconstrain_vector(np.array([1., 2., 3.]), -1 * float(\"inf\"), float(\"inf\")), -1 * float(\"inf\"), float(\"inf\"))\n",
    "\n"
   ]
  },
  {
   "cell_type": "code",
   "execution_count": 7,
   "metadata": {
    "collapsed": false
   },
   "outputs": [
    {
     "data": {
      "text/plain": [
       "[1, 2, 3, 4, 5, 6, 7, 8, 9]"
      ]
     },
     "execution_count": 7,
     "metadata": {},
     "output_type": "execute_result"
    }
   ],
   "source": [
    "range(1, 10)"
   ]
  },
  {
   "cell_type": "code",
   "execution_count": 52,
   "metadata": {
    "collapsed": false
   },
   "outputs": [
    {
     "name": "stdout",
     "output_type": "stream",
     "text": [
      "tau: 5\n",
      "mu: [ 1.  2.  3.]\n"
     ]
    }
   ],
   "source": [
    "\n",
    "class VectorParam(object):\n",
    "    def __init__(self, name, size, lb=-float(\"inf\"), ub=float(\"inf\")):\n",
    "        self.name = name\n",
    "        self.__size = size\n",
    "        self.__free_size = size\n",
    "        self.__val = np.empty(size)\n",
    "        if lb >= ub: raise ValueError('Upper bound must strictly exceed lower bound')\n",
    "        self.__lb = lb\n",
    "        self.__ub = ub\n",
    "    def __str__(self):\n",
    "        return self.name + ': ' + str(self.__val)\n",
    "    def names(self):\n",
    "        return [ self.name + '_' + str(k) for k in range(self.size()) ]\n",
    "    def set(self, val):\n",
    "        if val.size != self.size(): raise ValueError('Wrong size for vector ' + self.name)\n",
    "        self.__val = val\n",
    "    def get(self):\n",
    "        return self.__val\n",
    "    def set_free(self, free_val):\n",
    "        if free_val.size != self.size(): raise ValueError('Wrong size for vector ' + self.name)\n",
    "        self.set(constrain(free_val, self.__lb, self.__ub))\n",
    "    def get_free(self):\n",
    "        return unconstrain_vector(self.__val, self.__lb, self.__ub)\n",
    "    def size(self):\n",
    "        return self.__size\n",
    "    def free_size(self):\n",
    "        return self.__free_size\n",
    "\n",
    "    \n",
    "class ScalarParam(object):\n",
    "    def __init__(self, name, lb=-float(\"inf\"), ub=float(\"inf\")):\n",
    "        self.name = name\n",
    "        if lb >= ub: raise ValueError('Upper bound must strictly exceed lower bound')\n",
    "        self.__val = 0.5 * (ub + lb)\n",
    "        self.__lb = lb\n",
    "        self.__ub = ub\n",
    "    def __str__(self):\n",
    "        return self.name + ': ' + str(self.__val)\n",
    "    def names(self):\n",
    "        return [ self.name ]\n",
    "    def set(self, val):\n",
    "        self.__val = val\n",
    "    def get(self):\n",
    "        return self.__val\n",
    "    def set_free(self, free_val):\n",
    "        self.set(constrain(free_val, self.__lb, self.__ub))\n",
    "    def get_free(self):\n",
    "        return unconstrain_scalar(self.__val, self.__lb, self.__ub)\n",
    "    def size(self):\n",
    "        return 1\n",
    "    def free_size(self):\n",
    "        return 1\n",
    "\n",
    "\n",
    "mu = VectorParam(\"mu\", 3, lb=0, ub=10)\n",
    "mu.set(np.array([1., 2., 3.]))\n",
    "mu.get()\n",
    "foo = mu.get_free()\n",
    "mu.set_free(foo)\n",
    "mu.get()\n",
    "\n",
    "tau = ScalarParam('tau', lb=0, ub=float(\"inf\"))\n",
    "tau.set(5)\n",
    "# print dir(tau)\n",
    "tau.get_free()\n",
    "print tau\n",
    "print mu"
   ]
  },
  {
   "cell_type": "code",
   "execution_count": 57,
   "metadata": {
    "collapsed": false
   },
   "outputs": [
    {
     "name": "stdout",
     "output_type": "stream",
     "text": [
      "0.5\n",
      "['mu_0' 'mu_1' 'mu_2' 'sigma_0' 'sigma_1' 'sigma_2' 'tau']\n",
      "[-10.   20.  -30.    1.    2.    3.    0.5]\n",
      "[-10.          20.         -30.           0.           0.69314718\n",
      "   1.09861229   0.        ]\n",
      "ModelParamsList:\n",
      "\tmu: [-10  20 -30]\n",
      "\tsigma: [1 2 3]\n",
      "\ttau: 0.5\n"
     ]
    }
   ],
   "source": [
    "class ModelParamsList(object):\n",
    "    def __init__(self):\n",
    "        self.param_list = []\n",
    "        self.__size = 0\n",
    "        self.__free_size = 0\n",
    "    def __str__(self):\n",
    "        return 'ModelParamsList:\\n' + '\\n'.join([ '\\t' + str(param) for param in self.param_list ])\n",
    "    def push_param(self, param):\n",
    "        self.param_list.append(param)\n",
    "        self.__size = self.__size + param.size()\n",
    "        self.__free_size = self.__free_size + param.size()\n",
    "    def set(self, vec):\n",
    "        if vec.size != self.__size: raise ValueError(\"Wrong size.\")\n",
    "        offset = 0\n",
    "        for param in self.param_list:\n",
    "            param.set(vec[offset:(offset + param.size())])\n",
    "            offset = offset + param.size()\n",
    "    def get(self):\n",
    "        vec = np.empty(self.size())\n",
    "        offset = 0\n",
    "        for param in self.param_list:\n",
    "            vec[offset:(offset + param.size())] = param.get()\n",
    "            offset = offset + param.size()\n",
    "        return vec\n",
    "    def set_free(self, vec):\n",
    "        if vec.size != self.__free_size: raise ValueError(\"Wrong size.\")\n",
    "        offset = 0\n",
    "        for param in self.param_list:\n",
    "            param.set_free(vec[offset:(offset + param.free_size())])\n",
    "            offset = offset + param.free_size()\n",
    "    def get_free(self):\n",
    "        vec = np.empty(self.free_size())\n",
    "        offset = 0\n",
    "        for param in self.param_list:\n",
    "            vec[offset:(offset + param.free_size())] = param.get_free()\n",
    "            offset = offset + param.free_size()\n",
    "        return vec\n",
    "    def names(self):\n",
    "        return np.concatenate([ param.names() for param in self.param_list])\n",
    "    def size(self):\n",
    "        return self.__size\n",
    "    def free_size(self):\n",
    "        return self.__free_size\n",
    "\n",
    "par = ModelParamsList()\n",
    "par.push_param(VectorParam(\"mu\", 3))        \n",
    "par.push_param(VectorParam(\"sigma\", 3, lb=0))        \n",
    "par.push_param(ScalarParam(\"tau\", lb=0, ub=1))        \n",
    "\n",
    "\n",
    "par.param_list[0].set(np.array([-10, 20, -30]))\n",
    "par.param_list[1].set(np.array([1, 2, 3]))\n",
    "par.param_list[2].set(0.5)\n",
    "\n",
    "print par.param_list[2].get()\n",
    "\n",
    "\n",
    "print par.names()\n",
    "print par.get()\n",
    "print par.get_free()\n",
    "\n",
    "print par\n"
   ]
  },
  {
   "cell_type": "code",
   "execution_count": 74,
   "metadata": {
    "collapsed": false
   },
   "outputs": [
    {
     "name": "stdout",
     "output_type": "stream",
     "text": [
      "0.5\n",
      "['mu_0' 'mu_1' 'mu_2' 'tau' 'sigma_0' 'sigma_1' 'sigma_2']\n",
      "[-10.   20.  -30.    0.5   1.    2.    3. ]\n",
      "[-10.          20.         -30.           0.           0.           0.69314718\n",
      "   1.09861229]\n",
      "ModelParamsList:\n",
      "\tmu: [-10  20 -30]\n",
      "\ttau: 0.5\n",
      "\tsigma: [1 2 3]\n",
      "mu: [-10  20 -30]\n"
     ]
    }
   ],
   "source": [
    "class ModelParamsDict(object):\n",
    "    def __init__(self):\n",
    "        self.param_dict = {}\n",
    "        self.__size = 0\n",
    "        self.__free_size = 0\n",
    "    def __str__(self):\n",
    "        return 'ModelParamsList:\\n' + '\\n'.join([ '\\t' + str(param) for param in self.param_dict.values() ])\n",
    "    def __getitem__(self, key):\n",
    "        return self.param_dict[key]\n",
    "    def push_param(self, param):\n",
    "        self.param_dict[param.name] = param\n",
    "        self.__size = self.__size + param.size()\n",
    "        self.__free_size = self.__free_size + param.size()\n",
    "    def set(self, vec):\n",
    "        if vec.size != self.__size: raise ValueError(\"Wrong size.\")\n",
    "        offset = 0\n",
    "        for param in self.param_dict.values():\n",
    "            param.set(vec[offset:(offset + param.size())])\n",
    "            offset = offset + param.size()\n",
    "    def get(self):\n",
    "        vec = np.empty(self.size())\n",
    "        offset = 0\n",
    "        for param in self.param_dict.values():\n",
    "            vec[offset:(offset + param.size())] = param.get()\n",
    "            offset = offset + param.size()\n",
    "        return vec\n",
    "    def set_free(self, vec):\n",
    "        if vec.size != self.__free_size: raise ValueError(\"Wrong size.\")\n",
    "        offset = 0\n",
    "        for param in self.param_dict.values():\n",
    "            param.set_free(vec[offset:(offset + param.free_size())])\n",
    "            offset = offset + param.free_size()\n",
    "    def get_free(self):\n",
    "        vec = np.empty(self.free_size())\n",
    "        offset = 0\n",
    "        for param in self.param_dict.values():\n",
    "            vec[offset:(offset + param.free_size())] = param.get_free()\n",
    "            offset = offset + param.free_size()\n",
    "        return vec\n",
    "    def names(self):\n",
    "        return np.concatenate([ param.names() for param in self.param_dict.values()])\n",
    "    def size(self):\n",
    "        return self.__size\n",
    "    def free_size(self):\n",
    "        return self.__free_size\n",
    "\n",
    "par = ModelParamsDict()\n",
    "par.push_param(VectorParam(\"mu\", 3))        \n",
    "par.push_param(VectorParam(\"sigma\", 3, lb=0))        \n",
    "par.push_param(ScalarParam(\"tau\", lb=0, ub=1))        \n",
    "\n",
    "\n",
    "par.param_dict['mu'].set(np.array([-10, 20, -30]))\n",
    "par.param_dict['sigma'].set(np.array([1, 2, 3]))\n",
    "par.param_dict['tau'].set(0.5)\n",
    "\n",
    "print par['tau'].get()\n",
    "\n",
    "\n",
    "print par.names()\n",
    "print par.get()\n",
    "print par.get_free()\n",
    "\n",
    "print par\n",
    "print par['mu']"
   ]
  },
  {
   "cell_type": "code",
   "execution_count": 59,
   "metadata": {
    "collapsed": false
   },
   "outputs": [
    {
     "name": "stdout",
     "output_type": "stream",
     "text": [
      "[2]\n",
      "[1, 2, 3]\n",
      "{'blue': <__main__.ScalarParam object at 0x7f497d8496d0>, 'yues': 5}\n",
      "blue\n",
      "mu: nan\n",
      "-------\n",
      "yues\n",
      "5\n",
      "-------\n",
      "[<__main__.ScalarParam object at 0x7f497d8496d0>, 5]\n"
     ]
    }
   ],
   "source": [
    "np.concatenate((np.array([1,2]), np.array([3,4]), [5]), axis=0)\n",
    "foo = [1, 2, 3, 4]\n",
    "offset = 1\n",
    "print foo[offset:(offset + 1)]\n",
    "print foo[0:3]\n",
    "\n",
    "foo = {}\n",
    "foo['yues'] = 5\n",
    "foo['blue'] = ScalarParam(\"mu\")\n",
    "print foo\n",
    "\n",
    "for k, v in foo.iteritems():\n",
    "    print k\n",
    "    print v\n",
    "    print '-------'\n",
    "    \n",
    "print foo.values()\n",
    "    "
   ]
  }
 ],
 "metadata": {
  "kernelspec": {
   "display_name": "Python [Root]",
   "language": "python",
   "name": "Python [Root]"
  },
  "language_info": {
   "codemirror_mode": {
    "name": "ipython",
    "version": 2
   },
   "file_extension": ".py",
   "mimetype": "text/x-python",
   "name": "python",
   "nbconvert_exporter": "python",
   "pygments_lexer": "ipython2",
   "version": "2.7.12"
  }
 },
 "nbformat": 4,
 "nbformat_minor": 0
}
