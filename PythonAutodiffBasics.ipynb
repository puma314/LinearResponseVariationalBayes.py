{
 "cells": [
  {
   "cell_type": "code",
   "execution_count": 1,
   "metadata": {
    "collapsed": false
   },
   "outputs": [],
   "source": [
    "import autograd.numpy as np\n",
    "from autograd import grad, hessian, jacobian\n",
    "import autograd.numpy.random as npr\n",
    "import copy"
   ]
  },
  {
   "cell_type": "code",
   "execution_count": 2,
   "metadata": {
    "collapsed": false
   },
   "outputs": [
    {
     "name": "stdout",
     "output_type": "stream",
     "text": [
      "Gradient of sin(pi) is -0.999899529704\n"
     ]
    }
   ],
   "source": [
    "def taylor_sine(x):  # Taylor approximation to sine function\n",
    "    ans = currterm = x\n",
    "    i = 0\n",
    "    while np.abs(currterm) > 0.001:\n",
    "        currterm = -currterm * x**2 / ((2 * i + 3) * (2 * i + 2))\n",
    "        ans = ans + currterm\n",
    "        i += 1\n",
    "    return ans\n",
    "\n",
    "grad_sine = grad(taylor_sine)\n",
    "print \"Gradient of sin(pi) is\", grad_sine(np.pi)"
   ]
  },
  {
   "cell_type": "code",
   "execution_count": 3,
   "metadata": {
    "collapsed": false
   },
   "outputs": [
    {
     "data": {
      "text/plain": [
       "array([[ 0.,  0.,  0.,  0.,  0.],\n",
       "       [ 0.,  0.,  0.,  0.,  0.],\n",
       "       [ 0.,  0.,  0.,  0.,  0.],\n",
       "       [ 0.,  0.,  0.,  0.,  0.],\n",
       "       [ 0.,  0.,  0.,  0.,  0.]])"
      ]
     },
     "execution_count": 3,
     "metadata": {},
     "output_type": "execute_result"
    }
   ],
   "source": [
    "# Check Hessian of a quadratic function.\n",
    "D = 5\n",
    "H = npr.randn(D, D)\n",
    "def fun(x):\n",
    "    return np.dot(np.dot(x, H),x)\n",
    "hess = hessian(fun)\n",
    "x = npr.randn(D)\n",
    "hess(x) - (H + H.T)"
   ]
  },
  {
   "cell_type": "code",
   "execution_count": 4,
   "metadata": {
    "collapsed": false
   },
   "outputs": [
    {
     "data": {
      "text/plain": [
       "array([ 0.,  0.,  0.])"
      ]
     },
     "execution_count": 4,
     "metadata": {},
     "output_type": "execute_result"
    }
   ],
   "source": [
    "fun = lambda x: np.array([x, x**2, x**3])\n",
    "val = npr.randn()\n",
    "fun_jac = jacobian(fun)\n",
    "fun_jac(val)  - np.array([1., 2*val, 3*val**2])"
   ]
  },
  {
   "cell_type": "code",
   "execution_count": 5,
   "metadata": {
    "collapsed": false
   },
   "outputs": [
    {
     "name": "stdout",
     "output_type": "stream",
     "text": [
      "[5 0 0]\n",
      "[ -0.71828183  -5.3890561  -18.08553692]\n"
     ]
    },
    {
     "data": {
      "text/plain": [
       "False"
      ]
     },
     "execution_count": 5,
     "metadata": {},
     "output_type": "execute_result"
    }
   ],
   "source": [
    "x = float(\"inf\")\n",
    "x == float(\"inf\")\n",
    "vec = np.array([1, 2, 3])\n",
    "vec.size\n",
    "vec_free = np.empty_like(vec)\n",
    "vec_free[0] = 5\n",
    "print vec_free\n",
    "print 2 - np.exp(vec)\n",
    "all(vec < 100)\n",
    "False and all(False)\n"
   ]
  },
  {
   "cell_type": "code",
   "execution_count": 6,
   "metadata": {
    "collapsed": false
   },
   "outputs": [
    {
     "name": "stdout",
     "output_type": "stream",
     "text": [
      "[ 1.  2.  3.]\n",
      "[ 1.  2.  3.]\n",
      "[ 1.  2.  3.]\n",
      "[ 1.  2.  3.]\n"
     ]
    }
   ],
   "source": [
    "def unconstrain_vector(vec, lb, ub):\n",
    "    if not all(vec <= ub): raise ValueError('Elements larger than the upper bound')\n",
    "    if not all(vec >= lb): raise ValueError('Elements smaller than the lower bound')\n",
    "    return unconstrain(vec, lb, ub)\n",
    "\n",
    "def unconstrain_scalar(val, lb, ub):\n",
    "    if not val <= ub: raise ValueError('Value larger than the upper bound')\n",
    "    if not val >= lb: raise ValueError('Value smaller than the lower bound')\n",
    "    return unconstrain(val, lb, ub)\n",
    "\n",
    "def unconstrain(vec, lb, ub):    \n",
    "    if ub <= lb: raise ValueError('Upper bound must be greater than lower bound')\n",
    "    if ub == float(\"inf\"):\n",
    "        if lb == -float(\"inf\"):\n",
    "            return copy.copy(vec)\n",
    "        else:\n",
    "            return np.log(vec - lb)\n",
    "    else: # the upper bound is finite\n",
    "        if lb == -float(\"inf\"):\n",
    "            return -1 * np.log(ub - vec)\n",
    "        else:\n",
    "            return np.log(vec - lb) - np.log(ub - vec)\n",
    "\n",
    "def constrain(free_vec, lb, ub):\n",
    "    if ub <= lb: raise ValueError('Upper bound must be greater than lower bound')\n",
    "    if ub == float(\"inf\"):\n",
    "        if lb == -float(\"inf\"):\n",
    "            return copy.copy(free_vec)\n",
    "        else:\n",
    "            return np.exp(free_vec) + lb\n",
    "    else: # the upper bound is finite\n",
    "        if lb == -float(\"inf\"):\n",
    "            return ub - np.exp(-1 * free_vec)\n",
    "        else:\n",
    "            exp_vec = np.exp(free_vec) \n",
    "            return (ub - lb) * exp_vec / (1 + exp_vec) + lb\n",
    "\n",
    "print constrain(unconstrain_vector(np.array([1., 2., 3.]), -1.0, 4.0), -1.0, 4.0)\n",
    "print constrain(unconstrain_vector(np.array([1., 2., 3.]), -1.0, float(\"inf\")), -1.0, float(\"inf\"))\n",
    "print constrain(unconstrain_vector(np.array([1., 2., 3.]), -1 * float(\"inf\"), 4.0), -1 * float(\"inf\"), 4.0)\n",
    "print constrain(unconstrain_vector(np.array([1., 2., 3.]), -1 * float(\"inf\"), float(\"inf\")), -1 * float(\"inf\"), float(\"inf\"))\n",
    "\n"
   ]
  },
  {
   "cell_type": "code",
   "execution_count": 7,
   "metadata": {
    "collapsed": false
   },
   "outputs": [
    {
     "data": {
      "text/plain": [
       "[1, 2, 3, 4, 5, 6, 7, 8, 9]"
      ]
     },
     "execution_count": 7,
     "metadata": {},
     "output_type": "execute_result"
    }
   ],
   "source": [
    "range(1, 10)"
   ]
  },
  {
   "cell_type": "code",
   "execution_count": 8,
   "metadata": {
    "collapsed": false
   },
   "outputs": [
    {
     "name": "stdout",
     "output_type": "stream",
     "text": [
      "tau: 5\n",
      "mu: [ 1.  2.  3.]\n"
     ]
    }
   ],
   "source": [
    "\n",
    "class VectorParam(object):\n",
    "    def __init__(self, name, size, lb=-float(\"inf\"), ub=float(\"inf\")):\n",
    "        self.name = name\n",
    "        self.__size = size\n",
    "        self.__free_size = size\n",
    "        self.__val = np.empty(size)\n",
    "        if lb >= ub: raise ValueError('Upper bound must strictly exceed lower bound')\n",
    "        self.__lb = lb\n",
    "        self.__ub = ub\n",
    "    def __str__(self):\n",
    "        return self.name + ': ' + str(self.__val)\n",
    "    def names(self):\n",
    "        return [ self.name + '_' + str(k) for k in range(self.size()) ]\n",
    "    def set(self, val):\n",
    "        if val.size != self.size(): raise ValueError('Wrong size for vector ' + self.name)\n",
    "        self.__val = val\n",
    "    def get(self):\n",
    "        return self.__val\n",
    "    def set_free(self, free_val):\n",
    "        if free_val.size != self.size(): raise ValueError('Wrong size for vector ' + self.name)\n",
    "        self.set(constrain(free_val, self.__lb, self.__ub))\n",
    "    def get_free(self):\n",
    "        return unconstrain_vector(self.__val, self.__lb, self.__ub)\n",
    "    def size(self):\n",
    "        return self.__size\n",
    "    def free_size(self):\n",
    "        return self.__free_size\n",
    "\n",
    "    \n",
    "class ScalarParam(object):\n",
    "    def __init__(self, name, lb=-float(\"inf\"), ub=float(\"inf\")):\n",
    "        self.name = name\n",
    "        if lb >= ub: raise ValueError('Upper bound must strictly exceed lower bound')\n",
    "        self.__val = 0.5 * (ub + lb)\n",
    "        self.__lb = lb\n",
    "        self.__ub = ub\n",
    "    def __str__(self):\n",
    "        return self.name + ': ' + str(self.__val)\n",
    "    def names(self):\n",
    "        return [ self.name ]\n",
    "    def set(self, val):\n",
    "        self.__val = val\n",
    "    def get(self):\n",
    "        return self.__val\n",
    "    def set_free(self, free_val):\n",
    "        self.set(constrain(free_val, self.__lb, self.__ub))\n",
    "    def get_free(self):\n",
    "        return unconstrain_scalar(self.__val, self.__lb, self.__ub)\n",
    "    def size(self):\n",
    "        return 1\n",
    "    def free_size(self):\n",
    "        return 1\n",
    "\n",
    "\n",
    "mu = VectorParam(\"mu\", 3, lb=0, ub=10)\n",
    "mu.set(np.array([1., 2., 3.]))\n",
    "mu.get()\n",
    "foo = mu.get_free()\n",
    "mu.set_free(foo)\n",
    "mu.get()\n",
    "\n",
    "tau = ScalarParam('tau', lb=0, ub=float(\"inf\"))\n",
    "tau.set(5)\n",
    "# print dir(tau)\n",
    "tau.get_free()\n",
    "print tau\n",
    "print mu"
   ]
  },
  {
   "cell_type": "code",
   "execution_count": 87,
   "metadata": {
    "collapsed": false
   },
   "outputs": [
    {
     "name": "stdout",
     "output_type": "stream",
     "text": [
      "[[ 1.   0.1]\n",
      " [ 0.1  1. ]]\n",
      "[[ 1.          0.        ]\n",
      " [ 0.1         0.99498744]]\n",
      "[[ 0.  0.]\n",
      " [ 0.  0.]]\n"
     ]
    }
   ],
   "source": [
    "\n",
    "a = np.matrix([[1, 0.1], [0.1, 1]])\n",
    "print a\n",
    "a_chol_orig = np.linalg.cholesky(a)\n",
    "print a_chol_orig\n",
    "print a_chol_orig * a_chol_orig.T - a\n",
    "\n",
    "\n",
    "nrow, ncol = np.shape(a)"
   ]
  },
  {
   "cell_type": "code",
   "execution_count": 139,
   "metadata": {
    "collapsed": false
   },
   "outputs": [
    {
     "name": "stdout",
     "output_type": "stream",
     "text": [
      "[[ 2.16944864  1.22600951  1.1020446   0.64770511]\n",
      " [ 1.22600951  2.53642267  1.09570046  0.6387525 ]\n",
      " [ 1.1020446   1.09570046  2.61612275  0.86641019]\n",
      " [ 0.64770511  0.6387525   0.86641019  1.72430484]]\n",
      "-------\n",
      "\n",
      "[[ 1.47290483  0.          0.          0.        ]\n",
      " [ 0.83237524  1.3577828   0.          0.        ]\n",
      " [ 0.74821168  0.34829399  1.39104038  0.        ]\n",
      " [ 0.43974675  0.20085554  0.33602889  1.17374157]]\n",
      "[ 1.47290483  0.83237524  1.3577828   0.74821168  0.34829399  1.39104038\n",
      "  0.43974675  0.20085554  0.33602889  1.17374157]\n",
      "[[ 1.47290483  0.          0.          0.        ]\n",
      " [ 0.83237524  1.3577828   0.          0.        ]\n",
      " [ 0.74821168  0.34829399  1.39104038  0.        ]\n",
      " [ 0.43974675  0.20085554  0.33602889  1.17374157]]\n"
     ]
    },
    {
     "data": {
      "text/plain": [
       "matrix([[  0.00000000e+00,   0.00000000e+00,   0.00000000e+00,\n",
       "          -1.11022302e-16],\n",
       "        [  0.00000000e+00,  -4.44089210e-16,   0.00000000e+00,\n",
       "           0.00000000e+00],\n",
       "        [  0.00000000e+00,   0.00000000e+00,   0.00000000e+00,\n",
       "           0.00000000e+00],\n",
       "        [ -1.11022302e-16,   0.00000000e+00,   0.00000000e+00,\n",
       "           0.00000000e+00]])"
      ]
     },
     "execution_count": 139,
     "metadata": {},
     "output_type": "execute_result"
    }
   ],
   "source": [
    "import math\n",
    "\n",
    "# Uses 0-indexing.\n",
    "def sym_index(row, col):\n",
    "    if row <= col:\n",
    "        return col * (col + 1) / 2 + row\n",
    "    else:\n",
    "        return row * (row + 1) / 2 + col\n",
    "        \n",
    "\n",
    "def vectorize_matrix(mat, ld=True):\n",
    "    nrow, ncol = np.shape(mat)\n",
    "    if nrow != ncol: raise ValueError('mat must be square')\n",
    "    vec_size = nrow * (nrow + 1) / 2\n",
    "    vec = np.empty(vec_size)\n",
    "    for col in range(ncol):\n",
    "        for row in range(col + 1):\n",
    "            if ld:\n",
    "                vec[sym_index(row, col)] = mat[col, row]                \n",
    "            else:\n",
    "                vec[sym_index(row, col)] = mat[row, col]\n",
    "    return vec\n",
    "\n",
    "def unvectorize_matrix(vec, ld_only=False):\n",
    "    mat_size = int(0.5 * (math.sqrt(1 + 8 * vec.size) - 1))\n",
    "    if mat_size * (mat_size + 1) / 2 != vec.size: raise ValueError('Vector is an impossible size')\n",
    "    mat = np.matrix(np.zeros([ mat_size, mat_size ]))\n",
    "    for row in range(mat_size):\n",
    "        for col in range(row + 1):\n",
    "            mat[row, col] = vec[sym_index(row, col)]\n",
    "            if (not ld_only) and row != col:\n",
    "                mat[col, row] = mat[row, col]\n",
    "    return mat\n",
    "\n",
    "\n",
    "def pack_posdef_matrix(mat):\n",
    "    return vectorize_matrix(np.linalg.cholesky(mat), ld=True)\n",
    "\n",
    "def unpack_posdef_matrix(free_vec):\n",
    "    mat_chol = unvectorize_matrix(free_vec, ld_only=True)\n",
    "    return mat_chol * mat_chol.T\n",
    "\n",
    "a = np.matrix(np.random.rand(4, 4))\n",
    "sigma_val = a * a.T + np.eye(4)\n",
    "\n",
    "print sigma_val\n",
    "# vec = vectorize_matrix(sigma_val)\n",
    "# print vec\n",
    "# print unvectorize_matrix(vec)\n",
    "\n",
    "print '-------\\n'\n",
    "print np.linalg.cholesky(sigma_val)\n",
    "print vectorize_matrix(np.linalg.cholesky(sigma_val), ld=True)\n",
    "print unvectorize_matrix(vectorize_matrix(np.linalg.cholesky(sigma_val), ld=True), ld_only=True)\n",
    "\n",
    "unpack_posdef_matrix(pack_posdef_matrix(sigma_val)) - sigma_val\n"
   ]
  },
  {
   "cell_type": "code",
   "execution_count": 140,
   "metadata": {
    "collapsed": false
   },
   "outputs": [
    {
     "name": "stdout",
     "output_type": "stream",
     "text": [
      "[[ 2.16944864  1.22600951  1.1020446   0.64770511]\n",
      " [ 1.22600951  2.53642267  1.09570046  0.6387525 ]\n",
      " [ 1.1020446   1.09570046  2.61612275  0.86641019]\n",
      " [ 0.64770511  0.6387525   0.86641019  1.72430484]]\n",
      "[[ 2.16944864  1.22600951  1.1020446   0.64770511]\n",
      " [ 1.22600951  2.53642267  1.09570046  0.6387525 ]\n",
      " [ 1.1020446   1.09570046  2.61612275  0.86641019]\n",
      " [ 0.64770511  0.6387525   0.86641019  1.72430484]]\n"
     ]
    }
   ],
   "source": [
    "class PosDefMatrixParam(object):\n",
    "    def __init__(self, name, size):\n",
    "        self.name = name\n",
    "        self.__size = size\n",
    "        self.__vec_size = size * (size + 1) / 2\n",
    "        self.__val = np.matrix(np.zeros([size, size]))\n",
    "    def __str__(self):\n",
    "        return self.name + ': ' + str(self.__val)\n",
    "    def names(self):\n",
    "        return [ self.name ]\n",
    "    def set(self, val):\n",
    "        nrow, ncol = np.shape(val)\n",
    "        if nrow != self.__size or ncol != self.__size: raise ValueError('Matrix is a different size')\n",
    "        self.__val = val\n",
    "    def get(self):\n",
    "        return self.__val\n",
    "    def set_free(self, free_val):\n",
    "        if free_val.size != self.__vec_size: raise ValueError('Free value is the wrong length')\n",
    "        self.set(unpack_posdef_matrix(free_val))\n",
    "    def get_free(self):\n",
    "        return pack_posdef_matrix(self.__val)\n",
    "    def size(self):\n",
    "        return self.__size\n",
    "    def free_size(self):\n",
    "        return self.__vec_size\n",
    "\n",
    "\n",
    "    \n",
    "sigma = PosDefMatrixParam('sigma', 4)\n",
    "sigma.set(sigma_val)\n",
    "sigma_0 = PosDefMatrixParam('sigma0', 4)\n",
    "sigma_0.set_free(sigma.get_free())\n",
    "print sigma_0.get() - sigma.get()"
   ]
  },
  {
   "cell_type": "code",
   "execution_count": 9,
   "metadata": {
    "collapsed": false
   },
   "outputs": [
    {
     "name": "stdout",
     "output_type": "stream",
     "text": [
      "0.5\n",
      "['mu_0' 'mu_1' 'mu_2' 'sigma_0' 'sigma_1' 'sigma_2' 'tau']\n",
      "[-10.   20.  -30.    1.    2.    3.    0.5]\n",
      "[-10.          20.         -30.           0.           0.69314718\n",
      "   1.09861229   0.        ]\n",
      "ModelParamsList:\n",
      "\tmu: [-10  20 -30]\n",
      "\tsigma: [1 2 3]\n",
      "\ttau: 0.5\n"
     ]
    }
   ],
   "source": [
    "class ModelParamsList(object):\n",
    "    def __init__(self):\n",
    "        self.param_list = []\n",
    "        self.__size = 0\n",
    "        self.__free_size = 0\n",
    "    def __str__(self):\n",
    "        return 'ModelParamsList:\\n' + '\\n'.join([ '\\t' + str(param) for param in self.param_list ])\n",
    "    def push_param(self, param):\n",
    "        self.param_list.append(param)\n",
    "        self.__size = self.__size + param.size()\n",
    "        self.__free_size = self.__free_size + param.size()\n",
    "    def set(self, vec):\n",
    "        if vec.size != self.__size: raise ValueError(\"Wrong size.\")\n",
    "        offset = 0\n",
    "        for param in self.param_list:\n",
    "            param.set(vec[offset:(offset + param.size())])\n",
    "            offset = offset + param.size()\n",
    "    def get(self):\n",
    "        vec = np.empty(self.size())\n",
    "        offset = 0\n",
    "        for param in self.param_list:\n",
    "            vec[offset:(offset + param.size())] = param.get()\n",
    "            offset = offset + param.size()\n",
    "        return vec\n",
    "    def set_free(self, vec):\n",
    "        if vec.size != self.__free_size: raise ValueError(\"Wrong size.\")\n",
    "        offset = 0\n",
    "        for param in self.param_list:\n",
    "            param.set_free(vec[offset:(offset + param.free_size())])\n",
    "            offset = offset + param.free_size()\n",
    "    def get_free(self):\n",
    "        vec = np.empty(self.free_size())\n",
    "        offset = 0\n",
    "        for param in self.param_list:\n",
    "            vec[offset:(offset + param.free_size())] = param.get_free()\n",
    "            offset = offset + param.free_size()\n",
    "        return vec\n",
    "    def names(self):\n",
    "        return np.concatenate([ param.names() for param in self.param_list])\n",
    "    def size(self):\n",
    "        return self.__size\n",
    "    def free_size(self):\n",
    "        return self.__free_size\n",
    "\n",
    "par = ModelParamsList()\n",
    "par.push_param(VectorParam(\"mu\", 3))        \n",
    "par.push_param(VectorParam(\"sigma\", 3, lb=0))        \n",
    "par.push_param(ScalarParam(\"tau\", lb=0, ub=1))        \n",
    "\n",
    "\n",
    "par.param_list[0].set(np.array([-10, 20, -30]))\n",
    "par.param_list[1].set(np.array([1, 2, 3]))\n",
    "par.param_list[2].set(0.5)\n",
    "\n",
    "print par.param_list[2].get()\n",
    "\n",
    "\n",
    "print par.names()\n",
    "print par.get()\n",
    "print par.get_free()\n",
    "\n",
    "print par\n"
   ]
  },
  {
   "cell_type": "code",
   "execution_count": 10,
   "metadata": {
    "collapsed": false
   },
   "outputs": [
    {
     "name": "stdout",
     "output_type": "stream",
     "text": [
      "0.5\n",
      "['mu_0' 'mu_1' 'mu_2' 'tau' 'sigma_0' 'sigma_1' 'sigma_2']\n",
      "[-10.   20.  -30.    0.5   1.    2.    3. ]\n",
      "[-10.          20.         -30.           0.           0.           0.69314718\n",
      "   1.09861229]\n",
      "ModelParamsList:\n",
      "\tmu: [-10  20 -30]\n",
      "\ttau: 0.5\n",
      "\tsigma: [1 2 3]\n",
      "mu: [-10  20 -30]\n"
     ]
    }
   ],
   "source": [
    "class ModelParamsDict(object):\n",
    "    def __init__(self):\n",
    "        self.param_dict = {}\n",
    "        self.__size = 0\n",
    "        self.__free_size = 0\n",
    "    def __str__(self):\n",
    "        return 'ModelParamsList:\\n' + '\\n'.join([ '\\t' + str(param) for param in self.param_dict.values() ])\n",
    "    def __getitem__(self, key):\n",
    "        return self.param_dict[key]\n",
    "    def push_param(self, param):\n",
    "        self.param_dict[param.name] = param\n",
    "        self.__size = self.__size + param.size()\n",
    "        self.__free_size = self.__free_size + param.size()\n",
    "    def set(self, vec):\n",
    "        if vec.size != self.__size: raise ValueError(\"Wrong size.\")\n",
    "        offset = 0\n",
    "        for param in self.param_dict.values():\n",
    "            param.set(vec[offset:(offset + param.size())])\n",
    "            offset = offset + param.size()\n",
    "    def get(self):\n",
    "        vec = np.empty(self.size())\n",
    "        offset = 0\n",
    "        for param in self.param_dict.values():\n",
    "            vec[offset:(offset + param.size())] = param.get()\n",
    "            offset = offset + param.size()\n",
    "        return vec\n",
    "    def set_free(self, vec):\n",
    "        if vec.size != self.__free_size: raise ValueError(\"Wrong size.\")\n",
    "        offset = 0\n",
    "        for param in self.param_dict.values():\n",
    "            param.set_free(vec[offset:(offset + param.free_size())])\n",
    "            offset = offset + param.free_size()\n",
    "    def get_free(self):\n",
    "        vec = np.empty(self.free_size())\n",
    "        offset = 0\n",
    "        for param in self.param_dict.values():\n",
    "            vec[offset:(offset + param.free_size())] = param.get_free()\n",
    "            offset = offset + param.free_size()\n",
    "        return vec\n",
    "    def names(self):\n",
    "        return np.concatenate([ param.names() for param in self.param_dict.values()])\n",
    "    def size(self):\n",
    "        return self.__size\n",
    "    def free_size(self):\n",
    "        return self.__free_size\n",
    "\n",
    "par = ModelParamsDict()\n",
    "par.push_param(VectorParam(\"mu\", 3))        \n",
    "par.push_param(VectorParam(\"sigma\", 3, lb=0))        \n",
    "par.push_param(ScalarParam(\"tau\", lb=0, ub=1))        \n",
    "\n",
    "\n",
    "par.param_dict['mu'].set(np.array([-10, 20, -30]))\n",
    "par.param_dict['sigma'].set(np.array([1, 2, 3]))\n",
    "par.param_dict['tau'].set(0.5)\n",
    "\n",
    "print par['tau'].get()\n",
    "\n",
    "\n",
    "print par.names()\n",
    "print par.get()\n",
    "print par.get_free()\n",
    "\n",
    "print par\n",
    "print par['mu']"
   ]
  },
  {
   "cell_type": "code",
   "execution_count": 11,
   "metadata": {
    "collapsed": false
   },
   "outputs": [
    {
     "name": "stdout",
     "output_type": "stream",
     "text": [
      "[2]\n",
      "[1, 2, 3]\n",
      "{'blue': <__main__.ScalarParam object at 0x7fee652ae410>, 'yues': 5}\n",
      "blue\n",
      "mu: nan\n",
      "-------\n",
      "yues\n",
      "5\n",
      "-------\n",
      "[<__main__.ScalarParam object at 0x7fee652ae410>, 5]\n"
     ]
    }
   ],
   "source": [
    "np.concatenate((np.array([1,2]), np.array([3,4]), [5]), axis=0)\n",
    "foo = [1, 2, 3, 4]\n",
    "offset = 1\n",
    "print foo[offset:(offset + 1)]\n",
    "print foo[0:3]\n",
    "\n",
    "foo = {}\n",
    "foo['yues'] = 5\n",
    "foo['blue'] = ScalarParam(\"mu\")\n",
    "print foo\n",
    "\n",
    "for k, v in foo.iteritems():\n",
    "    print k\n",
    "    print v\n",
    "    print '-------'\n",
    "    \n",
    "print foo.values()\n",
    "    "
   ]
  }
 ],
 "metadata": {
  "kernelspec": {
   "display_name": "Python [Root]",
   "language": "python",
   "name": "Python [Root]"
  },
  "language_info": {
   "codemirror_mode": {
    "name": "ipython",
    "version": 2
   },
   "file_extension": ".py",
   "mimetype": "text/x-python",
   "name": "python",
   "nbconvert_exporter": "python",
   "pygments_lexer": "ipython2",
   "version": "2.7.12"
  }
 },
 "nbformat": 4,
 "nbformat_minor": 0
}
