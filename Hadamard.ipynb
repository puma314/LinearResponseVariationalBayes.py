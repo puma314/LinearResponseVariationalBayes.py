{
 "cells": [
  {
   "cell_type": "code",
   "execution_count": 4,
   "metadata": {},
   "outputs": [],
   "source": [
    "import numpy as np\n",
    "from numpy import linalg\n",
    "from numpy import random\n",
    "\n",
    "import scipy as sp\n",
    "from scipy import linalg\n",
    "from scipy import sparse\n",
    "\n"
   ]
  },
  {
   "cell_type": "code",
   "execution_count": 42,
   "metadata": {},
   "outputs": [],
   "source": [
    "n = 2**3\n",
    "h = sp.linalg.hadamard(n, dtype=float)\n",
    "d = sp.sparse.diags(1 - 2 * (np.random.random(n) > 0.5))\n",
    "a = sp.sparse.diags(np.random.random(n))"
   ]
  },
  {
   "cell_type": "code",
   "execution_count": 43,
   "metadata": {},
   "outputs": [],
   "source": [
    "rrot = d * h\n",
    "arot = rrot * a\n",
    "\n",
    "a_eig_vals, a_eig_vecs = np.linalg.eig(a.toarray())\n",
    "arot_eig_vals, arot_eig_vecs = np.linalg.eig(arot)"
   ]
  }
 ],
 "metadata": {
  "kernelspec": {
   "display_name": "Python 2",
   "language": "python",
   "name": "python2"
  },
  "language_info": {
   "codemirror_mode": {
    "name": "ipython",
    "version": 2
   },
   "file_extension": ".py",
   "mimetype": "text/x-python",
   "name": "python",
   "nbconvert_exporter": "python",
   "pygments_lexer": "ipython2",
   "version": "2.7.12"
  }
 },
 "nbformat": 4,
 "nbformat_minor": 2
}
