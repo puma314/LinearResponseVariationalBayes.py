{
 "cells": [
  {
   "cell_type": "code",
   "execution_count": 1,
   "metadata": {
    "collapsed": true
   },
   "outputs": [],
   "source": [
    "import numpy as np\n",
    "from numpy import linalg\n",
    "from numpy import random\n",
    "\n",
    "import scipy as sp\n",
    "from scipy import linalg\n",
    "from scipy import sparse"
   ]
  },
  {
   "cell_type": "code",
   "execution_count": 57,
   "metadata": {},
   "outputs": [],
   "source": [
    "def get_hadamard_random_rot(n):\n",
    "    h = sp.linalg.hadamard(n, dtype=float)\n",
    "    d = sp.sparse.diags(1 - 2 * (np.random.random(n) > 0.5))\n",
    "    return d * h\n",
    "\n",
    "def get_gaussian_random_mat(n):\n",
    "    return np.random.normal(loc=0, scale=1, size=(n, n))\n",
    "\n",
    "def diag_norm(mat):\n",
    "    mat_norm = np.linalg.norm(mat)\n",
    "    return np.linalg.norm(np.diag(mat)) / mat_norm"
   ]
  },
  {
   "cell_type": "code",
   "execution_count": 60,
   "metadata": {},
   "outputs": [
    {
     "name": "stdout",
     "output_type": "stream",
     "text": [
      "[[ 0.0887877   0.62418147 -0.6355257  ...,  1.8069636  -0.75581094\n",
      "  -1.58657171]\n",
      " [-0.07790536 -0.28109548  0.27074957 ..., -0.51635366 -0.57507054\n",
      "   1.41305695]\n",
      " [-0.28483233 -1.40089912 -0.10773149 ..., -0.62061913  1.03884719\n",
      "   0.00646492]\n",
      " ..., \n",
      " [-2.40288957 -0.32894348  0.77321807 ...,  0.69879246  1.105054\n",
      "  -0.43586531]\n",
      " [ 0.69328349 -1.56077213  1.20260949 ...,  0.50673102  0.61117744\n",
      "  -1.75899268]\n",
      " [ 0.57281588 -0.18184567  0.81930137 ...,  0.39320376 -0.91558529\n",
      "   0.6711215 ]]\n",
      "-0.0111717346732\n"
     ]
    }
   ],
   "source": [
    "print get_gaussian_random_mat(n)\n",
    "print np.mean(get_gaussian_random_mat(n))"
   ]
  },
  {
   "cell_type": "code",
   "execution_count": 69,
   "metadata": {},
   "outputs": [
    {
     "name": "stdout",
     "output_type": "stream",
     "text": [
      "0.161187564705\n",
      "0.870238609001\n"
     ]
    }
   ],
   "source": [
    "n = 2**8\n",
    "a = np.random.random((n, n)) + 1.0 * np.eye(n)\n",
    "\n",
    "# Actually if you write it out you don't expect multiplication by a random\n",
    "# Gaussian matrix to change the frobenius norm of any part of a matrix,\n",
    "# because you're squaring the random Gaussians.\n",
    "#\n",
    "# Think about it this way: multiplication by a random Gaussian matrix centers the\n",
    "# offdiagonal entries, but it does not scale them down.\n",
    "#rrot = get_gaussian_random_mat(n)\n",
    "\n",
    "rrot = get_hadamard_random_rot(n)\n",
    "\n",
    "\n",
    "a_rot = np.matmul(np.matmul(rrot, a,), rrot.transpose())\n",
    "print diag_norm(a)\n",
    "print diag_norm(a_rot)\n"
   ]
  },
  {
   "cell_type": "code",
   "execution_count": null,
   "metadata": {
    "collapsed": true
   },
   "outputs": [],
   "source": [
    "rrot = get_hadamard_random_rot(n)\n",
    "arot = np.matmul(rrot, a)\n",
    "\n",
    "a_eig_vals, a_eig_vecs = np.linalg.eig(a)\n",
    "arot_eig_vals, arot_eig_vecs = np.linalg.eig(arot)\n",
    "\n",
    "a_q, a_r = np.linalg.qr(a)\n",
    "arot_q, arot_r = np.linalg.qr(arot)"
   ]
  }
 ],
 "metadata": {
  "kernelspec": {
   "display_name": "Python 2",
   "language": "python",
   "name": "python2"
  },
  "language_info": {
   "codemirror_mode": {
    "name": "ipython",
    "version": 2
   },
   "file_extension": ".py",
   "mimetype": "text/x-python",
   "name": "python",
   "nbconvert_exporter": "python",
   "pygments_lexer": "ipython2",
   "version": "2.7.12"
  }
 },
 "nbformat": 4,
 "nbformat_minor": 2
}
