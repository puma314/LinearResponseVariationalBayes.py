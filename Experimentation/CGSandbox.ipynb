{
 "cells": [
  {
   "cell_type": "code",
   "execution_count": 21,
   "metadata": {
    "collapsed": true
   },
   "outputs": [],
   "source": [
    "import math\n",
    "\n",
    "from autograd import grad, hessian, jacobian, hessian_vector_product\n",
    "\n",
    "import autograd.numpy as np\n",
    "import autograd.numpy.random as npr\n",
    "\n",
    "import copy\n",
    "import scipy\n",
    "from scipy import optimize\n",
    "from scipy import stats"
   ]
  },
  {
   "cell_type": "code",
   "execution_count": 81,
   "metadata": {},
   "outputs": [
    {
     "name": "stdout",
     "output_type": "stream",
     "text": [
      "68.58036019\n"
     ]
    }
   ],
   "source": [
    "K = 500\n",
    "mat = np.full((K, K), 0.1) + np.eye(K)\n",
    "loc = np.array([float(k) / 7. for k in range(K)])\n",
    "def ObjPar(par, mat, loc):\n",
    "    diff = par - loc\n",
    "    return np.dot(diff, np.matmul(mat, diff))\n",
    "\n",
    "x = loc + 0.1 * np.random.rand(K)\n",
    "\n",
    "ObjPar(x, mat, loc)\n",
    "Obj = lambda x: ObjPar(x, mat, loc)\n",
    "ObjHess = hessian(Obj)\n",
    "ObjHessVecProd = hessian_vector_product(Obj)\n",
    "\n",
    "print Obj(x)"
   ]
  },
  {
   "cell_type": "code",
   "execution_count": 82,
   "metadata": {},
   "outputs": [
    {
     "name": "stdout",
     "output_type": "stream",
     "text": [
      "0.00450010299683\n",
      "0.434067296982\n",
      "1.13686837722e-13\n"
     ]
    }
   ],
   "source": [
    "from scipy.sparse.linalg import LinearOperator\n",
    "import timeit\n",
    "\n",
    "x0 = loc\n",
    "ObjHessVecProdLO = LinearOperator((K, K), lambda par: ObjHessVecProd(x0, par))\n",
    "ObjHessVecProdLO(x)\n",
    "\n",
    "cg_res, info = scipy.sparse.linalg.cg(ObjHessVecProdLO, x)\n",
    "ls_res = np.linalg.solve(ObjHess(x0), x)\n",
    "\n",
    "time_num = 10\n",
    "cg_time = timeit.timeit(lambda: scipy.sparse.linalg.cg(ObjHessVecProdLO, x), number=time_num) / time_num\n",
    "ls_time = timeit.timeit(lambda: np.linalg.solve(ObjHess(x0), x), number=time_num) / time_num\n",
    "\n",
    "print cg_time\n",
    "print ls_time\n",
    "\n",
    "print max(np.abs(cg_res - ls_res))"
   ]
  }
 ],
 "metadata": {
  "kernelspec": {
   "display_name": "Python 3",
   "language": "python",
   "name": "python3"
  },
  "language_info": {
   "codemirror_mode": {
    "name": "ipython",
    "version": 3
   },
   "file_extension": ".py",
   "mimetype": "text/x-python",
   "name": "python",
   "nbconvert_exporter": "python",
   "pygments_lexer": "ipython3",
   "version": "3.5.2"
  }
 },
 "nbformat": 4,
 "nbformat_minor": 1
}
