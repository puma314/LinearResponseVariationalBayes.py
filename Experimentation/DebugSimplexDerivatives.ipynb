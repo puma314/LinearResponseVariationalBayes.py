{
 "cells": [
  {
   "cell_type": "code",
   "execution_count": 1,
   "metadata": {},
   "outputs": [
    {
     "name": "stdout",
     "output_type": "stream",
     "text": [
      "(4, 3, 3)\n",
      "(4, 3, 3)\n",
      "[[[ 0.  0.  0.]\n",
      "  [ 0.  0.  0.]\n",
      "  [ 0.  0.  0.]]\n",
      "\n",
      " [[ 0.  0.  0.]\n",
      "  [ 0.  0.  0.]\n",
      "  [ 0.  0.  0.]]\n",
      "\n",
      " [[ 0.  0.  0.]\n",
      "  [ 0.  0.  0.]\n",
      "  [ 0.  0.  0.]]\n",
      "\n",
      " [[ 0.  0.  0.]\n",
      "  [ 0.  0.  0.]\n",
      "  [ 0.  0.  0.]]]\n",
      "[ 0.08259454  0.08259454  0.22451524  0.61029569]\n"
     ]
    }
   ],
   "source": [
    "\n",
    "from VariationalBayes.MultinomialParams import \\\n",
    "    constrain_simplex_vector, constrain_hess_from_moment\n",
    "import autograd.numpy as np\n",
    "\n",
    "from autograd import grad, jacobian, hessian\n",
    "import numpy.testing as np_test\n",
    "import matplotlib.pyplot as plt\n",
    "\n",
    "\n",
    "k = 3\n",
    "free_param = np.arange(0., float(k), 1.)\n",
    "z = constrain_simplex_vector(free_param)\n",
    "get_constrain_hess = hessian(constrain_simplex_vector)\n",
    "\n",
    "target_hess = get_constrain_hess(free_param)\n",
    "hess = constrain_hess_from_moment(z)\n",
    "\n",
    "print(target_hess.shape)\n",
    "print(hess.shape)\n",
    "\n",
    "# print(target_hess)\n",
    "# print(hess)\n",
    "diff = hess - target_hess\n",
    "diff[np.abs(diff) < 1e-6] = 0\n",
    "print(diff)\n",
    "print(z)\n"
   ]
  }
 ],
 "metadata": {
  "kernelspec": {
   "display_name": "Python 3",
   "language": "python",
   "name": "python3"
  },
  "language_info": {
   "codemirror_mode": {
    "name": "ipython",
    "version": 3
   },
   "file_extension": ".py",
   "mimetype": "text/x-python",
   "name": "python",
   "nbconvert_exporter": "python",
   "pygments_lexer": "ipython3",
   "version": "3.5.2"
  }
 },
 "nbformat": 4,
 "nbformat_minor": 2
}
