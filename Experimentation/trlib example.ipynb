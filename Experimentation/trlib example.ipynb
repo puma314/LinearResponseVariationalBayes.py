{
 "cells": [
  {
   "cell_type": "code",
   "execution_count": 1,
   "metadata": {
    "collapsed": true
   },
   "outputs": [],
   "source": [
    "import trlib\n",
    "# import autograd.numpy as np\n",
    "# from autograd import grad, hessian, hessian_vector_product"
   ]
  },
  {
   "cell_type": "code",
   "execution_count": 3,
   "metadata": {},
   "outputs": [
    {
     "data": {
      "text/plain": [
       "1.0000000000000004"
      ]
     },
     "execution_count": 3,
     "metadata": {},
     "output_type": "execute_result"
    }
   ],
   "source": [
    "import scipy.sparse\n",
    "import numpy as np\n",
    "from scipy.sparse.linalg import LinearOperator\n",
    "\n",
    "H = scipy.sparse.diags(np.linspace(-1.0, 100.0, 1000),0)\n",
    "g = np.ones(1000)\n",
    "x, TR = trlib.trlib_solve(H, g, 1.0)\n",
    "np.linalg.norm(x)\n",
    "1.0000000000000002\n",
    "x, TR = trlib.trlib_solve(H, g, .5, reentry=True, TR=TR)\n",
    "0.50000000000000011\n",
    "\n",
    "H_lo = LinearOperator(H.shape, matvec=lambda vec: H * vec)\n",
    "x, TR = trlib.trlib_solve(H_lo, g, 1.0)\n",
    "np.linalg.norm(x)\n"
   ]
  },
  {
   "cell_type": "code",
   "execution_count": 10,
   "metadata": {},
   "outputs": [
    {
     "name": "stdout",
     "output_type": "stream",
     "text": [
      "it   obj         ‖g‖        radius     step       rho          ?  nhv\n",
      "   0 +4.4772e+00 8.2341e+00 4.4721e-01 4.4721e-01 +1.0000e+00  +    1\n",
      "   1 +1.5687e+00 4.7778e+00 8.9443e-01 6.2189e-01 +1.0000e+00  +    1\n",
      "   2 +8.3092e-02 4.7673e-01 1.7889e+00 3.4147e-01 +1.0000e+00  +    2\n",
      "   3 +2.3281e-03 9.3241e-02 3.5777e+00 5.5340e-02 +1.0000e+00  +    3\n",
      "   4 +1.0250e-06 1.6006e-03 7.1554e+00 1.2866e-03 +1.0000e+00  +    4\n",
      "   5 +1.9722e-14 1.9997e-07\n"
     ]
    },
    {
     "data": {
      "text/plain": [
       "array([  9.57325040e-08,  -1.05325259e-07,   5.31485231e-08,\n",
       "        -1.23588008e-07,   2.34877964e-08])"
      ]
     },
     "execution_count": 10,
     "metadata": {},
     "output_type": "execute_result"
    }
   ],
   "source": [
    "h = np.random.random((5, 5))\n",
    "h = np.matmul(h, h.transpose()) + np.eye(5)\n",
    "\n",
    "def f(x):\n",
    "    return 0.5 * np.dot(x, np.matmul(h, x))\n",
    "\n",
    "def g(x):\n",
    "    return np.matmul(h, x)\n",
    "\n",
    "def hvp(x, g):\n",
    "    return np.matmul(h, g)\n",
    "\n",
    "trlib.umin(f, g, hvp, np.random.random(5))\n"
   ]
  },
  {
   "cell_type": "code",
   "execution_count": 15,
   "metadata": {},
   "outputs": [
    {
     "name": "stdout",
     "output_type": "stream",
     "text": [
      "it   obj         ‖g‖        radius     step       rho          ?  nhv\n",
      "   0 +2.7673e+00 6.5189e+00 4.4721e-01 4.4721e-01 +1.0000e+00  +    1\n",
      "   1 +6.2800e-01 3.0519e+00 8.9443e-01 3.9558e-01 +1.0000e+00  +    1\n",
      "   2 +2.4369e-02 2.4871e-01 1.7889e+00 1.9172e-01 +1.0000e+00  +    2\n",
      "   3 +6.6650e-04 4.9853e-02 3.5777e+00 3.0320e-02 +1.0000e+00  +    3\n",
      "   4 +2.4716e-09 7.2302e-05 7.1554e+00 6.8655e-05 +1.0000e+00  +    5\n",
      "   5 +5.8903e-41 2.2313e-20\n"
     ]
    },
    {
     "data": {
      "text/plain": [
       "array([ -1.69406589e-21,   6.77626358e-21,   0.00000000e+00,\n",
       "         0.00000000e+00,   1.69406589e-21])"
      ]
     },
     "execution_count": 15,
     "metadata": {},
     "output_type": "execute_result"
    }
   ],
   "source": [
    "import autograd\n",
    "import autograd.numpy as np\n",
    "\n",
    "\n",
    "def f(x):\n",
    "    return 0.5 * np.dot(x, np.matmul(h, x))\n",
    "\n",
    "g = autograd.grad(f)\n",
    "hvp = autograd.hessian_vector_product(f)\n",
    "\n",
    "trlib.umin(f, g, hvp, np.random.random(5))\n"
   ]
  },
  {
   "cell_type": "code",
   "execution_count": 19,
   "metadata": {},
   "outputs": [
    {
     "name": "stdout",
     "output_type": "stream",
     "text": [
      "it   obj         ‖g‖        radius     step       rho          ?  nhv\n",
      "   0 +3.7011e+00 7.5428e+00 4.4721e-01 4.4721e-01 +1.0000e+00  +    1\n",
      "   1 +1.1041e+00 4.0731e+00 8.9443e-01 5.2646e-01 +1.0000e+00  +    1\n",
      "   2 +3.1979e-02 2.6923e-01 1.7889e+00 2.3309e-01 +1.0000e+00  +    2\n",
      "   3 +7.3361e-04 5.4025e-02 3.5777e+00 3.0748e-02 +1.0000e+00  +    3\n",
      "   4 +3.9704e-07 9.9020e-04 7.1554e+00 8.0639e-04 +1.0000e+00  +    4\n",
      "   5 +4.2011e-15 9.1746e-08\n"
     ]
    },
    {
     "data": {
      "text/plain": [
       "array([  4.35879979e-08,   7.19599283e-09,  -2.80591440e-08,\n",
       "         1.81572940e-08,  -7.29271157e-08])"
      ]
     },
     "execution_count": 19,
     "metadata": {},
     "output_type": "execute_result"
    }
   ],
   "source": [
    "class objective(object):\n",
    "    def __init__(self):\n",
    "#         h = np.random.random((5, 5))\n",
    "#         h = np.matmul(h, h.transpose()) + np.eye(5)\n",
    "#         self.h = h\n",
    "        pass\n",
    "    def f(self, x):\n",
    "        return f(x)\n",
    "    \n",
    "    def g(self, x):\n",
    "        return g(x)\n",
    "    \n",
    "    def hvp(self, x, g):\n",
    "        return hvp(x, g)\n",
    "    \n",
    "obj = objective()\n",
    "\n",
    "trlib.umin(obj.f, obj.g, obj.hvp, np.random.random(5))\n"
   ]
  },
  {
   "cell_type": "code",
   "execution_count": 39,
   "metadata": {},
   "outputs": [
    {
     "name": "stdout",
     "output_type": "stream",
     "text": [
      "it   obj         ‖g‖        radius     step       rho          ?  nhv\n",
      "Iter  0  value:  41.198253167\n",
      "Iter  1  value:  56.8599667796\n",
      "Iter  2  value:  56.8599667796\n",
      "   0 +5.6860e+01 2.4284e+01 5.7735e-01 5.7735e-01 +9.9662e-01  +    1\n",
      "Iter  3  value:  7.24271732897\n",
      "Iter  4  value:  41.198253167\n",
      "Iter  5  value:  41.198253167\n",
      "   1 +4.1198e+01 2.9817e+01 1.1547e+00 1.1547e+00 +8.5006e-01  +    1\n",
      "Iter  6  value:  5.55779763135\n",
      "Iter  7  value:  7.24271732897\n",
      "Iter  8  value:  7.24271732897\n",
      "   2 +7.2427e+00 1.9641e+01 1.1547e+00 1.1547e+00 +1.1466e-01  +    2\n",
      "Iter  9  value:  0.817763127466\n",
      "Iter  10  value:  5.55779763135\n",
      "Iter  11  value:  5.55779763135\n",
      "   3 +5.5578e+00 3.5490e+01 1.1547e+00 2.3234e-01 +1.1497e+00  +    1\n",
      "Iter  12  value:  0.232873685065\n",
      "Iter  13  value:  0.817763127466\n",
      "Iter  14  value:  0.817763127466\n",
      "   4 +8.1776e-01 8.5743e+00 2.3094e+00 1.2506e-01 +1.0910e+00  +    1\n",
      "Iter  15  value:  0.00474328560605\n",
      "Iter  16  value:  0.232873685065\n",
      "Iter  17  value:  0.232873685065\n",
      "   5 +2.3287e-01 3.8051e+00 4.6188e+00 1.3917e-01 +9.0975e-01  +    2\n",
      "Iter  18  value:  0.000606155279078\n",
      "Iter  19  value:  0.00474328560605\n",
      "Iter  20  value:  0.00474328560605\n",
      "   6 +4.7433e-03 8.0019e-01 4.6188e+00 1.0258e-02 +1.0080e+00  +    1\n",
      "Iter  21  value:  3.27263419385e-08\n",
      "Iter  22  value:  0.000606155279078\n",
      "Iter  23  value:  0.000606155279078\n",
      "   7 +6.0616e-04 1.8498e-01 9.2376e+00 6.7020e-03 +9.9738e-01  +    2\n",
      "Iter  24  value:  1.33388398862e-16\n",
      "Iter  25  value:  3.27263419385e-08\n",
      "Iter  26  value:  3.27263419385e-08\n",
      "   8 +3.2726e-08 1.8500e-03 1.8475e+01 4.1598e-05 +1.0000e+00  +    3\n",
      "Iter  27  value:  1.33388398862e-16\n",
      "   9 +1.3339e-16 1.0978e-07\n"
     ]
    },
    {
     "data": {
      "text/plain": [
       "array([ 1.60943792,  1.60943791,  1.60943791])"
      ]
     },
     "execution_count": 39,
     "metadata": {},
     "output_type": "execute_result"
    }
   ],
   "source": [
    "import VariationalBayes as vb\n",
    "from VariationalBayes.SparseObjectives import Objective\n",
    "from copy import deepcopy\n",
    "\n",
    "k = 3\n",
    "par = vb.ModelParamsDict('par')\n",
    "par.push_param(vb.VectorParam('a', size=k, lb=-5.0))\n",
    "\n",
    "class StatModel(object):\n",
    "    def __init__(self, par, h):\n",
    "        self.h = h\n",
    "        self.par = deepcopy(par)\n",
    "        \n",
    "    def obj(self):\n",
    "        a = self.par['a'].get()\n",
    "        return 0.5 * np.dot(a, np.matmul(h, a))\n",
    "\n",
    "h = np.random.random((k, k))\n",
    "h = np.matmul(h, h.transpose()) + np.eye(k)\n",
    "\n",
    "stat_model = StatModel(par, h)\n",
    "\n",
    "init_par = np.random.random(k)\n",
    "stat_model.par.set_free(init_par)\n",
    "stat_model.obj()\n",
    "\n",
    "obj = Objective(stat_model.par, stat_model.obj)\n",
    "\n",
    "obj.fun_free(init_par)\n",
    "obj.fun_free_grad(init_par)\n",
    "obj.fun_free_hvp(init_par, init_par)\n",
    "\n",
    "trlib.umin(lambda par: obj.fun_free(par, verbose=True),\n",
    "           obj.fun_free_grad, obj.fun_free_hvp, init_par)\n"
   ]
  },
  {
   "cell_type": "code",
   "execution_count": 43,
   "metadata": {},
   "outputs": [
    {
     "name": "stdout",
     "output_type": "stream",
     "text": [
      "it   obj         ‖g‖        radius     step       rho          ?  nhv\n",
      ".\n",
      ".\n",
      ".\n",
      ".\n",
      ".\n",
      ".\n",
      "   0 -2.1008e+02 2.0952e+01 4.8564e-02 4.8564e-02 +1.0000e+00  +    1\n",
      ".\n",
      ".\n",
      ".\n",
      ".\n",
      ".\n",
      ".\n",
      "   1 -2.1110e+02 2.0993e+01 9.7129e-02 9.7129e-02 +1.0000e+00  +    1\n",
      ".\n",
      ".\n",
      ".\n",
      ".\n",
      ".\n",
      ".\n",
      "   2 -2.1314e+02 2.1075e+01 1.9426e-01 1.9426e-01 +1.0000e+00  +    1\n",
      ".\n",
      ".\n",
      ".\n",
      ".\n",
      ".\n",
      ".\n",
      "   3 -2.1725e+02 2.1246e+01 3.8851e-01 3.8851e-01 +1.0001e+00  +    1\n",
      ".\n",
      ".\n",
      ".\n",
      ".\n",
      ".\n",
      ".\n",
      "   4 -2.2558e+02 2.1616e+01 7.7703e-01 7.7703e-01 +1.0005e+00  +    1\n",
      ".\n",
      ".\n",
      ".\n",
      ".\n",
      ".\n",
      ".\n",
      "   5 -2.4269e+02 2.2500e+01 1.5541e+00 1.5541e+00 +1.0036e+00  +    1\n",
      ".\n",
      ".\n",
      ".\n",
      ".\n",
      ".\n",
      ".\n",
      "   6 -2.7946e+02 2.5227e+01 3.1081e+00 3.1081e+00 +1.0538e+00  +    1\n",
      ".\n",
      ".\n",
      ".\n",
      ".\n",
      ".\n",
      ".\n",
      ".\n",
      ".\n",
      "   7 -3.7665e+02 4.5565e+01 6.2162e+00 6.2162e+00 +3.4758e+02  +    3\n",
      ".\n",
      ".\n",
      ".\n",
      ".\n",
      ".\n",
      ".\n",
      "   8 -3.2546e+05 6.4477e+05 1.2432e+01 1.2432e+01 +1.8795e+08  +    1\n",
      ".\n",
      ".\n",
      ".\n",
      ".\n",
      ".\n",
      ".\n",
      "   9 -2.0205e+16 4.0410e+16 2.4865e+01 2.4865e+01 +3.0766e+18  +    1\n",
      ".\n",
      ".\n",
      ".\n",
      ".\n",
      ".\n",
      ".\n",
      "  10 -7.9956e+37 1.5991e+38 4.9730e+01 4.9730e+01 +3.1037e+39  +    1\n",
      ".\n",
      ".\n",
      ".\n",
      ".\n",
      ".\n",
      ".\n",
      "  11 -1.2521e+81 2.5042e+81 9.9460e+01 9.9460e+01 +1.2272e+82  +    1\n",
      ".\n",
      ".\n"
     ]
    },
    {
     "name": "stderr",
     "output_type": "stream",
     "text": [
      "/home/rgiordan/Documents/git_repos/autograd/autograd/core.py:83: RuntimeWarning: overflow encountered in multiply\n",
      "  result_value = self.fun(*argvals, **kwargs)\n",
      "/usr/local/lib/python3.5/dist-packages/ipykernel_launcher.py:50: RuntimeWarning: trlib status -5\n",
      "/home/rgiordan/Documents/git_repos/LinearResponseVariationalBayes.py/VariationalBayes/Parameters.py:182: RuntimeWarning: invalid value encountered in less\n",
      "  if any(val < self.__lb):\n",
      "/home/rgiordan/Documents/git_repos/LinearResponseVariationalBayes.py/VariationalBayes/Parameters.py:184: RuntimeWarning: invalid value encountered in greater\n",
      "  if any(val > self.__ub):\n"
     ]
    },
    {
     "ename": "ValueError",
     "evalue": "Matrix is not symmetric",
     "output_type": "error",
     "traceback": [
      "\u001b[0;31m---------------------------------------------------------------------------\u001b[0m",
      "\u001b[0;31mValueError\u001b[0m                                Traceback (most recent call last)",
      "\u001b[0;32m<ipython-input-43-7cc194fabaf2>\u001b[0m in \u001b[0;36m<module>\u001b[0;34m()\u001b[0m\n\u001b[1;32m     48\u001b[0m \u001b[0minit_par_vec\u001b[0m \u001b[0;34m=\u001b[0m \u001b[0mcopy\u001b[0m\u001b[0;34m.\u001b[0m\u001b[0mdeepcopy\u001b[0m\u001b[0;34m(\u001b[0m\u001b[0mfree_par_vec\u001b[0m\u001b[0;34m)\u001b[0m\u001b[0;34m\u001b[0m\u001b[0m\n\u001b[1;32m     49\u001b[0m \u001b[0;34m\u001b[0m\u001b[0m\n\u001b[0;32m---> 50\u001b[0;31m \u001b[0mtrlib\u001b[0m\u001b[0;34m.\u001b[0m\u001b[0mumin\u001b[0m\u001b[0;34m(\u001b[0m\u001b[0mf\u001b[0m\u001b[0;34m,\u001b[0m \u001b[0mg\u001b[0m\u001b[0;34m,\u001b[0m \u001b[0mhvp\u001b[0m\u001b[0;34m,\u001b[0m \u001b[0minit_par_vec\u001b[0m\u001b[0;34m)\u001b[0m\u001b[0;34m\u001b[0m\u001b[0m\n\u001b[0m",
      "\u001b[0;32mtrlib.pyx\u001b[0m in \u001b[0;36mtrlib.umin (/home/rgiordan/Documents/git_repos/trlib/build/bindings/python/_trlib3.c:11087)\u001b[0;34m()\u001b[0m\n",
      "\u001b[0;32m<ipython-input-43-7cc194fabaf2>\u001b[0m in \u001b[0;36mf\u001b[0;34m(par)\u001b[0m\n\u001b[1;32m     34\u001b[0m \u001b[0;34m\u001b[0m\u001b[0m\n\u001b[1;32m     35\u001b[0m \u001b[0;32mdef\u001b[0m \u001b[0mf\u001b[0m\u001b[0;34m(\u001b[0m\u001b[0mpar\u001b[0m\u001b[0;34m)\u001b[0m\u001b[0;34m:\u001b[0m\u001b[0;34m\u001b[0m\u001b[0m\n\u001b[0;32m---> 36\u001b[0;31m     \u001b[0;32mreturn\u001b[0m \u001b[0;34m-\u001b[0m\u001b[0;36m1.\u001b[0m \u001b[0;34m*\u001b[0m \u001b[0mtr_obj\u001b[0m\u001b[0;34m.\u001b[0m\u001b[0mfun_free\u001b[0m\u001b[0;34m(\u001b[0m\u001b[0mpar\u001b[0m\u001b[0;34m)\u001b[0m\u001b[0;34m\u001b[0m\u001b[0m\n\u001b[0m\u001b[1;32m     37\u001b[0m \u001b[0;34m\u001b[0m\u001b[0m\n\u001b[1;32m     38\u001b[0m \u001b[0;32mdef\u001b[0m \u001b[0mg\u001b[0m\u001b[0;34m(\u001b[0m\u001b[0mpar\u001b[0m\u001b[0;34m)\u001b[0m\u001b[0;34m:\u001b[0m\u001b[0;34m\u001b[0m\u001b[0m\n",
      "\u001b[0;32m/home/rgiordan/Documents/git_repos/LinearResponseVariationalBayes.py/VariationalBayes/SparseObjectives.py\u001b[0m in \u001b[0;36mfun_free\u001b[0;34m(self, free_val, verbose)\u001b[0m\n\u001b[1;32m     47\u001b[0m \u001b[0;34m\u001b[0m\u001b[0m\n\u001b[1;32m     48\u001b[0m     \u001b[0;32mdef\u001b[0m \u001b[0mfun_free\u001b[0m\u001b[0;34m(\u001b[0m\u001b[0mself\u001b[0m\u001b[0;34m,\u001b[0m \u001b[0mfree_val\u001b[0m\u001b[0;34m,\u001b[0m \u001b[0mverbose\u001b[0m\u001b[0;34m=\u001b[0m\u001b[0;32mFalse\u001b[0m\u001b[0;34m)\u001b[0m\u001b[0;34m:\u001b[0m\u001b[0;34m\u001b[0m\u001b[0m\n\u001b[0;32m---> 49\u001b[0;31m         \u001b[0mself\u001b[0m\u001b[0;34m.\u001b[0m\u001b[0mpar\u001b[0m\u001b[0;34m.\u001b[0m\u001b[0mset_free\u001b[0m\u001b[0;34m(\u001b[0m\u001b[0mfree_val\u001b[0m\u001b[0;34m)\u001b[0m\u001b[0;34m\u001b[0m\u001b[0m\n\u001b[0m\u001b[1;32m     50\u001b[0m         \u001b[0mval\u001b[0m \u001b[0;34m=\u001b[0m \u001b[0mself\u001b[0m\u001b[0;34m.\u001b[0m\u001b[0mfun\u001b[0m\u001b[0;34m(\u001b[0m\u001b[0;34m)\u001b[0m\u001b[0;34m\u001b[0m\u001b[0m\n\u001b[1;32m     51\u001b[0m         \u001b[0;32mif\u001b[0m \u001b[0mverbose\u001b[0m\u001b[0;34m:\u001b[0m\u001b[0;34m\u001b[0m\u001b[0m\n",
      "\u001b[0;32m/home/rgiordan/Documents/git_repos/LinearResponseVariationalBayes.py/VariationalBayes/ParameterDictionary.py\u001b[0m in \u001b[0;36mset_free\u001b[0;34m(self, vec)\u001b[0m\n\u001b[1;32m     52\u001b[0m         \u001b[0moffset\u001b[0m \u001b[0;34m=\u001b[0m \u001b[0;36m0\u001b[0m\u001b[0;34m\u001b[0m\u001b[0m\n\u001b[1;32m     53\u001b[0m         \u001b[0;32mfor\u001b[0m \u001b[0mparam\u001b[0m \u001b[0;32min\u001b[0m \u001b[0mself\u001b[0m\u001b[0;34m.\u001b[0m\u001b[0mparam_dict\u001b[0m\u001b[0;34m.\u001b[0m\u001b[0mvalues\u001b[0m\u001b[0;34m(\u001b[0m\u001b[0;34m)\u001b[0m\u001b[0;34m:\u001b[0m\u001b[0;34m\u001b[0m\u001b[0m\n\u001b[0;32m---> 54\u001b[0;31m             \u001b[0moffset\u001b[0m \u001b[0;34m=\u001b[0m \u001b[0mpar\u001b[0m\u001b[0;34m.\u001b[0m\u001b[0mset_free_offset\u001b[0m\u001b[0;34m(\u001b[0m\u001b[0mparam\u001b[0m\u001b[0;34m,\u001b[0m \u001b[0mvec\u001b[0m\u001b[0;34m,\u001b[0m \u001b[0moffset\u001b[0m\u001b[0;34m)\u001b[0m\u001b[0;34m\u001b[0m\u001b[0m\n\u001b[0m\u001b[1;32m     55\u001b[0m     \u001b[0;32mdef\u001b[0m \u001b[0mget_free\u001b[0m\u001b[0;34m(\u001b[0m\u001b[0mself\u001b[0m\u001b[0;34m)\u001b[0m\u001b[0;34m:\u001b[0m\u001b[0;34m\u001b[0m\u001b[0m\n\u001b[1;32m     56\u001b[0m         \u001b[0;32mreturn\u001b[0m \u001b[0mnp\u001b[0m\u001b[0;34m.\u001b[0m\u001b[0mhstack\u001b[0m\u001b[0;34m(\u001b[0m\u001b[0;34m[\u001b[0m \u001b[0mpar\u001b[0m\u001b[0;34m.\u001b[0m\u001b[0mget_free\u001b[0m\u001b[0;34m(\u001b[0m\u001b[0;34m)\u001b[0m \u001b[0;32mfor\u001b[0m \u001b[0mpar\u001b[0m \u001b[0;32min\u001b[0m \u001b[0mself\u001b[0m\u001b[0;34m.\u001b[0m\u001b[0mparam_dict\u001b[0m\u001b[0;34m.\u001b[0m\u001b[0mvalues\u001b[0m\u001b[0;34m(\u001b[0m\u001b[0;34m)\u001b[0m \u001b[0;34m]\u001b[0m\u001b[0;34m)\u001b[0m\u001b[0;34m\u001b[0m\u001b[0m\n",
      "\u001b[0;32m/home/rgiordan/Documents/git_repos/LinearResponseVariationalBayes.py/VariationalBayes/Parameters.py\u001b[0m in \u001b[0;36mset_free_offset\u001b[0;34m(param, free_vec, offset)\u001b[0m\n\u001b[1;32m    304\u001b[0m \u001b[0;31m# Returns the next offset.\u001b[0m\u001b[0;34m\u001b[0m\u001b[0;34m\u001b[0m\u001b[0m\n\u001b[1;32m    305\u001b[0m \u001b[0;32mdef\u001b[0m \u001b[0mset_free_offset\u001b[0m\u001b[0;34m(\u001b[0m\u001b[0mparam\u001b[0m\u001b[0;34m,\u001b[0m \u001b[0mfree_vec\u001b[0m\u001b[0;34m,\u001b[0m \u001b[0moffset\u001b[0m\u001b[0;34m)\u001b[0m\u001b[0;34m:\u001b[0m\u001b[0;34m\u001b[0m\u001b[0m\n\u001b[0;32m--> 306\u001b[0;31m     \u001b[0mparam\u001b[0m\u001b[0;34m.\u001b[0m\u001b[0mset_free\u001b[0m\u001b[0;34m(\u001b[0m\u001b[0mfree_vec\u001b[0m\u001b[0;34m[\u001b[0m\u001b[0moffset\u001b[0m\u001b[0;34m:\u001b[0m\u001b[0;34m(\u001b[0m\u001b[0moffset\u001b[0m \u001b[0;34m+\u001b[0m \u001b[0mparam\u001b[0m\u001b[0;34m.\u001b[0m\u001b[0mfree_size\u001b[0m\u001b[0;34m(\u001b[0m\u001b[0;34m)\u001b[0m\u001b[0;34m)\u001b[0m\u001b[0;34m]\u001b[0m\u001b[0;34m)\u001b[0m\u001b[0;34m\u001b[0m\u001b[0m\n\u001b[0m\u001b[1;32m    307\u001b[0m     \u001b[0;32mreturn\u001b[0m \u001b[0moffset\u001b[0m \u001b[0;34m+\u001b[0m \u001b[0mparam\u001b[0m\u001b[0;34m.\u001b[0m\u001b[0mfree_size\u001b[0m\u001b[0;34m(\u001b[0m\u001b[0;34m)\u001b[0m\u001b[0;34m\u001b[0m\u001b[0m\n\u001b[1;32m    308\u001b[0m \u001b[0;34m\u001b[0m\u001b[0m\n",
      "\u001b[0;32m/home/rgiordan/Documents/git_repos/LinearResponseVariationalBayes.py/VariationalBayes/NormalParams.py\u001b[0m in \u001b[0;36mset_free\u001b[0;34m(self, free_val)\u001b[0m\n\u001b[1;32m     39\u001b[0m         \u001b[0moffset\u001b[0m \u001b[0;34m=\u001b[0m \u001b[0;36m0\u001b[0m\u001b[0;34m\u001b[0m\u001b[0m\n\u001b[1;32m     40\u001b[0m         \u001b[0moffset\u001b[0m \u001b[0;34m=\u001b[0m \u001b[0mpar\u001b[0m\u001b[0;34m.\u001b[0m\u001b[0mset_free_offset\u001b[0m\u001b[0;34m(\u001b[0m\u001b[0mself\u001b[0m\u001b[0;34m.\u001b[0m\u001b[0mmean\u001b[0m\u001b[0;34m,\u001b[0m \u001b[0mfree_val\u001b[0m\u001b[0;34m,\u001b[0m \u001b[0moffset\u001b[0m\u001b[0;34m)\u001b[0m\u001b[0;34m\u001b[0m\u001b[0m\n\u001b[0;32m---> 41\u001b[0;31m         \u001b[0moffset\u001b[0m \u001b[0;34m=\u001b[0m \u001b[0mpar\u001b[0m\u001b[0;34m.\u001b[0m\u001b[0mset_free_offset\u001b[0m\u001b[0;34m(\u001b[0m\u001b[0mself\u001b[0m\u001b[0;34m.\u001b[0m\u001b[0minfo\u001b[0m\u001b[0;34m,\u001b[0m \u001b[0mfree_val\u001b[0m\u001b[0;34m,\u001b[0m \u001b[0moffset\u001b[0m\u001b[0;34m)\u001b[0m\u001b[0;34m\u001b[0m\u001b[0m\n\u001b[0m\u001b[1;32m     42\u001b[0m     \u001b[0;32mdef\u001b[0m \u001b[0mget_free\u001b[0m\u001b[0;34m(\u001b[0m\u001b[0mself\u001b[0m\u001b[0;34m)\u001b[0m\u001b[0;34m:\u001b[0m\u001b[0;34m\u001b[0m\u001b[0m\n\u001b[1;32m     43\u001b[0m         \u001b[0;32mreturn\u001b[0m \u001b[0mnp\u001b[0m\u001b[0;34m.\u001b[0m\u001b[0mhstack\u001b[0m\u001b[0;34m(\u001b[0m\u001b[0;34m[\u001b[0m \u001b[0mself\u001b[0m\u001b[0;34m.\u001b[0m\u001b[0mmean\u001b[0m\u001b[0;34m.\u001b[0m\u001b[0mget_free\u001b[0m\u001b[0;34m(\u001b[0m\u001b[0;34m)\u001b[0m\u001b[0;34m,\u001b[0m \u001b[0mself\u001b[0m\u001b[0;34m.\u001b[0m\u001b[0minfo\u001b[0m\u001b[0;34m.\u001b[0m\u001b[0mget_free\u001b[0m\u001b[0;34m(\u001b[0m\u001b[0;34m)\u001b[0m \u001b[0;34m]\u001b[0m\u001b[0;34m)\u001b[0m\u001b[0;34m\u001b[0m\u001b[0m\n",
      "\u001b[0;32m/home/rgiordan/Documents/git_repos/LinearResponseVariationalBayes.py/VariationalBayes/Parameters.py\u001b[0m in \u001b[0;36mset_free_offset\u001b[0;34m(param, free_vec, offset)\u001b[0m\n\u001b[1;32m    304\u001b[0m \u001b[0;31m# Returns the next offset.\u001b[0m\u001b[0;34m\u001b[0m\u001b[0;34m\u001b[0m\u001b[0m\n\u001b[1;32m    305\u001b[0m \u001b[0;32mdef\u001b[0m \u001b[0mset_free_offset\u001b[0m\u001b[0;34m(\u001b[0m\u001b[0mparam\u001b[0m\u001b[0;34m,\u001b[0m \u001b[0mfree_vec\u001b[0m\u001b[0;34m,\u001b[0m \u001b[0moffset\u001b[0m\u001b[0;34m)\u001b[0m\u001b[0;34m:\u001b[0m\u001b[0;34m\u001b[0m\u001b[0m\n\u001b[0;32m--> 306\u001b[0;31m     \u001b[0mparam\u001b[0m\u001b[0;34m.\u001b[0m\u001b[0mset_free\u001b[0m\u001b[0;34m(\u001b[0m\u001b[0mfree_vec\u001b[0m\u001b[0;34m[\u001b[0m\u001b[0moffset\u001b[0m\u001b[0;34m:\u001b[0m\u001b[0;34m(\u001b[0m\u001b[0moffset\u001b[0m \u001b[0;34m+\u001b[0m \u001b[0mparam\u001b[0m\u001b[0;34m.\u001b[0m\u001b[0mfree_size\u001b[0m\u001b[0;34m(\u001b[0m\u001b[0;34m)\u001b[0m\u001b[0;34m)\u001b[0m\u001b[0;34m]\u001b[0m\u001b[0;34m)\u001b[0m\u001b[0;34m\u001b[0m\u001b[0m\n\u001b[0m\u001b[1;32m    307\u001b[0m     \u001b[0;32mreturn\u001b[0m \u001b[0moffset\u001b[0m \u001b[0;34m+\u001b[0m \u001b[0mparam\u001b[0m\u001b[0;34m.\u001b[0m\u001b[0mfree_size\u001b[0m\u001b[0;34m(\u001b[0m\u001b[0;34m)\u001b[0m\u001b[0;34m\u001b[0m\u001b[0m\n\u001b[1;32m    308\u001b[0m \u001b[0;34m\u001b[0m\u001b[0m\n",
      "\u001b[0;32m/home/rgiordan/Documents/git_repos/LinearResponseVariationalBayes.py/VariationalBayes/MatrixParameters.py\u001b[0m in \u001b[0;36mset_free\u001b[0;34m(self, free_val)\u001b[0m\n\u001b[1;32m    138\u001b[0m         \u001b[0;32mif\u001b[0m \u001b[0mfree_val\u001b[0m\u001b[0;34m.\u001b[0m\u001b[0msize\u001b[0m \u001b[0;34m!=\u001b[0m \u001b[0mself\u001b[0m\u001b[0;34m.\u001b[0m\u001b[0m__vec_size\u001b[0m\u001b[0;34m:\u001b[0m\u001b[0;34m\u001b[0m\u001b[0m\n\u001b[1;32m    139\u001b[0m             \u001b[0;32mraise\u001b[0m \u001b[0mValueError\u001b[0m\u001b[0;34m(\u001b[0m\u001b[0;34m'Free value is the wrong length'\u001b[0m\u001b[0;34m)\u001b[0m\u001b[0;34m\u001b[0m\u001b[0m\n\u001b[0;32m--> 140\u001b[0;31m         \u001b[0mself\u001b[0m\u001b[0;34m.\u001b[0m\u001b[0mset\u001b[0m\u001b[0;34m(\u001b[0m\u001b[0munpack_posdef_matrix\u001b[0m\u001b[0;34m(\u001b[0m\u001b[0mfree_val\u001b[0m\u001b[0;34m,\u001b[0m \u001b[0mdiag_lb\u001b[0m\u001b[0;34m=\u001b[0m\u001b[0mself\u001b[0m\u001b[0;34m.\u001b[0m\u001b[0m__diag_lb\u001b[0m\u001b[0;34m)\u001b[0m\u001b[0;34m)\u001b[0m\u001b[0;34m\u001b[0m\u001b[0m\n\u001b[0m\u001b[1;32m    141\u001b[0m     \u001b[0;32mdef\u001b[0m \u001b[0mget_free\u001b[0m\u001b[0;34m(\u001b[0m\u001b[0mself\u001b[0m\u001b[0;34m)\u001b[0m\u001b[0;34m:\u001b[0m\u001b[0;34m\u001b[0m\u001b[0m\n\u001b[1;32m    142\u001b[0m         \u001b[0;32mreturn\u001b[0m \u001b[0mpack_posdef_matrix\u001b[0m\u001b[0;34m(\u001b[0m\u001b[0mself\u001b[0m\u001b[0;34m.\u001b[0m\u001b[0m__val\u001b[0m\u001b[0;34m,\u001b[0m \u001b[0mdiag_lb\u001b[0m\u001b[0;34m=\u001b[0m\u001b[0mself\u001b[0m\u001b[0;34m.\u001b[0m\u001b[0m__diag_lb\u001b[0m\u001b[0;34m)\u001b[0m\u001b[0;34m\u001b[0m\u001b[0m\n",
      "\u001b[0;32m/home/rgiordan/Documents/git_repos/LinearResponseVariationalBayes.py/VariationalBayes/MatrixParameters.py\u001b[0m in \u001b[0;36mset\u001b[0;34m(self, val)\u001b[0m\n\u001b[1;32m    130\u001b[0m             \u001b[0;32mraise\u001b[0m \u001b[0mValueError\u001b[0m\u001b[0;34m(\u001b[0m\u001b[0;34m'Matrix is a different size'\u001b[0m\u001b[0;34m)\u001b[0m\u001b[0;34m\u001b[0m\u001b[0m\n\u001b[1;32m    131\u001b[0m         \u001b[0;32mif\u001b[0m \u001b[0;32mnot\u001b[0m \u001b[0;34m(\u001b[0m\u001b[0mval\u001b[0m\u001b[0;34m.\u001b[0m\u001b[0mtranspose\u001b[0m\u001b[0;34m(\u001b[0m\u001b[0;34m)\u001b[0m \u001b[0;34m==\u001b[0m \u001b[0mval\u001b[0m\u001b[0;34m)\u001b[0m\u001b[0;34m.\u001b[0m\u001b[0mall\u001b[0m\u001b[0;34m(\u001b[0m\u001b[0;34m)\u001b[0m\u001b[0;34m:\u001b[0m\u001b[0;34m\u001b[0m\u001b[0m\n\u001b[0;32m--> 132\u001b[0;31m             \u001b[0;32mraise\u001b[0m \u001b[0mValueError\u001b[0m\u001b[0;34m(\u001b[0m\u001b[0;34m'Matrix is not symmetric'\u001b[0m\u001b[0;34m)\u001b[0m\u001b[0;34m\u001b[0m\u001b[0m\n\u001b[0m\u001b[1;32m    133\u001b[0m         \u001b[0mself\u001b[0m\u001b[0;34m.\u001b[0m\u001b[0m__val\u001b[0m \u001b[0;34m=\u001b[0m \u001b[0mval\u001b[0m\u001b[0;34m\u001b[0m\u001b[0m\n\u001b[1;32m    134\u001b[0m     \u001b[0;32mdef\u001b[0m \u001b[0mget\u001b[0m\u001b[0;34m(\u001b[0m\u001b[0mself\u001b[0m\u001b[0;34m)\u001b[0m\u001b[0;34m:\u001b[0m\u001b[0;34m\u001b[0m\u001b[0m\n",
      "\u001b[0;31mValueError\u001b[0m: Matrix is not symmetric"
     ]
    }
   ],
   "source": [
    "import copy\n",
    "\n",
    "glmm_par = vb.ModelParamsDict('GLMM Parameters')\n",
    "\n",
    "# Simulate data instead of loading it if you like\n",
    "N = 200     # observations per group\n",
    "K = 5      # dimension of regressors\n",
    "NG = 200      # number of groups\n",
    "\n",
    "# Generate data\n",
    "\n",
    "true_beta = np.array(range(5))\n",
    "true_beta = true_beta - np.mean(true_beta)\n",
    "true_mu = 0.\n",
    "true_tau = 40.0\n",
    "\n",
    "\n",
    "glmm_par.push_param(vb.UVNParam('mu', min_info=0.01))\n",
    "glmm_par.push_param(vb.GammaParam('tau',\n",
    "                               min_shape=0.01,\n",
    "                               min_rate=0.01))\n",
    "glmm_par.push_param(vb.MVNParam('beta', K, min_info=0.01))\n",
    "glmm_par.push_param(vb.UVNParamVector('u', NG, min_info=0.01))\n",
    "\n",
    "\n",
    "glmm_par_local = deepcopy(glmm_par)\n",
    "def foo():\n",
    "    print('.')\n",
    "    return sum(glmm_par_local.get_vector())\n",
    "\n",
    "\n",
    "tr_obj = Objective(glmm_par_local, foo)\n",
    "\n",
    "\n",
    "def f(par):\n",
    "    return -1. * tr_obj.fun_free(par)\n",
    "\n",
    "def g(par):\n",
    "    return -1. * tr_obj.fun_free_grad(par)\n",
    "\n",
    "def hvp(par, vec):\n",
    "    return -1. * tr_obj.fun_free_hvp(par, vec)\n",
    "\n",
    "# f(init_par_vec)\n",
    "# g(init_par_vec)\n",
    "\n",
    "free_par_vec = glmm_par.get_free()\n",
    "init_par_vec = copy.deepcopy(free_par_vec)\n",
    "\n",
    "trlib.umin(f, g, hvp, init_par_vec)\n"
   ]
  }
 ],
 "metadata": {
  "kernelspec": {
   "display_name": "Python 3",
   "language": "python",
   "name": "python3"
  },
  "language_info": {
   "codemirror_mode": {
    "name": "ipython",
    "version": 3
   },
   "file_extension": ".py",
   "mimetype": "text/x-python",
   "name": "python",
   "nbconvert_exporter": "python",
   "pygments_lexer": "ipython3",
   "version": "3.5.2"
  }
 },
 "nbformat": 4,
 "nbformat_minor": 2
}
