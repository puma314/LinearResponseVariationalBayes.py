{
 "cells": [
  {
   "cell_type": "code",
   "execution_count": 1,
   "metadata": {
    "collapsed": true
   },
   "outputs": [],
   "source": [
    "import trlib\n",
    "# import autograd.numpy as np\n",
    "# from autograd import grad, hessian, hessian_vector_product"
   ]
  },
  {
   "cell_type": "code",
   "execution_count": 3,
   "metadata": {},
   "outputs": [
    {
     "data": {
      "text/plain": [
       "1.0000000000000004"
      ]
     },
     "execution_count": 3,
     "metadata": {},
     "output_type": "execute_result"
    }
   ],
   "source": [
    "import scipy.sparse\n",
    "import numpy as np\n",
    "from scipy.sparse.linalg import LinearOperator\n",
    "\n",
    "H = scipy.sparse.diags(np.linspace(-1.0, 100.0, 1000),0)\n",
    "g = np.ones(1000)\n",
    "x, TR = trlib.trlib_solve(H, g, 1.0)\n",
    "np.linalg.norm(x)\n",
    "1.0000000000000002\n",
    "x, TR = trlib.trlib_solve(H, g, .5, reentry=True, TR=TR)\n",
    "0.50000000000000011\n",
    "\n",
    "H_lo = LinearOperator(H.shape, matvec=lambda vec: H * vec)\n",
    "x, TR = trlib.trlib_solve(H_lo, g, 1.0)\n",
    "np.linalg.norm(x)\n"
   ]
  },
  {
   "cell_type": "code",
   "execution_count": 10,
   "metadata": {},
   "outputs": [
    {
     "name": "stdout",
     "output_type": "stream",
     "text": [
      "it   obj         ‖g‖        radius     step       rho          ?  nhv\n",
      "   0 +4.4772e+00 8.2341e+00 4.4721e-01 4.4721e-01 +1.0000e+00  +    1\n",
      "   1 +1.5687e+00 4.7778e+00 8.9443e-01 6.2189e-01 +1.0000e+00  +    1\n",
      "   2 +8.3092e-02 4.7673e-01 1.7889e+00 3.4147e-01 +1.0000e+00  +    2\n",
      "   3 +2.3281e-03 9.3241e-02 3.5777e+00 5.5340e-02 +1.0000e+00  +    3\n",
      "   4 +1.0250e-06 1.6006e-03 7.1554e+00 1.2866e-03 +1.0000e+00  +    4\n",
      "   5 +1.9722e-14 1.9997e-07\n"
     ]
    },
    {
     "data": {
      "text/plain": [
       "array([  9.57325040e-08,  -1.05325259e-07,   5.31485231e-08,\n",
       "        -1.23588008e-07,   2.34877964e-08])"
      ]
     },
     "execution_count": 10,
     "metadata": {},
     "output_type": "execute_result"
    }
   ],
   "source": [
    "h = np.random.random((5, 5))\n",
    "h = np.matmul(h, h.transpose()) + np.eye(5)\n",
    "\n",
    "def f(x):\n",
    "    return 0.5 * np.dot(x, np.matmul(h, x))\n",
    "\n",
    "def g(x):\n",
    "    return np.matmul(h, x)\n",
    "\n",
    "def hvp(x, g):\n",
    "    return np.matmul(h, g)\n",
    "\n",
    "trlib.umin(f, g, hvp, np.random.random(5))\n"
   ]
  },
  {
   "cell_type": "code",
   "execution_count": 15,
   "metadata": {},
   "outputs": [
    {
     "name": "stdout",
     "output_type": "stream",
     "text": [
      "it   obj         ‖g‖        radius     step       rho          ?  nhv\n",
      "   0 +2.7673e+00 6.5189e+00 4.4721e-01 4.4721e-01 +1.0000e+00  +    1\n",
      "   1 +6.2800e-01 3.0519e+00 8.9443e-01 3.9558e-01 +1.0000e+00  +    1\n",
      "   2 +2.4369e-02 2.4871e-01 1.7889e+00 1.9172e-01 +1.0000e+00  +    2\n",
      "   3 +6.6650e-04 4.9853e-02 3.5777e+00 3.0320e-02 +1.0000e+00  +    3\n",
      "   4 +2.4716e-09 7.2302e-05 7.1554e+00 6.8655e-05 +1.0000e+00  +    5\n",
      "   5 +5.8903e-41 2.2313e-20\n"
     ]
    },
    {
     "data": {
      "text/plain": [
       "array([ -1.69406589e-21,   6.77626358e-21,   0.00000000e+00,\n",
       "         0.00000000e+00,   1.69406589e-21])"
      ]
     },
     "execution_count": 15,
     "metadata": {},
     "output_type": "execute_result"
    }
   ],
   "source": [
    "import autograd\n",
    "import autograd.numpy as np\n",
    "\n",
    "\n",
    "def f(x):\n",
    "    return 0.5 * np.dot(x, np.matmul(h, x))\n",
    "\n",
    "g = autograd.grad(f)\n",
    "hvp = autograd.hessian_vector_product(f)\n",
    "\n",
    "trlib.umin(f, g, hvp, np.random.random(5))\n"
   ]
  },
  {
   "cell_type": "code",
   "execution_count": 18,
   "metadata": {},
   "outputs": [
    {
     "name": "stdout",
     "output_type": "stream",
     "text": [
      "it   obj         ‖g‖        radius     step       rho          ?  nhv\n",
      "   0 +4.3376e+00 7.9066e+00 4.4721e-01 4.4721e-01 +1.0000e+00  +    1\n",
      "   1 +1.5664e+00 4.5036e+00 8.9443e-01 6.0426e-01 +1.0000e+00  +    1\n",
      "   2 +2.0569e-01 8.2107e-01 1.7889e+00 4.8211e-01 +1.0000e+00  +    2\n",
      "   3 +1.1983e-02 1.8182e-01 3.5777e+00 1.4201e-01 +1.0000e+00  +    3\n",
      "   4 +6.1252e-06 3.9486e-03 7.1554e+00 3.1142e-03 +1.0000e+00  +    4\n",
      "   5 +1.9048e-14 1.9660e-07\n"
     ]
    },
    {
     "data": {
      "text/plain": [
       "array([  1.08019418e-07,  -1.02545885e-07,   4.42319289e-08,\n",
       "        -1.15797288e-07,   5.77872703e-10])"
      ]
     },
     "execution_count": 18,
     "metadata": {},
     "output_type": "execute_result"
    }
   ],
   "source": [
    "class objective(object):\n",
    "    def __init__(self):\n",
    "#         h = np.random.random((5, 5))\n",
    "#         h = np.matmul(h, h.transpose()) + np.eye(5)\n",
    "#         self.h = h\n",
    "        pass\n",
    "    def f(self, x):\n",
    "        return f(x)\n",
    "    \n",
    "    def g(self, x):\n",
    "        return g(x)\n",
    "    \n",
    "    def hvp(self, x, g):\n",
    "        return hvp(x, g)\n",
    "    \n",
    "obj = objective()\n",
    "\n",
    "trlib.umin(obj.f, obj.g, obj.hvp, np.random.random(5))\n"
   ]
  }
 ],
 "metadata": {
  "kernelspec": {
   "display_name": "Python 3",
   "language": "python",
   "name": "python3"
  },
  "language_info": {
   "codemirror_mode": {
    "name": "ipython",
    "version": 3
   },
   "file_extension": ".py",
   "mimetype": "text/x-python",
   "name": "python",
   "nbconvert_exporter": "python",
   "pygments_lexer": "ipython3",
   "version": "3.5.2"
  }
 },
 "nbformat": 4,
 "nbformat_minor": 2
}
