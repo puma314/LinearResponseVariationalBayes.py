{
 "cells": [
  {
   "cell_type": "code",
   "execution_count": 1,
   "metadata": {
    "collapsed": true
   },
   "outputs": [],
   "source": [
    "import trlib\n",
    "# import autograd.numpy as np\n",
    "# from autograd import grad, hessian, hessian_vector_product"
   ]
  },
  {
   "cell_type": "code",
   "execution_count": 3,
   "metadata": {},
   "outputs": [
    {
     "data": {
      "text/plain": [
       "1.0000000000000004"
      ]
     },
     "execution_count": 3,
     "metadata": {},
     "output_type": "execute_result"
    }
   ],
   "source": [
    "import scipy.sparse\n",
    "import numpy as np\n",
    "from scipy.sparse.linalg import LinearOperator\n",
    "\n",
    "H = scipy.sparse.diags(np.linspace(-1.0, 100.0, 1000),0)\n",
    "g = np.ones(1000)\n",
    "x, TR = trlib.trlib_solve(H, g, 1.0)\n",
    "np.linalg.norm(x)\n",
    "1.0000000000000002\n",
    "x, TR = trlib.trlib_solve(H, g, .5, reentry=True, TR=TR)\n",
    "0.50000000000000011\n",
    "\n",
    "H_lo = LinearOperator(H.shape, matvec=lambda vec: H * vec)\n",
    "x, TR = trlib.trlib_solve(H_lo, g, 1.0)\n",
    "np.linalg.norm(x)\n"
   ]
  },
  {
   "cell_type": "code",
   "execution_count": 10,
   "metadata": {},
   "outputs": [
    {
     "name": "stdout",
     "output_type": "stream",
     "text": [
      "it   obj         ‖g‖        radius     step       rho          ?  nhv\n",
      "   0 +4.4772e+00 8.2341e+00 4.4721e-01 4.4721e-01 +1.0000e+00  +    1\n",
      "   1 +1.5687e+00 4.7778e+00 8.9443e-01 6.2189e-01 +1.0000e+00  +    1\n",
      "   2 +8.3092e-02 4.7673e-01 1.7889e+00 3.4147e-01 +1.0000e+00  +    2\n",
      "   3 +2.3281e-03 9.3241e-02 3.5777e+00 5.5340e-02 +1.0000e+00  +    3\n",
      "   4 +1.0250e-06 1.6006e-03 7.1554e+00 1.2866e-03 +1.0000e+00  +    4\n",
      "   5 +1.9722e-14 1.9997e-07\n"
     ]
    },
    {
     "data": {
      "text/plain": [
       "array([  9.57325040e-08,  -1.05325259e-07,   5.31485231e-08,\n",
       "        -1.23588008e-07,   2.34877964e-08])"
      ]
     },
     "execution_count": 10,
     "metadata": {},
     "output_type": "execute_result"
    }
   ],
   "source": [
    "h = np.random.random((5, 5))\n",
    "h = np.matmul(h, h.transpose()) + np.eye(5)\n",
    "\n",
    "def f(x):\n",
    "    return 0.5 * np.dot(x, np.matmul(h, x))\n",
    "\n",
    "def g(x):\n",
    "    return np.matmul(h, x)\n",
    "\n",
    "def hvp(x, g):\n",
    "    return np.matmul(h, g)\n",
    "\n",
    "trlib.umin(f, g, hvp, np.random.random(5))\n"
   ]
  },
  {
   "cell_type": "code",
   "execution_count": 15,
   "metadata": {},
   "outputs": [
    {
     "name": "stdout",
     "output_type": "stream",
     "text": [
      "it   obj         ‖g‖        radius     step       rho          ?  nhv\n",
      "   0 +2.7673e+00 6.5189e+00 4.4721e-01 4.4721e-01 +1.0000e+00  +    1\n",
      "   1 +6.2800e-01 3.0519e+00 8.9443e-01 3.9558e-01 +1.0000e+00  +    1\n",
      "   2 +2.4369e-02 2.4871e-01 1.7889e+00 1.9172e-01 +1.0000e+00  +    2\n",
      "   3 +6.6650e-04 4.9853e-02 3.5777e+00 3.0320e-02 +1.0000e+00  +    3\n",
      "   4 +2.4716e-09 7.2302e-05 7.1554e+00 6.8655e-05 +1.0000e+00  +    5\n",
      "   5 +5.8903e-41 2.2313e-20\n"
     ]
    },
    {
     "data": {
      "text/plain": [
       "array([ -1.69406589e-21,   6.77626358e-21,   0.00000000e+00,\n",
       "         0.00000000e+00,   1.69406589e-21])"
      ]
     },
     "execution_count": 15,
     "metadata": {},
     "output_type": "execute_result"
    }
   ],
   "source": [
    "import autograd\n",
    "import autograd.numpy as np\n",
    "\n",
    "\n",
    "def f(x):\n",
    "    return 0.5 * np.dot(x, np.matmul(h, x))\n",
    "\n",
    "g = autograd.grad(f)\n",
    "hvp = autograd.hessian_vector_product(f)\n",
    "\n",
    "trlib.umin(f, g, hvp, np.random.random(5))\n"
   ]
  },
  {
   "cell_type": "code",
   "execution_count": 19,
   "metadata": {},
   "outputs": [
    {
     "name": "stdout",
     "output_type": "stream",
     "text": [
      "it   obj         ‖g‖        radius     step       rho          ?  nhv\n",
      "   0 +3.7011e+00 7.5428e+00 4.4721e-01 4.4721e-01 +1.0000e+00  +    1\n",
      "   1 +1.1041e+00 4.0731e+00 8.9443e-01 5.2646e-01 +1.0000e+00  +    1\n",
      "   2 +3.1979e-02 2.6923e-01 1.7889e+00 2.3309e-01 +1.0000e+00  +    2\n",
      "   3 +7.3361e-04 5.4025e-02 3.5777e+00 3.0748e-02 +1.0000e+00  +    3\n",
      "   4 +3.9704e-07 9.9020e-04 7.1554e+00 8.0639e-04 +1.0000e+00  +    4\n",
      "   5 +4.2011e-15 9.1746e-08\n"
     ]
    },
    {
     "data": {
      "text/plain": [
       "array([  4.35879979e-08,   7.19599283e-09,  -2.80591440e-08,\n",
       "         1.81572940e-08,  -7.29271157e-08])"
      ]
     },
     "execution_count": 19,
     "metadata": {},
     "output_type": "execute_result"
    }
   ],
   "source": [
    "class objective(object):\n",
    "    def __init__(self):\n",
    "#         h = np.random.random((5, 5))\n",
    "#         h = np.matmul(h, h.transpose()) + np.eye(5)\n",
    "#         self.h = h\n",
    "        pass\n",
    "    def f(self, x):\n",
    "        return f(x)\n",
    "    \n",
    "    def g(self, x):\n",
    "        return g(x)\n",
    "    \n",
    "    def hvp(self, x, g):\n",
    "        return hvp(x, g)\n",
    "    \n",
    "obj = objective()\n",
    "\n",
    "trlib.umin(obj.f, obj.g, obj.hvp, np.random.random(5))\n"
   ]
  },
  {
   "cell_type": "code",
   "execution_count": 39,
   "metadata": {},
   "outputs": [
    {
     "name": "stdout",
     "output_type": "stream",
     "text": [
      "it   obj         ‖g‖        radius     step       rho          ?  nhv\n",
      "Iter  0  value:  41.198253167\n",
      "Iter  1  value:  56.8599667796\n",
      "Iter  2  value:  56.8599667796\n",
      "   0 +5.6860e+01 2.4284e+01 5.7735e-01 5.7735e-01 +9.9662e-01  +    1\n",
      "Iter  3  value:  7.24271732897\n",
      "Iter  4  value:  41.198253167\n",
      "Iter  5  value:  41.198253167\n",
      "   1 +4.1198e+01 2.9817e+01 1.1547e+00 1.1547e+00 +8.5006e-01  +    1\n",
      "Iter  6  value:  5.55779763135\n",
      "Iter  7  value:  7.24271732897\n",
      "Iter  8  value:  7.24271732897\n",
      "   2 +7.2427e+00 1.9641e+01 1.1547e+00 1.1547e+00 +1.1466e-01  +    2\n",
      "Iter  9  value:  0.817763127466\n",
      "Iter  10  value:  5.55779763135\n",
      "Iter  11  value:  5.55779763135\n",
      "   3 +5.5578e+00 3.5490e+01 1.1547e+00 2.3234e-01 +1.1497e+00  +    1\n",
      "Iter  12  value:  0.232873685065\n",
      "Iter  13  value:  0.817763127466\n",
      "Iter  14  value:  0.817763127466\n",
      "   4 +8.1776e-01 8.5743e+00 2.3094e+00 1.2506e-01 +1.0910e+00  +    1\n",
      "Iter  15  value:  0.00474328560605\n",
      "Iter  16  value:  0.232873685065\n",
      "Iter  17  value:  0.232873685065\n",
      "   5 +2.3287e-01 3.8051e+00 4.6188e+00 1.3917e-01 +9.0975e-01  +    2\n",
      "Iter  18  value:  0.000606155279078\n",
      "Iter  19  value:  0.00474328560605\n",
      "Iter  20  value:  0.00474328560605\n",
      "   6 +4.7433e-03 8.0019e-01 4.6188e+00 1.0258e-02 +1.0080e+00  +    1\n",
      "Iter  21  value:  3.27263419385e-08\n",
      "Iter  22  value:  0.000606155279078\n",
      "Iter  23  value:  0.000606155279078\n",
      "   7 +6.0616e-04 1.8498e-01 9.2376e+00 6.7020e-03 +9.9738e-01  +    2\n",
      "Iter  24  value:  1.33388398862e-16\n",
      "Iter  25  value:  3.27263419385e-08\n",
      "Iter  26  value:  3.27263419385e-08\n",
      "   8 +3.2726e-08 1.8500e-03 1.8475e+01 4.1598e-05 +1.0000e+00  +    3\n",
      "Iter  27  value:  1.33388398862e-16\n",
      "   9 +1.3339e-16 1.0978e-07\n"
     ]
    },
    {
     "data": {
      "text/plain": [
       "array([ 1.60943792,  1.60943791,  1.60943791])"
      ]
     },
     "execution_count": 39,
     "metadata": {},
     "output_type": "execute_result"
    }
   ],
   "source": [
    "import VariationalBayes as vb\n",
    "from VariationalBayes.SparseObjectives import Objective\n",
    "from copy import deepcopy\n",
    "\n",
    "k = 3\n",
    "par = vb.ModelParamsDict('par')\n",
    "par.push_param(vb.VectorParam('a', size=k, lb=-5.0))\n",
    "\n",
    "class StatModel(object):\n",
    "    def __init__(self, par, h):\n",
    "        self.h = h\n",
    "        self.par = deepcopy(par)\n",
    "        \n",
    "    def obj(self):\n",
    "        a = self.par['a'].get()\n",
    "        return 0.5 * np.dot(a, np.matmul(h, a))\n",
    "\n",
    "h = np.random.random((k, k))\n",
    "h = np.matmul(h, h.transpose()) + np.eye(k)\n",
    "\n",
    "stat_model = StatModel(par, h)\n",
    "\n",
    "init_par = np.random.random(k)\n",
    "stat_model.par.set_free(init_par)\n",
    "stat_model.obj()\n",
    "\n",
    "obj = Objective(stat_model.par, stat_model.obj)\n",
    "\n",
    "obj.fun_free(init_par)\n",
    "obj.fun_free_grad(init_par)\n",
    "obj.fun_free_hvp(init_par, init_par)\n",
    "\n",
    "trlib.umin(lambda par: obj.fun_free(par, verbose=True),\n",
    "           obj.fun_free_grad, obj.fun_free_hvp, init_par)\n"
   ]
  }
 ],
 "metadata": {
  "kernelspec": {
   "display_name": "Python 3",
   "language": "python",
   "name": "python3"
  },
  "language_info": {
   "codemirror_mode": {
    "name": "ipython",
    "version": 3
   },
   "file_extension": ".py",
   "mimetype": "text/x-python",
   "name": "python",
   "nbconvert_exporter": "python",
   "pygments_lexer": "ipython3",
   "version": "3.5.2"
  }
 },
 "nbformat": 4,
 "nbformat_minor": 2
}
