{
 "cells": [
  {
   "cell_type": "code",
   "execution_count": 80,
   "metadata": {
    "collapsed": true
   },
   "outputs": [],
   "source": [
    "import autograd\n",
    "import autograd.numpy as np\n",
    "import autograd.scipy as sp\n",
    "\n",
    "import VariationalBayes as vb\n",
    "from copy import deepcopy\n",
    "\n",
    "import scipy as osp\n",
    "from scipy import stats\n"
   ]
  },
  {
   "cell_type": "code",
   "execution_count": 104,
   "metadata": {},
   "outputs": [],
   "source": [
    "class Kernel(object):\n",
    "    def __init__(self, c=1.0, beta=-0.5):\n",
    "        self.c = c\n",
    "        self.beta = beta\n",
    "        \n",
    "    def k(self, x, y):\n",
    "        xy_diff = x - y\n",
    "        return (c + np.dot(xy_diff, xy_diff)) ** beta\n",
    "\n",
    "    \n",
    "class MVNModel(object):\n",
    "    def __init__(self, obs, obs_info_mat, prior_loc):\n",
    "        self.prior_loc = deepcopy(prior_loc)\n",
    "        self.obs_dim = len(obs)\n",
    "        self.obs = obs\n",
    "        self.obs_info_mat = deepcopy(obs_info_mat)\n",
    "        self.prior_info_mat = np.eye(self.obs_dim)\n",
    "\n",
    "        self.theta = np.zeros(self.obs_dim)\n",
    "        \n",
    "    def get_log_post(self, broadcast=False):\n",
    "        if broadcast:\n",
    "            obs_centered = np.expand_dims(self.obs, 1) - self.theta\n",
    "            theta_centered = self.theta - np.expand_dims(self.prior_loc, 1)\n",
    "        else:\n",
    "            obs_centered = self.obs - self.theta\n",
    "            theta_centered = self.theta - self.prior_loc\n",
    "            \n",
    "        log_lik =  -0.5 * np.einsum(\n",
    "            'i...,ij,j...->...',\n",
    "            obs_centered, self.obs_info_mat, obs_centered)\n",
    "\n",
    "        log_prior =  -0.5 * np.einsum(\n",
    "            'i...,ij,j...->...',\n",
    "            theta_centered, self.prior_info_mat, theta_centered)\n",
    "        \n",
    "        return log_lik + log_prior\n",
    "    \n",
    "    def get_post_cov(self):\n",
    "        return np.linalg.inv(self.obs_info_mat + self.prior_info_mat)\n",
    "\n",
    "    def get_post_mean(self):\n",
    "        post_cov = self.get_post_cov()\n",
    "        post_suff_stat = np.matmul(self.obs_info_mat, obs) + \\\n",
    "                         np.matmul(self.prior_info_mat, self.prior_loc)\n",
    "        return np.matmul(post_cov, post_suff_stat)\n",
    "    \n",
    "    def set_theta_get_log_post(self, theta):\n",
    "        self.theta = theta\n",
    "        return self.get_log_post()\n",
    "\n"
   ]
  },
  {
   "cell_type": "code",
   "execution_count": 105,
   "metadata": {},
   "outputs": [
    {
     "name": "stdout",
     "output_type": "stream",
     "text": [
      "[ 0.19354839  0.48387097]\n",
      "[ 0.2  0.5]\n"
     ]
    }
   ],
   "source": [
    "obs_dim = 2\n",
    "obs = np.array([0.2, 0.5])\n",
    "obs_info_mat = 30 * np.eye(obs_dim)\n",
    "prior_loc = np.zeros(obs_dim)\n",
    "theta = np.full(obs_dim, 0.2)\n",
    "\n",
    "mvn_model = MVNModel(obs, obs_info_mat, prior_loc)\n",
    "print(mvn_model.get_post_mean())\n",
    "print(obs)\n",
    "\n"
   ]
  },
  {
   "cell_type": "code",
   "execution_count": 106,
   "metadata": {},
   "outputs": [],
   "source": [
    "num_draws = 10\n",
    "theta_draws = np.transpose(osp.stats.multivariate_normal.rvs(\n",
    "    size=num_draws, mean=mvn_model.get_post_mean(), cov=mvn_model.get_post_cov()))\n"
   ]
  },
  {
   "cell_type": "code",
   "execution_count": 109,
   "metadata": {},
   "outputs": [
    {
     "name": "stdout",
     "output_type": "stream",
     "text": [
      "[[ -4.61121698 -12.19094068]\n",
      " [ -4.67825364  -7.71340681]\n",
      " [  3.8427866    5.31848418]\n",
      " [  3.24158064  -0.11408701]\n",
      " [  2.97613179   6.85717704]\n",
      " [  2.67529261  -2.51249715]\n",
      " [ -1.00787815   0.1594007 ]\n",
      " [ -1.14406884  -1.34877388]\n",
      " [ 12.76331752 -13.6554587 ]\n",
      " [  1.85667867  -2.35800555]]\n"
     ]
    }
   ],
   "source": [
    "get_log_post_grad = autograd.jacobian(mvn_model.set_theta_get_log_post)\n",
    "get_log_post_grad(theta_draws[:, 0])\n",
    "\n",
    "post_grads = np.array([ get_log_post_grad(theta) for theta in np.transpose(theta_draws) ])\n",
    "print(post_grads)\n"
   ]
  }
 ],
 "metadata": {
  "kernelspec": {
   "display_name": "Python 3",
   "language": "python",
   "name": "python3"
  },
  "language_info": {
   "codemirror_mode": {
    "name": "ipython",
    "version": 3
   },
   "file_extension": ".py",
   "mimetype": "text/x-python",
   "name": "python",
   "nbconvert_exporter": "python",
   "pygments_lexer": "ipython3",
   "version": "3.5.2"
  }
 },
 "nbformat": 4,
 "nbformat_minor": 2
}
