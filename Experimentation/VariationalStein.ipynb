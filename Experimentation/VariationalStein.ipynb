{
 "cells": [
  {
   "cell_type": "code",
   "execution_count": 1,
   "metadata": {
    "collapsed": true
   },
   "outputs": [],
   "source": [
    "import autograd\n",
    "import autograd.numpy as np\n",
    "import autograd.scipy as sp\n",
    "\n",
    "import VariationalBayes as vb\n",
    "from copy import deepcopy\n",
    "\n",
    "import scipy as osp\n",
    "from scipy import stats\n",
    "\n",
    "import matplotlib.pyplot as plt\n",
    "%matplotlib inline\n"
   ]
  },
  {
   "cell_type": "code",
   "execution_count": 2,
   "metadata": {},
   "outputs": [],
   "source": [
    "\n",
    "class Kernel(object):\n",
    "    def __init__(self, c=1.0, beta=-0.5):\n",
    "        self.c = c\n",
    "        self.beta = beta\n",
    "        \n",
    "    def k(self, x, y):\n",
    "        xy_diff = x - y\n",
    "        return (self.c + np.dot(xy_diff, xy_diff)) ** self.beta\n",
    "\n",
    "    \n",
    "class MVNModel(object):\n",
    "    def __init__(self, obs, obs_info_mat, prior_loc):\n",
    "        self.prior_loc = deepcopy(prior_loc)\n",
    "        self.obs_dim = len(obs)\n",
    "        self.obs = obs\n",
    "        self.obs_info_mat = deepcopy(obs_info_mat)\n",
    "        self.prior_info_mat = np.eye(self.obs_dim)\n",
    "\n",
    "        self.theta = np.zeros(self.obs_dim)\n",
    "        \n",
    "    def get_log_post(self, broadcast=False):\n",
    "        if broadcast:\n",
    "            obs_centered = np.expand_dims(self.obs, 1) - self.theta\n",
    "            theta_centered = self.theta - np.expand_dims(self.prior_loc, 1)\n",
    "        else:\n",
    "            obs_centered = self.obs - self.theta\n",
    "            theta_centered = self.theta - self.prior_loc\n",
    "            \n",
    "        log_lik =  -0.5 * np.einsum(\n",
    "            'i...,ij,j...->...',\n",
    "            obs_centered, self.obs_info_mat, obs_centered)\n",
    "\n",
    "        log_prior =  -0.5 * np.einsum(\n",
    "            'i...,ij,j...->...',\n",
    "            theta_centered, self.prior_info_mat, theta_centered)\n",
    "        \n",
    "        return log_lik + log_prior\n",
    "    \n",
    "    def get_post_cov(self):\n",
    "        return np.linalg.inv(self.obs_info_mat + self.prior_info_mat)\n",
    "\n",
    "    def get_post_mean(self):\n",
    "        post_cov = self.get_post_cov()\n",
    "        post_suff_stat = np.matmul(self.obs_info_mat, obs) + \\\n",
    "                         np.matmul(self.prior_info_mat, self.prior_loc)\n",
    "        return np.matmul(post_cov, post_suff_stat)\n",
    "    \n",
    "    def set_theta_get_log_post(self, theta):\n",
    "        self.theta = theta\n",
    "        return self.get_log_post()\n",
    "\n"
   ]
  },
  {
   "cell_type": "code",
   "execution_count": 3,
   "metadata": {},
   "outputs": [
    {
     "name": "stdout",
     "output_type": "stream",
     "text": [
      "[ 0.19354839  0.48387097]\n",
      "[ 0.2  0.5]\n"
     ]
    }
   ],
   "source": [
    "obs_dim = 2\n",
    "obs = np.array([0.2, 0.5])\n",
    "obs_info_mat = 30 * np.eye(obs_dim)\n",
    "prior_loc = np.zeros(obs_dim)\n",
    "theta = np.full(obs_dim, 0.2)\n",
    "\n",
    "mvn_model = MVNModel(obs, obs_info_mat, prior_loc)\n",
    "print(mvn_model.get_post_mean())\n",
    "print(obs)\n",
    "\n"
   ]
  },
  {
   "cell_type": "code",
   "execution_count": 4,
   "metadata": {},
   "outputs": [
    {
     "name": "stdout",
     "output_type": "stream",
     "text": [
      "(30, 2)\n"
     ]
    }
   ],
   "source": [
    "num_draws = 30\n",
    "theta_draws = osp.stats.multivariate_normal.rvs(\n",
    "    size=num_draws, mean=mvn_model.get_post_mean(), cov=mvn_model.get_post_cov())\n",
    "print(theta_draws.shape)\n",
    "\n",
    "theta_mean = np.mean(theta_draws, axis=0)\n",
    "theta_sd = np.std(theta_draws, axis=0)\n",
    "theta_se = theta_sd / np.sqrt(num_draws)"
   ]
  },
  {
   "cell_type": "code",
   "execution_count": 10,
   "metadata": {},
   "outputs": [],
   "source": [
    "class SteinGradientGenerator(object):\n",
    "    def __init__(self, mvn_model):\n",
    "        self.mvn_model = deepcopy(mvn_model)\n",
    "        self.get_log_post_grad = autograd.grad(self.mvn_model.set_theta_get_log_post)\n",
    "        self.kernel = Kernel()\n",
    "        self.get_kernel_grad = autograd.grad(self.kernel.k, argnum=0)\n",
    "\n",
    "    def get_kernel_mat(self, theta_draws):\n",
    "        return np.array([[ self.kernel.k(t1, t2) for t2 in theta_draws] for t1 in theta_draws])\n",
    "    \n",
    "    def get_kernel_grad_mat(self, theta_draws):\n",
    "        # t1 is in the first index; it is this that we need to sum out for the gradient step.\n",
    "        return np.array([[ self.get_kernel_grad(t1, t2) for t2 in theta_draws] \\\n",
    "                           for t1 in theta_draws])\n",
    "\n",
    "    def get_post_grads(self, theta_draws):\n",
    "        return np.array([ self.get_log_post_grad(theta) for theta in theta_draws ])\n",
    "    \n",
    "    def get_stein_grad_term(self, theta_draws):\n",
    "        kernel_mat = self.get_kernel_mat(theta_draws)\n",
    "        post_grads = self.get_post_grads(theta_draws)\n",
    "        num_draws = theta_draws.shape[0]\n",
    "        return np.einsum('ij,jk->ik', kernel_mat, post_grads) / num_draws\n",
    "    \n",
    "    def get_stein_kernel_term(self, theta_draws):\n",
    "        num_draws = theta_draws.shape[0]\n",
    "        kernel_grad_mat = self.get_kernel_grad_mat(theta_draws)\n",
    "        return np.sum(kernel_grad_mat, axis=0) / num_draws\n",
    "    \n",
    "    def get_stein_direction(self, theta_draws):\n",
    "        return self.get_stein_grad_term(theta_draws) + self.get_stein_kernel_term(theta_draws)"
   ]
  },
  {
   "cell_type": "code",
   "execution_count": 11,
   "metadata": {},
   "outputs": [],
   "source": [
    "stein_gradient_generator = SteinGradientGenerator(mvn_model)\n",
    "\n",
    "def get_stein_direction(stein_gradient_generator, theta_draws):\n",
    "    stein_grad_term = stein_gradient_generator.get_stein_grad_term(theta_draws)\n",
    "    stein_kernel_term = stein_gradient_generator.get_stein_kernel_term(theta_draws)\n",
    "    stein_direction = stein_gradient_generator.get_stein_direction(theta_draws)\n",
    "    \n",
    "    return stein_direction\n",
    "\n",
    "def get_stein_step(stein_gradient_generator, theta_draws, start_scale=1.0):\n",
    "    stein_direction = get_stein_direction(stein_gradient_generator, theta_draws)\n",
    "\n",
    "    grad_mag = np.linalg.norm(stein_direction)\n",
    "    grad_mag_diff = np.float('inf')\n",
    "    scale = start_scale\n",
    "    while grad_mag_diff > 0.:\n",
    "        theta_update = theta_draws + scale * stein_direction\n",
    "        new_direction = get_stein_direction(stein_gradient_generator, theta_update)\n",
    "        new_grad_mag = np.linalg.norm(new_direction)\n",
    "        grad_mag_diff = new_grad_mag - grad_mag\n",
    "        if grad_mag_diff >= 0.:\n",
    "            scale *= 0.5\n",
    "            print('Difference: ', grad_mag_diff, ' decreasing scale to ', scale)\n",
    "        else:\n",
    "            print('Accepting step from ', grad_mag, ' to ', new_grad_mag)\n",
    "\n",
    "    return theta_update, stein_direction, scale\n"
   ]
  },
  {
   "cell_type": "code",
   "execution_count": 12,
   "metadata": {},
   "outputs": [
    {
     "name": "stdout",
     "output_type": "stream",
     "text": [
      "Difference:  37.1703636131  decreasing scale to  0.5\n",
      "Difference:  17.3040479533  decreasing scale to  0.25\n",
      "Difference:  7.30588839309  decreasing scale to  0.125\n",
      "Difference:  2.29278582575  decreasing scale to  0.0625\n",
      "Accepting step from  1.37402211972  to  1.16398769828\n",
      "Difference:  5.04390553149  decreasing scale to  0.108243638079\n",
      "Difference:  1.37082034563  decreasing scale to  0.0541218190394\n",
      "Accepting step from  1.16398769828  to  0.707749893272\n",
      "1.16398769828\n",
      "Difference:  0.265199641349  decreasing scale to  0.0405913642795\n",
      "Accepting step from  0.707749893272  to  0.202750551777\n",
      "0.707749893272\n",
      "Accepting step from  0.202750551777  to  0.17753958704\n",
      "0.202750551777\n",
      "Difference:  0.0457921856912  decreasing scale to  0.0456652848145\n",
      "Accepting step from  0.17753958704  to  0.138126430033\n",
      "0.17753958704\n",
      "Accepting step from  0.138126430033  to  0.12886300579\n",
      "0.138126430033\n",
      "Difference:  0.0056290105247  decreasing scale to  0.0513734454163\n",
      "Accepting step from  0.12886300579  to  0.117791628884\n",
      "0.12886300579\n",
      "Accepting step from  0.117791628884  to  0.109458364372\n",
      "0.117791628884\n",
      "Difference:  0.00238889966316  decreasing scale to  0.0577951260933\n",
      "Accepting step from  0.109458364372  to  0.101728218591\n",
      "0.109458364372\n",
      "Accepting step from  0.101728218591  to  0.0952537843382\n",
      "0.101728218591\n",
      "Difference:  0.0165686331707  decreasing scale to  0.065019516855\n",
      "Accepting step from  0.0952537843382  to  0.0892547038059\n",
      "0.0952537843382\n",
      "Difference:  0.00130045618855  decreasing scale to  0.0487646376413\n",
      "Accepting step from  0.0892547038059  to  0.0822510956507\n",
      "0.0892547038059\n",
      "Accepting step from  0.0822510956507  to  0.0772919006185\n",
      "0.0822510956507\n",
      "Accepting step from  0.0772919006185  to  0.0742838686909\n",
      "0.0772919006185\n",
      "Difference:  0.0500810357494  decreasing scale to  0.0822903260196\n",
      "Difference:  0.00204289130439  decreasing scale to  0.0411451630098\n",
      "Accepting step from  0.0742838686909  to  0.0671216337966\n",
      "0.0742838686909\n",
      "Accepting step from  0.0671216337966  to  0.0638353925956\n",
      "0.0671216337966\n",
      "Accepting step from  0.0638353925956  to  0.0602696404134\n",
      "0.0638353925956\n",
      "Accepting step from  0.0602696404134  to  0.0598102892867\n",
      "0.0602696404134\n",
      "Difference:  0.0806877050818  decreasing scale to  0.104148693869\n",
      "Difference:  0.0144678574378  decreasing scale to  0.0520743469343\n",
      "Accepting step from  0.0598102892867  to  0.0548807207516\n",
      "0.0598102892867\n",
      "Accepting step from  0.0548807207516  to  0.053584700574\n",
      "0.0548807207516\n",
      "Difference:  0.0116026725699  decreasing scale to  0.0585836403011\n",
      "Accepting step from  0.053584700574  to  0.0513962657629\n",
      "0.053584700574\n",
      "Done.\n"
     ]
    }
   ],
   "source": [
    "\n",
    "true_mean = mvn_model.get_post_mean()\n",
    "theta_draws = osp.stats.multivariate_normal.rvs(\n",
    "    size=50,\n",
    "    mean=mvn_model.get_post_mean(),\n",
    "    cov=mvn_model.get_post_cov())\n",
    "init_theta_draws = deepcopy(theta_draws)\n",
    "\n",
    "theta_sd = np.std(theta_draws, axis=0)\n",
    "num_draws = theta_draws.shape[0]\n",
    "theta_se = theta_sd / np.sqrt(num_draws)\n",
    "\n",
    "# This is the step size that changes the mean by no more than one\n",
    "# a standard error.\n",
    "theta_draws, stein_direction, last_scale = \\\n",
    "    get_stein_step(stein_gradient_generator, theta_draws, start_scale=1.0)\n",
    "last_scale = np.min(theta_se / np.abs(np.mean(stein_direction, axis=0)))\n",
    "\n",
    "for step in range(20):\n",
    "    theta_draws, stein_direction, last_scale = \\\n",
    "        get_stein_step(stein_gradient_generator, theta_draws, start_scale=1.5 * last_scale)\n",
    "    print(np.linalg.norm(stein_direction))\n",
    "\n",
    "print('Done.')\n",
    "\n"
   ]
  },
  {
   "cell_type": "code",
   "execution_count": 14,
   "metadata": {},
   "outputs": [
    {
     "name": "stdout",
     "output_type": "stream",
     "text": [
      "[[ 0.02756143 -0.00135533]\n",
      " [-0.00135533  0.02890398]] \n",
      "-----\n",
      " [[  3.15714089e-02   8.30317292e-06]\n",
      " [  8.30317292e-06   3.22490134e-02]] \n",
      "-----\n",
      " [[ 0.03225806  0.        ]\n",
      " [ 0.          0.03225806]]\n",
      "\n",
      "\n",
      "\n",
      "\n",
      "\n",
      "[ 0.19613355  0.48903547] \n",
      "-----\n",
      " [ 0.1928177   0.48346379] \n",
      "-----\n",
      " [ 0.19354839  0.48387097]\n"
     ]
    },
    {
     "data": {
      "text/plain": [
       "[<matplotlib.lines.Line2D at 0x7f68565b2198>]"
      ]
     },
     "execution_count": 14,
     "metadata": {},
     "output_type": "execute_result"
    },
    {
     "data": {
      "image/png": "[encoded data removed]",
      "text/plain": [
       "<matplotlib.figure.Figure at 0x7f685861cd68>"
      ]
     },
     "metadata": {},
     "output_type": "display_data"
    }
   ],
   "source": [
    "print(np.cov(np.transpose(init_theta_draws)), '\\n-----\\n',\n",
    "      np.cov(np.transpose(theta_draws)), '\\n-----\\n',\n",
    "      mvn_model.get_post_cov())\n",
    "\n",
    "print('\\n\\n\\n\\n')\n",
    "print(np.mean(init_theta_draws, axis=0), '\\n-----\\n',\n",
    "      np.mean(theta_draws, axis=0), '\\n-----\\n',\n",
    "      mvn_model.get_post_mean())\n",
    "\n",
    "plt.plot(theta_draws[:, 0], theta_draws[:, 1], 'rx')\n",
    "plt.plot(init_theta_draws[:, 0], init_theta_draws[:, 1], 'bx')\n"
   ]
  },
  {
   "cell_type": "code",
   "execution_count": 15,
   "metadata": {},
   "outputs": [
    {
     "name": "stdout",
     "output_type": "stream",
     "text": [
      "[ 0.09677419  0.        ]\n"
     ]
    }
   ],
   "source": [
    "prior_loc_pert = deepcopy(prior_loc)\n",
    "prior_loc_pert[0] += 3\n",
    "mvn_model_pert = MVNModel(obs, obs_info_mat, prior_loc_pert)\n",
    "theta_draws_pert = deepcopy(theta_draws)\n",
    "\n",
    "print(mvn_model_pert.get_post_mean() - mvn_model.get_post_mean())\n"
   ]
  },
  {
   "cell_type": "code",
   "execution_count": 22,
   "metadata": {},
   "outputs": [
    {
     "name": "stdout",
     "output_type": "stream",
     "text": [
      "Difference:  14.9759417276  decreasing scale to  0.5\n",
      "Difference:  6.94036824134  decreasing scale to  0.25\n",
      "Difference:  2.92167158261  decreasing scale to  0.125\n",
      "Difference:  0.912301846754  decreasing scale to  0.0625\n",
      "Accepting step from  0.549601808106  to  0.458050301563\n",
      "Iter 1: 0.5496018081062204\n",
      "Accepting step from  0.458050301563  to  0.383853612898\n",
      "Iter 2: 0.4580503015632005\n",
      "Accepting step from  0.383853612898  to  0.319878651751\n",
      "Iter 3: 0.3838536128975147\n",
      "Accepting step from  0.319878651751  to  0.268670186553\n",
      "Iter 4: 0.3198786517506675\n",
      "Accepting step from  0.268670186553  to  0.223985018687\n",
      "Iter 5: 0.26867018655306957\n",
      "Accepting step from  0.223985018687  to  0.188845768783\n",
      "Iter 6: 0.22398501868735943\n",
      "Accepting step from  0.188845768783  to  0.157689457753\n",
      "Iter 7: 0.18884576878346918\n",
      "Accepting step from  0.157689457753  to  0.133806939566\n",
      "Iter 8: 0.15768945775269907\n",
      "Accepting step from  0.133806939566  to  0.112183651375\n",
      "Iter 9: 0.13380693956619488\n",
      "Accepting step from  0.112183651375  to  0.0962094704087\n",
      "Iter 10: 0.11218365137488408\n",
      "Accepting step from  0.0962094704087  to  0.0813503030224\n",
      "Iter 11: 0.09620947040867175\n",
      "Accepting step from  0.0813503030224  to  0.0709396740358\n",
      "Iter 12: 0.08135030302238666\n",
      "Accepting step from  0.0709396740358  to  0.0609117155516\n",
      "Iter 13: 0.07093967403581203\n",
      "Accepting step from  0.0609117155516  to  0.0543865229086\n",
      "Iter 14: 0.06091171555157974\n",
      "Accepting step from  0.0543865229086  to  0.0478006252962\n",
      "Iter 15: 0.054386522908563335\n",
      "Accepting step from  0.0478006252962  to  0.0439119246631\n",
      "Iter 16: 0.04780062529622522\n",
      "Accepting step from  0.0439119246631  to  0.0397185623301\n",
      "Iter 17: 0.04391192466312116\n",
      "Accepting step from  0.0397185623301  to  0.037514366112\n",
      "Iter 18: 0.039718562330109196\n",
      "Accepting step from  0.037514366112  to  0.0349012530635\n",
      "Iter 19: 0.037514366111984866\n",
      "Accepting step from  0.0349012530635  to  0.0336850304659\n",
      "Iter 20: 0.034901253063519704\n",
      "Accepting step from  0.0336850304659  to  0.0320524550119\n",
      "Iter 21: 0.03368503046585446\n",
      "Accepting step from  0.0320524550119  to  0.0313648900533\n",
      "Iter 22: 0.03205245501193233\n",
      "Accepting step from  0.0313648900533  to  0.0303102086151\n",
      "Iter 23: 0.03136489005328991\n"
     ]
    },
    {
     "ename": "KeyboardInterrupt",
     "evalue": "",
     "output_type": "error",
     "traceback": [
      "\u001b[0;31m---------------------------------------------------------------------------\u001b[0m",
      "\u001b[0;31mKeyboardInterrupt\u001b[0m                         Traceback (most recent call last)",
      "\u001b[0;32m<ipython-input-22-20cf976f0e40>\u001b[0m in \u001b[0;36m<module>\u001b[0;34m()\u001b[0m\n\u001b[1;32m      6\u001b[0m \u001b[0mgrad_norm\u001b[0m \u001b[0;34m=\u001b[0m \u001b[0mfloat\u001b[0m\u001b[0;34m(\u001b[0m\u001b[0;34m'inf'\u001b[0m\u001b[0;34m)\u001b[0m\u001b[0;34m\u001b[0m\u001b[0m\n\u001b[1;32m      7\u001b[0m \u001b[0;32mwhile\u001b[0m \u001b[0mi\u001b[0m \u001b[0;34m<\u001b[0m \u001b[0mmax_iter\u001b[0m \u001b[0;32mand\u001b[0m \u001b[0mgrad_norm\u001b[0m \u001b[0;34m>\u001b[0m \u001b[0;36m1e-2\u001b[0m\u001b[0;34m:\u001b[0m\u001b[0;34m\u001b[0m\u001b[0m\n\u001b[0;32m----> 8\u001b[0;31m     \u001b[0mtheta_draws_pert\u001b[0m\u001b[0;34m,\u001b[0m \u001b[0mstein_direction\u001b[0m\u001b[0;34m,\u001b[0m \u001b[0mlast_scale\u001b[0m \u001b[0;34m=\u001b[0m         \u001b[0mget_stein_step\u001b[0m\u001b[0;34m(\u001b[0m\u001b[0mstein_gradient_generator_pert\u001b[0m\u001b[0;34m,\u001b[0m \u001b[0mtheta_draws_pert\u001b[0m\u001b[0;34m,\u001b[0m \u001b[0mstart_scale\u001b[0m\u001b[0;34m=\u001b[0m\u001b[0mlast_scale\u001b[0m\u001b[0;34m)\u001b[0m\u001b[0;34m\u001b[0m\u001b[0m\n\u001b[0m\u001b[1;32m      9\u001b[0m     \u001b[0mgrad_norm\u001b[0m \u001b[0;34m=\u001b[0m \u001b[0mnp\u001b[0m\u001b[0;34m.\u001b[0m\u001b[0mlinalg\u001b[0m\u001b[0;34m.\u001b[0m\u001b[0mnorm\u001b[0m\u001b[0;34m(\u001b[0m\u001b[0mstein_direction\u001b[0m\u001b[0;34m)\u001b[0m\u001b[0;34m\u001b[0m\u001b[0m\n\u001b[1;32m     10\u001b[0m     \u001b[0mi\u001b[0m \u001b[0;34m=\u001b[0m \u001b[0mi\u001b[0m \u001b[0;34m+\u001b[0m \u001b[0;36m1\u001b[0m\u001b[0;34m\u001b[0m\u001b[0m\n",
      "\u001b[0;32m<ipython-input-11-7295f7a7a8bf>\u001b[0m in \u001b[0;36mget_stein_step\u001b[0;34m(stein_gradient_generator, theta_draws, start_scale)\u001b[0m\n\u001b[1;32m     16\u001b[0m     \u001b[0;32mwhile\u001b[0m \u001b[0mgrad_mag_diff\u001b[0m \u001b[0;34m>\u001b[0m \u001b[0;36m0.\u001b[0m\u001b[0;34m:\u001b[0m\u001b[0;34m\u001b[0m\u001b[0m\n\u001b[1;32m     17\u001b[0m         \u001b[0mtheta_update\u001b[0m \u001b[0;34m=\u001b[0m \u001b[0mtheta_draws\u001b[0m \u001b[0;34m+\u001b[0m \u001b[0mscale\u001b[0m \u001b[0;34m*\u001b[0m \u001b[0mstein_direction\u001b[0m\u001b[0;34m\u001b[0m\u001b[0m\n\u001b[0;32m---> 18\u001b[0;31m         \u001b[0mnew_direction\u001b[0m \u001b[0;34m=\u001b[0m \u001b[0mget_stein_direction\u001b[0m\u001b[0;34m(\u001b[0m\u001b[0mstein_gradient_generator\u001b[0m\u001b[0;34m,\u001b[0m \u001b[0mtheta_update\u001b[0m\u001b[0;34m)\u001b[0m\u001b[0;34m\u001b[0m\u001b[0m\n\u001b[0m\u001b[1;32m     19\u001b[0m         \u001b[0mnew_grad_mag\u001b[0m \u001b[0;34m=\u001b[0m \u001b[0mnp\u001b[0m\u001b[0;34m.\u001b[0m\u001b[0mlinalg\u001b[0m\u001b[0;34m.\u001b[0m\u001b[0mnorm\u001b[0m\u001b[0;34m(\u001b[0m\u001b[0mnew_direction\u001b[0m\u001b[0;34m)\u001b[0m\u001b[0;34m\u001b[0m\u001b[0m\n\u001b[1;32m     20\u001b[0m         \u001b[0mgrad_mag_diff\u001b[0m \u001b[0;34m=\u001b[0m \u001b[0mnew_grad_mag\u001b[0m \u001b[0;34m-\u001b[0m \u001b[0mgrad_mag\u001b[0m\u001b[0;34m\u001b[0m\u001b[0m\n",
      "\u001b[0;32m<ipython-input-11-7295f7a7a8bf>\u001b[0m in \u001b[0;36mget_stein_direction\u001b[0;34m(stein_gradient_generator, theta_draws)\u001b[0m\n\u001b[1;32m      3\u001b[0m \u001b[0;32mdef\u001b[0m \u001b[0mget_stein_direction\u001b[0m\u001b[0;34m(\u001b[0m\u001b[0mstein_gradient_generator\u001b[0m\u001b[0;34m,\u001b[0m \u001b[0mtheta_draws\u001b[0m\u001b[0;34m)\u001b[0m\u001b[0;34m:\u001b[0m\u001b[0;34m\u001b[0m\u001b[0m\n\u001b[1;32m      4\u001b[0m     \u001b[0mstein_grad_term\u001b[0m \u001b[0;34m=\u001b[0m \u001b[0mstein_gradient_generator\u001b[0m\u001b[0;34m.\u001b[0m\u001b[0mget_stein_grad_term\u001b[0m\u001b[0;34m(\u001b[0m\u001b[0mtheta_draws\u001b[0m\u001b[0;34m)\u001b[0m\u001b[0;34m\u001b[0m\u001b[0m\n\u001b[0;32m----> 5\u001b[0;31m     \u001b[0mstein_kernel_term\u001b[0m \u001b[0;34m=\u001b[0m \u001b[0mstein_gradient_generator\u001b[0m\u001b[0;34m.\u001b[0m\u001b[0mget_stein_kernel_term\u001b[0m\u001b[0;34m(\u001b[0m\u001b[0mtheta_draws\u001b[0m\u001b[0;34m)\u001b[0m\u001b[0;34m\u001b[0m\u001b[0m\n\u001b[0m\u001b[1;32m      6\u001b[0m     \u001b[0mstein_direction\u001b[0m \u001b[0;34m=\u001b[0m \u001b[0mstein_gradient_generator\u001b[0m\u001b[0;34m.\u001b[0m\u001b[0mget_stein_direction\u001b[0m\u001b[0;34m(\u001b[0m\u001b[0mtheta_draws\u001b[0m\u001b[0;34m)\u001b[0m\u001b[0;34m\u001b[0m\u001b[0m\n\u001b[1;32m      7\u001b[0m \u001b[0;34m\u001b[0m\u001b[0m\n",
      "\u001b[0;32m<ipython-input-10-488017d6e9e4>\u001b[0m in \u001b[0;36mget_stein_kernel_term\u001b[0;34m(self, theta_draws)\u001b[0m\n\u001b[1;32m     24\u001b[0m     \u001b[0;32mdef\u001b[0m \u001b[0mget_stein_kernel_term\u001b[0m\u001b[0;34m(\u001b[0m\u001b[0mself\u001b[0m\u001b[0;34m,\u001b[0m \u001b[0mtheta_draws\u001b[0m\u001b[0;34m)\u001b[0m\u001b[0;34m:\u001b[0m\u001b[0;34m\u001b[0m\u001b[0m\n\u001b[1;32m     25\u001b[0m         \u001b[0mnum_draws\u001b[0m \u001b[0;34m=\u001b[0m \u001b[0mtheta_draws\u001b[0m\u001b[0;34m.\u001b[0m\u001b[0mshape\u001b[0m\u001b[0;34m[\u001b[0m\u001b[0;36m0\u001b[0m\u001b[0;34m]\u001b[0m\u001b[0;34m\u001b[0m\u001b[0m\n\u001b[0;32m---> 26\u001b[0;31m         \u001b[0mkernel_grad_mat\u001b[0m \u001b[0;34m=\u001b[0m \u001b[0mself\u001b[0m\u001b[0;34m.\u001b[0m\u001b[0mget_kernel_grad_mat\u001b[0m\u001b[0;34m(\u001b[0m\u001b[0mtheta_draws\u001b[0m\u001b[0;34m)\u001b[0m\u001b[0;34m\u001b[0m\u001b[0m\n\u001b[0m\u001b[1;32m     27\u001b[0m         \u001b[0;32mreturn\u001b[0m \u001b[0mnp\u001b[0m\u001b[0;34m.\u001b[0m\u001b[0msum\u001b[0m\u001b[0;34m(\u001b[0m\u001b[0mkernel_grad_mat\u001b[0m\u001b[0;34m,\u001b[0m \u001b[0maxis\u001b[0m\u001b[0;34m=\u001b[0m\u001b[0;36m0\u001b[0m\u001b[0;34m)\u001b[0m \u001b[0;34m/\u001b[0m \u001b[0mnum_draws\u001b[0m\u001b[0;34m\u001b[0m\u001b[0m\n\u001b[1;32m     28\u001b[0m \u001b[0;34m\u001b[0m\u001b[0m\n",
      "\u001b[0;32m<ipython-input-10-488017d6e9e4>\u001b[0m in \u001b[0;36mget_kernel_grad_mat\u001b[0;34m(self, theta_draws)\u001b[0m\n\u001b[1;32m     11\u001b[0m     \u001b[0;32mdef\u001b[0m \u001b[0mget_kernel_grad_mat\u001b[0m\u001b[0;34m(\u001b[0m\u001b[0mself\u001b[0m\u001b[0;34m,\u001b[0m \u001b[0mtheta_draws\u001b[0m\u001b[0;34m)\u001b[0m\u001b[0;34m:\u001b[0m\u001b[0;34m\u001b[0m\u001b[0m\n\u001b[1;32m     12\u001b[0m         \u001b[0;31m# t1 is in the first index; it is this that we need to sum out for the gradient step.\u001b[0m\u001b[0;34m\u001b[0m\u001b[0;34m\u001b[0m\u001b[0m\n\u001b[0;32m---> 13\u001b[0;31m         \u001b[0;32mreturn\u001b[0m \u001b[0mnp\u001b[0m\u001b[0;34m.\u001b[0m\u001b[0marray\u001b[0m\u001b[0;34m(\u001b[0m\u001b[0;34m[\u001b[0m\u001b[0;34m[\u001b[0m \u001b[0mself\u001b[0m\u001b[0;34m.\u001b[0m\u001b[0mget_kernel_grad\u001b[0m\u001b[0;34m(\u001b[0m\u001b[0mt1\u001b[0m\u001b[0;34m,\u001b[0m \u001b[0mt2\u001b[0m\u001b[0;34m)\u001b[0m \u001b[0;32mfor\u001b[0m \u001b[0mt2\u001b[0m \u001b[0;32min\u001b[0m \u001b[0mtheta_draws\u001b[0m\u001b[0;34m]\u001b[0m                            \u001b[0;32mfor\u001b[0m \u001b[0mt1\u001b[0m \u001b[0;32min\u001b[0m \u001b[0mtheta_draws\u001b[0m\u001b[0;34m]\u001b[0m\u001b[0;34m)\u001b[0m\u001b[0;34m\u001b[0m\u001b[0m\n\u001b[0m\u001b[1;32m     14\u001b[0m \u001b[0;34m\u001b[0m\u001b[0m\n\u001b[1;32m     15\u001b[0m     \u001b[0;32mdef\u001b[0m \u001b[0mget_post_grads\u001b[0m\u001b[0;34m(\u001b[0m\u001b[0mself\u001b[0m\u001b[0;34m,\u001b[0m \u001b[0mtheta_draws\u001b[0m\u001b[0;34m)\u001b[0m\u001b[0;34m:\u001b[0m\u001b[0;34m\u001b[0m\u001b[0m\n",
      "\u001b[0;32m<ipython-input-10-488017d6e9e4>\u001b[0m in \u001b[0;36m<listcomp>\u001b[0;34m(.0)\u001b[0m\n\u001b[1;32m     11\u001b[0m     \u001b[0;32mdef\u001b[0m \u001b[0mget_kernel_grad_mat\u001b[0m\u001b[0;34m(\u001b[0m\u001b[0mself\u001b[0m\u001b[0;34m,\u001b[0m \u001b[0mtheta_draws\u001b[0m\u001b[0;34m)\u001b[0m\u001b[0;34m:\u001b[0m\u001b[0;34m\u001b[0m\u001b[0m\n\u001b[1;32m     12\u001b[0m         \u001b[0;31m# t1 is in the first index; it is this that we need to sum out for the gradient step.\u001b[0m\u001b[0;34m\u001b[0m\u001b[0;34m\u001b[0m\u001b[0m\n\u001b[0;32m---> 13\u001b[0;31m         \u001b[0;32mreturn\u001b[0m \u001b[0mnp\u001b[0m\u001b[0;34m.\u001b[0m\u001b[0marray\u001b[0m\u001b[0;34m(\u001b[0m\u001b[0;34m[\u001b[0m\u001b[0;34m[\u001b[0m \u001b[0mself\u001b[0m\u001b[0;34m.\u001b[0m\u001b[0mget_kernel_grad\u001b[0m\u001b[0;34m(\u001b[0m\u001b[0mt1\u001b[0m\u001b[0;34m,\u001b[0m \u001b[0mt2\u001b[0m\u001b[0;34m)\u001b[0m \u001b[0;32mfor\u001b[0m \u001b[0mt2\u001b[0m \u001b[0;32min\u001b[0m \u001b[0mtheta_draws\u001b[0m\u001b[0;34m]\u001b[0m                            \u001b[0;32mfor\u001b[0m \u001b[0mt1\u001b[0m \u001b[0;32min\u001b[0m \u001b[0mtheta_draws\u001b[0m\u001b[0;34m]\u001b[0m\u001b[0;34m)\u001b[0m\u001b[0;34m\u001b[0m\u001b[0m\n\u001b[0m\u001b[1;32m     14\u001b[0m \u001b[0;34m\u001b[0m\u001b[0m\n\u001b[1;32m     15\u001b[0m     \u001b[0;32mdef\u001b[0m \u001b[0mget_post_grads\u001b[0m\u001b[0;34m(\u001b[0m\u001b[0mself\u001b[0m\u001b[0;34m,\u001b[0m \u001b[0mtheta_draws\u001b[0m\u001b[0;34m)\u001b[0m\u001b[0;34m:\u001b[0m\u001b[0;34m\u001b[0m\u001b[0m\n",
      "\u001b[0;32m<ipython-input-10-488017d6e9e4>\u001b[0m in \u001b[0;36m<listcomp>\u001b[0;34m(.0)\u001b[0m\n\u001b[1;32m     11\u001b[0m     \u001b[0;32mdef\u001b[0m \u001b[0mget_kernel_grad_mat\u001b[0m\u001b[0;34m(\u001b[0m\u001b[0mself\u001b[0m\u001b[0;34m,\u001b[0m \u001b[0mtheta_draws\u001b[0m\u001b[0;34m)\u001b[0m\u001b[0;34m:\u001b[0m\u001b[0;34m\u001b[0m\u001b[0m\n\u001b[1;32m     12\u001b[0m         \u001b[0;31m# t1 is in the first index; it is this that we need to sum out for the gradient step.\u001b[0m\u001b[0;34m\u001b[0m\u001b[0;34m\u001b[0m\u001b[0m\n\u001b[0;32m---> 13\u001b[0;31m         \u001b[0;32mreturn\u001b[0m \u001b[0mnp\u001b[0m\u001b[0;34m.\u001b[0m\u001b[0marray\u001b[0m\u001b[0;34m(\u001b[0m\u001b[0;34m[\u001b[0m\u001b[0;34m[\u001b[0m \u001b[0mself\u001b[0m\u001b[0;34m.\u001b[0m\u001b[0mget_kernel_grad\u001b[0m\u001b[0;34m(\u001b[0m\u001b[0mt1\u001b[0m\u001b[0;34m,\u001b[0m \u001b[0mt2\u001b[0m\u001b[0;34m)\u001b[0m \u001b[0;32mfor\u001b[0m \u001b[0mt2\u001b[0m \u001b[0;32min\u001b[0m \u001b[0mtheta_draws\u001b[0m\u001b[0;34m]\u001b[0m                            \u001b[0;32mfor\u001b[0m \u001b[0mt1\u001b[0m \u001b[0;32min\u001b[0m \u001b[0mtheta_draws\u001b[0m\u001b[0;34m]\u001b[0m\u001b[0;34m)\u001b[0m\u001b[0;34m\u001b[0m\u001b[0m\n\u001b[0m\u001b[1;32m     14\u001b[0m \u001b[0;34m\u001b[0m\u001b[0m\n\u001b[1;32m     15\u001b[0m     \u001b[0;32mdef\u001b[0m \u001b[0mget_post_grads\u001b[0m\u001b[0;34m(\u001b[0m\u001b[0mself\u001b[0m\u001b[0;34m,\u001b[0m \u001b[0mtheta_draws\u001b[0m\u001b[0;34m)\u001b[0m\u001b[0;34m:\u001b[0m\u001b[0;34m\u001b[0m\u001b[0m\n",
      "\u001b[0;32m/home/rgiordan/Documents/git_repos/autograd/autograd/errors.py\u001b[0m in \u001b[0;36mwrapped\u001b[0;34m(*args, **kwargs)\u001b[0m\n\u001b[1;32m     46\u001b[0m   \u001b[0;34m@\u001b[0m\u001b[0mwraps\u001b[0m\u001b[0;34m(\u001b[0m\u001b[0mfun\u001b[0m\u001b[0;34m)\u001b[0m\u001b[0;34m\u001b[0m\u001b[0m\n\u001b[1;32m     47\u001b[0m   \u001b[0;32mdef\u001b[0m \u001b[0mwrapped\u001b[0m\u001b[0;34m(\u001b[0m\u001b[0;34m*\u001b[0m\u001b[0margs\u001b[0m\u001b[0;34m,\u001b[0m \u001b[0;34m**\u001b[0m\u001b[0mkwargs\u001b[0m\u001b[0;34m)\u001b[0m\u001b[0;34m:\u001b[0m\u001b[0;34m\u001b[0m\u001b[0m\n\u001b[0;32m---> 48\u001b[0;31m     \u001b[0;32mtry\u001b[0m\u001b[0;34m:\u001b[0m \u001b[0;32mreturn\u001b[0m \u001b[0mfun\u001b[0m\u001b[0;34m(\u001b[0m\u001b[0;34m*\u001b[0m\u001b[0margs\u001b[0m\u001b[0;34m,\u001b[0m \u001b[0;34m**\u001b[0m\u001b[0mkwargs\u001b[0m\u001b[0;34m)\u001b[0m\u001b[0;34m\u001b[0m\u001b[0m\n\u001b[0m\u001b[1;32m     49\u001b[0m     \u001b[0;32mexcept\u001b[0m \u001b[0mException\u001b[0m \u001b[0;32mas\u001b[0m \u001b[0me\u001b[0m\u001b[0;34m:\u001b[0m \u001b[0madd_extra_error_message\u001b[0m\u001b[0;34m(\u001b[0m\u001b[0me\u001b[0m\u001b[0;34m)\u001b[0m\u001b[0;34m\u001b[0m\u001b[0m\n\u001b[1;32m     50\u001b[0m   \u001b[0;32mreturn\u001b[0m \u001b[0mwrapped\u001b[0m\u001b[0;34m\u001b[0m\u001b[0m\n",
      "\u001b[0;32m/home/rgiordan/Documents/git_repos/autograd/autograd/convenience_wrappers.py\u001b[0m in \u001b[0;36mgradfun\u001b[0;34m(*args, **kwargs)\u001b[0m\n\u001b[1;32m     27\u001b[0m         \u001b[0margs\u001b[0m\u001b[0;34m[\u001b[0m\u001b[0margnum\u001b[0m\u001b[0;34m]\u001b[0m \u001b[0;34m=\u001b[0m \u001b[0msafe_type\u001b[0m\u001b[0;34m(\u001b[0m\u001b[0margs\u001b[0m\u001b[0;34m[\u001b[0m\u001b[0margnum\u001b[0m\u001b[0;34m]\u001b[0m\u001b[0;34m)\u001b[0m\u001b[0;34m\u001b[0m\u001b[0m\n\u001b[1;32m     28\u001b[0m         \u001b[0mvjp\u001b[0m\u001b[0;34m,\u001b[0m \u001b[0mans\u001b[0m \u001b[0;34m=\u001b[0m \u001b[0mmake_vjp\u001b[0m\u001b[0;34m(\u001b[0m\u001b[0mscalar_fun\u001b[0m\u001b[0;34m,\u001b[0m \u001b[0margnum\u001b[0m\u001b[0;34m)\u001b[0m\u001b[0;34m(\u001b[0m\u001b[0;34m*\u001b[0m\u001b[0margs\u001b[0m\u001b[0;34m,\u001b[0m \u001b[0;34m**\u001b[0m\u001b[0mkwargs\u001b[0m\u001b[0;34m)\u001b[0m\u001b[0;34m\u001b[0m\u001b[0m\n\u001b[0;32m---> 29\u001b[0;31m         \u001b[0;32mreturn\u001b[0m \u001b[0mvjp\u001b[0m\u001b[0;34m(\u001b[0m\u001b[0mcast_to_same_dtype\u001b[0m\u001b[0;34m(\u001b[0m\u001b[0;36m1.0\u001b[0m\u001b[0;34m,\u001b[0m \u001b[0mans\u001b[0m\u001b[0;34m)\u001b[0m\u001b[0;34m)\u001b[0m\u001b[0;34m\u001b[0m\u001b[0m\n\u001b[0m\u001b[1;32m     30\u001b[0m \u001b[0;34m\u001b[0m\u001b[0m\n\u001b[1;32m     31\u001b[0m     \u001b[0;32mreturn\u001b[0m \u001b[0mgradfun\u001b[0m\u001b[0;34m\u001b[0m\u001b[0m\n",
      "\u001b[0;32m/home/rgiordan/Documents/git_repos/autograd/autograd/core.py\u001b[0m in \u001b[0;36m<lambda>\u001b[0;34m(g)\u001b[0m\n\u001b[1;32m     16\u001b[0m             \u001b[0mwarnings\u001b[0m\u001b[0;34m.\u001b[0m\u001b[0mwarn\u001b[0m\u001b[0;34m(\u001b[0m\u001b[0;34m\"Output seems independent of input.\"\u001b[0m\u001b[0;34m)\u001b[0m\u001b[0;34m\u001b[0m\u001b[0m\n\u001b[1;32m     17\u001b[0m             \u001b[0;32mreturn\u001b[0m \u001b[0;32mlambda\u001b[0m \u001b[0mg\u001b[0m \u001b[0;34m:\u001b[0m \u001b[0mstart_node\u001b[0m\u001b[0;34m.\u001b[0m\u001b[0mvspace\u001b[0m\u001b[0;34m.\u001b[0m\u001b[0mzeros\u001b[0m\u001b[0;34m(\u001b[0m\u001b[0;34m)\u001b[0m\u001b[0;34m,\u001b[0m \u001b[0mend_node\u001b[0m\u001b[0;34m\u001b[0m\u001b[0m\n\u001b[0;32m---> 18\u001b[0;31m         \u001b[0;32mreturn\u001b[0m \u001b[0;32mlambda\u001b[0m \u001b[0mg\u001b[0m \u001b[0;34m:\u001b[0m \u001b[0mbackward_pass\u001b[0m\u001b[0;34m(\u001b[0m\u001b[0mg\u001b[0m\u001b[0;34m,\u001b[0m \u001b[0mend_node\u001b[0m\u001b[0;34m,\u001b[0m \u001b[0mstart_node\u001b[0m\u001b[0;34m)\u001b[0m\u001b[0;34m,\u001b[0m \u001b[0mend_node\u001b[0m\u001b[0;34m\u001b[0m\u001b[0m\n\u001b[0m\u001b[1;32m     19\u001b[0m     \u001b[0;32mreturn\u001b[0m \u001b[0mvjp\u001b[0m\u001b[0;34m\u001b[0m\u001b[0m\n\u001b[1;32m     20\u001b[0m \u001b[0;34m\u001b[0m\u001b[0m\n",
      "\u001b[0;32m/home/rgiordan/Documents/git_repos/autograd/autograd/core.py\u001b[0m in \u001b[0;36mbackward_pass\u001b[0;34m(g, end_node, start_node)\u001b[0m\n\u001b[1;32m     31\u001b[0m     \u001b[0moutgrads\u001b[0m \u001b[0;34m=\u001b[0m \u001b[0;34m{\u001b[0m\u001b[0mend_node\u001b[0m \u001b[0;34m:\u001b[0m \u001b[0;34m(\u001b[0m\u001b[0mg\u001b[0m\u001b[0;34m,\u001b[0m \u001b[0;32mFalse\u001b[0m\u001b[0;34m)\u001b[0m\u001b[0;34m}\u001b[0m\u001b[0;34m\u001b[0m\u001b[0m\n\u001b[1;32m     32\u001b[0m     \u001b[0massert_vspace_match\u001b[0m\u001b[0;34m(\u001b[0m\u001b[0moutgrads\u001b[0m\u001b[0;34m[\u001b[0m\u001b[0mend_node\u001b[0m\u001b[0;34m]\u001b[0m\u001b[0;34m[\u001b[0m\u001b[0;36m0\u001b[0m\u001b[0;34m]\u001b[0m\u001b[0;34m,\u001b[0m \u001b[0mend_node\u001b[0m\u001b[0;34m.\u001b[0m\u001b[0mvspace\u001b[0m\u001b[0;34m,\u001b[0m \u001b[0;32mNone\u001b[0m\u001b[0;34m)\u001b[0m\u001b[0;34m\u001b[0m\u001b[0m\n\u001b[0;32m---> 33\u001b[0;31m     \u001b[0;32mfor\u001b[0m \u001b[0mnode\u001b[0m \u001b[0;32min\u001b[0m \u001b[0mtoposort\u001b[0m\u001b[0;34m(\u001b[0m\u001b[0mend_node\u001b[0m\u001b[0;34m,\u001b[0m \u001b[0mstart_node\u001b[0m\u001b[0;34m)\u001b[0m\u001b[0;34m:\u001b[0m\u001b[0;34m\u001b[0m\u001b[0m\n\u001b[0m\u001b[1;32m     34\u001b[0m         \u001b[0;32mif\u001b[0m \u001b[0mnode\u001b[0m \u001b[0;32mnot\u001b[0m \u001b[0;32min\u001b[0m \u001b[0moutgrads\u001b[0m\u001b[0;34m:\u001b[0m \u001b[0;32mcontinue\u001b[0m\u001b[0;34m\u001b[0m\u001b[0m\n\u001b[1;32m     35\u001b[0m         \u001b[0mcur_outgrad\u001b[0m \u001b[0;34m=\u001b[0m \u001b[0moutgrads\u001b[0m\u001b[0;34m[\u001b[0m\u001b[0mnode\u001b[0m\u001b[0;34m]\u001b[0m\u001b[0;34m\u001b[0m\u001b[0m\n",
      "\u001b[0;32m/home/rgiordan/Documents/git_repos/autograd/autograd/core.py\u001b[0m in \u001b[0;36mtoposort\u001b[0;34m(end_node, start_node)\u001b[0m\n\u001b[1;32m    176\u001b[0m     \u001b[0;32mwhile\u001b[0m \u001b[0mstack\u001b[0m\u001b[0;34m:\u001b[0m\u001b[0;34m\u001b[0m\u001b[0m\n\u001b[1;32m    177\u001b[0m         \u001b[0mnode\u001b[0m \u001b[0;34m=\u001b[0m \u001b[0mstack\u001b[0m\u001b[0;34m.\u001b[0m\u001b[0mpop\u001b[0m\u001b[0;34m(\u001b[0m\u001b[0;34m)\u001b[0m\u001b[0;34m\u001b[0m\u001b[0m\n\u001b[0;32m--> 178\u001b[0;31m         \u001b[0;32mif\u001b[0m \u001b[0mnode\u001b[0m \u001b[0;32min\u001b[0m \u001b[0mchild_counts\u001b[0m\u001b[0;34m:\u001b[0m\u001b[0;34m\u001b[0m\u001b[0m\n\u001b[0m\u001b[1;32m    179\u001b[0m             \u001b[0mchild_counts\u001b[0m\u001b[0;34m[\u001b[0m\u001b[0mnode\u001b[0m\u001b[0;34m]\u001b[0m \u001b[0;34m+=\u001b[0m \u001b[0;36m1\u001b[0m\u001b[0;34m\u001b[0m\u001b[0m\n\u001b[1;32m    180\u001b[0m         \u001b[0;32melse\u001b[0m\u001b[0;34m:\u001b[0m\u001b[0;34m\u001b[0m\u001b[0m\n",
      "\u001b[0;32m/home/rgiordan/Documents/git_repos/autograd/autograd/numpy/numpy_extra.py\u001b[0m in \u001b[0;36m__hash__\u001b[0;34m(self)\u001b[0m\n\u001b[1;32m     64\u001b[0m     \u001b[0;32mdef\u001b[0m \u001b[0m__le__\u001b[0m\u001b[0;34m(\u001b[0m\u001b[0mself\u001b[0m\u001b[0;34m,\u001b[0m \u001b[0mother\u001b[0m\u001b[0;34m)\u001b[0m\u001b[0;34m:\u001b[0m \u001b[0;32mreturn\u001b[0m \u001b[0manp\u001b[0m\u001b[0;34m.\u001b[0m\u001b[0mless_equal\u001b[0m\u001b[0;34m(\u001b[0m\u001b[0mself\u001b[0m\u001b[0;34m,\u001b[0m \u001b[0mother\u001b[0m\u001b[0;34m)\u001b[0m\u001b[0;34m\u001b[0m\u001b[0m\n\u001b[1;32m     65\u001b[0m     \u001b[0;32mdef\u001b[0m \u001b[0m__abs__\u001b[0m\u001b[0;34m(\u001b[0m\u001b[0mself\u001b[0m\u001b[0;34m)\u001b[0m\u001b[0;34m:\u001b[0m \u001b[0;32mreturn\u001b[0m \u001b[0manp\u001b[0m\u001b[0;34m.\u001b[0m\u001b[0mabs\u001b[0m\u001b[0;34m(\u001b[0m\u001b[0mself\u001b[0m\u001b[0;34m)\u001b[0m\u001b[0;34m\u001b[0m\u001b[0m\n\u001b[0;32m---> 66\u001b[0;31m     \u001b[0;32mdef\u001b[0m \u001b[0m__hash__\u001b[0m\u001b[0;34m(\u001b[0m\u001b[0mself\u001b[0m\u001b[0;34m)\u001b[0m\u001b[0;34m:\u001b[0m \u001b[0;32mreturn\u001b[0m \u001b[0mid\u001b[0m\u001b[0;34m(\u001b[0m\u001b[0mself\u001b[0m\u001b[0;34m)\u001b[0m\u001b[0;34m\u001b[0m\u001b[0m\n\u001b[0m\u001b[1;32m     67\u001b[0m \u001b[0;34m\u001b[0m\u001b[0m\n\u001b[1;32m     68\u001b[0m \u001b[0;32mclass\u001b[0m \u001b[0mArrayVSpace\u001b[0m\u001b[0;34m(\u001b[0m\u001b[0mVSpace\u001b[0m\u001b[0;34m)\u001b[0m\u001b[0;34m:\u001b[0m\u001b[0;34m\u001b[0m\u001b[0m\n",
      "\u001b[0;31mKeyboardInterrupt\u001b[0m: "
     ]
    }
   ],
   "source": [
    "stein_gradient_generator_pert = SteinGradientGenerator(mvn_model_pert)\n",
    "\n",
    "last_scale = 1.0\n",
    "max_iter = 50\n",
    "i = 0\n",
    "grad_norm = float('inf')\n",
    "while i < max_iter and grad_norm > 0.1:\n",
    "    theta_draws_pert, stein_direction, last_scale = \\\n",
    "        get_stein_step(stein_gradient_generator_pert, theta_draws_pert, start_scale=last_scale)\n",
    "    grad_norm = np.linalg.norm(stein_direction)\n",
    "    i = i + 1\n",
    "    print('Iter {}: {}'.format(i, grad_norm))\n",
    "\n",
    "print('Done.')\n",
    "\n"
   ]
  },
  {
   "cell_type": "code",
   "execution_count": 24,
   "metadata": {},
   "outputs": [
    {
     "name": "stdout",
     "output_type": "stream",
     "text": [
      "[ 0.09677419  0.        ]\n",
      "[ 0.09709597  0.000321  ]\n"
     ]
    },
    {
     "data": {
      "text/plain": [
       "[<matplotlib.lines.Line2D at 0x7f685636a1d0>]"
      ]
     },
     "execution_count": 24,
     "metadata": {},
     "output_type": "execute_result"
    },
    {
     "data": {
      "image/png": "[encoded data removed]",
      "text/plain": [
       "<matplotlib.figure.Figure at 0x7f685636a7f0>"
      ]
     },
     "metadata": {},
     "output_type": "display_data"
    }
   ],
   "source": [
    "print(mvn_model_pert.get_post_mean() - mvn_model.get_post_mean())\n",
    "print(np.mean(theta_draws_pert, axis=0) - np.mean(theta_draws, axis=0))\n",
    "\n",
    "plt.plot(theta_draws[:, 0], theta_draws[:, 1], 'rx')\n",
    "plt.plot(theta_draws_pert[:, 0], theta_draws_pert[:, 1], 'bx')\n"
   ]
  }
 ],
 "metadata": {
  "kernelspec": {
   "display_name": "Python 3",
   "language": "python",
   "name": "python3"
  },
  "language_info": {
   "codemirror_mode": {
    "name": "ipython",
    "version": 3
   },
   "file_extension": ".py",
   "mimetype": "text/x-python",
   "name": "python",
   "nbconvert_exporter": "python",
   "pygments_lexer": "ipython3",
   "version": "3.5.2"
  }
 },
 "nbformat": 4,
 "nbformat_minor": 2
}
