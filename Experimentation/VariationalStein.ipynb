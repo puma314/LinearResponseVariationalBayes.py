{
 "cells": [
  {
   "cell_type": "code",
   "execution_count": 1,
   "metadata": {
    "collapsed": true
   },
   "outputs": [],
   "source": [
    "import autograd\n",
    "import autograd.numpy as np\n",
    "import autograd.scipy as sp\n",
    "\n",
    "import VariationalBayes as vb\n",
    "from copy import deepcopy\n",
    "\n",
    "import scipy as osp\n",
    "from scipy import stats\n",
    "\n",
    "import matplotlib.pyplot as plt\n",
    "%matplotlib inline\n"
   ]
  },
  {
   "cell_type": "code",
   "execution_count": 2,
   "metadata": {},
   "outputs": [],
   "source": [
    "\n",
    "class Kernel(object):\n",
    "    def __init__(self, c=1.0, beta=-0.5):\n",
    "        self.c = c\n",
    "        self.beta = beta\n",
    "        \n",
    "    def k(self, x, y):\n",
    "        xy_diff = x - y\n",
    "        return (self.c + np.dot(xy_diff, xy_diff)) ** self.beta\n",
    "\n",
    "    \n",
    "class MVNModel(object):\n",
    "    def __init__(self, obs, obs_info_mat, prior_loc):\n",
    "        self.prior_loc = deepcopy(prior_loc)\n",
    "        self.obs_dim = len(obs)\n",
    "        self.obs = obs\n",
    "        self.obs_info_mat = deepcopy(obs_info_mat)\n",
    "        self.prior_info_mat = np.eye(self.obs_dim)\n",
    "\n",
    "        self.theta = np.zeros(self.obs_dim)\n",
    "        \n",
    "    def get_log_post(self, broadcast=False):\n",
    "        if broadcast:\n",
    "            obs_centered = np.expand_dims(self.obs, 1) - self.theta\n",
    "            theta_centered = self.theta - np.expand_dims(self.prior_loc, 1)\n",
    "        else:\n",
    "            obs_centered = self.obs - self.theta\n",
    "            theta_centered = self.theta - self.prior_loc\n",
    "            \n",
    "        log_lik =  -0.5 * np.einsum(\n",
    "            'i...,ij,j...->...',\n",
    "            obs_centered, self.obs_info_mat, obs_centered)\n",
    "\n",
    "        log_prior =  -0.5 * np.einsum(\n",
    "            'i...,ij,j...->...',\n",
    "            theta_centered, self.prior_info_mat, theta_centered)\n",
    "        \n",
    "        return log_lik + log_prior\n",
    "    \n",
    "    def get_post_cov(self):\n",
    "        return np.linalg.inv(self.obs_info_mat + self.prior_info_mat)\n",
    "\n",
    "    def get_post_mean(self):\n",
    "        post_cov = self.get_post_cov()\n",
    "        post_suff_stat = np.matmul(self.obs_info_mat, obs) + \\\n",
    "                         np.matmul(self.prior_info_mat, self.prior_loc)\n",
    "        return np.matmul(post_cov, post_suff_stat)\n",
    "    \n",
    "    def set_theta_get_log_post(self, theta):\n",
    "        self.theta = theta\n",
    "        return self.get_log_post()\n",
    "\n"
   ]
  },
  {
   "cell_type": "code",
   "execution_count": 3,
   "metadata": {},
   "outputs": [
    {
     "name": "stdout",
     "output_type": "stream",
     "text": [
      "[ 0.19354839  0.48387097]\n",
      "[ 0.2  0.5]\n"
     ]
    }
   ],
   "source": [
    "obs_dim = 2\n",
    "obs = np.array([0.2, 0.5])\n",
    "obs_info_mat = 30 * np.eye(obs_dim)\n",
    "prior_loc = np.zeros(obs_dim)\n",
    "theta = np.full(obs_dim, 0.2)\n",
    "\n",
    "mvn_model = MVNModel(obs, obs_info_mat, prior_loc)\n",
    "print(mvn_model.get_post_mean())\n",
    "print(obs)\n",
    "\n"
   ]
  },
  {
   "cell_type": "code",
   "execution_count": 4,
   "metadata": {},
   "outputs": [
    {
     "name": "stdout",
     "output_type": "stream",
     "text": [
      "(30, 2)\n"
     ]
    }
   ],
   "source": [
    "num_draws = 30\n",
    "theta_draws = osp.stats.multivariate_normal.rvs(\n",
    "    size=num_draws, mean=mvn_model.get_post_mean(), cov=mvn_model.get_post_cov())\n",
    "print(theta_draws.shape)\n",
    "\n",
    "theta_mean = np.mean(theta_draws, axis=0)\n",
    "theta_sd = np.std(theta_draws, axis=0)\n",
    "theta_se = theta_sd / np.sqrt(num_draws)"
   ]
  },
  {
   "cell_type": "code",
   "execution_count": 10,
   "metadata": {},
   "outputs": [],
   "source": [
    "class SteinGradientGenerator(object):\n",
    "    def __init__(self, mvn_model):\n",
    "        self.mvn_model = deepcopy(mvn_model)\n",
    "        self.get_log_post_grad = autograd.grad(self.mvn_model.set_theta_get_log_post)\n",
    "        self.kernel = Kernel()\n",
    "        self.get_kernel_grad = autograd.grad(self.kernel.k, argnum=0)\n",
    "\n",
    "    def get_kernel_mat(self, theta_draws):\n",
    "        return np.array([[ self.kernel.k(t1, t2) for t2 in theta_draws] for t1 in theta_draws])\n",
    "    \n",
    "    def get_kernel_grad_mat(self, theta_draws):\n",
    "        # t1 is in the first index; it is this that we need to sum out for the gradient step.\n",
    "        return np.array([[ self.get_kernel_grad(t1, t2) for t2 in theta_draws] \\\n",
    "                           for t1 in theta_draws])\n",
    "\n",
    "    def get_post_grads(self, theta_draws):\n",
    "        return np.array([ self.get_log_post_grad(theta) for theta in theta_draws ])\n",
    "    \n",
    "    def get_stein_grad_term(self, theta_draws):\n",
    "        kernel_mat = self.get_kernel_mat(theta_draws)\n",
    "        post_grads = self.get_post_grads(theta_draws)\n",
    "        num_draws = theta_draws.shape[0]\n",
    "        return np.einsum('ij,jk->ik', kernel_mat, post_grads) / num_draws\n",
    "    \n",
    "    def get_stein_kernel_term(self, theta_draws):\n",
    "        num_draws = theta_draws.shape[0]\n",
    "        kernel_grad_mat = self.get_kernel_grad_mat(theta_draws)\n",
    "        return np.sum(kernel_grad_mat, axis=0) / num_draws\n",
    "    \n",
    "    def get_stein_direction(self, theta_draws):\n",
    "        return self.get_stein_grad_term(theta_draws) + self.get_stein_kernel_term(theta_draws)"
   ]
  },
  {
   "cell_type": "code",
   "execution_count": 11,
   "metadata": {},
   "outputs": [],
   "source": [
    "stein_gradient_generator = SteinGradientGenerator(mvn_model)\n",
    "\n",
    "def get_stein_direction(stein_gradient_generator, theta_draws):\n",
    "    stein_grad_term = stein_gradient_generator.get_stein_grad_term(theta_draws)\n",
    "    stein_kernel_term = stein_gradient_generator.get_stein_kernel_term(theta_draws)\n",
    "    stein_direction = stein_gradient_generator.get_stein_direction(theta_draws)\n",
    "    \n",
    "    return stein_direction\n",
    "\n",
    "def get_stein_step(stein_gradient_generator, theta_draws, start_scale=1.0):\n",
    "    stein_direction = get_stein_direction(stein_gradient_generator, theta_draws)\n",
    "\n",
    "    grad_mag = np.linalg.norm(stein_direction)\n",
    "    grad_mag_diff = np.float('inf')\n",
    "    scale = start_scale\n",
    "    while grad_mag_diff > 0.:\n",
    "        theta_update = theta_draws + scale * stein_direction\n",
    "        new_direction = get_stein_direction(stein_gradient_generator, theta_update)\n",
    "        new_grad_mag = np.linalg.norm(new_direction)\n",
    "        grad_mag_diff = new_grad_mag - grad_mag\n",
    "        if grad_mag_diff >= 0.:\n",
    "            scale *= 0.5\n",
    "            print('Difference: ', grad_mag_diff, ' decreasing scale to ', scale)\n",
    "        else:\n",
    "            print('Accepting step from ', grad_mag, ' to ', new_grad_mag)\n",
    "\n",
    "    return theta_update, stein_direction, scale\n"
   ]
  },
  {
   "cell_type": "code",
   "execution_count": 12,
   "metadata": {},
   "outputs": [
    {
     "name": "stdout",
     "output_type": "stream",
     "text": [
      "Difference:  37.1703636131  decreasing scale to  0.5\n",
      "Difference:  17.3040479533  decreasing scale to  0.25\n",
      "Difference:  7.30588839309  decreasing scale to  0.125\n",
      "Difference:  2.29278582575  decreasing scale to  0.0625\n",
      "Accepting step from  1.37402211972  to  1.16398769828\n",
      "Difference:  5.04390553149  decreasing scale to  0.108243638079\n",
      "Difference:  1.37082034563  decreasing scale to  0.0541218190394\n",
      "Accepting step from  1.16398769828  to  0.707749893272\n",
      "1.16398769828\n",
      "Difference:  0.265199641349  decreasing scale to  0.0405913642795\n",
      "Accepting step from  0.707749893272  to  0.202750551777\n",
      "0.707749893272\n",
      "Accepting step from  0.202750551777  to  0.17753958704\n",
      "0.202750551777\n",
      "Difference:  0.0457921856912  decreasing scale to  0.0456652848145\n",
      "Accepting step from  0.17753958704  to  0.138126430033\n",
      "0.17753958704\n",
      "Accepting step from  0.138126430033  to  0.12886300579\n",
      "0.138126430033\n",
      "Difference:  0.0056290105247  decreasing scale to  0.0513734454163\n",
      "Accepting step from  0.12886300579  to  0.117791628884\n",
      "0.12886300579\n",
      "Accepting step from  0.117791628884  to  0.109458364372\n",
      "0.117791628884\n",
      "Difference:  0.00238889966316  decreasing scale to  0.0577951260933\n",
      "Accepting step from  0.109458364372  to  0.101728218591\n",
      "0.109458364372\n",
      "Accepting step from  0.101728218591  to  0.0952537843382\n",
      "0.101728218591\n",
      "Difference:  0.0165686331707  decreasing scale to  0.065019516855\n",
      "Accepting step from  0.0952537843382  to  0.0892547038059\n",
      "0.0952537843382\n",
      "Difference:  0.00130045618855  decreasing scale to  0.0487646376413\n",
      "Accepting step from  0.0892547038059  to  0.0822510956507\n",
      "0.0892547038059\n",
      "Accepting step from  0.0822510956507  to  0.0772919006185\n",
      "0.0822510956507\n",
      "Accepting step from  0.0772919006185  to  0.0742838686909\n",
      "0.0772919006185\n",
      "Difference:  0.0500810357494  decreasing scale to  0.0822903260196\n",
      "Difference:  0.00204289130439  decreasing scale to  0.0411451630098\n",
      "Accepting step from  0.0742838686909  to  0.0671216337966\n",
      "0.0742838686909\n",
      "Accepting step from  0.0671216337966  to  0.0638353925956\n",
      "0.0671216337966\n",
      "Accepting step from  0.0638353925956  to  0.0602696404134\n",
      "0.0638353925956\n",
      "Accepting step from  0.0602696404134  to  0.0598102892867\n",
      "0.0602696404134\n",
      "Difference:  0.0806877050818  decreasing scale to  0.104148693869\n",
      "Difference:  0.0144678574378  decreasing scale to  0.0520743469343\n",
      "Accepting step from  0.0598102892867  to  0.0548807207516\n",
      "0.0598102892867\n",
      "Accepting step from  0.0548807207516  to  0.053584700574\n",
      "0.0548807207516\n",
      "Difference:  0.0116026725699  decreasing scale to  0.0585836403011\n",
      "Accepting step from  0.053584700574  to  0.0513962657629\n",
      "0.053584700574\n",
      "Done.\n"
     ]
    }
   ],
   "source": [
    "\n",
    "true_mean = mvn_model.get_post_mean()\n",
    "theta_draws = osp.stats.multivariate_normal.rvs(\n",
    "    size=50,\n",
    "    mean=mvn_model.get_post_mean(),\n",
    "    cov=mvn_model.get_post_cov())\n",
    "init_theta_draws = deepcopy(theta_draws)\n",
    "\n",
    "theta_sd = np.std(theta_draws, axis=0)\n",
    "num_draws = theta_draws.shape[0]\n",
    "theta_se = theta_sd / np.sqrt(num_draws)\n",
    "\n",
    "# This is the step size that changes the mean by no more than one\n",
    "# a standard error.\n",
    "theta_draws, stein_direction, last_scale = \\\n",
    "    get_stein_step(stein_gradient_generator, theta_draws, start_scale=1.0)\n",
    "last_scale = np.min(theta_se / np.abs(np.mean(stein_direction, axis=0)))\n",
    "\n",
    "for step in range(20):\n",
    "    theta_draws, stein_direction, last_scale = \\\n",
    "        get_stein_step(stein_gradient_generator, theta_draws, start_scale=1.5 * last_scale)\n",
    "    print(np.linalg.norm(stein_direction))\n",
    "\n",
    "print('Done.')\n",
    "\n"
   ]
  },
  {
   "cell_type": "code",
   "execution_count": 14,
   "metadata": {},
   "outputs": [
    {
     "name": "stdout",
     "output_type": "stream",
     "text": [
      "[[ 0.02756143 -0.00135533]\n",
      " [-0.00135533  0.02890398]] \n",
      "-----\n",
      " [[  3.15714089e-02   8.30317292e-06]\n",
      " [  8.30317292e-06   3.22490134e-02]] \n",
      "-----\n",
      " [[ 0.03225806  0.        ]\n",
      " [ 0.          0.03225806]]\n",
      "\n",
      "\n",
      "\n",
      "\n",
      "\n",
      "[ 0.19613355  0.48903547] \n",
      "-----\n",
      " [ 0.1928177   0.48346379] \n",
      "-----\n",
      " [ 0.19354839  0.48387097]\n"
     ]
    },
    {
     "data": {
      "text/plain": [
       "[<matplotlib.lines.Line2D at 0x7f68565b2198>]"
      ]
     },
     "execution_count": 14,
     "metadata": {},
     "output_type": "execute_result"
    },
    {
     "data": {
      "image/png": "[encoded data removed]",
      "text/plain": [
       "<matplotlib.figure.Figure at 0x7f685861cd68>"
      ]
     },
     "metadata": {},
     "output_type": "display_data"
    }
   ],
   "source": [
    "print(np.cov(np.transpose(init_theta_draws)), '\\n-----\\n',\n",
    "      np.cov(np.transpose(theta_draws)), '\\n-----\\n',\n",
    "      mvn_model.get_post_cov())\n",
    "\n",
    "print('\\n\\n\\n\\n')\n",
    "print(np.mean(init_theta_draws, axis=0), '\\n-----\\n',\n",
    "      np.mean(theta_draws, axis=0), '\\n-----\\n',\n",
    "      mvn_model.get_post_mean())\n",
    "\n",
    "plt.plot(theta_draws[:, 0], theta_draws[:, 1], 'rx')\n",
    "plt.plot(init_theta_draws[:, 0], init_theta_draws[:, 1], 'bx')\n"
   ]
  },
  {
   "cell_type": "code",
   "execution_count": 15,
   "metadata": {},
   "outputs": [
    {
     "name": "stdout",
     "output_type": "stream",
     "text": [
      "[ 0.09677419  0.        ]\n"
     ]
    }
   ],
   "source": [
    "prior_loc_pert = deepcopy(prior_loc)\n",
    "prior_loc_pert[0] += 3\n",
    "mvn_model_pert = MVNModel(obs, obs_info_mat, prior_loc_pert)\n",
    "theta_draws_pert = deepcopy(theta_draws)\n",
    "\n",
    "print(mvn_model_pert.get_post_mean() - mvn_model.get_post_mean())\n"
   ]
  },
  {
   "cell_type": "code",
   "execution_count": 25,
   "metadata": {},
   "outputs": [
    {
     "name": "stdout",
     "output_type": "stream",
     "text": [
      "Difference:  0.212338376544  decreasing scale to  0.5\n",
      "Difference:  0.0894643551866  decreasing scale to  0.25\n",
      "Difference:  0.030833663648  decreasing scale to  0.125\n",
      "Difference:  0.00649334354518  decreasing scale to  0.0625\n",
      "Accepting step from  0.0303102086151  to  0.0298828151952\n",
      "Iter 1: 0.03031020861511171\n",
      "Done.\n"
     ]
    }
   ],
   "source": [
    "stein_gradient_generator_pert = SteinGradientGenerator(mvn_model_pert)\n",
    "\n",
    "last_scale = 1.0\n",
    "max_iter = 50\n",
    "i = 0\n",
    "grad_norm = float('inf')\n",
    "while i < max_iter and grad_norm > 0.1:\n",
    "    theta_draws_pert, stein_direction, last_scale = \\\n",
    "        get_stein_step(stein_gradient_generator_pert, theta_draws_pert, start_scale=last_scale)\n",
    "    grad_norm = np.linalg.norm(stein_direction)\n",
    "    i = i + 1\n",
    "    print('Iter {}: {}'.format(i, grad_norm))\n",
    "\n",
    "print('Done.')\n",
    "\n"
   ]
  },
  {
   "cell_type": "code",
   "execution_count": 26,
   "metadata": {},
   "outputs": [
    {
     "name": "stdout",
     "output_type": "stream",
     "text": [
      "[ 0.09677419  0.        ]\n",
      "[ 0.09702677  0.00032459]\n"
     ]
    },
    {
     "data": {
      "text/plain": [
       "[<matplotlib.lines.Line2D at 0x7f6856313400>]"
      ]
     },
     "execution_count": 26,
     "metadata": {},
     "output_type": "execute_result"
    },
    {
     "data": {
      "image/png": "[encoded data removed]",
      "text/plain": [
       "<matplotlib.figure.Figure at 0x7f6856313898>"
      ]
     },
     "metadata": {},
     "output_type": "display_data"
    }
   ],
   "source": [
    "print(mvn_model_pert.get_post_mean() - mvn_model.get_post_mean())\n",
    "print(np.mean(theta_draws_pert, axis=0) - np.mean(theta_draws, axis=0))\n",
    "\n",
    "plt.plot(theta_draws[:, 0], theta_draws[:, 1], 'rx')\n",
    "plt.plot(theta_draws_pert[:, 0], theta_draws_pert[:, 1], 'bx')\n"
   ]
  }
 ],
 "metadata": {
  "kernelspec": {
   "display_name": "Python 3",
   "language": "python",
   "name": "python3"
  },
  "language_info": {
   "codemirror_mode": {
    "name": "ipython",
    "version": 3
   },
   "file_extension": ".py",
   "mimetype": "text/x-python",
   "name": "python",
   "nbconvert_exporter": "python",
   "pygments_lexer": "ipython3",
   "version": "3.5.2"
  }
 },
 "nbformat": 4,
 "nbformat_minor": 2
}
