{
 "cells": [
  {
   "cell_type": "code",
   "execution_count": 122,
   "metadata": {
    "collapsed": true
   },
   "outputs": [],
   "source": [
    "import autograd\n",
    "import autograd.numpy as np\n",
    "import autograd.scipy as sp\n",
    "\n",
    "import VariationalBayes as vb\n",
    "from copy import deepcopy\n",
    "\n",
    "import scipy as osp\n",
    "from scipy import stats\n",
    "\n",
    "import matplotlib.pyplot as plt\n",
    "%matplotlib inline\n"
   ]
  },
  {
   "cell_type": "code",
   "execution_count": 119,
   "metadata": {},
   "outputs": [],
   "source": [
    "\n",
    "class Kernel(object):\n",
    "    def __init__(self, c=1.0, beta=-0.5):\n",
    "        self.c = c\n",
    "        self.beta = beta\n",
    "        \n",
    "    def k(self, x, y):\n",
    "        xy_diff = x - y\n",
    "        return (self.c + np.dot(xy_diff, xy_diff)) ** self.beta\n",
    "\n",
    "    \n",
    "class MVNModel(object):\n",
    "    def __init__(self, obs, obs_info_mat, prior_loc):\n",
    "        self.prior_loc = deepcopy(prior_loc)\n",
    "        self.obs_dim = len(obs)\n",
    "        self.obs = obs\n",
    "        self.obs_info_mat = deepcopy(obs_info_mat)\n",
    "        self.prior_info_mat = np.eye(self.obs_dim)\n",
    "\n",
    "        self.theta = np.zeros(self.obs_dim)\n",
    "        \n",
    "    def get_log_post(self, broadcast=False):\n",
    "        if broadcast:\n",
    "            obs_centered = np.expand_dims(self.obs, 1) - self.theta\n",
    "            theta_centered = self.theta - np.expand_dims(self.prior_loc, 1)\n",
    "        else:\n",
    "            obs_centered = self.obs - self.theta\n",
    "            theta_centered = self.theta - self.prior_loc\n",
    "            \n",
    "        log_lik =  -0.5 * np.einsum(\n",
    "            'i...,ij,j...->...',\n",
    "            obs_centered, self.obs_info_mat, obs_centered)\n",
    "\n",
    "        log_prior =  -0.5 * np.einsum(\n",
    "            'i...,ij,j...->...',\n",
    "            theta_centered, self.prior_info_mat, theta_centered)\n",
    "        \n",
    "        return log_lik + log_prior\n",
    "    \n",
    "    def get_post_cov(self):\n",
    "        return np.linalg.inv(self.obs_info_mat + self.prior_info_mat)\n",
    "\n",
    "    def get_post_mean(self):\n",
    "        post_cov = self.get_post_cov()\n",
    "        post_suff_stat = np.matmul(self.obs_info_mat, obs) + \\\n",
    "                         np.matmul(self.prior_info_mat, self.prior_loc)\n",
    "        return np.matmul(post_cov, post_suff_stat)\n",
    "    \n",
    "    def set_theta_get_log_post(self, theta):\n",
    "        self.theta = theta\n",
    "        return self.get_log_post()\n",
    "\n"
   ]
  },
  {
   "cell_type": "code",
   "execution_count": 105,
   "metadata": {},
   "outputs": [
    {
     "name": "stdout",
     "output_type": "stream",
     "text": [
      "[ 0.19354839  0.48387097]\n",
      "[ 0.2  0.5]\n"
     ]
    }
   ],
   "source": [
    "obs_dim = 2\n",
    "obs = np.array([0.2, 0.5])\n",
    "obs_info_mat = 30 * np.eye(obs_dim)\n",
    "prior_loc = np.zeros(obs_dim)\n",
    "theta = np.full(obs_dim, 0.2)\n",
    "\n",
    "mvn_model = MVNModel(obs, obs_info_mat, prior_loc)\n",
    "print(mvn_model.get_post_mean())\n",
    "print(obs)\n",
    "\n"
   ]
  },
  {
   "cell_type": "code",
   "execution_count": 181,
   "metadata": {},
   "outputs": [
    {
     "name": "stdout",
     "output_type": "stream",
     "text": [
      "(30, 2)\n"
     ]
    }
   ],
   "source": [
    "num_draws = 30\n",
    "theta_draws = osp.stats.multivariate_normal.rvs(\n",
    "    size=num_draws, mean=mvn_model.get_post_mean(), cov=mvn_model.get_post_cov())\n",
    "print(theta_draws.shape)\n",
    "\n",
    "theta_mean = np.mean(theta_draws, axis=0)\n",
    "theta_sd = np.std(theta_draws, axis=0)\n",
    "theta_se = theta_sd / np.sqrt(num_draws)"
   ]
  },
  {
   "cell_type": "code",
   "execution_count": 168,
   "metadata": {},
   "outputs": [],
   "source": [
    "class SteinGradientGenerator(object):\n",
    "    def __init__(self, mvn_model):\n",
    "        self.mvn_model = mvn_model\n",
    "        self.get_log_post_grad = autograd.grad(self.mvn_model.set_theta_get_log_post)\n",
    "        self.kernel = Kernel()\n",
    "        self.get_kernel_grad = autograd.grad(kernel.k, argnum=0)\n",
    "\n",
    "    def get_kernel_mat(self, theta_draws):\n",
    "        return np.array([[ kernel.k(t1, t2) for t2 in theta_draws] for t1 in theta_draws])\n",
    "    \n",
    "    def get_kernel_grad_mat(self, theta_draws):\n",
    "        # t1 is in the first index; it is this that we need to sum out for the gradient step.\n",
    "        return np.array([[ get_kernel_grad(t1, t2) for t2 in theta_draws] \\\n",
    "                           for t1 in theta_draws])\n",
    "\n",
    "    def get_post_grads(self, theta_draws):\n",
    "        return np.array([ get_log_post_grad(theta) for theta in theta_draws ])\n",
    "    \n",
    "    def get_stein_grad_term(self, theta_draws):\n",
    "        kernel_mat = self.get_kernel_mat(theta_draws)\n",
    "        post_grads = self.get_post_grads(theta_draws)\n",
    "        num_draws = theta_draws.shape[0]\n",
    "        return np.einsum('ij,jk->ik', kernel_mat, post_grads) / num_draws\n",
    "    \n",
    "    def get_stein_kernel_term(self, theta_draws):\n",
    "        num_draws = theta_draws.shape[0]\n",
    "        kernel_grad_mat = self.get_kernel_grad_mat(theta_draws)\n",
    "        return np.sum(kernel_grad_mat, axis=0) / num_draws\n",
    "    \n",
    "    def get_stein_direction(self, theta_draws):\n",
    "        return self.get_stein_grad_term(theta_draws) + self.get_stein_kernel_term(theta_draws)"
   ]
  },
  {
   "cell_type": "code",
   "execution_count": 161,
   "metadata": {},
   "outputs": [
    {
     "name": "stdout",
     "output_type": "stream",
     "text": [
      "(30, 30)\n",
      "(30, 30, 2)\n"
     ]
    }
   ],
   "source": [
    "kernel = Kernel()\n",
    "get_kernel_grad = autograd.grad(kernel.k, argnum=0)\n",
    "print(kernel_mat.shape)\n",
    "#plt.matshow(kernel_mat); plt.colorbar()\n",
    "\n",
    "print(kernel_grad_mat.shape)\n"
   ]
  },
  {
   "cell_type": "code",
   "execution_count": 197,
   "metadata": {},
   "outputs": [],
   "source": [
    "stein_gradient_generator = SteinGradientGenerator(mvn_model)\n",
    "\n",
    "def update_theta(stein_gradient_generator, theta_draws):\n",
    "    stein_grad_term = stein_gradient_generator.get_stein_grad_term(theta_draws)\n",
    "    stein_kernel_term = stein_gradient_generator.get_stein_kernel_term(theta_draws)\n",
    "    stein_step = stein_gradient_generator.get_stein_direction(theta_draws)\n",
    "    theta_sd = np.std(theta_draws, axis=0)\n",
    "    num_draws = theta_draws.shape[0]\n",
    "    theta_se = theta_sd / np.sqrt(num_draws)\n",
    "\n",
    "    # This is the step size that changes the mean by no more than half a standard error.\n",
    "    stein_step_eps = 0.5 * np.min(theta_se / np.abs(np.mean(stein_step, axis=0)))\n",
    "    theta_update = theta_draws + stein_step_eps * stein_step\n",
    "\n",
    "    return theta_update, stein_step, stein_step_eps\n"
   ]
  },
  {
   "cell_type": "code",
   "execution_count": 201,
   "metadata": {},
   "outputs": [
    {
     "name": "stdout",
     "output_type": "stream",
     "text": [
      "[  4.58293346e-05   1.07220308e-03]\n",
      "Updating\n",
      "[ 0.01484262 -0.00921673]\n"
     ]
    }
   ],
   "source": [
    "\n",
    "true_mean = mvn_model.get_post_mean()\n",
    "theta_draws = osp.stats.multivariate_normal.rvs(\n",
    "    size=100,\n",
    "    mean=mvn_model.get_post_mean(),\n",
    "    cov=mvn_model.get_post_cov())\n",
    "print(np.mean(theta_draws, axis=0) - true_mean)\n",
    "\n",
    "last_theta = deepcopy(theta_draws)\n",
    "print('Updating')\n",
    "theta_draws, stein_step, stein_step_eps = update_theta(stein_gradient_generator, theta_draws)\n",
    "print(np.mean(theta_draws, axis=0) - true_mean)\n",
    "\n",
    "\n"
   ]
  }
 ],
 "metadata": {
  "kernelspec": {
   "display_name": "Python 3",
   "language": "python",
   "name": "python3"
  },
  "language_info": {
   "codemirror_mode": {
    "name": "ipython",
    "version": 3
   },
   "file_extension": ".py",
   "mimetype": "text/x-python",
   "name": "python",
   "nbconvert_exporter": "python",
   "pygments_lexer": "ipython3",
   "version": "3.5.2"
  }
 },
 "nbformat": 4,
 "nbformat_minor": 2
}
