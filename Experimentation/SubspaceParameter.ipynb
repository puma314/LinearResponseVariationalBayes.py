{
 "cells": [
  {
   "cell_type": "code",
   "execution_count": 1,
   "metadata": {
    "collapsed": true
   },
   "outputs": [],
   "source": [
    "\n",
    "import autograd.numpy as np"
   ]
  },
  {
   "cell_type": "code",
   "execution_count": 2,
   "metadata": {},
   "outputs": [
    {
     "name": "stdout",
     "output_type": "stream",
     "text": [
      "[[ -2.22044605e-16   2.22044605e-16]\n",
      " [ -1.11022302e-16  -3.33066907e-16]\n",
      " [ -1.11022302e-16   2.22044605e-16]\n",
      " [ -2.25514052e-17   3.33066907e-16]\n",
      " [ -1.11022302e-16  -2.22044605e-16]]\n",
      "[[  1.60650308e-16  -2.18247677e-16]\n",
      " [  1.16007203e-16   2.93239123e-16]\n",
      " [  1.35980948e-16  -2.21419996e-16]\n",
      " [  2.21160500e-17  -3.39747772e-16]\n",
      " [  1.11536342e-16   1.97973297e-16]]\n"
     ]
    }
   ],
   "source": [
    "k = 5\n",
    "const_k = 2\n",
    "\n",
    "constraint_mat = np.random.random((const_k, k))\n",
    "\n",
    "# Projection onto and perpindicular to the rows of x.\n",
    "def make_projection_matrices(x):\n",
    "    xx = np.matmul(x, x.T)\n",
    "    proj_parallel = np.matmul(x.T, np.linalg.solve(xx, x))\n",
    "    proj_perp = np.eye(x.shape[1]) - proj_parallel\n",
    "    return proj_parallel, proj_perp\n",
    "\n",
    "proj_parallel, proj_perp = make_projection_matrices(constraint_mat)\n",
    "print(np.matmul(proj_parallel, constraint_mat.T) - constraint_mat.T) \n",
    "print(np.matmul(proj_perp, constraint_mat.T))\n",
    "\n"
   ]
  },
  {
   "cell_type": "code",
   "execution_count": 3,
   "metadata": {},
   "outputs": [
    {
     "name": "stdout",
     "output_type": "stream",
     "text": [
      "[False False  True  True  True]\n",
      "[[ 0.39080477  0.61195798  0.02580819]\n",
      " [-0.57342487  0.33774402 -0.17998247]\n",
      " [-0.3946543  -0.37768697  0.64308703]\n",
      " [-0.32270145 -0.2611027  -0.7214113 ]\n",
      " [ 0.50849514 -0.54828309 -0.18150775]]\n",
      "[[  3.25294577e-17   1.56347069e-16  -4.13729665e-16]\n",
      " [  1.12319992e-16   2.35106223e-16  -2.29809603e-16]]\n"
     ]
    }
   ],
   "source": [
    "evals, evec = np.linalg.eigh(proj_perp)\n",
    "keep_cols = np.abs(evals) > 1e-8\n",
    "print(keep_cols)\n",
    "assert(np.sum(keep_cols) == k - const_k)\n",
    "proj_basis = evec[:, keep_cols]\n",
    "print(proj_basis)\n",
    "print(np.matmul(constraint_mat, proj_basis))"
   ]
  },
  {
   "cell_type": "code",
   "execution_count": null,
   "metadata": {},
   "outputs": [],
   "source": []
  }
 ],
 "metadata": {
  "kernelspec": {
   "display_name": "Python 3",
   "language": "python",
   "name": "python3"
  },
  "language_info": {
   "codemirror_mode": {
    "name": "ipython",
    "version": 3
   },
   "file_extension": ".py",
   "mimetype": "text/x-python",
   "name": "python",
   "nbconvert_exporter": "python",
   "pygments_lexer": "ipython3",
   "version": "3.5.2"
  }
 },
 "nbformat": 4,
 "nbformat_minor": 2
}
