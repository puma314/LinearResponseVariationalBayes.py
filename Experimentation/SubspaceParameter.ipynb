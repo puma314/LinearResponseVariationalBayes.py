{
 "cells": [
  {
   "cell_type": "code",
   "execution_count": 2,
   "metadata": {
    "collapsed": true
   },
   "outputs": [],
   "source": [
    "\n",
    "import autograd.numpy as np"
   ]
  },
  {
   "cell_type": "code",
   "execution_count": 13,
   "metadata": {},
   "outputs": [
    {
     "name": "stdout",
     "output_type": "stream",
     "text": [
      "[[  0.00000000e+00   2.22044605e-16]\n",
      " [ -1.11022302e-15   8.88178420e-16]\n",
      " [ -5.55111512e-16   3.33066907e-16]\n",
      " [  1.80411242e-16  -8.32667268e-17]\n",
      " [  1.33226763e-15  -6.66133815e-16]]\n",
      "[[ -4.53630496e-17  -1.87180097e-16]\n",
      " [  1.08355104e-15  -8.92898308e-16]\n",
      " [  4.67458997e-16  -2.54093419e-16]\n",
      " [ -1.67415497e-16   9.34549145e-17]\n",
      " [ -1.36925024e-15   7.17126978e-16]]\n"
     ]
    }
   ],
   "source": [
    "k = 5\n",
    "const_k = 2\n",
    "\n",
    "constraint_mat = np.random.random((const_k, k))\n",
    "\n",
    "# Projection onto and perpindicular to the rows of x.\n",
    "def make_projection_matrices(x):\n",
    "    xx = np.matmul(x, x.T)\n",
    "    proj_parallel = np.matmul(x.T, np.linalg.solve(xx, x))\n",
    "    proj_perp = np.eye(x.shape[1]) - proj_parallel\n",
    "    return proj_parallel, proj_perp\n",
    "\n",
    "proj_parallel, proj_perp = make_projection_matrices(constraint_mat)\n",
    "print(np.matmul(proj_parallel, constraint_mat.T) - constraint_mat.T) \n",
    "print(np.matmul(proj_perp, constraint_mat.T))\n",
    "\n"
   ]
  },
  {
   "cell_type": "code",
   "execution_count": 31,
   "metadata": {},
   "outputs": [
    {
     "name": "stdout",
     "output_type": "stream",
     "text": [
      "[False False  True  True  True]\n",
      "[[ 0.2001649   0.92561634  0.        ]\n",
      " [-0.5660542  -0.07342726  0.1109886 ]\n",
      " [ 0.71562763 -0.3504077  -0.16908614]\n",
      " [-0.23901084  0.03145768 -0.9635188 ]\n",
      " [-0.26508031 -0.11860726  0.17527958]]\n",
      "[[  2.07091328e-16   1.01323556e-16  -5.73177806e-17]\n",
      " [  2.00648442e-16   9.77637540e-17  -5.96295980e-17]]\n"
     ]
    }
   ],
   "source": [
    "evals, evec = np.linalg.eigh(proj_perp)\n",
    "keep_cols = np.abs(evals) > 1e-8\n",
    "print(keep_cols)\n",
    "assert(np.sum(keep_cols) == k - const_k)\n",
    "proj_basis = evec[:, keep_cols]\n",
    "print(proj_basis)\n",
    "print(np.matmul(constraint_mat, proj_basis))"
   ]
  },
  {
   "cell_type": "code",
   "execution_count": 30,
   "metadata": {},
   "outputs": [
    {
     "data": {
      "text/plain": [
       "array([[  2.07091328e-16,   1.01323556e-16,  -5.73177806e-17],\n",
       "       [  2.00648442e-16,   9.77637540e-17,  -5.96295980e-17]])"
      ]
     },
     "execution_count": 30,
     "metadata": {},
     "output_type": "execute_result"
    }
   ],
   "source": []
  }
 ],
 "metadata": {
  "kernelspec": {
   "display_name": "Python 3",
   "language": "python",
   "name": "python3"
  },
  "language_info": {
   "codemirror_mode": {
    "name": "ipython",
    "version": 3
   },
   "file_extension": ".py",
   "mimetype": "text/x-python",
   "name": "python",
   "nbconvert_exporter": "python",
   "pygments_lexer": "ipython3",
   "version": "3.5.2"
  }
 },
 "nbformat": 4,
 "nbformat_minor": 2
}
