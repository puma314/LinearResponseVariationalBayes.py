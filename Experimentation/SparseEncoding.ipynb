{
 "cells": [
  {
   "cell_type": "code",
   "execution_count": 48,
   "metadata": {},
   "outputs": [],
   "source": [
    "import autograd.numpy as np\n",
    "import autograd\n",
    "from autograd.core import primitive\n",
    "import copy\n",
    "\n",
    "from collections import OrderedDict\n",
    "\n",
    "from VariationalBayes import Parameters\n",
    "from VariationalBayes.Parameters import \\\n",
    "    ScalarParam, VectorParam, ArrayParam, \\\n",
    "    PosDefMatrixParam, PosDefMatrixParamVector\n",
    "from VariationalBayes.ParameterDictionary import ModelParamsDict\n",
    "import scipy as sp\n"
   ]
  },
  {
   "cell_type": "code",
   "execution_count": 7,
   "metadata": {},
   "outputs": [
    {
     "name": "stdout",
     "output_type": "stream",
     "text": [
      "ModelParamsDict:\n",
      "\tmat1:\n",
      "[[ 1.2  0.2]\n",
      " [ 0.2  1.2]]\n",
      "\tmat2:\n",
      "[[ 2.4  0.4]\n",
      " [ 0.4  2.4]]\n"
     ]
    }
   ],
   "source": [
    "k = 2\n",
    "\n",
    "mat = np.full(k ** 2, 0.2).reshape(k, k) + np.eye(k)\n",
    "vp_mat1 = PosDefMatrixParam('mat1', k, val=mat)\n",
    "vp_mat2 = PosDefMatrixParam('mat2', k, val=mat * 2.)\n",
    "\n",
    "mp = ModelParamsDict()\n",
    "mp.push_param(vp_mat1)\n",
    "mp.push_param(vp_mat2)\n",
    "\n",
    "print(mp)\n",
    "\n",
    "free_vec = mp.get_free()\n"
   ]
  },
  {
   "cell_type": "code",
   "execution_count": 44,
   "metadata": {},
   "outputs": [
    {
     "name": "stdout",
     "output_type": "stream",
     "text": [
      "[[ 1.2  0.2]\n",
      " [ 0.2  1.2]]\n",
      "[[ 2.4  0.4]\n",
      " [ 0.4  2.4]]\n",
      "--------\n",
      "[[[ 2.4         0.          0.          0.          0.          0.        ]\n",
      "  [ 0.2         1.09544512  0.          0.          0.          0.        ]]\n",
      "\n",
      " [[ 0.2         1.09544512  0.          0.          0.          0.        ]\n",
      "  [ 0.          0.36514837  2.33333333  0.          0.          0.        ]]]\n",
      "--------\n",
      "[[[ 0.          0.          0.          4.8         0.          0.        ]\n",
      "  [ 0.          0.          0.          0.4         1.54919334  0.        ]]\n",
      "\n",
      " [[ 0.          0.          0.          0.4         1.54919334  0.        ]\n",
      "  [ 0.          0.          0.          0.          0.51639778  4.66666667]]]\n"
     ]
    }
   ],
   "source": [
    "def get_param(mp, free_vec, par_name):\n",
    "    mp[par_name].set_free(free_vec[mp.free_indices_dict[par_name]])\n",
    "    return mp[par_name].get()\n",
    "\n",
    "print(get_param(mp, free_vec, 'mat1'))\n",
    "print(get_param(mp, free_vec, 'mat2'))\n",
    "\n",
    "get_param_jac = autograd.jacobian(get_param, argnum=1)\n",
    "\n",
    "print('--------')\n",
    "print(get_param_jac(mp, free_vec, 'mat1'))\n",
    "print('--------')\n",
    "print(get_param_jac(mp, free_vec, 'mat2'))\n",
    "\n"
   ]
  },
  {
   "cell_type": "code",
   "execution_count": 61,
   "metadata": {},
   "outputs": [
    {
     "name": "stdout",
     "output_type": "stream",
     "text": [
      "[[ 1.2  0.2]\n",
      " [ 0.2  1.2]]\n",
      "[[ 2.4  0.4]\n",
      " [ 0.4  2.4]]\n",
      "-----------------\n",
      "[[[ 2.4         0.          0.        ]\n",
      "  [ 0.2         1.09544512  0.        ]]\n",
      "\n",
      " [[ 0.2         1.09544512  0.        ]\n",
      "  [ 0.          0.36514837  2.33333333]]]\n",
      "-----------------\n",
      "[[[ 4.8         0.          0.        ]\n",
      "  [ 0.4         1.54919334  0.        ]]\n",
      "\n",
      " [[ 0.4         1.54919334  0.        ]\n",
      "  [ 0.          0.51639778  4.66666667]]]\n",
      "-----------------\n"
     ]
    }
   ],
   "source": [
    "@primitive\n",
    "def get_param_sparse(mp, free_vec, par_name):\n",
    "    return get_param(mp, free_vec, par_name)\n",
    "\n",
    "def get_free_vec(mp, free_vec, par_name):\n",
    "    return free_vec[mp.free_indices_dict[par_name]]\n",
    "\n",
    "def set_free_and_get(free_vec_par, par):\n",
    "    par.set_free(free_vec_par)\n",
    "    return par.get()\n",
    "\n",
    "mat1_sub_vec = get_free_vec(mp, free_vec, 'mat1')\n",
    "mat2_sub_vec = get_free_vec(mp, free_vec, 'mat2')\n",
    "print(set_free_and_get(mat1_sub_vec, mp['mat1']))\n",
    "print(set_free_and_get(mat2_sub_vec, mp['mat2']))\n",
    "\n",
    "jac_dict = OrderedDict()\n",
    "jac_dict['mat1'] = autograd.jacobian(lambda free_sub_vec: set_free_and_get(free_sub_vec, mp['mat1']))\n",
    "jac_dict['mat2'] = autograd.jacobian(lambda free_sub_vec: set_free_and_get(free_sub_vec, mp['mat2']))\n",
    "\n",
    "print(\"-----------------\")\n",
    "print(jac_dict['mat1'](mat1_sub_vec))\n",
    "print(\"-----------------\")\n",
    "print(jac_dict['mat2'](mat2_sub_vec))\n",
    "print(\"-----------------\")\n"
   ]
  },
  {
   "cell_type": "code",
   "execution_count": 98,
   "metadata": {},
   "outputs": [
    {
     "name": "stdout",
     "output_type": "stream",
     "text": [
      "(2, 2, 3)\n",
      "[ 0.35932676  0.70286063  0.7597611 ]\n",
      "[[ 0.30010286  0.60179243  0.53072853]\n",
      " [ 0.0592239   0.1010682   0.22903258]]\n",
      "[ 0.35932676  0.70286063  0.7597611 ]\n"
     ]
    }
   ],
   "source": [
    "foo = np.random.random((2, 2, 3))\n",
    "bar = np.random.random((2, 2))\n",
    "\n",
    "print((foo * np.expand_dims(bar, axis=2)).shape)\n",
    "print(np.sum(foo * np.expand_dims(bar, axis=2), (0, 1)))\n",
    "print(np.sum(foo * np.expand_dims(bar, axis=2), -2))\n",
    "print(np.sum([ foo[:, :, k] * bar for k in range(3) ], (1, 2)))"
   ]
  },
  {
   "cell_type": "code",
   "execution_count": 106,
   "metadata": {},
   "outputs": [
    {
     "name": "stdout",
     "output_type": "stream",
     "text": [
      "[[[ 0.  0.  0.  0.  0.  0.]\n",
      "  [ 0.  0.  0.  0.  0.  0.]]\n",
      "\n",
      " [[ 0.  0.  0.  0.  0.  0.]\n",
      "  [ 0.  0.  0.  0.  0.  0.]]]\n",
      "++++++++++++++\n",
      "[[[ 2.4         0.          0.          0.          0.          0.        ]\n",
      "  [ 0.2         1.09544512  0.          0.          0.          0.        ]]\n",
      "\n",
      " [[ 0.2         1.09544512  0.          0.          0.          0.        ]\n",
      "  [ 0.          0.36514837  2.33333333  0.          0.          0.        ]]]\n",
      "++++++++++++++\n",
      "[[[ 2.4         0.          0.          0.          0.          0.        ]\n",
      "  [ 0.2         1.09544512  0.          0.          0.          0.        ]]\n",
      "\n",
      " [[ 0.2         1.09544512  0.          0.          0.          0.        ]\n",
      "  [ 0.          0.36514837  2.33333333  0.          0.          0.        ]]]\n"
     ]
    }
   ],
   "source": [
    "def get_param_sparse_vjp(g, ans, vs, gvs, mp, free_vec, par_name):\n",
    "    jac = jac_dict[par_name](get_free_vec(mp, free_vec, par_name))\n",
    "#     print('++++++++++++++')\n",
    "#     print(g)\n",
    "#     print(par_name)\n",
    "#     print(jac)\n",
    "#     print(jac.shape)\n",
    "#     print('++++++++++++++')\n",
    "    par_jac = np.sum(jac * np.expand_dims(g, axis=2), (0, 1))\n",
    "    full_jac = np.zeros(free_vec.shape)\n",
    "    full_jac[mp.free_indices_dict[par_name]] = par_jac\n",
    "    return full_jac\n",
    "\n",
    "get_param_sparse.defvjp(get_param_sparse_vjp, argnum=1)\n",
    "\n",
    "get_param_sparse_jac = jacobian(get_param_sparse, argnum=1)\n",
    "print(get_param_sparse_jac(mp, free_vec, 'mat2') - get_param_jac(mp, free_vec, 'mat2'))\n",
    "\n",
    "print('++++++++++++++')\n",
    "print(get_param_sparse_jac(mp, free_vec, 'mat1'))\n",
    "print('++++++++++++++')\n",
    "print(get_param_jac(mp, free_vec, 'mat1'))\n",
    "\n"
   ]
  }
 ],
 "metadata": {
  "kernelspec": {
   "display_name": "Python 3",
   "language": "python",
   "name": "python3"
  },
  "language_info": {
   "codemirror_mode": {
    "name": "ipython",
    "version": 3
   },
   "file_extension": ".py",
   "mimetype": "text/x-python",
   "name": "python",
   "nbconvert_exporter": "python",
   "pygments_lexer": "ipython3",
   "version": "3.5.2"
  }
 },
 "nbformat": 4,
 "nbformat_minor": 2
}
