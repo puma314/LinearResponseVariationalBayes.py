{
 "cells": [
  {
   "cell_type": "code",
   "execution_count": 1,
   "metadata": {
    "collapsed": true
   },
   "outputs": [],
   "source": [
    "import autograd.numpy as np\n",
    "import autograd.scipy as sp\n",
    "import autograd\n",
    "from autograd.core import primitive\n",
    "import copy\n",
    "import time\n",
    "\n",
    "from collections import OrderedDict\n",
    "\n",
    "from VariationalBayes import Parameters\n",
    "from VariationalBayes import \\\n",
    "    ScalarParam, VectorParam, ArrayParam, \\\n",
    "    PosDefMatrixParam, PosDefMatrixParamVector, SimplexParam\n",
    "from VariationalBayes.ParameterDictionary import ModelParamsDict\n",
    "import scipy as osp\n",
    "from scipy.sparse import csr_matrix\n",
    "from scipy import sparse"
   ]
  },
  {
   "cell_type": "code",
   "execution_count": 13,
   "metadata": {},
   "outputs": [
    {
     "name": "stdout",
     "output_type": "stream",
     "text": [
      "3547870.43599\n",
      "3547870.43599\n"
     ]
    }
   ],
   "source": [
    "k = 2\n",
    "\n",
    "mat = np.full(k ** 2, 0.2).reshape(k, k) + np.eye(k)\n",
    "vp_array = ArrayParam('array', shape=(4, 5, 7))\n",
    "vp_mat = PosDefMatrixParam('mat', k, val=mat)\n",
    "vp_simplex = SimplexParam('simplex', shape=(5, 3))\n",
    "\n",
    "\n",
    "mp = ModelParamsDict()\n",
    "mp.push_param(vp_mat)\n",
    "mp.push_param(vp_simplex)\n",
    "mp.push_param(vp_array)\n",
    "\n",
    "def model(mp):\n",
    "    mat = mp['mat'].get()\n",
    "    array = mp['array'].get()\n",
    "    simplex = mp['simplex'].get()\n",
    "    \n",
    "    return np.sum(mat)**2 * np.sum(array)**2 * np.sum(simplex)**2\n",
    "\n",
    "def model_wrap_free(free_param, mp):\n",
    "    mp.set_free(free_param)\n",
    "    return model_wrap_vec(mp.get_vector(), mp)\n",
    "\n",
    "def model_wrap_vec(vec_param, mp):\n",
    "    mp.set_vector(vec_param)\n",
    "    return model(mp)\n",
    "\n",
    "free_vec = np.random.random(mp.free_size())\n",
    "mp.set_free(free_vec)\n",
    "mp_vec = mp.get_vector()\n",
    "\n",
    "print(model_wrap_free(free_vec, mp))\n",
    "print(model_wrap_vec(mp_vec, mp))\n",
    "\n",
    "model_wrap_free_jac = autograd.jacobian(model_wrap_free)\n",
    "model_wrap_vec_jac = autograd.jacobian(model_wrap_vec)\n",
    "model_wrap_free_hess = autograd.hessian(model_wrap_free)\n",
    "model_wrap_vec_hess = autograd.hessian(model_wrap_vec)\n",
    "\n",
    "free_jac_target = model_wrap_free_jac(free_vec, mp)\n",
    "vec_jac_target = model_wrap_vec_jac(mp_vec, mp)\n",
    "free_hess_target = model_wrap_free_hess(free_vec, mp)\n",
    "vec_hess_target = model_wrap_vec_hess(mp_vec, mp)\n",
    "\n"
   ]
  },
  {
   "cell_type": "markdown",
   "metadata": {},
   "source": [
    "I think we need two steps.  Let $L$ be the objective and $f$ be the constraining function, so that \n",
    "\n",
    "$$\n",
    "\\theta = f(z) \\\\\n",
    "L(\\theta) = L(f(z))\n",
    "$$\n",
    "\n",
    "We need\n",
    "\n",
    "$$\n",
    "\\frac{dL}{dz^T} = \\frac{dL}{d\\theta^T} \\frac{d\\theta}{dz} = \\frac{dL}{d\\theta^T} \\frac{df}{dz^T}\n",
    "$$\n",
    "\n",
    "and, using Einstein summation notation,\n",
    "\n",
    "$$\n",
    "\\frac{d^2 L}{dz_i dz_j} =\n",
    "    \\frac{d^2 L}{d\\theta_a d\\theta_b} \\frac{d\\theta_a}{dz_i} \\frac{d\\theta_b}{dz_j} +\n",
    "    \\frac{d L}{d\\theta_a} \\frac{d^2 \\theta_a}{dz_i dz_j}\n",
    "$$\n",
    "\n",
    "The term $\\frac{d^2 L}{d\\theta_a d\\theta_b}$ can be expressed using a combination of our ```get_vector()``` functions and a sparse matrix for the local variables.  $\\frac{d\\theta_a}{dz_i}$ can also be represented as a sparse matrix.  It may be best to store the term $\\frac{d^2 \\theta_a}{dz_i dz_j}$ in ```(value, a, i, j)``` format, and write a custom aggregator to return a sparse matrix when multiplied by $\\frac{d L}{d\\theta_a}$, since it is possible that this is not efficient in general [(discussion)](https://stackoverflow.com/questions/29871669/python-multi-dimensional-sparse-array).\n"
   ]
  },
  {
   "cell_type": "code",
   "execution_count": 29,
   "metadata": {},
   "outputs": [
    {
     "name": "stdout",
     "output_type": "stream",
     "text": [
      "free:  153\n",
      "vec:  158\n",
      "free:  (153, 153)\n",
      "vec:  (158, 158)\n",
      "(158, 153)\n",
      "(158,)\n"
     ]
    },
    {
     "name": "stderr",
     "output_type": "stream",
     "text": [
      "/home/rgiordan/Documents/git_repos/autograd/autograd/core.py:16: UserWarning: Output seems independent of input.\n",
      "  warnings.warn(\"Output seems independent of input.\")\n"
     ]
    }
   ],
   "source": [
    "print('free: ', len(free_vec))\n",
    "print('vec: ', len(mp_vec))\n",
    "print('free: ', free_hess_target.shape)\n",
    "print('vec: ', vec_hess_target.shape)\n",
    "\n",
    "def free_to_vec(free_vec, mp):\n",
    "    mp.set_free(free_vec)\n",
    "    return mp.get_vector()\n",
    "\n",
    "# get_free_to_vec_jacobian = autograd.jacobian(free_to_vec)\n",
    "# get_free_to_vec_hessian = autograd.hessian(free_to_vec)\n",
    "\n",
    "'Calculating:'\n",
    "free_to_vec_jacobian = mp.free_to_vector_jac(free_vec)\n",
    "free_to_vec_hessian = mp.free_to_vector_hess(free_vec)\n",
    "print(free_to_vec_jacobian.shape)\n",
    "print(free_to_vec_hessian.shape)"
   ]
  },
  {
   "cell_type": "code",
   "execution_count": 37,
   "metadata": {},
   "outputs": [
    {
     "data": {
      "text/plain": [
       "7.4505805969238281e-09"
      ]
     },
     "execution_count": 37,
     "metadata": {},
     "output_type": "execute_result"
    }
   ],
   "source": [
    "free_hess = csr_matrix((mp.free_size(), mp.free_size()))\n",
    "for vec_ind in range(mp.vector_size()):\n",
    "    free_hess += free_to_vec_hessian[vec_ind] * vec_jac_target[vec_ind]\n",
    "free_hess += \\\n",
    "    free_to_vec_jacobian.T * vec_hess_target * free_to_vec_jacobian\n",
    "\n",
    "np.max(np.abs(free_hess - free_hess_target))"
   ]
  },
  {
   "cell_type": "code",
   "execution_count": 64,
   "metadata": {},
   "outputs": [
    {
     "data": {
      "text/plain": [
       "[<matplotlib.lines.Line2D at 0x7f9dd3d5e358>]"
      ]
     },
     "execution_count": 64,
     "metadata": {},
     "output_type": "execute_result"
    },
    {
     "data": {
      "image/png": "[encoded data removed]",
      "text/plain": [
       "<matplotlib.figure.Figure at 0x7f9e14408828>"
      ]
     },
     "metadata": {},
     "output_type": "display_data"
    }
   ],
   "source": [
    "import matplotlib.pyplot as plt\n",
    "%matplotlib inline\n",
    "plt.plot(np.array(free_hess).flatten(), free_hess_target.flatten(), 'k.')"
   ]
  }
 ],
 "metadata": {
  "kernelspec": {
   "display_name": "Python 3",
   "language": "python",
   "name": "python3"
  },
  "language_info": {
   "codemirror_mode": {
    "name": "ipython",
    "version": 3
   },
   "file_extension": ".py",
   "mimetype": "text/x-python",
   "name": "python",
   "nbconvert_exporter": "python",
   "pygments_lexer": "ipython3",
   "version": "3.5.2"
  }
 },
 "nbformat": 4,
 "nbformat_minor": 2
}
