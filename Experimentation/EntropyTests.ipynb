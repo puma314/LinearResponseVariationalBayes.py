{
 "cells": [
  {
   "cell_type": "code",
   "execution_count": 1,
   "metadata": {
    "collapsed": false
   },
   "outputs": [],
   "source": [
    "from VariationalBayes.ExponentialFamilies import \\\n",
    "    UnivariateNormalEntropy, MultivariateNormalEntropy, GammaEntropy, \\\n",
    "    MVNPrior, UVNPrior, GammaPrior\n",
    "\n",
    "from autograd import scipy as asp\n",
    "import numpy as np\n",
    "import scipy as sp"
   ]
  },
  {
   "cell_type": "code",
   "execution_count": 2,
   "metadata": {
    "collapsed": false
   },
   "outputs": [
    {
     "name": "stdout",
     "output_type": "stream",
     "text": [
      "1.61838779276\n",
      "1.62167108726\n",
      "1.62167108726\n"
     ]
    }
   ],
   "source": [
    "mean_par = 2.0\n",
    "var_par = 1.5\n",
    "num_draws = 10000\n",
    "norm_dist = sp.stats.norm(loc=mean_par, scale=np.sqrt(var_par)) \n",
    "draws = norm_dist.rvs(num_draws)\n",
    "print -np.mean(norm_dist.logpdf(draws))\n",
    "print UnivariateNormalEntropy(var_par)\n",
    "print sp.stats.norm.entropy(scale=np.sqrt(var_par))\n"
   ]
  },
  {
   "cell_type": "code",
   "execution_count": 10,
   "metadata": {
    "collapsed": false
   },
   "outputs": [
    {
     "name": "stdout",
     "output_type": "stream",
     "text": [
      "2.93096163958\n",
      "2.92903784481\n",
      "2.92903784481\n"
     ]
    }
   ],
   "source": [
    "mean_par = np.array([1., 2.])\n",
    "cov_par = np.eye(2) + np.full((2, 2), 0.1)\n",
    "num_draws = 50000\n",
    "norm_dist = sp.stats.multivariate_normal(mean=mean_par, cov=cov_par) \n",
    "draws = norm_dist.rvs(num_draws)\n",
    "print -np.mean(norm_dist.logpdf(draws))\n",
    "print MultivariateNormalEntropy(cov_par)\n",
    "print sp.stats.multivariate_normal.entropy(cov=cov_par)\n"
   ]
  },
  {
   "cell_type": "code",
   "execution_count": 23,
   "metadata": {
    "collapsed": false
   },
   "outputs": [
    {
     "name": "stdout",
     "output_type": "stream",
     "text": [
      "0.971206742221\n",
      "0.972109773009\n",
      "0.972109773009\n"
     ]
    }
   ],
   "source": [
    "shape = 3.0\n",
    "rate = 2.4\n",
    "num_draws = 50000\n",
    "loc = shape / rate\n",
    "scale = np.sqrt(shape) / rate\n",
    "gamma_dist = sp.stats.gamma(a=shape, scale=1 / rate) \n",
    "draws = gamma_dist.rvs(num_draws)\n",
    "print -np.mean(gamma_dist.logpdf(draws))\n",
    "print GammaEntropy(shape, rate)\n",
    "print gamma_dist.entropy()\n"
   ]
  }
 ],
 "metadata": {
  "kernelspec": {
   "display_name": "Python [Root]",
   "language": "python",
   "name": "Python [Root]"
  },
  "language_info": {
   "codemirror_mode": {
    "name": "ipython",
    "version": 2
   },
   "file_extension": ".py",
   "mimetype": "text/x-python",
   "name": "python",
   "nbconvert_exporter": "python",
   "pygments_lexer": "ipython2",
   "version": "2.7.12"
  }
 },
 "nbformat": 4,
 "nbformat_minor": 0
}
