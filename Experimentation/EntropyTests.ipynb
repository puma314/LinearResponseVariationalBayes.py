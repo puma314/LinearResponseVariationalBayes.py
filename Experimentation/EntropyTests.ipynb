{
 "cells": [
  {
   "cell_type": "code",
   "execution_count": 1,
   "metadata": {
    "collapsed": false
   },
   "outputs": [],
   "source": [
    "from VariationalBayes.ExponentialFamilies import \\\n",
    "    univariate_normal_entropy, multivariate_normal_entropy, gamma_entropy, \\\n",
    "    mvn_prior, uvn_prior, gamma_prior\n",
    "\n",
    "from autograd import scipy as asp\n",
    "import numpy as np\n",
    "import scipy as sp"
   ]
  },
  {
   "cell_type": "code",
   "execution_count": 2,
   "metadata": {
    "collapsed": false
   },
   "outputs": [
    {
     "name": "stdout",
     "output_type": "stream",
     "text": [
      "1.61838779276\n",
      "1.62167108726\n",
      "1.62167108726\n"
     ]
    }
   ],
   "source": [
    "mean_par = 2.0\n",
    "var_par = 1.5\n",
    "num_draws = 10000\n",
    "norm_dist = sp.stats.norm(loc=mean_par, scale=np.sqrt(var_par)) \n",
    "draws = norm_dist.rvs(num_draws)\n",
    "print -np.mean(norm_dist.logpdf(draws))\n",
    "print univariate_normal_entropy(var_par)\n",
    "print sp.stats.norm.entropy(scale=np.sqrt(var_par))\n"
   ]
  },
  {
   "cell_type": "code",
   "execution_count": 10,
   "metadata": {
    "collapsed": false
   },
   "outputs": [
    {
     "name": "stdout",
     "output_type": "stream",
     "text": [
      "2.93096163958\n",
      "2.92903784481\n",
      "2.92903784481\n"
     ]
    }
   ],
   "source": [
    "mean_par = np.array([1., 2.])\n",
    "cov_par = np.eye(2) + np.full((2, 2), 0.1)\n",
    "num_draws = 50000\n",
    "norm_dist = sp.stats.multivariate_normal(mean=mean_par, cov=cov_par) \n",
    "draws = norm_dist.rvs(num_draws)\n",
    "print -np.mean(norm_dist.logpdf(draws))\n",
    "print multivariate_normal_entropy(cov_par)\n",
    "print sp.stats.multivariate_normal.entropy(cov=cov_par)\n"
   ]
  },
  {
   "cell_type": "code",
   "execution_count": 38,
   "metadata": {
    "collapsed": false
   },
   "outputs": [
    {
     "name": "stdout",
     "output_type": "stream",
     "text": [
      "0.97157723863\n",
      "0.972109773009\n",
      "0.972109773009\n",
      "0.0473155977446\n",
      "0.0503732770279\n",
      "1.25\n",
      "1.25232617674\n"
     ]
    }
   ],
   "source": [
    "shape = 3.0\n",
    "rate = 2.4\n",
    "num_draws = 50000\n",
    "loc = shape / rate\n",
    "scale = np.sqrt(shape) / rate\n",
    "gamma_dist = sp.stats.gamma(a=shape, scale=1 / rate) \n",
    "draws = gamma_dist.rvs(num_draws)\n",
    "print -np.mean(gamma_dist.logpdf(draws))\n",
    "print gamma_entropy(shape, rate)\n",
    "print gamma_dist.entropy()\n",
    "\n",
    "from VariationalBayes.GammaParams import GammaParam\n",
    "gp = GammaParam('gp')\n",
    "gp.shape.set(shape)\n",
    "gp.rate.set(rate)\n",
    "print gp.e_log()\n",
    "print np.mean(np.log(draws))\n",
    "\n",
    "print gp.e()\n",
    "print np.mean(draws)\n"
   ]
  },
  {
   "cell_type": "code",
   "execution_count": 36,
   "metadata": {
    "collapsed": false
   },
   "outputs": [
    {
     "name": "stdout",
     "output_type": "stream",
     "text": [
      "[[  -4.999    5.001]\n",
      " [ -49.998   50.002]\n",
      " [-499.997  500.003]]\n"
     ]
    }
   ],
   "source": [
    "rho_mean = np.array([0.001, 0.002, 0.003])\n",
    "rho_sd = np.array([10, 100, 1000])\n",
    "std_draws = np.array([-0.5, 0.5])\n",
    "z = np.einsum('i,j->ij', rho_sd, std_draws) + np.expand_dims(rho_mean, 1)\n",
    "print z\n"
   ]
  }
 ],
 "metadata": {
  "kernelspec": {
   "display_name": "Python [Root]",
   "language": "python",
   "name": "Python [Root]"
  },
  "language_info": {
   "codemirror_mode": {
    "name": "ipython",
    "version": 2
   },
   "file_extension": ".py",
   "mimetype": "text/x-python",
   "name": "python",
   "nbconvert_exporter": "python",
   "pygments_lexer": "ipython2",
   "version": "2.7.12"
  }
 },
 "nbformat": 4,
 "nbformat_minor": 0
}
