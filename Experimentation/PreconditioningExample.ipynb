{
 "cells": [
  {
   "cell_type": "markdown",
   "metadata": {},
   "source": [
    "## An example of how to use a linear transformation to precondition a CG solver."
   ]
  },
  {
   "cell_type": "code",
   "execution_count": 1,
   "metadata": {
    "collapsed": true
   },
   "outputs": [],
   "source": [
    "import autograd\n",
    "import autograd.numpy as np\n",
    "\n",
    "import matplotlib.pyplot as plt\n",
    "%matplotlib inline\n",
    "\n",
    "import time\n",
    "\n",
    "from copy import deepcopy\n",
    "import scipy as sp\n",
    "from scipy.sparse.linalg import LinearOperator\n",
    "from scipy import optimize\n",
    "from scipy import stats"
   ]
  },
  {
   "cell_type": "code",
   "execution_count": 80,
   "metadata": {},
   "outputs": [
    {
     "name": "stdout",
     "output_type": "stream",
     "text": [
      "[  1.11022302e-16   1.11022302e-16   0.00000000e+00   1.11022302e-16\n",
      "   1.11022302e-16   5.55111512e-17   0.00000000e+00   0.00000000e+00\n",
      "   0.00000000e+00   5.55111512e-17]\n",
      "-4.4408920985e-16\n",
      "0.0\n",
      "0.0\n",
      "6.55055105781e-16\n"
     ]
    }
   ],
   "source": [
    "class Objective(object):\n",
    "    def __init__(self, k, diag_min=1., diag_max=1., diag_exp=1., offdiag=0.1):\n",
    "        self.k = k\n",
    "        self.a = np.diag(np.linspace(diag_min, diag_max, k)  ** diag_exp) + np.full((k, k), offdiag)\n",
    "\n",
    "        self.grad = autograd.grad(self.objective)\n",
    "        self.hessian = autograd.hessian(self.objective)\n",
    "        self.hessian_vector_product = autograd.hessian_vector_product(self.objective)\n",
    "\n",
    "        self.grad_cond = autograd.grad(self.preconditioned_objective)\n",
    "        self.hessian_vector_product_cond = autograd.hessian_vector_product(self.preconditioned_objective)\n",
    "\n",
    "        self.set_preconditioner(np.identity(k))\n",
    "\n",
    "    def set_preconditioner(self, preconditioner):\n",
    "        self.preconditioner = preconditioner\n",
    "        self.preconditioner_inv = np.linalg.inv(preconditioner)\n",
    "        \n",
    "    def objective(self, x):\n",
    "        return 0.5 * np.matmul(x, np.matmul(self.a, x))\n",
    "\n",
    "    def preconditioned_objective(self, xhat):\n",
    "        x = self.get_x(xhat)\n",
    "        return self.objective(x)\n",
    "    \n",
    "    def get_xhat(self, x):\n",
    "        return np.matmul(self.preconditioner, x)\n",
    "\n",
    "    def get_x(self, xhat):\n",
    "        #return np.linalg.solve(self.preconditioner, xhat)\n",
    "        return np.matmul(self.preconditioner_inv, xhat)\n",
    "\n",
    "\n",
    "k = 10\n",
    "obj = Objective(k, offdiag=0.1)\n",
    "obj.set_preconditioner(np.diag(1. / np.diag(obj.a)))\n",
    "x = np.random.random(obj.k)\n",
    "xhat = obj.get_xhat(x)\n",
    "print(obj.get_x(xhat) - x)\n",
    "print(obj.objective(x) - obj.preconditioned_objective(xhat))\n",
    "\n",
    "g = obj.grad(x)\n",
    "hess = obj.hessian(x)\n",
    "hvp = obj.hessian_vector_product(x, g)\n",
    "xopt = np.full(obj.k, 0.)\n",
    "print(np.linalg.norm(np.matmul(hess, g) - hvp))\n",
    "print(np.linalg.norm(hess - obj.a))\n",
    "\n",
    "g_cond = obj.grad_cond(x)\n",
    "hvp_cond = obj.hessian_vector_product_cond(x, g)\n",
    "\n",
    "KLHessVecProdLO = LinearOperator((obj.k, obj.k), lambda vec: obj.hessian_vector_product(xopt, vec))\n",
    "hinv_vp, info = sp.sparse.linalg.cg(KLHessVecProdLO, g)\n",
    "print(np.linalg.norm(np.linalg.solve(hess, g) - hinv_vp))\n"
   ]
  },
  {
   "cell_type": "code",
   "execution_count": 84,
   "metadata": {},
   "outputs": [
    {
     "name": "stdout",
     "output_type": "stream",
     "text": [
      "\n",
      "\n",
      "Trust region:\n",
      "\n",
      "22\n",
      "Optimization terminated successfully.\n",
      "4.84559500808e-07\n",
      "\n",
      "\n",
      "Preconditioned:\n",
      "\n",
      "11\n",
      "Optimization terminated successfully.\n",
      "2.35739542919e-12\n"
     ]
    }
   ],
   "source": [
    "k = 300\n",
    "obj = Objective(k, offdiag=1.1, diag_min=2., diag_exp=2., diag_max=100.)\n",
    "preconditioner = sp.linalg.sqrtm(obj.a)\n",
    "#print(np.diag(np.linalg.solve(preconditioner.T, np.matmul(obj.a, np.linalg.inv(preconditioner)))))\n",
    "obj.set_preconditioner(preconditioner)\n",
    "x = np.random.random(obj.k)\n",
    "\n",
    "tr_opt = optimize.minimize(\n",
    "    obj.objective,\n",
    "    x0=x, jac=obj.grad, hessp=obj.hessian_vector_product,\n",
    "    method='trust-ncg', options={'maxiter': 500})\n",
    "\n",
    "tr_opt_cond = optimize.minimize(\n",
    "    obj.objective,\n",
    "    x0=obj.get_xhat(x), jac=obj.grad_cond, hessp=obj.hessian_vector_product_cond,\n",
    "    method='trust-ncg', options={'maxiter': 500})\n",
    "\n",
    "print('\\n\\nTrust region:\\n')\n",
    "print(tr_opt.nfev)\n",
    "print(tr_opt.message)\n",
    "print(np.linalg.norm(tr_opt.x)) # Should be 0\n",
    "\n",
    "print('\\n\\nPreconditioned:\\n')\n",
    "print(tr_opt_cond.nfev)\n",
    "print(tr_opt_cond.message)\n",
    "print(np.linalg.norm(tr_opt_cond.x)) # Should be 0\n"
   ]
  }
 ],
 "metadata": {
  "kernelspec": {
   "display_name": "Python 3",
   "language": "python",
   "name": "python3"
  },
  "language_info": {
   "codemirror_mode": {
    "name": "ipython",
    "version": 3
   },
   "file_extension": ".py",
   "mimetype": "text/x-python",
   "name": "python",
   "nbconvert_exporter": "python",
   "pygments_lexer": "ipython3",
   "version": "3.5.2"
  }
 },
 "nbformat": 4,
 "nbformat_minor": 2
}
