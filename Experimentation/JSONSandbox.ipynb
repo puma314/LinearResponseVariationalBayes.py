{
 "cells": [
  {
   "cell_type": "code",
   "execution_count": 3,
   "metadata": {
    "collapsed": true
   },
   "outputs": [],
   "source": [
    "import feather\n",
    "import json\n",
    "import pandas as pd\n",
    "import numpy as np"
   ]
  },
  {
   "cell_type": "code",
   "execution_count": 4,
   "metadata": {
    "collapsed": false
   },
   "outputs": [
    {
     "name": "stdout",
     "output_type": "stream",
     "text": [
      "{\"y\": [1.0, 2.0, 3.0], \"x\": 5.0, \"df_json\": \"{\\\"x\\\":{\\\"0\\\":5.0,\\\"1\\\":6.0},\\\"z\\\":{\\\"0\\\":10.0,\\\"1\\\":11.0}}\"}\n"
     ]
    }
   ],
   "source": [
    "x = 5.0\n",
    "y = [1., 2., 3.]\n",
    "\n",
    "df = pd.DataFrame({'x': [5., 6.], 'z': [10., 11.]})\n",
    "df_json = pd.DataFrame.to_json(df)\n",
    "\n",
    "json_string = json.dumps({ 'x': x, 'y': y, 'df_json': df_json })\n",
    "print json_string"
   ]
  },
  {
   "cell_type": "code",
   "execution_count": 24,
   "metadata": {
    "collapsed": false
   },
   "outputs": [
    {
     "name": "stdout",
     "output_type": "stream",
     "text": [
      "[0.6984, 0.6539, 0.5702, 0.9919, 0.6043]\n",
      "[1]\n",
      "[[1 4 7]\n",
      " [2 5 8]\n",
      " [3 6 9]]\n"
     ]
    },
    {
     "data": {
      "text/plain": [
       "7"
      ]
     },
     "execution_count": 24,
     "metadata": {},
     "output_type": "execute_result"
    }
   ],
   "source": [
    "# Use with json.R\n",
    "json_filename = '/tmp/foo.json'\n",
    "json_file = open(json_filename, 'r')\n",
    "json_dat = json.load(json_file)\n",
    "\n",
    "print json_dat['a']\n",
    "print json_dat['b']\n",
    "# print json_dat['df'] # Not useful\n",
    "print np.array(json_dat['mat'])\n",
    "np.array(json_dat['mat'])[0, 2] # Seems to read it in correctly."
   ]
  },
  {
   "cell_type": "code",
   "execution_count": 42,
   "metadata": {
    "collapsed": false
   },
   "outputs": [
    {
     "ename": "SyntaxError",
     "evalue": "invalid syntax (<ipython-input-42-f27c3c0f1ed2>, line 3)",
     "output_type": "error",
     "traceback": [
      "\u001b[1;36m  File \u001b[1;32m\"<ipython-input-42-f27c3c0f1ed2>\"\u001b[1;36m, line \u001b[1;32m3\u001b[0m\n\u001b[1;33m    mat = np.reshape(1:9, (3, 3))\u001b[0m\n\u001b[1;37m                      ^\u001b[0m\n\u001b[1;31mSyntaxError\u001b[0m\u001b[1;31m:\u001b[0m invalid syntax\n"
     ]
    }
   ],
   "source": [
    "json_filename = '/tmp/foo_python.json'\n",
    "json_file = open(json_filename, 'w')\n",
    "mat = np.reshape(range(9), (3, 3))\n",
    "vec = np.random.rand(10)\n",
    "mat_list = mat.tolist()\n",
    "vec_list = vec.tolist()\n",
    "json_dat = json.dumps({'mat': mat_list, 'vec': vec_list})\n",
    "json_file.write(json_dat)\n",
    "json_file.close()\n",
    "\n",
    "print mat\n"
   ]
  }
 ],
 "metadata": {
  "kernelspec": {
   "display_name": "Python [Root]",
   "language": "python",
   "name": "Python [Root]"
  },
  "language_info": {
   "codemirror_mode": {
    "name": "ipython",
    "version": 2
   },
   "file_extension": ".py",
   "mimetype": "text/x-python",
   "name": "python",
   "nbconvert_exporter": "python",
   "pygments_lexer": "ipython2",
   "version": "2.7.12"
  }
 },
 "nbformat": 4,
 "nbformat_minor": 0
}
