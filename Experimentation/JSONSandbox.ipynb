{
 "cells": [
  {
   "cell_type": "code",
   "execution_count": 10,
   "metadata": {
    "collapsed": true
   },
   "outputs": [],
   "source": [
    "import feather\n",
    "import json\n",
    "import pandas as pd\n",
    "import numpy as np"
   ]
  },
  {
   "cell_type": "code",
   "execution_count": 23,
   "metadata": {
    "collapsed": false
   },
   "outputs": [
    {
     "name": "stdout",
     "output_type": "stream",
     "text": [
      "{\"y\": [1.0, 2.0, 3.0], \"x\": 5.0, \"df_json\": \"{\\\"x\\\":{\\\"0\\\":5.0,\\\"1\\\":6.0},\\\"z\\\":{\\\"0\\\":10.0,\\\"1\\\":11.0}}\"}\n"
     ]
    }
   ],
   "source": [
    "x = 5.0\n",
    "y = [1., 2., 3.]\n",
    "\n",
    "df = pd.DataFrame({'x': [5., 6.], 'z': [10., 11.]})\n",
    "df_json = pd.DataFrame.to_json(df)\n",
    "\n",
    "json_string = json.dumps({ 'x': x, 'y': y, 'df_json': df_json })\n",
    "print json_string\n"
   ]
  }
 ],
 "metadata": {
  "kernelspec": {
   "display_name": "Python [Root]",
   "language": "python",
   "name": "Python [Root]"
  },
  "language_info": {
   "codemirror_mode": {
    "name": "ipython",
    "version": 2
   },
   "file_extension": ".py",
   "mimetype": "text/x-python",
   "name": "python",
   "nbconvert_exporter": "python",
   "pygments_lexer": "ipython2",
   "version": "2.7.12"
  }
 },
 "nbformat": 4,
 "nbformat_minor": 0
}
