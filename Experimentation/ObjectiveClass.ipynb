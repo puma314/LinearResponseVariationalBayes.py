{
 "cells": [
  {
   "cell_type": "code",
   "execution_count": 1,
   "metadata": {},
   "outputs": [],
   "source": [
    "from VariationalBayes.SparseObjectives import * \n",
    "import VariationalBayes as vb\n",
    "import autograd.numpy as np\n",
    "import autograd.numpy as sp\n",
    "\n",
    "import matplotlib.pyplot as plt\n",
    "%matplotlib inline\n"
   ]
  },
  {
   "cell_type": "code",
   "execution_count": 2,
   "metadata": {},
   "outputs": [
    {
     "name": "stdout",
     "output_type": "stream",
     "text": [
      "10\n"
     ]
    },
    {
     "data": {
      "image/png": "[encoded data removed]",
      "text/plain": [
       "<matplotlib.figure.Figure at 0x7f8b96893780>"
      ]
     },
     "metadata": {},
     "output_type": "display_data"
    }
   ],
   "source": [
    "def check_objective(obj):\n",
    "    free_par = obj.par.get_free()\n",
    "    vec_par = obj.par.get_vector()\n",
    "\n",
    "    obj.fun_free(free_par)\n",
    "    grad = obj.fun_free_grad(free_par)\n",
    "    obj.fun_free_hessian(free_par)\n",
    "    obj.fun_free_hvp(free_par, grad)\n",
    "\n",
    "    obj.fun_vector(vec_par)\n",
    "    grad = obj.fun_vector_grad(vec_par)\n",
    "    obj.fun_vector_hessian(vec_par)\n",
    "    obj.fun_vector_hvp(vec_par, grad)\n",
    "\n",
    "    \n",
    "mp = vb.ModelParamsDict('test')\n",
    "mp.push_param(vb.ArrayParam(name='global', shape=(2, 3, 5), lb=1.0))\n",
    "mp.push_param(vb.SimplexParam(name='local', shape=(5, 3)))\n",
    "\n",
    "class Model(object):\n",
    "    def __init__(self, mp):\n",
    "        self.mp = mp\n",
    "        \n",
    "    def fun(self):\n",
    "        a = self.mp['global'].get()\n",
    "        s = self.mp['local'].get()\n",
    "        return (np.sum(a) * np.sum(s ** 2)) ** 2\n",
    "    \n",
    "model = Model(mp)\n",
    "model.fun()\n",
    "\n",
    "# The whole model\n",
    "obj = Objective(model.mp, model.fun)\n",
    "free_par = np.random.random(obj.par.free_size())\n",
    "obj.par.set_free(free_par)\n",
    "check_objective(obj)\n",
    "\n",
    "hess = obj.fun_free_hessian(obj.par.get_free())\n",
    "plt.matshow(np.abs(hess)); plt.colorbar()\n",
    "\n",
    "# A single parameter.\n",
    "obj_a = Objective(model.mp['global'], model.fun)\n",
    "check_objective(obj_a)\n",
    "print(mp['local'].free_size())\n"
   ]
  },
  {
   "cell_type": "code",
   "execution_count": 3,
   "metadata": {},
   "outputs": [
    {
     "name": "stdout",
     "output_type": "stream",
     "text": [
      "['global', 'local']\n"
     ]
    }
   ],
   "source": [
    "print(list(model.mp.param_dict.keys()))"
   ]
  },
  {
   "cell_type": "code",
   "execution_count": 5,
   "metadata": {},
   "outputs": [
    {
     "name": "stdout",
     "output_type": "stream",
     "text": [
      "0.0\n",
      "5.68434188608e-14\n",
      "1.81898940355e-12\n",
      "2.72848410532e-12\n"
     ]
    },
    {
     "data": {
      "text/plain": [
       "2.7284841053187847e-12"
      ]
     },
     "execution_count": 5,
     "metadata": {},
     "output_type": "execute_result"
    }
   ],
   "source": [
    "# The whole model\n",
    "def max_diff(a, b):\n",
    "    diff = np.max(np.abs(a - b))\n",
    "    print(diff)\n",
    "    return diff\n",
    "\n",
    "spobj = SparseObjective(par=model.mp, fun=model.fun)\n",
    "vec_par = model.mp.get_vector()\n",
    "global_vec_par = model.mp['global'].get_vector()\n",
    "local_vec_par = model.mp['local'].get_vector()\n",
    "\n",
    "max_diff(spobj.fun_vector_grad_split(global_vec_par, local_vec_par),\n",
    "         obj.fun_vector_grad(vec_par))\n",
    "max_diff(spobj.fun_vector_hessian_split(global_vec_par, local_vec_par),\n",
    "      obj.fun_vector_hessian(vec_par))\n",
    "max_diff(spobj.fun_free_grad(free_par), obj.fun_free_grad(free_par))\n",
    "max_diff(spobj.fun_free_hessian(free_par), obj.fun_free_hessian(free_par))\n",
    "\n",
    "print('okey dokey')\n"
   ]
  }
 ],
 "metadata": {
  "kernelspec": {
   "display_name": "Python 3",
   "language": "python",
   "name": "python3"
  },
  "language_info": {
   "codemirror_mode": {
    "name": "ipython",
    "version": 3
   },
   "file_extension": ".py",
   "mimetype": "text/x-python",
   "name": "python",
   "nbconvert_exporter": "python",
   "pygments_lexer": "ipython3",
   "version": "3.5.2"
  }
 },
 "nbformat": 4,
 "nbformat_minor": 2
}
