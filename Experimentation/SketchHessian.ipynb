{
 "cells": [
  {
   "cell_type": "markdown",
   "metadata": {},
   "source": [
    "### This does not work well.  Note that in high dimensions, two random vectors are likely to be orthogonal.  This can be said of random vectors and the largest eigenvectors of the inverse Hessian."
   ]
  },
  {
   "cell_type": "code",
   "execution_count": 2,
   "metadata": {
    "collapsed": true
   },
   "outputs": [],
   "source": [
    "import autograd\n",
    "import autograd.numpy as np\n",
    "\n",
    "import matplotlib.pyplot as plt\n",
    "%matplotlib inline\n",
    "\n",
    "import time\n",
    "\n",
    "from copy import deepcopy\n",
    "import scipy as sp\n",
    "from scipy.sparse.linalg import LinearOperator\n",
    "from scipy import optimize\n",
    "from scipy import stats"
   ]
  },
  {
   "cell_type": "code",
   "execution_count": 427,
   "metadata": {
    "collapsed": true
   },
   "outputs": [],
   "source": [
    "class Objective(object):\n",
    "    def __init__(self, k):\n",
    "        self.k = k\n",
    "        self.a = np.diag(np.full(k, 1.0)) + np.full((k, k), 0.1)\n",
    "        #self.a = np.diag(np.linspace(2, 10, k) ** 2)\n",
    "        self.grad = autograd.grad(self.objective)\n",
    "        self.hessian = autograd.hessian(self.objective)\n",
    "        self.hessian_vector_product = autograd.hessian_vector_product(self.objective)\n",
    "        \n",
    "    def objective(self, x):\n",
    "        return 0.5 * np.matmul(x, np.matmul(self.a, x))\n",
    "\n",
    "k = 100\n",
    "obj = Objective(k)\n",
    "x = np.random.random(obj.k)\n",
    "obj.objective(x)\n",
    "g = obj.grad(x)\n",
    "hess = obj.hessian(x)\n",
    "obj.hessian_vector_product(x, g)\n",
    "xopt = np.full(obj.k, 0.)\n"
   ]
  },
  {
   "cell_type": "code",
   "execution_count": 429,
   "metadata": {},
   "outputs": [
    {
     "name": "stdout",
     "output_type": "stream",
     "text": [
      "[[  1.00000000e+00  -1.08785593e-17  -1.46836815e-19   3.04678139e-18\n",
      "    3.78221733e-18]\n",
      " [ -1.08785593e-17   1.00000000e+00  -4.96138920e-17   5.76458312e-17\n",
      "    1.23593925e-17]\n",
      " [ -1.46836815e-19  -4.96138920e-17   1.00000000e+00   7.29517593e-17\n",
      "    7.23101189e-17]\n",
      " [  3.04678139e-18   5.76458312e-17   7.29517593e-17   1.00000000e+00\n",
      "   -3.16249623e-18]\n",
      " [  3.78221733e-18   1.23593925e-17   7.23101189e-17  -3.16249623e-18\n",
      "    1.00000000e+00]]\n"
     ]
    }
   ],
   "source": [
    "def get_projection_matrix(mat):\n",
    "    # Approximate the inverse Hessian with the projection onto the sketching vectors.\n",
    "    mat_inner = np.matmul(mat.T, mat)\n",
    "    proj_term = np.linalg.solve(mat_inner, mat.T)\n",
    "    return np.matmul(mat, proj_term)\n",
    "\n",
    "def make_orthogonal(mat, vec):\n",
    "    proj_mat = get_projection_matrix(mat)\n",
    "    vec = vec - np.matmul(proj_mat, vec)\n",
    "    vec = vec / np.linalg.norm(vec)\n",
    "    return vec\n",
    "\n",
    "sketch_size = 5\n",
    "#sketch_vecs = np.random.random((obj.k, sketch_size))\n",
    "sketch_vecs_original = np.random.normal(size=(obj.k, sketch_size))\n",
    "sketch_vecs = np.full_like(sketch_vecs_original, float('nan'))\n",
    "\n",
    "# Orthogonalize the sketch.\n",
    "sketch_vecs[:, 0] = sketch_vecs_original[:, 0]\n",
    "sketch_vecs[:, 0] = sketch_vecs[:, 0] / np.linalg.norm(sketch_vecs[:, 0])\n",
    "for ind in range(1, sketch_size):\n",
    "    vec = make_orthogonal(sketch_vecs_original[:, range(ind)], sketch_vecs_original[:, ind])\n",
    "    sketch_vecs[:, ind] = vec\n",
    "    #proj_mat = get_projection_matrix(sketch_vecs_original[:, range(ind)])\n",
    "    #sketch_vecs[:, ind] = np.matmul((id_mat - proj_mat), sketch_vecs_original[:, ind])\n",
    "    #sketch_vecs[:, ind] = sketch_vecs[:, ind] / np.linalg.norm(sketch_vecs[:, ind])\n",
    "\n",
    "print(np.matmul(sketch_vecs.T, sketch_vecs))"
   ]
  },
  {
   "cell_type": "code",
   "execution_count": 403,
   "metadata": {
    "collapsed": true
   },
   "outputs": [],
   "source": [
    "hess_inv_products = np.full_like(sketch_vecs, float('nan'))\n",
    "\n",
    "KLHessVecProdLO = LinearOperator((obj.k, obj.k), lambda vec: obj.hessian_vector_product(xopt, vec))\n",
    "\n",
    "for ind in range(sketch_size):\n",
    "    cg_res, info = sp.sparse.linalg.cg(KLHessVecProdLO, sketch_vecs[:, ind])\n",
    "    hess_inv_products[:, ind] = cg_res\n",
    "\n",
    "hess_inv = np.linalg.inv(obj.hessian(xopt))\n",
    "\n",
    "# Approximate the inverse Hessian with the projection onto the sketching vectors.\n",
    "sketch_inner = np.matmul(sketch_vecs.T, sketch_vecs)\n",
    "sketch_proj_term = np.linalg.solve(sketch_inner, sketch_vecs.T)\n",
    "sketch_proj = np.matmul(sketch_vecs, sketch_proj_term)\n",
    "hess_inv_approx = np.matmul(hess_inv_products, sketch_proj_term)\n"
   ]
  },
  {
   "cell_type": "code",
   "execution_count": 405,
   "metadata": {},
   "outputs": [
    {
     "name": "stderr",
     "output_type": "stream",
     "text": [
      "/usr/local/lib/python3.5/dist-packages/numpy/core/numeric.py:531: ComplexWarning: Casting complex values to real discards the imaginary part\n",
      "  return array(a, dtype, copy=False, order=order)\n"
     ]
    },
    {
     "data": {
      "image/png": "[encoded data removed]",
      "text/plain": [
       "<matplotlib.figure.Figure at 0x7f79570bc9e8>"
      ]
     },
     "metadata": {},
     "output_type": "display_data"
    }
   ],
   "source": [
    "def plot_comparison(exact, approx):\n",
    "    plt.plot(exact, approx, 'k.')\n",
    "    line = [ np.min(exact), np.max(exact) ]\n",
    "    plt.plot(line, line, 'r')\n",
    "\n",
    "eigvals_approx = np.linalg.eigvals(hess_inv_approx)\n",
    "eigvals_exact = np.linalg.eigvals(hess_inv)\n",
    "plot_comparison(eigvals_exact, eigvals_approx)\n"
   ]
  },
  {
   "cell_type": "code",
   "execution_count": 414,
   "metadata": {},
   "outputs": [
    {
     "name": "stdout",
     "output_type": "stream",
     "text": [
      "Norm:  1.0\n",
      "Projection error:  0.975484656077\n",
      "Multiplication error:  0.0722276339507\n"
     ]
    },
    {
     "data": {
      "image/png": "[encoded data removed]",
      "text/plain": [
       "<matplotlib.figure.Figure at 0x7f7956b9b400>"
      ]
     },
     "metadata": {},
     "output_type": "display_data"
    }
   ],
   "source": [
    "trial_vec = np.random.random(obj.k)\n",
    "trial_vec = trial_vec / np.linalg.norm(trial_vec)\n",
    "\n",
    "print('Norm: ',\n",
    "      np.linalg.norm(trial_vec))\n",
    "print('Projection error: ',\n",
    "      np.linalg.norm(np.matmul(sketch_proj, trial_vec) - trial_vec))\n",
    "hvp_approx = np.matmul(hess_inv_approx, trial_vec)\n",
    "hvp_exact = np.linalg.solve(hess, trial_vec)\n",
    "print('Multiplication error: ', np.linalg.norm(hvp_approx - hvp_exact))\n",
    "\n",
    "plot_comparison(hvp_exact, hvp_approx)\n"
   ]
  }
 ],
 "metadata": {
  "kernelspec": {
   "display_name": "Python 3",
   "language": "python",
   "name": "python3"
  },
  "language_info": {
   "codemirror_mode": {
    "name": "ipython",
    "version": 3
   },
   "file_extension": ".py",
   "mimetype": "text/x-python",
   "name": "python",
   "nbconvert_exporter": "python",
   "pygments_lexer": "ipython3",
   "version": "3.5.2"
  }
 },
 "nbformat": 4,
 "nbformat_minor": 2
}
