{
 "cells": [
  {
   "cell_type": "code",
   "execution_count": 1,
   "metadata": {},
   "outputs": [],
   "source": [
    "import VariationalBayes as vb\n",
    "import autograd\n",
    "from VariationalBayes import Modeling as modeling\n",
    "\n",
    "import autograd.numpy as np\n",
    "import matplotlib.pyplot as plt\n",
    "%matplotlib inline\n"
   ]
  },
  {
   "cell_type": "code",
   "execution_count": 12,
   "metadata": {},
   "outputs": [
    {
     "name": "stdout",
     "output_type": "stream",
     "text": [
      "[[ 2.42794278  2.31542069  2.63453555  2.3813179   2.86021061]\n",
      " [ 2.94272615  2.80561421  2.43277259  3.05773451  2.76670037]\n",
      " [ 2.22354862  2.86485362  2.59778288  2.59070149  2.28417594]]\n"
     ]
    }
   ],
   "source": [
    "def fun(z):\n",
    "    return np.log1p(np.exp(z))\n",
    "\n",
    "def fun_grad(z):\n",
    "    return np.exp(z) / (1 + np.exp(z))\n",
    "\n",
    "def fun_hess(z):\n",
    "    p = np.exp(z) / (1 + np.exp(z))\n",
    "    return p * (1 - p)\n",
    "\n",
    "def log_fun(z):\n",
    "    return np.log(fun(z))\n",
    "\n",
    "def log_fun_grad(z):\n",
    "    return 0. * fun(z)\n",
    "    return fun_grad(z) / fun(z)\n",
    "\n",
    "def log_fun_hess(z):\n",
    "    f_z = fun(z)\n",
    "    return 0. * f_z\n",
    "    return fun_hess(z) / f_z - (fun_grad(z) / f_z) ** 2\n",
    "\n",
    "std_draws = modeling.get_standard_draws(20)\n",
    "\n",
    "z_mean = np.random.random((3, 5)) + 2.0\n",
    "z_sd = np.exp(np.random.random((3, 5)) - 1.0)\n",
    "\n",
    "z0 = z_mean\n",
    "imp_means = modeling.importance_sampling_integrate_univariate_normal(\n",
    "    z_mean, z_sd, z0, log_fun, log_fun_grad, log_fun_hess, std_draws, aggregate_all=False)\n",
    "\n",
    "print(imp_means)"
   ]
  },
  {
   "cell_type": "code",
   "execution_count": null,
   "metadata": {
    "collapsed": true
   },
   "outputs": [],
   "source": [
    "draws_axis = z_sd.ndim\n",
    "z_draws = \\\n",
    "    np.expand_dims(z_sd, axis=draws_axis) * std_draws + \\\n",
    "    np.expand_dims(z_mean, axis=draws_axis)\n",
    "\n",
    "# By dividing by the number of standard draws after summing,\n",
    "# we add the sample means for all the observations.\n",
    "# Note that\n",
    "# log(1 - p) = log(1 / (1 + exp(z))) = -log(1 + exp(z))\n",
    "logit_term = \\\n",
    "    np.sum(np.log1p(np.exp(z_draws))) / std_draws.size\n"
   ]
  },
  {
   "cell_type": "code",
   "execution_count": 13,
   "metadata": {},
   "outputs": [],
   "source": [
    "std_draws_vec = [ 3, 5, 10, 30, 50, 100, 200, 500, 5000 ]\n",
    "\n",
    "imp_means = \\\n",
    "    [ modeling.importance_sampling_integrate_univariate_normal(\n",
    "      z_mean, z_sd, z0, log_fun, log_fun_grad, log_fun_hess,\n",
    "      modeling.get_standard_draws(num_std_draws), aggregate_all=True) \\\n",
    "      for num_std_draws in std_draws_vec ]\n",
    "    \n",
    "direct_means = \\\n",
    "    [ modeling.get_e_logistic_term_only(z_mean, z_sd, modeling.get_standard_draws(num_std_draws)) \\\n",
    "      for num_std_draws in std_draws_vec ]\n",
    "\n",
    "plt.plot(np.log10(std_draws_vec), direct_means, 'k.')\n",
    "plt.plot(np.log10(std_draws_vec), imp_means, 'r.')"
   ]
  },
  {
   "cell_type": "code",
   "execution_count": 14,
   "metadata": {},
   "outputs": [
    {
     "data": {
      "text/plain": [
       "[<matplotlib.lines.Line2D at 0x7f3092bd4278>]"
      ]
     },
     "execution_count": 14,
     "metadata": {},
     "output_type": "execute_result"
    },
    {
     "data": {
      "image/png": "[encoded data removed]",
      "text/plain": [
       "<matplotlib.figure.Figure at 0x7f3092b7d7f0>"
      ]
     },
     "metadata": {},
     "output_type": "display_data"
    }
   ],
   "source": [
    "\n",
    "plt.plot(np.log10(std_draws_vec), direct_means, 'k.')\n",
    "plt.plot(np.log10(std_draws_vec), imp_means, 'r.')"
   ]
  },
  {
   "cell_type": "code",
   "execution_count": 3,
   "metadata": {},
   "outputs": [
    {
     "name": "stdout",
     "output_type": "stream",
     "text": [
      "[[ 0.93572958  0.7626296   1.15765484  1.04964799  0.84785575]\n",
      " [ 0.94445288  0.98396326  1.16130879  1.28169693  0.90664068]\n",
      " [ 0.92360028  1.30242094  1.31187953  0.87827439  1.27274373]]\n"
     ]
    }
   ],
   "source": [
    "from VariationalBayes.Modeling import univariate_normal_log_prob\n",
    "\n",
    "# q(u) will be a univariate normal importance sampling distribution.\n",
    "# Its natural parameters are given by a Taylor expansion of log_fun.\n",
    "z_info = 1 / z_sd ** 2\n",
    "\n",
    "z_nat_param = z_info * z_mean\n",
    "z2_nat_param = -0.5 * z_info\n",
    "\n",
    "u_nat_param = z_nat_param + log_fun_grad(z0)\n",
    "u2_nat_param = z2_nat_param + log_fun_hess(z0)\n",
    "\n",
    "u_info = -2 * u2_nat_param\n",
    "u_sd = 1. / np.sqrt(u_info)\n",
    "u_mean = u_nat_param / u_info\n",
    "\n",
    "# print('log fun --------')\n",
    "# print(log_fun_grad(z0))\n",
    "# print(log_fun_hess(z0))\n",
    "\n",
    "# print('z nat params --------')\n",
    "# print(z_nat_param)\n",
    "# print(z2_nat_param)\n",
    "\n",
    "# print('u nat parmas --------')\n",
    "# print(u_nat_param)\n",
    "# print(u2_nat_param)\n",
    "\n",
    "# print('u sd and mean --------')\n",
    "# print(u_sd)\n",
    "# print(u_mean)\n",
    "\n",
    "# print('z sd and mean --------')\n",
    "# print(z_sd)\n",
    "# print(z_mean)\n",
    "\n",
    "draws_axis = u_sd.ndim\n",
    "u_draws = \\\n",
    "    np.expand_dims(u_sd, axis=draws_axis) * std_draws + \\\n",
    "    np.expand_dims(u_mean, axis=draws_axis)\n",
    "\n",
    "u_log_prob = univariate_normal_log_prob(\n",
    "    u_draws,\n",
    "    np.expand_dims(u_mean, axis=draws_axis),\n",
    "    np.expand_dims(u_info, axis=draws_axis))\n",
    "z_log_prob = univariate_normal_log_prob(\n",
    "    u_draws,\n",
    "    np.expand_dims(z_mean, axis=draws_axis),\n",
    "    np.expand_dims(z_info, axis=draws_axis))\n",
    "log_f_z = log_fun(u_draws)\n",
    "\n",
    "# Importance sampling\n",
    "log_imp_weights = np.exp(z_log_prob + log_f_z - u_log_prob)\n",
    "\n",
    "result = np.sum(log_imp_weights, axis=draws_axis) / len(std_draws)\n",
    "\n",
    "print(result)"
   ]
  },
  {
   "cell_type": "code",
   "execution_count": 32,
   "metadata": {},
   "outputs": [
    {
     "name": "stdout",
     "output_type": "stream",
     "text": [
      "dict_keys(['mu_prior_mean_c', 'beta_prior_var', 'NG', 'mu_prior_var', 'N', 'y_group', 'mu_prior_epsilon', 'x', 'tau_prior_alpha', 'K', 'tau_prior_beta', 'beta_prior_mean', 'mu_prior_var_c', 'y', 'mu_prior_mean', 'mu_prior_t'])\n"
     ]
    }
   ],
   "source": [
    "import VariationalBayes as vb\n",
    "import Models.LogisticGLMM_lib as logit_glmm\n",
    "from VariationalBayes.SparseObjectives import Objective, SparseObjective\n",
    "\n",
    "import matplotlib.pyplot as plt\n",
    "%matplotlib inline\n",
    "\n",
    "import numpy as np\n",
    "\n",
    "from autograd import jacobian\n",
    "\n",
    "import copy\n",
    "from scipy import optimize\n",
    "\n",
    "import os\n",
    "import json\n",
    "\n",
    "analysis_name = 'criteo_subsampled'\n",
    "\n",
    "data_dir = os.path.join(os.environ['GIT_REPO_LOC'], 'LRVBLogitGLMM/LogitGLMMLRVB/inst/data/')\n",
    "json_filename = os.path.join(data_dir, '%s_stan_dat.json' % analysis_name)\n",
    "json_output_filename = os.path.join(data_dir, '%s_python_vb_results.json' % analysis_name)\n",
    "\n",
    "json_file = open(json_filename, 'r')\n",
    "json_dat = json.load(json_file)\n",
    "json_file.close()\n",
    "\n",
    "stan_dat = json_dat['stan_dat']\n",
    "vp_base = json_dat['vp_base']\n",
    "\n",
    "print(stan_dat.keys())\n",
    "K = stan_dat['K'][0]\n",
    "NObs = stan_dat['N'][0]\n",
    "NG = stan_dat['NG'][0]\n",
    "#N = NObs / NG\n",
    "y_g_vec = np.array(stan_dat['y_group'])\n",
    "y_vec = np.array(stan_dat['y'])\n",
    "x_mat = np.array(stan_dat['x'])\n",
    "\n",
    "mu_info_min = vp_base['mu_info_min'][0]\n",
    "tau_alpha_min = vp_base['tau_alpha_min'][0]\n",
    "tau_beta_min = vp_base['tau_beta_min'][0]\n",
    "beta_diag_min = vp_base['beta_diag_min'][0]\n",
    "u_info_min = vp_base['u_info_min'][0]\n",
    "\n",
    "# Define a class to contain prior parameters.\n",
    "prior_par = vb.ModelParamsDict('Prior Parameters')\n",
    "\n",
    "prior_par.push_param(vb.VectorParam('beta_prior_mean', K, val=np.array(stan_dat['beta_prior_mean'])))\n",
    "beta_prior_info = np.linalg.inv(np.array(stan_dat['beta_prior_var']))\n",
    "prior_par.push_param(vb.PosDefMatrixParam('beta_prior_info', K, val=beta_prior_info))\n",
    "\n",
    "prior_par.push_param(vb.ScalarParam('mu_prior_mean', val=stan_dat['mu_prior_mean'][0]))\n",
    "prior_par.push_param(vb.ScalarParam('mu_prior_info', val=1 / stan_dat['mu_prior_var'][0]))\n",
    "\n",
    "prior_par.push_param(vb.ScalarParam('tau_prior_alpha', val=stan_dat['tau_prior_alpha'][0]))\n",
    "prior_par.push_param(vb.ScalarParam('tau_prior_beta', val=stan_dat['tau_prior_beta'][0]))\n",
    "\n",
    "# An index set to make sure jacobians match the order expected by R.\n",
    "prior_par_indices = copy.deepcopy(prior_par)\n",
    "prior_par_indices.set_name('Prior Indices')\n",
    "prior_par_indices.set_vector(np.array(range(prior_par_indices.vector_size())))\n",
    "\n",
    "glmm_fit = json_dat['glmm_fit']\n",
    "glmm_par['mu'].mean.set(glmm_fit['mu_mean'][0])\n",
    "glmm_par['mu'].info.set(1.0)\n",
    "\n",
    "tau_mean = 1.0 / glmm_fit['mu_sd'][0] ** 2\n",
    "tau_var = 1.0\n",
    "glmm_par['tau'].shape.set((tau_mean ** 2) / tau_var)\n",
    "glmm_par['tau'].rate.set(tau_var / tau_mean)\n",
    "\n",
    "glmm_par['beta'].mean.set(np.array(glmm_fit['beta_mean']))\n",
    "glmm_par['beta'].info.set(np.eye(K))\n",
    "\n",
    "glmm_par['u'].mean.set(np.array(glmm_fit['u_map']))\n",
    "glmm_par['u'].info.set(np.full(NG, 1.0))\n",
    "\n",
    "free_par_vec = glmm_par.get_free()\n",
    "init_par_vec = copy.deepcopy(free_par_vec)\n"
   ]
  },
  {
   "cell_type": "code",
   "execution_count": 33,
   "metadata": {},
   "outputs": [],
   "source": [
    "glmm_par = vb.ModelParamsDict('GLMM Parameters')\n",
    "\n",
    "# print(vp_base)\n",
    "\n",
    "glmm_par.push_param(\n",
    "    vb.UVNParam('mu', min_info=mu_info_min))\n",
    "glmm_par.push_param(\n",
    "    vb.GammaParam('tau', min_shape=tau_alpha_min, min_rate=tau_beta_min))\n",
    "glmm_par.push_param(vb.MVNParam('beta', K, min_info=beta_diag_min))\n",
    "glmm_par.push_param(vb.UVNParamVector('u', NG, min_info=u_info_min))\n",
    "\n",
    "model = logit_glmm.LogisticGLMM(glmm_par, prior_par, x_mat, y_vec, y_g_vec, 10)\n",
    "model.get_e_log_prior()\n",
    "model.get_log_lik()\n",
    "model.get_entropy()\n",
    "\n",
    "objective = Objective(model.glmm_par, model.get_kl)\n",
    "objective.fun_free(free_par_vec)\n",
    "\n",
    "glmm_par_opt = copy.deepcopy(glmm_par)\n",
    "def tr_optimize(trust_init, num_draws, maxiter=500):\n",
    "    model.set_draws(num_draws)\n",
    "    objective.logger.initialize()\n",
    "    objective.logger.print_every = 5\n",
    "    vb_opt = optimize.minimize(\n",
    "        lambda par: objective.fun_free(par, verbose=True),\n",
    "        x0=trust_init,\n",
    "        method='trust-ncg',\n",
    "        jac=objective.fun_free_grad,\n",
    "        hessp=objective.fun_free_hvp,\n",
    "        tol=1e-6, options={'maxiter': maxiter, 'disp': True, 'gtol': 1e-6 })\n",
    "    return vb_opt.x\n"
   ]
  },
  {
   "cell_type": "code",
   "execution_count": 34,
   "metadata": {},
   "outputs": [],
   "source": [
    "e_beta = glmm_par_opt['beta'].e()\n",
    "e_u = glmm_par_opt['u'].e()[model.y_g_vec]\n",
    "cov_beta = glmm_par['beta'].cov()\n",
    "var_u = glmm_par['u'].var()\n",
    "\n",
    "\n",
    "z_mean = e_u[y_g_vec] + np.matmul(x_mat, e_beta)\n",
    "z_sd = np.sqrt(\n",
    "    var_u[y_g_vec] + np.einsum('nk,kj,nj->n',\n",
    "                      x_mat, cov_beta, x_mat))\n",
    "\n",
    "std_draws_vec = [ 3, 5, 10, 30, 50, 100, 200, 500, 5000 ]\n",
    "\n",
    "z0 = z_mean\n",
    "print('Importance sampling')\n",
    "imp_means = \\\n",
    "    [ modeling.importance_sampling_integrate_univariate_normal(\n",
    "      z_mean, z_sd, z0, log_fun, log_fun_grad, log_fun_hess,\n",
    "      modeling.get_standard_draws(num_std_draws), aggregate_all=True) \\\n",
    "      for num_std_draws in std_draws_vec ]\n",
    "    \n",
    "print('Direct sampling')\n",
    "direct_means = \\\n",
    "    [ modeling.get_e_logistic_term_only(z_mean, z_sd, modeling.get_standard_draws(num_std_draws)) \\\n",
    "      for num_std_draws in std_draws_vec ]\n",
    "\n"
   ]
  },
  {
   "cell_type": "code",
   "execution_count": 35,
   "metadata": {},
   "outputs": [
    {
     "name": "stdout",
     "output_type": "stream",
     "text": [
      "(13014,)\n"
     ]
    },
    {
     "data": {
      "text/plain": [
       "[<matplotlib.lines.Line2D at 0x7f30927dd828>]"
      ]
     },
     "execution_count": 35,
     "metadata": {},
     "output_type": "execute_result"
    },
    {
     "data": {
      "image/png": "[encoded data removed]",
      "text/plain": [
       "<matplotlib.figure.Figure at 0x7f309270e7b8>"
      ]
     },
     "metadata": {},
     "output_type": "display_data"
    }
   ],
   "source": [
    "print(z_mean.shape)\n",
    "\n",
    "plt.plot(np.log10(std_draws_vec), direct_means, 'k.')\n",
    "plt.plot(np.log10(std_draws_vec), imp_means, 'r.')\n",
    "plt.plot(0, 0, 'r.')\n"
   ]
  }
 ],
 "metadata": {
  "kernelspec": {
   "display_name": "Python 3",
   "language": "python",
   "name": "python3"
  },
  "language_info": {
   "codemirror_mode": {
    "name": "ipython",
    "version": 3
   },
   "file_extension": ".py",
   "mimetype": "text/x-python",
   "name": "python",
   "nbconvert_exporter": "python",
   "pygments_lexer": "ipython3",
   "version": "3.5.2"
  }
 },
 "nbformat": 4,
 "nbformat_minor": 2
}
