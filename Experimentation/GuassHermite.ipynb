{
 "cells": [
  {
   "cell_type": "code",
   "execution_count": 12,
   "metadata": {
    "collapsed": true
   },
   "outputs": [],
   "source": [
    "import autograd\n",
    "import autograd.numpy as np\n",
    "import numpy as onp"
   ]
  },
  {
   "cell_type": "code",
   "execution_count": 18,
   "metadata": {},
   "outputs": [
    {
     "name": "stdout",
     "output_type": "stream",
     "text": [
      "137176.0\n",
      "[ 179936.   67072.]\n",
      "[[ 176352.   64992.]\n",
      " [  64992.   24768.]]\n",
      "[ 547680.  204288.]\n"
     ]
    }
   ],
   "source": [
    "degree = 5\n",
    "coeffs = np.zeros(degree)\n",
    "coeffs[degree - 1] = 1.0\n",
    "x = onp.polynomial.hermite.hermroots(coeffs)\n",
    "\n",
    "\n",
    "def foo(vec):\n",
    "    return np.sum(onp.polynomial.hermite.hermval(vec[0] * x + vec[1], coeffs))\n",
    "\n",
    "foo_grad = autograd.grad(foo)\n",
    "foo_hess = autograd.hessian(foo)\n",
    "foo_hess = autograd.hessian(foo)\n",
    "foo_hvp = autograd.hessian_vector_product(foo)\n",
    "\n",
    "x = np.array([2., 3.])\n",
    "print(foo(x))\n",
    "print(foo_grad(x))\n",
    "print(foo_hess(x))\n",
    "print(foo_hvp(x, x))\n",
    "\n"
   ]
  },
  {
   "cell_type": "code",
   "execution_count": 21,
   "metadata": {},
   "outputs": [
    {
     "name": "stdout",
     "output_type": "stream",
     "text": [
      "[-2.02018287 -0.95857246  0.          0.95857246  2.02018287]\n",
      "[ 0.01995324  0.39361932  0.94530872  0.39361932  0.01995324]\n"
     ]
    }
   ],
   "source": [
    "x, w = onp.polynomial.hermite.hermgauss(5)\n",
    "print(x)\n",
    "print(y)"
   ]
  }
 ],
 "metadata": {
  "kernelspec": {
   "display_name": "Python 3",
   "language": "python",
   "name": "python3"
  },
  "language_info": {
   "codemirror_mode": {
    "name": "ipython",
    "version": 3
   },
   "file_extension": ".py",
   "mimetype": "text/x-python",
   "name": "python",
   "nbconvert_exporter": "python",
   "pygments_lexer": "ipython3",
   "version": "3.5.2"
  }
 },
 "nbformat": 4,
 "nbformat_minor": 2
}
