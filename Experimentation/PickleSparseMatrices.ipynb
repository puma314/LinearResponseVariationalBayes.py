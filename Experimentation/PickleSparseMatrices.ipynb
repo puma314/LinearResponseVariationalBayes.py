{
 "cells": [
  {
   "cell_type": "code",
   "execution_count": 11,
   "metadata": {},
   "outputs": [
    {
     "name": "stdout",
     "output_type": "stream",
     "text": [
      "  (0, 0)\t1\n",
      "  (0, 1)\t2\n",
      "  (1, 1)\t3\n",
      "0\n"
     ]
    }
   ],
   "source": [
    "import numpy as np\n",
    "import scipy as sp\n",
    "from scipy.sparse import csr_matrix\n",
    "\n",
    "def pack_csr_matrix(sp_mat):\n",
    "    return { 'data': sp_mat.data,\n",
    "             'indices': sp_mat.indices,\n",
    "             'indptr': sp_mat.indptr,\n",
    "             'shape': sp_mat.shape }\n",
    "\n",
    "def unpack_csr_matrix(sp_mat_dict):\n",
    "    return csr_matrix(\n",
    "        ( sp_mat_dict['data'], sp_mat_dict['indices'], sp_mat_dict['indptr']),\n",
    "        shape = sp_mat_dict['shape'])\n",
    "\n",
    "foo = csr_matrix(np.array([[1, 2], [0, 3]]))\n",
    "print(foo)\n",
    "bar = unpack_csr_matrix(pack_csr_matrix(foo))\n",
    "print(np.max(np.abs(bar - foo)))\n",
    "\n",
    "# def save_sparse_csr(filename,array):\n",
    "#     np.savez(filename,data = array.data ,indices=array.indices,\n",
    "#              indptr =array.indptr, shape=array.shape )\n",
    "\n",
    "# def load_sparse_csr(filename):\n",
    "#     loader = np.load(filename)\n",
    "#     "
   ]
  }
 ],
 "metadata": {
  "kernelspec": {
   "display_name": "Python 3",
   "language": "python",
   "name": "python3"
  },
  "language_info": {
   "codemirror_mode": {
    "name": "ipython",
    "version": 3
   },
   "file_extension": ".py",
   "mimetype": "text/x-python",
   "name": "python",
   "nbconvert_exporter": "python",
   "pygments_lexer": "ipython3",
   "version": "3.5.2"
  }
 },
 "nbformat": 4,
 "nbformat_minor": 2
}
