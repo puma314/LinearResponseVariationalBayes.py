{
 "cells": [
  {
   "cell_type": "code",
   "execution_count": 6,
   "metadata": {},
   "outputs": [
    {
     "name": "stdout",
     "output_type": "stream",
     "text": [
      "  (0, 0)\t1\n",
      "  (0, 1)\t2\n",
      "  (1, 1)\t3\n",
      "{'indptr': array([0, 2, 3], dtype=int32), 'indices': array([0, 1, 1], dtype=int32), 'shape': (2, 2), 'data': array([1, 2, 3], dtype=int64)}\n"
     ]
    },
    {
     "ename": "TypeError",
     "evalue": "__init__() got an unexpected keyword argument 'indices'",
     "output_type": "error",
     "traceback": [
      "\u001b[0;31m---------------------------------------------------------------------------\u001b[0m",
      "\u001b[0;31mTypeError\u001b[0m                                 Traceback (most recent call last)",
      "\u001b[0;32m<ipython-input-6-97f25485aa8b>\u001b[0m in \u001b[0;36m<module>\u001b[0;34m()\u001b[0m\n\u001b[1;32m     18\u001b[0m \u001b[0mprint\u001b[0m\u001b[0;34m(\u001b[0m\u001b[0mfoo\u001b[0m\u001b[0;34m)\u001b[0m\u001b[0;34m\u001b[0m\u001b[0m\n\u001b[1;32m     19\u001b[0m \u001b[0mprint\u001b[0m\u001b[0;34m(\u001b[0m\u001b[0mpack_csr_matrix\u001b[0m\u001b[0;34m(\u001b[0m\u001b[0mfoo\u001b[0m\u001b[0;34m)\u001b[0m\u001b[0;34m)\u001b[0m\u001b[0;34m\u001b[0m\u001b[0m\n\u001b[0;32m---> 20\u001b[0;31m \u001b[0mbar\u001b[0m \u001b[0;34m=\u001b[0m \u001b[0munpack_csr_matrix\u001b[0m\u001b[0;34m(\u001b[0m\u001b[0mpack_csr_matrix\u001b[0m\u001b[0;34m(\u001b[0m\u001b[0mfoo\u001b[0m\u001b[0;34m)\u001b[0m\u001b[0;34m)\u001b[0m\u001b[0;34m\u001b[0m\u001b[0m\n\u001b[0m\u001b[1;32m     21\u001b[0m \u001b[0;34m\u001b[0m\u001b[0m\n\u001b[1;32m     22\u001b[0m \u001b[0;31m# def save_sparse_csr(filename,array):\u001b[0m\u001b[0;34m\u001b[0m\u001b[0;34m\u001b[0m\u001b[0m\n",
      "\u001b[0;32m<ipython-input-6-97f25485aa8b>\u001b[0m in \u001b[0;36munpack_csr_matrix\u001b[0;34m(sp_mat_dict)\u001b[0m\n\u001b[1;32m     13\u001b[0m                      \u001b[0mindices\u001b[0m \u001b[0;34m=\u001b[0m \u001b[0msp_mat_dict\u001b[0m\u001b[0;34m[\u001b[0m\u001b[0;34m'indices'\u001b[0m\u001b[0;34m]\u001b[0m\u001b[0;34m,\u001b[0m\u001b[0;34m\u001b[0m\u001b[0m\n\u001b[1;32m     14\u001b[0m                      \u001b[0mindptr\u001b[0m \u001b[0;34m=\u001b[0m \u001b[0msp_mat_dict\u001b[0m\u001b[0;34m[\u001b[0m\u001b[0;34m'indptr'\u001b[0m\u001b[0;34m]\u001b[0m\u001b[0;34m,\u001b[0m\u001b[0;34m\u001b[0m\u001b[0m\n\u001b[0;32m---> 15\u001b[0;31m                      shape = sp_mat_dict['shape'])\n\u001b[0m\u001b[1;32m     16\u001b[0m \u001b[0;34m\u001b[0m\u001b[0m\n\u001b[1;32m     17\u001b[0m \u001b[0mfoo\u001b[0m \u001b[0;34m=\u001b[0m \u001b[0mcsr_matrix\u001b[0m\u001b[0;34m(\u001b[0m\u001b[0mnp\u001b[0m\u001b[0;34m.\u001b[0m\u001b[0marray\u001b[0m\u001b[0;34m(\u001b[0m\u001b[0;34m[\u001b[0m\u001b[0;34m[\u001b[0m\u001b[0;36m1\u001b[0m\u001b[0;34m,\u001b[0m \u001b[0;36m2\u001b[0m\u001b[0;34m]\u001b[0m\u001b[0;34m,\u001b[0m \u001b[0;34m[\u001b[0m\u001b[0;36m0\u001b[0m\u001b[0;34m,\u001b[0m \u001b[0;36m3\u001b[0m\u001b[0;34m]\u001b[0m\u001b[0;34m]\u001b[0m\u001b[0;34m)\u001b[0m\u001b[0;34m)\u001b[0m\u001b[0;34m\u001b[0m\u001b[0m\n",
      "\u001b[0;31mTypeError\u001b[0m: __init__() got an unexpected keyword argument 'indices'"
     ]
    }
   ],
   "source": [
    "import numpy as np\n",
    "import scipy as sp\n",
    "from scipy.sparse import csr_matrix\n",
    "\n",
    "def pack_csr_matrix(sp_mat):\n",
    "    return { 'data': sp_mat.data,\n",
    "             'indices': sp_mat.indices,\n",
    "             'indptr': sp_mat.indptr,\n",
    "             'shape': sp_mat.shape }\n",
    "\n",
    "def unpack_csr_matrix(sp_mat_dict):\n",
    "    return csr_matrix(data = sp_mat_dict['data'],\n",
    "                     indices = sp_mat_dict['indices'],\n",
    "                     indptr = sp_mat_dict['indptr'],\n",
    "                     shape = sp_mat_dict['shape'])\n",
    "\n",
    "foo = csr_matrix(np.array([[1, 2], [0, 3]]))\n",
    "print(foo)\n",
    "print(pack_csr_matrix(foo))\n",
    "bar = unpack_csr_matrix(pack_csr_matrix(foo))\n",
    "\n",
    "# def save_sparse_csr(filename,array):\n",
    "#     np.savez(filename,data = array.data ,indices=array.indices,\n",
    "#              indptr =array.indptr, shape=array.shape )\n",
    "\n",
    "# def load_sparse_csr(filename):\n",
    "#     loader = np.load(filename)\n",
    "#     return csr_matrix((  loader['data'], loader['indices'], loader['indptr']),\n",
    "#                          shape = loader['shape'])"
   ]
  }
 ],
 "metadata": {
  "kernelspec": {
   "display_name": "Python 3",
   "language": "python",
   "name": "python3"
  },
  "language_info": {
   "codemirror_mode": {
    "name": "ipython",
    "version": 3
   },
   "file_extension": ".py",
   "mimetype": "text/x-python",
   "name": "python",
   "nbconvert_exporter": "python",
   "pygments_lexer": "ipython3",
   "version": "3.5.2"
  }
 },
 "nbformat": 4,
 "nbformat_minor": 2
}
