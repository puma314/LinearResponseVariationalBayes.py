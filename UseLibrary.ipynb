{
 "cells": [
  {
   "cell_type": "code",
   "execution_count": 1,
   "metadata": {
    "collapsed": false
   },
   "outputs": [],
   "source": [
    "from VariationalBayes import VectorParam, ScalarParam, PosDefMatrixParam, ModelParamsDict\n",
    "from autograd import grad, hessian, jacobian\n",
    "import math\n",
    "import autograd.numpy as np\n",
    "import autograd.numpy.random as npr\n",
    "import copy"
   ]
  },
  {
   "cell_type": "code",
   "execution_count": 2,
   "metadata": {
    "collapsed": false
   },
   "outputs": [
    {
     "name": "stdout",
     "output_type": "stream",
     "text": [
      "tau: 5\n",
      "mu: [ 1.  2.  3.]\n",
      "[[ 2.95445015  1.15420241  1.01953405  1.11669766]\n",
      " [ 1.15420241  2.0299483   0.70450234  0.92700096]\n",
      " [ 1.01953405  0.70450234  1.80972097  0.87935028]\n",
      " [ 1.11669766  0.92700096  0.87935028  2.04441947]]\n",
      "[[ -4.44089210e-16  -2.22044605e-16   0.00000000e+00  -2.22044605e-16]\n",
      " [ -2.22044605e-16  -4.44089210e-16   0.00000000e+00   0.00000000e+00]\n",
      " [  0.00000000e+00   0.00000000e+00   0.00000000e+00   0.00000000e+00]\n",
      " [ -2.22044605e-16   0.00000000e+00   0.00000000e+00   0.00000000e+00]]\n"
     ]
    }
   ],
   "source": [
    "mu = VectorParam(\"mu\", 3, lb=0, ub=10)\n",
    "mu.set(np.array([1., 2., 3.]))\n",
    "mu.get()\n",
    "foo = mu.get_free()\n",
    "mu.set_free(foo)\n",
    "mu.get()\n",
    "\n",
    "tau = ScalarParam('tau', lb=0, ub=float(\"inf\"))\n",
    "tau.set(5)\n",
    "# print dir(tau)\n",
    "tau.get_free()\n",
    "print tau\n",
    "print mu\n",
    "\n",
    "a = np.matrix(np.random.rand(4, 4))\n",
    "sigma_val = a * a.T + np.eye(4)\n",
    "\n",
    "print sigma_val\n",
    "\n",
    "sigma = PosDefMatrixParam('sigma', 4)\n",
    "sigma.set(sigma_val)\n",
    "sigma_0 = PosDefMatrixParam('sigma0', 4)\n",
    "sigma_0.set_free(sigma.get_free())\n",
    "print sigma_0.get() - sigma.get()"
   ]
  },
  {
   "cell_type": "code",
   "execution_count": 25,
   "metadata": {
    "collapsed": false
   },
   "outputs": [
    {
     "name": "stdout",
     "output_type": "stream",
     "text": [
      "['var_mu_0' 'var_mu_1' 'var_mu_2' 'e_mu_0' 'e_mu_1' 'e_mu_2']\n",
      "[ 2.   2.   2.   0.1  0.1  0.1]\n",
      "[ 0.69314718  0.69314718  0.69314718  0.1         0.1         0.1       ]\n",
      "ModelParamsList:\n",
      "\tvar_mu: [ 2.  2.  2.]\n",
      "\te_mu: [ 0.1  0.1  0.1]\n"
     ]
    }
   ],
   "source": [
    "# Build an object to contain a variational approximation to a K-dimensional multivariate normal.\n",
    "K = 3\n",
    "mvn_par = ModelParamsDict()\n",
    "\n",
    "mvn_par.push_param(VectorParam('e_mu', K))\n",
    "mvn_par.push_param(VectorParam('var_mu', K, lb=0))\n",
    "\n",
    "mvn_par['e_mu'].set(np.full(K, 0.1))\n",
    "mvn_par['var_mu'].set(np.full(K, 2.))\n",
    "\n",
    "print mvn_par.names()\n",
    "print mvn_par.get()\n",
    "print mvn_par.get_free()\n",
    "\n",
    "print mvn_par"
   ]
  },
  {
   "cell_type": "code",
   "execution_count": 18,
   "metadata": {
    "collapsed": false
   },
   "outputs": [],
   "source": [
    "# Generate data\n",
    "\n",
    "N = 100\n",
    "true_mu = np.random.rand(K).T\n",
    "x_cov = np.random.rand(K, K)\n",
    "x_cov = 0.5 * (x_cov * x_cov.T) + np.eye(K)\n",
    "# Perhaps un-pythonic, I want column vectors.\n",
    "x_draws = [ np.random.multivariate_normal(true_mu, x_cov) for n in range(N) ]"
   ]
  },
  {
   "cell_type": "code",
   "execution_count": 28,
   "metadata": {
    "collapsed": false
   },
   "outputs": [
    {
     "name": "stdout",
     "output_type": "stream",
     "text": [
      "['var_mu_0' 'var_mu_1' 'var_mu_2' 'e_mu_0' 'e_mu_1' 'e_mu_2']\n",
      "ModelParamsList:\n",
      "\tvar_mu: Autograd ArrayNode with value [ 2.  2.  2.] and 1 tape(s)\n",
      "\te_mu: Autograd ArrayNode with value [ 0.1  0.1  0.1] and 1 tape(s)\n",
      "[ 2.   2.   2.   0.1  0.1  0.1]\n",
      "[ 0.69314718  0.69314718  0.69314718  0.1         0.1         0.1       ]\n",
      "-251.395945579\n",
      "[ -77.40590731  -80.12620523 -101.01960936   59.20102508   15.01802996\n",
      "  -11.06108567]\n",
      "[[ -77.90590731    0.            0.            0.            0.            0.        ]\n",
      " [   0.          -80.62620523    0.            0.            0.            0.        ]\n",
      " [   0.            0.         -101.51960936    0.            0.            0.        ]\n",
      " [   0.            0.            0.          -77.90590731    0.            0.        ]\n",
      " [   0.            0.            0.            0.          -80.62620523\n",
      "     0.        ]\n",
      " [   0.            0.            0.            0.            0.\n",
      "  -101.51960936]]\n"
     ]
    }
   ],
   "source": [
    "# Log likelihood\n",
    "def LogLikelihood(x_row, x_info, e_mu, e_mu_outer):\n",
    "    return -0.5 * (-np.dot(e_mu, np.matmul(x_info, x_row)) + \\\n",
    "                   -np.dot(x_row, np.matmul(x_info, e_mu)) + \\\n",
    "                   np.trace(x_info * (e_mu_outer)))\n",
    "\n",
    "\n",
    "def UnivariateNormalExpectedEntropy(var_mu):\n",
    "    return 0.5 * np.log(var_mu)\n",
    "\n",
    "\n",
    "def Elbo(x_draws, mvn_par):\n",
    "    x_info = np.linalg.inv(x_cov)\n",
    "    var_mu = mvn_par['var_mu'].get()\n",
    "    e_mu = mvn_par['e_mu'].get()\n",
    "    e_mu_outer = np.outer(e_mu, e_mu) + np.diag(var_mu)\n",
    "\n",
    "    ll = sum([ LogLikelihood(x, x_info, e_mu, e_mu_outer) for x in x_draws ])\n",
    "    entropy = sum([ UnivariateNormalExpectedEntropy(var_mu_k) for var_mu_k in var_mu])\n",
    "\n",
    "    return ll + entropy\n",
    "\n",
    "\n",
    "def ElboWrapper(free_par_vec):\n",
    "    # This seems to be necessary to avoid changing the type of mvn_par.\n",
    "    mvn_par_ad = copy.copy(mvn_par)\n",
    "    mvn_par_ad.set_free(free_par_vec)\n",
    "    return Elbo(x_draws, mvn_par)\n",
    "\n",
    "x_row = x_draws[1]\n",
    "# print x_row\n",
    "# print np.matmul(x_cov, x_row)\n",
    "# print np.matmul(x_cov, x_row)\n",
    "# print np.inner(x_row, x_row)\n",
    "# print np.inner(x_row, np.matmul(x_cov, x_row))\n",
    "\n",
    "print mvn_par.names()\n",
    "print mvn_par\n",
    "print mvn_par.get()\n",
    "print mvn_par.get_free()\n",
    "\n",
    "# free_par_vec = mvn_par.get_free()\n",
    "print ElboWrapper(free_par_vec)\n",
    "\n",
    "ElboGrad = grad(ElboWrapper)\n",
    "ElboHess = hessian(ElboWrapper)\n",
    "\n",
    "print ElboGrad(free_par_vec)\n",
    "print ElboHess(free_par_vec)"
   ]
  }
 ],
 "metadata": {
  "kernelspec": {
   "display_name": "Python [Root]",
   "language": "python",
   "name": "Python [Root]"
  },
  "language_info": {
   "codemirror_mode": {
    "name": "ipython",
    "version": 2
   },
   "file_extension": ".py",
   "mimetype": "text/x-python",
   "name": "python",
   "nbconvert_exporter": "python",
   "pygments_lexer": "ipython2",
   "version": "2.7.12"
  }
 },
 "nbformat": 4,
 "nbformat_minor": 0
}
