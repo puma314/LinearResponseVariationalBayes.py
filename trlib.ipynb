{
 "cells": [
  {
   "cell_type": "code",
   "execution_count": 1,
   "metadata": {},
   "outputs": [
    {
     "data": {
      "text/plain": [
       "'/usr/local/bin:/home/rgiordan/bin:/home/rgiordan/.local/bin:/usr/local/sbin:/usr/local/bin:/usr/sbin:/usr/bin:/sbin:/bin:/usr/games:/usr/local/games:/snap/bin'"
      ]
     },
     "execution_count": 1,
     "metadata": {},
     "output_type": "execute_result"
    }
   ],
   "source": [
    "import os\n",
    "os.environ['PATH']"
   ]
  },
  {
   "cell_type": "code",
   "execution_count": 2,
   "metadata": {},
   "outputs": [],
   "source": [
    "from autograd import grad, hessian, jacobian, hessian_vector_product\n",
    "import math\n",
    "import autograd.numpy as np\n",
    "import autograd.numpy.random as npr\n",
    "import trlib"
   ]
  },
  {
   "cell_type": "code",
   "execution_count": 3,
   "metadata": {},
   "outputs": [],
   "source": [
    "import scipy.sparse\n",
    "H = scipy.sparse.diags(np.linspace(-1.0, 100.0, 1000),0)\n",
    "g = np.ones(1000)\n",
    "x, TR = trlib.trlib_solve(H, g, 1.0)\n",
    "np.linalg.norm(x)\n",
    "1.0000000000000002\n",
    "x, TR = trlib.trlib_solve(H, g, .5, reentry=True, TR=TR)"
   ]
  },
  {
   "cell_type": "code",
   "execution_count": 4,
   "metadata": {},
   "outputs": [
    {
     "name": "stdout",
     "output_type": "stream",
     "text": [
      "it   obj         ‖g‖        radius     step       rho          ?  nhv\n",
      "   0 +4.0000e+00 4.0000e+00 4.4721e-01 4.4721e-01 -3.9705e+00  -    2\n",
      "   1 +4.0000e+00 4.0000e+00 2.2361e-01 2.2361e-01 +6.4377e-01  +    0\n",
      "   2 +3.7258e+00 1.0252e+01 2.2361e-01 1.8140e-01 +1.3459e+00  +    5\n",
      "   3 +3.1461e+00 4.2508e+00 4.4721e-01 4.4721e-01 -1.2984e+00  -    5\n",
      "   4 +3.1461e+00 4.2508e+00 2.2361e-01 2.2361e-01 +1.0083e+00  +    0\n",
      "   5 +2.7014e+00 7.9104e+00 4.4721e-01 3.4109e-01 +9.3640e-01  +    5\n",
      "   6 +2.2184e+00 1.3839e+01 4.4721e-01 2.1373e-01 +1.2418e+00  +    5\n",
      "   7 +1.4292e+00 4.8618e+00 8.9443e-01 3.8138e-01 +3.9101e-01  +    5\n",
      "   8 +1.2490e+00 1.4745e+01 8.9443e-01 1.4150e-01 +1.1194e+00  +    5\n",
      "   9 +5.5173e-01 1.9257e+00 1.7889e+00 3.9074e-01 -4.2254e-01  -    5\n",
      "  10 +5.5173e-01 1.9257e+00 3.5166e-01 3.5166e-01 +1.2587e-01  +    0\n",
      "  11 +5.2026e-01 1.3179e+01 3.5166e-01 1.1637e-01 +1.0625e+00  +    5\n",
      "  12 +1.5747e-01 5.5973e-01 7.0333e-01 4.2780e-01 -1.7896e+00  -    5\n",
      "  13 +1.5747e-01 5.5973e-01 3.5166e-01 3.5166e-01 -2.8247e-01  -    0\n",
      "  14 +1.5747e-01 5.5973e-01 1.7583e-01 1.7583e-01 +9.0165e-01  +    0\n",
      "  15 +8.9730e-02 3.0045e+00 1.7583e-01 1.7583e-01 +1.2728e+00  +    5\n",
      "  16 +3.6998e-02 2.3961e+00 3.5166e-01 1.4584e-01 +1.2623e+00  +    5\n",
      "  17 +1.1510e-02 1.5831e+00 7.0333e-01 1.0703e-01 +1.2237e+00  +    5\n",
      "  18 +2.2231e-03 8.3050e-01 1.4067e+00 6.0224e-02 +1.1573e+00  +    5\n",
      "  19 +1.6899e-04 2.5581e-01 2.8133e+00 2.0279e-02 +1.0643e+00  +    5\n",
      "it   obj         ‖g‖        radius     step       rho          ?  nhv\n",
      "  20 +1.7547e-06 2.8606e-02 5.6266e+00 2.2070e-03 +1.0078e+00  +    5\n",
      "  21 +2.4465e-10 3.3442e-04 1.1253e+01 2.6504e-05 +1.0001e+00  +    5\n",
      "  22 +4.9083e-18 4.8330e-08\n"
     ]
    },
    {
     "data": {
      "text/plain": [
       "array([ 1.,  1.,  1.,  1.,  1.])"
      ]
     },
     "execution_count": 4,
     "metadata": {},
     "output_type": "execute_result"
    }
   ],
   "source": [
    "from scipy import optimize\n",
    "\n",
    "trlib.umin(scipy.optimize.rosen, scipy.optimize.rosen_der, scipy.optimize.rosen_hess_prod, np.zeros(5))"
   ]
  },
  {
   "cell_type": "code",
   "execution_count": 9,
   "metadata": {},
   "outputs": [
    {
     "name": "stdout",
     "output_type": "stream",
     "text": [
      "74.2660391268\n",
      "it   obj         ‖g‖        radius     step       rho          ?  nhv\n",
      "   0 +3.7133e+01 2.0664e+01 1.4142e-01 1.4142e-01 +1.0000e+00  +    2\n",
      "   1 +3.4270e+01 1.9822e+01 2.8284e-01 2.8284e-01 +1.0000e+00  +    2\n",
      "   2 +2.8902e+01 1.8140e+01 5.6569e-01 5.6569e-01 +1.0000e+00  +    2\n",
      "   3 +1.9590e+01 1.4785e+01 1.1314e+00 1.1314e+00 +1.0000e+00  +    2\n",
      "   4 +6.6260e+00 8.1725e+00 2.2627e+00 2.0807e+00 +1.0000e+00  +    2\n",
      "   5 +3.4608e-29 2.0265e-14\n"
     ]
    },
    {
     "data": {
      "text/plain": [
       "array([ -4.16333634e-16,  -4.44089210e-16,  -5.13478149e-16,\n",
       "        -3.33066907e-16,  -4.85722573e-16,  -4.99600361e-16,\n",
       "        -5.68989300e-16,  -4.44089210e-16,  -8.04911693e-16,\n",
       "        -2.22044605e-16,  -2.22044605e-16,  -6.66133815e-16,\n",
       "        -6.10622664e-16,  -6.10622664e-16,  -6.38378239e-16,\n",
       "        -4.44089210e-16,  -5.41233725e-16,  -5.27355937e-16,\n",
       "        -5.82867088e-16,  -6.38378239e-16,  -4.16333634e-16,\n",
       "        -4.71844785e-16,  -4.30211422e-16,  -2.77555756e-16,\n",
       "        -4.99600361e-16,  -6.24500451e-16,  -4.44089210e-16,\n",
       "        -4.30211422e-16,  -5.82867088e-16,  -3.33066907e-16,\n",
       "        -4.44089210e-16,  -4.99600361e-16,  -1.11022302e-16,\n",
       "        -4.71844785e-16,  -4.44089210e-16,  -3.60822483e-16,\n",
       "        -4.44089210e-16,  -2.49800181e-16,  -3.88578059e-16,\n",
       "        -4.44089210e-16,  -4.99600361e-16,  -3.88578059e-16,\n",
       "        -5.55111512e-16,  -7.77156117e-16,  -4.44089210e-16,\n",
       "        -6.66133815e-16,  -5.27355937e-16,  -4.44089210e-16,\n",
       "        -6.38378239e-16,  -3.33066907e-16])"
      ]
     },
     "execution_count": 9,
     "metadata": {},
     "output_type": "execute_result"
    }
   ],
   "source": [
    "K = 50\n",
    "A = np.eye(K) + np.full((K, K), 0.1)\n",
    "\n",
    "def funky_funk(x):\n",
    "    return 0.5 * np.dot(x, np.matmul(A, x))\n",
    "\n",
    "funky_grad = grad(funky_funk)\n",
    "funky_hess = hessian(funky_funk)\n",
    "funky_hvp = hessian_vector_product(funky_funk) \n",
    "\n",
    "x = np.random.rand(K)\n",
    "print np.dot(x, np.matmul(A, x))\n",
    "\n",
    "funky_grad(x)\n",
    "funky_hvp(x, x)\n",
    "\n",
    "trlib.umin(funky_funk, funky_grad, funky_hvp, x)"
   ]
  }
 ],
 "metadata": {
  "kernelspec": {
   "display_name": "Python 2",
   "language": "python",
   "name": "python2"
  },
  "language_info": {
   "codemirror_mode": {
    "name": "ipython",
    "version": 2
   },
   "file_extension": ".py",
   "mimetype": "text/x-python",
   "name": "python",
   "nbconvert_exporter": "python",
   "pygments_lexer": "ipython2",
   "version": "2.7.12"
  }
 },
 "nbformat": 4,
 "nbformat_minor": 1
}
