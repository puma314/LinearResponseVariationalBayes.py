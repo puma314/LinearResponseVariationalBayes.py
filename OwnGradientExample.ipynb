{
 "cells": [
  {
   "cell_type": "code",
   "execution_count": 53,
   "metadata": {
    "collapsed": false
   },
   "outputs": [],
   "source": [
    "import autograd.numpy as np\n",
    "from autograd.core import primitive\n",
    "from autograd import grad, jacobian, hessian\n",
    "from autograd.numpy.numpy_grads import unbroadcast\n",
    "import scipy.stats"
   ]
  },
  {
   "cell_type": "code",
   "execution_count": 35,
   "metadata": {
    "collapsed": false
   },
   "outputs": [],
   "source": [
    "@primitive\n",
    "def MySum(x):\n",
    "    return 2 * np.sum(x)\n",
    "\n",
    "def MySameSum(x):\n",
    "    return 2 * np.sum(x)\n",
    "\n",
    "def MySum_vjp(g, ans, vs, gvs, x):\n",
    "    return np.full(x.shape, g) * np.full(x.shape, 2)\n",
    "\n",
    "MySum.defvjp(MySum_vjp)\n"
   ]
  },
  {
   "cell_type": "code",
   "execution_count": 112,
   "metadata": {
    "collapsed": false
   },
   "outputs": [
    {
     "name": "stdout",
     "output_type": "stream",
     "text": [
      "{0: <function VJP_0_of_BinSum at 0x7f966fcc8c08>, 1: <function VJP_1_of_BinSum at 0x7f966fcf09b0>}\n",
      "2.5\n",
      "1.0\n",
      "50.0\n"
     ]
    }
   ],
   "source": [
    "@primitive\n",
    "def BinSum(x, y):\n",
    "    return y * x ** 2\n",
    "\n",
    "# It appears that the gradient is always with respect to the argument specified in argnum,\n",
    "# which defaults to zero (the first argument)\n",
    "\n",
    "def BinSum_vjp_x(g, ans, vs, gvs, x, y):\n",
    "    return unbroadcast(vs, gvs, g * 2 * x * y)\n",
    "\n",
    "def BinSum_vjp_y(g, ans, vs, gvs, x, y):\n",
    "    return unbroadcast(vs, gvs, g * 2 * x ** 2)\n",
    "\n",
    "BinSum.defvjp(BinSum_vjp_x, argnum=0)\n",
    "BinSum.defvjp(BinSum_vjp_y, argnum=1)\n",
    "\n",
    "BinSumGradX = grad(BinSum)\n",
    "BinSumGradY = grad(BinSum, argnum=1)\n",
    "print BinSum.vjps\n",
    "print BinSum(5., 0.1)\n",
    "print BinSumGradX(5., 0.1)\n",
    "print BinSumGradY(5., 0.1)\n"
   ]
  },
  {
   "cell_type": "code",
   "execution_count": 38,
   "metadata": {
    "collapsed": false
   },
   "outputs": [
    {
     "name": "stdout",
     "output_type": "stream",
     "text": [
      "(2,)\n",
      "(2, 1)\n",
      "[25  1]\n"
     ]
    }
   ],
   "source": [
    "x = np.array([5, 1])\n",
    "y = np.expand_dims(x, 5)\n",
    "print x.shape\n",
    "print y.shape\n",
    "print x ** 2"
   ]
  },
  {
   "cell_type": "code",
   "execution_count": 89,
   "metadata": {
    "collapsed": false
   },
   "outputs": [
    {
     "name": "stdout",
     "output_type": "stream",
     "text": [
      "[ 2.  2.]\n",
      "[ 2.  2.]\n",
      "[2 2 2 2 2 2 2 2 2 2 2 2 2]\n",
      "(13,)\n",
      "<function VJP_0_of_MySum at 0x7f966fcf07d0>\n"
     ]
    }
   ],
   "source": [
    "MySumGrad = grad(MySum)\n",
    "MySameSumGrad = grad(MySameSum)\n",
    "\n",
    "x = np.array([2., 4.])\n",
    "print MySumGrad(x)\n",
    "print MySameSumGrad(x)\n",
    "\n",
    "x_full = np.full(13, x.shape)\n",
    "print x_full\n",
    "print x_full.shape\n",
    "\n",
    "print MySum.vjps[0]"
   ]
  },
  {
   "cell_type": "code",
   "execution_count": 54,
   "metadata": {
    "collapsed": false
   },
   "outputs": [
    {
     "name": "stdout",
     "output_type": "stream",
     "text": [
      "Stand alone:\n",
      "g: \n",
      "1.0\n",
      "ans: \n",
      "Autograd ArrayNode with value 20.0 and 1 progenitors(s)\n",
      "vs: \n",
      "ArrayVSpace_{'dtype': dtype('float64'), 'shape': (2,), 'scalartype': <type 'float'>, 'size': 2}\n",
      "gvs: \n",
      "ArrayVSpace_{'dtype': dtype('float64'), 'shape': (), 'scalartype': <type 'float'>, 'size': 1}\n",
      "x: \n",
      "Autograd ArrayNode with value [ 2.  4.] and 1 progenitors(s)\n",
      "Returning.\n",
      "[ 4.  8.]\n",
      "\n",
      "In function:\n",
      "g: \n",
      "3.0\n",
      "ans: \n",
      "Autograd ArrayNode with value 20.0 and 1 progenitors(s)\n",
      "vs: \n",
      "ArrayVSpace_{'dtype': dtype('float64'), 'shape': (2,), 'scalartype': <type 'float'>, 'size': 2}\n",
      "gvs: \n",
      "ArrayVSpace_{'dtype': dtype('float64'), 'shape': (), 'scalartype': <type 'float'>, 'size': 1}\n",
      "x: \n",
      "Autograd ArrayNode with value [ 2.  4.] and 1 progenitors(s)\n",
      "Returning.\n",
      "[ 12.  24.]\n",
      "\n",
      "In Hessian:\n",
      "g: \n",
      "3.0\n",
      "ans: \n",
      "Autograd ArrayNode with value 20.0 and 2 progenitors(s)\n",
      "vs: \n",
      "ArrayVSpace_{'dtype': dtype('float64'), 'shape': (2,), 'scalartype': <type 'float'>, 'size': 2}\n",
      "gvs: \n",
      "ArrayVSpace_{'dtype': dtype('float64'), 'shape': (), 'scalartype': <type 'float'>, 'size': 1}\n",
      "x: \n",
      "Autograd ArrayNode with value [ 2.  4.] and 2 progenitors(s)\n",
      "Returning.\n",
      "[[ 6.  0.]\n",
      " [ 0.  6.]]\n"
     ]
    }
   ],
   "source": [
    "@primitive\n",
    "def SumSq(x):\n",
    "    return np.sum(x ** 2)\n",
    "\n",
    "def SumSq_vjp(g, ans, vs, gvs, x):\n",
    "    print 'g: '\n",
    "    print g\n",
    "    print 'ans: '\n",
    "    print ans\n",
    "    print 'vs: '\n",
    "    print vs\n",
    "    print 'gvs: '\n",
    "    print gvs\n",
    "    print 'x: '\n",
    "    print x\n",
    "    print 'Returning.'\n",
    "    return np.full(x.shape, g) * 2 * x\n",
    "\n",
    "SumSq.defvjp(SumSq_vjp)\n",
    "\n",
    "def MyFun(x):\n",
    "    return 3 * SumSq(x)\n",
    "\n",
    "SumSqGrad = grad(SumSq)\n",
    "MyFunGrad = grad(MyFun)\n",
    "MyFunHess = hessian(MyFun)\n",
    "\n",
    "x = np.array([2., 4.])\n",
    "print 'Stand alone:'\n",
    "print SumSqGrad(x)\n",
    "\n",
    "print '\\nIn function:'\n",
    "print MyFunGrad(x)\n",
    "\n",
    "print '\\nIn Hessian:'\n",
    "print MyFunHess(x)"
   ]
  },
  {
   "cell_type": "code",
   "execution_count": 51,
   "metadata": {
    "collapsed": false
   },
   "outputs": [
    {
     "name": "stdout",
     "output_type": "stream",
     "text": [
      "g: \n",
      "0.0\n",
      "ans: \n",
      "Autograd ArrayNode with value 20.0 and 1 progenitors(s)\n",
      "vs: \n",
      "ArrayVSpace_{'dtype': dtype('float64'), 'shape': (2,), 'scalartype': <type 'float'>, 'size': 2}\n",
      "gvs: \n",
      "ArrayVSpace_{'dtype': dtype('float64'), 'shape': (), 'scalartype': <type 'float'>, 'size': 1}\n",
      "x: \n",
      "Autograd ArrayNode with value [ 2.  4.] and 1 progenitors(s)\n",
      "Returning.\n",
      "g: \n",
      "1.0\n",
      "ans: \n",
      "Autograd ArrayNode with value 20.0 and 1 progenitors(s)\n",
      "vs: \n",
      "ArrayVSpace_{'dtype': dtype('float64'), 'shape': (2,), 'scalartype': <type 'float'>, 'size': 2}\n",
      "gvs: \n",
      "ArrayVSpace_{'dtype': dtype('float64'), 'shape': (), 'scalartype': <type 'float'>, 'size': 1}\n",
      "x: \n",
      "Autograd ArrayNode with value [ 2.  4.] and 1 progenitors(s)\n",
      "Returning.\n",
      "g: \n",
      "5.0\n",
      "ans: \n",
      "Autograd ArrayNode with value 20.0 and 1 progenitors(s)\n",
      "vs: \n",
      "ArrayVSpace_{'dtype': dtype('float64'), 'shape': (2,), 'scalartype': <type 'float'>, 'size': 2}\n",
      "gvs: \n",
      "ArrayVSpace_{'dtype': dtype('float64'), 'shape': (), 'scalartype': <type 'float'>, 'size': 1}\n",
      "x: \n",
      "Autograd ArrayNode with value [ 2.  4.] and 1 progenitors(s)\n",
      "Returning.\n",
      "g: \n",
      "0.0\n",
      "ans: \n",
      "Autograd ArrayNode with value 20.0 and 1 progenitors(s)\n",
      "vs: \n",
      "ArrayVSpace_{'dtype': dtype('float64'), 'shape': (2,), 'scalartype': <type 'float'>, 'size': 2}\n",
      "gvs: \n",
      "ArrayVSpace_{'dtype': dtype('float64'), 'shape': (), 'scalartype': <type 'float'>, 'size': 1}\n",
      "x: \n",
      "Autograd ArrayNode with value [ 2.  4.] and 1 progenitors(s)\n",
      "Returning.\n"
     ]
    },
    {
     "data": {
      "text/plain": [
       "array([[  4.,   8.],\n",
       "       [ 20.,  40.]])"
      ]
     },
     "execution_count": 51,
     "metadata": {},
     "output_type": "execute_result"
    }
   ],
   "source": [
    "from autograd import jacobian\n",
    "\n",
    "def MyVecFun(x):\n",
    "\n",
    "    return np.array([ SumSq(x), 5 * SumSq(x) ])\n",
    "\n",
    "MyVecJac = jacobian(MyVecFun)\n",
    "MyVecJac(x)"
   ]
  },
  {
   "cell_type": "code",
   "execution_count": 71,
   "metadata": {
    "collapsed": false
   },
   "outputs": [
    {
     "name": "stdout",
     "output_type": "stream",
     "text": [
      "[  9.  16.   6.   8.]\n",
      "g: \n",
      "[ 1.  0.  0.  0.]\n",
      "ans: \n",
      "Autograd ArrayNode with value [  9.  16.   6.   8.] and 1 progenitors(s)\n",
      "vs: \n",
      "ArrayVSpace_{'dtype': dtype('float64'), 'shape': (2,), 'scalartype': <type 'float'>, 'size': 2}\n",
      "gvs: \n",
      "ArrayVSpace_{'dtype': dtype('float64'), 'shape': (4,), 'scalartype': <type 'float'>, 'size': 4}\n",
      "x: \n",
      "Autograd ArrayNode with value [ 3.  4.] and 1 progenitors(s)\n",
      "Returning.\n"
     ]
    },
    {
     "ename": "TypeError",
     "evalue": "Required argument 'b' (pos 2) not found",
     "output_type": "error",
     "traceback": [
      "\u001b[1;31m---------------------------------------------------------------------------\u001b[0m",
      "\u001b[1;31mTypeError\u001b[0m                                 Traceback (most recent call last)",
      "\u001b[1;32m<ipython-input-71-fa6cf8401271>\u001b[0m in \u001b[0;36m<module>\u001b[1;34m()\u001b[0m\n\u001b[0;32m     23\u001b[0m \u001b[0mx\u001b[0m \u001b[1;33m=\u001b[0m \u001b[0mnp\u001b[0m\u001b[1;33m.\u001b[0m\u001b[0marray\u001b[0m\u001b[1;33m(\u001b[0m\u001b[1;33m[\u001b[0m\u001b[1;36m3.\u001b[0m\u001b[1;33m,\u001b[0m \u001b[1;36m4.\u001b[0m\u001b[1;33m]\u001b[0m\u001b[1;33m)\u001b[0m\u001b[1;33m\u001b[0m\u001b[0m\n\u001b[0;32m     24\u001b[0m \u001b[1;32mprint\u001b[0m \u001b[0mSqVec\u001b[0m\u001b[1;33m(\u001b[0m\u001b[0mx\u001b[0m\u001b[1;33m)\u001b[0m\u001b[1;33m\u001b[0m\u001b[0m\n\u001b[1;32m---> 25\u001b[1;33m \u001b[1;32mprint\u001b[0m \u001b[0mSqVecJac\u001b[0m\u001b[1;33m(\u001b[0m\u001b[0mx\u001b[0m\u001b[1;33m)\u001b[0m\u001b[1;33m\u001b[0m\u001b[0m\n\u001b[0m",
      "\u001b[1;32m/home/rgiordan/Documents/git_repos/autograd/autograd/convenience_wrappers.py\u001b[0m in \u001b[0;36mjacfun\u001b[1;34m(*args, **kwargs)\u001b[0m\n\u001b[0;32m     55\u001b[0m         \u001b[0mvjp\u001b[0m\u001b[1;33m,\u001b[0m \u001b[0mans\u001b[0m \u001b[1;33m=\u001b[0m \u001b[0mmake_vjp\u001b[0m\u001b[1;33m(\u001b[0m\u001b[0mfun\u001b[0m\u001b[1;33m,\u001b[0m \u001b[0margnum\u001b[0m\u001b[1;33m)\u001b[0m\u001b[1;33m(\u001b[0m\u001b[1;33m*\u001b[0m\u001b[0margs\u001b[0m\u001b[1;33m,\u001b[0m \u001b[1;33m**\u001b[0m\u001b[0mkwargs\u001b[0m\u001b[1;33m)\u001b[0m\u001b[1;33m\u001b[0m\u001b[0m\n\u001b[0;32m     56\u001b[0m         \u001b[0moutshape\u001b[0m \u001b[1;33m=\u001b[0m \u001b[0mgetshape\u001b[0m\u001b[1;33m(\u001b[0m\u001b[0mans\u001b[0m\u001b[1;33m)\u001b[0m\u001b[1;33m\u001b[0m\u001b[0m\n\u001b[1;32m---> 57\u001b[1;33m         \u001b[0mgrads\u001b[0m \u001b[1;33m=\u001b[0m \u001b[0mmap\u001b[0m\u001b[1;33m(\u001b[0m\u001b[0mvjp\u001b[0m\u001b[1;33m,\u001b[0m \u001b[0munit_vectors\u001b[0m\u001b[1;33m(\u001b[0m\u001b[0moutshape\u001b[0m\u001b[1;33m)\u001b[0m\u001b[1;33m)\u001b[0m\u001b[1;33m\u001b[0m\u001b[0m\n\u001b[0m\u001b[0;32m     58\u001b[0m         \u001b[0mjacobian_shape\u001b[0m \u001b[1;33m=\u001b[0m \u001b[0moutshape\u001b[0m \u001b[1;33m+\u001b[0m \u001b[0mgetshape\u001b[0m\u001b[1;33m(\u001b[0m\u001b[0margs\u001b[0m\u001b[1;33m[\u001b[0m\u001b[0margnum\u001b[0m\u001b[1;33m]\u001b[0m\u001b[1;33m)\u001b[0m\u001b[1;33m\u001b[0m\u001b[0m\n\u001b[0;32m     59\u001b[0m         \u001b[1;32mreturn\u001b[0m \u001b[0mnp\u001b[0m\u001b[1;33m.\u001b[0m\u001b[0mreshape\u001b[0m\u001b[1;33m(\u001b[0m\u001b[0mconcatenate\u001b[0m\u001b[1;33m(\u001b[0m\u001b[0mgrads\u001b[0m\u001b[1;33m)\u001b[0m\u001b[1;33m,\u001b[0m \u001b[0mjacobian_shape\u001b[0m\u001b[1;33m)\u001b[0m\u001b[1;33m\u001b[0m\u001b[0m\n",
      "\u001b[1;32m/home/rgiordan/Documents/git_repos/autograd/autograd/core.py\u001b[0m in \u001b[0;36m<lambda>\u001b[1;34m(g)\u001b[0m\n\u001b[0;32m     16\u001b[0m             \u001b[0mwarnings\u001b[0m\u001b[1;33m.\u001b[0m\u001b[0mwarn\u001b[0m\u001b[1;33m(\u001b[0m\u001b[1;34m\"Output seems independent of input.\"\u001b[0m\u001b[1;33m)\u001b[0m\u001b[1;33m\u001b[0m\u001b[0m\n\u001b[0;32m     17\u001b[0m             \u001b[1;32mreturn\u001b[0m \u001b[1;32mlambda\u001b[0m \u001b[0mg\u001b[0m \u001b[1;33m:\u001b[0m \u001b[0mstart_node\u001b[0m\u001b[1;33m.\u001b[0m\u001b[0mvspace\u001b[0m\u001b[1;33m.\u001b[0m\u001b[0mzeros\u001b[0m\u001b[1;33m(\u001b[0m\u001b[1;33m)\u001b[0m\u001b[1;33m,\u001b[0m \u001b[0mend_node\u001b[0m\u001b[1;33m\u001b[0m\u001b[0m\n\u001b[1;32m---> 18\u001b[1;33m         \u001b[1;32mreturn\u001b[0m \u001b[1;32mlambda\u001b[0m \u001b[0mg\u001b[0m \u001b[1;33m:\u001b[0m \u001b[0mbackward_pass\u001b[0m\u001b[1;33m(\u001b[0m\u001b[0mg\u001b[0m\u001b[1;33m,\u001b[0m \u001b[0mend_node\u001b[0m\u001b[1;33m,\u001b[0m \u001b[0mstart_node\u001b[0m\u001b[1;33m)\u001b[0m\u001b[1;33m,\u001b[0m \u001b[0mend_node\u001b[0m\u001b[1;33m\u001b[0m\u001b[0m\n\u001b[0m\u001b[0;32m     19\u001b[0m     \u001b[1;32mreturn\u001b[0m \u001b[0mvjp\u001b[0m\u001b[1;33m\u001b[0m\u001b[0m\n\u001b[0;32m     20\u001b[0m \u001b[1;33m\u001b[0m\u001b[0m\n",
      "\u001b[1;32m/home/rgiordan/Documents/git_repos/autograd/autograd/core.py\u001b[0m in \u001b[0;36mbackward_pass\u001b[1;34m(g, end_node, start_node)\u001b[0m\n\u001b[0;32m     39\u001b[0m         \u001b[1;32mfor\u001b[0m \u001b[0margnum\u001b[0m\u001b[1;33m,\u001b[0m \u001b[0mparent\u001b[0m \u001b[1;32min\u001b[0m \u001b[0mparents\u001b[0m\u001b[1;33m:\u001b[0m\u001b[1;33m\u001b[0m\u001b[0m\n\u001b[0;32m     40\u001b[0m             outgrad = function.vjp(argnum, cur_outgrad, node,\n\u001b[1;32m---> 41\u001b[1;33m                                    parent.vspace, node.vspace, args, kwargs)\n\u001b[0m\u001b[0;32m     42\u001b[0m             \u001b[0moutgrads\u001b[0m\u001b[1;33m[\u001b[0m\u001b[0mparent\u001b[0m\u001b[1;33m]\u001b[0m\u001b[1;33m.\u001b[0m\u001b[0mappend\u001b[0m\u001b[1;33m(\u001b[0m\u001b[0moutgrad\u001b[0m\u001b[1;33m)\u001b[0m\u001b[1;33m\u001b[0m\u001b[0m\n\u001b[0;32m     43\u001b[0m             \u001b[0massert_vspace_match\u001b[0m\u001b[1;33m(\u001b[0m\u001b[0moutgrad\u001b[0m\u001b[1;33m,\u001b[0m \u001b[0mparent\u001b[0m\u001b[1;33m.\u001b[0m\u001b[0mvspace\u001b[0m\u001b[1;33m,\u001b[0m \u001b[0mfunction\u001b[0m\u001b[1;33m)\u001b[0m\u001b[1;33m\u001b[0m\u001b[0m\n",
      "\u001b[1;32m/home/rgiordan/Documents/git_repos/autograd/autograd/core.py\u001b[0m in \u001b[0;36mvjp\u001b[1;34m(self, argnum, outgrad, ans, vs, gvs, args, kwargs)\u001b[0m\n\u001b[0;32m     76\u001b[0m     \u001b[1;32mdef\u001b[0m \u001b[0mvjp\u001b[0m\u001b[1;33m(\u001b[0m\u001b[0mself\u001b[0m\u001b[1;33m,\u001b[0m \u001b[0margnum\u001b[0m\u001b[1;33m,\u001b[0m \u001b[0moutgrad\u001b[0m\u001b[1;33m,\u001b[0m \u001b[0mans\u001b[0m\u001b[1;33m,\u001b[0m \u001b[0mvs\u001b[0m\u001b[1;33m,\u001b[0m \u001b[0mgvs\u001b[0m\u001b[1;33m,\u001b[0m \u001b[0margs\u001b[0m\u001b[1;33m,\u001b[0m \u001b[0mkwargs\u001b[0m\u001b[1;33m)\u001b[0m\u001b[1;33m:\u001b[0m\u001b[1;33m\u001b[0m\u001b[0m\n\u001b[0;32m     77\u001b[0m         \u001b[1;32mtry\u001b[0m\u001b[1;33m:\u001b[0m\u001b[1;33m\u001b[0m\u001b[0m\n\u001b[1;32m---> 78\u001b[1;33m             \u001b[1;32mreturn\u001b[0m \u001b[0mself\u001b[0m\u001b[1;33m.\u001b[0m\u001b[0mvjps\u001b[0m\u001b[1;33m[\u001b[0m\u001b[0margnum\u001b[0m\u001b[1;33m]\u001b[0m\u001b[1;33m(\u001b[0m\u001b[0moutgrad\u001b[0m\u001b[1;33m,\u001b[0m \u001b[0mans\u001b[0m\u001b[1;33m,\u001b[0m \u001b[0mvs\u001b[0m\u001b[1;33m,\u001b[0m \u001b[0mgvs\u001b[0m\u001b[1;33m,\u001b[0m \u001b[1;33m*\u001b[0m\u001b[0margs\u001b[0m\u001b[1;33m,\u001b[0m \u001b[1;33m**\u001b[0m\u001b[0mkwargs\u001b[0m\u001b[1;33m)\u001b[0m\u001b[1;33m\u001b[0m\u001b[0m\n\u001b[0m\u001b[0;32m     79\u001b[0m         \u001b[1;32mexcept\u001b[0m \u001b[0mKeyError\u001b[0m\u001b[1;33m:\u001b[0m\u001b[1;33m\u001b[0m\u001b[0m\n\u001b[0;32m     80\u001b[0m             \u001b[1;32mif\u001b[0m \u001b[0mself\u001b[0m\u001b[1;33m.\u001b[0m\u001b[0mvjps\u001b[0m \u001b[1;33m==\u001b[0m \u001b[1;33m{\u001b[0m\u001b[1;33m}\u001b[0m\u001b[1;33m:\u001b[0m\u001b[1;33m\u001b[0m\u001b[0m\n",
      "\u001b[1;32m<ipython-input-71-fa6cf8401271>\u001b[0m in \u001b[0;36mSqVec_vjp\u001b[1;34m(g, ans, vs, gvs, x)\u001b[0m\n\u001b[0;32m     15\u001b[0m     \u001b[1;32mprint\u001b[0m \u001b[0mx\u001b[0m\u001b[1;33m\u001b[0m\u001b[0m\n\u001b[0;32m     16\u001b[0m     \u001b[1;32mprint\u001b[0m \u001b[1;34m'Returning.'\u001b[0m\u001b[1;33m\u001b[0m\u001b[0m\n\u001b[1;32m---> 17\u001b[1;33m     \u001b[1;32mreturn\u001b[0m \u001b[0mnp\u001b[0m\u001b[1;33m.\u001b[0m\u001b[0mmatmul\u001b[0m\u001b[1;33m(\u001b[0m\u001b[0mg\u001b[0m \u001b[1;33m*\u001b[0m \u001b[0mnp\u001b[0m\u001b[1;33m.\u001b[0m\u001b[0mhstack\u001b[0m\u001b[1;33m(\u001b[0m\u001b[1;33m[\u001b[0m \u001b[1;36m2\u001b[0m \u001b[1;33m*\u001b[0m \u001b[0mx\u001b[0m\u001b[1;33m,\u001b[0m \u001b[0mnp\u001b[0m\u001b[1;33m.\u001b[0m\u001b[0mfull\u001b[0m\u001b[1;33m(\u001b[0m\u001b[1;36m2\u001b[0m\u001b[1;33m,\u001b[0m \u001b[0mx\u001b[0m\u001b[1;33m.\u001b[0m\u001b[0mshape\u001b[0m\u001b[1;33m)\u001b[0m \u001b[1;33m]\u001b[0m\u001b[1;33m)\u001b[0m\u001b[1;33m)\u001b[0m\u001b[1;33m\u001b[0m\u001b[0m\n\u001b[0m\u001b[0;32m     18\u001b[0m \u001b[1;33m\u001b[0m\u001b[0m\n\u001b[0;32m     19\u001b[0m \u001b[0mSqVec\u001b[0m\u001b[1;33m.\u001b[0m\u001b[0mdefvjp\u001b[0m\u001b[1;33m(\u001b[0m\u001b[0mSqVec_vjp\u001b[0m\u001b[1;33m)\u001b[0m\u001b[1;33m\u001b[0m\u001b[0m\n",
      "\u001b[1;32m/home/rgiordan/Documents/git_repos/autograd/autograd/core.py\u001b[0m in \u001b[0;36m__call__\u001b[1;34m(self, *args, **kwargs)\u001b[0m\n\u001b[0;32m     68\u001b[0m                 \u001b[0mprogenitors\u001b[0m\u001b[1;33m.\u001b[0m\u001b[0mupdate\u001b[0m\u001b[1;33m(\u001b[0m\u001b[0marg\u001b[0m\u001b[1;33m.\u001b[0m\u001b[0mprogenitors\u001b[0m \u001b[1;33m&\u001b[0m \u001b[0mactive_progenitors\u001b[0m\u001b[1;33m)\u001b[0m\u001b[1;33m\u001b[0m\u001b[0m\n\u001b[0;32m     69\u001b[0m \u001b[1;33m\u001b[0m\u001b[0m\n\u001b[1;32m---> 70\u001b[1;33m         \u001b[0mresult_value\u001b[0m \u001b[1;33m=\u001b[0m \u001b[0mself\u001b[0m\u001b[1;33m.\u001b[0m\u001b[0mfun\u001b[0m\u001b[1;33m(\u001b[0m\u001b[1;33m*\u001b[0m\u001b[0margvals\u001b[0m\u001b[1;33m,\u001b[0m \u001b[1;33m**\u001b[0m\u001b[0mkwargs\u001b[0m\u001b[1;33m)\u001b[0m\u001b[1;33m\u001b[0m\u001b[0m\n\u001b[0m\u001b[0;32m     71\u001b[0m         \u001b[1;32mif\u001b[0m \u001b[0mprogenitors\u001b[0m\u001b[1;33m:\u001b[0m\u001b[1;33m\u001b[0m\u001b[0m\n\u001b[0;32m     72\u001b[0m             \u001b[1;32mreturn\u001b[0m \u001b[0mnew_node\u001b[0m\u001b[1;33m(\u001b[0m\u001b[0mresult_value\u001b[0m\u001b[1;33m,\u001b[0m \u001b[1;33m(\u001b[0m\u001b[0mself\u001b[0m\u001b[1;33m,\u001b[0m \u001b[0margs\u001b[0m\u001b[1;33m,\u001b[0m \u001b[0mkwargs\u001b[0m\u001b[1;33m,\u001b[0m \u001b[0mparents\u001b[0m\u001b[1;33m)\u001b[0m\u001b[1;33m,\u001b[0m \u001b[0mprogenitors\u001b[0m\u001b[1;33m)\u001b[0m\u001b[1;33m\u001b[0m\u001b[0m\n",
      "\u001b[1;31mTypeError\u001b[0m: Required argument 'b' (pos 2) not found"
     ]
    }
   ],
   "source": [
    "@primitive\n",
    "def SqVec(x):\n",
    "    return np.hstack([ x ** 2, 2 * x ])\n",
    "\n",
    "def SqVec_vjp(g, ans, vs, gvs, x):\n",
    "    print 'g: '\n",
    "    print g\n",
    "    print 'ans: '\n",
    "    print ans\n",
    "    print 'vs: '\n",
    "    print vs\n",
    "    print 'gvs: '\n",
    "    print gvs\n",
    "    print 'x: '\n",
    "    print x\n",
    "    print 'Returning.'\n",
    "    return np.matmul(g * np.hstack([ 2 * x, np.full(2, x.shape) ]))\n",
    "\n",
    "SqVec.defvjp(SqVec_vjp)\n",
    "\n",
    "SqVecJac = jacobian(SqVec)\n",
    "\n",
    "x = np.array([3., 4.])\n",
    "print SqVec(x)\n",
    "print SqVecJac(x)\n"
   ]
  },
  {
   "cell_type": "code",
   "execution_count": 87,
   "metadata": {
    "collapsed": false
   },
   "outputs": [
    {
     "name": "stdout",
     "output_type": "stream",
     "text": [
      "['__call__', '__class__', '__delattr__', '__doc__', '__format__', '__getattribute__', '__hash__', '__init__', '__name__', '__new__', '__reduce__', '__reduce_ex__', '__repr__', '__setattr__', '__sizeof__', '__str__', '__subclasshook__', 'accumulate', 'at', 'identity', 'nargs', 'nin', 'nout', 'ntypes', 'outer', 'reduce', 'reduceat', 'signature', 'types']\n",
      "['__call__', '__class__', '__cmp__', '__delattr__', '__doc__', '__format__', '__getattribute__', '__hash__', '__init__', '__name__', '__new__', '__objclass__', '__reduce__', '__reduce_ex__', '__repr__', '__self__', '__setattr__', '__sizeof__', '__str__', '__subclasshook__']\n",
      "3\n"
     ]
    }
   ],
   "source": [
    "import numpy as onp\n",
    "print dir(onp.add)\n",
    "print dir(onp.add.__call__)\n",
    "print onp.add(1, 2)"
   ]
  }
 ],
 "metadata": {
  "kernelspec": {
   "display_name": "Python [Root]",
   "language": "python",
   "name": "Python [Root]"
  },
  "language_info": {
   "codemirror_mode": {
    "name": "ipython",
    "version": 2
   },
   "file_extension": ".py",
   "mimetype": "text/x-python",
   "name": "python",
   "nbconvert_exporter": "python",
   "pygments_lexer": "ipython2",
   "version": "2.7.12"
  }
 },
 "nbformat": 4,
 "nbformat_minor": 0
}
