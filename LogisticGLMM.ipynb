{
 "cells": [
  {
   "cell_type": "code",
   "execution_count": 1,
   "metadata": {
    "collapsed": false
   },
   "outputs": [],
   "source": [
    "from VariationalBayes import ScalarParam, ModelParamsDict, VectorParam\n",
    "from VariationalBayes.NormalParams import MVNParam, UVNParam, UVNParamVector\n",
    "from VariationalBayes.GammaParams import GammaParam\n",
    "\n",
    "# import math\n",
    "\n",
    "from autograd import grad, hessian, jacobian, hessian_vector_product\n",
    "import autograd.numpy as np\n",
    "import autograd.numpy.random as npr\n",
    "import autograd.scipy as asp\n",
    "import scipy as sp\n",
    "\n",
    "import copy\n",
    "from scipy import optimize\n"
   ]
  },
  {
   "cell_type": "code",
   "execution_count": 13,
   "metadata": {
    "collapsed": false
   },
   "outputs": [
    {
     "name": "stdout",
     "output_type": "stream",
     "text": [
      "[u'y_group', u'mu_prior_var', u'mu_prior_t', u'mu_prior_var_c', u'K', u'beta_prior_var', u'tau_prior_beta', u'N', u'mu_prior_mean_c', u'mu_prior_epsilon', u'mu_prior_mean', u'y', u'x', u'NG', u'beta_prior_mean', u'tau_prior_alpha']\n",
      "[[ 1.0266  0.9278 -0.3675  1.4361 -0.1547]\n",
      " [ 0.0522 -0.2816 -0.0919  0.1045  0.0609]\n",
      " [-0.2987 -0.2145 -0.5899 -0.6017 -1.3334]\n",
      " ..., \n",
      " [-1.3141 -2.0781 -1.7383 -1.4381 -1.7805]\n",
      " [ 0.352   1.0454 -0.4264 -0.5992  0.8535]\n",
      " [-0.6908  0.4598  0.7275  1.5379  0.5351]]\n"
     ]
    }
   ],
   "source": [
    "# Load data saved by stan_results_to_json.R and run_stan.R in LRVBLogitGLMM.\n",
    "import os\n",
    "import json\n",
    "\n",
    "analysis_name = 'simulated_data_small'\n",
    "data_dir = os.path.join(os.environ['GIT_REPO_LOC'], 'LRVBLogitGLMM/LogitGLMMLRVB/inst/data/')\n",
    "json_filename = os.path.join(data_dir, '%s_stan_dat.json' % analysis_name)\n",
    "json_file = open(json_filename, 'r')\n",
    "stan_dat = json.load(json_file)\n",
    "json_file.close()\n",
    "\n",
    "print stan_dat.keys()\n",
    "K = stan_dat['K'][0]\n",
    "NObs = stan_dat['N'][0]\n",
    "NG = stan_dat['NG'][0]\n",
    "N = NObs / NG\n",
    "y_g_vec = np.array(stan_dat['y_group'])\n",
    "y_vec = np.array(stan_dat['y'])\n",
    "x_mat = np.array(stan_dat['x'])"
   ]
  },
  {
   "cell_type": "code",
   "execution_count": 33,
   "metadata": {
    "collapsed": false
   },
   "outputs": [
    {
     "name": "stdout",
     "output_type": "stream",
     "text": [
      "[0 0 0 0 0]\n"
     ]
    }
   ],
   "source": [
    "# Define a class to contain prior parameters.\n",
    "class PriorParams(object):\n",
    "    pass\n",
    "\n",
    "PriorParams.mu_prior_mean = stan_dat['mu_prior_mean'][0]\n",
    "PriorParams.mu_prior_var = stan_dat['mu_prior_var'][0]\n",
    "\n",
    "PriorParams.beta_prior_mean = np.array(stan_dat['beta_prior_mean'])\n",
    "PriorParams.beta_prior_var = np.array(stan_dat['beta_prior_var'])\n",
    "\n",
    "PriorParams.tau_prior_beta = stan_dat['tau_prior_beta'][0]\n",
    "PriorParams.tau_prior_alpha = stan_dat['tau_prior_alpha'][0]\n",
    "\n",
    "\n",
    "print PriorParams.beta_prior_mean"
   ]
  },
  {
   "cell_type": "code",
   "execution_count": 45,
   "metadata": {
    "collapsed": false
   },
   "outputs": [
    {
     "name": "stdout",
     "output_type": "stream",
     "text": [
      "[0 4 8]\n",
      "[0 4 8]\n"
     ]
    }
   ],
   "source": [
    "foo = np.reshape(range(9), (3, 3))\n",
    "print np.diagonal(foo, offset=0, axis1=-1, axis2=-2)\n",
    "print np.diagonal(foo, offset=0, axis1=0, axis2=1)"
   ]
  },
  {
   "cell_type": "code",
   "execution_count": null,
   "metadata": {
    "collapsed": true
   },
   "outputs": [],
   "source": [
    "# Simulate data instead of loading it\n",
    "if False:\n",
    "    N = 20     # observations per group\n",
    "    K = 25      # dimension of regressors\n",
    "    NG = 500      # number of groups\n",
    "\n",
    "    # Generate data\n",
    "    def Logistic(u):\n",
    "        return np.exp(u) / (1 + np.exp(u))\n",
    "\n",
    "    NObs = NG * N\n",
    "    true_beta = np.random.rand(K) - 0.5\n",
    "    true_mu = 0.2\n",
    "    true_tau = 4.0\n",
    "    true_u = np.random.normal(true_mu, 1 / np.sqrt(true_tau), NG)\n",
    "\n",
    "    x_mat = np.random.random(K * NObs).reshape(NObs, K) - 0.5\n",
    "    y_g_vec = [ g for g in range(NG) for n in range(N) ]\n",
    "    true_rho = Logistic(np.matmul(x_mat, true_beta) + true_u[y_g_vec])\n",
    "    y_vec = np.random.random(NObs) < true_rho\n"
   ]
  },
  {
   "cell_type": "code",
   "execution_count": 14,
   "metadata": {
    "collapsed": false
   },
   "outputs": [
    {
     "name": "stdout",
     "output_type": "stream",
     "text": [
      "1000\n",
      "ModelParamsList:\n",
      "\tmu:\n",
      "mu_mean: 0.1\n",
      "mu_var: 1.0\n",
      "\ttau:\n",
      "tau_shape: 2.1\n",
      "tau_rate: 2.1\n",
      "\tbeta:\n",
      "beta_mean:\n",
      "[ 0.  0.  0.  0.  0.]\n",
      "beta_cov:\n",
      "[[ 0.2  0.   0.   0.   0. ]\n",
      " [ 0.   0.2  0.   0.   0. ]\n",
      " [ 0.   0.   0.2  0.   0. ]\n",
      " [ 0.   0.   0.   0.2  0. ]\n",
      " [ 0.   0.   0.   0.   0.2]]\n",
      "\tu:\n",
      "u_mean:\n",
      "[ 0.  0.  0.  0.  0.  0.  0.  0.  0.  0.  0.  0.  0.  0.  0.  0.  0.  0.\n",
      "  0.  0.  0.  0.  0.  0.  0.  0.  0.  0.  0.  0.  0.  0.  0.  0.  0.  0.\n",
      "  0.  0.  0.  0.  0.  0.  0.  0.  0.  0.  0.  0.  0.  0.  0.  0.  0.  0.\n",
      "  0.  0.  0.  0.  0.  0.  0.  0.  0.  0.  0.  0.  0.  0.  0.  0.  0.  0.\n",
      "  0.  0.  0.  0.  0.  0.  0.  0.  0.  0.  0.  0.  0.  0.  0.  0.  0.  0.\n",
      "  0.  0.  0.  0.  0.  0.  0.  0.  0.  0.]\n",
      "u_var:\n",
      "[ 0.1  0.1  0.1  0.1  0.1  0.1  0.1  0.1  0.1  0.1  0.1  0.1  0.1  0.1  0.1\n",
      "  0.1  0.1  0.1  0.1  0.1  0.1  0.1  0.1  0.1  0.1  0.1  0.1  0.1  0.1  0.1\n",
      "  0.1  0.1  0.1  0.1  0.1  0.1  0.1  0.1  0.1  0.1  0.1  0.1  0.1  0.1  0.1\n",
      "  0.1  0.1  0.1  0.1  0.1  0.1  0.1  0.1  0.1  0.1  0.1  0.1  0.1  0.1  0.1\n",
      "  0.1  0.1  0.1  0.1  0.1  0.1  0.1  0.1  0.1  0.1  0.1  0.1  0.1  0.1  0.1\n",
      "  0.1  0.1  0.1  0.1  0.1  0.1  0.1  0.1  0.1  0.1  0.1  0.1  0.1  0.1  0.1\n",
      "  0.1  0.1  0.1  0.1  0.1  0.1  0.1  0.1  0.1  0.1]\n"
     ]
    }
   ],
   "source": [
    "# Build an object to contain a variational approximation to a K-dimensional multivariate normal.\n",
    "glmm_par = ModelParamsDict()\n",
    "\n",
    "glmm_par.push_param(UVNParam('mu'))\n",
    "glmm_par.push_param(GammaParam('tau'))\n",
    "glmm_par.push_param(MVNParam('beta', K))\n",
    "glmm_par.push_param(UVNParamVector('u', NG))\n",
    "\n",
    "glmm_par['mu'].mean.set(0.1)\n",
    "glmm_par['mu'].var.set(1.0)\n",
    "\n",
    "glmm_par['tau'].shape.set(2.1)\n",
    "glmm_par['tau'].rate.set(2.1)\n",
    "\n",
    "glmm_par['beta'].mean.set(np.full(K, 0.))\n",
    "glmm_par['beta'].cov.set(0.2 * np.eye(K))\n",
    "\n",
    "glmm_par['u'].mean.set(np.full(NG, 0.))\n",
    "glmm_par['u'].var.set(np.full(NG, 0.1))\n",
    "    \n",
    "print N * NG\n",
    "print glmm_par"
   ]
  },
  {
   "cell_type": "code",
   "execution_count": 15,
   "metadata": {
    "collapsed": false
   },
   "outputs": [],
   "source": [
    "def DataLogLikelihood(x_mat, y_vec, e_beta, e_beta_outer, e_u, var_u, std_draws):\n",
    "    rho_mean = e_u + np.matmul(x_mat, e_beta)\n",
    "    rho_sd = np.sqrt(var_u + np.einsum('nk,kj,nj->n', x_mat, e_beta_outer, x_mat))\n",
    "    z = np.einsum('i,j->ij', rho_sd, std_draws) + np.expand_dims(rho_mean, 1)\n",
    "\n",
    "    # The sum is over observations and draws, so dividing by the draws size\n",
    "    # gives the sum of sample expectations over the draws.\n",
    "    # log(1 - p) = log(1 / (1 + exp(u))) = -log(1 + exp(u))\n",
    "    logit_term = -np.sum(np.log1p(np.exp(z))) / std_draws.size\n",
    "    y_term = np.sum(y_vec * rho_mean)\n",
    "    return y_term + logit_term\n",
    "\n",
    "\n",
    "def RandomEffectLogLikelihood(e_u, var_u, e_mu, var_mu, e_tau, e_log_tau):\n",
    "    return -0.5 * e_tau * np.sum((e_mu - e_u) ** 2 + var_mu + var_u) + \\\n",
    "           0.5 * e_log_tau * len(e_u)\n",
    "\n",
    "\n",
    "def Elbo(y_vec, x_mat, y_g_vec, glmm_par_elbo, std_draws):\n",
    "    e_beta = glmm_par_elbo['beta'].mean.get()\n",
    "    cov_beta = glmm_par_elbo['beta'].cov.get()\n",
    "    e_beta_outer = glmm_par_elbo['beta'].e_outer()\n",
    "    \n",
    "    e_u = glmm_par_elbo['u'].mean.get()\n",
    "    var_u = glmm_par_elbo['u'].var.get()\n",
    "    \n",
    "    e_mu = glmm_par_elbo['mu'].mean.get()\n",
    "    var_mu = glmm_par_elbo['mu'].var.get()\n",
    "    \n",
    "    e_tau = glmm_par_elbo['tau'].e()\n",
    "    e_log_tau = glmm_par_elbo['tau'].e_log()\n",
    "\n",
    "    ll = \\\n",
    "        DataLogLikelihood(x_mat, y_vec, e_beta, e_beta_outer,\n",
    "                          e_u[y_g_vec], var_u[y_g_vec], std_draws) + \\\n",
    "        RandomEffectLogLikelihood(e_u, var_u, e_mu, var_mu, e_tau, e_log_tau)\n",
    "\n",
    "    K = len(e_beta)\n",
    "    beta_prior_info = 0.01 * np.eye(K)\n",
    "    beta_prior_mean = np.full(K, 0.)\n",
    "    e_log_prior = \\\n",
    "        MVNPrior(beta_prior_mean, beta_prior_info, e_beta, cov_beta) + \\\n",
    "        UVNPrior(0., 0.01, e_mu, var_mu) + \\\n",
    "        GammaPrior(2.1, 3.1, e_tau, e_log_tau)\n",
    "        \n",
    "    entropy = \\\n",
    "        UnivariateNormalEntropy(var_mu) + \\\n",
    "        MultivariateNormalEntropy(cov_beta) + \\\n",
    "        UnivariateNormalEntropy(var_u) + \\\n",
    "        GammaEntropy(glmm_par_elbo['tau'].shape.get(), glmm_par_elbo['tau'].rate.get())\n",
    "\n",
    "    return ll + e_log_prior + entropy\n",
    "\n",
    "\n",
    "class KLWrapper():\n",
    "    def __init__(self, glmm_par, x_mat, y_vec, y_g_vec, num_draws):\n",
    "        self.__glmm_par_ad = copy.deepcopy(glmm_par)\n",
    "        self.x_mat = x_mat\n",
    "        self.y_vec = y_vec\n",
    "        self.y_g_vec = y_g_vec\n",
    "        draw_spacing = 1 / float(num_draws + 1)\n",
    "        target_quantiles = np.linspace(draw_spacing, 1 - draw_spacing, num_draws)\n",
    "        self.std_draws = sp.stats.norm.ppf(target_quantiles)\n",
    "    def Eval(self, free_par_vec, verbose=False):\n",
    "        self.__glmm_par_ad.set_free(free_par_vec)\n",
    "        kl = -Elbo(self.y_vec, self.x_mat, self.y_g_vec,\n",
    "                   self.__glmm_par_ad, std_draws=self.std_draws)\n",
    "        if verbose: print kl\n",
    "            \n",
    "        # TODO: this is returning an array when it should be a scalar.\n",
    "        return kl\n",
    "    \n",
    "    # Return a posterior moment of interest as a function of\n",
    "    # unconstrained parameters.  In this case it is a bit silly,\n",
    "    # but in full generality posterior moments may be a complicated\n",
    "    # function of moment parameters.\n",
    "    def GetMoments(self, free_par_vec):\n",
    "        self.__glmm_par_ad.set_free(free_par_vec)\n",
    "        return self.__glmm_par_ad['beta'].mean.get()\n",
    "\n"
   ]
  },
  {
   "cell_type": "code",
   "execution_count": 16,
   "metadata": {
    "collapsed": false
   },
   "outputs": [
    {
     "data": {
      "text/plain": [
       "array([ 932.54079576])"
      ]
     },
     "execution_count": 16,
     "metadata": {},
     "output_type": "execute_result"
    }
   ],
   "source": [
    "kl_wrapper = KLWrapper(glmm_par, x_mat, y_vec, y_g_vec, 10)\n",
    "KLGrad = grad(kl_wrapper.Eval)\n",
    "KLHess = hessian(kl_wrapper.Eval)\n",
    "MomentJacobian = jacobian(kl_wrapper.GetMoments)\n",
    "KLHessVecProd = hessian_vector_product(kl_wrapper.Eval)  \n",
    "free_par_vec = glmm_par.get_free()\n",
    "kl_wrapper.Eval(free_par_vec)"
   ]
  },
  {
   "cell_type": "code",
   "execution_count": 17,
   "metadata": {
    "collapsed": false
   },
   "outputs": [
    {
     "name": "stdout",
     "output_type": "stream",
     "text": [
      "Function time:\n",
      "0.00209040641785\n",
      "Grad time:\n",
      "0.00862188339233\n",
      "Hessian vector product time:\n",
      "0.0166306972504\n"
     ]
    }
   ],
   "source": [
    "import timeit\n",
    "\n",
    "time_num = 10\n",
    "\n",
    "print 'Function time:'\n",
    "print timeit.timeit(lambda: kl_wrapper.Eval(free_par_vec), number=time_num) / time_num\n",
    "\n",
    "print 'Grad time:'\n",
    "print timeit.timeit(lambda: KLGrad(free_par_vec), number=time_num) / time_num\n",
    "\n",
    "print 'Hessian vector product time:'\n",
    "print timeit.timeit(lambda: KLHessVecProd(free_par_vec, free_par_vec + 1), number=time_num) / time_num\n",
    "\n",
    "# so slow\n",
    "# print 'Hessian time:'\n",
    "# print timeit.timeit(lambda: KLHess(free_par_vec), number=time_num) / time_num\n"
   ]
  },
  {
   "cell_type": "code",
   "execution_count": 18,
   "metadata": {
    "collapsed": false
   },
   "outputs": [
    {
     "name": "stdout",
     "output_type": "stream",
     "text": [
      "Running BFGS\n",
      "[ 932.54079576]\n",
      "[ 697.8179427]\n",
      "[ 1151.68450581]\n",
      "[ 654.32213575]\n",
      "[ 586.38182855]\n",
      "[ 565.78919076]\n",
      "[ 545.89465189]\n",
      "[ 568.28345224]\n",
      "[ 538.65921226]\n",
      "[ 531.01406411]\n",
      "[ 551.22447624]\n",
      "[ 529.49173244]\n",
      "[ 526.79661475]\n",
      "[ 521.79201663]\n",
      "[ 512.66664719]\n",
      "[ 506.37020346]\n",
      "[ 506.96861039]\n",
      "[ 503.98543066]\n",
      "[ 499.98240931]\n",
      "[ 493.08166582]\n",
      "[ 489.6193131]\n",
      "[ 484.30893812]\n",
      "[ 474.505217]\n",
      "[ 482.39526397]\n",
      "[ 471.15904276]\n",
      "[ 466.46139106]\n",
      "[ 458.59100826]\n",
      "[ 453.13821856]\n",
      "[ 445.09963222]\n",
      "[ 441.39582233]\n",
      "[ 441.53881632]\n",
      "[ 439.65540535]\n",
      "[ 436.37893917]\n",
      "[ 435.63275647]\n",
      "[ 434.18614553]\n",
      "[ 429.58659268]\n",
      "[ 426.56226799]\n",
      "[ 427.90216723]\n",
      "[ 425.31895326]\n",
      "[ 423.12990291]\n",
      "[ 423.36663264]\n",
      "[ 422.08379646]\n",
      "[ 420.7488758]\n",
      "[ 419.47063459]\n",
      "[ 439.73672877]\n",
      "[ 419.42668995]\n",
      "[ 419.347366]\n",
      "[ 419.24866627]\n",
      "[ 419.10612583]\n",
      "[ 419.21794698]\n",
      "[ 419.07610771]\n",
      "[ 419.03320084]\n",
      "[ 418.98659949]\n",
      "[ 419.03409459]\n",
      "[ 418.97093191]\n",
      "[ 418.94162145]\n",
      "[ 418.89531222]\n",
      "[ 418.81438355]\n",
      "[ 418.6930396]\n",
      "[ 418.69023783]\n",
      "[ 418.63165974]\n",
      "[ 418.53892235]\n",
      "[ 418.6460617]\n",
      "[ 418.50969901]\n",
      "[ 418.45862464]\n",
      "[ 418.39561329]\n",
      "[ 418.33905837]\n",
      "[ 418.30558032]\n",
      "[ 418.27200591]\n",
      "[ 418.21632477]\n",
      "[ 418.18838674]\n",
      "[ 418.13804503]\n",
      "[ 418.05781173]\n",
      "[ 418.00186405]\n",
      "[ 417.92208769]\n",
      "[ 417.98837845]\n",
      "[ 417.89542181]\n",
      "[ 417.85183294]\n",
      "[ 417.79066933]\n",
      "[ 417.77309486]\n",
      "[ 417.74222216]\n",
      "[ 417.69217066]\n",
      "[ 417.71007778]\n",
      "[ 417.67096045]\n",
      "[ 417.63891769]\n",
      "[ 417.6200634]\n",
      "[ 417.60436372]\n",
      "[ 417.59021337]\n",
      "[ 417.58204889]\n",
      "[ 417.56981238]\n",
      "[ 417.55831158]\n",
      "[ 417.57184521]\n",
      "[ 417.55471146]\n",
      "[ 417.54860491]\n",
      "[ 417.54551232]\n",
      "[ 417.54078033]\n",
      "[ 417.53840873]\n",
      "[ 417.53956398]\n",
      "[ 417.53744703]\n",
      "[ 417.5362087]\n",
      "[ 417.53431555]\n",
      "[ 417.53113091]\n",
      "[ 417.52572509]\n",
      "[ 417.52015467]\n",
      "[ 417.51130679]\n",
      "[ 417.50113869]\n",
      "[ 417.49177268]\n",
      "[ 417.48379211]\n",
      "[ 417.47932669]\n",
      "[ 417.47617794]\n",
      "[ 417.47688243]\n",
      "[ 417.47473472]\n",
      "[ 417.47449953]\n",
      "[ 417.47407577]\n",
      "[ 417.47375878]\n",
      "[ 417.47333245]\n",
      "[ 417.47330257]\n",
      "[ 417.47326641]\n",
      "[ 417.47324925]\n",
      "Running Newton Trust Region\n",
      "[ 417.47324925]\n",
      "[ 417.4732463]\n",
      "[ 417.47324431]\n",
      "Done.\n"
     ]
    }
   ],
   "source": [
    "import time\n",
    "\n",
    "init_par_vec = free_par_vec\n",
    "\n",
    "# Optimize.\n",
    "vb_time = time.time()\n",
    "print 'Running BFGS'\n",
    "vb_opt_bfgs = optimize.minimize(\n",
    "    lambda par: kl_wrapper.Eval(par, verbose=True), init_par_vec,\n",
    "    method='bfgs', jac=KLGrad, tol=1e-2)\n",
    "\n",
    "init_par_vec = free_par_vec\n",
    "print 'Running Newton Trust Region'\n",
    "vb_opt = optimize.minimize(\n",
    "    lambda par: kl_wrapper.Eval(par, verbose=True),\n",
    "    vb_opt_bfgs.x, method='trust-ncg', jac=KLGrad, hessp=KLHessVecProd, options={'maxiter': 5000})\n",
    "\n",
    "vb_time = time.time() - vb_time\n",
    "\n",
    "glmm_par_opt = copy.deepcopy(glmm_par)\n",
    "glmm_par_opt.set_free(vb_opt.x)\n",
    "print 'Done.'"
   ]
  },
  {
   "cell_type": "code",
   "execution_count": 19,
   "metadata": {
    "collapsed": false
   },
   "outputs": [
    {
     "name": "stdout",
     "output_type": "stream",
     "text": [
      "0.037557053566\n"
     ]
    }
   ],
   "source": [
    "print vb_time / 60"
   ]
  },
  {
   "cell_type": "code",
   "execution_count": 20,
   "metadata": {
    "collapsed": false
   },
   "outputs": [
    {
     "ename": "NameError",
     "evalue": "name 'true_u' is not defined",
     "output_type": "error",
     "traceback": [
      "\u001b[1;31m---------------------------------------------------------------------------\u001b[0m",
      "\u001b[1;31mNameError\u001b[0m                                 Traceback (most recent call last)",
      "\u001b[1;32m<ipython-input-20-a0c94e878b6c>\u001b[0m in \u001b[0;36m<module>\u001b[1;34m()\u001b[0m\n\u001b[0;32m      4\u001b[0m \u001b[0mget_ipython\u001b[0m\u001b[1;33m(\u001b[0m\u001b[1;33m)\u001b[0m\u001b[1;33m.\u001b[0m\u001b[0mmagic\u001b[0m\u001b[1;33m(\u001b[0m\u001b[1;34mu'matplotlib inline'\u001b[0m\u001b[1;33m)\u001b[0m\u001b[1;33m\u001b[0m\u001b[0m\n\u001b[0;32m      5\u001b[0m \u001b[1;33m\u001b[0m\u001b[0m\n\u001b[1;32m----> 6\u001b[1;33m \u001b[0mplot_df\u001b[0m \u001b[1;33m=\u001b[0m \u001b[0mpd\u001b[0m\u001b[1;33m.\u001b[0m\u001b[0mDataFrame\u001b[0m\u001b[1;33m(\u001b[0m\u001b[1;33m{\u001b[0m \u001b[1;34m'opt'\u001b[0m\u001b[1;33m:\u001b[0m \u001b[0mglmm_par_opt\u001b[0m\u001b[1;33m[\u001b[0m\u001b[1;34m'u'\u001b[0m\u001b[1;33m]\u001b[0m\u001b[1;33m.\u001b[0m\u001b[0mmean\u001b[0m\u001b[1;33m.\u001b[0m\u001b[0mget\u001b[0m\u001b[1;33m(\u001b[0m\u001b[1;33m)\u001b[0m\u001b[1;33m,\u001b[0m \u001b[1;34m'true'\u001b[0m\u001b[1;33m:\u001b[0m \u001b[0mtrue_u\u001b[0m \u001b[1;33m}\u001b[0m\u001b[1;33m)\u001b[0m\u001b[1;33m\u001b[0m\u001b[0m\n\u001b[0m\u001b[0;32m      7\u001b[0m \u001b[0mggplot\u001b[0m\u001b[1;33m(\u001b[0m\u001b[0mplot_df\u001b[0m\u001b[1;33m,\u001b[0m \u001b[0maes\u001b[0m\u001b[1;33m(\u001b[0m\u001b[0mx\u001b[0m\u001b[1;33m=\u001b[0m\u001b[1;34m'true'\u001b[0m\u001b[1;33m,\u001b[0m \u001b[0my\u001b[0m\u001b[1;33m=\u001b[0m\u001b[1;34m'opt'\u001b[0m\u001b[1;33m)\u001b[0m\u001b[1;33m)\u001b[0m \u001b[1;33m+\u001b[0m \u001b[0mgeom_point\u001b[0m\u001b[1;33m(\u001b[0m\u001b[1;33m)\u001b[0m \u001b[1;33m+\u001b[0m \u001b[0mgeom_abline\u001b[0m\u001b[1;33m(\u001b[0m\u001b[0mslope\u001b[0m\u001b[1;33m=\u001b[0m\u001b[1;36m1\u001b[0m\u001b[1;33m,\u001b[0m \u001b[0mintercept\u001b[0m\u001b[1;33m=\u001b[0m\u001b[1;36m0\u001b[0m\u001b[1;33m)\u001b[0m\u001b[1;33m\u001b[0m\u001b[0m\n",
      "\u001b[1;31mNameError\u001b[0m: name 'true_u' is not defined"
     ]
    }
   ],
   "source": [
    "# Check the random effect estimates.  This requires simulated data.\n",
    "from ggplot import *\n",
    "import pandas as pd\n",
    "%matplotlib inline\n",
    "\n",
    "plot_df = pd.DataFrame({ 'opt': glmm_par_opt['u'].mean.get(), 'true': true_u })\n",
    "ggplot(plot_df, aes(x='true', y='opt')) + geom_point() + geom_abline(slope=1, intercept=0)"
   ]
  },
  {
   "cell_type": "code",
   "execution_count": 22,
   "metadata": {
    "collapsed": false
   },
   "outputs": [
    {
     "name": "stdout",
     "output_type": "stream",
     "text": [
      ".....all done dude\n"
     ]
    }
   ],
   "source": [
    "# LRVB with conjugate gradient\n",
    "from scipy.sparse.linalg import LinearOperator\n",
    "import sys\n",
    "\n",
    "# The we will actually compute Hess^1 * moment_jac.T, leading to perhaps confusing\n",
    "# naming of \"columns\".  \n",
    "moment_jac = MomentJacobian(vb_opt.x)\n",
    "ObjHessVecProdLO = LinearOperator((vb_opt.x.size, vb_opt.x.size), lambda par: KLHessVecProd(vb_opt.x, par))\n",
    "# print moment_jac.T.shape\n",
    "# print ObjHessVecProdLO.shape\n",
    "# cg_res, info = scipy.sparse.linalg.cg(ObjHessVecProdLO, moment_jac.T)\n",
    "\n",
    "cg_time = timeit.timeit()\n",
    "lrvb_term = np.full(moment_jac.T.shape, float('nan'))\n",
    "for col in range(moment_jac.shape[0]):\n",
    "    sys.stdout.write('.')\n",
    "    sys.stdout.flush()\n",
    "    cg_res, info = sp.sparse.linalg.cg(ObjHessVecProdLO, moment_jac[col, :])\n",
    "    assert info == 0\n",
    "    lrvb_term[:, col] = cg_res\n",
    "cg_time = timeit.timeit() - cg_time\n",
    "\n",
    "print 'all done dude'"
   ]
  },
  {
   "cell_type": "code",
   "execution_count": 23,
   "metadata": {
    "collapsed": true
   },
   "outputs": [],
   "source": [
    "# Slow, but maybe faster than using CG.\n",
    "hess_time = timeit.timeit()\n",
    "kl_hess = KLHess(vb_opt.x)\n",
    "hess_time =  timeit.timeit() - hess_time"
   ]
  },
  {
   "cell_type": "code",
   "execution_count": 24,
   "metadata": {
    "collapsed": false
   },
   "outputs": [
    {
     "name": "stdout",
     "output_type": "stream",
     "text": [
      "(224, 224)\n",
      "(5, 224)\n",
      "[ 0.01833327  0.01884971  0.02760428  0.02634218  0.03285991]\n",
      "[ 0.01833327  0.01884971  0.02760428  0.02634218  0.03285991]\n",
      "[ 0.03155264  0.02984462  0.03841135  0.03356363  0.03436673]\n"
     ]
    }
   ],
   "source": [
    "print kl_hess[0,:,:].shape\n",
    "print moment_jac.shape\n",
    "\n",
    "beta_cov_hess = np.matmul(moment_jac, np.linalg.solve(kl_hess[0, :, :], moment_jac.T))\n",
    "beta_cov = np.matmul(moment_jac, lrvb_term)\n",
    "print np.diag(beta_cov)\n",
    "print np.diag(beta_cov_hess)\n",
    "print np.diag(glmm_par_opt['beta'].cov.get())"
   ]
  }
 ],
 "metadata": {
  "kernelspec": {
   "display_name": "Python [Root]",
   "language": "python",
   "name": "Python [Root]"
  },
  "language_info": {
   "codemirror_mode": {
    "name": "ipython",
    "version": 2
   },
   "file_extension": ".py",
   "mimetype": "text/x-python",
   "name": "python",
   "nbconvert_exporter": "python",
   "pygments_lexer": "ipython2",
   "version": "2.7.12"
  }
 },
 "nbformat": 4,
 "nbformat_minor": 0
}
